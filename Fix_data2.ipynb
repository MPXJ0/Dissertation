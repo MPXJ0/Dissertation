{
 "cells": [
  {
   "cell_type": "code",
   "execution_count": 1,
   "id": "4ce5c875",
   "metadata": {},
   "outputs": [],
   "source": [
    "import pandas as pd\n",
    "import numpy as np"
   ]
  },
  {
   "cell_type": "code",
   "execution_count": 43,
   "id": "83d86bd0",
   "metadata": {},
   "outputs": [
    {
     "data": {
      "text/plain": [
       "(array([8416, 9432], dtype=int64),)"
      ]
     },
     "execution_count": 43,
     "metadata": {},
     "output_type": "execute_result"
    }
   ],
   "source": [
    "pd.isnull(test).any(axis=1).to_numpy().nonzero()"
   ]
  },
  {
   "cell_type": "code",
   "execution_count": 68,
   "id": "a3632ba3",
   "metadata": {},
   "outputs": [
    {
     "data": {
      "text/plain": [
       "(array([8416, 9432], dtype=int64),)"
      ]
     },
     "execution_count": 68,
     "metadata": {},
     "output_type": "execute_result"
    }
   ],
   "source": [
    "test.isna().any(1).to_numpy().nonzero()"
   ]
  },
  {
   "cell_type": "code",
   "execution_count": null,
   "id": "9591c2bd",
   "metadata": {},
   "outputs": [],
   "source": []
  },
  {
   "cell_type": "code",
   "execution_count": null,
   "id": "45e4b7b7",
   "metadata": {},
   "outputs": [],
   "source": []
  },
  {
   "cell_type": "code",
   "execution_count": 35,
   "id": "f5157abd",
   "metadata": {},
   "outputs": [
    {
     "data": {
      "text/html": [
       "<div>\n",
       "<style scoped>\n",
       "    .dataframe tbody tr th:only-of-type {\n",
       "        vertical-align: middle;\n",
       "    }\n",
       "\n",
       "    .dataframe tbody tr th {\n",
       "        vertical-align: top;\n",
       "    }\n",
       "\n",
       "    .dataframe thead th {\n",
       "        text-align: right;\n",
       "    }\n",
       "</style>\n",
       "<table border=\"1\" class=\"dataframe\">\n",
       "  <thead>\n",
       "    <tr style=\"text-align: right;\">\n",
       "      <th></th>\n",
       "      <th>local_datetime</th>\n",
       "      <th>settlementPeriod</th>\n",
       "      <th>imbalanceQuantityMAW</th>\n",
       "    </tr>\n",
       "  </thead>\n",
       "  <tbody>\n",
       "    <tr>\n",
       "      <th>0</th>\n",
       "      <td>2021-01-01 00:00:00+00:00</td>\n",
       "      <td>1</td>\n",
       "      <td>843.6931</td>\n",
       "    </tr>\n",
       "    <tr>\n",
       "      <th>1</th>\n",
       "      <td>2021-01-01 00:30:00+00:00</td>\n",
       "      <td>2</td>\n",
       "      <td>934.5820</td>\n",
       "    </tr>\n",
       "    <tr>\n",
       "      <th>2</th>\n",
       "      <td>2021-01-01 01:00:00+00:00</td>\n",
       "      <td>3</td>\n",
       "      <td>604.7328</td>\n",
       "    </tr>\n",
       "    <tr>\n",
       "      <th>3</th>\n",
       "      <td>2021-01-01 01:30:00+00:00</td>\n",
       "      <td>4</td>\n",
       "      <td>307.3387</td>\n",
       "    </tr>\n",
       "    <tr>\n",
       "      <th>4</th>\n",
       "      <td>2021-01-01 02:00:00+00:00</td>\n",
       "      <td>5</td>\n",
       "      <td>48.8845</td>\n",
       "    </tr>\n",
       "    <tr>\n",
       "      <th>...</th>\n",
       "      <td>...</td>\n",
       "      <td>...</td>\n",
       "      <td>...</td>\n",
       "    </tr>\n",
       "    <tr>\n",
       "      <th>5753</th>\n",
       "      <td>2021-04-30 21:30:00+01:00</td>\n",
       "      <td>44</td>\n",
       "      <td>224.0560</td>\n",
       "    </tr>\n",
       "    <tr>\n",
       "      <th>5754</th>\n",
       "      <td>2021-04-30 22:00:00+01:00</td>\n",
       "      <td>45</td>\n",
       "      <td>315.6673</td>\n",
       "    </tr>\n",
       "    <tr>\n",
       "      <th>5755</th>\n",
       "      <td>2021-04-30 22:30:00+01:00</td>\n",
       "      <td>46</td>\n",
       "      <td>165.2474</td>\n",
       "    </tr>\n",
       "    <tr>\n",
       "      <th>5756</th>\n",
       "      <td>2021-04-30 23:00:00+01:00</td>\n",
       "      <td>47</td>\n",
       "      <td>261.7062</td>\n",
       "    </tr>\n",
       "    <tr>\n",
       "      <th>5757</th>\n",
       "      <td>2021-04-30 23:30:00+01:00</td>\n",
       "      <td>48</td>\n",
       "      <td>395.0930</td>\n",
       "    </tr>\n",
       "  </tbody>\n",
       "</table>\n",
       "<p>5758 rows × 3 columns</p>\n",
       "</div>"
      ],
      "text/plain": [
       "                 local_datetime  settlementPeriod  imbalanceQuantityMAW\n",
       "0     2021-01-01 00:00:00+00:00                 1              843.6931\n",
       "1     2021-01-01 00:30:00+00:00                 2              934.5820\n",
       "2     2021-01-01 01:00:00+00:00                 3              604.7328\n",
       "3     2021-01-01 01:30:00+00:00                 4              307.3387\n",
       "4     2021-01-01 02:00:00+00:00                 5               48.8845\n",
       "...                         ...               ...                   ...\n",
       "5753  2021-04-30 21:30:00+01:00                44              224.0560\n",
       "5754  2021-04-30 22:00:00+01:00                45              315.6673\n",
       "5755  2021-04-30 22:30:00+01:00                46              165.2474\n",
       "5756  2021-04-30 23:00:00+01:00                47              261.7062\n",
       "5757  2021-04-30 23:30:00+01:00                48              395.0930\n",
       "\n",
       "[5758 rows x 3 columns]"
      ]
     },
     "execution_count": 35,
     "metadata": {},
     "output_type": "execute_result"
    }
   ],
   "source": [
    "df = pd.read_csv('BMRS_2021/Imbalance_Volume_2021.csv')\n",
    "df"
   ]
  },
  {
   "cell_type": "code",
   "execution_count": 31,
   "id": "cd5b1e3f",
   "metadata": {},
   "outputs": [
    {
     "data": {
      "text/plain": [
       "(array([], dtype=int64),)"
      ]
     },
     "execution_count": 31,
     "metadata": {},
     "output_type": "execute_result"
    }
   ],
   "source": [
    "df.duplicated(subset=['local_datetime','settlementPeriod']).to_numpy().nonzero()"
   ]
  },
  {
   "cell_type": "code",
   "execution_count": 36,
   "id": "33a45156",
   "metadata": {},
   "outputs": [
    {
     "data": {
      "text/html": [
       "<div>\n",
       "<style scoped>\n",
       "    .dataframe tbody tr th:only-of-type {\n",
       "        vertical-align: middle;\n",
       "    }\n",
       "\n",
       "    .dataframe tbody tr th {\n",
       "        vertical-align: top;\n",
       "    }\n",
       "\n",
       "    .dataframe thead th {\n",
       "        text-align: right;\n",
       "    }\n",
       "</style>\n",
       "<table border=\"1\" class=\"dataframe\">\n",
       "  <thead>\n",
       "    <tr style=\"text-align: right;\">\n",
       "      <th></th>\n",
       "      <th>local_datetime</th>\n",
       "      <th>imbalanceQuantityMAW</th>\n",
       "    </tr>\n",
       "  </thead>\n",
       "  <tbody>\n",
       "    <tr>\n",
       "      <th>0</th>\n",
       "      <td>2021-01-01 00:00:00+00:00</td>\n",
       "      <td>843.6931</td>\n",
       "    </tr>\n",
       "    <tr>\n",
       "      <th>1</th>\n",
       "      <td>2021-01-01 00:30:00+00:00</td>\n",
       "      <td>934.5820</td>\n",
       "    </tr>\n",
       "    <tr>\n",
       "      <th>2</th>\n",
       "      <td>2021-01-01 01:00:00+00:00</td>\n",
       "      <td>604.7328</td>\n",
       "    </tr>\n",
       "    <tr>\n",
       "      <th>3</th>\n",
       "      <td>2021-01-01 01:30:00+00:00</td>\n",
       "      <td>307.3387</td>\n",
       "    </tr>\n",
       "    <tr>\n",
       "      <th>4</th>\n",
       "      <td>2021-01-01 02:00:00+00:00</td>\n",
       "      <td>48.8845</td>\n",
       "    </tr>\n",
       "    <tr>\n",
       "      <th>...</th>\n",
       "      <td>...</td>\n",
       "      <td>...</td>\n",
       "    </tr>\n",
       "    <tr>\n",
       "      <th>5753</th>\n",
       "      <td>2021-04-30 21:30:00+01:00</td>\n",
       "      <td>224.0560</td>\n",
       "    </tr>\n",
       "    <tr>\n",
       "      <th>5754</th>\n",
       "      <td>2021-04-30 22:00:00+01:00</td>\n",
       "      <td>315.6673</td>\n",
       "    </tr>\n",
       "    <tr>\n",
       "      <th>5755</th>\n",
       "      <td>2021-04-30 22:30:00+01:00</td>\n",
       "      <td>165.2474</td>\n",
       "    </tr>\n",
       "    <tr>\n",
       "      <th>5756</th>\n",
       "      <td>2021-04-30 23:00:00+01:00</td>\n",
       "      <td>261.7062</td>\n",
       "    </tr>\n",
       "    <tr>\n",
       "      <th>5757</th>\n",
       "      <td>2021-04-30 23:30:00+01:00</td>\n",
       "      <td>395.0930</td>\n",
       "    </tr>\n",
       "  </tbody>\n",
       "</table>\n",
       "<p>5758 rows × 2 columns</p>\n",
       "</div>"
      ],
      "text/plain": [
       "                 local_datetime  imbalanceQuantityMAW\n",
       "0     2021-01-01 00:00:00+00:00              843.6931\n",
       "1     2021-01-01 00:30:00+00:00              934.5820\n",
       "2     2021-01-01 01:00:00+00:00              604.7328\n",
       "3     2021-01-01 01:30:00+00:00              307.3387\n",
       "4     2021-01-01 02:00:00+00:00               48.8845\n",
       "...                         ...                   ...\n",
       "5753  2021-04-30 21:30:00+01:00              224.0560\n",
       "5754  2021-04-30 22:00:00+01:00              315.6673\n",
       "5755  2021-04-30 22:30:00+01:00              165.2474\n",
       "5756  2021-04-30 23:00:00+01:00              261.7062\n",
       "5757  2021-04-30 23:30:00+01:00              395.0930\n",
       "\n",
       "[5758 rows x 2 columns]"
      ]
     },
     "execution_count": 36,
     "metadata": {},
     "output_type": "execute_result"
    }
   ],
   "source": [
    "df1 = df.drop_duplicates(subset=['local_datetime', 'settlementPeriod'],keep='first')\n",
    "df2 = df1[['local_datetime','quantity']]\n",
    "df2"
   ]
  },
  {
   "cell_type": "code",
   "execution_count": 8,
   "id": "72e1cd20",
   "metadata": {},
   "outputs": [],
   "source": [
    "gd = pd.read_csv('BMRS_2021/Actual_Solar_Generation_2021.csv')"
   ]
  },
  {
   "cell_type": "code",
   "execution_count": 9,
   "id": "f5a95e07",
   "metadata": {},
   "outputs": [
    {
     "data": {
      "text/html": [
       "<div>\n",
       "<style scoped>\n",
       "    .dataframe tbody tr th:only-of-type {\n",
       "        vertical-align: middle;\n",
       "    }\n",
       "\n",
       "    .dataframe tbody tr th {\n",
       "        vertical-align: top;\n",
       "    }\n",
       "\n",
       "    .dataframe thead th {\n",
       "        text-align: right;\n",
       "    }\n",
       "</style>\n",
       "<table border=\"1\" class=\"dataframe\">\n",
       "  <thead>\n",
       "    <tr style=\"text-align: right;\">\n",
       "      <th></th>\n",
       "      <th>local_datetime</th>\n",
       "      <th>settlementPeriod</th>\n",
       "      <th>quantity</th>\n",
       "    </tr>\n",
       "  </thead>\n",
       "  <tbody>\n",
       "    <tr>\n",
       "      <th>0</th>\n",
       "      <td>2021-01-01 00:00:00+00:00</td>\n",
       "      <td>1</td>\n",
       "      <td>0</td>\n",
       "    </tr>\n",
       "    <tr>\n",
       "      <th>1</th>\n",
       "      <td>2021-01-01 00:30:00+00:00</td>\n",
       "      <td>2</td>\n",
       "      <td>1</td>\n",
       "    </tr>\n",
       "    <tr>\n",
       "      <th>2</th>\n",
       "      <td>2021-01-01 01:00:00+00:00</td>\n",
       "      <td>3</td>\n",
       "      <td>1</td>\n",
       "    </tr>\n",
       "    <tr>\n",
       "      <th>3</th>\n",
       "      <td>2021-01-01 01:30:00+00:00</td>\n",
       "      <td>4</td>\n",
       "      <td>0</td>\n",
       "    </tr>\n",
       "    <tr>\n",
       "      <th>4</th>\n",
       "      <td>2021-01-01 02:00:00+00:00</td>\n",
       "      <td>5</td>\n",
       "      <td>0</td>\n",
       "    </tr>\n",
       "    <tr>\n",
       "      <th>...</th>\n",
       "      <td>...</td>\n",
       "      <td>...</td>\n",
       "      <td>...</td>\n",
       "    </tr>\n",
       "    <tr>\n",
       "      <th>5753</th>\n",
       "      <td>2021-04-30 21:30:00+01:00</td>\n",
       "      <td>44</td>\n",
       "      <td>2</td>\n",
       "    </tr>\n",
       "    <tr>\n",
       "      <th>5754</th>\n",
       "      <td>2021-04-30 22:00:00+01:00</td>\n",
       "      <td>45</td>\n",
       "      <td>1</td>\n",
       "    </tr>\n",
       "    <tr>\n",
       "      <th>5755</th>\n",
       "      <td>2021-04-30 22:30:00+01:00</td>\n",
       "      <td>46</td>\n",
       "      <td>0</td>\n",
       "    </tr>\n",
       "    <tr>\n",
       "      <th>5756</th>\n",
       "      <td>2021-04-30 23:00:00+01:00</td>\n",
       "      <td>47</td>\n",
       "      <td>1</td>\n",
       "    </tr>\n",
       "    <tr>\n",
       "      <th>5757</th>\n",
       "      <td>2021-04-30 23:30:00+01:00</td>\n",
       "      <td>48</td>\n",
       "      <td>1</td>\n",
       "    </tr>\n",
       "  </tbody>\n",
       "</table>\n",
       "<p>5758 rows × 3 columns</p>\n",
       "</div>"
      ],
      "text/plain": [
       "                 local_datetime  settlementPeriod  quantity\n",
       "0     2021-01-01 00:00:00+00:00                 1         0\n",
       "1     2021-01-01 00:30:00+00:00                 2         1\n",
       "2     2021-01-01 01:00:00+00:00                 3         1\n",
       "3     2021-01-01 01:30:00+00:00                 4         0\n",
       "4     2021-01-01 02:00:00+00:00                 5         0\n",
       "...                         ...               ...       ...\n",
       "5753  2021-04-30 21:30:00+01:00                44         2\n",
       "5754  2021-04-30 22:00:00+01:00                45         1\n",
       "5755  2021-04-30 22:30:00+01:00                46         0\n",
       "5756  2021-04-30 23:00:00+01:00                47         1\n",
       "5757  2021-04-30 23:30:00+01:00                48         1\n",
       "\n",
       "[5758 rows x 3 columns]"
      ]
     },
     "execution_count": 9,
     "metadata": {},
     "output_type": "execute_result"
    }
   ],
   "source": [
    "gd.drop_duplicates(subset=['local_datetime', 'settlementPeriod'])"
   ]
  },
  {
   "cell_type": "code",
   "execution_count": 25,
   "id": "0544fbac",
   "metadata": {},
   "outputs": [
    {
     "data": {
      "text/html": [
       "<div>\n",
       "<style scoped>\n",
       "    .dataframe tbody tr th:only-of-type {\n",
       "        vertical-align: middle;\n",
       "    }\n",
       "\n",
       "    .dataframe tbody tr th {\n",
       "        vertical-align: top;\n",
       "    }\n",
       "\n",
       "    .dataframe thead th {\n",
       "        text-align: right;\n",
       "    }\n",
       "</style>\n",
       "<table border=\"1\" class=\"dataframe\">\n",
       "  <thead>\n",
       "    <tr style=\"text-align: right;\">\n",
       "      <th></th>\n",
       "      <th>local_datetime</th>\n",
       "      <th>settlementPeriod</th>\n",
       "      <th>quantity_x</th>\n",
       "      <th>quantity_y</th>\n",
       "    </tr>\n",
       "  </thead>\n",
       "  <tbody>\n",
       "    <tr>\n",
       "      <th>0</th>\n",
       "      <td>2021-01-01 00:00:00+00:00</td>\n",
       "      <td>1</td>\n",
       "      <td>0</td>\n",
       "      <td>30006</td>\n",
       "    </tr>\n",
       "    <tr>\n",
       "      <th>1</th>\n",
       "      <td>2021-01-01 00:30:00+00:00</td>\n",
       "      <td>2</td>\n",
       "      <td>1</td>\n",
       "      <td>29911</td>\n",
       "    </tr>\n",
       "    <tr>\n",
       "      <th>2</th>\n",
       "      <td>2021-01-01 01:00:00+00:00</td>\n",
       "      <td>3</td>\n",
       "      <td>1</td>\n",
       "      <td>29209</td>\n",
       "    </tr>\n",
       "    <tr>\n",
       "      <th>3</th>\n",
       "      <td>2021-01-01 01:30:00+00:00</td>\n",
       "      <td>4</td>\n",
       "      <td>0</td>\n",
       "      <td>28041</td>\n",
       "    </tr>\n",
       "    <tr>\n",
       "      <th>4</th>\n",
       "      <td>2021-01-01 02:00:00+00:00</td>\n",
       "      <td>5</td>\n",
       "      <td>0</td>\n",
       "      <td>27243</td>\n",
       "    </tr>\n",
       "    <tr>\n",
       "      <th>...</th>\n",
       "      <td>...</td>\n",
       "      <td>...</td>\n",
       "      <td>...</td>\n",
       "      <td>...</td>\n",
       "    </tr>\n",
       "    <tr>\n",
       "      <th>5753</th>\n",
       "      <td>2021-04-30 21:30:00+01:00</td>\n",
       "      <td>44</td>\n",
       "      <td>2</td>\n",
       "      <td>31810</td>\n",
       "    </tr>\n",
       "    <tr>\n",
       "      <th>5754</th>\n",
       "      <td>2021-04-30 22:00:00+01:00</td>\n",
       "      <td>45</td>\n",
       "      <td>1</td>\n",
       "      <td>30150</td>\n",
       "    </tr>\n",
       "    <tr>\n",
       "      <th>5755</th>\n",
       "      <td>2021-04-30 22:30:00+01:00</td>\n",
       "      <td>46</td>\n",
       "      <td>0</td>\n",
       "      <td>28291</td>\n",
       "    </tr>\n",
       "    <tr>\n",
       "      <th>5756</th>\n",
       "      <td>2021-04-30 23:00:00+01:00</td>\n",
       "      <td>47</td>\n",
       "      <td>1</td>\n",
       "      <td>26626</td>\n",
       "    </tr>\n",
       "    <tr>\n",
       "      <th>5757</th>\n",
       "      <td>2021-04-30 23:30:00+01:00</td>\n",
       "      <td>48</td>\n",
       "      <td>1</td>\n",
       "      <td>25379</td>\n",
       "    </tr>\n",
       "  </tbody>\n",
       "</table>\n",
       "<p>5758 rows × 4 columns</p>\n",
       "</div>"
      ],
      "text/plain": [
       "                 local_datetime  settlementPeriod  quantity_x  quantity_y\n",
       "0     2021-01-01 00:00:00+00:00                 1           0       30006\n",
       "1     2021-01-01 00:30:00+00:00                 2           1       29911\n",
       "2     2021-01-01 01:00:00+00:00                 3           1       29209\n",
       "3     2021-01-01 01:30:00+00:00                 4           0       28041\n",
       "4     2021-01-01 02:00:00+00:00                 5           0       27243\n",
       "...                         ...               ...         ...         ...\n",
       "5753  2021-04-30 21:30:00+01:00                44           2       31810\n",
       "5754  2021-04-30 22:00:00+01:00                45           1       30150\n",
       "5755  2021-04-30 22:30:00+01:00                46           0       28291\n",
       "5756  2021-04-30 23:00:00+01:00                47           1       26626\n",
       "5757  2021-04-30 23:30:00+01:00                48           1       25379\n",
       "\n",
       "[5758 rows x 4 columns]"
      ]
     },
     "execution_count": 25,
     "metadata": {},
     "output_type": "execute_result"
    }
   ],
   "source": [
    "df3 = pd.merge(gd,df2,on='local_datetime',how='left')\n",
    "df3"
   ]
  },
  {
   "cell_type": "code",
   "execution_count": 26,
   "id": "2e26c034",
   "metadata": {},
   "outputs": [
    {
     "data": {
      "text/plain": [
       "local_datetime      False\n",
       "settlementPeriod    False\n",
       "quantity_x          False\n",
       "quantity_y          False\n",
       "dtype: bool"
      ]
     },
     "execution_count": 26,
     "metadata": {},
     "output_type": "execute_result"
    }
   ],
   "source": [
    "df3.isna().any()"
   ]
  },
  {
   "cell_type": "code",
   "execution_count": 12,
   "id": "7011665f",
   "metadata": {},
   "outputs": [
    {
     "data": {
      "text/plain": [
       "(array([1062, 1474, 5152], dtype=int64),)"
      ]
     },
     "execution_count": 12,
     "metadata": {},
     "output_type": "execute_result"
    }
   ],
   "source": [
    "df3.isna().any(1).to_numpy().nonzero()"
   ]
  },
  {
   "cell_type": "code",
   "execution_count": 82,
   "id": "e1404961",
   "metadata": {},
   "outputs": [],
   "source": [
    "# fill na with mean of the column\n",
    "# df3['quantity'].fillna(round(df3['quantity'].mean()), inplace=True)"
   ]
  },
  {
   "cell_type": "code",
   "execution_count": 14,
   "id": "76857d55",
   "metadata": {},
   "outputs": [],
   "source": [
    "# fill na with mean of adjacent elements\n",
    "df3['quantity_y'] = round((df3['quantity_y'].ffill()+df3['quantity_y'].bfill())/2, 0)"
   ]
  },
  {
   "cell_type": "code",
   "execution_count": 15,
   "id": "b4e9f271",
   "metadata": {},
   "outputs": [
    {
     "data": {
      "text/plain": [
       "local_datetime      False\n",
       "settlementPeriod    False\n",
       "quantity_x          False\n",
       "quantity_y          False\n",
       "dtype: bool"
      ]
     },
     "execution_count": 15,
     "metadata": {},
     "output_type": "execute_result"
    }
   ],
   "source": [
    "df3.isna().any()"
   ]
  },
  {
   "cell_type": "code",
   "execution_count": 27,
   "id": "5a92f7e9",
   "metadata": {},
   "outputs": [
    {
     "data": {
      "text/html": [
       "<div>\n",
       "<style scoped>\n",
       "    .dataframe tbody tr th:only-of-type {\n",
       "        vertical-align: middle;\n",
       "    }\n",
       "\n",
       "    .dataframe tbody tr th {\n",
       "        vertical-align: top;\n",
       "    }\n",
       "\n",
       "    .dataframe thead th {\n",
       "        text-align: right;\n",
       "    }\n",
       "</style>\n",
       "<table border=\"1\" class=\"dataframe\">\n",
       "  <thead>\n",
       "    <tr style=\"text-align: right;\">\n",
       "      <th></th>\n",
       "      <th>local_datetime</th>\n",
       "      <th>settlementPeriod</th>\n",
       "      <th>quantity_y</th>\n",
       "    </tr>\n",
       "  </thead>\n",
       "  <tbody>\n",
       "    <tr>\n",
       "      <th>0</th>\n",
       "      <td>2021-01-01 00:00:00+00:00</td>\n",
       "      <td>1</td>\n",
       "      <td>30006</td>\n",
       "    </tr>\n",
       "    <tr>\n",
       "      <th>1</th>\n",
       "      <td>2021-01-01 00:30:00+00:00</td>\n",
       "      <td>2</td>\n",
       "      <td>29911</td>\n",
       "    </tr>\n",
       "    <tr>\n",
       "      <th>2</th>\n",
       "      <td>2021-01-01 01:00:00+00:00</td>\n",
       "      <td>3</td>\n",
       "      <td>29209</td>\n",
       "    </tr>\n",
       "    <tr>\n",
       "      <th>3</th>\n",
       "      <td>2021-01-01 01:30:00+00:00</td>\n",
       "      <td>4</td>\n",
       "      <td>28041</td>\n",
       "    </tr>\n",
       "    <tr>\n",
       "      <th>4</th>\n",
       "      <td>2021-01-01 02:00:00+00:00</td>\n",
       "      <td>5</td>\n",
       "      <td>27243</td>\n",
       "    </tr>\n",
       "    <tr>\n",
       "      <th>...</th>\n",
       "      <td>...</td>\n",
       "      <td>...</td>\n",
       "      <td>...</td>\n",
       "    </tr>\n",
       "    <tr>\n",
       "      <th>5753</th>\n",
       "      <td>2021-04-30 21:30:00+01:00</td>\n",
       "      <td>44</td>\n",
       "      <td>31810</td>\n",
       "    </tr>\n",
       "    <tr>\n",
       "      <th>5754</th>\n",
       "      <td>2021-04-30 22:00:00+01:00</td>\n",
       "      <td>45</td>\n",
       "      <td>30150</td>\n",
       "    </tr>\n",
       "    <tr>\n",
       "      <th>5755</th>\n",
       "      <td>2021-04-30 22:30:00+01:00</td>\n",
       "      <td>46</td>\n",
       "      <td>28291</td>\n",
       "    </tr>\n",
       "    <tr>\n",
       "      <th>5756</th>\n",
       "      <td>2021-04-30 23:00:00+01:00</td>\n",
       "      <td>47</td>\n",
       "      <td>26626</td>\n",
       "    </tr>\n",
       "    <tr>\n",
       "      <th>5757</th>\n",
       "      <td>2021-04-30 23:30:00+01:00</td>\n",
       "      <td>48</td>\n",
       "      <td>25379</td>\n",
       "    </tr>\n",
       "  </tbody>\n",
       "</table>\n",
       "<p>5758 rows × 3 columns</p>\n",
       "</div>"
      ],
      "text/plain": [
       "                 local_datetime  settlementPeriod  quantity_y\n",
       "0     2021-01-01 00:00:00+00:00                 1       30006\n",
       "1     2021-01-01 00:30:00+00:00                 2       29911\n",
       "2     2021-01-01 01:00:00+00:00                 3       29209\n",
       "3     2021-01-01 01:30:00+00:00                 4       28041\n",
       "4     2021-01-01 02:00:00+00:00                 5       27243\n",
       "...                         ...               ...         ...\n",
       "5753  2021-04-30 21:30:00+01:00                44       31810\n",
       "5754  2021-04-30 22:00:00+01:00                45       30150\n",
       "5755  2021-04-30 22:30:00+01:00                46       28291\n",
       "5756  2021-04-30 23:00:00+01:00                47       26626\n",
       "5757  2021-04-30 23:30:00+01:00                48       25379\n",
       "\n",
       "[5758 rows x 3 columns]"
      ]
     },
     "execution_count": 27,
     "metadata": {},
     "output_type": "execute_result"
    }
   ],
   "source": [
    "df4 = df3[['local_datetime','settlementPeriod','quantity_y']]\n",
    "df4"
   ]
  },
  {
   "cell_type": "code",
   "execution_count": 28,
   "id": "3ea0e99f",
   "metadata": {},
   "outputs": [],
   "source": [
    "df4.to_csv('DA_Load_Forecast_2021.csv',index=False)"
   ]
  }
 ],
 "metadata": {
  "kernelspec": {
   "display_name": "Python 3",
   "language": "python",
   "name": "python3"
  },
  "language_info": {
   "codemirror_mode": {
    "name": "ipython",
    "version": 3
   },
   "file_extension": ".py",
   "mimetype": "text/x-python",
   "name": "python",
   "nbconvert_exporter": "python",
   "pygments_lexer": "ipython3",
   "version": "3.8.8"
  }
 },
 "nbformat": 4,
 "nbformat_minor": 5
}

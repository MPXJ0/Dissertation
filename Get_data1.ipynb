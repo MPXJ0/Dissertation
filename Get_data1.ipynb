{
 "cells": [
  {
   "cell_type": "markdown",
   "id": "fbecd897",
   "metadata": {},
   "source": [
    "#### British Summer Time  \n",
    "2017-03-26 -- 2017-10-30  \n",
    "2018-03-25 -- 2018-10-28  \n",
    "2019-03-31 -- 2019-10-27  \n",
    "2020-03-29 -- 2020-10-25  \n",
    "2021-03-28"
   ]
  },
  {
   "cell_type": "markdown",
   "id": "698c6196",
   "metadata": {},
   "source": [
    "Demand  \n",
    "B0610 - Actual Total Load  \n",
    "B0620 - Day-Ahead Total Load Forecast  \n",
    "SYSDEM - System Demand (outturn and forecast)\n",
    "\n",
    "Balancing  \n",
    "B1770 - Imbalance Price / System Price  \n",
    "B1780 - Aggregated Imbalance Volume\n",
    "\n",
    "Generation  \n",
    "B1430 - Day-Ahead Aggregated Generation Forecast  \n",
    "B1440 - Generation Forecasts For Wind And Solar (from 2018-11-02)  \n",
    "B1630 - Actual Or Estimated Wind And Solar Power Generation"
   ]
  },
  {
   "cell_type": "code",
   "execution_count": 1,
   "id": "b0f0970a",
   "metadata": {},
   "outputs": [],
   "source": [
    "import pandas as pd\n",
    "from ElexonDataPortal import api\n",
    "client = api.Client('kk73d4dvvfdgjd5')"
   ]
  },
  {
   "cell_type": "markdown",
   "id": "4d5e6242",
   "metadata": {},
   "source": [
    "2021"
   ]
  },
  {
   "cell_type": "code",
   "execution_count": 2,
   "id": "1d4afc7b",
   "metadata": {},
   "outputs": [
    {
     "name": "stderr",
     "output_type": "stream",
     "text": [
      "B1770: 100%|██████████| 5758/5758 [19:22<00:00,  4.95it/s]  \n"
     ]
    }
   ],
   "source": [
    "# Imbalance Price of 2021\n",
    "start_date = '2021-01-01'\n",
    "end_date = '2021-05-01'\n",
    "IP21 = client.get_B1770(start_date, end_date)"
   ]
  },
  {
   "cell_type": "code",
   "execution_count": 3,
   "id": "c38ab02d",
   "metadata": {},
   "outputs": [],
   "source": [
    "# delete useless columns\n",
    "df_IP21 = IP21[['local_datetime','settlementPeriod','imbalancePriceAmountGBP']].drop_duplicates().reset_index(drop=True)\n",
    "\n",
    "# save file\n",
    "df_IP21.to_csv('Imbalance_Price_2021.csv',index=False)"
   ]
  },
  {
   "cell_type": "markdown",
   "id": "bfc018a9",
   "metadata": {},
   "source": [
    "2020"
   ]
  },
  {
   "cell_type": "code",
   "execution_count": 3,
   "id": "960486f5",
   "metadata": {},
   "outputs": [
    {
     "name": "stderr",
     "output_type": "stream",
     "text": [
      "B1770: 100%|██████████| 17568/17568 [34:45<00:00,  8.42it/s] \n"
     ]
    }
   ],
   "source": [
    "# Imbalance Price of 2020\n",
    "start_date = '2020-01-01'\n",
    "end_date = '2021-01-01'\n",
    "IP20 = client.get_B1770(start_date, end_date)"
   ]
  },
  {
   "cell_type": "code",
   "execution_count": 8,
   "id": "b4f22488",
   "metadata": {},
   "outputs": [],
   "source": [
    "# delete useless columns\n",
    "df_IP20 = IP20[['local_datetime','settlementPeriod','imbalancePriceAmountGBP']].drop_duplicates().reset_index(drop=True)\n",
    "\n",
    "# save file\n",
    "df_IP20.to_csv('Imbalance_Price_2020.csv',index=False)"
   ]
  },
  {
   "cell_type": "markdown",
   "id": "b33d331b",
   "metadata": {},
   "source": [
    "2019"
   ]
  },
  {
   "cell_type": "code",
   "execution_count": 3,
   "id": "29dac1cb",
   "metadata": {},
   "outputs": [
    {
     "name": "stderr",
     "output_type": "stream",
     "text": [
      "B1770: 100%|██████████| 17520/17520 [39:05<00:00,  7.47it/s]  \n"
     ]
    }
   ],
   "source": [
    "# Imbalance Price of 2019\n",
    "start_date = '2019-01-01'\n",
    "end_date = '2020-01-01'\n",
    "IP19 = client.get_B1770(start_date, end_date)"
   ]
  },
  {
   "cell_type": "code",
   "execution_count": 4,
   "id": "49789507",
   "metadata": {},
   "outputs": [],
   "source": [
    "# delete useless columns\n",
    "df_IP19 = IP19[['local_datetime','settlementPeriod','imbalancePriceAmountGBP']].drop_duplicates().reset_index(drop=True)\n",
    "\n",
    "# save file\n",
    "df_IP19.to_csv('Imbalance_Price_2019.csv',index=False)"
   ]
  },
  {
   "cell_type": "markdown",
   "id": "a2fae38b",
   "metadata": {},
   "source": [
    "2018"
   ]
  },
  {
   "cell_type": "code",
   "execution_count": 2,
   "id": "51b0d70d",
   "metadata": {},
   "outputs": [
    {
     "name": "stderr",
     "output_type": "stream",
     "text": [
      "B1770: 100%|██████████| 17520/17520 [36:32<00:00,  7.99it/s]  \n"
     ]
    }
   ],
   "source": [
    "# Imbalance Price of 2018\n",
    "start_date = '2018-01-01'\n",
    "end_date = '2019-01-01'\n",
    "IP18 = client.get_B1770(start_date, end_date)"
   ]
  },
  {
   "cell_type": "code",
   "execution_count": 3,
   "id": "d1580045",
   "metadata": {},
   "outputs": [],
   "source": [
    "# delete useless columns\n",
    "df_IP18 = IP18[['local_datetime','settlementPeriod','imbalancePriceAmountGBP']].drop_duplicates().reset_index(drop=True)\n",
    "\n",
    "# save file\n",
    "df_IP18.to_csv('Imbalance_Price_2018.csv',index=False)"
   ]
  },
  {
   "cell_type": "markdown",
   "id": "57907b26",
   "metadata": {},
   "source": [
    "2017"
   ]
  },
  {
   "cell_type": "code",
   "execution_count": 2,
   "id": "96d7a6a2",
   "metadata": {},
   "outputs": [
    {
     "name": "stderr",
     "output_type": "stream",
     "text": [
      "B1770: 100%|██████████| 17520/17520 [37:28<00:00,  7.79it/s]  \n"
     ]
    }
   ],
   "source": [
    "# Imbalance Price of 2017\n",
    "start_date = '2017-01-01'\n",
    "end_date = '2018-01-01'\n",
    "IP17 = client.get_B1770(start_date, end_date)"
   ]
  },
  {
   "cell_type": "code",
   "execution_count": 3,
   "id": "72b146f3",
   "metadata": {},
   "outputs": [],
   "source": [
    "# delete useless columns\n",
    "df_IP17 = IP17[['local_datetime','settlementPeriod','imbalancePriceAmountGBP']].drop_duplicates().reset_index(drop=True)\n",
    "\n",
    "# save file\n",
    "df_IP17.to_csv('Imbalance_Price_2017.csv',index=False)"
   ]
  },
  {
   "cell_type": "markdown",
   "id": "a987c5c7",
   "metadata": {},
   "source": [
    "2016"
   ]
  },
  {
   "cell_type": "code",
   "execution_count": 2,
   "id": "199ae718",
   "metadata": {},
   "outputs": [
    {
     "name": "stderr",
     "output_type": "stream",
     "text": [
      "B1770:  13%|█▎        | 2361/17568 [04:45<22:17, 11.37it/s]  C:\\Users\\35250\\anaconda3\\lib\\site-packages\\ElexonDataPortal\\dev\\utils.py:29: UserWarning: Data request was succesful but no content was returned\n",
      "  warn(f'Data request was succesful but no content was returned')\n",
      "B1770: 100%|██████████| 17568/17568 [36:06<00:00,  8.11it/s]  \n"
     ]
    }
   ],
   "source": [
    "# Imbalance Price of 2016\n",
    "start_date = '2016-01-01'\n",
    "end_date = '2017-01-01'\n",
    "IP16 = client.get_B1770(start_date, end_date)"
   ]
  },
  {
   "cell_type": "code",
   "execution_count": 3,
   "id": "1c71f9c2",
   "metadata": {},
   "outputs": [],
   "source": [
    "# delete useless columns\n",
    "df_IP16 = IP16[['local_datetime','settlementPeriod','imbalancePriceAmountGBP']].drop_duplicates().reset_index(drop=True)\n",
    "\n",
    "# save file\n",
    "df_IP16.to_csv('Imbalance_Price_2016.csv',index=False)"
   ]
  },
  {
   "cell_type": "code",
   "execution_count": null,
   "id": "8314aa16",
   "metadata": {},
   "outputs": [],
   "source": []
  },
  {
   "cell_type": "markdown",
   "id": "69edbb86",
   "metadata": {},
   "source": [
    "2021"
   ]
  },
  {
   "cell_type": "code",
   "execution_count": 4,
   "id": "abc18a88",
   "metadata": {},
   "outputs": [
    {
     "name": "stderr",
     "output_type": "stream",
     "text": [
      "B1780: 100%|██████████| 5758/5758 [13:55<00:00,  6.89it/s] \n"
     ]
    }
   ],
   "source": [
    "# Imbalance Volume of 2021\n",
    "start_date = '2021-01-01'\n",
    "end_date = '2021-05-01'\n",
    "IV21 = client.get_B1780(start_date, end_date)"
   ]
  },
  {
   "cell_type": "code",
   "execution_count": 5,
   "id": "4fc51de7",
   "metadata": {},
   "outputs": [],
   "source": [
    "# save file\n",
    "df_IV21 = IV21[['local_datetime','settlementPeriod','imbalanceQuantityMAW']]\n",
    "df_IV21.to_csv('Imbalance_Volume_2021.csv',index=False)"
   ]
  },
  {
   "cell_type": "markdown",
   "id": "f43fe4d6",
   "metadata": {},
   "source": [
    "2020"
   ]
  },
  {
   "cell_type": "code",
   "execution_count": 8,
   "id": "7c972888",
   "metadata": {},
   "outputs": [
    {
     "name": "stderr",
     "output_type": "stream",
     "text": [
      "B1780: 100%|██████████| 17568/17568 [32:28<00:00,  9.01it/s]  \n"
     ]
    }
   ],
   "source": [
    "# Imbalance Volume of 2020\n",
    "start_date = '2020-01-01'\n",
    "end_date = '2021-01-01'\n",
    "IV20 = client.get_B1780(start_date, end_date)"
   ]
  },
  {
   "cell_type": "code",
   "execution_count": 9,
   "id": "acd87ffc",
   "metadata": {},
   "outputs": [],
   "source": [
    "# save file\n",
    "df_IV20 = IV20[['local_datetime','settlementPeriod','imbalanceQuantityMAW']]\n",
    "df_IV20.to_csv('Imbalance_Volume_2020.csv',index=False)"
   ]
  },
  {
   "cell_type": "code",
   "execution_count": null,
   "id": "196edaa4",
   "metadata": {},
   "outputs": [],
   "source": []
  },
  {
   "cell_type": "code",
   "execution_count": 2,
   "id": "ae96e402",
   "metadata": {},
   "outputs": [
    {
     "name": "stderr",
     "output_type": "stream",
     "text": [
      "B0620:  19%|█▉        | 3407/17568 [05:26<19:58, 11.81it/s]  C:\\Users\\35250\\anaconda3\\lib\\site-packages\\ElexonDataPortal\\dev\\utils.py:29: UserWarning: Data request was succesful but no content was returned\n",
      "  warn(f'Data request was succesful but no content was returned')\n",
      "B0620: 100%|██████████| 17568/17568 [31:26<00:00,  9.31it/s]  \n"
     ]
    }
   ],
   "source": [
    "# DA Load Forecast of 2020\n",
    "start_date = '2020-01-01'\n",
    "end_date = '2021-01-01'\n",
    "LF20 = client.get_B0620(start_date, end_date)"
   ]
  },
  {
   "cell_type": "code",
   "execution_count": 3,
   "id": "ddf22960",
   "metadata": {},
   "outputs": [],
   "source": [
    "# save file\n",
    "df_LF20 = LF20[['local_datetime','settlementPeriod','quantity']]\n",
    "df_LF20.to_csv('DA_Load_Forecast_2020.csv',index=False)"
   ]
  },
  {
   "cell_type": "code",
   "execution_count": null,
   "id": "9c9f26ea",
   "metadata": {},
   "outputs": [],
   "source": []
  },
  {
   "cell_type": "code",
   "execution_count": 10,
   "id": "815e0cdd",
   "metadata": {},
   "outputs": [
    {
     "name": "stderr",
     "output_type": "stream",
     "text": [
      "B1430:  40%|███▉      | 7008/17568 [12:41<23:10,  7.60it/s]  C:\\Users\\35250\\anaconda3\\lib\\site-packages\\ElexonDataPortal\\dev\\utils.py:29: UserWarning: Data request was succesful but no content was returned\n",
      "  warn(f'Data request was succesful but no content was returned')\n",
      "B1430: 100%|██████████| 17568/17568 [34:45<00:00,  8.42it/s]  \n"
     ]
    }
   ],
   "source": [
    "# Day-Ahead Aggregated Generation Forecast of 2020\n",
    "start_date = '2020-01-01'\n",
    "end_date = '2021-01-01'\n",
    "GF20 = client.get_B1430(start_date, end_date)"
   ]
  },
  {
   "cell_type": "code",
   "execution_count": 11,
   "id": "660ebe56",
   "metadata": {},
   "outputs": [],
   "source": [
    "# save file\n",
    "df_GF20 = GF20[['local_datetime','settelmentPeriod','quantity']]\n",
    "df_GF20.to_csv('DA_Aggregated_Generation_Forecast_2020.csv',index=False)"
   ]
  },
  {
   "cell_type": "code",
   "execution_count": null,
   "id": "9581d8d8",
   "metadata": {},
   "outputs": [],
   "source": []
  }
 ],
 "metadata": {
  "kernelspec": {
   "display_name": "Python 3",
   "language": "python",
   "name": "python3"
  },
  "language_info": {
   "codemirror_mode": {
    "name": "ipython",
    "version": 3
   },
   "file_extension": ".py",
   "mimetype": "text/x-python",
   "name": "python",
   "nbconvert_exporter": "python",
   "pygments_lexer": "ipython3",
   "version": "3.8.8"
  }
 },
 "nbformat": 4,
 "nbformat_minor": 5
}

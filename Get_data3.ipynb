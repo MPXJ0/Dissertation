{
 "cells": [
  {
   "cell_type": "code",
   "execution_count": 2,
   "id": "c1c87e5a",
   "metadata": {},
   "outputs": [],
   "source": [
    "import pandas as pd\n",
    "from ElexonDataPortal import api\n",
    "client = api.Client('kk73d4dvvfdgjd5')"
   ]
  },
  {
   "cell_type": "markdown",
   "id": "66e67594",
   "metadata": {},
   "source": [
    "2021"
   ]
  },
  {
   "cell_type": "code",
   "execution_count": 3,
   "id": "25ea1a9a",
   "metadata": {},
   "outputs": [
    {
     "name": "stderr",
     "output_type": "stream",
     "text": [
      "B1430: 100%|██████████| 5758/5758 [18:35<00:00,  5.16it/s]  \n"
     ]
    }
   ],
   "source": [
    "# Day-Ahead Aggregated Generation Forecast of 2021\n",
    "start_date = '2021-01-01'\n",
    "end_date = '2021-05-01'\n",
    "GF21 = client.get_B1430(start_date, end_date)"
   ]
  },
  {
   "cell_type": "code",
   "execution_count": 4,
   "id": "7b69b7f3",
   "metadata": {},
   "outputs": [],
   "source": [
    "# save file\n",
    "df_GF21 = GF21[['local_datetime','settelmentPeriod','quantity']]\n",
    "df_GF21.to_csv('DA_Aggregated_Generation_Forecast_2021.csv',index=False)"
   ]
  },
  {
   "cell_type": "markdown",
   "id": "c50649a2",
   "metadata": {},
   "source": [
    "2019"
   ]
  },
  {
   "cell_type": "code",
   "execution_count": 2,
   "id": "22b8e994",
   "metadata": {},
   "outputs": [
    {
     "name": "stderr",
     "output_type": "stream",
     "text": [
      "B1430: 100%|██████████| 17520/17520 [36:46<00:00,  7.94it/s]  \n"
     ]
    }
   ],
   "source": [
    "# Day-Ahead Aggregated Generation Forecast of 2019\n",
    "start_date = '2019-01-01'\n",
    "end_date = '2020-01-01'\n",
    "GF19 = client.get_B1430(start_date, end_date)"
   ]
  },
  {
   "cell_type": "code",
   "execution_count": 3,
   "id": "edb43e3f",
   "metadata": {},
   "outputs": [],
   "source": [
    "# save file\n",
    "df_GF19 = GF19[['local_datetime','settelmentPeriod','quantity']]\n",
    "df_GF19.to_csv('DA_Aggregated_Generation_Forecast_2019.csv',index=False)"
   ]
  },
  {
   "cell_type": "markdown",
   "id": "0d3ebf88",
   "metadata": {},
   "source": [
    "2018"
   ]
  },
  {
   "cell_type": "code",
   "execution_count": 2,
   "id": "e3011ff6",
   "metadata": {},
   "outputs": [
    {
     "name": "stderr",
     "output_type": "stream",
     "text": [
      "B1430: 100%|██████████| 17520/17520 [33:22<00:00,  8.75it/s] \n"
     ]
    }
   ],
   "source": [
    "# Day-Ahead Aggregated Generation Forecast of 2018\n",
    "start_date = '2018-01-01'\n",
    "end_date = '2019-01-01'\n",
    "GF18 = client.get_B1430(start_date, end_date)"
   ]
  },
  {
   "cell_type": "code",
   "execution_count": 3,
   "id": "00c1fa95",
   "metadata": {},
   "outputs": [],
   "source": [
    "# save file\n",
    "df_GF18 = GF18[['local_datetime','settelmentPeriod','quantity']]\n",
    "df_GF18.to_csv('DA_Aggregated_Generation_Forecast_2018.csv',index=False)"
   ]
  },
  {
   "cell_type": "markdown",
   "id": "4371e507",
   "metadata": {},
   "source": [
    "2017"
   ]
  },
  {
   "cell_type": "code",
   "execution_count": 2,
   "id": "dfbd9f3a",
   "metadata": {},
   "outputs": [
    {
     "name": "stderr",
     "output_type": "stream",
     "text": [
      "B1430: 100%|██████████| 17520/17520 [34:07<00:00,  8.56it/s]  \n"
     ]
    }
   ],
   "source": [
    "# Day-Ahead Aggregated Generation Forecast of 2017\n",
    "start_date = '2017-01-01'\n",
    "end_date = '2018-01-01'\n",
    "GF17 = client.get_B1430(start_date, end_date)"
   ]
  },
  {
   "cell_type": "code",
   "execution_count": 3,
   "id": "81434e7f",
   "metadata": {},
   "outputs": [],
   "source": [
    "# save file\n",
    "df_GF17 = GF17[['local_datetime','settelmentPeriod','quantity']]\n",
    "df_GF17.to_csv('DA_Aggregated_Generation_Forecast_2017.csv',index=False)"
   ]
  },
  {
   "cell_type": "markdown",
   "id": "7c46e3c0",
   "metadata": {},
   "source": [
    "2016"
   ]
  },
  {
   "cell_type": "code",
   "execution_count": 2,
   "id": "71677336",
   "metadata": {},
   "outputs": [
    {
     "name": "stderr",
     "output_type": "stream",
     "text": [
      "B1430:   0%|          | 48/17568 [00:23<1:46:15,  2.75it/s]C:\\Users\\35250\\anaconda3\\lib\\site-packages\\ElexonDataPortal\\dev\\utils.py:29: UserWarning: Data request was succesful but no content was returned\n",
      "  warn(f'Data request was succesful but no content was returned')\n",
      "B1430: 100%|██████████| 17568/17568 [33:14<00:00,  8.81it/s]  \n"
     ]
    }
   ],
   "source": [
    "# Day-Ahead Aggregated Generation Forecast of 2016\n",
    "start_date = '2016-01-01'\n",
    "end_date = '2017-01-01'\n",
    "GF16 = client.get_B1430(start_date, end_date)"
   ]
  },
  {
   "cell_type": "code",
   "execution_count": 3,
   "id": "a1ef5ac6",
   "metadata": {},
   "outputs": [],
   "source": [
    "# save file\n",
    "df_GF16 = GF16[['local_datetime','settelmentPeriod','quantity']]\n",
    "df_GF16.to_csv('DA_Aggregated_Generation_Forecast_2016.csv',index=False)"
   ]
  }
 ],
 "metadata": {
  "kernelspec": {
   "display_name": "Python 3",
   "language": "python",
   "name": "python3"
  },
  "language_info": {
   "codemirror_mode": {
    "name": "ipython",
    "version": 3
   },
   "file_extension": ".py",
   "mimetype": "text/x-python",
   "name": "python",
   "nbconvert_exporter": "python",
   "pygments_lexer": "ipython3",
   "version": "3.8.8"
  }
 },
 "nbformat": 4,
 "nbformat_minor": 5
}

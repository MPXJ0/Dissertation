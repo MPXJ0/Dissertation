{
 "cells": [
  {
   "cell_type": "code",
   "execution_count": 1,
   "id": "4f385689",
   "metadata": {},
   "outputs": [],
   "source": [
    "import pandas as pd\n",
    "import numpy as np\n",
    "from epftoolbox.evaluation import MAE,MAPE,sMAPE,RMSE,rMAE"
   ]
  },
  {
   "cell_type": "code",
   "execution_count": null,
   "id": "b2dcc365",
   "metadata": {},
   "outputs": [],
   "source": [
    "# 07-20: df1[15023:15191]\n",
    "# 10-19: df1[17207:17375]\n",
    "# 01-18: df1[19391:19559]\n",
    "# 04-19: df1[21575:21743]"
   ]
  },
  {
   "cell_type": "markdown",
   "id": "42f237c2",
   "metadata": {},
   "source": [
    "## month"
   ]
  },
  {
   "cell_type": "code",
   "execution_count": 297,
   "id": "c9a6025c",
   "metadata": {},
   "outputs": [],
   "source": [
    "# forecast data\n",
    "df = pd.read_csv('forecast results/ensemble_DNN/auc_Apr_ensemble.csv')\n",
    "forecast = df.set_index('datetime')\n",
    "forecast.index = pd.to_datetime(forecast.index)\n",
    "\n",
    "# real data\n",
    "df1 = pd.read_csv('final datasets/auctionData_final.csv')\n",
    "df2 = df1[21575:21743].reset_index(drop=True)\n",
    "real = df2.loc[:, ['auctionPrice']]\n",
    "real_2d = pd.DataFrame(real.values.reshape(-1, 24),\n",
    "                       index=forecast.index,\n",
    "                       columns=forecast.columns)"
   ]
  },
  {
   "cell_type": "code",
   "execution_count": 298,
   "id": "2ab81e20",
   "metadata": {},
   "outputs": [
    {
     "data": {
      "text/plain": [
       "6.046379455838884"
      ]
     },
     "execution_count": 298,
     "metadata": {},
     "output_type": "execute_result"
    }
   ],
   "source": [
    "MAE(p_pred = forecast.values, p_real = real_2d.values)"
   ]
  },
  {
   "cell_type": "code",
   "execution_count": 299,
   "id": "8bdfda7f",
   "metadata": {},
   "outputs": [
    {
     "data": {
      "text/plain": [
       "8.154571661382763"
      ]
     },
     "execution_count": 299,
     "metadata": {},
     "output_type": "execute_result"
    }
   ],
   "source": [
    "RMSE(p_pred = forecast.values, p_real = real_2d.values)"
   ]
  },
  {
   "cell_type": "code",
   "execution_count": 300,
   "id": "7aada2d5",
   "metadata": {},
   "outputs": [
    {
     "data": {
      "text/plain": [
       "8.789139738047243"
      ]
     },
     "execution_count": 300,
     "metadata": {},
     "output_type": "execute_result"
    }
   ],
   "source": [
    "# %\n",
    "MAPE(p_pred = forecast.values, p_real = real_2d.values)*100"
   ]
  },
  {
   "cell_type": "code",
   "execution_count": 301,
   "id": "33bfc2aa",
   "metadata": {},
   "outputs": [
    {
     "data": {
      "text/plain": [
       "8.85035537672197"
      ]
     },
     "execution_count": 301,
     "metadata": {},
     "output_type": "execute_result"
    }
   ],
   "source": [
    "# %\n",
    "sMAPE(p_pred = forecast.values, p_real = real_2d.values)*100"
   ]
  },
  {
   "cell_type": "code",
   "execution_count": 302,
   "id": "285c2276",
   "metadata": {},
   "outputs": [
    {
     "data": {
      "text/plain": [
       "1.255575227688801"
      ]
     },
     "execution_count": 302,
     "metadata": {},
     "output_type": "execute_result"
    }
   ],
   "source": [
    "rMAE(p_pred = forecast.values, p_real = real_2d.values, m='D')"
   ]
  },
  {
   "cell_type": "markdown",
   "id": "e7901459",
   "metadata": {},
   "source": [
    "## DM test"
   ]
  },
  {
   "cell_type": "code",
   "execution_count": 137,
   "id": "497831d1",
   "metadata": {},
   "outputs": [],
   "source": [
    "from epftoolbox.evaluation import DM, plot_multivariate_DM_test"
   ]
  },
  {
   "cell_type": "code",
   "execution_count": 213,
   "id": "c352986e",
   "metadata": {},
   "outputs": [],
   "source": [
    "forecasts = pd.read_csv('forecast results/imb_all.csv',index_col=0)\n",
    "real_price = forecasts.loc[:, ['imbalancePrice']]\n",
    "forecasts.index = pd.to_datetime(forecasts.index)\n",
    "del forecasts['imbalancePrice']"
   ]
  },
  {
   "cell_type": "code",
   "execution_count": 216,
   "id": "b398d809",
   "metadata": {},
   "outputs": [
    {
     "data": {
      "image/png": "[encoded data removed]",
      "text/plain": [
       "<Figure size 432x288 with 2 Axes>"
      ]
     },
     "metadata": {
      "needs_background": "light"
     },
     "output_type": "display_data"
    }
   ],
   "source": [
    "plot_multivariate_DM_test(real_price=real_price, forecasts=forecasts)"
   ]
  },
  {
   "cell_type": "code",
   "execution_count": 217,
   "id": "16dc0385",
   "metadata": {},
   "outputs": [
    {
     "data": {
      "image/png": "[encoded data removed]",
      "text/plain": [
       "<Figure size 432x288 with 2 Axes>"
      ]
     },
     "metadata": {
      "needs_background": "light"
     },
     "output_type": "display_data"
    }
   ],
   "source": [
    "forecasts = pd.read_csv('forecast results/auc_all.csv',index_col=0)\n",
    "real_price = forecasts.loc[:, ['auctionPrice']]\n",
    "forecasts.index = pd.to_datetime(forecasts.index)\n",
    "del forecasts['auctionPrice']\n",
    "\n",
    "plot_multivariate_DM_test(real_price=real_price, forecasts=forecasts)"
   ]
  },
  {
   "cell_type": "markdown",
   "id": "689789b1",
   "metadata": {},
   "source": [
    "## imbalance price"
   ]
  },
  {
   "cell_type": "code",
   "execution_count": 176,
   "id": "8af59f81",
   "metadata": {},
   "outputs": [],
   "source": [
    "# real\n",
    "df = pd.read_csv('final datasets/imbalanceData_final.csv')\n",
    "real = pd.concat([df[15023:15191],df[17207:17375],df[19391:19559],df[21575:21743]]).reset_index(drop=True)\n",
    "real_price_imb = real.loc[:, ['datetime','imbalancePrice']]\n",
    "real_price_imb.set_index('datetime',inplace=True)\n",
    "\n",
    "# forecast\n",
    "df1 = pd.read_csv('forecast results/2 weeks/imb_July/LEAR_forecast_datimbalanceData_final_YT2_CW14.csv')\n",
    "df2 = pd.read_csv('forecast results/2 weeks/imb_October/LEAR_forecast_datimbalanceData_final_YT2_CW14.csv')\n",
    "df3 = pd.read_csv('forecast results/2 weeks/imb_January/LEAR_forecast_datimbalanceData_final_YT2_CW21.csv')\n",
    "df4 = pd.read_csv('forecast results/2 weeks/imb_April/LEAR_forecast_datimbalanceData_final_YT2_CW19.csv')\n",
    "\n",
    "df1.drop(columns='datetime',inplace=True)\n",
    "df2.drop(columns='datetime',inplace=True)\n",
    "df3.drop(columns='datetime',inplace=True)\n",
    "df4.drop(columns='datetime',inplace=True)\n",
    "\n",
    "fc_2w = np.concatenate([df1.values.reshape(-1,1),df2.values.reshape(-1,1),df3.values.reshape(-1,1),df4.values.reshape(-1,1)])\n",
    "real_price_imb['LEAR 2'] = fc_2w"
   ]
  },
  {
   "cell_type": "code",
   "execution_count": 177,
   "id": "37c6478c",
   "metadata": {},
   "outputs": [],
   "source": [
    "df1 = pd.read_csv('forecast results/4 weeks/imb_July/LEAR_forecast_datimbalanceData_final_YT2_CW28.csv')\n",
    "df2 = pd.read_csv('forecast results/4 weeks/imb_October/LEAR_forecast_datimbalanceData_final_YT2_CW28.csv')\n",
    "df3 = pd.read_csv('forecast results/4 weeks/imb_January/LEAR_forecast_datimbalanceData_final_YT2_CW28.csv')\n",
    "df4 = pd.read_csv('forecast results/4 weeks/imb_April/LEAR_forecast_datimbalanceData_final_YT2_CW28.csv')\n",
    "\n",
    "df1.drop(columns='datetime',inplace=True)\n",
    "df2.drop(columns='datetime',inplace=True)\n",
    "df3.drop(columns='datetime',inplace=True)\n",
    "df4.drop(columns='datetime',inplace=True)\n",
    "\n",
    "fc_4w = np.concatenate([df1.values.reshape(-1,1),df2.values.reshape(-1,1),df3.values.reshape(-1,1),df4.values.reshape(-1,1)])\n",
    "real_price_imb['LEAR 4'] = fc_4w"
   ]
  },
  {
   "cell_type": "code",
   "execution_count": 178,
   "id": "9467ac18",
   "metadata": {},
   "outputs": [],
   "source": [
    "df1 = pd.read_csv('forecast results/0.5 year/imb_July/LEAR_forecast_datimbalanceData_final_YT2_CW182.csv')\n",
    "df2 = pd.read_csv('forecast results/0.5 year/imb_October/LEAR_forecast_datimbalanceData_final_YT2_CW182.csv')\n",
    "df3 = pd.read_csv('forecast results/0.5 year/imb_January/LEAR_forecast_datimbalanceData_final_YT2_CW182.csv')\n",
    "df4 = pd.read_csv('forecast results/0.5 year/imb_April/LEAR_forecast_datimbalanceData_final_YT2_CW182.csv')\n",
    "\n",
    "df1.drop(columns='datetime',inplace=True)\n",
    "df2.drop(columns='datetime',inplace=True)\n",
    "df3.drop(columns='datetime',inplace=True)\n",
    "df4.drop(columns='datetime',inplace=True)\n",
    "\n",
    "fc_hy = np.concatenate([df1.values.reshape(-1,1),df2.values.reshape(-1,1),df3.values.reshape(-1,1),df4.values.reshape(-1,1)])\n",
    "real_price_imb['LEAR 26'] = fc_hy"
   ]
  },
  {
   "cell_type": "code",
   "execution_count": 179,
   "id": "d90818b7",
   "metadata": {},
   "outputs": [],
   "source": [
    "df1 = pd.read_csv('forecast results/1 year/imb_July/LEAR_forecast_datimbalanceData_final_YT2_CW364.csv')\n",
    "df2 = pd.read_csv('forecast results/1 year/imb_October/LEAR_forecast_datimbalanceData_final_YT2_CW364.csv')\n",
    "df3 = pd.read_csv('forecast results/1 year/imb_January/LEAR_forecast_datimbalanceData_final_YT2_CW364.csv')\n",
    "df4 = pd.read_csv('forecast results/1 year/imb_April/LEAR_forecast_datimbalanceData_final_YT2_CW364.csv')\n",
    "\n",
    "df1.drop(columns='datetime',inplace=True)\n",
    "df2.drop(columns='datetime',inplace=True)\n",
    "df3.drop(columns='datetime',inplace=True)\n",
    "df4.drop(columns='datetime',inplace=True)\n",
    "\n",
    "fc_1y = np.concatenate([df1.values.reshape(-1,1),df2.values.reshape(-1,1),df3.values.reshape(-1,1),df4.values.reshape(-1,1)])\n",
    "real_price_imb['LEAR 52'] = fc_1y"
   ]
  },
  {
   "cell_type": "code",
   "execution_count": 181,
   "id": "5726ba84",
   "metadata": {},
   "outputs": [],
   "source": [
    "df1 = pd.read_csv('forecast results/ensemble_LEAR/imb_Jul_ensemble.csv')\n",
    "df2 = pd.read_csv('forecast results/ensemble_LEAR/imb_Oct_ensemble.csv')\n",
    "df3 = pd.read_csv('forecast results/ensemble_LEAR/imb_Jan_ensemble.csv')\n",
    "df4 = pd.read_csv('forecast results/ensemble_LEAR/imb_Apr_ensemble.csv')\n",
    "\n",
    "df1.drop(columns='datetime',inplace=True)\n",
    "df2.drop(columns='datetime',inplace=True)\n",
    "df3.drop(columns='datetime',inplace=True)\n",
    "df4.drop(columns='datetime',inplace=True)\n",
    "\n",
    "fc_1e = np.concatenate([df1.values.reshape(-1,1),df2.values.reshape(-1,1),df3.values.reshape(-1,1),df4.values.reshape(-1,1)])\n",
    "real_price_imb['LEAR ens'] = fc_1e"
   ]
  },
  {
   "cell_type": "code",
   "execution_count": 183,
   "id": "898c3807",
   "metadata": {},
   "outputs": [],
   "source": [
    "df1 = pd.read_csv('forecast results/DNN/imb_July/DNN_forecast_nl2_datimbalanceData_final_YT2_SFH1_CW1_1.csv')\n",
    "df2 = pd.read_csv('forecast results/DNN/imb_October/DNN_forecast_nl2_datimbalanceData_final_YT2_SFH1_CW1_1.csv')\n",
    "df3 = pd.read_csv('forecast results/DNN/imb_January/DNN_forecast_nl2_datimbalanceData_final_YT2_SFH1_CW1_1.csv')\n",
    "df4 = pd.read_csv('forecast results/DNN/imb_April/DNN_forecast_nl2_datimbalanceData_final_YT2_SFH1_CW1_1.csv')\n",
    "\n",
    "df1.drop(columns='datetime',inplace=True)\n",
    "df2.drop(columns='datetime',inplace=True)\n",
    "df3.drop(columns='datetime',inplace=True)\n",
    "df4.drop(columns='datetime',inplace=True)\n",
    "\n",
    "fc_1 = np.concatenate([df1.values.reshape(-1,1),df2.values.reshape(-1,1),df3.values.reshape(-1,1),df4.values.reshape(-1,1)])\n",
    "real_price_imb['DNN 1'] = fc_1"
   ]
  },
  {
   "cell_type": "code",
   "execution_count": 184,
   "id": "2d832888",
   "metadata": {},
   "outputs": [],
   "source": [
    "df1 = pd.read_csv('forecast results/DNN/imb_July/DNN_forecast_nl2_datimbalanceData_final_YT2_SFH1_CW1_2.csv')\n",
    "df2 = pd.read_csv('forecast results/DNN/imb_October/DNN_forecast_nl2_datimbalanceData_final_YT2_SFH1_CW1_2.csv')\n",
    "df3 = pd.read_csv('forecast results/DNN/imb_January/DNN_forecast_nl2_datimbalanceData_final_YT2_SFH1_CW1_2.csv')\n",
    "df4 = pd.read_csv('forecast results/DNN/imb_April/DNN_forecast_nl2_datimbalanceData_final_YT2_SFH1_CW1_2.csv')\n",
    "\n",
    "df1.drop(columns='datetime',inplace=True)\n",
    "df2.drop(columns='datetime',inplace=True)\n",
    "df3.drop(columns='datetime',inplace=True)\n",
    "df4.drop(columns='datetime',inplace=True)\n",
    "\n",
    "fc_2 = np.concatenate([df1.values.reshape(-1,1),df2.values.reshape(-1,1),df3.values.reshape(-1,1),df4.values.reshape(-1,1)])\n",
    "real_price_imb['DNN 2'] = fc_2"
   ]
  },
  {
   "cell_type": "code",
   "execution_count": 185,
   "id": "6001609a",
   "metadata": {},
   "outputs": [],
   "source": [
    "df1 = pd.read_csv('forecast results/DNN/imb_July/DNN_forecast_nl2_datimbalanceData_final_YT2_SFH1_CW1_3.csv')\n",
    "df2 = pd.read_csv('forecast results/DNN/imb_October/DNN_forecast_nl2_datimbalanceData_final_YT2_SFH1_CW1_3.csv')\n",
    "df3 = pd.read_csv('forecast results/DNN/imb_January/DNN_forecast_nl2_datimbalanceData_final_YT2_SFH1_CW1_3.csv')\n",
    "df4 = pd.read_csv('forecast results/DNN/imb_April/DNN_forecast_nl2_datimbalanceData_final_YT2_SFH1_CW1_3.csv')\n",
    "\n",
    "df1.drop(columns='datetime',inplace=True)\n",
    "df2.drop(columns='datetime',inplace=True)\n",
    "df3.drop(columns='datetime',inplace=True)\n",
    "df4.drop(columns='datetime',inplace=True)\n",
    "\n",
    "fc_3 = np.concatenate([df1.values.reshape(-1,1),df2.values.reshape(-1,1),df3.values.reshape(-1,1),df4.values.reshape(-1,1)])\n",
    "real_price_imb['DNN 3'] = fc_3"
   ]
  },
  {
   "cell_type": "code",
   "execution_count": 186,
   "id": "7a42dacc",
   "metadata": {},
   "outputs": [],
   "source": [
    "df1 = pd.read_csv('forecast results/DNN/imb_July/DNN_forecast_nl2_datimbalanceData_final_YT2_SFH1_CW1_4.csv')\n",
    "df2 = pd.read_csv('forecast results/DNN/imb_October/DNN_forecast_nl2_datimbalanceData_final_YT2_SFH1_CW1_4.csv')\n",
    "df3 = pd.read_csv('forecast results/DNN/imb_January/DNN_forecast_nl2_datimbalanceData_final_YT2_SFH1_CW1_4.csv')\n",
    "df4 = pd.read_csv('forecast results/DNN/imb_April/DNN_forecast_nl2_datimbalanceData_final_YT2_SFH1_CW1_4.csv')\n",
    "\n",
    "df1.drop(columns='datetime',inplace=True)\n",
    "df2.drop(columns='datetime',inplace=True)\n",
    "df3.drop(columns='datetime',inplace=True)\n",
    "df4.drop(columns='datetime',inplace=True)\n",
    "\n",
    "fc_4 = np.concatenate([df1.values.reshape(-1,1),df2.values.reshape(-1,1),df3.values.reshape(-1,1),df4.values.reshape(-1,1)])\n",
    "real_price_imb['DNN 4'] = fc_4"
   ]
  },
  {
   "cell_type": "code",
   "execution_count": 187,
   "id": "f1d2c9a4",
   "metadata": {},
   "outputs": [],
   "source": [
    "df1 = pd.read_csv('forecast results/ensemble_DNN/imb_Jul_ensemble.csv')\n",
    "df2 = pd.read_csv('forecast results/ensemble_DNN/imb_Oct_ensemble.csv')\n",
    "df3 = pd.read_csv('forecast results/ensemble_DNN/imb_Jan_ensemble.csv')\n",
    "df4 = pd.read_csv('forecast results/ensemble_DNN/imb_Apr_ensemble.csv')\n",
    "\n",
    "df1.drop(columns='datetime',inplace=True)\n",
    "df2.drop(columns='datetime',inplace=True)\n",
    "df3.drop(columns='datetime',inplace=True)\n",
    "df4.drop(columns='datetime',inplace=True)\n",
    "\n",
    "fc_de = np.concatenate([df1.values.reshape(-1,1),df2.values.reshape(-1,1),df3.values.reshape(-1,1),df4.values.reshape(-1,1)])\n",
    "real_price_imb['DNN ens'] = fc_de"
   ]
  },
  {
   "cell_type": "code",
   "execution_count": 189,
   "id": "189c272b",
   "metadata": {},
   "outputs": [],
   "source": [
    "real_price_imb.to_csv('forecast results/imb_all.csv')"
   ]
  },
  {
   "cell_type": "markdown",
   "id": "795671f8",
   "metadata": {},
   "source": [
    "## auction price"
   ]
  },
  {
   "cell_type": "code",
   "execution_count": 191,
   "id": "f26bed95",
   "metadata": {},
   "outputs": [],
   "source": [
    "# real\n",
    "df = pd.read_csv('final datasets/auctionData_final.csv')\n",
    "real = pd.concat([df[15023:15191],df[17207:17375],df[19391:19559],df[21575:21743]]).reset_index(drop=True)\n",
    "real_price_auc = real.loc[:, ['datetime','auctionPrice']]\n",
    "real_price_auc.set_index('datetime',inplace=True)\n",
    "\n",
    "# forecast\n",
    "df1 = pd.read_csv('forecast results/2 weeks/auc_July/LEAR_forecast_datauctionData_final_YT2_CW14.csv')\n",
    "df2 = pd.read_csv('forecast results/2 weeks/auc_October/LEAR_forecast_datauctionData_final_YT2_CW14.csv')\n",
    "df3 = pd.read_csv('forecast results/2 weeks/auc_January/LEAR_forecast_datauctionData_final_YT2_CW14.csv')\n",
    "df4 = pd.read_csv('forecast results/2 weeks/auc_April/LEAR_forecast_datauctionData_final_YT2_CW14.csv')\n",
    "\n",
    "df1.drop(columns='datetime',inplace=True)\n",
    "df2.drop(columns='datetime',inplace=True)\n",
    "df3.drop(columns='datetime',inplace=True)\n",
    "df4.drop(columns='datetime',inplace=True)\n",
    "\n",
    "fc_2w = np.concatenate([df1.values.reshape(-1,1),df2.values.reshape(-1,1),df3.values.reshape(-1,1),df4.values.reshape(-1,1)])\n",
    "real_price_auc['LEAR 2'] = fc_2w"
   ]
  },
  {
   "cell_type": "code",
   "execution_count": 193,
   "id": "b431081e",
   "metadata": {},
   "outputs": [],
   "source": [
    "df1 = pd.read_csv('forecast results/4 weeks/auc_July/LEAR_forecast_datauctionData_final_YT2_CW28.csv')\n",
    "df2 = pd.read_csv('forecast results/4 weeks/auc_October/LEAR_forecast_datauctionData_final_YT2_CW28.csv')\n",
    "df3 = pd.read_csv('forecast results/4 weeks/auc_January/LEAR_forecast_datauctionData_final_YT2_CW28.csv')\n",
    "df4 = pd.read_csv('forecast results/4 weeks/auc_April/LEAR_forecast_datauctionData_final_YT2_CW28.csv')\n",
    "\n",
    "df1.drop(columns='datetime',inplace=True)\n",
    "df2.drop(columns='datetime',inplace=True)\n",
    "df3.drop(columns='datetime',inplace=True)\n",
    "df4.drop(columns='datetime',inplace=True)\n",
    "\n",
    "fc_4w = np.concatenate([df1.values.reshape(-1,1),df2.values.reshape(-1,1),df3.values.reshape(-1,1),df4.values.reshape(-1,1)])\n",
    "real_price_auc['LEAR 4'] = fc_4w"
   ]
  },
  {
   "cell_type": "code",
   "execution_count": 195,
   "id": "e9e87594",
   "metadata": {},
   "outputs": [],
   "source": [
    "df1 = pd.read_csv('forecast results/0.5 year/auc_July/LEAR_forecast_datauctionData_final_YT2_CW182.csv')\n",
    "df2 = pd.read_csv('forecast results/0.5 year/auc_October/LEAR_forecast_datauctionData_final_YT2_CW182.csv')\n",
    "df3 = pd.read_csv('forecast results/0.5 year/auc_January/LEAR_forecast_datauctionData_final_YT2_CW182.csv')\n",
    "df4 = pd.read_csv('forecast results/0.5 year/auc_April/LEAR_forecast_datauctionData_final_YT2_CW182.csv')\n",
    "\n",
    "df1.drop(columns='datetime',inplace=True)\n",
    "df2.drop(columns='datetime',inplace=True)\n",
    "df3.drop(columns='datetime',inplace=True)\n",
    "df4.drop(columns='datetime',inplace=True)\n",
    "\n",
    "fc_hy = np.concatenate([df1.values.reshape(-1,1),df2.values.reshape(-1,1),df3.values.reshape(-1,1),df4.values.reshape(-1,1)])\n",
    "real_price_auc['LEAR 26'] = fc_hy"
   ]
  },
  {
   "cell_type": "code",
   "execution_count": 196,
   "id": "dab9f521",
   "metadata": {},
   "outputs": [],
   "source": [
    "df1 = pd.read_csv('forecast results/1 year/auc_July/LEAR_forecast_datauctionData_final_YT2_CW364.csv')\n",
    "df2 = pd.read_csv('forecast results/1 year/auc_October/LEAR_forecast_datauctionData_final_YT2_CW364.csv')\n",
    "df3 = pd.read_csv('forecast results/1 year/auc_January/LEAR_forecast_datauctionData_final_YT2_CW364.csv')\n",
    "df4 = pd.read_csv('forecast results/1 year/auc_April/LEAR_forecast_datauctionData_final_YT2_CW364.csv')\n",
    "\n",
    "df1.drop(columns='datetime',inplace=True)\n",
    "df2.drop(columns='datetime',inplace=True)\n",
    "df3.drop(columns='datetime',inplace=True)\n",
    "df4.drop(columns='datetime',inplace=True)\n",
    "\n",
    "fc_1y = np.concatenate([df1.values.reshape(-1,1),df2.values.reshape(-1,1),df3.values.reshape(-1,1),df4.values.reshape(-1,1)])\n",
    "real_price_auc['LEAR 52'] = fc_1y"
   ]
  },
  {
   "cell_type": "code",
   "execution_count": 197,
   "id": "c5cc1ea8",
   "metadata": {},
   "outputs": [],
   "source": [
    "df1 = pd.read_csv('forecast results/ensemble_LEAR/auc_Jul_ensemble.csv')\n",
    "df2 = pd.read_csv('forecast results/ensemble_LEAR/auc_Oct_ensemble.csv')\n",
    "df3 = pd.read_csv('forecast results/ensemble_LEAR/auc_Jan_ensemble.csv')\n",
    "df4 = pd.read_csv('forecast results/ensemble_LEAR/auc_Apr_ensemble.csv')\n",
    "\n",
    "df1.drop(columns='datetime',inplace=True)\n",
    "df2.drop(columns='datetime',inplace=True)\n",
    "df3.drop(columns='datetime',inplace=True)\n",
    "df4.drop(columns='datetime',inplace=True)\n",
    "\n",
    "fc_1e = np.concatenate([df1.values.reshape(-1,1),df2.values.reshape(-1,1),df3.values.reshape(-1,1),df4.values.reshape(-1,1)])\n",
    "real_price_auc['LEAR ens'] = fc_1e"
   ]
  },
  {
   "cell_type": "code",
   "execution_count": 199,
   "id": "c8a6570a",
   "metadata": {},
   "outputs": [],
   "source": [
    "df1 = pd.read_csv('forecast results/DNN/auc_July/DNN_forecast_nl2_datauctionData_final_YT2_SFH1_CW1_1.csv')\n",
    "df2 = pd.read_csv('forecast results/DNN/auc_October/DNN_forecast_nl2_datauctionData_final_YT2_SFH1_CW1_1.csv')\n",
    "df3 = pd.read_csv('forecast results/DNN/auc_January/DNN_forecast_nl2_datauctionData_final_YT2_SFH1_CW1_1.csv')\n",
    "df4 = pd.read_csv('forecast results/DNN/auc_April/DNN_forecast_nl2_datauctionData_final_YT2_SFH1_CW1_1.csv')\n",
    "\n",
    "df1.drop(columns='datetime',inplace=True)\n",
    "df2.drop(columns='datetime',inplace=True)\n",
    "df3.drop(columns='datetime',inplace=True)\n",
    "df4.drop(columns='datetime',inplace=True)\n",
    "\n",
    "fc_1 = np.concatenate([df1.values.reshape(-1,1),df2.values.reshape(-1,1),df3.values.reshape(-1,1),df4.values.reshape(-1,1)])\n",
    "real_price_auc['DNN 1'] = fc_1"
   ]
  },
  {
   "cell_type": "code",
   "execution_count": 200,
   "id": "27f45981",
   "metadata": {},
   "outputs": [],
   "source": [
    "df1 = pd.read_csv('forecast results/DNN/auc_July/DNN_forecast_nl2_datauctionData_final_YT2_SFH1_CW1_2.csv')\n",
    "df2 = pd.read_csv('forecast results/DNN/auc_October/DNN_forecast_nl2_datauctionData_final_YT2_SFH1_CW1_2.csv')\n",
    "df3 = pd.read_csv('forecast results/DNN/auc_January/DNN_forecast_nl2_datauctionData_final_YT2_SFH1_CW1_2.csv')\n",
    "df4 = pd.read_csv('forecast results/DNN/auc_April/DNN_forecast_nl2_datauctionData_final_YT2_SFH1_CW1_2.csv')\n",
    "\n",
    "df1.drop(columns='datetime',inplace=True)\n",
    "df2.drop(columns='datetime',inplace=True)\n",
    "df3.drop(columns='datetime',inplace=True)\n",
    "df4.drop(columns='datetime',inplace=True)\n",
    "\n",
    "fc_2 = np.concatenate([df1.values.reshape(-1,1),df2.values.reshape(-1,1),df3.values.reshape(-1,1),df4.values.reshape(-1,1)])\n",
    "real_price_auc['DNN 2'] = fc_2"
   ]
  },
  {
   "cell_type": "code",
   "execution_count": 201,
   "id": "4c7323f4",
   "metadata": {},
   "outputs": [],
   "source": [
    "df1 = pd.read_csv('forecast results/DNN/auc_July/DNN_forecast_nl2_datauctionData_final_YT2_SFH1_CW1_3.csv')\n",
    "df2 = pd.read_csv('forecast results/DNN/auc_October/DNN_forecast_nl2_datauctionData_final_YT2_SFH1_CW1_3.csv')\n",
    "df3 = pd.read_csv('forecast results/DNN/auc_January/DNN_forecast_nl2_datauctionData_final_YT2_SFH1_CW1_3.csv')\n",
    "df4 = pd.read_csv('forecast results/DNN/auc_April/DNN_forecast_nl2_datauctionData_final_YT2_SFH1_CW1_3.csv')\n",
    "\n",
    "df1.drop(columns='datetime',inplace=True)\n",
    "df2.drop(columns='datetime',inplace=True)\n",
    "df3.drop(columns='datetime',inplace=True)\n",
    "df4.drop(columns='datetime',inplace=True)\n",
    "\n",
    "fc_3 = np.concatenate([df1.values.reshape(-1,1),df2.values.reshape(-1,1),df3.values.reshape(-1,1),df4.values.reshape(-1,1)])\n",
    "real_price_auc['DNN 3'] = fc_3"
   ]
  },
  {
   "cell_type": "code",
   "execution_count": 202,
   "id": "9a01be3c",
   "metadata": {},
   "outputs": [],
   "source": [
    "df1 = pd.read_csv('forecast results/DNN/auc_July/DNN_forecast_nl2_datauctionData_final_YT2_SFH1_CW1_4.csv')\n",
    "df2 = pd.read_csv('forecast results/DNN/auc_October/DNN_forecast_nl2_datauctionData_final_YT2_SFH1_CW1_4.csv')\n",
    "df3 = pd.read_csv('forecast results/DNN/auc_January/DNN_forecast_nl2_datauctionData_final_YT2_SFH1_CW1_4.csv')\n",
    "df4 = pd.read_csv('forecast results/DNN/auc_April/DNN_forecast_nl2_datauctionData_final_YT2_SFH1_CW1_4.csv')\n",
    "\n",
    "df1.drop(columns='datetime',inplace=True)\n",
    "df2.drop(columns='datetime',inplace=True)\n",
    "df3.drop(columns='datetime',inplace=True)\n",
    "df4.drop(columns='datetime',inplace=True)\n",
    "\n",
    "fc_4 = np.concatenate([df1.values.reshape(-1,1),df2.values.reshape(-1,1),df3.values.reshape(-1,1),df4.values.reshape(-1,1)])\n",
    "real_price_auc['DNN 4'] = fc_4"
   ]
  },
  {
   "cell_type": "code",
   "execution_count": 203,
   "id": "e2eefb26",
   "metadata": {},
   "outputs": [],
   "source": [
    "df1 = pd.read_csv('forecast results/ensemble_DNN/auc_Jul_ensemble.csv')\n",
    "df2 = pd.read_csv('forecast results/ensemble_DNN/auc_Oct_ensemble.csv')\n",
    "df3 = pd.read_csv('forecast results/ensemble_DNN/auc_Jan_ensemble.csv')\n",
    "df4 = pd.read_csv('forecast results/ensemble_DNN/auc_Apr_ensemble.csv')\n",
    "\n",
    "df1.drop(columns='datetime',inplace=True)\n",
    "df2.drop(columns='datetime',inplace=True)\n",
    "df3.drop(columns='datetime',inplace=True)\n",
    "df4.drop(columns='datetime',inplace=True)\n",
    "\n",
    "fc_de = np.concatenate([df1.values.reshape(-1,1),df2.values.reshape(-1,1),df3.values.reshape(-1,1),df4.values.reshape(-1,1)])\n",
    "real_price_auc['DNN ens'] = fc_de"
   ]
  },
  {
   "cell_type": "code",
   "execution_count": 205,
   "id": "77123036",
   "metadata": {},
   "outputs": [],
   "source": [
    "real_price_auc.to_csv('forecast results/auc_all.csv')"
   ]
  },
  {
   "cell_type": "markdown",
   "id": "cd760306",
   "metadata": {},
   "source": [
    "## overall"
   ]
  },
  {
   "cell_type": "code",
   "execution_count": 131,
   "id": "763940f6",
   "metadata": {},
   "outputs": [],
   "source": [
    "# forecast\n",
    "df1 = pd.read_csv('forecast results/ensemble_DNN/imb_Jul_ensemble.csv')\n",
    "df2 = pd.read_csv('forecast results/ensemble_DNN/imb_Oct_ensemble.csv')\n",
    "df3 = pd.read_csv('forecast results/ensemble_DNN/imb_Jan_ensemble.csv')\n",
    "df4 = pd.read_csv('forecast results/ensemble_DNN/imb_Apr_ensemble.csv')\n",
    "fc_all = pd.concat([df1,df2,df3,df4]).reset_index(drop=True)\n",
    "\n",
    "forecast = fc_all.set_index('datetime')\n",
    "forecast.index = pd.to_datetime(forecast.index)\n",
    "\n",
    "# real\n",
    "df = pd.read_csv('final datasets/imbalanceData_final.csv')\n",
    "real_all = pd.concat([df[15023:15191],df[17207:17375],df[19391:19559],df[21575:21743]]).reset_index(drop=True)\n",
    "real = real_all.loc[:, ['imbalancePrice']]\n",
    "real_2d = pd.DataFrame(real.values.reshape(-1, 24),\n",
    "                       index=forecast.index,\n",
    "                       columns=forecast.columns)"
   ]
  },
  {
   "cell_type": "code",
   "execution_count": 132,
   "id": "354f7f9a",
   "metadata": {},
   "outputs": [
    {
     "data": {
      "text/plain": [
       "14.89183642926404"
      ]
     },
     "execution_count": 132,
     "metadata": {},
     "output_type": "execute_result"
    }
   ],
   "source": [
    "MAE(p_pred = forecast.values, p_real = real_2d.values)"
   ]
  },
  {
   "cell_type": "code",
   "execution_count": 133,
   "id": "bedc2355",
   "metadata": {},
   "outputs": [
    {
     "data": {
      "text/plain": [
       "22.28767098878761"
      ]
     },
     "execution_count": 133,
     "metadata": {},
     "output_type": "execute_result"
    }
   ],
   "source": [
    "RMSE(p_pred = forecast.values, p_real = real_2d.values)"
   ]
  },
  {
   "cell_type": "code",
   "execution_count": 134,
   "id": "2dbf1d87",
   "metadata": {},
   "outputs": [
    {
     "data": {
      "text/plain": [
       "inf"
      ]
     },
     "execution_count": 134,
     "metadata": {},
     "output_type": "execute_result"
    }
   ],
   "source": [
    "# %\n",
    "MAPE(p_pred = forecast.values, p_real = real_2d.values)*100"
   ]
  },
  {
   "cell_type": "code",
   "execution_count": 135,
   "id": "19be2a4c",
   "metadata": {},
   "outputs": [
    {
     "data": {
      "text/plain": [
       "34.59385897300501"
      ]
     },
     "execution_count": 135,
     "metadata": {},
     "output_type": "execute_result"
    }
   ],
   "source": [
    "# %\n",
    "sMAPE(p_pred = forecast.values, p_real = real_2d.values)*100"
   ]
  },
  {
   "cell_type": "code",
   "execution_count": 136,
   "id": "785fe8fa",
   "metadata": {},
   "outputs": [
    {
     "data": {
      "text/plain": [
       "0.5960406476436161"
      ]
     },
     "execution_count": 136,
     "metadata": {},
     "output_type": "execute_result"
    }
   ],
   "source": [
    "rMAE(p_pred = forecast.values, p_real = real_2d.values, m='D')"
   ]
  },
  {
   "cell_type": "code",
   "execution_count": null,
   "id": "2641f244",
   "metadata": {},
   "outputs": [],
   "source": []
  },
  {
   "cell_type": "markdown",
   "id": "51a92c03",
   "metadata": {},
   "source": [
    "## Ensemble_LEAR"
   ]
  },
  {
   "cell_type": "code",
   "execution_count": 277,
   "id": "bbac2de9",
   "metadata": {},
   "outputs": [],
   "source": [
    "df1 = pd.read_csv('forecast results/2 weeks/imb_July/LEAR_forecast_datimbalanceData_final_YT2_CW14.csv')\n",
    "df2 = pd.read_csv('forecast results/4 weeks/imb_July/LEAR_forecast_datimbalanceData_final_YT2_CW28.csv')\n",
    "df3 = pd.read_csv('forecast results/0.5 year/imb_July/LEAR_forecast_datimbalanceData_final_YT2_CW182.csv')\n",
    "df4 = pd.read_csv('forecast results/1 year/imb_July/LEAR_forecast_datimbalanceData_final_YT2_CW364.csv')"
   ]
  },
  {
   "cell_type": "code",
   "execution_count": 278,
   "id": "5e821174",
   "metadata": {},
   "outputs": [],
   "source": [
    "df_concat = pd.concat([df1, df2, df3, df4])\n",
    "df_mean = df_concat.groupby(level=0).mean()\n",
    "df = df_mean.set_index(df1['datetime'], drop=True)\n",
    "df.to_csv('forecast results/ensemble/imb_Jul_ensemble.csv')"
   ]
  },
  {
   "cell_type": "code",
   "execution_count": 279,
   "id": "fe7e2df9",
   "metadata": {},
   "outputs": [],
   "source": [
    "df1 = pd.read_csv('forecast results/2 weeks/imb_October/LEAR_forecast_datimbalanceData_final_YT2_CW14.csv')\n",
    "df2 = pd.read_csv('forecast results/4 weeks/imb_October/LEAR_forecast_datimbalanceData_final_YT2_CW28.csv')\n",
    "df3 = pd.read_csv('forecast results/0.5 year/imb_October/LEAR_forecast_datimbalanceData_final_YT2_CW182.csv')\n",
    "df4 = pd.read_csv('forecast results/1 year/imb_October/LEAR_forecast_datimbalanceData_final_YT2_CW364.csv')"
   ]
  },
  {
   "cell_type": "code",
   "execution_count": 280,
   "id": "b0ab615c",
   "metadata": {},
   "outputs": [],
   "source": [
    "df_concat = pd.concat([df1, df2, df3, df4])\n",
    "df_mean = df_concat.groupby(level=0).mean()\n",
    "df = df_mean.set_index(df1['datetime'], drop=True)\n",
    "df.to_csv('forecast results/ensemble/imb_Oct_ensemble.csv')"
   ]
  },
  {
   "cell_type": "code",
   "execution_count": 281,
   "id": "c845bcdd",
   "metadata": {},
   "outputs": [],
   "source": [
    "df1 = pd.read_csv('forecast results/2 weeks/imb_January/LEAR_forecast_datimbalanceData_final_YT2_CW21.csv')\n",
    "df2 = pd.read_csv('forecast results/4 weeks/imb_January/LEAR_forecast_datimbalanceData_final_YT2_CW28.csv')\n",
    "df3 = pd.read_csv('forecast results/0.5 year/imb_January/LEAR_forecast_datimbalanceData_final_YT2_CW182.csv')\n",
    "df4 = pd.read_csv('forecast results/1 year/imb_January/LEAR_forecast_datimbalanceData_final_YT2_CW364.csv')"
   ]
  },
  {
   "cell_type": "code",
   "execution_count": 282,
   "id": "1e54cf7e",
   "metadata": {},
   "outputs": [],
   "source": [
    "df_concat = pd.concat([df1, df2, df3, df4])\n",
    "df_mean = df_concat.groupby(level=0).mean()\n",
    "df = df_mean.set_index(df1['datetime'], drop=True)\n",
    "df.to_csv('forecast results/ensemble/imb_Jan_ensemble.csv')"
   ]
  },
  {
   "cell_type": "code",
   "execution_count": 283,
   "id": "9950b698",
   "metadata": {},
   "outputs": [],
   "source": [
    "df1 = pd.read_csv('forecast results/2 weeks/imb_April/LEAR_forecast_datimbalanceData_final_YT2_CW19.csv')\n",
    "df2 = pd.read_csv('forecast results/4 weeks/imb_April/LEAR_forecast_datimbalanceData_final_YT2_CW28.csv')\n",
    "df3 = pd.read_csv('forecast results/0.5 year/imb_April/LEAR_forecast_datimbalanceData_final_YT2_CW182.csv')\n",
    "df4 = pd.read_csv('forecast results/1 year/imb_April/LEAR_forecast_datimbalanceData_final_YT2_CW364.csv')"
   ]
  },
  {
   "cell_type": "code",
   "execution_count": 284,
   "id": "f97ee5f3",
   "metadata": {},
   "outputs": [],
   "source": [
    "df_concat = pd.concat([df1, df2, df3, df4])\n",
    "df_mean = df_concat.groupby(level=0).mean()\n",
    "df = df_mean.set_index(df1['datetime'], drop=True)\n",
    "df.to_csv('forecast results/ensemble/imb_Apr_ensemble.csv')"
   ]
  },
  {
   "cell_type": "code",
   "execution_count": 285,
   "id": "b021a426",
   "metadata": {},
   "outputs": [],
   "source": [
    "df1 = pd.read_csv('forecast results/2 weeks/auc_July/LEAR_forecast_datauctionData_final_YT2_CW14.csv')\n",
    "df2 = pd.read_csv('forecast results/4 weeks/auc_July/LEAR_forecast_datauctionData_final_YT2_CW28.csv')\n",
    "df3 = pd.read_csv('forecast results/0.5 year/auc_July/LEAR_forecast_datauctionData_final_YT2_CW182.csv')\n",
    "df4 = pd.read_csv('forecast results/1 year/auc_July/LEAR_forecast_datauctionData_final_YT2_CW364.csv')"
   ]
  },
  {
   "cell_type": "code",
   "execution_count": 286,
   "id": "bf3f0a51",
   "metadata": {},
   "outputs": [],
   "source": [
    "df_concat = pd.concat([df1, df2, df3, df4])\n",
    "df_mean = df_concat.groupby(level=0).mean()\n",
    "df = df_mean.set_index(df1['datetime'], drop=True)\n",
    "df.to_csv('forecast results/ensemble/auc_Jul_ensemble.csv')"
   ]
  },
  {
   "cell_type": "code",
   "execution_count": 287,
   "id": "9f8c6adb",
   "metadata": {},
   "outputs": [],
   "source": [
    "df1 = pd.read_csv('forecast results/2 weeks/auc_October/LEAR_forecast_datauctionData_final_YT2_CW14.csv')\n",
    "df2 = pd.read_csv('forecast results/4 weeks/auc_October/LEAR_forecast_datauctionData_final_YT2_CW28.csv')\n",
    "df3 = pd.read_csv('forecast results/0.5 year/auc_October/LEAR_forecast_datauctionData_final_YT2_CW182.csv')\n",
    "df4 = pd.read_csv('forecast results/1 year/auc_October/LEAR_forecast_datauctionData_final_YT2_CW364.csv')"
   ]
  },
  {
   "cell_type": "code",
   "execution_count": 288,
   "id": "5167b182",
   "metadata": {},
   "outputs": [],
   "source": [
    "df_concat = pd.concat([df1, df2, df3, df4])\n",
    "df_mean = df_concat.groupby(level=0).mean()\n",
    "df = df_mean.set_index(df1['datetime'], drop=True)\n",
    "df.to_csv('forecast results/ensemble/auc_Oct_ensemble.csv')"
   ]
  },
  {
   "cell_type": "code",
   "execution_count": 290,
   "id": "0b4ef38d",
   "metadata": {},
   "outputs": [],
   "source": [
    "df1 = pd.read_csv('forecast results/2 weeks/auc_January/LEAR_forecast_datauctionData_final_YT2_CW14.csv')\n",
    "df2 = pd.read_csv('forecast results/4 weeks/auc_January/LEAR_forecast_datauctionData_final_YT2_CW28.csv')\n",
    "df3 = pd.read_csv('forecast results/0.5 year/auc_January/LEAR_forecast_datauctionData_final_YT2_CW182.csv')\n",
    "df4 = pd.read_csv('forecast results/1 year/auc_January/LEAR_forecast_datauctionData_final_YT2_CW364.csv')"
   ]
  },
  {
   "cell_type": "code",
   "execution_count": 291,
   "id": "961bd4b7",
   "metadata": {},
   "outputs": [],
   "source": [
    "df_concat = pd.concat([df1, df2, df3, df4])\n",
    "df_mean = df_concat.groupby(level=0).mean()\n",
    "df = df_mean.set_index(df1['datetime'], drop=True)\n",
    "df.to_csv('forecast results/ensemble/auc_Jan_ensemble.csv')"
   ]
  },
  {
   "cell_type": "code",
   "execution_count": 292,
   "id": "6c6058c0",
   "metadata": {},
   "outputs": [],
   "source": [
    "df1 = pd.read_csv('forecast results/2 weeks/auc_April/LEAR_forecast_datauctionData_final_YT2_CW14.csv')\n",
    "df2 = pd.read_csv('forecast results/4 weeks/auc_April/LEAR_forecast_datauctionData_final_YT2_CW28.csv')\n",
    "df3 = pd.read_csv('forecast results/0.5 year/auc_April/LEAR_forecast_datauctionData_final_YT2_CW182.csv')\n",
    "df4 = pd.read_csv('forecast results/1 year/auc_April/LEAR_forecast_datauctionData_final_YT2_CW364.csv')"
   ]
  },
  {
   "cell_type": "code",
   "execution_count": 293,
   "id": "471222f7",
   "metadata": {},
   "outputs": [],
   "source": [
    "df_concat = pd.concat([df1, df2, df3, df4])\n",
    "df_mean = df_concat.groupby(level=0).mean()\n",
    "df = df_mean.set_index(df1['datetime'], drop=True)\n",
    "df.to_csv('forecast results/ensemble/auc_Apr_ensemble.csv')"
   ]
  },
  {
   "cell_type": "markdown",
   "id": "8792f400",
   "metadata": {},
   "source": [
    "## Ensemble_DNN"
   ]
  },
  {
   "cell_type": "code",
   "execution_count": 296,
   "id": "96eff846",
   "metadata": {},
   "outputs": [],
   "source": [
    "df1 = pd.read_csv('forecast results/DNN/imb_July/DNN_forecast_nl2_datimbalanceData_final_YT2_SFH1_CW1_1.csv')\n",
    "df2 = pd.read_csv('forecast results/DNN/imb_July/DNN_forecast_nl2_datimbalanceData_final_YT2_SFH1_CW1_2.csv')\n",
    "df3 = pd.read_csv('forecast results/DNN/imb_July/DNN_forecast_nl2_datimbalanceData_final_YT2_SFH1_CW1_3.csv')\n",
    "df4 = pd.read_csv('forecast results/DNN/imb_July/DNN_forecast_nl2_datimbalanceData_final_YT2_SFH1_CW1_4.csv')\n",
    "\n",
    "df_concat = pd.concat([df1, df2, df3, df4])\n",
    "df_mean = df_concat.groupby(level=0).mean()\n",
    "df = df_mean.set_index(df1['datetime'], drop=True)\n",
    "df.to_csv('forecast results/ensemble_DNN/imb_Jul_ensemble.csv')"
   ]
  },
  {
   "cell_type": "code",
   "execution_count": 297,
   "id": "87428722",
   "metadata": {},
   "outputs": [],
   "source": [
    "df1 = pd.read_csv('forecast results/DNN/imb_October/DNN_forecast_nl2_datimbalanceData_final_YT2_SFH1_CW1_1.csv')\n",
    "df2 = pd.read_csv('forecast results/DNN/imb_October/DNN_forecast_nl2_datimbalanceData_final_YT2_SFH1_CW1_2.csv')\n",
    "df3 = pd.read_csv('forecast results/DNN/imb_October/DNN_forecast_nl2_datimbalanceData_final_YT2_SFH1_CW1_3.csv')\n",
    "df4 = pd.read_csv('forecast results/DNN/imb_October/DNN_forecast_nl2_datimbalanceData_final_YT2_SFH1_CW1_4.csv')\n",
    "\n",
    "df_concat = pd.concat([df1, df2, df3, df4])\n",
    "df_mean = df_concat.groupby(level=0).mean()\n",
    "df = df_mean.set_index(df1['datetime'], drop=True)\n",
    "df.to_csv('forecast results/ensemble_DNN/imb_Oct_ensemble.csv')"
   ]
  },
  {
   "cell_type": "code",
   "execution_count": 298,
   "id": "524de428",
   "metadata": {},
   "outputs": [],
   "source": [
    "df1 = pd.read_csv('forecast results/DNN/imb_January/DNN_forecast_nl2_datimbalanceData_final_YT2_SFH1_CW1_1.csv')\n",
    "df2 = pd.read_csv('forecast results/DNN/imb_January/DNN_forecast_nl2_datimbalanceData_final_YT2_SFH1_CW1_2.csv')\n",
    "df3 = pd.read_csv('forecast results/DNN/imb_January/DNN_forecast_nl2_datimbalanceData_final_YT2_SFH1_CW1_3.csv')\n",
    "df4 = pd.read_csv('forecast results/DNN/imb_January/DNN_forecast_nl2_datimbalanceData_final_YT2_SFH1_CW1_4.csv')\n",
    "\n",
    "df_concat = pd.concat([df1, df2, df3, df4])\n",
    "df_mean = df_concat.groupby(level=0).mean()\n",
    "df = df_mean.set_index(df1['datetime'], drop=True)\n",
    "df.to_csv('forecast results/ensemble_DNN/imb_Jan_ensemble.csv')"
   ]
  },
  {
   "cell_type": "code",
   "execution_count": 299,
   "id": "7e367dc8",
   "metadata": {},
   "outputs": [],
   "source": [
    "df1 = pd.read_csv('forecast results/DNN/imb_April/DNN_forecast_nl2_datimbalanceData_final_YT2_SFH1_CW1_1.csv')\n",
    "df2 = pd.read_csv('forecast results/DNN/imb_April/DNN_forecast_nl2_datimbalanceData_final_YT2_SFH1_CW1_2.csv')\n",
    "df3 = pd.read_csv('forecast results/DNN/imb_April/DNN_forecast_nl2_datimbalanceData_final_YT2_SFH1_CW1_3.csv')\n",
    "df4 = pd.read_csv('forecast results/DNN/imb_April/DNN_forecast_nl2_datimbalanceData_final_YT2_SFH1_CW1_4.csv')\n",
    "\n",
    "df_concat = pd.concat([df1, df2, df3, df4])\n",
    "df_mean = df_concat.groupby(level=0).mean()\n",
    "df = df_mean.set_index(df1['datetime'], drop=True)\n",
    "df.to_csv('forecast results/ensemble_DNN/imb_Apr_ensemble.csv')"
   ]
  },
  {
   "cell_type": "code",
   "execution_count": 300,
   "id": "61a889de",
   "metadata": {},
   "outputs": [],
   "source": [
    "df1 = pd.read_csv('forecast results/DNN/auc_July/DNN_forecast_nl2_datauctionData_final_YT2_SFH1_CW1_1.csv')\n",
    "df2 = pd.read_csv('forecast results/DNN/auc_July/DNN_forecast_nl2_datauctionData_final_YT2_SFH1_CW1_2.csv')\n",
    "df3 = pd.read_csv('forecast results/DNN/auc_July/DNN_forecast_nl2_datauctionData_final_YT2_SFH1_CW1_3.csv')\n",
    "df4 = pd.read_csv('forecast results/DNN/auc_July/DNN_forecast_nl2_datauctionData_final_YT2_SFH1_CW1_4.csv')\n",
    "\n",
    "df_concat = pd.concat([df1, df2, df3, df4])\n",
    "df_mean = df_concat.groupby(level=0).mean()\n",
    "df = df_mean.set_index(df1['datetime'], drop=True)\n",
    "df.to_csv('forecast results/ensemble_DNN/auc_Jul_ensemble.csv')"
   ]
  },
  {
   "cell_type": "code",
   "execution_count": 301,
   "id": "c6cb0f4a",
   "metadata": {},
   "outputs": [],
   "source": [
    "df1 = pd.read_csv('forecast results/DNN/auc_October/DNN_forecast_nl2_datauctionData_final_YT2_SFH1_CW1_1.csv')\n",
    "df2 = pd.read_csv('forecast results/DNN/auc_October/DNN_forecast_nl2_datauctionData_final_YT2_SFH1_CW1_2.csv')\n",
    "df3 = pd.read_csv('forecast results/DNN/auc_October/DNN_forecast_nl2_datauctionData_final_YT2_SFH1_CW1_3.csv')\n",
    "df4 = pd.read_csv('forecast results/DNN/auc_October/DNN_forecast_nl2_datauctionData_final_YT2_SFH1_CW1_4.csv')\n",
    "\n",
    "df_concat = pd.concat([df1, df2, df3, df4])\n",
    "df_mean = df_concat.groupby(level=0).mean()\n",
    "df = df_mean.set_index(df1['datetime'], drop=True)\n",
    "df.to_csv('forecast results/ensemble_DNN/auc_Oct_ensemble.csv')"
   ]
  },
  {
   "cell_type": "code",
   "execution_count": 302,
   "id": "d79a164e",
   "metadata": {},
   "outputs": [],
   "source": [
    "df1 = pd.read_csv('forecast results/DNN/auc_January/DNN_forecast_nl2_datauctionData_final_YT2_SFH1_CW1_1.csv')\n",
    "df2 = pd.read_csv('forecast results/DNN/auc_January/DNN_forecast_nl2_datauctionData_final_YT2_SFH1_CW1_2.csv')\n",
    "df3 = pd.read_csv('forecast results/DNN/auc_January/DNN_forecast_nl2_datauctionData_final_YT2_SFH1_CW1_3.csv')\n",
    "df4 = pd.read_csv('forecast results/DNN/auc_January/DNN_forecast_nl2_datauctionData_final_YT2_SFH1_CW1_4.csv')\n",
    "\n",
    "df_concat = pd.concat([df1, df2, df3, df4])\n",
    "df_mean = df_concat.groupby(level=0).mean()\n",
    "df = df_mean.set_index(df1['datetime'], drop=True)\n",
    "df.to_csv('forecast results/ensemble_DNN/auc_Jan_ensemble.csv')"
   ]
  },
  {
   "cell_type": "code",
   "execution_count": 303,
   "id": "3bdac390",
   "metadata": {},
   "outputs": [],
   "source": [
    "df1 = pd.read_csv('forecast results/DNN/auc_April/DNN_forecast_nl2_datauctionData_final_YT2_SFH1_CW1_1.csv')\n",
    "df2 = pd.read_csv('forecast results/DNN/auc_April/DNN_forecast_nl2_datauctionData_final_YT2_SFH1_CW1_2.csv')\n",
    "df3 = pd.read_csv('forecast results/DNN/auc_April/DNN_forecast_nl2_datauctionData_final_YT2_SFH1_CW1_3.csv')\n",
    "df4 = pd.read_csv('forecast results/DNN/auc_April/DNN_forecast_nl2_datauctionData_final_YT2_SFH1_CW1_4.csv')\n",
    "\n",
    "df_concat = pd.concat([df1, df2, df3, df4])\n",
    "df_mean = df_concat.groupby(level=0).mean()\n",
    "df = df_mean.set_index(df1['datetime'], drop=True)\n",
    "df.to_csv('forecast results/ensemble_DNN/auc_Apr_ensemble.csv')"
   ]
  },
  {
   "cell_type": "code",
   "execution_count": null,
   "id": "6064c76c",
   "metadata": {},
   "outputs": [],
   "source": []
  }
 ],
 "metadata": {
  "kernelspec": {
   "display_name": "Python 3",
   "language": "python",
   "name": "python3"
  },
  "language_info": {
   "codemirror_mode": {
    "name": "ipython",
    "version": 3
   },
   "file_extension": ".py",
   "mimetype": "text/x-python",
   "name": "python",
   "nbconvert_exporter": "python",
   "pygments_lexer": "ipython3",
   "version": "3.8.8"
  }
 },
 "nbformat": 4,
 "nbformat_minor": 5
}

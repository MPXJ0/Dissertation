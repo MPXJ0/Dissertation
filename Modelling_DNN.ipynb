{
 "cells": [
  {
   "cell_type": "code",
   "execution_count": 2,
   "id": "870ab345",
   "metadata": {},
   "outputs": [],
   "source": [
    "import pandas as pd\n",
    "import numpy as np\n",
    "import os\n",
    "\n",
    "from epftoolbox.models import hyperparameter_optimizer\n",
    "from epftoolbox.models import evaluate_dnn_in_test_dataset"
   ]
  },
  {
   "cell_type": "markdown",
   "id": "62e55ebd",
   "metadata": {},
   "source": [
    "### testing period\n",
    "2020/07/20 - 07/26  \n",
    "2020/10/19 - 10/25  \n",
    "2021/01/18 - 01/24  \n",
    "2021/04/19 - 04/25"
   ]
  },
  {
   "cell_type": "markdown",
   "id": "5eb1bb44",
   "metadata": {},
   "source": [
    "# imbalance price"
   ]
  },
  {
   "cell_type": "markdown",
   "id": "f9ce965c",
   "metadata": {},
   "source": [
    "Hyperparameter optimization"
   ]
  },
  {
   "cell_type": "code",
   "execution_count": 12,
   "id": "18aff9a1",
   "metadata": {
    "scrolled": true
   },
   "outputs": [
    {
     "name": "stdout",
     "output_type": "stream",
     "text": [
      "Test datasets: 2020-07-20 00:00:00 - 2020-10-18 23:00:00\n",
      "\n",
      "\n",
      "Tested 1/50 iterations.\n",
      "Best MAE - Validation Dataset\n",
      "  MAE: 60.4 | sMAPE: 57.20 %\n",
      "\n",
      "Best MAE - Test Dataset\n",
      "  MAE: 60.1 | sMAPE: 53.56 %\n"
     ]
    },
    {
     "name": "stderr",
     "output_type": "stream",
     "text": [
      "C:\\Users\\35250\\AppData\\Roaming\\Python\\Python38\\site-packages\\tensorflow\\python\\keras\\optimizer_v2\\optimizer_v2.py:374: UserWarning: The `lr` argument is deprecated, use `learning_rate` instead.\n",
      "  warnings.warn(\n"
     ]
    },
    {
     "name": "stdout",
     "output_type": "stream",
     "text": [
      "\n",
      "\n",
      "Tested 2/50 iterations.\n",
      "Best MAE - Validation Dataset\n",
      "  MAE: 21.0 | sMAPE: 77.44 %\n",
      "\n",
      "Best MAE - Test Dataset\n",
      "  MAE: 26.9 | sMAPE: 87.24 %\n"
     ]
    },
    {
     "name": "stderr",
     "output_type": "stream",
     "text": [
      "C:\\Users\\35250\\AppData\\Roaming\\Python\\Python38\\site-packages\\tensorflow\\python\\keras\\optimizer_v2\\optimizer_v2.py:374: UserWarning: The `lr` argument is deprecated, use `learning_rate` instead.\n",
      "  warnings.warn(\n"
     ]
    },
    {
     "name": "stdout",
     "output_type": "stream",
     "text": [
      "\n",
      "\n",
      "Tested 3/50 iterations.\n",
      "Best MAE - Validation Dataset\n",
      "  MAE: 16.3 | sMAPE: 55.23 %\n",
      "\n",
      "Best MAE - Test Dataset\n",
      "  MAE: 18.1 | sMAPE: 51.99 %\n"
     ]
    },
    {
     "name": "stderr",
     "output_type": "stream",
     "text": [
      "C:\\Users\\35250\\AppData\\Roaming\\Python\\Python38\\site-packages\\tensorflow\\python\\keras\\optimizer_v2\\optimizer_v2.py:374: UserWarning: The `lr` argument is deprecated, use `learning_rate` instead.\n",
      "  warnings.warn(\n"
     ]
    },
    {
     "name": "stdout",
     "output_type": "stream",
     "text": [
      "\n",
      "\n",
      "Tested 4/50 iterations.\n",
      "Best MAE - Validation Dataset\n",
      "  MAE: 16.3 | sMAPE: 55.23 %\n",
      "\n",
      "Best MAE - Test Dataset\n",
      "  MAE: 18.1 | sMAPE: 51.99 %\n"
     ]
    },
    {
     "name": "stderr",
     "output_type": "stream",
     "text": [
      "C:\\Users\\35250\\AppData\\Roaming\\Python\\Python38\\site-packages\\tensorflow\\python\\keras\\optimizer_v2\\optimizer_v2.py:374: UserWarning: The `lr` argument is deprecated, use `learning_rate` instead.\n",
      "  warnings.warn(\n"
     ]
    },
    {
     "name": "stdout",
     "output_type": "stream",
     "text": [
      "\n",
      "\n",
      "Tested 5/50 iterations.\n",
      "Best MAE - Validation Dataset\n",
      "  MAE: 16.3 | sMAPE: 55.23 %\n",
      "\n",
      "Best MAE - Test Dataset\n",
      "  MAE: 18.1 | sMAPE: 51.99 %\n"
     ]
    },
    {
     "name": "stderr",
     "output_type": "stream",
     "text": [
      "C:\\Users\\35250\\AppData\\Roaming\\Python\\Python38\\site-packages\\tensorflow\\python\\keras\\optimizer_v2\\optimizer_v2.py:374: UserWarning: The `lr` argument is deprecated, use `learning_rate` instead.\n",
      "  warnings.warn(\n"
     ]
    },
    {
     "name": "stdout",
     "output_type": "stream",
     "text": [
      "\n",
      "\n",
      "Tested 6/50 iterations.\n",
      "Best MAE - Validation Dataset\n",
      "  MAE: 16.3 | sMAPE: 55.23 %\n",
      "\n",
      "Best MAE - Test Dataset\n",
      "  MAE: 18.1 | sMAPE: 51.99 %\n"
     ]
    },
    {
     "name": "stderr",
     "output_type": "stream",
     "text": [
      "C:\\Users\\35250\\AppData\\Roaming\\Python\\Python38\\site-packages\\tensorflow\\python\\keras\\optimizer_v2\\optimizer_v2.py:374: UserWarning: The `lr` argument is deprecated, use `learning_rate` instead.\n",
      "  warnings.warn(\n"
     ]
    },
    {
     "name": "stdout",
     "output_type": "stream",
     "text": [
      "\n",
      "\n",
      "Tested 7/50 iterations.\n",
      "Best MAE - Validation Dataset\n",
      "  MAE: 16.3 | sMAPE: 55.23 %\n",
      "\n",
      "Best MAE - Test Dataset\n",
      "  MAE: 18.1 | sMAPE: 51.99 %\n"
     ]
    },
    {
     "name": "stderr",
     "output_type": "stream",
     "text": [
      "C:\\Users\\35250\\AppData\\Roaming\\Python\\Python38\\site-packages\\tensorflow\\python\\keras\\optimizer_v2\\optimizer_v2.py:374: UserWarning: The `lr` argument is deprecated, use `learning_rate` instead.\n",
      "  warnings.warn(\n"
     ]
    },
    {
     "name": "stdout",
     "output_type": "stream",
     "text": [
      "\n",
      "\n",
      "Tested 8/50 iterations.\n",
      "Best MAE - Validation Dataset\n",
      "  MAE: 15.8 | sMAPE: 54.17 %\n",
      "\n",
      "Best MAE - Test Dataset\n",
      "  MAE: 17.6 | sMAPE: 50.95 %\n"
     ]
    },
    {
     "name": "stderr",
     "output_type": "stream",
     "text": [
      "C:\\Users\\35250\\AppData\\Roaming\\Python\\Python38\\site-packages\\tensorflow\\python\\keras\\optimizer_v2\\optimizer_v2.py:374: UserWarning: The `lr` argument is deprecated, use `learning_rate` instead.\n",
      "  warnings.warn(\n"
     ]
    },
    {
     "name": "stdout",
     "output_type": "stream",
     "text": [
      "\n",
      "\n",
      "Tested 9/50 iterations.\n",
      "Best MAE - Validation Dataset\n",
      "  MAE: 15.7 | sMAPE: 54.71 %\n",
      "\n",
      "Best MAE - Test Dataset\n",
      "  MAE: 17.4 | sMAPE: 50.77 %\n"
     ]
    },
    {
     "name": "stderr",
     "output_type": "stream",
     "text": [
      "d:\\business analytics\\notebooks\\project\\epftoolbox\\epftoolbox\\data\\_wrangling.py:95: RuntimeWarning: overflow encountered in sinh\n",
      "  transformed_data = np.sinh(data)\n",
      "d:\\business analytics\\notebooks\\project\\epftoolbox\\epftoolbox\\data\\_wrangling.py:67: RuntimeWarning: overflow encountered in multiply\n",
      "  transformed_data[:, i] = data[:, i] * self.mad[i] + self.median[i]\n"
     ]
    },
    {
     "name": "stdout",
     "output_type": "stream",
     "text": [
      "\n",
      "\n",
      "Tested 10/50 iterations.\n",
      "Best MAE - Validation Dataset\n",
      "  MAE: 15.7 | sMAPE: 54.71 %\n",
      "\n",
      "Best MAE - Test Dataset\n",
      "  MAE: 17.4 | sMAPE: 50.77 %\n"
     ]
    },
    {
     "name": "stderr",
     "output_type": "stream",
     "text": [
      "C:\\Users\\35250\\AppData\\Roaming\\Python\\Python38\\site-packages\\tensorflow\\python\\keras\\optimizer_v2\\optimizer_v2.py:374: UserWarning: The `lr` argument is deprecated, use `learning_rate` instead.\n",
      "  warnings.warn(\n"
     ]
    },
    {
     "name": "stdout",
     "output_type": "stream",
     "text": [
      "\n",
      "\n",
      "Tested 11/50 iterations.\n",
      "Best MAE - Validation Dataset\n",
      "  MAE: 15.7 | sMAPE: 54.71 %\n",
      "\n",
      "Best MAE - Test Dataset\n",
      "  MAE: 17.4 | sMAPE: 50.77 %\n"
     ]
    },
    {
     "name": "stderr",
     "output_type": "stream",
     "text": [
      "C:\\Users\\35250\\AppData\\Roaming\\Python\\Python38\\site-packages\\tensorflow\\python\\keras\\optimizer_v2\\optimizer_v2.py:374: UserWarning: The `lr` argument is deprecated, use `learning_rate` instead.\n",
      "  warnings.warn(\n"
     ]
    },
    {
     "name": "stdout",
     "output_type": "stream",
     "text": [
      "\n",
      "\n",
      "Tested 12/50 iterations.\n",
      "Best MAE - Validation Dataset\n",
      "  MAE: 15.7 | sMAPE: 54.71 %\n",
      "\n",
      "Best MAE - Test Dataset\n",
      "  MAE: 17.4 | sMAPE: 50.77 %\n"
     ]
    },
    {
     "name": "stderr",
     "output_type": "stream",
     "text": [
      "C:\\Users\\35250\\AppData\\Roaming\\Python\\Python38\\site-packages\\tensorflow\\python\\keras\\optimizer_v2\\optimizer_v2.py:374: UserWarning: The `lr` argument is deprecated, use `learning_rate` instead.\n",
      "  warnings.warn(\n"
     ]
    },
    {
     "name": "stdout",
     "output_type": "stream",
     "text": [
      "\n",
      "\n",
      "Tested 13/50 iterations.\n",
      "Best MAE - Validation Dataset\n",
      "  MAE: 15.7 | sMAPE: 54.71 %\n",
      "\n",
      "Best MAE - Test Dataset\n",
      "  MAE: 17.4 | sMAPE: 50.77 %\n"
     ]
    },
    {
     "name": "stderr",
     "output_type": "stream",
     "text": [
      "C:\\Users\\35250\\AppData\\Roaming\\Python\\Python38\\site-packages\\tensorflow\\python\\keras\\optimizer_v2\\optimizer_v2.py:374: UserWarning: The `lr` argument is deprecated, use `learning_rate` instead.\n",
      "  warnings.warn(\n"
     ]
    },
    {
     "name": "stdout",
     "output_type": "stream",
     "text": [
      "\n",
      "\n",
      "Tested 14/50 iterations.\n",
      "Best MAE - Validation Dataset\n",
      "  MAE: 15.7 | sMAPE: 54.71 %\n",
      "\n",
      "Best MAE - Test Dataset\n",
      "  MAE: 17.4 | sMAPE: 50.77 %\n"
     ]
    },
    {
     "name": "stderr",
     "output_type": "stream",
     "text": [
      "C:\\Users\\35250\\AppData\\Roaming\\Python\\Python38\\site-packages\\tensorflow\\python\\keras\\optimizer_v2\\optimizer_v2.py:374: UserWarning: The `lr` argument is deprecated, use `learning_rate` instead.\n",
      "  warnings.warn(\n"
     ]
    },
    {
     "name": "stdout",
     "output_type": "stream",
     "text": [
      "\n",
      "\n",
      "Tested 15/50 iterations.\n",
      "Best MAE - Validation Dataset\n",
      "  MAE: 15.7 | sMAPE: 54.71 %\n",
      "\n",
      "Best MAE - Test Dataset\n",
      "  MAE: 17.4 | sMAPE: 50.77 %\n"
     ]
    },
    {
     "name": "stderr",
     "output_type": "stream",
     "text": [
      "C:\\Users\\35250\\AppData\\Roaming\\Python\\Python38\\site-packages\\tensorflow\\python\\keras\\optimizer_v2\\optimizer_v2.py:374: UserWarning: The `lr` argument is deprecated, use `learning_rate` instead.\n",
      "  warnings.warn(\n"
     ]
    },
    {
     "name": "stdout",
     "output_type": "stream",
     "text": [
      "\n",
      "\n",
      "Tested 16/50 iterations.\n",
      "Best MAE - Validation Dataset\n",
      "  MAE: 15.4 | sMAPE: 55.53 %\n",
      "\n",
      "Best MAE - Test Dataset\n",
      "  MAE: 16.8 | sMAPE: 49.94 %\n"
     ]
    },
    {
     "name": "stderr",
     "output_type": "stream",
     "text": [
      "C:\\Users\\35250\\AppData\\Roaming\\Python\\Python38\\site-packages\\tensorflow\\python\\keras\\optimizer_v2\\optimizer_v2.py:374: UserWarning: The `lr` argument is deprecated, use `learning_rate` instead.\n",
      "  warnings.warn(\n"
     ]
    },
    {
     "name": "stdout",
     "output_type": "stream",
     "text": [
      "\n",
      "\n",
      "Tested 17/50 iterations.\n",
      "Best MAE - Validation Dataset\n",
      "  MAE: 15.4 | sMAPE: 55.53 %\n",
      "\n",
      "Best MAE - Test Dataset\n",
      "  MAE: 16.8 | sMAPE: 49.94 %\n"
     ]
    },
    {
     "name": "stderr",
     "output_type": "stream",
     "text": [
      "C:\\Users\\35250\\AppData\\Roaming\\Python\\Python38\\site-packages\\tensorflow\\python\\keras\\optimizer_v2\\optimizer_v2.py:374: UserWarning: The `lr` argument is deprecated, use `learning_rate` instead.\n",
      "  warnings.warn(\n"
     ]
    },
    {
     "name": "stdout",
     "output_type": "stream",
     "text": [
      "\n",
      "\n",
      "Tested 18/50 iterations.\n",
      "Best MAE - Validation Dataset\n",
      "  MAE: 15.4 | sMAPE: 55.53 %\n",
      "\n",
      "Best MAE - Test Dataset\n",
      "  MAE: 16.8 | sMAPE: 49.94 %\n"
     ]
    },
    {
     "name": "stderr",
     "output_type": "stream",
     "text": [
      "C:\\Users\\35250\\AppData\\Roaming\\Python\\Python38\\site-packages\\tensorflow\\python\\keras\\optimizer_v2\\optimizer_v2.py:374: UserWarning: The `lr` argument is deprecated, use `learning_rate` instead.\n",
      "  warnings.warn(\n"
     ]
    },
    {
     "name": "stdout",
     "output_type": "stream",
     "text": [
      "\n",
      "\n",
      "Tested 19/50 iterations.\n",
      "Best MAE - Validation Dataset\n",
      "  MAE: 15.4 | sMAPE: 55.53 %\n",
      "\n",
      "Best MAE - Test Dataset\n",
      "  MAE: 16.8 | sMAPE: 49.94 %\n"
     ]
    },
    {
     "name": "stderr",
     "output_type": "stream",
     "text": [
      "C:\\Users\\35250\\AppData\\Roaming\\Python\\Python38\\site-packages\\tensorflow\\python\\keras\\optimizer_v2\\optimizer_v2.py:374: UserWarning: The `lr` argument is deprecated, use `learning_rate` instead.\n",
      "  warnings.warn(\n"
     ]
    },
    {
     "name": "stdout",
     "output_type": "stream",
     "text": [
      "\n",
      "\n",
      "Tested 20/50 iterations.\n",
      "Best MAE - Validation Dataset\n",
      "  MAE: 15.4 | sMAPE: 55.53 %\n",
      "\n",
      "Best MAE - Test Dataset\n",
      "  MAE: 16.8 | sMAPE: 49.94 %\n"
     ]
    },
    {
     "name": "stderr",
     "output_type": "stream",
     "text": [
      "C:\\Users\\35250\\AppData\\Roaming\\Python\\Python38\\site-packages\\tensorflow\\python\\keras\\optimizer_v2\\optimizer_v2.py:374: UserWarning: The `lr` argument is deprecated, use `learning_rate` instead.\n",
      "  warnings.warn(\n"
     ]
    },
    {
     "name": "stdout",
     "output_type": "stream",
     "text": [
      "\n",
      "\n",
      "Tested 21/50 iterations.\n",
      "Best MAE - Validation Dataset\n",
      "  MAE: 14.8 | sMAPE: 53.19 %\n",
      "\n",
      "Best MAE - Test Dataset\n",
      "  MAE: 15.1 | sMAPE: 45.71 %\n"
     ]
    },
    {
     "name": "stderr",
     "output_type": "stream",
     "text": [
      "C:\\Users\\35250\\AppData\\Roaming\\Python\\Python38\\site-packages\\tensorflow\\python\\keras\\optimizer_v2\\optimizer_v2.py:374: UserWarning: The `lr` argument is deprecated, use `learning_rate` instead.\n",
      "  warnings.warn(\n"
     ]
    },
    {
     "name": "stdout",
     "output_type": "stream",
     "text": [
      "\n",
      "\n",
      "Tested 22/50 iterations.\n",
      "Best MAE - Validation Dataset\n",
      "  MAE: 14.8 | sMAPE: 53.19 %\n",
      "\n",
      "Best MAE - Test Dataset\n",
      "  MAE: 15.1 | sMAPE: 45.71 %\n"
     ]
    },
    {
     "name": "stderr",
     "output_type": "stream",
     "text": [
      "C:\\Users\\35250\\AppData\\Roaming\\Python\\Python38\\site-packages\\tensorflow\\python\\keras\\optimizer_v2\\optimizer_v2.py:374: UserWarning: The `lr` argument is deprecated, use `learning_rate` instead.\n",
      "  warnings.warn(\n"
     ]
    },
    {
     "name": "stdout",
     "output_type": "stream",
     "text": [
      "\n",
      "\n",
      "Tested 23/50 iterations.\n",
      "Best MAE - Validation Dataset\n",
      "  MAE: 14.8 | sMAPE: 53.19 %\n",
      "\n",
      "Best MAE - Test Dataset\n",
      "  MAE: 15.1 | sMAPE: 45.71 %\n"
     ]
    },
    {
     "name": "stderr",
     "output_type": "stream",
     "text": [
      "C:\\Users\\35250\\AppData\\Roaming\\Python\\Python38\\site-packages\\tensorflow\\python\\keras\\optimizer_v2\\optimizer_v2.py:374: UserWarning: The `lr` argument is deprecated, use `learning_rate` instead.\n",
      "  warnings.warn(\n"
     ]
    },
    {
     "name": "stdout",
     "output_type": "stream",
     "text": [
      "\n",
      "\n",
      "Tested 24/50 iterations.\n",
      "Best MAE - Validation Dataset\n",
      "  MAE: 14.6 | sMAPE: 52.96 %\n",
      "\n",
      "Best MAE - Test Dataset\n",
      "  MAE: 15.2 | sMAPE: 45.77 %\n"
     ]
    },
    {
     "name": "stderr",
     "output_type": "stream",
     "text": [
      "C:\\Users\\35250\\AppData\\Roaming\\Python\\Python38\\site-packages\\tensorflow\\python\\keras\\optimizer_v2\\optimizer_v2.py:374: UserWarning: The `lr` argument is deprecated, use `learning_rate` instead.\n",
      "  warnings.warn(\n"
     ]
    },
    {
     "name": "stdout",
     "output_type": "stream",
     "text": [
      "\n",
      "\n",
      "Tested 25/50 iterations.\n",
      "Best MAE - Validation Dataset\n",
      "  MAE: 14.5 | sMAPE: 52.66 %\n",
      "\n",
      "Best MAE - Test Dataset\n",
      "  MAE: 15.2 | sMAPE: 45.71 %\n"
     ]
    },
    {
     "name": "stderr",
     "output_type": "stream",
     "text": [
      "C:\\Users\\35250\\AppData\\Roaming\\Python\\Python38\\site-packages\\tensorflow\\python\\keras\\optimizer_v2\\optimizer_v2.py:374: UserWarning: The `lr` argument is deprecated, use `learning_rate` instead.\n",
      "  warnings.warn(\n"
     ]
    },
    {
     "name": "stdout",
     "output_type": "stream",
     "text": [
      "\n",
      "\n",
      "Tested 26/50 iterations.\n",
      "Best MAE - Validation Dataset\n",
      "  MAE: 14.5 | sMAPE: 52.66 %\n",
      "\n",
      "Best MAE - Test Dataset\n",
      "  MAE: 15.2 | sMAPE: 45.71 %\n"
     ]
    },
    {
     "name": "stderr",
     "output_type": "stream",
     "text": [
      "C:\\Users\\35250\\AppData\\Roaming\\Python\\Python38\\site-packages\\tensorflow\\python\\keras\\optimizer_v2\\optimizer_v2.py:374: UserWarning: The `lr` argument is deprecated, use `learning_rate` instead.\n",
      "  warnings.warn(\n"
     ]
    },
    {
     "name": "stdout",
     "output_type": "stream",
     "text": [
      "\n",
      "\n",
      "Tested 27/50 iterations.\n",
      "Best MAE - Validation Dataset\n",
      "  MAE: 14.5 | sMAPE: 52.66 %\n",
      "\n",
      "Best MAE - Test Dataset\n",
      "  MAE: 15.2 | sMAPE: 45.71 %\n"
     ]
    },
    {
     "name": "stderr",
     "output_type": "stream",
     "text": [
      "C:\\Users\\35250\\AppData\\Roaming\\Python\\Python38\\site-packages\\tensorflow\\python\\keras\\optimizer_v2\\optimizer_v2.py:374: UserWarning: The `lr` argument is deprecated, use `learning_rate` instead.\n",
      "  warnings.warn(\n"
     ]
    },
    {
     "name": "stdout",
     "output_type": "stream",
     "text": [
      "\n",
      "\n",
      "Tested 28/50 iterations.\n",
      "Best MAE - Validation Dataset\n",
      "  MAE: 14.1 | sMAPE: 51.52 %\n",
      "\n",
      "Best MAE - Test Dataset\n",
      "  MAE: 14.6 | sMAPE: 44.95 %\n"
     ]
    },
    {
     "name": "stderr",
     "output_type": "stream",
     "text": [
      "C:\\Users\\35250\\AppData\\Roaming\\Python\\Python38\\site-packages\\tensorflow\\python\\keras\\optimizer_v2\\optimizer_v2.py:374: UserWarning: The `lr` argument is deprecated, use `learning_rate` instead.\n",
      "  warnings.warn(\n"
     ]
    },
    {
     "name": "stdout",
     "output_type": "stream",
     "text": [
      "\n",
      "\n",
      "Tested 29/50 iterations.\n",
      "Best MAE - Validation Dataset\n",
      "  MAE: 14.1 | sMAPE: 51.41 %\n",
      "\n",
      "Best MAE - Test Dataset\n",
      "  MAE: 14.5 | sMAPE: 44.61 %\n"
     ]
    },
    {
     "name": "stderr",
     "output_type": "stream",
     "text": [
      "C:\\Users\\35250\\AppData\\Roaming\\Python\\Python38\\site-packages\\tensorflow\\python\\keras\\optimizer_v2\\optimizer_v2.py:374: UserWarning: The `lr` argument is deprecated, use `learning_rate` instead.\n",
      "  warnings.warn(\n"
     ]
    },
    {
     "name": "stdout",
     "output_type": "stream",
     "text": [
      "\n",
      "\n",
      "Tested 30/50 iterations.\n",
      "Best MAE - Validation Dataset\n",
      "  MAE: 12.0 | sMAPE: 46.38 %\n",
      "\n",
      "Best MAE - Test Dataset\n",
      "  MAE: 13.7 | sMAPE: 43.77 %\n"
     ]
    },
    {
     "name": "stderr",
     "output_type": "stream",
     "text": [
      "C:\\Users\\35250\\AppData\\Roaming\\Python\\Python38\\site-packages\\tensorflow\\python\\keras\\optimizer_v2\\optimizer_v2.py:374: UserWarning: The `lr` argument is deprecated, use `learning_rate` instead.\n",
      "  warnings.warn(\n"
     ]
    },
    {
     "name": "stdout",
     "output_type": "stream",
     "text": [
      "\n",
      "\n",
      "Tested 31/50 iterations.\n",
      "Best MAE - Validation Dataset\n",
      "  MAE: 12.0 | sMAPE: 46.38 %\n",
      "\n",
      "Best MAE - Test Dataset\n",
      "  MAE: 13.7 | sMAPE: 43.77 %\n"
     ]
    },
    {
     "name": "stderr",
     "output_type": "stream",
     "text": [
      "C:\\Users\\35250\\AppData\\Roaming\\Python\\Python38\\site-packages\\tensorflow\\python\\keras\\optimizer_v2\\optimizer_v2.py:374: UserWarning: The `lr` argument is deprecated, use `learning_rate` instead.\n",
      "  warnings.warn(\n"
     ]
    },
    {
     "name": "stdout",
     "output_type": "stream",
     "text": [
      "\n",
      "\n",
      "Tested 32/50 iterations.\n",
      "Best MAE - Validation Dataset\n",
      "  MAE: 12.0 | sMAPE: 46.38 %\n",
      "\n",
      "Best MAE - Test Dataset\n",
      "  MAE: 13.7 | sMAPE: 43.77 %\n"
     ]
    },
    {
     "name": "stderr",
     "output_type": "stream",
     "text": [
      "C:\\Users\\35250\\AppData\\Roaming\\Python\\Python38\\site-packages\\tensorflow\\python\\keras\\optimizer_v2\\optimizer_v2.py:374: UserWarning: The `lr` argument is deprecated, use `learning_rate` instead.\n",
      "  warnings.warn(\n"
     ]
    },
    {
     "name": "stdout",
     "output_type": "stream",
     "text": [
      "\n",
      "\n",
      "Tested 33/50 iterations.\n",
      "Best MAE - Validation Dataset\n",
      "  MAE: 12.0 | sMAPE: 46.38 %\n",
      "\n",
      "Best MAE - Test Dataset\n",
      "  MAE: 13.7 | sMAPE: 43.77 %\n"
     ]
    },
    {
     "name": "stderr",
     "output_type": "stream",
     "text": [
      "C:\\Users\\35250\\AppData\\Roaming\\Python\\Python38\\site-packages\\tensorflow\\python\\keras\\optimizer_v2\\optimizer_v2.py:374: UserWarning: The `lr` argument is deprecated, use `learning_rate` instead.\n",
      "  warnings.warn(\n"
     ]
    },
    {
     "name": "stdout",
     "output_type": "stream",
     "text": [
      "\n",
      "\n",
      "Tested 34/50 iterations.\n",
      "Best MAE - Validation Dataset\n",
      "  MAE: 12.0 | sMAPE: 46.38 %\n",
      "\n",
      "Best MAE - Test Dataset\n",
      "  MAE: 13.7 | sMAPE: 43.77 %\n"
     ]
    },
    {
     "name": "stderr",
     "output_type": "stream",
     "text": [
      "C:\\Users\\35250\\AppData\\Roaming\\Python\\Python38\\site-packages\\tensorflow\\python\\keras\\optimizer_v2\\optimizer_v2.py:374: UserWarning: The `lr` argument is deprecated, use `learning_rate` instead.\n",
      "  warnings.warn(\n"
     ]
    },
    {
     "name": "stdout",
     "output_type": "stream",
     "text": [
      "\n",
      "\n",
      "Tested 35/50 iterations.\n",
      "Best MAE - Validation Dataset\n",
      "  MAE: 12.0 | sMAPE: 46.38 %\n",
      "\n",
      "Best MAE - Test Dataset\n",
      "  MAE: 13.7 | sMAPE: 43.77 %\n"
     ]
    },
    {
     "name": "stderr",
     "output_type": "stream",
     "text": [
      "C:\\Users\\35250\\AppData\\Roaming\\Python\\Python38\\site-packages\\tensorflow\\python\\keras\\optimizer_v2\\optimizer_v2.py:374: UserWarning: The `lr` argument is deprecated, use `learning_rate` instead.\n",
      "  warnings.warn(\n"
     ]
    },
    {
     "name": "stdout",
     "output_type": "stream",
     "text": [
      "\n",
      "\n",
      "Tested 36/50 iterations.\n",
      "Best MAE - Validation Dataset\n",
      "  MAE: 12.0 | sMAPE: 46.38 %\n",
      "\n",
      "Best MAE - Test Dataset\n",
      "  MAE: 13.7 | sMAPE: 43.77 %\n"
     ]
    },
    {
     "name": "stderr",
     "output_type": "stream",
     "text": [
      "C:\\Users\\35250\\AppData\\Roaming\\Python\\Python38\\site-packages\\tensorflow\\python\\keras\\optimizer_v2\\optimizer_v2.py:374: UserWarning: The `lr` argument is deprecated, use `learning_rate` instead.\n",
      "  warnings.warn(\n"
     ]
    },
    {
     "name": "stdout",
     "output_type": "stream",
     "text": [
      "\n",
      "\n",
      "Tested 37/50 iterations.\n",
      "Best MAE - Validation Dataset\n",
      "  MAE: 12.0 | sMAPE: 46.38 %\n",
      "\n",
      "Best MAE - Test Dataset\n",
      "  MAE: 13.7 | sMAPE: 43.77 %\n"
     ]
    },
    {
     "name": "stderr",
     "output_type": "stream",
     "text": [
      "C:\\Users\\35250\\AppData\\Roaming\\Python\\Python38\\site-packages\\tensorflow\\python\\keras\\optimizer_v2\\optimizer_v2.py:374: UserWarning: The `lr` argument is deprecated, use `learning_rate` instead.\n",
      "  warnings.warn(\n"
     ]
    },
    {
     "name": "stdout",
     "output_type": "stream",
     "text": [
      "\n",
      "\n",
      "Tested 38/50 iterations.\n",
      "Best MAE - Validation Dataset\n",
      "  MAE: 12.0 | sMAPE: 46.38 %\n",
      "\n",
      "Best MAE - Test Dataset\n",
      "  MAE: 13.7 | sMAPE: 43.77 %\n"
     ]
    },
    {
     "name": "stderr",
     "output_type": "stream",
     "text": [
      "C:\\Users\\35250\\AppData\\Roaming\\Python\\Python38\\site-packages\\tensorflow\\python\\keras\\optimizer_v2\\optimizer_v2.py:374: UserWarning: The `lr` argument is deprecated, use `learning_rate` instead.\n",
      "  warnings.warn(\n"
     ]
    },
    {
     "name": "stdout",
     "output_type": "stream",
     "text": [
      "\n",
      "\n",
      "Tested 39/50 iterations.\n",
      "Best MAE - Validation Dataset\n",
      "  MAE: 12.0 | sMAPE: 46.38 %\n",
      "\n",
      "Best MAE - Test Dataset\n",
      "  MAE: 13.7 | sMAPE: 43.77 %\n"
     ]
    },
    {
     "name": "stderr",
     "output_type": "stream",
     "text": [
      "C:\\Users\\35250\\AppData\\Roaming\\Python\\Python38\\site-packages\\tensorflow\\python\\keras\\optimizer_v2\\optimizer_v2.py:374: UserWarning: The `lr` argument is deprecated, use `learning_rate` instead.\n",
      "  warnings.warn(\n"
     ]
    },
    {
     "name": "stdout",
     "output_type": "stream",
     "text": [
      "\n",
      "\n",
      "Tested 40/50 iterations.\n",
      "Best MAE - Validation Dataset\n",
      "  MAE: 12.0 | sMAPE: 46.38 %\n",
      "\n",
      "Best MAE - Test Dataset\n",
      "  MAE: 13.7 | sMAPE: 43.77 %\n"
     ]
    },
    {
     "name": "stderr",
     "output_type": "stream",
     "text": [
      "C:\\Users\\35250\\AppData\\Roaming\\Python\\Python38\\site-packages\\tensorflow\\python\\keras\\optimizer_v2\\optimizer_v2.py:374: UserWarning: The `lr` argument is deprecated, use `learning_rate` instead.\n",
      "  warnings.warn(\n"
     ]
    },
    {
     "name": "stdout",
     "output_type": "stream",
     "text": [
      "\n",
      "\n",
      "Tested 41/50 iterations.\n",
      "Best MAE - Validation Dataset\n",
      "  MAE: 12.0 | sMAPE: 46.38 %\n",
      "\n",
      "Best MAE - Test Dataset\n",
      "  MAE: 13.7 | sMAPE: 43.77 %\n"
     ]
    },
    {
     "name": "stderr",
     "output_type": "stream",
     "text": [
      "C:\\Users\\35250\\AppData\\Roaming\\Python\\Python38\\site-packages\\tensorflow\\python\\keras\\optimizer_v2\\optimizer_v2.py:374: UserWarning: The `lr` argument is deprecated, use `learning_rate` instead.\n",
      "  warnings.warn(\n"
     ]
    },
    {
     "name": "stdout",
     "output_type": "stream",
     "text": [
      "\n",
      "\n",
      "Tested 42/50 iterations.\n",
      "Best MAE - Validation Dataset\n",
      "  MAE: 12.0 | sMAPE: 46.38 %\n",
      "\n",
      "Best MAE - Test Dataset\n",
      "  MAE: 13.7 | sMAPE: 43.77 %\n"
     ]
    },
    {
     "name": "stderr",
     "output_type": "stream",
     "text": [
      "C:\\Users\\35250\\AppData\\Roaming\\Python\\Python38\\site-packages\\tensorflow\\python\\keras\\optimizer_v2\\optimizer_v2.py:374: UserWarning: The `lr` argument is deprecated, use `learning_rate` instead.\n",
      "  warnings.warn(\n"
     ]
    },
    {
     "name": "stdout",
     "output_type": "stream",
     "text": [
      "\n",
      "\n",
      "Tested 43/50 iterations.\n",
      "Best MAE - Validation Dataset\n",
      "  MAE: 12.0 | sMAPE: 46.38 %\n",
      "\n",
      "Best MAE - Test Dataset\n",
      "  MAE: 13.7 | sMAPE: 43.77 %\n"
     ]
    },
    {
     "name": "stderr",
     "output_type": "stream",
     "text": [
      "C:\\Users\\35250\\AppData\\Roaming\\Python\\Python38\\site-packages\\tensorflow\\python\\keras\\optimizer_v2\\optimizer_v2.py:374: UserWarning: The `lr` argument is deprecated, use `learning_rate` instead.\n",
      "  warnings.warn(\n"
     ]
    },
    {
     "name": "stdout",
     "output_type": "stream",
     "text": [
      "\n",
      "\n",
      "Tested 44/50 iterations.\n",
      "Best MAE - Validation Dataset\n",
      "  MAE: 12.0 | sMAPE: 46.38 %\n",
      "\n",
      "Best MAE - Test Dataset\n",
      "  MAE: 13.7 | sMAPE: 43.77 %\n"
     ]
    },
    {
     "name": "stderr",
     "output_type": "stream",
     "text": [
      "C:\\Users\\35250\\AppData\\Roaming\\Python\\Python38\\site-packages\\tensorflow\\python\\keras\\optimizer_v2\\optimizer_v2.py:374: UserWarning: The `lr` argument is deprecated, use `learning_rate` instead.\n",
      "  warnings.warn(\n"
     ]
    },
    {
     "name": "stdout",
     "output_type": "stream",
     "text": [
      "\n",
      "\n",
      "Tested 45/50 iterations.\n",
      "Best MAE - Validation Dataset\n",
      "  MAE: 12.0 | sMAPE: 46.38 %\n",
      "\n",
      "Best MAE - Test Dataset\n",
      "  MAE: 13.7 | sMAPE: 43.77 %\n"
     ]
    },
    {
     "name": "stderr",
     "output_type": "stream",
     "text": [
      "C:\\Users\\35250\\AppData\\Roaming\\Python\\Python38\\site-packages\\tensorflow\\python\\keras\\optimizer_v2\\optimizer_v2.py:374: UserWarning: The `lr` argument is deprecated, use `learning_rate` instead.\n",
      "  warnings.warn(\n"
     ]
    },
    {
     "name": "stdout",
     "output_type": "stream",
     "text": [
      "\n",
      "\n",
      "Tested 46/50 iterations.\n",
      "Best MAE - Validation Dataset\n",
      "  MAE: 12.0 | sMAPE: 46.38 %\n",
      "\n",
      "Best MAE - Test Dataset\n",
      "  MAE: 13.7 | sMAPE: 43.77 %\n"
     ]
    },
    {
     "name": "stderr",
     "output_type": "stream",
     "text": [
      "C:\\Users\\35250\\AppData\\Roaming\\Python\\Python38\\site-packages\\tensorflow\\python\\keras\\optimizer_v2\\optimizer_v2.py:374: UserWarning: The `lr` argument is deprecated, use `learning_rate` instead.\n",
      "  warnings.warn(\n"
     ]
    },
    {
     "name": "stdout",
     "output_type": "stream",
     "text": [
      "\n",
      "\n",
      "Tested 47/50 iterations.\n",
      "Best MAE - Validation Dataset\n",
      "  MAE: 12.0 | sMAPE: 46.38 %\n",
      "\n",
      "Best MAE - Test Dataset\n",
      "  MAE: 13.7 | sMAPE: 43.77 %\n"
     ]
    },
    {
     "name": "stderr",
     "output_type": "stream",
     "text": [
      "C:\\Users\\35250\\AppData\\Roaming\\Python\\Python38\\site-packages\\tensorflow\\python\\keras\\optimizer_v2\\optimizer_v2.py:374: UserWarning: The `lr` argument is deprecated, use `learning_rate` instead.\n",
      "  warnings.warn(\n"
     ]
    },
    {
     "name": "stdout",
     "output_type": "stream",
     "text": [
      "\n",
      "\n",
      "Tested 48/50 iterations.\n",
      "Best MAE - Validation Dataset\n",
      "  MAE: 12.0 | sMAPE: 46.38 %\n",
      "\n",
      "Best MAE - Test Dataset\n",
      "  MAE: 13.7 | sMAPE: 43.77 %\n"
     ]
    },
    {
     "name": "stderr",
     "output_type": "stream",
     "text": [
      "C:\\Users\\35250\\AppData\\Roaming\\Python\\Python38\\site-packages\\tensorflow\\python\\keras\\optimizer_v2\\optimizer_v2.py:374: UserWarning: The `lr` argument is deprecated, use `learning_rate` instead.\n",
      "  warnings.warn(\n"
     ]
    },
    {
     "name": "stdout",
     "output_type": "stream",
     "text": [
      "\n",
      "\n",
      "Tested 49/50 iterations.\n",
      "Best MAE - Validation Dataset\n",
      "  MAE: 12.0 | sMAPE: 46.38 %\n",
      "\n",
      "Best MAE - Test Dataset\n",
      "  MAE: 13.7 | sMAPE: 43.77 %\n"
     ]
    },
    {
     "name": "stderr",
     "output_type": "stream",
     "text": [
      "C:\\Users\\35250\\AppData\\Roaming\\Python\\Python38\\site-packages\\tensorflow\\python\\keras\\optimizer_v2\\optimizer_v2.py:374: UserWarning: The `lr` argument is deprecated, use `learning_rate` instead.\n",
      "  warnings.warn(\n"
     ]
    }
   ],
   "source": [
    "# Number of layers in DNN\n",
    "nlayers = 2\n",
    "\n",
    "# data to study\n",
    "dataset = 'imbalanceData_final'\n",
    "\n",
    "# 1 year is considered as 364 days (52 weeks)\n",
    "# years_test = 1\n",
    "\n",
    "# Optional parameters for selecting the test dataset\n",
    "begin_test_date = '2020-07-20'\n",
    "end_test_date = '2020-10-18'\n",
    "\n",
    "# Boolean that selects whether the validation and training datasets are shuffled\n",
    "shuffle_train = 1\n",
    "\n",
    "# Boolean that selects whether a data augmentation technique for DNNs is used\n",
    "data_augmentation = 0\n",
    "\n",
    "# Boolean that selects whether we start a new hyperparameter optimization or we restart an existing one\n",
    "new_hyperopt = 1\n",
    "\n",
    "# Number of years used in the training dataset for recalibration\n",
    "calibration_window = 1\n",
    "\n",
    "# Unique identifier to read the trials file of hyperparameter optimization\n",
    "experiment_id = 3\n",
    "\n",
    "# Number of iterations for hyperparameter optimization\n",
    "max_evals = 50\n",
    "\n",
    "# path_datasets_folder = \"./datasets/\"\n",
    "# path_hyperparameters_folder = \"./experimental_files/\"\n",
    "\n",
    "hyperparameter_optimizer(path_datasets_folder = 'final datasets',\n",
    "                         path_hyperparameters_folder = 'hyperparameter_dnn/imb_July',\n",
    "                         new_hyperopt = new_hyperopt,\n",
    "                         max_evals = max_evals,\n",
    "                         nlayers = nlayers,\n",
    "                         dataset = dataset, \n",
    "                         #years_test = years_test,\n",
    "                         calibration_window = calibration_window, \n",
    "                         shuffle_train = shuffle_train,\n",
    "                         data_augmentation = data_augmentation,\n",
    "                         experiment_id = experiment_id,\n",
    "                         begin_test_date = begin_test_date,\n",
    "                         end_test_date = end_test_date)"
   ]
  },
  {
   "cell_type": "code",
   "execution_count": 13,
   "id": "57d1b30c",
   "metadata": {
    "scrolled": true
   },
   "outputs": [
    {
     "name": "stdout",
     "output_type": "stream",
     "text": [
      "Test datasets: 2021-01-18 00:00:00 - 2021-04-18 23:00:00\n"
     ]
    },
    {
     "name": "stderr",
     "output_type": "stream",
     "text": [
      "C:\\Users\\35250\\AppData\\Roaming\\Python\\Python38\\site-packages\\tensorflow\\python\\keras\\optimizer_v2\\optimizer_v2.py:374: UserWarning: The `lr` argument is deprecated, use `learning_rate` instead.\n",
      "  warnings.warn(\n"
     ]
    },
    {
     "name": "stdout",
     "output_type": "stream",
     "text": [
      "\n",
      "\n",
      "Tested 1/50 iterations.\n",
      "Best MAE - Validation Dataset\n",
      "  MAE: 20.8 | sMAPE: 61.39 %\n",
      "\n",
      "Best MAE - Test Dataset\n",
      "  MAE: 35.7 | sMAPE: 70.76 %\n"
     ]
    },
    {
     "name": "stderr",
     "output_type": "stream",
     "text": [
      "C:\\Users\\35250\\AppData\\Roaming\\Python\\Python38\\site-packages\\tensorflow\\python\\keras\\optimizer_v2\\optimizer_v2.py:374: UserWarning: The `lr` argument is deprecated, use `learning_rate` instead.\n",
      "  warnings.warn(\n"
     ]
    },
    {
     "name": "stdout",
     "output_type": "stream",
     "text": [
      "\n",
      "\n",
      "Tested 2/50 iterations.\n",
      "Best MAE - Validation Dataset\n",
      "  MAE: 20.8 | sMAPE: 60.43 %\n",
      "\n",
      "Best MAE - Test Dataset\n",
      "  MAE: 34.4 | sMAPE: 66.74 %\n"
     ]
    },
    {
     "name": "stderr",
     "output_type": "stream",
     "text": [
      "C:\\Users\\35250\\AppData\\Roaming\\Python\\Python38\\site-packages\\tensorflow\\python\\keras\\optimizer_v2\\optimizer_v2.py:374: UserWarning: The `lr` argument is deprecated, use `learning_rate` instead.\n",
      "  warnings.warn(\n"
     ]
    },
    {
     "name": "stdout",
     "output_type": "stream",
     "text": [
      "\n",
      "\n",
      "Tested 3/50 iterations.\n",
      "Best MAE - Validation Dataset\n",
      "  MAE: 20.8 | sMAPE: 60.43 %\n",
      "\n",
      "Best MAE - Test Dataset\n",
      "  MAE: 34.4 | sMAPE: 66.74 %\n"
     ]
    },
    {
     "name": "stderr",
     "output_type": "stream",
     "text": [
      "C:\\Users\\35250\\AppData\\Roaming\\Python\\Python38\\site-packages\\tensorflow\\python\\keras\\optimizer_v2\\optimizer_v2.py:374: UserWarning: The `lr` argument is deprecated, use `learning_rate` instead.\n",
      "  warnings.warn(\n",
      "d:\\business analytics\\notebooks\\project\\epftoolbox\\epftoolbox\\data\\_wrangling.py:67: RuntimeWarning: overflow encountered in multiply\n",
      "  transformed_data[:, i] = data[:, i] * self.mad[i] + self.median[i]\n"
     ]
    },
    {
     "name": "stdout",
     "output_type": "stream",
     "text": [
      "\n",
      "\n",
      "Tested 4/50 iterations.\n",
      "Best MAE - Validation Dataset\n",
      "  MAE: 20.8 | sMAPE: 60.43 %\n",
      "\n",
      "Best MAE - Test Dataset\n",
      "  MAE: 34.4 | sMAPE: 66.74 %\n"
     ]
    },
    {
     "name": "stderr",
     "output_type": "stream",
     "text": [
      "C:\\Users\\35250\\AppData\\Roaming\\Python\\Python38\\site-packages\\tensorflow\\python\\keras\\optimizer_v2\\optimizer_v2.py:374: UserWarning: The `lr` argument is deprecated, use `learning_rate` instead.\n",
      "  warnings.warn(\n"
     ]
    },
    {
     "name": "stdout",
     "output_type": "stream",
     "text": [
      "\n",
      "\n",
      "Tested 5/50 iterations.\n",
      "Best MAE - Validation Dataset\n",
      "  MAE: 20.0 | sMAPE: 57.82 %\n",
      "\n",
      "Best MAE - Test Dataset\n",
      "  MAE: 33.4 | sMAPE: 63.39 %\n"
     ]
    },
    {
     "name": "stderr",
     "output_type": "stream",
     "text": [
      "C:\\Users\\35250\\AppData\\Roaming\\Python\\Python38\\site-packages\\tensorflow\\python\\keras\\optimizer_v2\\optimizer_v2.py:374: UserWarning: The `lr` argument is deprecated, use `learning_rate` instead.\n",
      "  warnings.warn(\n"
     ]
    },
    {
     "name": "stdout",
     "output_type": "stream",
     "text": [
      "\n",
      "\n",
      "Tested 6/50 iterations.\n",
      "Best MAE - Validation Dataset\n",
      "  MAE: 19.8 | sMAPE: 57.34 %\n",
      "\n",
      "Best MAE - Test Dataset\n",
      "  MAE: 33.1 | sMAPE: 62.72 %\n"
     ]
    },
    {
     "name": "stderr",
     "output_type": "stream",
     "text": [
      "C:\\Users\\35250\\AppData\\Roaming\\Python\\Python38\\site-packages\\tensorflow\\python\\keras\\optimizer_v2\\optimizer_v2.py:374: UserWarning: The `lr` argument is deprecated, use `learning_rate` instead.\n",
      "  warnings.warn(\n"
     ]
    },
    {
     "name": "stdout",
     "output_type": "stream",
     "text": [
      "\n",
      "\n",
      "Tested 7/50 iterations.\n",
      "Best MAE - Validation Dataset\n",
      "  MAE: 19.8 | sMAPE: 57.42 %\n",
      "\n",
      "Best MAE - Test Dataset\n",
      "  MAE: 33.2 | sMAPE: 63.11 %\n"
     ]
    },
    {
     "name": "stderr",
     "output_type": "stream",
     "text": [
      "C:\\Users\\35250\\AppData\\Roaming\\Python\\Python38\\site-packages\\tensorflow\\python\\keras\\optimizer_v2\\optimizer_v2.py:374: UserWarning: The `lr` argument is deprecated, use `learning_rate` instead.\n",
      "  warnings.warn(\n"
     ]
    },
    {
     "name": "stdout",
     "output_type": "stream",
     "text": [
      "\n",
      "\n",
      "Tested 8/50 iterations.\n",
      "Best MAE - Validation Dataset\n",
      "  MAE: 19.8 | sMAPE: 57.42 %\n",
      "\n",
      "Best MAE - Test Dataset\n",
      "  MAE: 33.2 | sMAPE: 63.11 %\n"
     ]
    },
    {
     "name": "stderr",
     "output_type": "stream",
     "text": [
      "C:\\Users\\35250\\AppData\\Roaming\\Python\\Python38\\site-packages\\tensorflow\\python\\keras\\optimizer_v2\\optimizer_v2.py:374: UserWarning: The `lr` argument is deprecated, use `learning_rate` instead.\n",
      "  warnings.warn(\n"
     ]
    },
    {
     "name": "stdout",
     "output_type": "stream",
     "text": [
      "\n",
      "\n",
      "Tested 9/50 iterations.\n",
      "Best MAE - Validation Dataset\n",
      "  MAE: 17.4 | sMAPE: 52.96 %\n",
      "\n",
      "Best MAE - Test Dataset\n",
      "  MAE: 30.4 | sMAPE: 57.16 %\n"
     ]
    },
    {
     "name": "stderr",
     "output_type": "stream",
     "text": [
      "C:\\Users\\35250\\AppData\\Roaming\\Python\\Python38\\site-packages\\tensorflow\\python\\keras\\optimizer_v2\\optimizer_v2.py:374: UserWarning: The `lr` argument is deprecated, use `learning_rate` instead.\n",
      "  warnings.warn(\n"
     ]
    },
    {
     "name": "stdout",
     "output_type": "stream",
     "text": [
      "\n",
      "\n",
      "Tested 10/50 iterations.\n",
      "Best MAE - Validation Dataset\n",
      "  MAE: 17.4 | sMAPE: 52.96 %\n",
      "\n",
      "Best MAE - Test Dataset\n",
      "  MAE: 30.4 | sMAPE: 57.16 %\n"
     ]
    },
    {
     "name": "stderr",
     "output_type": "stream",
     "text": [
      "C:\\Users\\35250\\AppData\\Roaming\\Python\\Python38\\site-packages\\tensorflow\\python\\keras\\optimizer_v2\\optimizer_v2.py:374: UserWarning: The `lr` argument is deprecated, use `learning_rate` instead.\n",
      "  warnings.warn(\n"
     ]
    },
    {
     "name": "stdout",
     "output_type": "stream",
     "text": [
      "\n",
      "\n",
      "Tested 11/50 iterations.\n",
      "Best MAE - Validation Dataset\n",
      "  MAE: 15.4 | sMAPE: 49.40 %\n",
      "\n",
      "Best MAE - Test Dataset\n",
      "  MAE: 28.6 | sMAPE: 53.94 %\n"
     ]
    },
    {
     "name": "stderr",
     "output_type": "stream",
     "text": [
      "C:\\Users\\35250\\AppData\\Roaming\\Python\\Python38\\site-packages\\tensorflow\\python\\keras\\optimizer_v2\\optimizer_v2.py:374: UserWarning: The `lr` argument is deprecated, use `learning_rate` instead.\n",
      "  warnings.warn(\n"
     ]
    },
    {
     "name": "stdout",
     "output_type": "stream",
     "text": [
      "\n",
      "\n",
      "Tested 12/50 iterations.\n",
      "Best MAE - Validation Dataset\n",
      "  MAE: 15.4 | sMAPE: 49.40 %\n",
      "\n",
      "Best MAE - Test Dataset\n",
      "  MAE: 28.6 | sMAPE: 53.94 %\n"
     ]
    },
    {
     "name": "stderr",
     "output_type": "stream",
     "text": [
      "C:\\Users\\35250\\AppData\\Roaming\\Python\\Python38\\site-packages\\tensorflow\\python\\keras\\optimizer_v2\\optimizer_v2.py:374: UserWarning: The `lr` argument is deprecated, use `learning_rate` instead.\n",
      "  warnings.warn(\n"
     ]
    },
    {
     "name": "stdout",
     "output_type": "stream",
     "text": [
      "\n",
      "\n",
      "Tested 13/50 iterations.\n",
      "Best MAE - Validation Dataset\n",
      "  MAE: 15.4 | sMAPE: 49.40 %\n",
      "\n",
      "Best MAE - Test Dataset\n",
      "  MAE: 28.6 | sMAPE: 53.94 %\n"
     ]
    },
    {
     "name": "stderr",
     "output_type": "stream",
     "text": [
      "C:\\Users\\35250\\AppData\\Roaming\\Python\\Python38\\site-packages\\tensorflow\\python\\keras\\optimizer_v2\\optimizer_v2.py:374: UserWarning: The `lr` argument is deprecated, use `learning_rate` instead.\n",
      "  warnings.warn(\n"
     ]
    },
    {
     "name": "stdout",
     "output_type": "stream",
     "text": [
      "\n",
      "\n",
      "Tested 14/50 iterations.\n",
      "Best MAE - Validation Dataset\n",
      "  MAE: 15.4 | sMAPE: 49.40 %\n",
      "\n",
      "Best MAE - Test Dataset\n",
      "  MAE: 28.6 | sMAPE: 53.94 %\n"
     ]
    },
    {
     "name": "stderr",
     "output_type": "stream",
     "text": [
      "C:\\Users\\35250\\AppData\\Roaming\\Python\\Python38\\site-packages\\tensorflow\\python\\keras\\optimizer_v2\\optimizer_v2.py:374: UserWarning: The `lr` argument is deprecated, use `learning_rate` instead.\n",
      "  warnings.warn(\n"
     ]
    },
    {
     "name": "stdout",
     "output_type": "stream",
     "text": [
      "\n",
      "\n",
      "Tested 15/50 iterations.\n",
      "Best MAE - Validation Dataset\n",
      "  MAE: 15.4 | sMAPE: 49.40 %\n",
      "\n",
      "Best MAE - Test Dataset\n",
      "  MAE: 28.6 | sMAPE: 53.94 %\n"
     ]
    },
    {
     "name": "stderr",
     "output_type": "stream",
     "text": [
      "C:\\Users\\35250\\AppData\\Roaming\\Python\\Python38\\site-packages\\tensorflow\\python\\keras\\optimizer_v2\\optimizer_v2.py:374: UserWarning: The `lr` argument is deprecated, use `learning_rate` instead.\n",
      "  warnings.warn(\n"
     ]
    },
    {
     "name": "stdout",
     "output_type": "stream",
     "text": [
      "\n",
      "\n",
      "Tested 16/50 iterations.\n",
      "Best MAE - Validation Dataset\n",
      "  MAE: 15.4 | sMAPE: 49.40 %\n",
      "\n",
      "Best MAE - Test Dataset\n",
      "  MAE: 28.6 | sMAPE: 53.94 %\n",
      "\n",
      "\n",
      "Tested 17/50 iterations.\n",
      "Best MAE - Validation Dataset\n",
      "  MAE: 15.4 | sMAPE: 49.40 %\n",
      "\n",
      "Best MAE - Test Dataset\n",
      "  MAE: 28.6 | sMAPE: 53.94 %\n",
      "\n",
      "\n",
      "Tested 18/50 iterations.\n",
      "Best MAE - Validation Dataset\n",
      "  MAE: 15.4 | sMAPE: 49.40 %\n",
      "\n",
      "Best MAE - Test Dataset\n",
      "  MAE: 28.6 | sMAPE: 53.94 %\n",
      "\n",
      "\n",
      "Tested 19/50 iterations.\n",
      "Best MAE - Validation Dataset\n",
      "  MAE: 15.4 | sMAPE: 49.40 %\n",
      "\n",
      "Best MAE - Test Dataset\n",
      "  MAE: 28.6 | sMAPE: 53.94 %\n"
     ]
    },
    {
     "name": "stderr",
     "output_type": "stream",
     "text": [
      "C:\\Users\\35250\\AppData\\Roaming\\Python\\Python38\\site-packages\\tensorflow\\python\\keras\\optimizer_v2\\optimizer_v2.py:374: UserWarning: The `lr` argument is deprecated, use `learning_rate` instead.\n",
      "  warnings.warn(\n"
     ]
    },
    {
     "name": "stdout",
     "output_type": "stream",
     "text": [
      "\n",
      "\n",
      "Tested 20/50 iterations.\n",
      "Best MAE - Validation Dataset\n",
      "  MAE: 15.4 | sMAPE: 49.40 %\n",
      "\n",
      "Best MAE - Test Dataset\n",
      "  MAE: 28.6 | sMAPE: 53.94 %\n"
     ]
    },
    {
     "name": "stderr",
     "output_type": "stream",
     "text": [
      "C:\\Users\\35250\\AppData\\Roaming\\Python\\Python38\\site-packages\\tensorflow\\python\\keras\\optimizer_v2\\optimizer_v2.py:374: UserWarning: The `lr` argument is deprecated, use `learning_rate` instead.\n",
      "  warnings.warn(\n"
     ]
    },
    {
     "name": "stdout",
     "output_type": "stream",
     "text": [
      "\n",
      "\n",
      "Tested 21/50 iterations.\n",
      "Best MAE - Validation Dataset\n",
      "  MAE: 15.4 | sMAPE: 49.40 %\n",
      "\n",
      "Best MAE - Test Dataset\n",
      "  MAE: 28.6 | sMAPE: 53.94 %\n"
     ]
    },
    {
     "name": "stderr",
     "output_type": "stream",
     "text": [
      "C:\\Users\\35250\\AppData\\Roaming\\Python\\Python38\\site-packages\\tensorflow\\python\\keras\\optimizer_v2\\optimizer_v2.py:374: UserWarning: The `lr` argument is deprecated, use `learning_rate` instead.\n",
      "  warnings.warn(\n"
     ]
    },
    {
     "name": "stdout",
     "output_type": "stream",
     "text": [
      "\n",
      "\n",
      "Tested 22/50 iterations.\n",
      "Best MAE - Validation Dataset\n",
      "  MAE: 15.4 | sMAPE: 49.40 %\n",
      "\n",
      "Best MAE - Test Dataset\n",
      "  MAE: 28.6 | sMAPE: 53.94 %\n"
     ]
    },
    {
     "name": "stderr",
     "output_type": "stream",
     "text": [
      "C:\\Users\\35250\\AppData\\Roaming\\Python\\Python38\\site-packages\\tensorflow\\python\\keras\\optimizer_v2\\optimizer_v2.py:374: UserWarning: The `lr` argument is deprecated, use `learning_rate` instead.\n",
      "  warnings.warn(\n"
     ]
    },
    {
     "name": "stdout",
     "output_type": "stream",
     "text": [
      "\n",
      "\n",
      "Tested 23/50 iterations.\n",
      "Best MAE - Validation Dataset\n",
      "  MAE: 15.4 | sMAPE: 49.40 %\n",
      "\n",
      "Best MAE - Test Dataset\n",
      "  MAE: 28.6 | sMAPE: 53.94 %\n"
     ]
    },
    {
     "name": "stderr",
     "output_type": "stream",
     "text": [
      "C:\\Users\\35250\\AppData\\Roaming\\Python\\Python38\\site-packages\\tensorflow\\python\\keras\\optimizer_v2\\optimizer_v2.py:374: UserWarning: The `lr` argument is deprecated, use `learning_rate` instead.\n",
      "  warnings.warn(\n"
     ]
    },
    {
     "name": "stdout",
     "output_type": "stream",
     "text": [
      "\n",
      "\n",
      "Tested 24/50 iterations.\n",
      "Best MAE - Validation Dataset\n",
      "  MAE: 15.4 | sMAPE: 49.40 %\n",
      "\n",
      "Best MAE - Test Dataset\n",
      "  MAE: 28.6 | sMAPE: 53.94 %\n"
     ]
    },
    {
     "name": "stderr",
     "output_type": "stream",
     "text": [
      "C:\\Users\\35250\\AppData\\Roaming\\Python\\Python38\\site-packages\\tensorflow\\python\\keras\\optimizer_v2\\optimizer_v2.py:374: UserWarning: The `lr` argument is deprecated, use `learning_rate` instead.\n",
      "  warnings.warn(\n"
     ]
    },
    {
     "name": "stdout",
     "output_type": "stream",
     "text": [
      "\n",
      "\n",
      "Tested 25/50 iterations.\n",
      "Best MAE - Validation Dataset\n",
      "  MAE: 15.4 | sMAPE: 49.40 %\n",
      "\n",
      "Best MAE - Test Dataset\n",
      "  MAE: 28.6 | sMAPE: 53.94 %\n"
     ]
    },
    {
     "name": "stderr",
     "output_type": "stream",
     "text": [
      "C:\\Users\\35250\\AppData\\Roaming\\Python\\Python38\\site-packages\\tensorflow\\python\\keras\\optimizer_v2\\optimizer_v2.py:374: UserWarning: The `lr` argument is deprecated, use `learning_rate` instead.\n",
      "  warnings.warn(\n"
     ]
    },
    {
     "name": "stdout",
     "output_type": "stream",
     "text": [
      "\n",
      "\n",
      "Tested 26/50 iterations.\n",
      "Best MAE - Validation Dataset\n",
      "  MAE: 15.4 | sMAPE: 49.40 %\n",
      "\n",
      "Best MAE - Test Dataset\n",
      "  MAE: 28.6 | sMAPE: 53.94 %\n"
     ]
    },
    {
     "name": "stderr",
     "output_type": "stream",
     "text": [
      "C:\\Users\\35250\\AppData\\Roaming\\Python\\Python38\\site-packages\\tensorflow\\python\\keras\\optimizer_v2\\optimizer_v2.py:374: UserWarning: The `lr` argument is deprecated, use `learning_rate` instead.\n",
      "  warnings.warn(\n"
     ]
    },
    {
     "name": "stdout",
     "output_type": "stream",
     "text": [
      "\n",
      "\n",
      "Tested 27/50 iterations.\n",
      "Best MAE - Validation Dataset\n",
      "  MAE: 15.4 | sMAPE: 49.40 %\n",
      "\n",
      "Best MAE - Test Dataset\n",
      "  MAE: 28.6 | sMAPE: 53.94 %\n"
     ]
    },
    {
     "name": "stderr",
     "output_type": "stream",
     "text": [
      "C:\\Users\\35250\\AppData\\Roaming\\Python\\Python38\\site-packages\\tensorflow\\python\\keras\\optimizer_v2\\optimizer_v2.py:374: UserWarning: The `lr` argument is deprecated, use `learning_rate` instead.\n",
      "  warnings.warn(\n"
     ]
    },
    {
     "name": "stdout",
     "output_type": "stream",
     "text": [
      "\n",
      "\n",
      "Tested 28/50 iterations.\n",
      "Best MAE - Validation Dataset\n",
      "  MAE: 15.4 | sMAPE: 49.16 %\n",
      "\n",
      "Best MAE - Test Dataset\n",
      "  MAE: 28.3 | sMAPE: 52.07 %\n"
     ]
    },
    {
     "name": "stderr",
     "output_type": "stream",
     "text": [
      "C:\\Users\\35250\\AppData\\Roaming\\Python\\Python38\\site-packages\\tensorflow\\python\\keras\\optimizer_v2\\optimizer_v2.py:374: UserWarning: The `lr` argument is deprecated, use `learning_rate` instead.\n",
      "  warnings.warn(\n"
     ]
    },
    {
     "name": "stdout",
     "output_type": "stream",
     "text": [
      "\n",
      "\n",
      "Tested 29/50 iterations.\n",
      "Best MAE - Validation Dataset\n",
      "  MAE: 15.4 | sMAPE: 49.16 %\n",
      "\n",
      "Best MAE - Test Dataset\n",
      "  MAE: 28.3 | sMAPE: 52.07 %\n",
      "\n",
      "\n",
      "Tested 30/50 iterations.\n",
      "Best MAE - Validation Dataset\n",
      "  MAE: 15.4 | sMAPE: 49.16 %\n",
      "\n",
      "Best MAE - Test Dataset\n",
      "  MAE: 28.3 | sMAPE: 52.07 %\n"
     ]
    },
    {
     "name": "stderr",
     "output_type": "stream",
     "text": [
      "C:\\Users\\35250\\AppData\\Roaming\\Python\\Python38\\site-packages\\tensorflow\\python\\keras\\optimizer_v2\\optimizer_v2.py:374: UserWarning: The `lr` argument is deprecated, use `learning_rate` instead.\n",
      "  warnings.warn(\n"
     ]
    },
    {
     "name": "stdout",
     "output_type": "stream",
     "text": [
      "\n",
      "\n",
      "Tested 31/50 iterations.\n",
      "Best MAE - Validation Dataset\n",
      "  MAE: 15.4 | sMAPE: 49.16 %\n",
      "\n",
      "Best MAE - Test Dataset\n",
      "  MAE: 28.3 | sMAPE: 52.07 %\n"
     ]
    },
    {
     "name": "stderr",
     "output_type": "stream",
     "text": [
      "C:\\Users\\35250\\AppData\\Roaming\\Python\\Python38\\site-packages\\tensorflow\\python\\keras\\optimizer_v2\\optimizer_v2.py:374: UserWarning: The `lr` argument is deprecated, use `learning_rate` instead.\n",
      "  warnings.warn(\n"
     ]
    },
    {
     "name": "stdout",
     "output_type": "stream",
     "text": [
      "\n",
      "\n",
      "Tested 32/50 iterations.\n",
      "Best MAE - Validation Dataset\n",
      "  MAE: 14.6 | sMAPE: 49.01 %\n",
      "\n",
      "Best MAE - Test Dataset\n",
      "  MAE: 27.6 | sMAPE: 53.69 %\n"
     ]
    },
    {
     "name": "stderr",
     "output_type": "stream",
     "text": [
      "C:\\Users\\35250\\AppData\\Roaming\\Python\\Python38\\site-packages\\tensorflow\\python\\keras\\optimizer_v2\\optimizer_v2.py:374: UserWarning: The `lr` argument is deprecated, use `learning_rate` instead.\n",
      "  warnings.warn(\n"
     ]
    },
    {
     "name": "stdout",
     "output_type": "stream",
     "text": [
      "\n",
      "\n",
      "Tested 33/50 iterations.\n",
      "Best MAE - Validation Dataset\n",
      "  MAE: 14.6 | sMAPE: 49.01 %\n",
      "\n",
      "Best MAE - Test Dataset\n",
      "  MAE: 27.6 | sMAPE: 53.69 %\n"
     ]
    },
    {
     "name": "stderr",
     "output_type": "stream",
     "text": [
      "C:\\Users\\35250\\AppData\\Roaming\\Python\\Python38\\site-packages\\tensorflow\\python\\keras\\optimizer_v2\\optimizer_v2.py:374: UserWarning: The `lr` argument is deprecated, use `learning_rate` instead.\n",
      "  warnings.warn(\n"
     ]
    },
    {
     "name": "stdout",
     "output_type": "stream",
     "text": [
      "\n",
      "\n",
      "Tested 34/50 iterations.\n",
      "Best MAE - Validation Dataset\n",
      "  MAE: 14.6 | sMAPE: 49.01 %\n",
      "\n",
      "Best MAE - Test Dataset\n",
      "  MAE: 27.6 | sMAPE: 53.69 %\n",
      "\n",
      "\n",
      "Tested 35/50 iterations.\n",
      "Best MAE - Validation Dataset\n",
      "  MAE: 14.6 | sMAPE: 49.01 %\n",
      "\n",
      "Best MAE - Test Dataset\n",
      "  MAE: 27.6 | sMAPE: 53.69 %\n",
      "\n",
      "\n",
      "Tested 36/50 iterations.\n",
      "Best MAE - Validation Dataset\n",
      "  MAE: 14.6 | sMAPE: 49.01 %\n",
      "\n",
      "Best MAE - Test Dataset\n",
      "  MAE: 27.6 | sMAPE: 53.69 %\n",
      "\n",
      "\n",
      "Tested 37/50 iterations.\n",
      "Best MAE - Validation Dataset\n",
      "  MAE: 14.6 | sMAPE: 49.01 %\n",
      "\n",
      "Best MAE - Test Dataset\n",
      "  MAE: 27.6 | sMAPE: 53.69 %\n",
      "\n",
      "\n",
      "Tested 38/50 iterations.\n",
      "Best MAE - Validation Dataset\n",
      "  MAE: 14.6 | sMAPE: 49.01 %\n",
      "\n",
      "Best MAE - Test Dataset\n",
      "  MAE: 27.6 | sMAPE: 53.69 %\n",
      "\n",
      "\n",
      "Tested 39/50 iterations.\n",
      "Best MAE - Validation Dataset\n",
      "  MAE: 14.6 | sMAPE: 49.01 %\n",
      "\n",
      "Best MAE - Test Dataset\n",
      "  MAE: 27.6 | sMAPE: 53.69 %\n"
     ]
    },
    {
     "name": "stderr",
     "output_type": "stream",
     "text": [
      "C:\\Users\\35250\\AppData\\Roaming\\Python\\Python38\\site-packages\\tensorflow\\python\\keras\\optimizer_v2\\optimizer_v2.py:374: UserWarning: The `lr` argument is deprecated, use `learning_rate` instead.\n",
      "  warnings.warn(\n"
     ]
    },
    {
     "name": "stdout",
     "output_type": "stream",
     "text": [
      "\n",
      "\n",
      "Tested 40/50 iterations.\n",
      "Best MAE - Validation Dataset\n",
      "  MAE: 14.6 | sMAPE: 49.01 %\n",
      "\n",
      "Best MAE - Test Dataset\n",
      "  MAE: 27.6 | sMAPE: 53.69 %\n"
     ]
    },
    {
     "name": "stderr",
     "output_type": "stream",
     "text": [
      "C:\\Users\\35250\\AppData\\Roaming\\Python\\Python38\\site-packages\\tensorflow\\python\\keras\\optimizer_v2\\optimizer_v2.py:374: UserWarning: The `lr` argument is deprecated, use `learning_rate` instead.\n",
      "  warnings.warn(\n"
     ]
    },
    {
     "name": "stdout",
     "output_type": "stream",
     "text": [
      "\n",
      "\n",
      "Tested 41/50 iterations.\n",
      "Best MAE - Validation Dataset\n",
      "  MAE: 14.0 | sMAPE: 47.75 %\n",
      "\n",
      "Best MAE - Test Dataset\n",
      "  MAE: 26.3 | sMAPE: 50.67 %\n"
     ]
    },
    {
     "name": "stderr",
     "output_type": "stream",
     "text": [
      "C:\\Users\\35250\\AppData\\Roaming\\Python\\Python38\\site-packages\\tensorflow\\python\\keras\\optimizer_v2\\optimizer_v2.py:374: UserWarning: The `lr` argument is deprecated, use `learning_rate` instead.\n",
      "  warnings.warn(\n"
     ]
    },
    {
     "name": "stdout",
     "output_type": "stream",
     "text": [
      "\n",
      "\n",
      "Tested 42/50 iterations.\n",
      "Best MAE - Validation Dataset\n",
      "  MAE: 14.0 | sMAPE: 47.75 %\n",
      "\n",
      "Best MAE - Test Dataset\n",
      "  MAE: 26.3 | sMAPE: 50.67 %\n"
     ]
    },
    {
     "name": "stderr",
     "output_type": "stream",
     "text": [
      "C:\\Users\\35250\\AppData\\Roaming\\Python\\Python38\\site-packages\\tensorflow\\python\\keras\\optimizer_v2\\optimizer_v2.py:374: UserWarning: The `lr` argument is deprecated, use `learning_rate` instead.\n",
      "  warnings.warn(\n"
     ]
    },
    {
     "name": "stdout",
     "output_type": "stream",
     "text": [
      "\n",
      "\n",
      "Tested 43/50 iterations.\n",
      "Best MAE - Validation Dataset\n",
      "  MAE: 14.0 | sMAPE: 47.75 %\n",
      "\n",
      "Best MAE - Test Dataset\n",
      "  MAE: 26.3 | sMAPE: 50.67 %\n"
     ]
    },
    {
     "name": "stderr",
     "output_type": "stream",
     "text": [
      "d:\\business analytics\\notebooks\\project\\epftoolbox\\epftoolbox\\data\\_wrangling.py:95: RuntimeWarning: overflow encountered in sinh\n",
      "  transformed_data = np.sinh(data)\n",
      "d:\\business analytics\\notebooks\\project\\epftoolbox\\epftoolbox\\data\\_wrangling.py:67: RuntimeWarning: overflow encountered in multiply\n",
      "  transformed_data[:, i] = data[:, i] * self.mad[i] + self.median[i]\n"
     ]
    },
    {
     "name": "stdout",
     "output_type": "stream",
     "text": [
      "\n",
      "\n",
      "Tested 44/50 iterations.\n",
      "Best MAE - Validation Dataset\n",
      "  MAE: 14.0 | sMAPE: 47.75 %\n",
      "\n",
      "Best MAE - Test Dataset\n",
      "  MAE: 26.3 | sMAPE: 50.67 %\n"
     ]
    },
    {
     "name": "stderr",
     "output_type": "stream",
     "text": [
      "C:\\Users\\35250\\AppData\\Roaming\\Python\\Python38\\site-packages\\tensorflow\\python\\keras\\optimizer_v2\\optimizer_v2.py:374: UserWarning: The `lr` argument is deprecated, use `learning_rate` instead.\n",
      "  warnings.warn(\n"
     ]
    },
    {
     "name": "stdout",
     "output_type": "stream",
     "text": [
      "\n",
      "\n",
      "Tested 45/50 iterations.\n",
      "Best MAE - Validation Dataset\n",
      "  MAE: 14.0 | sMAPE: 47.75 %\n",
      "\n",
      "Best MAE - Test Dataset\n",
      "  MAE: 26.3 | sMAPE: 50.67 %\n"
     ]
    },
    {
     "name": "stderr",
     "output_type": "stream",
     "text": [
      "C:\\Users\\35250\\AppData\\Roaming\\Python\\Python38\\site-packages\\tensorflow\\python\\keras\\optimizer_v2\\optimizer_v2.py:374: UserWarning: The `lr` argument is deprecated, use `learning_rate` instead.\n",
      "  warnings.warn(\n"
     ]
    },
    {
     "name": "stdout",
     "output_type": "stream",
     "text": [
      "\n",
      "\n",
      "Tested 46/50 iterations.\n",
      "Best MAE - Validation Dataset\n",
      "  MAE: 14.0 | sMAPE: 47.75 %\n",
      "\n",
      "Best MAE - Test Dataset\n",
      "  MAE: 26.3 | sMAPE: 50.67 %\n"
     ]
    },
    {
     "name": "stderr",
     "output_type": "stream",
     "text": [
      "C:\\Users\\35250\\AppData\\Roaming\\Python\\Python38\\site-packages\\tensorflow\\python\\keras\\optimizer_v2\\optimizer_v2.py:374: UserWarning: The `lr` argument is deprecated, use `learning_rate` instead.\n",
      "  warnings.warn(\n"
     ]
    },
    {
     "name": "stdout",
     "output_type": "stream",
     "text": [
      "\n",
      "\n",
      "Tested 47/50 iterations.\n",
      "Best MAE - Validation Dataset\n",
      "  MAE: 14.0 | sMAPE: 47.75 %\n",
      "\n",
      "Best MAE - Test Dataset\n",
      "  MAE: 26.3 | sMAPE: 50.67 %\n"
     ]
    },
    {
     "name": "stderr",
     "output_type": "stream",
     "text": [
      "C:\\Users\\35250\\AppData\\Roaming\\Python\\Python38\\site-packages\\tensorflow\\python\\keras\\optimizer_v2\\optimizer_v2.py:374: UserWarning: The `lr` argument is deprecated, use `learning_rate` instead.\n",
      "  warnings.warn(\n"
     ]
    },
    {
     "name": "stdout",
     "output_type": "stream",
     "text": [
      "\n",
      "\n",
      "Tested 48/50 iterations.\n",
      "Best MAE - Validation Dataset\n",
      "  MAE: 14.0 | sMAPE: 47.75 %\n",
      "\n",
      "Best MAE - Test Dataset\n",
      "  MAE: 26.3 | sMAPE: 50.67 %\n"
     ]
    },
    {
     "name": "stderr",
     "output_type": "stream",
     "text": [
      "C:\\Users\\35250\\AppData\\Roaming\\Python\\Python38\\site-packages\\tensorflow\\python\\keras\\optimizer_v2\\optimizer_v2.py:374: UserWarning: The `lr` argument is deprecated, use `learning_rate` instead.\n",
      "  warnings.warn(\n"
     ]
    },
    {
     "name": "stdout",
     "output_type": "stream",
     "text": [
      "\n",
      "\n",
      "Tested 49/50 iterations.\n",
      "Best MAE - Validation Dataset\n",
      "  MAE: 14.0 | sMAPE: 47.75 %\n",
      "\n",
      "Best MAE - Test Dataset\n",
      "  MAE: 26.3 | sMAPE: 50.67 %\n"
     ]
    },
    {
     "name": "stderr",
     "output_type": "stream",
     "text": [
      "C:\\Users\\35250\\AppData\\Roaming\\Python\\Python38\\site-packages\\tensorflow\\python\\keras\\optimizer_v2\\optimizer_v2.py:374: UserWarning: The `lr` argument is deprecated, use `learning_rate` instead.\n",
      "  warnings.warn(\n"
     ]
    }
   ],
   "source": [
    "# Number of layers in DNN\n",
    "nlayers = 2\n",
    "\n",
    "# data to study\n",
    "dataset = 'imbalanceData_final'\n",
    "\n",
    "# 1 year is considered as 364 days (52 weeks)\n",
    "# years_test = 1\n",
    "\n",
    "# Optional parameters for selecting the test dataset\n",
    "begin_test_date = '2021-01-18'\n",
    "end_test_date = '2021-04-18'\n",
    "\n",
    "# Boolean that selects whether the validation and training datasets are shuffled\n",
    "shuffle_train = 1\n",
    "\n",
    "# Boolean that selects whether a data augmentation technique for DNNs is used\n",
    "data_augmentation = 0\n",
    "\n",
    "# Boolean that selects whether we start a new hyperparameter optimization or we restart an existing one\n",
    "new_hyperopt = 1\n",
    "\n",
    "# Number of years used in the training dataset for recalibration\n",
    "calibration_window = 1\n",
    "\n",
    "# Unique identifier to read the trials file of hyperparameter optimization\n",
    "experiment_id = 3\n",
    "\n",
    "# Number of iterations for hyperparameter optimization\n",
    "max_evals = 50\n",
    "\n",
    "# path_datasets_folder = \"./datasets/\"\n",
    "# path_hyperparameters_folder = \"./experimental_files/\"\n",
    "\n",
    "hyperparameter_optimizer(path_datasets_folder = 'final datasets',\n",
    "                         path_hyperparameters_folder = 'hyperparameter_dnn/imb_January',\n",
    "                         new_hyperopt = new_hyperopt,\n",
    "                         max_evals = max_evals,\n",
    "                         nlayers = nlayers,\n",
    "                         dataset = dataset, \n",
    "                         #years_test = years_test,\n",
    "                         calibration_window = calibration_window, \n",
    "                         shuffle_train = shuffle_train,\n",
    "                         data_augmentation = data_augmentation,\n",
    "                         experiment_id = experiment_id,\n",
    "                         begin_test_date = begin_test_date,\n",
    "                         end_test_date = end_test_date)"
   ]
  },
  {
   "cell_type": "markdown",
   "id": "cd93e79f",
   "metadata": {},
   "source": [
    "Testing"
   ]
  },
  {
   "cell_type": "code",
   "execution_count": 10,
   "id": "fde7531e",
   "metadata": {
    "scrolled": true
   },
   "outputs": [
    {
     "name": "stdout",
     "output_type": "stream",
     "text": [
      "Test datasets: 2020-07-20 00:00:00 - 2020-07-26 23:00:00\n"
     ]
    },
    {
     "name": "stderr",
     "output_type": "stream",
     "text": [
      "C:\\Users\\35250\\AppData\\Roaming\\Python\\Python38\\site-packages\\tensorflow\\python\\keras\\optimizer_v2\\optimizer_v2.py:374: UserWarning: The `lr` argument is deprecated, use `learning_rate` instead.\n",
      "  warnings.warn(\n"
     ]
    },
    {
     "name": "stdout",
     "output_type": "stream",
     "text": [
      "2020-07-20 - sMAPE: 41.28%  |  MAE: 9.593\n"
     ]
    },
    {
     "name": "stderr",
     "output_type": "stream",
     "text": [
      "C:\\Users\\35250\\AppData\\Roaming\\Python\\Python38\\site-packages\\tensorflow\\python\\keras\\optimizer_v2\\optimizer_v2.py:374: UserWarning: The `lr` argument is deprecated, use `learning_rate` instead.\n",
      "  warnings.warn(\n"
     ]
    },
    {
     "name": "stdout",
     "output_type": "stream",
     "text": [
      "2020-07-21 - sMAPE: 36.16%  |  MAE: 9.424\n"
     ]
    },
    {
     "name": "stderr",
     "output_type": "stream",
     "text": [
      "C:\\Users\\35250\\AppData\\Roaming\\Python\\Python38\\site-packages\\tensorflow\\python\\keras\\optimizer_v2\\optimizer_v2.py:374: UserWarning: The `lr` argument is deprecated, use `learning_rate` instead.\n",
      "  warnings.warn(\n"
     ]
    },
    {
     "name": "stdout",
     "output_type": "stream",
     "text": [
      "2020-07-22 - sMAPE: 34.08%  |  MAE: 8.980\n"
     ]
    },
    {
     "name": "stderr",
     "output_type": "stream",
     "text": [
      "C:\\Users\\35250\\AppData\\Roaming\\Python\\Python38\\site-packages\\tensorflow\\python\\keras\\optimizer_v2\\optimizer_v2.py:374: UserWarning: The `lr` argument is deprecated, use `learning_rate` instead.\n",
      "  warnings.warn(\n"
     ]
    },
    {
     "name": "stdout",
     "output_type": "stream",
     "text": [
      "2020-07-23 - sMAPE: 31.84%  |  MAE: 8.630\n"
     ]
    },
    {
     "name": "stderr",
     "output_type": "stream",
     "text": [
      "C:\\Users\\35250\\AppData\\Roaming\\Python\\Python38\\site-packages\\tensorflow\\python\\keras\\optimizer_v2\\optimizer_v2.py:374: UserWarning: The `lr` argument is deprecated, use `learning_rate` instead.\n",
      "  warnings.warn(\n"
     ]
    },
    {
     "name": "stdout",
     "output_type": "stream",
     "text": [
      "2020-07-24 - sMAPE: 29.21%  |  MAE: 8.272\n"
     ]
    },
    {
     "name": "stderr",
     "output_type": "stream",
     "text": [
      "C:\\Users\\35250\\AppData\\Roaming\\Python\\Python38\\site-packages\\tensorflow\\python\\keras\\optimizer_v2\\optimizer_v2.py:374: UserWarning: The `lr` argument is deprecated, use `learning_rate` instead.\n",
      "  warnings.warn(\n"
     ]
    },
    {
     "name": "stdout",
     "output_type": "stream",
     "text": [
      "2020-07-25 - sMAPE: 29.88%  |  MAE: 8.236\n"
     ]
    },
    {
     "name": "stderr",
     "output_type": "stream",
     "text": [
      "C:\\Users\\35250\\AppData\\Roaming\\Python\\Python38\\site-packages\\tensorflow\\python\\keras\\optimizer_v2\\optimizer_v2.py:374: UserWarning: The `lr` argument is deprecated, use `learning_rate` instead.\n",
      "  warnings.warn(\n"
     ]
    },
    {
     "name": "stdout",
     "output_type": "stream",
     "text": [
      "2020-07-26 - sMAPE: 29.73%  |  MAE: 8.085\n"
     ]
    },
    {
     "data": {
      "text/html": [
       "<div>\n",
       "<style scoped>\n",
       "    .dataframe tbody tr th:only-of-type {\n",
       "        vertical-align: middle;\n",
       "    }\n",
       "\n",
       "    .dataframe tbody tr th {\n",
       "        vertical-align: top;\n",
       "    }\n",
       "\n",
       "    .dataframe thead th {\n",
       "        text-align: right;\n",
       "    }\n",
       "</style>\n",
       "<table border=\"1\" class=\"dataframe\">\n",
       "  <thead>\n",
       "    <tr style=\"text-align: right;\">\n",
       "      <th></th>\n",
       "      <th>h0</th>\n",
       "      <th>h1</th>\n",
       "      <th>h2</th>\n",
       "      <th>h3</th>\n",
       "      <th>h4</th>\n",
       "      <th>h5</th>\n",
       "      <th>h6</th>\n",
       "      <th>h7</th>\n",
       "      <th>h8</th>\n",
       "      <th>h9</th>\n",
       "      <th>...</th>\n",
       "      <th>h14</th>\n",
       "      <th>h15</th>\n",
       "      <th>h16</th>\n",
       "      <th>h17</th>\n",
       "      <th>h18</th>\n",
       "      <th>h19</th>\n",
       "      <th>h20</th>\n",
       "      <th>h21</th>\n",
       "      <th>h22</th>\n",
       "      <th>h23</th>\n",
       "    </tr>\n",
       "    <tr>\n",
       "      <th>datetime</th>\n",
       "      <th></th>\n",
       "      <th></th>\n",
       "      <th></th>\n",
       "      <th></th>\n",
       "      <th></th>\n",
       "      <th></th>\n",
       "      <th></th>\n",
       "      <th></th>\n",
       "      <th></th>\n",
       "      <th></th>\n",
       "      <th></th>\n",
       "      <th></th>\n",
       "      <th></th>\n",
       "      <th></th>\n",
       "      <th></th>\n",
       "      <th></th>\n",
       "      <th></th>\n",
       "      <th></th>\n",
       "      <th></th>\n",
       "      <th></th>\n",
       "      <th></th>\n",
       "    </tr>\n",
       "  </thead>\n",
       "  <tbody>\n",
       "    <tr>\n",
       "      <th>2020-07-20</th>\n",
       "      <td>30.086763</td>\n",
       "      <td>29.444304</td>\n",
       "      <td>27.677599</td>\n",
       "      <td>26.112587</td>\n",
       "      <td>23.379074</td>\n",
       "      <td>31.624138</td>\n",
       "      <td>33.38184</td>\n",
       "      <td>33.344517</td>\n",
       "      <td>30.967655</td>\n",
       "      <td>28.650742</td>\n",
       "      <td>...</td>\n",
       "      <td>20.610033</td>\n",
       "      <td>14.725243</td>\n",
       "      <td>14.8743</td>\n",
       "      <td>4.627333</td>\n",
       "      <td>27.549536</td>\n",
       "      <td>38.393394</td>\n",
       "      <td>40.47966</td>\n",
       "      <td>41.301018</td>\n",
       "      <td>34.548374</td>\n",
       "      <td>34.221233</td>\n",
       "    </tr>\n",
       "    <tr>\n",
       "      <th>2020-07-21</th>\n",
       "      <td>34.329845</td>\n",
       "      <td>36.173347</td>\n",
       "      <td>30.955475</td>\n",
       "      <td>26.710873</td>\n",
       "      <td>28.017525</td>\n",
       "      <td>33.627514</td>\n",
       "      <td>31.656872</td>\n",
       "      <td>23.965803</td>\n",
       "      <td>36.951954</td>\n",
       "      <td>30.249594</td>\n",
       "      <td>...</td>\n",
       "      <td>26.607157</td>\n",
       "      <td>28.542444</td>\n",
       "      <td>29.766632</td>\n",
       "      <td>26.860348</td>\n",
       "      <td>29.828465</td>\n",
       "      <td>33.859497</td>\n",
       "      <td>36.905621</td>\n",
       "      <td>38.381775</td>\n",
       "      <td>17.575087</td>\n",
       "      <td>31.707396</td>\n",
       "    </tr>\n",
       "    <tr>\n",
       "      <th>2020-07-22</th>\n",
       "      <td>28.515287</td>\n",
       "      <td>25.792631</td>\n",
       "      <td>30.36462</td>\n",
       "      <td>28.99621</td>\n",
       "      <td>27.434874</td>\n",
       "      <td>32.846661</td>\n",
       "      <td>28.801247</td>\n",
       "      <td>24.504108</td>\n",
       "      <td>31.220621</td>\n",
       "      <td>29.676598</td>\n",
       "      <td>...</td>\n",
       "      <td>22.388168</td>\n",
       "      <td>20.28867</td>\n",
       "      <td>33.17841</td>\n",
       "      <td>42.764515</td>\n",
       "      <td>41.490757</td>\n",
       "      <td>41.974491</td>\n",
       "      <td>40.435154</td>\n",
       "      <td>36.388763</td>\n",
       "      <td>21.803341</td>\n",
       "      <td>30.756189</td>\n",
       "    </tr>\n",
       "    <tr>\n",
       "      <th>2020-07-23</th>\n",
       "      <td>26.605164</td>\n",
       "      <td>28.21483</td>\n",
       "      <td>34.2173</td>\n",
       "      <td>32.652466</td>\n",
       "      <td>34.467964</td>\n",
       "      <td>35.585838</td>\n",
       "      <td>38.457134</td>\n",
       "      <td>31.939249</td>\n",
       "      <td>41.205067</td>\n",
       "      <td>35.170616</td>\n",
       "      <td>...</td>\n",
       "      <td>24.273432</td>\n",
       "      <td>18.529474</td>\n",
       "      <td>26.291204</td>\n",
       "      <td>42.859764</td>\n",
       "      <td>54.225979</td>\n",
       "      <td>46.767723</td>\n",
       "      <td>49.19685</td>\n",
       "      <td>47.579178</td>\n",
       "      <td>46.057209</td>\n",
       "      <td>36.909607</td>\n",
       "    </tr>\n",
       "    <tr>\n",
       "      <th>2020-07-24</th>\n",
       "      <td>41.25684</td>\n",
       "      <td>37.385605</td>\n",
       "      <td>30.073887</td>\n",
       "      <td>25.296862</td>\n",
       "      <td>35.70406</td>\n",
       "      <td>42.226814</td>\n",
       "      <td>41.085278</td>\n",
       "      <td>46.299458</td>\n",
       "      <td>52.624409</td>\n",
       "      <td>54.104874</td>\n",
       "      <td>...</td>\n",
       "      <td>35.963997</td>\n",
       "      <td>35.106689</td>\n",
       "      <td>23.539434</td>\n",
       "      <td>41.118267</td>\n",
       "      <td>49.121494</td>\n",
       "      <td>53.547821</td>\n",
       "      <td>43.563755</td>\n",
       "      <td>45.819927</td>\n",
       "      <td>39.125675</td>\n",
       "      <td>33.297497</td>\n",
       "    </tr>\n",
       "    <tr>\n",
       "      <th>2020-07-25</th>\n",
       "      <td>19.50366</td>\n",
       "      <td>17.16584</td>\n",
       "      <td>27.68198</td>\n",
       "      <td>31.736706</td>\n",
       "      <td>35.796894</td>\n",
       "      <td>37.471474</td>\n",
       "      <td>32.085392</td>\n",
       "      <td>23.922506</td>\n",
       "      <td>38.283688</td>\n",
       "      <td>40.897991</td>\n",
       "      <td>...</td>\n",
       "      <td>48.105141</td>\n",
       "      <td>45.479084</td>\n",
       "      <td>46.57243</td>\n",
       "      <td>48.693119</td>\n",
       "      <td>56.979259</td>\n",
       "      <td>53.667454</td>\n",
       "      <td>55.843781</td>\n",
       "      <td>56.403397</td>\n",
       "      <td>42.814854</td>\n",
       "      <td>44.569416</td>\n",
       "    </tr>\n",
       "    <tr>\n",
       "      <th>2020-07-26</th>\n",
       "      <td>27.816628</td>\n",
       "      <td>17.606995</td>\n",
       "      <td>32.142338</td>\n",
       "      <td>39.921295</td>\n",
       "      <td>43.330765</td>\n",
       "      <td>34.792591</td>\n",
       "      <td>36.217743</td>\n",
       "      <td>38.844112</td>\n",
       "      <td>26.725235</td>\n",
       "      <td>29.963087</td>\n",
       "      <td>...</td>\n",
       "      <td>27.799423</td>\n",
       "      <td>22.798113</td>\n",
       "      <td>21.697651</td>\n",
       "      <td>44.471214</td>\n",
       "      <td>41.514668</td>\n",
       "      <td>37.559826</td>\n",
       "      <td>31.477987</td>\n",
       "      <td>40.6096</td>\n",
       "      <td>35.174061</td>\n",
       "      <td>28.059969</td>\n",
       "    </tr>\n",
       "  </tbody>\n",
       "</table>\n",
       "<p>7 rows × 24 columns</p>\n",
       "</div>"
      ],
      "text/plain": [
       "                   h0         h1         h2         h3         h4         h5  \\\n",
       "datetime                                                                       \n",
       "2020-07-20  30.086763  29.444304  27.677599  26.112587  23.379074  31.624138   \n",
       "2020-07-21  34.329845  36.173347  30.955475  26.710873  28.017525  33.627514   \n",
       "2020-07-22  28.515287  25.792631   30.36462   28.99621  27.434874  32.846661   \n",
       "2020-07-23  26.605164   28.21483    34.2173  32.652466  34.467964  35.585838   \n",
       "2020-07-24   41.25684  37.385605  30.073887  25.296862   35.70406  42.226814   \n",
       "2020-07-25   19.50366   17.16584   27.68198  31.736706  35.796894  37.471474   \n",
       "2020-07-26  27.816628  17.606995  32.142338  39.921295  43.330765  34.792591   \n",
       "\n",
       "                   h6         h7         h8         h9  ...        h14  \\\n",
       "datetime                                                ...              \n",
       "2020-07-20   33.38184  33.344517  30.967655  28.650742  ...  20.610033   \n",
       "2020-07-21  31.656872  23.965803  36.951954  30.249594  ...  26.607157   \n",
       "2020-07-22  28.801247  24.504108  31.220621  29.676598  ...  22.388168   \n",
       "2020-07-23  38.457134  31.939249  41.205067  35.170616  ...  24.273432   \n",
       "2020-07-24  41.085278  46.299458  52.624409  54.104874  ...  35.963997   \n",
       "2020-07-25  32.085392  23.922506  38.283688  40.897991  ...  48.105141   \n",
       "2020-07-26  36.217743  38.844112  26.725235  29.963087  ...  27.799423   \n",
       "\n",
       "                  h15        h16        h17        h18        h19        h20  \\\n",
       "datetime                                                                       \n",
       "2020-07-20  14.725243    14.8743   4.627333  27.549536  38.393394   40.47966   \n",
       "2020-07-21  28.542444  29.766632  26.860348  29.828465  33.859497  36.905621   \n",
       "2020-07-22   20.28867   33.17841  42.764515  41.490757  41.974491  40.435154   \n",
       "2020-07-23  18.529474  26.291204  42.859764  54.225979  46.767723   49.19685   \n",
       "2020-07-24  35.106689  23.539434  41.118267  49.121494  53.547821  43.563755   \n",
       "2020-07-25  45.479084   46.57243  48.693119  56.979259  53.667454  55.843781   \n",
       "2020-07-26  22.798113  21.697651  44.471214  41.514668  37.559826  31.477987   \n",
       "\n",
       "                  h21        h22        h23  \n",
       "datetime                                     \n",
       "2020-07-20  41.301018  34.548374  34.221233  \n",
       "2020-07-21  38.381775  17.575087  31.707396  \n",
       "2020-07-22  36.388763  21.803341  30.756189  \n",
       "2020-07-23  47.579178  46.057209  36.909607  \n",
       "2020-07-24  45.819927  39.125675  33.297497  \n",
       "2020-07-25  56.403397  42.814854  44.569416  \n",
       "2020-07-26    40.6096  35.174061  28.059969  \n",
       "\n",
       "[7 rows x 24 columns]"
      ]
     },
     "execution_count": 10,
     "metadata": {},
     "output_type": "execute_result"
    }
   ],
   "source": [
    "# Number of layers in DNN\n",
    "nlayers = 2\n",
    "\n",
    "# data to study\n",
    "dataset = 'imbalanceData_final'\n",
    "\n",
    "# 1 year is considered as 364 days (52 weeks)\n",
    "# years_test = 1\n",
    "\n",
    "# Optional parameters for selecting the test dataset\n",
    "begin_test_date = '2020-07-20'\n",
    "end_test_date = '2020-07-26'\n",
    "\n",
    "# for recalibration the validation and the training datasets are always shuffled\n",
    "shuffle_train = 1\n",
    "\n",
    "# Boolean that selects whether a data augmentation technique for DNNs is used\n",
    "data_augmentation = 0\n",
    "\n",
    "# Boolean that selects whether we start a new recalibration or we restart an existing one\n",
    "new_recalibration = 1\n",
    "\n",
    "# Number of years used in the training dataset for recalibration\n",
    "calibration_window = 1\n",
    "\n",
    "# Unique identifier to read the trials file of hyperparameter optimization\n",
    "experiment_id = 1\n",
    "\n",
    "# Set up the paths for saving data (this are the defaults for the library)\n",
    "# path_datasets_folder = os.path.join('.', 'datasets')\n",
    "# path_recalibration_folder = os.path.join('.', 'experimental_files')\n",
    "# path_hyperparameter_folder = os.path.join('.', 'experimental_files')\n",
    "\n",
    "evaluate_dnn_in_test_dataset(experiment_id,\n",
    "                             path_hyperparameter_folder = 'hyperparameter_dnn/imb_July',\n",
    "                             path_datasets_folder = 'final datasets',\n",
    "                             shuffle_train = shuffle_train,\n",
    "                             path_recalibration_folder = 'forecast results/DNN/imb_July',\n",
    "                             nlayers = nlayers,\n",
    "                             dataset = dataset,\n",
    "                             #years_test = years_test,\n",
    "                             data_augmentation = data_augmentation,\n",
    "                             calibration_window = calibration_window,\n",
    "                             new_recalibration = new_recalibration,\n",
    "                             begin_test_date = begin_test_date,\n",
    "                             end_test_date = end_test_date)"
   ]
  },
  {
   "cell_type": "code",
   "execution_count": null,
   "id": "4d609b9b",
   "metadata": {},
   "outputs": [],
   "source": []
  },
  {
   "cell_type": "markdown",
   "id": "c0907cbd",
   "metadata": {},
   "source": [
    "# auction price"
   ]
  },
  {
   "cell_type": "markdown",
   "id": "1421c5df",
   "metadata": {},
   "source": [
    "Hyperparameter optimization"
   ]
  },
  {
   "cell_type": "code",
   "execution_count": 11,
   "id": "89577d35",
   "metadata": {
    "scrolled": true
   },
   "outputs": [
    {
     "name": "stdout",
     "output_type": "stream",
     "text": [
      "Test datasets: 2021-01-18 00:00:00 - 2021-04-18 23:00:00\n"
     ]
    },
    {
     "name": "stderr",
     "output_type": "stream",
     "text": [
      "C:\\Users\\35250\\AppData\\Roaming\\Python\\Python38\\site-packages\\tensorflow\\python\\keras\\optimizer_v2\\optimizer_v2.py:374: UserWarning: The `lr` argument is deprecated, use `learning_rate` instead.\n",
      "  warnings.warn(\n"
     ]
    },
    {
     "name": "stdout",
     "output_type": "stream",
     "text": [
      "\n",
      "\n",
      "Tested 1/20 iterations.\n",
      "Best MAE - Validation Dataset\n",
      "  MAE: 10.7 | sMAPE: 29.28 %\n",
      "\n",
      "Best MAE - Test Dataset\n",
      "  MAE: 25.0 | sMAPE: 50.45 %\n"
     ]
    },
    {
     "name": "stderr",
     "output_type": "stream",
     "text": [
      "C:\\Users\\35250\\AppData\\Roaming\\Python\\Python38\\site-packages\\tensorflow\\python\\keras\\optimizer_v2\\optimizer_v2.py:374: UserWarning: The `lr` argument is deprecated, use `learning_rate` instead.\n",
      "  warnings.warn(\n"
     ]
    },
    {
     "name": "stdout",
     "output_type": "stream",
     "text": [
      "\n",
      "\n",
      "Tested 2/20 iterations.\n",
      "Best MAE - Validation Dataset\n",
      "  MAE: 10.7 | sMAPE: 29.23 %\n",
      "\n",
      "Best MAE - Test Dataset\n",
      "  MAE: 25.1 | sMAPE: 50.77 %\n"
     ]
    },
    {
     "name": "stderr",
     "output_type": "stream",
     "text": [
      "C:\\Users\\35250\\AppData\\Roaming\\Python\\Python38\\site-packages\\tensorflow\\python\\keras\\optimizer_v2\\optimizer_v2.py:374: UserWarning: The `lr` argument is deprecated, use `learning_rate` instead.\n",
      "  warnings.warn(\n"
     ]
    },
    {
     "name": "stdout",
     "output_type": "stream",
     "text": [
      "\n",
      "\n",
      "Tested 3/20 iterations.\n",
      "Best MAE - Validation Dataset\n",
      "  MAE: 10.7 | sMAPE: 29.23 %\n",
      "\n",
      "Best MAE - Test Dataset\n",
      "  MAE: 25.1 | sMAPE: 50.77 %\n",
      "\n",
      "\n",
      "Tested 4/20 iterations.\n",
      "Best MAE - Validation Dataset\n",
      "  MAE: 5.5 | sMAPE: 16.76 %\n",
      "\n",
      "Best MAE - Test Dataset\n",
      "  MAE: 13.5 | sMAPE: 24.31 %\n"
     ]
    },
    {
     "name": "stderr",
     "output_type": "stream",
     "text": [
      "C:\\Users\\35250\\AppData\\Roaming\\Python\\Python38\\site-packages\\tensorflow\\python\\keras\\optimizer_v2\\optimizer_v2.py:374: UserWarning: The `lr` argument is deprecated, use `learning_rate` instead.\n",
      "  warnings.warn(\n"
     ]
    },
    {
     "name": "stdout",
     "output_type": "stream",
     "text": [
      "\n",
      "\n",
      "Tested 5/20 iterations.\n",
      "Best MAE - Validation Dataset\n",
      "  MAE: 5.1 | sMAPE: 15.33 %\n",
      "\n",
      "Best MAE - Test Dataset\n",
      "  MAE: 11.8 | sMAPE: 19.44 %\n"
     ]
    },
    {
     "name": "stderr",
     "output_type": "stream",
     "text": [
      "C:\\Users\\35250\\AppData\\Roaming\\Python\\Python38\\site-packages\\tensorflow\\python\\keras\\optimizer_v2\\optimizer_v2.py:374: UserWarning: The `lr` argument is deprecated, use `learning_rate` instead.\n",
      "  warnings.warn(\n"
     ]
    },
    {
     "name": "stdout",
     "output_type": "stream",
     "text": [
      "\n",
      "\n",
      "Tested 6/20 iterations.\n",
      "Best MAE - Validation Dataset\n",
      "  MAE: 5.1 | sMAPE: 15.33 %\n",
      "\n",
      "Best MAE - Test Dataset\n",
      "  MAE: 11.8 | sMAPE: 19.44 %\n"
     ]
    },
    {
     "name": "stderr",
     "output_type": "stream",
     "text": [
      "C:\\Users\\35250\\AppData\\Roaming\\Python\\Python38\\site-packages\\tensorflow\\python\\keras\\optimizer_v2\\optimizer_v2.py:374: UserWarning: The `lr` argument is deprecated, use `learning_rate` instead.\n",
      "  warnings.warn(\n"
     ]
    },
    {
     "name": "stdout",
     "output_type": "stream",
     "text": [
      "\n",
      "\n",
      "Tested 7/20 iterations.\n",
      "Best MAE - Validation Dataset\n",
      "  MAE: 5.1 | sMAPE: 15.33 %\n",
      "\n",
      "Best MAE - Test Dataset\n",
      "  MAE: 11.8 | sMAPE: 19.44 %\n"
     ]
    },
    {
     "name": "stderr",
     "output_type": "stream",
     "text": [
      "C:\\Users\\35250\\AppData\\Roaming\\Python\\Python38\\site-packages\\tensorflow\\python\\keras\\optimizer_v2\\optimizer_v2.py:374: UserWarning: The `lr` argument is deprecated, use `learning_rate` instead.\n",
      "  warnings.warn(\n"
     ]
    },
    {
     "name": "stdout",
     "output_type": "stream",
     "text": [
      "\n",
      "\n",
      "Tested 8/20 iterations.\n",
      "Best MAE - Validation Dataset\n",
      "  MAE: 5.1 | sMAPE: 15.33 %\n",
      "\n",
      "Best MAE - Test Dataset\n",
      "  MAE: 11.8 | sMAPE: 19.44 %\n"
     ]
    },
    {
     "name": "stderr",
     "output_type": "stream",
     "text": [
      "C:\\Users\\35250\\AppData\\Roaming\\Python\\Python38\\site-packages\\tensorflow\\python\\keras\\optimizer_v2\\optimizer_v2.py:374: UserWarning: The `lr` argument is deprecated, use `learning_rate` instead.\n",
      "  warnings.warn(\n"
     ]
    },
    {
     "name": "stdout",
     "output_type": "stream",
     "text": [
      "\n",
      "\n",
      "Tested 9/20 iterations.\n",
      "Best MAE - Validation Dataset\n",
      "  MAE: 5.1 | sMAPE: 15.33 %\n",
      "\n",
      "Best MAE - Test Dataset\n",
      "  MAE: 11.8 | sMAPE: 19.44 %\n"
     ]
    },
    {
     "name": "stderr",
     "output_type": "stream",
     "text": [
      "C:\\Users\\35250\\AppData\\Roaming\\Python\\Python38\\site-packages\\tensorflow\\python\\keras\\optimizer_v2\\optimizer_v2.py:374: UserWarning: The `lr` argument is deprecated, use `learning_rate` instead.\n",
      "  warnings.warn(\n"
     ]
    },
    {
     "name": "stdout",
     "output_type": "stream",
     "text": [
      "\n",
      "\n",
      "Tested 10/20 iterations.\n",
      "Best MAE - Validation Dataset\n",
      "  MAE: 5.1 | sMAPE: 15.33 %\n",
      "\n",
      "Best MAE - Test Dataset\n",
      "  MAE: 11.8 | sMAPE: 19.44 %\n",
      "\n",
      "\n",
      "Tested 11/20 iterations.\n",
      "Best MAE - Validation Dataset\n",
      "  MAE: 5.1 | sMAPE: 15.33 %\n",
      "\n",
      "Best MAE - Test Dataset\n",
      "  MAE: 11.8 | sMAPE: 19.44 %\n"
     ]
    },
    {
     "name": "stderr",
     "output_type": "stream",
     "text": [
      "d:\\business analytics\\notebooks\\project\\epftoolbox\\epftoolbox\\data\\_wrangling.py:95: RuntimeWarning: overflow encountered in sinh\n",
      "  transformed_data = np.sinh(data)\n"
     ]
    },
    {
     "name": "stdout",
     "output_type": "stream",
     "text": [
      "\n",
      "\n",
      "Tested 12/20 iterations.\n",
      "Best MAE - Validation Dataset\n",
      "  MAE: 5.1 | sMAPE: 15.33 %\n",
      "\n",
      "Best MAE - Test Dataset\n",
      "  MAE: 11.8 | sMAPE: 19.44 %\n",
      "\n",
      "\n",
      "Tested 13/20 iterations.\n",
      "Best MAE - Validation Dataset\n",
      "  MAE: 5.1 | sMAPE: 15.33 %\n",
      "\n",
      "Best MAE - Test Dataset\n",
      "  MAE: 11.8 | sMAPE: 19.44 %\n"
     ]
    },
    {
     "name": "stderr",
     "output_type": "stream",
     "text": [
      "C:\\Users\\35250\\AppData\\Roaming\\Python\\Python38\\site-packages\\tensorflow\\python\\keras\\optimizer_v2\\optimizer_v2.py:374: UserWarning: The `lr` argument is deprecated, use `learning_rate` instead.\n",
      "  warnings.warn(\n"
     ]
    },
    {
     "name": "stdout",
     "output_type": "stream",
     "text": [
      "\n",
      "\n",
      "Tested 14/20 iterations.\n",
      "Best MAE - Validation Dataset\n",
      "  MAE: 5.1 | sMAPE: 15.33 %\n",
      "\n",
      "Best MAE - Test Dataset\n",
      "  MAE: 11.8 | sMAPE: 19.44 %\n"
     ]
    },
    {
     "name": "stderr",
     "output_type": "stream",
     "text": [
      "C:\\Users\\35250\\AppData\\Roaming\\Python\\Python38\\site-packages\\tensorflow\\python\\keras\\optimizer_v2\\optimizer_v2.py:374: UserWarning: The `lr` argument is deprecated, use `learning_rate` instead.\n",
      "  warnings.warn(\n"
     ]
    },
    {
     "name": "stdout",
     "output_type": "stream",
     "text": [
      "\n",
      "\n",
      "Tested 15/20 iterations.\n",
      "Best MAE - Validation Dataset\n",
      "  MAE: 5.1 | sMAPE: 15.33 %\n",
      "\n",
      "Best MAE - Test Dataset\n",
      "  MAE: 11.8 | sMAPE: 19.44 %\n"
     ]
    },
    {
     "name": "stderr",
     "output_type": "stream",
     "text": [
      "C:\\Users\\35250\\AppData\\Roaming\\Python\\Python38\\site-packages\\tensorflow\\python\\keras\\optimizer_v2\\optimizer_v2.py:374: UserWarning: The `lr` argument is deprecated, use `learning_rate` instead.\n",
      "  warnings.warn(\n"
     ]
    },
    {
     "name": "stdout",
     "output_type": "stream",
     "text": [
      "\n",
      "\n",
      "Tested 16/20 iterations.\n",
      "Best MAE - Validation Dataset\n",
      "  MAE: 5.1 | sMAPE: 15.33 %\n",
      "\n",
      "Best MAE - Test Dataset\n",
      "  MAE: 11.8 | sMAPE: 19.44 %\n"
     ]
    },
    {
     "name": "stderr",
     "output_type": "stream",
     "text": [
      "C:\\Users\\35250\\AppData\\Roaming\\Python\\Python38\\site-packages\\tensorflow\\python\\keras\\optimizer_v2\\optimizer_v2.py:374: UserWarning: The `lr` argument is deprecated, use `learning_rate` instead.\n",
      "  warnings.warn(\n"
     ]
    },
    {
     "name": "stdout",
     "output_type": "stream",
     "text": [
      "\n",
      "\n",
      "Tested 17/20 iterations.\n",
      "Best MAE - Validation Dataset\n",
      "  MAE: 5.1 | sMAPE: 15.33 %\n",
      "\n",
      "Best MAE - Test Dataset\n",
      "  MAE: 11.8 | sMAPE: 19.44 %\n"
     ]
    },
    {
     "name": "stderr",
     "output_type": "stream",
     "text": [
      "C:\\Users\\35250\\AppData\\Roaming\\Python\\Python38\\site-packages\\tensorflow\\python\\keras\\optimizer_v2\\optimizer_v2.py:374: UserWarning: The `lr` argument is deprecated, use `learning_rate` instead.\n",
      "  warnings.warn(\n"
     ]
    },
    {
     "name": "stdout",
     "output_type": "stream",
     "text": [
      "\n",
      "\n",
      "Tested 18/20 iterations.\n",
      "Best MAE - Validation Dataset\n",
      "  MAE: 5.1 | sMAPE: 15.33 %\n",
      "\n",
      "Best MAE - Test Dataset\n",
      "  MAE: 11.8 | sMAPE: 19.44 %\n"
     ]
    },
    {
     "name": "stderr",
     "output_type": "stream",
     "text": [
      "C:\\Users\\35250\\AppData\\Roaming\\Python\\Python38\\site-packages\\tensorflow\\python\\keras\\optimizer_v2\\optimizer_v2.py:374: UserWarning: The `lr` argument is deprecated, use `learning_rate` instead.\n",
      "  warnings.warn(\n"
     ]
    },
    {
     "name": "stdout",
     "output_type": "stream",
     "text": [
      "\n",
      "\n",
      "Tested 19/20 iterations.\n",
      "Best MAE - Validation Dataset\n",
      "  MAE: 5.1 | sMAPE: 15.33 %\n",
      "\n",
      "Best MAE - Test Dataset\n",
      "  MAE: 11.8 | sMAPE: 19.44 %\n"
     ]
    },
    {
     "name": "stderr",
     "output_type": "stream",
     "text": [
      "C:\\Users\\35250\\AppData\\Roaming\\Python\\Python38\\site-packages\\tensorflow\\python\\keras\\optimizer_v2\\optimizer_v2.py:374: UserWarning: The `lr` argument is deprecated, use `learning_rate` instead.\n",
      "  warnings.warn(\n"
     ]
    }
   ],
   "source": [
    "# Number of layers in DNN\n",
    "nlayers = 2\n",
    "\n",
    "# data to study\n",
    "dataset = 'auctionData_final'\n",
    "\n",
    "# 1 year is considered as 364 days (52 weeks)\n",
    "# years_test = 1\n",
    "\n",
    "# Optional parameters for selecting the test dataset\n",
    "begin_test_date = '2021-01-18'\n",
    "end_test_date = '2021-04-18'\n",
    "\n",
    "# Boolean that selects whether the validation and training datasets are shuffled\n",
    "shuffle_train = 1\n",
    "\n",
    "# Boolean that selects whether a data augmentation technique for DNNs is used\n",
    "data_augmentation = 0\n",
    "\n",
    "# Boolean that selects whether we start a new hyperparameter optimization or we restart an existing one\n",
    "new_hyperopt = 1\n",
    "\n",
    "# Number of years used in the training dataset for recalibration\n",
    "calibration_window = 1\n",
    "\n",
    "# Unique identifier to read the trials file of hyperparameter optimization\n",
    "experiment_id = 2\n",
    "\n",
    "# Number of iterations for hyperparameter optimization\n",
    "max_evals = 20\n",
    "\n",
    "# path_datasets_folder = \"./datasets/\"\n",
    "# path_hyperparameters_folder = \"./experimental_files/\"\n",
    "\n",
    "hyperparameter_optimizer(path_datasets_folder = 'final datasets',\n",
    "                         path_hyperparameters_folder = 'hyperparameter_dnn/auc_January',\n",
    "                         new_hyperopt = new_hyperopt,\n",
    "                         max_evals = max_evals,\n",
    "                         nlayers = nlayers,\n",
    "                         dataset = dataset, \n",
    "                         #years_test = years_test,\n",
    "                         calibration_window = calibration_window, \n",
    "                         shuffle_train = shuffle_train,\n",
    "                         data_augmentation = data_augmentation,\n",
    "                         experiment_id = experiment_id,\n",
    "                         begin_test_date = begin_test_date,\n",
    "                         end_test_date = end_test_date)"
   ]
  },
  {
   "cell_type": "code",
   "execution_count": 14,
   "id": "d029552d",
   "metadata": {
    "scrolled": true
   },
   "outputs": [
    {
     "name": "stdout",
     "output_type": "stream",
     "text": [
      "Test datasets: 2021-01-18 00:00:00 - 2021-04-18 23:00:00\n"
     ]
    },
    {
     "name": "stderr",
     "output_type": "stream",
     "text": [
      "C:\\Users\\35250\\AppData\\Roaming\\Python\\Python38\\site-packages\\tensorflow\\python\\keras\\optimizer_v2\\optimizer_v2.py:374: UserWarning: The `lr` argument is deprecated, use `learning_rate` instead.\n",
      "  warnings.warn(\n"
     ]
    },
    {
     "name": "stdout",
     "output_type": "stream",
     "text": [
      "\n",
      "\n",
      "Tested 1/50 iterations.\n",
      "Best MAE - Validation Dataset\n",
      "  MAE: 9.6 | sMAPE: 26.40 %\n",
      "\n",
      "Best MAE - Test Dataset\n",
      "  MAE: 22.4 | sMAPE: 44.00 %\n"
     ]
    },
    {
     "name": "stderr",
     "output_type": "stream",
     "text": [
      "C:\\Users\\35250\\AppData\\Roaming\\Python\\Python38\\site-packages\\tensorflow\\python\\keras\\optimizer_v2\\optimizer_v2.py:374: UserWarning: The `lr` argument is deprecated, use `learning_rate` instead.\n",
      "  warnings.warn(\n"
     ]
    },
    {
     "name": "stdout",
     "output_type": "stream",
     "text": [
      "\n",
      "\n",
      "Tested 2/50 iterations.\n",
      "Best MAE - Validation Dataset\n",
      "  MAE: 9.6 | sMAPE: 26.40 %\n",
      "\n",
      "Best MAE - Test Dataset\n",
      "  MAE: 22.4 | sMAPE: 44.00 %\n"
     ]
    },
    {
     "name": "stderr",
     "output_type": "stream",
     "text": [
      "C:\\Users\\35250\\AppData\\Roaming\\Python\\Python38\\site-packages\\tensorflow\\python\\keras\\optimizer_v2\\optimizer_v2.py:374: UserWarning: The `lr` argument is deprecated, use `learning_rate` instead.\n",
      "  warnings.warn(\n"
     ]
    },
    {
     "name": "stdout",
     "output_type": "stream",
     "text": [
      "\n",
      "\n",
      "Tested 3/50 iterations.\n",
      "Best MAE - Validation Dataset\n",
      "  MAE: 5.4 | sMAPE: 16.42 %\n",
      "\n",
      "Best MAE - Test Dataset\n",
      "  MAE: 11.4 | sMAPE: 19.11 %\n"
     ]
    },
    {
     "name": "stderr",
     "output_type": "stream",
     "text": [
      "C:\\Users\\35250\\AppData\\Roaming\\Python\\Python38\\site-packages\\tensorflow\\python\\keras\\optimizer_v2\\optimizer_v2.py:374: UserWarning: The `lr` argument is deprecated, use `learning_rate` instead.\n",
      "  warnings.warn(\n"
     ]
    },
    {
     "name": "stdout",
     "output_type": "stream",
     "text": [
      "\n",
      "\n",
      "Tested 4/50 iterations.\n",
      "Best MAE - Validation Dataset\n",
      "  MAE: 5.4 | sMAPE: 16.42 %\n",
      "\n",
      "Best MAE - Test Dataset\n",
      "  MAE: 11.4 | sMAPE: 19.11 %\n"
     ]
    },
    {
     "name": "stderr",
     "output_type": "stream",
     "text": [
      "C:\\Users\\35250\\AppData\\Roaming\\Python\\Python38\\site-packages\\tensorflow\\python\\keras\\optimizer_v2\\optimizer_v2.py:374: UserWarning: The `lr` argument is deprecated, use `learning_rate` instead.\n",
      "  warnings.warn(\n"
     ]
    },
    {
     "name": "stdout",
     "output_type": "stream",
     "text": [
      "\n",
      "\n",
      "Tested 5/50 iterations.\n",
      "Best MAE - Validation Dataset\n",
      "  MAE: 5.4 | sMAPE: 16.42 %\n",
      "\n",
      "Best MAE - Test Dataset\n",
      "  MAE: 11.4 | sMAPE: 19.11 %\n"
     ]
    },
    {
     "name": "stderr",
     "output_type": "stream",
     "text": [
      "C:\\Users\\35250\\AppData\\Roaming\\Python\\Python38\\site-packages\\tensorflow\\python\\keras\\optimizer_v2\\optimizer_v2.py:374: UserWarning: The `lr` argument is deprecated, use `learning_rate` instead.\n",
      "  warnings.warn(\n"
     ]
    },
    {
     "name": "stdout",
     "output_type": "stream",
     "text": [
      "\n",
      "\n",
      "Tested 6/50 iterations.\n",
      "Best MAE - Validation Dataset\n",
      "  MAE: 5.4 | sMAPE: 16.42 %\n",
      "\n",
      "Best MAE - Test Dataset\n",
      "  MAE: 11.4 | sMAPE: 19.11 %\n"
     ]
    },
    {
     "name": "stderr",
     "output_type": "stream",
     "text": [
      "C:\\Users\\35250\\AppData\\Roaming\\Python\\Python38\\site-packages\\tensorflow\\python\\keras\\optimizer_v2\\optimizer_v2.py:374: UserWarning: The `lr` argument is deprecated, use `learning_rate` instead.\n",
      "  warnings.warn(\n"
     ]
    },
    {
     "name": "stdout",
     "output_type": "stream",
     "text": [
      "\n",
      "\n",
      "Tested 7/50 iterations.\n",
      "Best MAE - Validation Dataset\n",
      "  MAE: 5.4 | sMAPE: 16.42 %\n",
      "\n",
      "Best MAE - Test Dataset\n",
      "  MAE: 11.4 | sMAPE: 19.11 %\n"
     ]
    },
    {
     "name": "stderr",
     "output_type": "stream",
     "text": [
      "C:\\Users\\35250\\AppData\\Roaming\\Python\\Python38\\site-packages\\tensorflow\\python\\keras\\optimizer_v2\\optimizer_v2.py:374: UserWarning: The `lr` argument is deprecated, use `learning_rate` instead.\n",
      "  warnings.warn(\n"
     ]
    },
    {
     "name": "stdout",
     "output_type": "stream",
     "text": [
      "\n",
      "\n",
      "Tested 8/50 iterations.\n",
      "Best MAE - Validation Dataset\n",
      "  MAE: 5.4 | sMAPE: 16.42 %\n",
      "\n",
      "Best MAE - Test Dataset\n",
      "  MAE: 11.4 | sMAPE: 19.11 %\n",
      "\n",
      "\n",
      "Tested 9/50 iterations.\n",
      "Best MAE - Validation Dataset\n",
      "  MAE: 5.4 | sMAPE: 16.42 %\n",
      "\n",
      "Best MAE - Test Dataset\n",
      "  MAE: 11.4 | sMAPE: 19.11 %\n"
     ]
    },
    {
     "name": "stderr",
     "output_type": "stream",
     "text": [
      "C:\\Users\\35250\\AppData\\Roaming\\Python\\Python38\\site-packages\\tensorflow\\python\\keras\\optimizer_v2\\optimizer_v2.py:374: UserWarning: The `lr` argument is deprecated, use `learning_rate` instead.\n",
      "  warnings.warn(\n"
     ]
    },
    {
     "name": "stdout",
     "output_type": "stream",
     "text": [
      "\n",
      "\n",
      "Tested 10/50 iterations.\n",
      "Best MAE - Validation Dataset\n",
      "  MAE: 5.4 | sMAPE: 16.42 %\n",
      "\n",
      "Best MAE - Test Dataset\n",
      "  MAE: 11.4 | sMAPE: 19.11 %\n"
     ]
    },
    {
     "name": "stderr",
     "output_type": "stream",
     "text": [
      "C:\\Users\\35250\\AppData\\Roaming\\Python\\Python38\\site-packages\\tensorflow\\python\\keras\\optimizer_v2\\optimizer_v2.py:374: UserWarning: The `lr` argument is deprecated, use `learning_rate` instead.\n",
      "  warnings.warn(\n"
     ]
    },
    {
     "name": "stdout",
     "output_type": "stream",
     "text": [
      "\n",
      "\n",
      "Tested 11/50 iterations.\n",
      "Best MAE - Validation Dataset\n",
      "  MAE: 5.4 | sMAPE: 16.42 %\n",
      "\n",
      "Best MAE - Test Dataset\n",
      "  MAE: 11.4 | sMAPE: 19.11 %\n"
     ]
    },
    {
     "name": "stderr",
     "output_type": "stream",
     "text": [
      "C:\\Users\\35250\\AppData\\Roaming\\Python\\Python38\\site-packages\\tensorflow\\python\\keras\\optimizer_v2\\optimizer_v2.py:374: UserWarning: The `lr` argument is deprecated, use `learning_rate` instead.\n",
      "  warnings.warn(\n"
     ]
    },
    {
     "name": "stdout",
     "output_type": "stream",
     "text": [
      "\n",
      "\n",
      "Tested 12/50 iterations.\n",
      "Best MAE - Validation Dataset\n",
      "  MAE: 5.4 | sMAPE: 16.42 %\n",
      "\n",
      "Best MAE - Test Dataset\n",
      "  MAE: 11.4 | sMAPE: 19.11 %\n"
     ]
    },
    {
     "name": "stderr",
     "output_type": "stream",
     "text": [
      "C:\\Users\\35250\\AppData\\Roaming\\Python\\Python38\\site-packages\\tensorflow\\python\\keras\\optimizer_v2\\optimizer_v2.py:374: UserWarning: The `lr` argument is deprecated, use `learning_rate` instead.\n",
      "  warnings.warn(\n"
     ]
    },
    {
     "name": "stdout",
     "output_type": "stream",
     "text": [
      "\n",
      "\n",
      "Tested 13/50 iterations.\n",
      "Best MAE - Validation Dataset\n",
      "  MAE: 4.6 | sMAPE: 13.99 %\n",
      "\n",
      "Best MAE - Test Dataset\n",
      "  MAE: 10.8 | sMAPE: 18.97 %\n",
      "\n",
      "\n",
      "Tested 14/50 iterations.\n",
      "Best MAE - Validation Dataset\n",
      "  MAE: 4.6 | sMAPE: 13.99 %\n",
      "\n",
      "Best MAE - Test Dataset\n",
      "  MAE: 10.8 | sMAPE: 18.97 %\n"
     ]
    },
    {
     "name": "stderr",
     "output_type": "stream",
     "text": [
      "C:\\Users\\35250\\AppData\\Roaming\\Python\\Python38\\site-packages\\tensorflow\\python\\keras\\optimizer_v2\\optimizer_v2.py:374: UserWarning: The `lr` argument is deprecated, use `learning_rate` instead.\n",
      "  warnings.warn(\n"
     ]
    },
    {
     "name": "stdout",
     "output_type": "stream",
     "text": [
      "\n",
      "\n",
      "Tested 15/50 iterations.\n",
      "Best MAE - Validation Dataset\n",
      "  MAE: 4.6 | sMAPE: 13.99 %\n",
      "\n",
      "Best MAE - Test Dataset\n",
      "  MAE: 10.8 | sMAPE: 18.97 %\n"
     ]
    },
    {
     "name": "stderr",
     "output_type": "stream",
     "text": [
      "C:\\Users\\35250\\AppData\\Roaming\\Python\\Python38\\site-packages\\tensorflow\\python\\keras\\optimizer_v2\\optimizer_v2.py:374: UserWarning: The `lr` argument is deprecated, use `learning_rate` instead.\n",
      "  warnings.warn(\n"
     ]
    },
    {
     "name": "stdout",
     "output_type": "stream",
     "text": [
      "\n",
      "\n",
      "Tested 16/50 iterations.\n",
      "Best MAE - Validation Dataset\n",
      "  MAE: 4.6 | sMAPE: 13.99 %\n",
      "\n",
      "Best MAE - Test Dataset\n",
      "  MAE: 10.8 | sMAPE: 18.97 %\n"
     ]
    },
    {
     "name": "stderr",
     "output_type": "stream",
     "text": [
      "C:\\Users\\35250\\AppData\\Roaming\\Python\\Python38\\site-packages\\tensorflow\\python\\keras\\optimizer_v2\\optimizer_v2.py:374: UserWarning: The `lr` argument is deprecated, use `learning_rate` instead.\n",
      "  warnings.warn(\n"
     ]
    },
    {
     "name": "stdout",
     "output_type": "stream",
     "text": [
      "\n",
      "\n",
      "Tested 17/50 iterations.\n",
      "Best MAE - Validation Dataset\n",
      "  MAE: 4.6 | sMAPE: 13.99 %\n",
      "\n",
      "Best MAE - Test Dataset\n",
      "  MAE: 10.8 | sMAPE: 18.97 %\n"
     ]
    },
    {
     "name": "stderr",
     "output_type": "stream",
     "text": [
      "C:\\Users\\35250\\AppData\\Roaming\\Python\\Python38\\site-packages\\tensorflow\\python\\keras\\optimizer_v2\\optimizer_v2.py:374: UserWarning: The `lr` argument is deprecated, use `learning_rate` instead.\n",
      "  warnings.warn(\n"
     ]
    },
    {
     "name": "stdout",
     "output_type": "stream",
     "text": [
      "\n",
      "\n",
      "Tested 18/50 iterations.\n",
      "Best MAE - Validation Dataset\n",
      "  MAE: 4.6 | sMAPE: 13.99 %\n",
      "\n",
      "Best MAE - Test Dataset\n",
      "  MAE: 10.8 | sMAPE: 18.97 %\n",
      "\n",
      "\n",
      "Tested 19/50 iterations.\n",
      "Best MAE - Validation Dataset\n",
      "  MAE: 4.6 | sMAPE: 13.99 %\n",
      "\n",
      "Best MAE - Test Dataset\n",
      "  MAE: 10.8 | sMAPE: 18.97 %\n",
      "\n",
      "\n",
      "Tested 20/50 iterations.\n",
      "Best MAE - Validation Dataset\n",
      "  MAE: 4.6 | sMAPE: 13.99 %\n",
      "\n",
      "Best MAE - Test Dataset\n",
      "  MAE: 10.8 | sMAPE: 18.97 %\n"
     ]
    },
    {
     "name": "stderr",
     "output_type": "stream",
     "text": [
      "C:\\Users\\35250\\AppData\\Roaming\\Python\\Python38\\site-packages\\tensorflow\\python\\keras\\optimizer_v2\\optimizer_v2.py:374: UserWarning: The `lr` argument is deprecated, use `learning_rate` instead.\n",
      "  warnings.warn(\n"
     ]
    },
    {
     "name": "stdout",
     "output_type": "stream",
     "text": [
      "\n",
      "\n",
      "Tested 21/50 iterations.\n",
      "Best MAE - Validation Dataset\n",
      "  MAE: 4.6 | sMAPE: 13.99 %\n",
      "\n",
      "Best MAE - Test Dataset\n",
      "  MAE: 10.8 | sMAPE: 18.97 %\n"
     ]
    },
    {
     "name": "stderr",
     "output_type": "stream",
     "text": [
      "C:\\Users\\35250\\AppData\\Roaming\\Python\\Python38\\site-packages\\tensorflow\\python\\keras\\optimizer_v2\\optimizer_v2.py:374: UserWarning: The `lr` argument is deprecated, use `learning_rate` instead.\n",
      "  warnings.warn(\n"
     ]
    },
    {
     "name": "stdout",
     "output_type": "stream",
     "text": [
      "\n",
      "\n",
      "Tested 22/50 iterations.\n",
      "Best MAE - Validation Dataset\n",
      "  MAE: 4.6 | sMAPE: 13.99 %\n",
      "\n",
      "Best MAE - Test Dataset\n",
      "  MAE: 10.8 | sMAPE: 18.97 %\n"
     ]
    },
    {
     "name": "stderr",
     "output_type": "stream",
     "text": [
      "C:\\Users\\35250\\AppData\\Roaming\\Python\\Python38\\site-packages\\tensorflow\\python\\keras\\optimizer_v2\\optimizer_v2.py:374: UserWarning: The `lr` argument is deprecated, use `learning_rate` instead.\n",
      "  warnings.warn(\n"
     ]
    },
    {
     "name": "stdout",
     "output_type": "stream",
     "text": [
      "\n",
      "\n",
      "Tested 23/50 iterations.\n",
      "Best MAE - Validation Dataset\n",
      "  MAE: 4.6 | sMAPE: 13.99 %\n",
      "\n",
      "Best MAE - Test Dataset\n",
      "  MAE: 10.8 | sMAPE: 18.97 %\n"
     ]
    },
    {
     "name": "stderr",
     "output_type": "stream",
     "text": [
      "C:\\Users\\35250\\AppData\\Roaming\\Python\\Python38\\site-packages\\tensorflow\\python\\keras\\optimizer_v2\\optimizer_v2.py:374: UserWarning: The `lr` argument is deprecated, use `learning_rate` instead.\n",
      "  warnings.warn(\n"
     ]
    },
    {
     "name": "stdout",
     "output_type": "stream",
     "text": [
      "\n",
      "\n",
      "Tested 24/50 iterations.\n",
      "Best MAE - Validation Dataset\n",
      "  MAE: 4.6 | sMAPE: 14.16 %\n",
      "\n",
      "Best MAE - Test Dataset\n",
      "  MAE: 11.7 | sMAPE: 20.40 %\n"
     ]
    },
    {
     "name": "stderr",
     "output_type": "stream",
     "text": [
      "C:\\Users\\35250\\AppData\\Roaming\\Python\\Python38\\site-packages\\tensorflow\\python\\keras\\optimizer_v2\\optimizer_v2.py:374: UserWarning: The `lr` argument is deprecated, use `learning_rate` instead.\n",
      "  warnings.warn(\n"
     ]
    },
    {
     "name": "stdout",
     "output_type": "stream",
     "text": [
      "\n",
      "\n",
      "Tested 25/50 iterations.\n",
      "Best MAE - Validation Dataset\n",
      "  MAE: 4.6 | sMAPE: 14.16 %\n",
      "\n",
      "Best MAE - Test Dataset\n",
      "  MAE: 11.7 | sMAPE: 20.40 %\n"
     ]
    },
    {
     "name": "stderr",
     "output_type": "stream",
     "text": [
      "C:\\Users\\35250\\AppData\\Roaming\\Python\\Python38\\site-packages\\tensorflow\\python\\keras\\optimizer_v2\\optimizer_v2.py:374: UserWarning: The `lr` argument is deprecated, use `learning_rate` instead.\n",
      "  warnings.warn(\n"
     ]
    },
    {
     "name": "stdout",
     "output_type": "stream",
     "text": [
      "\n",
      "\n",
      "Tested 26/50 iterations.\n",
      "Best MAE - Validation Dataset\n",
      "  MAE: 4.6 | sMAPE: 14.16 %\n",
      "\n",
      "Best MAE - Test Dataset\n",
      "  MAE: 11.7 | sMAPE: 20.40 %\n"
     ]
    },
    {
     "name": "stderr",
     "output_type": "stream",
     "text": [
      "C:\\Users\\35250\\AppData\\Roaming\\Python\\Python38\\site-packages\\tensorflow\\python\\keras\\optimizer_v2\\optimizer_v2.py:374: UserWarning: The `lr` argument is deprecated, use `learning_rate` instead.\n",
      "  warnings.warn(\n"
     ]
    },
    {
     "name": "stdout",
     "output_type": "stream",
     "text": [
      "\n",
      "\n",
      "Tested 27/50 iterations.\n",
      "Best MAE - Validation Dataset\n",
      "  MAE: 4.6 | sMAPE: 14.16 %\n",
      "\n",
      "Best MAE - Test Dataset\n",
      "  MAE: 11.7 | sMAPE: 20.40 %\n"
     ]
    },
    {
     "name": "stderr",
     "output_type": "stream",
     "text": [
      "C:\\Users\\35250\\AppData\\Roaming\\Python\\Python38\\site-packages\\tensorflow\\python\\keras\\optimizer_v2\\optimizer_v2.py:374: UserWarning: The `lr` argument is deprecated, use `learning_rate` instead.\n",
      "  warnings.warn(\n"
     ]
    },
    {
     "name": "stdout",
     "output_type": "stream",
     "text": [
      "\n",
      "\n",
      "Tested 28/50 iterations.\n",
      "Best MAE - Validation Dataset\n",
      "  MAE: 4.6 | sMAPE: 14.16 %\n",
      "\n",
      "Best MAE - Test Dataset\n",
      "  MAE: 11.7 | sMAPE: 20.40 %\n"
     ]
    },
    {
     "name": "stderr",
     "output_type": "stream",
     "text": [
      "C:\\Users\\35250\\AppData\\Roaming\\Python\\Python38\\site-packages\\tensorflow\\python\\keras\\optimizer_v2\\optimizer_v2.py:374: UserWarning: The `lr` argument is deprecated, use `learning_rate` instead.\n",
      "  warnings.warn(\n"
     ]
    },
    {
     "name": "stdout",
     "output_type": "stream",
     "text": [
      "\n",
      "\n",
      "Tested 29/50 iterations.\n",
      "Best MAE - Validation Dataset\n",
      "  MAE: 4.6 | sMAPE: 14.16 %\n",
      "\n",
      "Best MAE - Test Dataset\n",
      "  MAE: 11.7 | sMAPE: 20.40 %\n"
     ]
    },
    {
     "name": "stderr",
     "output_type": "stream",
     "text": [
      "C:\\Users\\35250\\AppData\\Roaming\\Python\\Python38\\site-packages\\tensorflow\\python\\keras\\optimizer_v2\\optimizer_v2.py:374: UserWarning: The `lr` argument is deprecated, use `learning_rate` instead.\n",
      "  warnings.warn(\n"
     ]
    },
    {
     "name": "stdout",
     "output_type": "stream",
     "text": [
      "\n",
      "\n",
      "Tested 30/50 iterations.\n",
      "Best MAE - Validation Dataset\n",
      "  MAE: 4.5 | sMAPE: 14.10 %\n",
      "\n",
      "Best MAE - Test Dataset\n",
      "  MAE: 10.6 | sMAPE: 18.11 %\n"
     ]
    },
    {
     "name": "stderr",
     "output_type": "stream",
     "text": [
      "C:\\Users\\35250\\AppData\\Roaming\\Python\\Python38\\site-packages\\tensorflow\\python\\keras\\optimizer_v2\\optimizer_v2.py:374: UserWarning: The `lr` argument is deprecated, use `learning_rate` instead.\n",
      "  warnings.warn(\n"
     ]
    },
    {
     "name": "stdout",
     "output_type": "stream",
     "text": [
      "\n",
      "\n",
      "Tested 31/50 iterations.\n",
      "Best MAE - Validation Dataset\n",
      "  MAE: 4.5 | sMAPE: 14.10 %\n",
      "\n",
      "Best MAE - Test Dataset\n",
      "  MAE: 10.6 | sMAPE: 18.11 %\n"
     ]
    },
    {
     "name": "stderr",
     "output_type": "stream",
     "text": [
      "C:\\Users\\35250\\AppData\\Roaming\\Python\\Python38\\site-packages\\tensorflow\\python\\keras\\optimizer_v2\\optimizer_v2.py:374: UserWarning: The `lr` argument is deprecated, use `learning_rate` instead.\n",
      "  warnings.warn(\n"
     ]
    },
    {
     "name": "stdout",
     "output_type": "stream",
     "text": [
      "\n",
      "\n",
      "Tested 32/50 iterations.\n",
      "Best MAE - Validation Dataset\n",
      "  MAE: 4.5 | sMAPE: 14.10 %\n",
      "\n",
      "Best MAE - Test Dataset\n",
      "  MAE: 10.6 | sMAPE: 18.11 %\n"
     ]
    },
    {
     "name": "stderr",
     "output_type": "stream",
     "text": [
      "C:\\Users\\35250\\AppData\\Roaming\\Python\\Python38\\site-packages\\tensorflow\\python\\keras\\optimizer_v2\\optimizer_v2.py:374: UserWarning: The `lr` argument is deprecated, use `learning_rate` instead.\n",
      "  warnings.warn(\n"
     ]
    },
    {
     "name": "stdout",
     "output_type": "stream",
     "text": [
      "\n",
      "\n",
      "Tested 33/50 iterations.\n",
      "Best MAE - Validation Dataset\n",
      "  MAE: 4.5 | sMAPE: 14.10 %\n",
      "\n",
      "Best MAE - Test Dataset\n",
      "  MAE: 10.6 | sMAPE: 18.11 %\n",
      "\n",
      "\n",
      "Tested 34/50 iterations.\n",
      "Best MAE - Validation Dataset\n",
      "  MAE: 4.5 | sMAPE: 14.10 %\n",
      "\n",
      "Best MAE - Test Dataset\n",
      "  MAE: 10.6 | sMAPE: 18.11 %\n"
     ]
    },
    {
     "name": "stderr",
     "output_type": "stream",
     "text": [
      "C:\\Users\\35250\\AppData\\Roaming\\Python\\Python38\\site-packages\\tensorflow\\python\\keras\\optimizer_v2\\optimizer_v2.py:374: UserWarning: The `lr` argument is deprecated, use `learning_rate` instead.\n",
      "  warnings.warn(\n"
     ]
    },
    {
     "name": "stdout",
     "output_type": "stream",
     "text": [
      "\n",
      "\n",
      "Tested 35/50 iterations.\n",
      "Best MAE - Validation Dataset\n",
      "  MAE: 4.5 | sMAPE: 14.10 %\n",
      "\n",
      "Best MAE - Test Dataset\n",
      "  MAE: 10.6 | sMAPE: 18.11 %\n"
     ]
    },
    {
     "name": "stderr",
     "output_type": "stream",
     "text": [
      "C:\\Users\\35250\\AppData\\Roaming\\Python\\Python38\\site-packages\\tensorflow\\python\\keras\\optimizer_v2\\optimizer_v2.py:374: UserWarning: The `lr` argument is deprecated, use `learning_rate` instead.\n",
      "  warnings.warn(\n"
     ]
    },
    {
     "name": "stdout",
     "output_type": "stream",
     "text": [
      "\n",
      "\n",
      "Tested 36/50 iterations.\n",
      "Best MAE - Validation Dataset\n",
      "  MAE: 4.5 | sMAPE: 14.10 %\n",
      "\n",
      "Best MAE - Test Dataset\n",
      "  MAE: 10.6 | sMAPE: 18.11 %\n"
     ]
    },
    {
     "name": "stderr",
     "output_type": "stream",
     "text": [
      "C:\\Users\\35250\\AppData\\Roaming\\Python\\Python38\\site-packages\\tensorflow\\python\\keras\\optimizer_v2\\optimizer_v2.py:374: UserWarning: The `lr` argument is deprecated, use `learning_rate` instead.\n",
      "  warnings.warn(\n"
     ]
    },
    {
     "name": "stdout",
     "output_type": "stream",
     "text": [
      "\n",
      "\n",
      "Tested 37/50 iterations.\n",
      "Best MAE - Validation Dataset\n",
      "  MAE: 4.5 | sMAPE: 14.10 %\n",
      "\n",
      "Best MAE - Test Dataset\n",
      "  MAE: 10.6 | sMAPE: 18.11 %\n"
     ]
    },
    {
     "name": "stderr",
     "output_type": "stream",
     "text": [
      "C:\\Users\\35250\\AppData\\Roaming\\Python\\Python38\\site-packages\\tensorflow\\python\\keras\\optimizer_v2\\optimizer_v2.py:374: UserWarning: The `lr` argument is deprecated, use `learning_rate` instead.\n",
      "  warnings.warn(\n"
     ]
    },
    {
     "name": "stdout",
     "output_type": "stream",
     "text": [
      "\n",
      "\n",
      "Tested 38/50 iterations.\n",
      "Best MAE - Validation Dataset\n",
      "  MAE: 4.5 | sMAPE: 14.10 %\n",
      "\n",
      "Best MAE - Test Dataset\n",
      "  MAE: 10.6 | sMAPE: 18.11 %\n"
     ]
    },
    {
     "name": "stderr",
     "output_type": "stream",
     "text": [
      "C:\\Users\\35250\\AppData\\Roaming\\Python\\Python38\\site-packages\\tensorflow\\python\\keras\\optimizer_v2\\optimizer_v2.py:374: UserWarning: The `lr` argument is deprecated, use `learning_rate` instead.\n",
      "  warnings.warn(\n"
     ]
    },
    {
     "name": "stdout",
     "output_type": "stream",
     "text": [
      "\n",
      "\n",
      "Tested 39/50 iterations.\n",
      "Best MAE - Validation Dataset\n",
      "  MAE: 4.5 | sMAPE: 14.10 %\n",
      "\n",
      "Best MAE - Test Dataset\n",
      "  MAE: 10.6 | sMAPE: 18.11 %\n"
     ]
    },
    {
     "name": "stderr",
     "output_type": "stream",
     "text": [
      "C:\\Users\\35250\\AppData\\Roaming\\Python\\Python38\\site-packages\\tensorflow\\python\\keras\\optimizer_v2\\optimizer_v2.py:374: UserWarning: The `lr` argument is deprecated, use `learning_rate` instead.\n",
      "  warnings.warn(\n"
     ]
    },
    {
     "name": "stdout",
     "output_type": "stream",
     "text": [
      "\n",
      "\n",
      "Tested 40/50 iterations.\n",
      "Best MAE - Validation Dataset\n",
      "  MAE: 4.5 | sMAPE: 14.10 %\n",
      "\n",
      "Best MAE - Test Dataset\n",
      "  MAE: 10.6 | sMAPE: 18.11 %\n"
     ]
    },
    {
     "name": "stderr",
     "output_type": "stream",
     "text": [
      "C:\\Users\\35250\\AppData\\Roaming\\Python\\Python38\\site-packages\\tensorflow\\python\\keras\\optimizer_v2\\optimizer_v2.py:374: UserWarning: The `lr` argument is deprecated, use `learning_rate` instead.\n",
      "  warnings.warn(\n"
     ]
    },
    {
     "name": "stdout",
     "output_type": "stream",
     "text": [
      "\n",
      "\n",
      "Tested 41/50 iterations.\n",
      "Best MAE - Validation Dataset\n",
      "  MAE: 4.5 | sMAPE: 14.10 %\n",
      "\n",
      "Best MAE - Test Dataset\n",
      "  MAE: 10.6 | sMAPE: 18.11 %\n"
     ]
    },
    {
     "name": "stderr",
     "output_type": "stream",
     "text": [
      "C:\\Users\\35250\\AppData\\Roaming\\Python\\Python38\\site-packages\\tensorflow\\python\\keras\\optimizer_v2\\optimizer_v2.py:374: UserWarning: The `lr` argument is deprecated, use `learning_rate` instead.\n",
      "  warnings.warn(\n"
     ]
    },
    {
     "name": "stdout",
     "output_type": "stream",
     "text": [
      "\n",
      "\n",
      "Tested 42/50 iterations.\n",
      "Best MAE - Validation Dataset\n",
      "  MAE: 4.5 | sMAPE: 14.10 %\n",
      "\n",
      "Best MAE - Test Dataset\n",
      "  MAE: 10.6 | sMAPE: 18.11 %\n"
     ]
    },
    {
     "name": "stderr",
     "output_type": "stream",
     "text": [
      "C:\\Users\\35250\\AppData\\Roaming\\Python\\Python38\\site-packages\\tensorflow\\python\\keras\\optimizer_v2\\optimizer_v2.py:374: UserWarning: The `lr` argument is deprecated, use `learning_rate` instead.\n",
      "  warnings.warn(\n"
     ]
    },
    {
     "name": "stdout",
     "output_type": "stream",
     "text": [
      "\n",
      "\n",
      "Tested 43/50 iterations.\n",
      "Best MAE - Validation Dataset\n",
      "  MAE: 4.5 | sMAPE: 14.10 %\n",
      "\n",
      "Best MAE - Test Dataset\n",
      "  MAE: 10.6 | sMAPE: 18.11 %\n"
     ]
    },
    {
     "name": "stderr",
     "output_type": "stream",
     "text": [
      "C:\\Users\\35250\\AppData\\Roaming\\Python\\Python38\\site-packages\\tensorflow\\python\\keras\\optimizer_v2\\optimizer_v2.py:374: UserWarning: The `lr` argument is deprecated, use `learning_rate` instead.\n",
      "  warnings.warn(\n"
     ]
    },
    {
     "name": "stdout",
     "output_type": "stream",
     "text": [
      "\n",
      "\n",
      "Tested 44/50 iterations.\n",
      "Best MAE - Validation Dataset\n",
      "  MAE: 4.5 | sMAPE: 14.10 %\n",
      "\n",
      "Best MAE - Test Dataset\n",
      "  MAE: 10.6 | sMAPE: 18.11 %\n"
     ]
    },
    {
     "name": "stderr",
     "output_type": "stream",
     "text": [
      "C:\\Users\\35250\\AppData\\Roaming\\Python\\Python38\\site-packages\\tensorflow\\python\\keras\\optimizer_v2\\optimizer_v2.py:374: UserWarning: The `lr` argument is deprecated, use `learning_rate` instead.\n",
      "  warnings.warn(\n"
     ]
    },
    {
     "name": "stdout",
     "output_type": "stream",
     "text": [
      "\n",
      "\n",
      "Tested 45/50 iterations.\n",
      "Best MAE - Validation Dataset\n",
      "  MAE: 4.5 | sMAPE: 14.10 %\n",
      "\n",
      "Best MAE - Test Dataset\n",
      "  MAE: 10.6 | sMAPE: 18.11 %\n"
     ]
    },
    {
     "name": "stderr",
     "output_type": "stream",
     "text": [
      "C:\\Users\\35250\\AppData\\Roaming\\Python\\Python38\\site-packages\\tensorflow\\python\\keras\\optimizer_v2\\optimizer_v2.py:374: UserWarning: The `lr` argument is deprecated, use `learning_rate` instead.\n",
      "  warnings.warn(\n"
     ]
    },
    {
     "name": "stdout",
     "output_type": "stream",
     "text": [
      "\n",
      "\n",
      "Tested 46/50 iterations.\n",
      "Best MAE - Validation Dataset\n",
      "  MAE: 4.5 | sMAPE: 14.10 %\n",
      "\n",
      "Best MAE - Test Dataset\n",
      "  MAE: 10.6 | sMAPE: 18.11 %\n"
     ]
    },
    {
     "name": "stderr",
     "output_type": "stream",
     "text": [
      "C:\\Users\\35250\\AppData\\Roaming\\Python\\Python38\\site-packages\\tensorflow\\python\\keras\\optimizer_v2\\optimizer_v2.py:374: UserWarning: The `lr` argument is deprecated, use `learning_rate` instead.\n",
      "  warnings.warn(\n"
     ]
    },
    {
     "name": "stdout",
     "output_type": "stream",
     "text": [
      "\n",
      "\n",
      "Tested 47/50 iterations.\n",
      "Best MAE - Validation Dataset\n",
      "  MAE: 4.5 | sMAPE: 14.10 %\n",
      "\n",
      "Best MAE - Test Dataset\n",
      "  MAE: 10.6 | sMAPE: 18.11 %\n"
     ]
    },
    {
     "name": "stderr",
     "output_type": "stream",
     "text": [
      "C:\\Users\\35250\\AppData\\Roaming\\Python\\Python38\\site-packages\\tensorflow\\python\\keras\\optimizer_v2\\optimizer_v2.py:374: UserWarning: The `lr` argument is deprecated, use `learning_rate` instead.\n",
      "  warnings.warn(\n"
     ]
    },
    {
     "name": "stdout",
     "output_type": "stream",
     "text": [
      "\n",
      "\n",
      "Tested 48/50 iterations.\n",
      "Best MAE - Validation Dataset\n",
      "  MAE: 4.5 | sMAPE: 14.10 %\n",
      "\n",
      "Best MAE - Test Dataset\n",
      "  MAE: 10.6 | sMAPE: 18.11 %\n"
     ]
    },
    {
     "name": "stderr",
     "output_type": "stream",
     "text": [
      "C:\\Users\\35250\\AppData\\Roaming\\Python\\Python38\\site-packages\\tensorflow\\python\\keras\\optimizer_v2\\optimizer_v2.py:374: UserWarning: The `lr` argument is deprecated, use `learning_rate` instead.\n",
      "  warnings.warn(\n"
     ]
    },
    {
     "name": "stdout",
     "output_type": "stream",
     "text": [
      "\n",
      "\n",
      "Tested 49/50 iterations.\n",
      "Best MAE - Validation Dataset\n",
      "  MAE: 4.5 | sMAPE: 14.10 %\n",
      "\n",
      "Best MAE - Test Dataset\n",
      "  MAE: 10.6 | sMAPE: 18.11 %\n"
     ]
    },
    {
     "name": "stderr",
     "output_type": "stream",
     "text": [
      "C:\\Users\\35250\\AppData\\Roaming\\Python\\Python38\\site-packages\\tensorflow\\python\\keras\\optimizer_v2\\optimizer_v2.py:374: UserWarning: The `lr` argument is deprecated, use `learning_rate` instead.\n",
      "  warnings.warn(\n"
     ]
    }
   ],
   "source": [
    "# Number of layers in DNN\n",
    "nlayers = 2\n",
    "\n",
    "# data to study\n",
    "dataset = 'auctionData_final'\n",
    "\n",
    "# 1 year is considered as 364 days (52 weeks)\n",
    "# years_test = 1\n",
    "\n",
    "# Optional parameters for selecting the test dataset\n",
    "begin_test_date = '2021-01-18'\n",
    "end_test_date = '2021-04-18'\n",
    "\n",
    "# Boolean that selects whether the validation and training datasets are shuffled\n",
    "shuffle_train = 1\n",
    "\n",
    "# Boolean that selects whether a data augmentation technique for DNNs is used\n",
    "data_augmentation = 0\n",
    "\n",
    "# Boolean that selects whether we start a new hyperparameter optimization or we restart an existing one\n",
    "new_hyperopt = 1\n",
    "\n",
    "# Number of years used in the training dataset for recalibration\n",
    "calibration_window = 1\n",
    "\n",
    "# Unique identifier to read the trials file of hyperparameter optimization\n",
    "experiment_id = 3\n",
    "\n",
    "# Number of iterations for hyperparameter optimization\n",
    "max_evals = 50\n",
    "\n",
    "# path_datasets_folder = \"./datasets/\"\n",
    "# path_hyperparameters_folder = \"./experimental_files/\"\n",
    "\n",
    "hyperparameter_optimizer(path_datasets_folder = 'final datasets',\n",
    "                         path_hyperparameters_folder = 'hyperparameter_dnn/auc_January',\n",
    "                         new_hyperopt = new_hyperopt,\n",
    "                         max_evals = max_evals,\n",
    "                         nlayers = nlayers,\n",
    "                         dataset = dataset, \n",
    "                         #years_test = years_test,\n",
    "                         calibration_window = calibration_window, \n",
    "                         shuffle_train = shuffle_train,\n",
    "                         data_augmentation = data_augmentation,\n",
    "                         experiment_id = experiment_id,\n",
    "                         begin_test_date = begin_test_date,\n",
    "                         end_test_date = end_test_date)"
   ]
  },
  {
   "cell_type": "code",
   "execution_count": 15,
   "id": "a0dfc46b",
   "metadata": {},
   "outputs": [
    {
     "name": "stdout",
     "output_type": "stream",
     "text": [
      "Test datasets: 2020-07-20 00:00:00 - 2020-10-18 23:00:00\n",
      "\n",
      "\n",
      "Tested 1/50 iterations.\n",
      "Best MAE - Validation Dataset\n",
      "  MAE: 6.7 | sMAPE: 22.40 %\n",
      "\n",
      "Best MAE - Test Dataset\n",
      "  MAE: 9.0 | sMAPE: 22.60 %\n"
     ]
    },
    {
     "name": "stderr",
     "output_type": "stream",
     "text": [
      "C:\\Users\\35250\\AppData\\Roaming\\Python\\Python38\\site-packages\\tensorflow\\python\\keras\\optimizer_v2\\optimizer_v2.py:374: UserWarning: The `lr` argument is deprecated, use `learning_rate` instead.\n",
      "  warnings.warn(\n"
     ]
    },
    {
     "name": "stdout",
     "output_type": "stream",
     "text": [
      "\n",
      "\n",
      "Tested 2/50 iterations.\n",
      "Best MAE - Validation Dataset\n",
      "  MAE: 3.9 | sMAPE: 15.38 %\n",
      "\n",
      "Best MAE - Test Dataset\n",
      "  MAE: 5.4 | sMAPE: 13.38 %\n"
     ]
    },
    {
     "name": "stderr",
     "output_type": "stream",
     "text": [
      "C:\\Users\\35250\\AppData\\Roaming\\Python\\Python38\\site-packages\\tensorflow\\python\\keras\\optimizer_v2\\optimizer_v2.py:374: UserWarning: The `lr` argument is deprecated, use `learning_rate` instead.\n",
      "  warnings.warn(\n"
     ]
    },
    {
     "name": "stdout",
     "output_type": "stream",
     "text": [
      "\n",
      "\n",
      "Tested 3/50 iterations.\n",
      "Best MAE - Validation Dataset\n",
      "  MAE: 3.9 | sMAPE: 15.38 %\n",
      "\n",
      "Best MAE - Test Dataset\n",
      "  MAE: 5.4 | sMAPE: 13.38 %\n"
     ]
    },
    {
     "name": "stderr",
     "output_type": "stream",
     "text": [
      "C:\\Users\\35250\\AppData\\Roaming\\Python\\Python38\\site-packages\\tensorflow\\python\\keras\\optimizer_v2\\optimizer_v2.py:374: UserWarning: The `lr` argument is deprecated, use `learning_rate` instead.\n",
      "  warnings.warn(\n"
     ]
    },
    {
     "name": "stdout",
     "output_type": "stream",
     "text": [
      "\n",
      "\n",
      "Tested 4/50 iterations.\n",
      "Best MAE - Validation Dataset\n",
      "  MAE: 3.9 | sMAPE: 15.38 %\n",
      "\n",
      "Best MAE - Test Dataset\n",
      "  MAE: 5.4 | sMAPE: 13.38 %\n"
     ]
    },
    {
     "name": "stderr",
     "output_type": "stream",
     "text": [
      "C:\\Users\\35250\\AppData\\Roaming\\Python\\Python38\\site-packages\\tensorflow\\python\\keras\\optimizer_v2\\optimizer_v2.py:374: UserWarning: The `lr` argument is deprecated, use `learning_rate` instead.\n",
      "  warnings.warn(\n"
     ]
    },
    {
     "name": "stdout",
     "output_type": "stream",
     "text": [
      "\n",
      "\n",
      "Tested 5/50 iterations.\n",
      "Best MAE - Validation Dataset\n",
      "  MAE: 3.9 | sMAPE: 15.38 %\n",
      "\n",
      "Best MAE - Test Dataset\n",
      "  MAE: 5.4 | sMAPE: 13.38 %\n"
     ]
    },
    {
     "name": "stderr",
     "output_type": "stream",
     "text": [
      "C:\\Users\\35250\\AppData\\Roaming\\Python\\Python38\\site-packages\\tensorflow\\python\\keras\\optimizer_v2\\optimizer_v2.py:374: UserWarning: The `lr` argument is deprecated, use `learning_rate` instead.\n",
      "  warnings.warn(\n"
     ]
    },
    {
     "name": "stdout",
     "output_type": "stream",
     "text": [
      "\n",
      "\n",
      "Tested 6/50 iterations.\n",
      "Best MAE - Validation Dataset\n",
      "  MAE: 3.9 | sMAPE: 15.38 %\n",
      "\n",
      "Best MAE - Test Dataset\n",
      "  MAE: 5.4 | sMAPE: 13.38 %\n"
     ]
    },
    {
     "name": "stderr",
     "output_type": "stream",
     "text": [
      "C:\\Users\\35250\\AppData\\Roaming\\Python\\Python38\\site-packages\\tensorflow\\python\\keras\\optimizer_v2\\optimizer_v2.py:374: UserWarning: The `lr` argument is deprecated, use `learning_rate` instead.\n",
      "  warnings.warn(\n"
     ]
    },
    {
     "name": "stdout",
     "output_type": "stream",
     "text": [
      "\n",
      "\n",
      "Tested 7/50 iterations.\n",
      "Best MAE - Validation Dataset\n",
      "  MAE: 3.9 | sMAPE: 15.38 %\n",
      "\n",
      "Best MAE - Test Dataset\n",
      "  MAE: 5.4 | sMAPE: 13.38 %\n"
     ]
    },
    {
     "name": "stderr",
     "output_type": "stream",
     "text": [
      "C:\\Users\\35250\\AppData\\Roaming\\Python\\Python38\\site-packages\\tensorflow\\python\\keras\\optimizer_v2\\optimizer_v2.py:374: UserWarning: The `lr` argument is deprecated, use `learning_rate` instead.\n",
      "  warnings.warn(\n"
     ]
    },
    {
     "name": "stdout",
     "output_type": "stream",
     "text": [
      "\n",
      "\n",
      "Tested 8/50 iterations.\n",
      "Best MAE - Validation Dataset\n",
      "  MAE: 3.9 | sMAPE: 15.38 %\n",
      "\n",
      "Best MAE - Test Dataset\n",
      "  MAE: 5.4 | sMAPE: 13.38 %\n"
     ]
    },
    {
     "name": "stderr",
     "output_type": "stream",
     "text": [
      "C:\\Users\\35250\\AppData\\Roaming\\Python\\Python38\\site-packages\\tensorflow\\python\\keras\\optimizer_v2\\optimizer_v2.py:374: UserWarning: The `lr` argument is deprecated, use `learning_rate` instead.\n",
      "  warnings.warn(\n"
     ]
    },
    {
     "name": "stdout",
     "output_type": "stream",
     "text": [
      "\n",
      "\n",
      "Tested 9/50 iterations.\n",
      "Best MAE - Validation Dataset\n",
      "  MAE: 3.9 | sMAPE: 15.38 %\n",
      "\n",
      "Best MAE - Test Dataset\n",
      "  MAE: 5.4 | sMAPE: 13.38 %\n"
     ]
    },
    {
     "name": "stderr",
     "output_type": "stream",
     "text": [
      "C:\\Users\\35250\\AppData\\Roaming\\Python\\Python38\\site-packages\\tensorflow\\python\\keras\\optimizer_v2\\optimizer_v2.py:374: UserWarning: The `lr` argument is deprecated, use `learning_rate` instead.\n",
      "  warnings.warn(\n"
     ]
    },
    {
     "name": "stdout",
     "output_type": "stream",
     "text": [
      "\n",
      "\n",
      "Tested 10/50 iterations.\n",
      "Best MAE - Validation Dataset\n",
      "  MAE: 3.9 | sMAPE: 15.38 %\n",
      "\n",
      "Best MAE - Test Dataset\n",
      "  MAE: 5.4 | sMAPE: 13.38 %\n"
     ]
    },
    {
     "name": "stderr",
     "output_type": "stream",
     "text": [
      "C:\\Users\\35250\\AppData\\Roaming\\Python\\Python38\\site-packages\\tensorflow\\python\\keras\\optimizer_v2\\optimizer_v2.py:374: UserWarning: The `lr` argument is deprecated, use `learning_rate` instead.\n",
      "  warnings.warn(\n"
     ]
    },
    {
     "name": "stdout",
     "output_type": "stream",
     "text": [
      "\n",
      "\n",
      "Tested 11/50 iterations.\n",
      "Best MAE - Validation Dataset\n",
      "  MAE: 3.9 | sMAPE: 15.38 %\n",
      "\n",
      "Best MAE - Test Dataset\n",
      "  MAE: 5.4 | sMAPE: 13.38 %\n",
      "\n",
      "\n",
      "Tested 12/50 iterations.\n",
      "Best MAE - Validation Dataset\n",
      "  MAE: 3.3 | sMAPE: 13.43 %\n",
      "\n",
      "Best MAE - Test Dataset\n",
      "  MAE: 5.3 | sMAPE: 12.89 %\n"
     ]
    },
    {
     "name": "stderr",
     "output_type": "stream",
     "text": [
      "C:\\Users\\35250\\AppData\\Roaming\\Python\\Python38\\site-packages\\tensorflow\\python\\keras\\optimizer_v2\\optimizer_v2.py:374: UserWarning: The `lr` argument is deprecated, use `learning_rate` instead.\n",
      "  warnings.warn(\n"
     ]
    },
    {
     "name": "stdout",
     "output_type": "stream",
     "text": [
      "\n",
      "\n",
      "Tested 13/50 iterations.\n",
      "Best MAE - Validation Dataset\n",
      "  MAE: 3.3 | sMAPE: 13.43 %\n",
      "\n",
      "Best MAE - Test Dataset\n",
      "  MAE: 5.3 | sMAPE: 12.89 %\n"
     ]
    },
    {
     "name": "stderr",
     "output_type": "stream",
     "text": [
      "C:\\Users\\35250\\AppData\\Roaming\\Python\\Python38\\site-packages\\tensorflow\\python\\keras\\optimizer_v2\\optimizer_v2.py:374: UserWarning: The `lr` argument is deprecated, use `learning_rate` instead.\n",
      "  warnings.warn(\n"
     ]
    },
    {
     "name": "stdout",
     "output_type": "stream",
     "text": [
      "\n",
      "\n",
      "Tested 14/50 iterations.\n",
      "Best MAE - Validation Dataset\n",
      "  MAE: 3.3 | sMAPE: 13.43 %\n",
      "\n",
      "Best MAE - Test Dataset\n",
      "  MAE: 5.3 | sMAPE: 12.89 %\n"
     ]
    },
    {
     "name": "stderr",
     "output_type": "stream",
     "text": [
      "C:\\Users\\35250\\AppData\\Roaming\\Python\\Python38\\site-packages\\tensorflow\\python\\keras\\optimizer_v2\\optimizer_v2.py:374: UserWarning: The `lr` argument is deprecated, use `learning_rate` instead.\n",
      "  warnings.warn(\n"
     ]
    },
    {
     "name": "stdout",
     "output_type": "stream",
     "text": [
      "\n",
      "\n",
      "Tested 15/50 iterations.\n",
      "Best MAE - Validation Dataset\n",
      "  MAE: 3.3 | sMAPE: 13.43 %\n",
      "\n",
      "Best MAE - Test Dataset\n",
      "  MAE: 5.3 | sMAPE: 12.89 %\n",
      "\n",
      "\n",
      "Tested 16/50 iterations.\n",
      "Best MAE - Validation Dataset\n",
      "  MAE: 3.3 | sMAPE: 13.43 %\n",
      "\n",
      "Best MAE - Test Dataset\n",
      "  MAE: 5.3 | sMAPE: 12.89 %\n",
      "\n",
      "\n",
      "Tested 17/50 iterations.\n",
      "Best MAE - Validation Dataset\n",
      "  MAE: 3.3 | sMAPE: 13.43 %\n",
      "\n",
      "Best MAE - Test Dataset\n",
      "  MAE: 5.3 | sMAPE: 12.89 %\n",
      "\n",
      "\n",
      "Tested 18/50 iterations.\n",
      "Best MAE - Validation Dataset\n",
      "  MAE: 3.3 | sMAPE: 13.43 %\n",
      "\n",
      "Best MAE - Test Dataset\n",
      "  MAE: 5.3 | sMAPE: 12.89 %\n"
     ]
    },
    {
     "name": "stderr",
     "output_type": "stream",
     "text": [
      "C:\\Users\\35250\\AppData\\Roaming\\Python\\Python38\\site-packages\\tensorflow\\python\\keras\\optimizer_v2\\optimizer_v2.py:374: UserWarning: The `lr` argument is deprecated, use `learning_rate` instead.\n",
      "  warnings.warn(\n"
     ]
    },
    {
     "name": "stdout",
     "output_type": "stream",
     "text": [
      "\n",
      "\n",
      "Tested 19/50 iterations.\n",
      "Best MAE - Validation Dataset\n",
      "  MAE: 3.3 | sMAPE: 13.43 %\n",
      "\n",
      "Best MAE - Test Dataset\n",
      "  MAE: 5.3 | sMAPE: 12.89 %\n"
     ]
    },
    {
     "name": "stderr",
     "output_type": "stream",
     "text": [
      "C:\\Users\\35250\\AppData\\Roaming\\Python\\Python38\\site-packages\\tensorflow\\python\\keras\\optimizer_v2\\optimizer_v2.py:374: UserWarning: The `lr` argument is deprecated, use `learning_rate` instead.\n",
      "  warnings.warn(\n"
     ]
    },
    {
     "name": "stdout",
     "output_type": "stream",
     "text": [
      "\n",
      "\n",
      "Tested 20/50 iterations.\n",
      "Best MAE - Validation Dataset\n",
      "  MAE: 3.3 | sMAPE: 13.43 %\n",
      "\n",
      "Best MAE - Test Dataset\n",
      "  MAE: 5.3 | sMAPE: 12.89 %\n"
     ]
    },
    {
     "name": "stderr",
     "output_type": "stream",
     "text": [
      "C:\\Users\\35250\\AppData\\Roaming\\Python\\Python38\\site-packages\\tensorflow\\python\\keras\\optimizer_v2\\optimizer_v2.py:374: UserWarning: The `lr` argument is deprecated, use `learning_rate` instead.\n",
      "  warnings.warn(\n"
     ]
    },
    {
     "name": "stdout",
     "output_type": "stream",
     "text": [
      "\n",
      "\n",
      "Tested 21/50 iterations.\n",
      "Best MAE - Validation Dataset\n",
      "  MAE: 3.3 | sMAPE: 13.43 %\n",
      "\n",
      "Best MAE - Test Dataset\n",
      "  MAE: 5.3 | sMAPE: 12.89 %\n"
     ]
    },
    {
     "name": "stderr",
     "output_type": "stream",
     "text": [
      "C:\\Users\\35250\\AppData\\Roaming\\Python\\Python38\\site-packages\\tensorflow\\python\\keras\\optimizer_v2\\optimizer_v2.py:374: UserWarning: The `lr` argument is deprecated, use `learning_rate` instead.\n",
      "  warnings.warn(\n"
     ]
    },
    {
     "name": "stdout",
     "output_type": "stream",
     "text": [
      "\n",
      "\n",
      "Tested 22/50 iterations.\n",
      "Best MAE - Validation Dataset\n",
      "  MAE: 3.3 | sMAPE: 13.43 %\n",
      "\n",
      "Best MAE - Test Dataset\n",
      "  MAE: 5.3 | sMAPE: 12.89 %\n"
     ]
    },
    {
     "name": "stderr",
     "output_type": "stream",
     "text": [
      "C:\\Users\\35250\\AppData\\Roaming\\Python\\Python38\\site-packages\\tensorflow\\python\\keras\\optimizer_v2\\optimizer_v2.py:374: UserWarning: The `lr` argument is deprecated, use `learning_rate` instead.\n",
      "  warnings.warn(\n"
     ]
    },
    {
     "name": "stdout",
     "output_type": "stream",
     "text": [
      "\n",
      "\n",
      "Tested 23/50 iterations.\n",
      "Best MAE - Validation Dataset\n",
      "  MAE: 3.3 | sMAPE: 13.43 %\n",
      "\n",
      "Best MAE - Test Dataset\n",
      "  MAE: 5.3 | sMAPE: 12.89 %\n"
     ]
    },
    {
     "name": "stderr",
     "output_type": "stream",
     "text": [
      "C:\\Users\\35250\\AppData\\Roaming\\Python\\Python38\\site-packages\\tensorflow\\python\\keras\\optimizer_v2\\optimizer_v2.py:374: UserWarning: The `lr` argument is deprecated, use `learning_rate` instead.\n",
      "  warnings.warn(\n"
     ]
    },
    {
     "name": "stdout",
     "output_type": "stream",
     "text": [
      "\n",
      "\n",
      "Tested 24/50 iterations.\n",
      "Best MAE - Validation Dataset\n",
      "  MAE: 3.3 | sMAPE: 13.43 %\n",
      "\n",
      "Best MAE - Test Dataset\n",
      "  MAE: 5.3 | sMAPE: 12.89 %\n"
     ]
    },
    {
     "name": "stderr",
     "output_type": "stream",
     "text": [
      "C:\\Users\\35250\\AppData\\Roaming\\Python\\Python38\\site-packages\\tensorflow\\python\\keras\\optimizer_v2\\optimizer_v2.py:374: UserWarning: The `lr` argument is deprecated, use `learning_rate` instead.\n",
      "  warnings.warn(\n"
     ]
    },
    {
     "name": "stdout",
     "output_type": "stream",
     "text": [
      "\n",
      "\n",
      "Tested 25/50 iterations.\n",
      "Best MAE - Validation Dataset\n",
      "  MAE: 3.3 | sMAPE: 13.43 %\n",
      "\n",
      "Best MAE - Test Dataset\n",
      "  MAE: 5.3 | sMAPE: 12.89 %\n"
     ]
    },
    {
     "name": "stderr",
     "output_type": "stream",
     "text": [
      "C:\\Users\\35250\\AppData\\Roaming\\Python\\Python38\\site-packages\\tensorflow\\python\\keras\\optimizer_v2\\optimizer_v2.py:374: UserWarning: The `lr` argument is deprecated, use `learning_rate` instead.\n",
      "  warnings.warn(\n"
     ]
    },
    {
     "name": "stdout",
     "output_type": "stream",
     "text": [
      "\n",
      "\n",
      "Tested 26/50 iterations.\n",
      "Best MAE - Validation Dataset\n",
      "  MAE: 3.3 | sMAPE: 13.43 %\n",
      "\n",
      "Best MAE - Test Dataset\n",
      "  MAE: 5.3 | sMAPE: 12.89 %\n"
     ]
    },
    {
     "name": "stderr",
     "output_type": "stream",
     "text": [
      "C:\\Users\\35250\\AppData\\Roaming\\Python\\Python38\\site-packages\\tensorflow\\python\\keras\\optimizer_v2\\optimizer_v2.py:374: UserWarning: The `lr` argument is deprecated, use `learning_rate` instead.\n",
      "  warnings.warn(\n"
     ]
    },
    {
     "name": "stdout",
     "output_type": "stream",
     "text": [
      "\n",
      "\n",
      "Tested 27/50 iterations.\n",
      "Best MAE - Validation Dataset\n",
      "  MAE: 3.3 | sMAPE: 13.43 %\n",
      "\n",
      "Best MAE - Test Dataset\n",
      "  MAE: 5.3 | sMAPE: 12.89 %\n"
     ]
    },
    {
     "name": "stderr",
     "output_type": "stream",
     "text": [
      "C:\\Users\\35250\\AppData\\Roaming\\Python\\Python38\\site-packages\\tensorflow\\python\\keras\\optimizer_v2\\optimizer_v2.py:374: UserWarning: The `lr` argument is deprecated, use `learning_rate` instead.\n",
      "  warnings.warn(\n"
     ]
    },
    {
     "name": "stdout",
     "output_type": "stream",
     "text": [
      "\n",
      "\n",
      "Tested 28/50 iterations.\n",
      "Best MAE - Validation Dataset\n",
      "  MAE: 3.3 | sMAPE: 13.43 %\n",
      "\n",
      "Best MAE - Test Dataset\n",
      "  MAE: 5.3 | sMAPE: 12.89 %\n",
      "\n",
      "\n",
      "Tested 29/50 iterations.\n",
      "Best MAE - Validation Dataset\n",
      "  MAE: 3.3 | sMAPE: 13.43 %\n",
      "\n",
      "Best MAE - Test Dataset\n",
      "  MAE: 5.3 | sMAPE: 12.89 %\n",
      "\n",
      "\n",
      "Tested 30/50 iterations.\n",
      "Best MAE - Validation Dataset\n",
      "  MAE: 3.3 | sMAPE: 13.43 %\n",
      "\n",
      "Best MAE - Test Dataset\n",
      "  MAE: 5.3 | sMAPE: 12.89 %\n",
      "\n",
      "\n",
      "Tested 31/50 iterations.\n",
      "Best MAE - Validation Dataset\n",
      "  MAE: 3.3 | sMAPE: 13.43 %\n",
      "\n",
      "Best MAE - Test Dataset\n",
      "  MAE: 5.3 | sMAPE: 12.89 %\n",
      "\n",
      "\n",
      "Tested 32/50 iterations.\n",
      "Best MAE - Validation Dataset\n",
      "  MAE: 3.3 | sMAPE: 13.43 %\n",
      "\n",
      "Best MAE - Test Dataset\n",
      "  MAE: 5.3 | sMAPE: 12.89 %\n",
      "\n",
      "\n",
      "Tested 33/50 iterations.\n",
      "Best MAE - Validation Dataset\n",
      "  MAE: 3.3 | sMAPE: 13.43 %\n",
      "\n",
      "Best MAE - Test Dataset\n",
      "  MAE: 5.3 | sMAPE: 12.89 %\n",
      "\n",
      "\n",
      "Tested 34/50 iterations.\n",
      "Best MAE - Validation Dataset\n",
      "  MAE: 3.3 | sMAPE: 13.43 %\n",
      "\n",
      "Best MAE - Test Dataset\n",
      "  MAE: 5.3 | sMAPE: 12.89 %\n",
      "\n",
      "\n",
      "Tested 35/50 iterations.\n",
      "Best MAE - Validation Dataset\n",
      "  MAE: 3.3 | sMAPE: 13.43 %\n",
      "\n",
      "Best MAE - Test Dataset\n",
      "  MAE: 5.3 | sMAPE: 12.89 %\n",
      "\n",
      "\n",
      "Tested 36/50 iterations.\n",
      "Best MAE - Validation Dataset\n",
      "  MAE: 3.3 | sMAPE: 13.43 %\n",
      "\n",
      "Best MAE - Test Dataset\n",
      "  MAE: 5.3 | sMAPE: 12.89 %\n",
      "\n",
      "\n",
      "Tested 37/50 iterations.\n",
      "Best MAE - Validation Dataset\n",
      "  MAE: 3.3 | sMAPE: 13.43 %\n",
      "\n",
      "Best MAE - Test Dataset\n",
      "  MAE: 5.3 | sMAPE: 12.89 %\n"
     ]
    },
    {
     "name": "stderr",
     "output_type": "stream",
     "text": [
      "C:\\Users\\35250\\AppData\\Roaming\\Python\\Python38\\site-packages\\tensorflow\\python\\keras\\optimizer_v2\\optimizer_v2.py:374: UserWarning: The `lr` argument is deprecated, use `learning_rate` instead.\n",
      "  warnings.warn(\n"
     ]
    },
    {
     "name": "stdout",
     "output_type": "stream",
     "text": [
      "\n",
      "\n",
      "Tested 38/50 iterations.\n",
      "Best MAE - Validation Dataset\n",
      "  MAE: 3.3 | sMAPE: 13.43 %\n",
      "\n",
      "Best MAE - Test Dataset\n",
      "  MAE: 5.3 | sMAPE: 12.89 %\n"
     ]
    },
    {
     "name": "stderr",
     "output_type": "stream",
     "text": [
      "C:\\Users\\35250\\AppData\\Roaming\\Python\\Python38\\site-packages\\tensorflow\\python\\keras\\optimizer_v2\\optimizer_v2.py:374: UserWarning: The `lr` argument is deprecated, use `learning_rate` instead.\n",
      "  warnings.warn(\n"
     ]
    },
    {
     "name": "stdout",
     "output_type": "stream",
     "text": [
      "\n",
      "\n",
      "Tested 39/50 iterations.\n",
      "Best MAE - Validation Dataset\n",
      "  MAE: 3.3 | sMAPE: 13.43 %\n",
      "\n",
      "Best MAE - Test Dataset\n",
      "  MAE: 5.3 | sMAPE: 12.89 %\n",
      "\n",
      "\n",
      "Tested 40/50 iterations.\n",
      "Best MAE - Validation Dataset\n",
      "  MAE: 3.3 | sMAPE: 13.43 %\n",
      "\n",
      "Best MAE - Test Dataset\n",
      "  MAE: 5.3 | sMAPE: 12.89 %\n"
     ]
    },
    {
     "name": "stderr",
     "output_type": "stream",
     "text": [
      "C:\\Users\\35250\\AppData\\Roaming\\Python\\Python38\\site-packages\\tensorflow\\python\\keras\\optimizer_v2\\optimizer_v2.py:374: UserWarning: The `lr` argument is deprecated, use `learning_rate` instead.\n",
      "  warnings.warn(\n"
     ]
    },
    {
     "name": "stdout",
     "output_type": "stream",
     "text": [
      "\n",
      "\n",
      "Tested 41/50 iterations.\n",
      "Best MAE - Validation Dataset\n",
      "  MAE: 3.3 | sMAPE: 13.43 %\n",
      "\n",
      "Best MAE - Test Dataset\n",
      "  MAE: 5.3 | sMAPE: 12.89 %\n"
     ]
    },
    {
     "name": "stderr",
     "output_type": "stream",
     "text": [
      "C:\\Users\\35250\\AppData\\Roaming\\Python\\Python38\\site-packages\\tensorflow\\python\\keras\\optimizer_v2\\optimizer_v2.py:374: UserWarning: The `lr` argument is deprecated, use `learning_rate` instead.\n",
      "  warnings.warn(\n"
     ]
    },
    {
     "name": "stdout",
     "output_type": "stream",
     "text": [
      "\n",
      "\n",
      "Tested 42/50 iterations.\n",
      "Best MAE - Validation Dataset\n",
      "  MAE: 3.3 | sMAPE: 13.43 %\n",
      "\n",
      "Best MAE - Test Dataset\n",
      "  MAE: 5.3 | sMAPE: 12.89 %\n",
      "\n",
      "\n",
      "Tested 43/50 iterations.\n",
      "Best MAE - Validation Dataset\n",
      "  MAE: 3.3 | sMAPE: 13.43 %\n",
      "\n",
      "Best MAE - Test Dataset\n",
      "  MAE: 5.3 | sMAPE: 12.89 %\n"
     ]
    },
    {
     "name": "stderr",
     "output_type": "stream",
     "text": [
      "C:\\Users\\35250\\AppData\\Roaming\\Python\\Python38\\site-packages\\tensorflow\\python\\keras\\optimizer_v2\\optimizer_v2.py:374: UserWarning: The `lr` argument is deprecated, use `learning_rate` instead.\n",
      "  warnings.warn(\n"
     ]
    },
    {
     "name": "stdout",
     "output_type": "stream",
     "text": [
      "\n",
      "\n",
      "Tested 44/50 iterations.\n",
      "Best MAE - Validation Dataset\n",
      "  MAE: 3.3 | sMAPE: 13.43 %\n",
      "\n",
      "Best MAE - Test Dataset\n",
      "  MAE: 5.3 | sMAPE: 12.89 %\n",
      "\n",
      "\n",
      "Tested 45/50 iterations.\n",
      "Best MAE - Validation Dataset\n",
      "  MAE: 3.3 | sMAPE: 13.43 %\n",
      "\n",
      "Best MAE - Test Dataset\n",
      "  MAE: 5.3 | sMAPE: 12.89 %\n"
     ]
    },
    {
     "name": "stderr",
     "output_type": "stream",
     "text": [
      "C:\\Users\\35250\\AppData\\Roaming\\Python\\Python38\\site-packages\\tensorflow\\python\\keras\\optimizer_v2\\optimizer_v2.py:374: UserWarning: The `lr` argument is deprecated, use `learning_rate` instead.\n",
      "  warnings.warn(\n"
     ]
    },
    {
     "name": "stdout",
     "output_type": "stream",
     "text": [
      "\n",
      "\n",
      "Tested 46/50 iterations.\n",
      "Best MAE - Validation Dataset\n",
      "  MAE: 3.3 | sMAPE: 13.43 %\n",
      "\n",
      "Best MAE - Test Dataset\n",
      "  MAE: 5.3 | sMAPE: 12.89 %\n"
     ]
    },
    {
     "name": "stderr",
     "output_type": "stream",
     "text": [
      "C:\\Users\\35250\\AppData\\Roaming\\Python\\Python38\\site-packages\\tensorflow\\python\\keras\\optimizer_v2\\optimizer_v2.py:374: UserWarning: The `lr` argument is deprecated, use `learning_rate` instead.\n",
      "  warnings.warn(\n"
     ]
    },
    {
     "name": "stdout",
     "output_type": "stream",
     "text": [
      "\n",
      "\n",
      "Tested 47/50 iterations.\n",
      "Best MAE - Validation Dataset\n",
      "  MAE: 3.3 | sMAPE: 13.43 %\n",
      "\n",
      "Best MAE - Test Dataset\n",
      "  MAE: 5.3 | sMAPE: 12.89 %\n"
     ]
    },
    {
     "name": "stderr",
     "output_type": "stream",
     "text": [
      "C:\\Users\\35250\\AppData\\Roaming\\Python\\Python38\\site-packages\\tensorflow\\python\\keras\\optimizer_v2\\optimizer_v2.py:374: UserWarning: The `lr` argument is deprecated, use `learning_rate` instead.\n",
      "  warnings.warn(\n"
     ]
    },
    {
     "name": "stdout",
     "output_type": "stream",
     "text": [
      "\n",
      "\n",
      "Tested 48/50 iterations.\n",
      "Best MAE - Validation Dataset\n",
      "  MAE: 3.3 | sMAPE: 13.43 %\n",
      "\n",
      "Best MAE - Test Dataset\n",
      "  MAE: 5.3 | sMAPE: 12.89 %\n",
      "\n",
      "\n",
      "Tested 49/50 iterations.\n",
      "Best MAE - Validation Dataset\n",
      "  MAE: 3.3 | sMAPE: 13.43 %\n",
      "\n",
      "Best MAE - Test Dataset\n",
      "  MAE: 5.3 | sMAPE: 12.89 %\n"
     ]
    }
   ],
   "source": [
    "# Number of layers in DNN\n",
    "nlayers = 2\n",
    "\n",
    "# data to study\n",
    "dataset = 'auctionData_final'\n",
    "\n",
    "# 1 year is considered as 364 days (52 weeks)\n",
    "# years_test = 1\n",
    "\n",
    "# Optional parameters for selecting the test dataset\n",
    "begin_test_date = '2020-07-20'\n",
    "end_test_date = '2020-10-18'\n",
    "\n",
    "# Boolean that selects whether the validation and training datasets are shuffled\n",
    "shuffle_train = 1\n",
    "\n",
    "# Boolean that selects whether a data augmentation technique for DNNs is used\n",
    "data_augmentation = 0\n",
    "\n",
    "# Boolean that selects whether we start a new hyperparameter optimization or we restart an existing one\n",
    "new_hyperopt = 1\n",
    "\n",
    "# Number of years used in the training dataset for recalibration\n",
    "calibration_window = 1\n",
    "\n",
    "# Unique identifier to read the trials file of hyperparameter optimization\n",
    "experiment_id = 3\n",
    "\n",
    "# Number of iterations for hyperparameter optimization\n",
    "max_evals = 50\n",
    "\n",
    "# path_datasets_folder = \"./datasets/\"\n",
    "# path_hyperparameters_folder = \"./experimental_files/\"\n",
    "\n",
    "hyperparameter_optimizer(path_datasets_folder = 'final datasets',\n",
    "                         path_hyperparameters_folder = 'hyperparameter_dnn/auc_July',\n",
    "                         new_hyperopt = new_hyperopt,\n",
    "                         max_evals = max_evals,\n",
    "                         nlayers = nlayers,\n",
    "                         dataset = dataset, \n",
    "                         #years_test = years_test,\n",
    "                         calibration_window = calibration_window, \n",
    "                         shuffle_train = shuffle_train,\n",
    "                         data_augmentation = data_augmentation,\n",
    "                         experiment_id = experiment_id,\n",
    "                         begin_test_date = begin_test_date,\n",
    "                         end_test_date = end_test_date)"
   ]
  },
  {
   "cell_type": "markdown",
   "id": "5300bd1f",
   "metadata": {},
   "source": [
    "Testing"
   ]
  },
  {
   "cell_type": "code",
   "execution_count": 12,
   "id": "2de9dfb8",
   "metadata": {
    "scrolled": true
   },
   "outputs": [
    {
     "name": "stdout",
     "output_type": "stream",
     "text": [
      "Test datasets: 2021-04-19 00:00:00 - 2021-04-25 23:00:00\n"
     ]
    },
    {
     "name": "stderr",
     "output_type": "stream",
     "text": [
      "C:\\Users\\35250\\AppData\\Roaming\\Python\\Python38\\site-packages\\tensorflow\\python\\keras\\optimizer_v2\\optimizer_v2.py:374: UserWarning: The `lr` argument is deprecated, use `learning_rate` instead.\n",
      "  warnings.warn(\n"
     ]
    },
    {
     "name": "stdout",
     "output_type": "stream",
     "text": [
      "2021-04-19 - sMAPE: 12.53%  |  MAE: 9.477\n"
     ]
    },
    {
     "name": "stderr",
     "output_type": "stream",
     "text": [
      "C:\\Users\\35250\\AppData\\Roaming\\Python\\Python38\\site-packages\\tensorflow\\python\\keras\\optimizer_v2\\optimizer_v2.py:374: UserWarning: The `lr` argument is deprecated, use `learning_rate` instead.\n",
      "  warnings.warn(\n"
     ]
    },
    {
     "name": "stdout",
     "output_type": "stream",
     "text": [
      "2021-04-20 - sMAPE: 12.08%  |  MAE: 8.880\n"
     ]
    },
    {
     "name": "stderr",
     "output_type": "stream",
     "text": [
      "C:\\Users\\35250\\AppData\\Roaming\\Python\\Python38\\site-packages\\tensorflow\\python\\keras\\optimizer_v2\\optimizer_v2.py:374: UserWarning: The `lr` argument is deprecated, use `learning_rate` instead.\n",
      "  warnings.warn(\n"
     ]
    },
    {
     "name": "stdout",
     "output_type": "stream",
     "text": [
      "2021-04-21 - sMAPE: 10.08%  |  MAE: 7.242\n"
     ]
    },
    {
     "name": "stderr",
     "output_type": "stream",
     "text": [
      "C:\\Users\\35250\\AppData\\Roaming\\Python\\Python38\\site-packages\\tensorflow\\python\\keras\\optimizer_v2\\optimizer_v2.py:374: UserWarning: The `lr` argument is deprecated, use `learning_rate` instead.\n",
      "  warnings.warn(\n"
     ]
    },
    {
     "name": "stdout",
     "output_type": "stream",
     "text": [
      "2021-04-22 - sMAPE: 9.56%  |  MAE: 6.840\n"
     ]
    },
    {
     "name": "stderr",
     "output_type": "stream",
     "text": [
      "C:\\Users\\35250\\AppData\\Roaming\\Python\\Python38\\site-packages\\tensorflow\\python\\keras\\optimizer_v2\\optimizer_v2.py:374: UserWarning: The `lr` argument is deprecated, use `learning_rate` instead.\n",
      "  warnings.warn(\n"
     ]
    },
    {
     "name": "stdout",
     "output_type": "stream",
     "text": [
      "2021-04-23 - sMAPE: 8.42%  |  MAE: 6.033\n"
     ]
    },
    {
     "name": "stderr",
     "output_type": "stream",
     "text": [
      "C:\\Users\\35250\\AppData\\Roaming\\Python\\Python38\\site-packages\\tensorflow\\python\\keras\\optimizer_v2\\optimizer_v2.py:374: UserWarning: The `lr` argument is deprecated, use `learning_rate` instead.\n",
      "  warnings.warn(\n"
     ]
    },
    {
     "name": "stdout",
     "output_type": "stream",
     "text": [
      "2021-04-24 - sMAPE: 7.89%  |  MAE: 5.593\n"
     ]
    },
    {
     "name": "stderr",
     "output_type": "stream",
     "text": [
      "C:\\Users\\35250\\AppData\\Roaming\\Python\\Python38\\site-packages\\tensorflow\\python\\keras\\optimizer_v2\\optimizer_v2.py:374: UserWarning: The `lr` argument is deprecated, use `learning_rate` instead.\n",
      "  warnings.warn(\n"
     ]
    },
    {
     "name": "stdout",
     "output_type": "stream",
     "text": [
      "2021-04-25 - sMAPE: 8.02%  |  MAE: 5.583\n"
     ]
    },
    {
     "data": {
      "text/html": [
       "<div>\n",
       "<style scoped>\n",
       "    .dataframe tbody tr th:only-of-type {\n",
       "        vertical-align: middle;\n",
       "    }\n",
       "\n",
       "    .dataframe tbody tr th {\n",
       "        vertical-align: top;\n",
       "    }\n",
       "\n",
       "    .dataframe thead th {\n",
       "        text-align: right;\n",
       "    }\n",
       "</style>\n",
       "<table border=\"1\" class=\"dataframe\">\n",
       "  <thead>\n",
       "    <tr style=\"text-align: right;\">\n",
       "      <th></th>\n",
       "      <th>h0</th>\n",
       "      <th>h1</th>\n",
       "      <th>h2</th>\n",
       "      <th>h3</th>\n",
       "      <th>h4</th>\n",
       "      <th>h5</th>\n",
       "      <th>h6</th>\n",
       "      <th>h7</th>\n",
       "      <th>h8</th>\n",
       "      <th>h9</th>\n",
       "      <th>...</th>\n",
       "      <th>h14</th>\n",
       "      <th>h15</th>\n",
       "      <th>h16</th>\n",
       "      <th>h17</th>\n",
       "      <th>h18</th>\n",
       "      <th>h19</th>\n",
       "      <th>h20</th>\n",
       "      <th>h21</th>\n",
       "      <th>h22</th>\n",
       "      <th>h23</th>\n",
       "    </tr>\n",
       "    <tr>\n",
       "      <th>datetime</th>\n",
       "      <th></th>\n",
       "      <th></th>\n",
       "      <th></th>\n",
       "      <th></th>\n",
       "      <th></th>\n",
       "      <th></th>\n",
       "      <th></th>\n",
       "      <th></th>\n",
       "      <th></th>\n",
       "      <th></th>\n",
       "      <th></th>\n",
       "      <th></th>\n",
       "      <th></th>\n",
       "      <th></th>\n",
       "      <th></th>\n",
       "      <th></th>\n",
       "      <th></th>\n",
       "      <th></th>\n",
       "      <th></th>\n",
       "      <th></th>\n",
       "      <th></th>\n",
       "    </tr>\n",
       "  </thead>\n",
       "  <tbody>\n",
       "    <tr>\n",
       "      <th>2021-04-19</th>\n",
       "      <td>61.376507</td>\n",
       "      <td>58.501911</td>\n",
       "      <td>60.539257</td>\n",
       "      <td>58.873138</td>\n",
       "      <td>56.333172</td>\n",
       "      <td>55.503765</td>\n",
       "      <td>63.259907</td>\n",
       "      <td>68.751381</td>\n",
       "      <td>71.338348</td>\n",
       "      <td>77.237831</td>\n",
       "      <td>...</td>\n",
       "      <td>71.138374</td>\n",
       "      <td>66.753372</td>\n",
       "      <td>65.476799</td>\n",
       "      <td>78.460617</td>\n",
       "      <td>104.355148</td>\n",
       "      <td>107.382568</td>\n",
       "      <td>98.441978</td>\n",
       "      <td>85.547646</td>\n",
       "      <td>74.437248</td>\n",
       "      <td>63.661682</td>\n",
       "    </tr>\n",
       "    <tr>\n",
       "      <th>2021-04-20</th>\n",
       "      <td>59.148975</td>\n",
       "      <td>58.173542</td>\n",
       "      <td>57.836197</td>\n",
       "      <td>56.454342</td>\n",
       "      <td>54.183922</td>\n",
       "      <td>53.557579</td>\n",
       "      <td>58.579659</td>\n",
       "      <td>66.250038</td>\n",
       "      <td>69.374229</td>\n",
       "      <td>78.029083</td>\n",
       "      <td>...</td>\n",
       "      <td>70.071426</td>\n",
       "      <td>65.383484</td>\n",
       "      <td>65.559631</td>\n",
       "      <td>77.960503</td>\n",
       "      <td>95.335564</td>\n",
       "      <td>94.483231</td>\n",
       "      <td>87.291237</td>\n",
       "      <td>74.958107</td>\n",
       "      <td>66.924232</td>\n",
       "      <td>58.742752</td>\n",
       "    </tr>\n",
       "    <tr>\n",
       "      <th>2021-04-21</th>\n",
       "      <td>56.282574</td>\n",
       "      <td>54.211617</td>\n",
       "      <td>54.360188</td>\n",
       "      <td>52.552914</td>\n",
       "      <td>50.39521</td>\n",
       "      <td>51.461819</td>\n",
       "      <td>57.415993</td>\n",
       "      <td>64.231392</td>\n",
       "      <td>68.639259</td>\n",
       "      <td>71.253189</td>\n",
       "      <td>...</td>\n",
       "      <td>52.661572</td>\n",
       "      <td>50.866444</td>\n",
       "      <td>52.177475</td>\n",
       "      <td>58.196381</td>\n",
       "      <td>79.200905</td>\n",
       "      <td>89.885155</td>\n",
       "      <td>82.96624</td>\n",
       "      <td>72.185081</td>\n",
       "      <td>64.159264</td>\n",
       "      <td>55.184647</td>\n",
       "    </tr>\n",
       "    <tr>\n",
       "      <th>2021-04-22</th>\n",
       "      <td>62.457191</td>\n",
       "      <td>59.377117</td>\n",
       "      <td>58.348213</td>\n",
       "      <td>57.542866</td>\n",
       "      <td>54.763088</td>\n",
       "      <td>55.175072</td>\n",
       "      <td>59.822914</td>\n",
       "      <td>67.967972</td>\n",
       "      <td>72.067032</td>\n",
       "      <td>74.538773</td>\n",
       "      <td>...</td>\n",
       "      <td>62.097012</td>\n",
       "      <td>58.272377</td>\n",
       "      <td>58.045914</td>\n",
       "      <td>66.150009</td>\n",
       "      <td>89.682076</td>\n",
       "      <td>96.186768</td>\n",
       "      <td>89.521149</td>\n",
       "      <td>76.885178</td>\n",
       "      <td>69.547302</td>\n",
       "      <td>59.96854</td>\n",
       "    </tr>\n",
       "    <tr>\n",
       "      <th>2021-04-23</th>\n",
       "      <td>62.861935</td>\n",
       "      <td>58.248497</td>\n",
       "      <td>58.733097</td>\n",
       "      <td>57.990578</td>\n",
       "      <td>55.085457</td>\n",
       "      <td>55.570053</td>\n",
       "      <td>61.522972</td>\n",
       "      <td>68.488678</td>\n",
       "      <td>75.28537</td>\n",
       "      <td>78.168625</td>\n",
       "      <td>...</td>\n",
       "      <td>58.074165</td>\n",
       "      <td>54.451912</td>\n",
       "      <td>55.710278</td>\n",
       "      <td>59.650837</td>\n",
       "      <td>79.285652</td>\n",
       "      <td>93.331245</td>\n",
       "      <td>90.346146</td>\n",
       "      <td>81.243011</td>\n",
       "      <td>70.050819</td>\n",
       "      <td>60.693783</td>\n",
       "    </tr>\n",
       "    <tr>\n",
       "      <th>2021-04-24</th>\n",
       "      <td>62.330608</td>\n",
       "      <td>57.61871</td>\n",
       "      <td>56.954437</td>\n",
       "      <td>56.025692</td>\n",
       "      <td>52.314831</td>\n",
       "      <td>52.952648</td>\n",
       "      <td>54.855846</td>\n",
       "      <td>61.037788</td>\n",
       "      <td>66.587204</td>\n",
       "      <td>68.32769</td>\n",
       "      <td>...</td>\n",
       "      <td>53.760021</td>\n",
       "      <td>49.305683</td>\n",
       "      <td>51.070229</td>\n",
       "      <td>54.470478</td>\n",
       "      <td>71.145699</td>\n",
       "      <td>81.700165</td>\n",
       "      <td>80.626251</td>\n",
       "      <td>76.474533</td>\n",
       "      <td>66.670082</td>\n",
       "      <td>57.648579</td>\n",
       "    </tr>\n",
       "    <tr>\n",
       "      <th>2021-04-25</th>\n",
       "      <td>63.099979</td>\n",
       "      <td>56.978458</td>\n",
       "      <td>57.897377</td>\n",
       "      <td>54.318516</td>\n",
       "      <td>51.974945</td>\n",
       "      <td>50.693436</td>\n",
       "      <td>54.332088</td>\n",
       "      <td>58.728184</td>\n",
       "      <td>63.317608</td>\n",
       "      <td>69.083336</td>\n",
       "      <td>...</td>\n",
       "      <td>58.174667</td>\n",
       "      <td>53.98465</td>\n",
       "      <td>54.025036</td>\n",
       "      <td>58.492863</td>\n",
       "      <td>75.957039</td>\n",
       "      <td>85.583366</td>\n",
       "      <td>87.044319</td>\n",
       "      <td>79.107498</td>\n",
       "      <td>68.701347</td>\n",
       "      <td>60.125214</td>\n",
       "    </tr>\n",
       "  </tbody>\n",
       "</table>\n",
       "<p>7 rows × 24 columns</p>\n",
       "</div>"
      ],
      "text/plain": [
       "                   h0         h1         h2         h3         h4         h5  \\\n",
       "datetime                                                                       \n",
       "2021-04-19  61.376507  58.501911  60.539257  58.873138  56.333172  55.503765   \n",
       "2021-04-20  59.148975  58.173542  57.836197  56.454342  54.183922  53.557579   \n",
       "2021-04-21  56.282574  54.211617  54.360188  52.552914   50.39521  51.461819   \n",
       "2021-04-22  62.457191  59.377117  58.348213  57.542866  54.763088  55.175072   \n",
       "2021-04-23  62.861935  58.248497  58.733097  57.990578  55.085457  55.570053   \n",
       "2021-04-24  62.330608   57.61871  56.954437  56.025692  52.314831  52.952648   \n",
       "2021-04-25  63.099979  56.978458  57.897377  54.318516  51.974945  50.693436   \n",
       "\n",
       "                   h6         h7         h8         h9  ...        h14  \\\n",
       "datetime                                                ...              \n",
       "2021-04-19  63.259907  68.751381  71.338348  77.237831  ...  71.138374   \n",
       "2021-04-20  58.579659  66.250038  69.374229  78.029083  ...  70.071426   \n",
       "2021-04-21  57.415993  64.231392  68.639259  71.253189  ...  52.661572   \n",
       "2021-04-22  59.822914  67.967972  72.067032  74.538773  ...  62.097012   \n",
       "2021-04-23  61.522972  68.488678   75.28537  78.168625  ...  58.074165   \n",
       "2021-04-24  54.855846  61.037788  66.587204   68.32769  ...  53.760021   \n",
       "2021-04-25  54.332088  58.728184  63.317608  69.083336  ...  58.174667   \n",
       "\n",
       "                  h15        h16        h17         h18         h19  \\\n",
       "datetime                                                              \n",
       "2021-04-19  66.753372  65.476799  78.460617  104.355148  107.382568   \n",
       "2021-04-20  65.383484  65.559631  77.960503   95.335564   94.483231   \n",
       "2021-04-21  50.866444  52.177475  58.196381   79.200905   89.885155   \n",
       "2021-04-22  58.272377  58.045914  66.150009   89.682076   96.186768   \n",
       "2021-04-23  54.451912  55.710278  59.650837   79.285652   93.331245   \n",
       "2021-04-24  49.305683  51.070229  54.470478   71.145699   81.700165   \n",
       "2021-04-25   53.98465  54.025036  58.492863   75.957039   85.583366   \n",
       "\n",
       "                  h20        h21        h22        h23  \n",
       "datetime                                                \n",
       "2021-04-19  98.441978  85.547646  74.437248  63.661682  \n",
       "2021-04-20  87.291237  74.958107  66.924232  58.742752  \n",
       "2021-04-21   82.96624  72.185081  64.159264  55.184647  \n",
       "2021-04-22  89.521149  76.885178  69.547302   59.96854  \n",
       "2021-04-23  90.346146  81.243011  70.050819  60.693783  \n",
       "2021-04-24  80.626251  76.474533  66.670082  57.648579  \n",
       "2021-04-25  87.044319  79.107498  68.701347  60.125214  \n",
       "\n",
       "[7 rows x 24 columns]"
      ]
     },
     "execution_count": 12,
     "metadata": {},
     "output_type": "execute_result"
    }
   ],
   "source": [
    "# Number of layers in DNN\n",
    "nlayers = 2\n",
    "\n",
    "# data to study\n",
    "dataset = 'auctionData_final'\n",
    "\n",
    "# 1 year is considered as 364 days (52 weeks)\n",
    "# years_test = 1\n",
    "\n",
    "# Optional parameters for selecting the test dataset\n",
    "begin_test_date = '2021-04-19'\n",
    "end_test_date = '2021-04-25'\n",
    "\n",
    "# for recalibration the validation and the training datasets are always shuffled\n",
    "shuffle_train = 1\n",
    "\n",
    "# Boolean that selects whether a data augmentation technique for DNNs is used\n",
    "data_augmentation = 0\n",
    "\n",
    "# Boolean that selects whether we start a new recalibration or we restart an existing one\n",
    "new_recalibration = 1\n",
    "\n",
    "# Number of years used in the training dataset for recalibration\n",
    "calibration_window = 1\n",
    "\n",
    "# Unique identifier to read the trials file of hyperparameter optimization\n",
    "experiment_id = 1\n",
    "\n",
    "# Set up the paths for saving data (this are the defaults for the library)\n",
    "# path_datasets_folder = os.path.join('.', 'datasets')\n",
    "# path_recalibration_folder = os.path.join('.', 'experimental_files')\n",
    "# path_hyperparameter_folder = os.path.join('.', 'experimental_files')\n",
    "\n",
    "evaluate_dnn_in_test_dataset(experiment_id,\n",
    "                             path_hyperparameter_folder = 'hyperparameter_dnn/auc_April',\n",
    "                             path_datasets_folder = 'final datasets',\n",
    "                             shuffle_train = shuffle_train,\n",
    "                             path_recalibration_folder = 'forecast results/DNN/auc_April',\n",
    "                             nlayers = nlayers,\n",
    "                             dataset = dataset,\n",
    "                             #years_test = years_test,\n",
    "                             data_augmentation = data_augmentation,\n",
    "                             calibration_window = calibration_window,\n",
    "                             new_recalibration = new_recalibration,\n",
    "                             begin_test_date = begin_test_date,\n",
    "                             end_test_date = end_test_date)"
   ]
  },
  {
   "cell_type": "code",
   "execution_count": 16,
   "id": "a5ded066",
   "metadata": {
    "scrolled": true
   },
   "outputs": [
    {
     "name": "stdout",
     "output_type": "stream",
     "text": [
      "Test datasets: 2020-10-19 00:00:00 - 2020-10-25 23:00:00\n",
      "2020-10-19 - sMAPE: 34.90%  |  MAE: 13.011\n",
      "2020-10-20 - sMAPE: 33.96%  |  MAE: 13.082\n",
      "2020-10-21 - sMAPE: 42.62%  |  MAE: 13.825\n",
      "2020-10-22 - sMAPE: 41.30%  |  MAE: 13.979\n",
      "2020-10-23 - sMAPE: 38.07%  |  MAE: 13.633\n",
      "2020-10-24 - sMAPE: 40.45%  |  MAE: 13.721\n",
      "2020-10-25 - sMAPE: 47.86%  |  MAE: 15.374\n"
     ]
    },
    {
     "data": {
      "text/html": [
       "<div>\n",
       "<style scoped>\n",
       "    .dataframe tbody tr th:only-of-type {\n",
       "        vertical-align: middle;\n",
       "    }\n",
       "\n",
       "    .dataframe tbody tr th {\n",
       "        vertical-align: top;\n",
       "    }\n",
       "\n",
       "    .dataframe thead th {\n",
       "        text-align: right;\n",
       "    }\n",
       "</style>\n",
       "<table border=\"1\" class=\"dataframe\">\n",
       "  <thead>\n",
       "    <tr style=\"text-align: right;\">\n",
       "      <th></th>\n",
       "      <th>h0</th>\n",
       "      <th>h1</th>\n",
       "      <th>h2</th>\n",
       "      <th>h3</th>\n",
       "      <th>h4</th>\n",
       "      <th>h5</th>\n",
       "      <th>h6</th>\n",
       "      <th>h7</th>\n",
       "      <th>h8</th>\n",
       "      <th>h9</th>\n",
       "      <th>...</th>\n",
       "      <th>h14</th>\n",
       "      <th>h15</th>\n",
       "      <th>h16</th>\n",
       "      <th>h17</th>\n",
       "      <th>h18</th>\n",
       "      <th>h19</th>\n",
       "      <th>h20</th>\n",
       "      <th>h21</th>\n",
       "      <th>h22</th>\n",
       "      <th>h23</th>\n",
       "    </tr>\n",
       "    <tr>\n",
       "      <th>datetime</th>\n",
       "      <th></th>\n",
       "      <th></th>\n",
       "      <th></th>\n",
       "      <th></th>\n",
       "      <th></th>\n",
       "      <th></th>\n",
       "      <th></th>\n",
       "      <th></th>\n",
       "      <th></th>\n",
       "      <th></th>\n",
       "      <th></th>\n",
       "      <th></th>\n",
       "      <th></th>\n",
       "      <th></th>\n",
       "      <th></th>\n",
       "      <th></th>\n",
       "      <th></th>\n",
       "      <th></th>\n",
       "      <th></th>\n",
       "      <th></th>\n",
       "      <th></th>\n",
       "    </tr>\n",
       "  </thead>\n",
       "  <tbody>\n",
       "    <tr>\n",
       "      <th>2020-10-19</th>\n",
       "      <td>43.550976</td>\n",
       "      <td>38.27916</td>\n",
       "      <td>41.476395</td>\n",
       "      <td>41.234512</td>\n",
       "      <td>35.537228</td>\n",
       "      <td>40.317799</td>\n",
       "      <td>42.056843</td>\n",
       "      <td>46.34737</td>\n",
       "      <td>52.84824</td>\n",
       "      <td>53.24984</td>\n",
       "      <td>...</td>\n",
       "      <td>29.489803</td>\n",
       "      <td>30.315819</td>\n",
       "      <td>35.294971</td>\n",
       "      <td>50.285137</td>\n",
       "      <td>45.561344</td>\n",
       "      <td>25.284853</td>\n",
       "      <td>18.274651</td>\n",
       "      <td>34.642159</td>\n",
       "      <td>40.358128</td>\n",
       "      <td>8.474503</td>\n",
       "    </tr>\n",
       "    <tr>\n",
       "      <th>2020-10-20</th>\n",
       "      <td>21.527731</td>\n",
       "      <td>18.784033</td>\n",
       "      <td>23.41382</td>\n",
       "      <td>36.242359</td>\n",
       "      <td>35.80928</td>\n",
       "      <td>17.883038</td>\n",
       "      <td>17.939188</td>\n",
       "      <td>21.983549</td>\n",
       "      <td>39.248322</td>\n",
       "      <td>55.654087</td>\n",
       "      <td>...</td>\n",
       "      <td>37.495979</td>\n",
       "      <td>20.20919</td>\n",
       "      <td>22.335999</td>\n",
       "      <td>30.946846</td>\n",
       "      <td>53.227821</td>\n",
       "      <td>44.80756</td>\n",
       "      <td>36.203465</td>\n",
       "      <td>48.452736</td>\n",
       "      <td>56.161968</td>\n",
       "      <td>41.157505</td>\n",
       "    </tr>\n",
       "    <tr>\n",
       "      <th>2020-10-21</th>\n",
       "      <td>-9.40181</td>\n",
       "      <td>10.737468</td>\n",
       "      <td>10.256081</td>\n",
       "      <td>6.704888</td>\n",
       "      <td>2.513479</td>\n",
       "      <td>0.286557</td>\n",
       "      <td>13.479323</td>\n",
       "      <td>24.607141</td>\n",
       "      <td>40.688759</td>\n",
       "      <td>37.039513</td>\n",
       "      <td>...</td>\n",
       "      <td>49.204407</td>\n",
       "      <td>30.540478</td>\n",
       "      <td>41.655746</td>\n",
       "      <td>38.287827</td>\n",
       "      <td>56.489685</td>\n",
       "      <td>53.330807</td>\n",
       "      <td>49.315178</td>\n",
       "      <td>42.093056</td>\n",
       "      <td>32.34911</td>\n",
       "      <td>40.179192</td>\n",
       "    </tr>\n",
       "    <tr>\n",
       "      <th>2020-10-22</th>\n",
       "      <td>33.01125</td>\n",
       "      <td>34.420979</td>\n",
       "      <td>27.173672</td>\n",
       "      <td>22.340229</td>\n",
       "      <td>14.823552</td>\n",
       "      <td>24.288261</td>\n",
       "      <td>31.485605</td>\n",
       "      <td>23.472834</td>\n",
       "      <td>36.936722</td>\n",
       "      <td>47.645191</td>\n",
       "      <td>...</td>\n",
       "      <td>39.534191</td>\n",
       "      <td>38.438644</td>\n",
       "      <td>59.755058</td>\n",
       "      <td>58.909534</td>\n",
       "      <td>62.682796</td>\n",
       "      <td>49.65601</td>\n",
       "      <td>43.586353</td>\n",
       "      <td>47.317318</td>\n",
       "      <td>46.94878</td>\n",
       "      <td>42.880226</td>\n",
       "    </tr>\n",
       "    <tr>\n",
       "      <th>2020-10-23</th>\n",
       "      <td>62.433998</td>\n",
       "      <td>58.396084</td>\n",
       "      <td>53.32605</td>\n",
       "      <td>44.094124</td>\n",
       "      <td>42.801083</td>\n",
       "      <td>43.977917</td>\n",
       "      <td>58.954453</td>\n",
       "      <td>53.684483</td>\n",
       "      <td>42.810909</td>\n",
       "      <td>39.857822</td>\n",
       "      <td>...</td>\n",
       "      <td>28.894361</td>\n",
       "      <td>25.260218</td>\n",
       "      <td>26.661987</td>\n",
       "      <td>35.676414</td>\n",
       "      <td>31.724888</td>\n",
       "      <td>50.424084</td>\n",
       "      <td>54.589619</td>\n",
       "      <td>51.138256</td>\n",
       "      <td>28.523033</td>\n",
       "      <td>44.93544</td>\n",
       "    </tr>\n",
       "    <tr>\n",
       "      <th>2020-10-24</th>\n",
       "      <td>22.968508</td>\n",
       "      <td>10.885461</td>\n",
       "      <td>9.262042</td>\n",
       "      <td>5.440132</td>\n",
       "      <td>7.435129</td>\n",
       "      <td>8.464828</td>\n",
       "      <td>15.86532</td>\n",
       "      <td>-8.001506</td>\n",
       "      <td>11.451038</td>\n",
       "      <td>33.881905</td>\n",
       "      <td>...</td>\n",
       "      <td>39.362942</td>\n",
       "      <td>39.466339</td>\n",
       "      <td>55.803154</td>\n",
       "      <td>52.841019</td>\n",
       "      <td>53.441154</td>\n",
       "      <td>50.158653</td>\n",
       "      <td>42.854706</td>\n",
       "      <td>41.851833</td>\n",
       "      <td>41.439194</td>\n",
       "      <td>45.316147</td>\n",
       "    </tr>\n",
       "    <tr>\n",
       "      <th>2020-10-25</th>\n",
       "      <td>33.40736</td>\n",
       "      <td>26.237391</td>\n",
       "      <td>4.590331</td>\n",
       "      <td>10.385441</td>\n",
       "      <td>16.044647</td>\n",
       "      <td>30.153175</td>\n",
       "      <td>45.81665</td>\n",
       "      <td>39.552315</td>\n",
       "      <td>38.296474</td>\n",
       "      <td>43.718025</td>\n",
       "      <td>...</td>\n",
       "      <td>33.305779</td>\n",
       "      <td>26.364235</td>\n",
       "      <td>39.779472</td>\n",
       "      <td>51.36982</td>\n",
       "      <td>41.100403</td>\n",
       "      <td>12.435665</td>\n",
       "      <td>30.229704</td>\n",
       "      <td>-1.424068</td>\n",
       "      <td>19.268578</td>\n",
       "      <td>40.37336</td>\n",
       "    </tr>\n",
       "  </tbody>\n",
       "</table>\n",
       "<p>7 rows × 24 columns</p>\n",
       "</div>"
      ],
      "text/plain": [
       "                   h0         h1         h2         h3         h4         h5  \\\n",
       "datetime                                                                       \n",
       "2020-10-19  43.550976   38.27916  41.476395  41.234512  35.537228  40.317799   \n",
       "2020-10-20  21.527731  18.784033   23.41382  36.242359   35.80928  17.883038   \n",
       "2020-10-21   -9.40181  10.737468  10.256081   6.704888   2.513479   0.286557   \n",
       "2020-10-22   33.01125  34.420979  27.173672  22.340229  14.823552  24.288261   \n",
       "2020-10-23  62.433998  58.396084   53.32605  44.094124  42.801083  43.977917   \n",
       "2020-10-24  22.968508  10.885461   9.262042   5.440132   7.435129   8.464828   \n",
       "2020-10-25   33.40736  26.237391   4.590331  10.385441  16.044647  30.153175   \n",
       "\n",
       "                   h6         h7         h8         h9  ...        h14  \\\n",
       "datetime                                                ...              \n",
       "2020-10-19  42.056843   46.34737   52.84824   53.24984  ...  29.489803   \n",
       "2020-10-20  17.939188  21.983549  39.248322  55.654087  ...  37.495979   \n",
       "2020-10-21  13.479323  24.607141  40.688759  37.039513  ...  49.204407   \n",
       "2020-10-22  31.485605  23.472834  36.936722  47.645191  ...  39.534191   \n",
       "2020-10-23  58.954453  53.684483  42.810909  39.857822  ...  28.894361   \n",
       "2020-10-24   15.86532  -8.001506  11.451038  33.881905  ...  39.362942   \n",
       "2020-10-25   45.81665  39.552315  38.296474  43.718025  ...  33.305779   \n",
       "\n",
       "                  h15        h16        h17        h18        h19        h20  \\\n",
       "datetime                                                                       \n",
       "2020-10-19  30.315819  35.294971  50.285137  45.561344  25.284853  18.274651   \n",
       "2020-10-20   20.20919  22.335999  30.946846  53.227821   44.80756  36.203465   \n",
       "2020-10-21  30.540478  41.655746  38.287827  56.489685  53.330807  49.315178   \n",
       "2020-10-22  38.438644  59.755058  58.909534  62.682796   49.65601  43.586353   \n",
       "2020-10-23  25.260218  26.661987  35.676414  31.724888  50.424084  54.589619   \n",
       "2020-10-24  39.466339  55.803154  52.841019  53.441154  50.158653  42.854706   \n",
       "2020-10-25  26.364235  39.779472   51.36982  41.100403  12.435665  30.229704   \n",
       "\n",
       "                  h21        h22        h23  \n",
       "datetime                                     \n",
       "2020-10-19  34.642159  40.358128   8.474503  \n",
       "2020-10-20  48.452736  56.161968  41.157505  \n",
       "2020-10-21  42.093056   32.34911  40.179192  \n",
       "2020-10-22  47.317318   46.94878  42.880226  \n",
       "2020-10-23  51.138256  28.523033   44.93544  \n",
       "2020-10-24  41.851833  41.439194  45.316147  \n",
       "2020-10-25  -1.424068  19.268578   40.37336  \n",
       "\n",
       "[7 rows x 24 columns]"
      ]
     },
     "execution_count": 16,
     "metadata": {},
     "output_type": "execute_result"
    }
   ],
   "source": [
    "# Number of layers in DNN\n",
    "nlayers = 2\n",
    "\n",
    "# data to study\n",
    "dataset = 'imbalanceData_final'\n",
    "\n",
    "# 1 year is considered as 364 days (52 weeks)\n",
    "# years_test = 1\n",
    "\n",
    "# Optional parameters for selecting the test dataset\n",
    "begin_test_date = '2020-10-19'\n",
    "end_test_date = '2020-10-25'\n",
    "\n",
    "# for recalibration the validation and the training datasets are always shuffled\n",
    "shuffle_train = 1\n",
    "\n",
    "# Boolean that selects whether a data augmentation technique for DNNs is used\n",
    "data_augmentation = 0\n",
    "\n",
    "# Boolean that selects whether we start a new recalibration or we restart an existing one\n",
    "new_recalibration = 1\n",
    "\n",
    "# Number of years used in the training dataset for recalibration\n",
    "calibration_window = 1\n",
    "\n",
    "# Unique identifier to read the trials file of hyperparameter optimization\n",
    "experiment_id = 1\n",
    "\n",
    "# Set up the paths for saving data (this are the defaults for the library)\n",
    "# path_datasets_folder = os.path.join('.', 'datasets')\n",
    "# path_recalibration_folder = os.path.join('.', 'experimental_files')\n",
    "# path_hyperparameter_folder = os.path.join('.', 'experimental_files')\n",
    "\n",
    "evaluate_dnn_in_test_dataset(experiment_id,\n",
    "                             path_hyperparameter_folder = 'hyperparameter_dnn/imb_October',\n",
    "                             path_datasets_folder = 'final datasets',\n",
    "                             shuffle_train = shuffle_train,\n",
    "                             path_recalibration_folder = 'forecast results/DNN/imb_October',\n",
    "                             nlayers = nlayers,\n",
    "                             dataset = dataset,\n",
    "                             #years_test = years_test,\n",
    "                             data_augmentation = data_augmentation,\n",
    "                             calibration_window = calibration_window,\n",
    "                             new_recalibration = new_recalibration,\n",
    "                             begin_test_date = begin_test_date,\n",
    "                             end_test_date = end_test_date)"
   ]
  },
  {
   "cell_type": "code",
   "execution_count": 17,
   "id": "e4393a85",
   "metadata": {
    "scrolled": true
   },
   "outputs": [
    {
     "name": "stdout",
     "output_type": "stream",
     "text": [
      "Test datasets: 2021-01-18 00:00:00 - 2021-01-24 23:00:00\n"
     ]
    },
    {
     "name": "stderr",
     "output_type": "stream",
     "text": [
      "C:\\Users\\35250\\AppData\\Roaming\\Python\\Python38\\site-packages\\tensorflow\\python\\keras\\optimizer_v2\\optimizer_v2.py:374: UserWarning: The `lr` argument is deprecated, use `learning_rate` instead.\n",
      "  warnings.warn(\n"
     ]
    },
    {
     "name": "stdout",
     "output_type": "stream",
     "text": [
      "2021-01-18 - sMAPE: 42.58%  |  MAE: 19.231\n",
      "2021-01-19 - sMAPE: 42.63%  |  MAE: 21.294\n",
      "2021-01-20 - sMAPE: 40.37%  |  MAE: 24.833\n",
      "2021-01-21 - sMAPE: 36.99%  |  MAE: 22.242\n",
      "2021-01-22 - sMAPE: 38.48%  |  MAE: 25.109\n",
      "2021-01-23 - sMAPE: 37.89%  |  MAE: 25.103\n",
      "2021-01-24 - sMAPE: 39.59%  |  MAE: 24.948\n"
     ]
    },
    {
     "data": {
      "text/html": [
       "<div>\n",
       "<style scoped>\n",
       "    .dataframe tbody tr th:only-of-type {\n",
       "        vertical-align: middle;\n",
       "    }\n",
       "\n",
       "    .dataframe tbody tr th {\n",
       "        vertical-align: top;\n",
       "    }\n",
       "\n",
       "    .dataframe thead th {\n",
       "        text-align: right;\n",
       "    }\n",
       "</style>\n",
       "<table border=\"1\" class=\"dataframe\">\n",
       "  <thead>\n",
       "    <tr style=\"text-align: right;\">\n",
       "      <th></th>\n",
       "      <th>h0</th>\n",
       "      <th>h1</th>\n",
       "      <th>h2</th>\n",
       "      <th>h3</th>\n",
       "      <th>h4</th>\n",
       "      <th>h5</th>\n",
       "      <th>h6</th>\n",
       "      <th>h7</th>\n",
       "      <th>h8</th>\n",
       "      <th>h9</th>\n",
       "      <th>...</th>\n",
       "      <th>h14</th>\n",
       "      <th>h15</th>\n",
       "      <th>h16</th>\n",
       "      <th>h17</th>\n",
       "      <th>h18</th>\n",
       "      <th>h19</th>\n",
       "      <th>h20</th>\n",
       "      <th>h21</th>\n",
       "      <th>h22</th>\n",
       "      <th>h23</th>\n",
       "    </tr>\n",
       "    <tr>\n",
       "      <th>datetime</th>\n",
       "      <th></th>\n",
       "      <th></th>\n",
       "      <th></th>\n",
       "      <th></th>\n",
       "      <th></th>\n",
       "      <th></th>\n",
       "      <th></th>\n",
       "      <th></th>\n",
       "      <th></th>\n",
       "      <th></th>\n",
       "      <th></th>\n",
       "      <th></th>\n",
       "      <th></th>\n",
       "      <th></th>\n",
       "      <th></th>\n",
       "      <th></th>\n",
       "      <th></th>\n",
       "      <th></th>\n",
       "      <th></th>\n",
       "      <th></th>\n",
       "      <th></th>\n",
       "    </tr>\n",
       "  </thead>\n",
       "  <tbody>\n",
       "    <tr>\n",
       "      <th>2021-01-18</th>\n",
       "      <td>29.352077</td>\n",
       "      <td>20.733852</td>\n",
       "      <td>3.515713</td>\n",
       "      <td>18.684624</td>\n",
       "      <td>22.328762</td>\n",
       "      <td>34.650356</td>\n",
       "      <td>72.040604</td>\n",
       "      <td>21.543882</td>\n",
       "      <td>40.397255</td>\n",
       "      <td>76.883514</td>\n",
       "      <td>...</td>\n",
       "      <td>48.454609</td>\n",
       "      <td>49.414154</td>\n",
       "      <td>71.723221</td>\n",
       "      <td>70.106697</td>\n",
       "      <td>75.783607</td>\n",
       "      <td>59.542763</td>\n",
       "      <td>29.006485</td>\n",
       "      <td>63.215363</td>\n",
       "      <td>51.603886</td>\n",
       "      <td>67.879349</td>\n",
       "    </tr>\n",
       "    <tr>\n",
       "      <th>2021-01-19</th>\n",
       "      <td>33.682331</td>\n",
       "      <td>40.172699</td>\n",
       "      <td>54.892036</td>\n",
       "      <td>47.073288</td>\n",
       "      <td>61.460987</td>\n",
       "      <td>56.044151</td>\n",
       "      <td>84.038139</td>\n",
       "      <td>50.543823</td>\n",
       "      <td>67.384277</td>\n",
       "      <td>63.017029</td>\n",
       "      <td>...</td>\n",
       "      <td>98.874603</td>\n",
       "      <td>111.697693</td>\n",
       "      <td>40.054722</td>\n",
       "      <td>113.555435</td>\n",
       "      <td>88.187378</td>\n",
       "      <td>49.750713</td>\n",
       "      <td>39.691109</td>\n",
       "      <td>61.542046</td>\n",
       "      <td>18.296486</td>\n",
       "      <td>58.171768</td>\n",
       "    </tr>\n",
       "    <tr>\n",
       "      <th>2021-01-20</th>\n",
       "      <td>43.235695</td>\n",
       "      <td>51.70356</td>\n",
       "      <td>74.109253</td>\n",
       "      <td>69.578888</td>\n",
       "      <td>65.820343</td>\n",
       "      <td>59.01693</td>\n",
       "      <td>108.291779</td>\n",
       "      <td>82.067795</td>\n",
       "      <td>78.546883</td>\n",
       "      <td>69.541267</td>\n",
       "      <td>...</td>\n",
       "      <td>74.533302</td>\n",
       "      <td>59.122673</td>\n",
       "      <td>47.835037</td>\n",
       "      <td>67.829163</td>\n",
       "      <td>52.092831</td>\n",
       "      <td>46.808769</td>\n",
       "      <td>96.140976</td>\n",
       "      <td>80.237045</td>\n",
       "      <td>75.743141</td>\n",
       "      <td>50.704578</td>\n",
       "    </tr>\n",
       "    <tr>\n",
       "      <th>2021-01-21</th>\n",
       "      <td>68.3694</td>\n",
       "      <td>66.756714</td>\n",
       "      <td>63.405655</td>\n",
       "      <td>46.676342</td>\n",
       "      <td>18.309551</td>\n",
       "      <td>33.720673</td>\n",
       "      <td>76.054626</td>\n",
       "      <td>62.582195</td>\n",
       "      <td>64.655197</td>\n",
       "      <td>38.231918</td>\n",
       "      <td>...</td>\n",
       "      <td>75.622849</td>\n",
       "      <td>48.704338</td>\n",
       "      <td>31.805676</td>\n",
       "      <td>121.676346</td>\n",
       "      <td>98.798347</td>\n",
       "      <td>76.630531</td>\n",
       "      <td>44.464878</td>\n",
       "      <td>70.420197</td>\n",
       "      <td>41.835258</td>\n",
       "      <td>27.387043</td>\n",
       "    </tr>\n",
       "    <tr>\n",
       "      <th>2021-01-22</th>\n",
       "      <td>42.59042</td>\n",
       "      <td>36.714321</td>\n",
       "      <td>48.159012</td>\n",
       "      <td>25.75078</td>\n",
       "      <td>17.555824</td>\n",
       "      <td>45.392735</td>\n",
       "      <td>66.254082</td>\n",
       "      <td>49.269699</td>\n",
       "      <td>49.189362</td>\n",
       "      <td>89.228195</td>\n",
       "      <td>...</td>\n",
       "      <td>67.426651</td>\n",
       "      <td>39.710537</td>\n",
       "      <td>69.945206</td>\n",
       "      <td>50.353943</td>\n",
       "      <td>105.170547</td>\n",
       "      <td>47.945202</td>\n",
       "      <td>65.589714</td>\n",
       "      <td>86.757355</td>\n",
       "      <td>72.435455</td>\n",
       "      <td>44.683975</td>\n",
       "    </tr>\n",
       "    <tr>\n",
       "      <th>2021-01-23</th>\n",
       "      <td>40.339466</td>\n",
       "      <td>50.260174</td>\n",
       "      <td>44.027653</td>\n",
       "      <td>80.536987</td>\n",
       "      <td>56.042244</td>\n",
       "      <td>53.882614</td>\n",
       "      <td>66.464409</td>\n",
       "      <td>63.608604</td>\n",
       "      <td>41.889236</td>\n",
       "      <td>44.541428</td>\n",
       "      <td>...</td>\n",
       "      <td>37.54871</td>\n",
       "      <td>44.910221</td>\n",
       "      <td>77.382797</td>\n",
       "      <td>111.769119</td>\n",
       "      <td>249.008453</td>\n",
       "      <td>126.252426</td>\n",
       "      <td>65.971489</td>\n",
       "      <td>59.130615</td>\n",
       "      <td>95.485016</td>\n",
       "      <td>57.447323</td>\n",
       "    </tr>\n",
       "    <tr>\n",
       "      <th>2021-01-24</th>\n",
       "      <td>40.996288</td>\n",
       "      <td>28.943428</td>\n",
       "      <td>24.088779</td>\n",
       "      <td>35.852734</td>\n",
       "      <td>24.053158</td>\n",
       "      <td>28.169077</td>\n",
       "      <td>35.862965</td>\n",
       "      <td>14.004545</td>\n",
       "      <td>41.722969</td>\n",
       "      <td>50.474659</td>\n",
       "      <td>...</td>\n",
       "      <td>79.994606</td>\n",
       "      <td>51.958</td>\n",
       "      <td>31.702726</td>\n",
       "      <td>69.759712</td>\n",
       "      <td>50.382339</td>\n",
       "      <td>56.518929</td>\n",
       "      <td>52.058655</td>\n",
       "      <td>56.122807</td>\n",
       "      <td>45.236702</td>\n",
       "      <td>38.704426</td>\n",
       "    </tr>\n",
       "  </tbody>\n",
       "</table>\n",
       "<p>7 rows × 24 columns</p>\n",
       "</div>"
      ],
      "text/plain": [
       "                   h0         h1         h2         h3         h4         h5  \\\n",
       "datetime                                                                       \n",
       "2021-01-18  29.352077  20.733852   3.515713  18.684624  22.328762  34.650356   \n",
       "2021-01-19  33.682331  40.172699  54.892036  47.073288  61.460987  56.044151   \n",
       "2021-01-20  43.235695   51.70356  74.109253  69.578888  65.820343   59.01693   \n",
       "2021-01-21    68.3694  66.756714  63.405655  46.676342  18.309551  33.720673   \n",
       "2021-01-22   42.59042  36.714321  48.159012   25.75078  17.555824  45.392735   \n",
       "2021-01-23  40.339466  50.260174  44.027653  80.536987  56.042244  53.882614   \n",
       "2021-01-24  40.996288  28.943428  24.088779  35.852734  24.053158  28.169077   \n",
       "\n",
       "                    h6         h7         h8         h9  ...        h14  \\\n",
       "datetime                                                 ...              \n",
       "2021-01-18   72.040604  21.543882  40.397255  76.883514  ...  48.454609   \n",
       "2021-01-19   84.038139  50.543823  67.384277  63.017029  ...  98.874603   \n",
       "2021-01-20  108.291779  82.067795  78.546883  69.541267  ...  74.533302   \n",
       "2021-01-21   76.054626  62.582195  64.655197  38.231918  ...  75.622849   \n",
       "2021-01-22   66.254082  49.269699  49.189362  89.228195  ...  67.426651   \n",
       "2021-01-23   66.464409  63.608604  41.889236  44.541428  ...   37.54871   \n",
       "2021-01-24   35.862965  14.004545  41.722969  50.474659  ...  79.994606   \n",
       "\n",
       "                   h15        h16         h17         h18         h19  \\\n",
       "datetime                                                                \n",
       "2021-01-18   49.414154  71.723221   70.106697   75.783607   59.542763   \n",
       "2021-01-19  111.697693  40.054722  113.555435   88.187378   49.750713   \n",
       "2021-01-20   59.122673  47.835037   67.829163   52.092831   46.808769   \n",
       "2021-01-21   48.704338  31.805676  121.676346   98.798347   76.630531   \n",
       "2021-01-22   39.710537  69.945206   50.353943  105.170547   47.945202   \n",
       "2021-01-23   44.910221  77.382797  111.769119  249.008453  126.252426   \n",
       "2021-01-24      51.958  31.702726   69.759712   50.382339   56.518929   \n",
       "\n",
       "                  h20        h21        h22        h23  \n",
       "datetime                                                \n",
       "2021-01-18  29.006485  63.215363  51.603886  67.879349  \n",
       "2021-01-19  39.691109  61.542046  18.296486  58.171768  \n",
       "2021-01-20  96.140976  80.237045  75.743141  50.704578  \n",
       "2021-01-21  44.464878  70.420197  41.835258  27.387043  \n",
       "2021-01-22  65.589714  86.757355  72.435455  44.683975  \n",
       "2021-01-23  65.971489  59.130615  95.485016  57.447323  \n",
       "2021-01-24  52.058655  56.122807  45.236702  38.704426  \n",
       "\n",
       "[7 rows x 24 columns]"
      ]
     },
     "execution_count": 17,
     "metadata": {},
     "output_type": "execute_result"
    }
   ],
   "source": [
    "# Number of layers in DNN\n",
    "nlayers = 2\n",
    "\n",
    "# data to study\n",
    "dataset = 'imbalanceData_final'\n",
    "\n",
    "# 1 year is considered as 364 days (52 weeks)\n",
    "# years_test = 1\n",
    "\n",
    "# Optional parameters for selecting the test dataset\n",
    "begin_test_date = '2021-01-18'\n",
    "end_test_date = '2021-01-24'\n",
    "\n",
    "# for recalibration the validation and the training datasets are always shuffled\n",
    "shuffle_train = 1\n",
    "\n",
    "# Boolean that selects whether a data augmentation technique for DNNs is used\n",
    "data_augmentation = 0\n",
    "\n",
    "# Boolean that selects whether we start a new recalibration or we restart an existing one\n",
    "new_recalibration = 1\n",
    "\n",
    "# Number of years used in the training dataset for recalibration\n",
    "calibration_window = 1\n",
    "\n",
    "# Unique identifier to read the trials file of hyperparameter optimization\n",
    "experiment_id = 1\n",
    "\n",
    "# Set up the paths for saving data (this are the defaults for the library)\n",
    "# path_datasets_folder = os.path.join('.', 'datasets')\n",
    "# path_recalibration_folder = os.path.join('.', 'experimental_files')\n",
    "# path_hyperparameter_folder = os.path.join('.', 'experimental_files')\n",
    "\n",
    "evaluate_dnn_in_test_dataset(experiment_id,\n",
    "                             path_hyperparameter_folder = 'hyperparameter_dnn/imb_January',\n",
    "                             path_datasets_folder = 'final datasets',\n",
    "                             shuffle_train = shuffle_train,\n",
    "                             path_recalibration_folder = 'forecast results/DNN/imb_January',\n",
    "                             nlayers = nlayers,\n",
    "                             dataset = dataset,\n",
    "                             #years_test = years_test,\n",
    "                             data_augmentation = data_augmentation,\n",
    "                             calibration_window = calibration_window,\n",
    "                             new_recalibration = new_recalibration,\n",
    "                             begin_test_date = begin_test_date,\n",
    "                             end_test_date = end_test_date)"
   ]
  },
  {
   "cell_type": "code",
   "execution_count": 18,
   "id": "be22738e",
   "metadata": {
    "scrolled": true
   },
   "outputs": [
    {
     "name": "stdout",
     "output_type": "stream",
     "text": [
      "Test datasets: 2021-04-19 00:00:00 - 2021-04-25 23:00:00\n"
     ]
    },
    {
     "name": "stderr",
     "output_type": "stream",
     "text": [
      "C:\\Users\\35250\\AppData\\Roaming\\Python\\Python38\\site-packages\\tensorflow\\python\\keras\\optimizer_v2\\optimizer_v2.py:374: UserWarning: The `lr` argument is deprecated, use `learning_rate` instead.\n",
      "  warnings.warn(\n"
     ]
    },
    {
     "name": "stdout",
     "output_type": "stream",
     "text": [
      "2021-04-19 - sMAPE: 52.86%  |  MAE: 19.865\n",
      "2021-04-20 - sMAPE: 56.83%  |  MAE: 21.661\n",
      "2021-04-21 - sMAPE: 54.58%  |  MAE: 23.573\n",
      "2021-04-22 - sMAPE: 57.23%  |  MAE: 25.332\n",
      "2021-04-23 - sMAPE: 53.47%  |  MAE: 24.154\n",
      "2021-04-24 - sMAPE: 53.39%  |  MAE: 24.316\n",
      "2021-04-25 - sMAPE: 51.43%  |  MAE: 23.227\n"
     ]
    },
    {
     "data": {
      "text/html": [
       "<div>\n",
       "<style scoped>\n",
       "    .dataframe tbody tr th:only-of-type {\n",
       "        vertical-align: middle;\n",
       "    }\n",
       "\n",
       "    .dataframe tbody tr th {\n",
       "        vertical-align: top;\n",
       "    }\n",
       "\n",
       "    .dataframe thead th {\n",
       "        text-align: right;\n",
       "    }\n",
       "</style>\n",
       "<table border=\"1\" class=\"dataframe\">\n",
       "  <thead>\n",
       "    <tr style=\"text-align: right;\">\n",
       "      <th></th>\n",
       "      <th>h0</th>\n",
       "      <th>h1</th>\n",
       "      <th>h2</th>\n",
       "      <th>h3</th>\n",
       "      <th>h4</th>\n",
       "      <th>h5</th>\n",
       "      <th>h6</th>\n",
       "      <th>h7</th>\n",
       "      <th>h8</th>\n",
       "      <th>h9</th>\n",
       "      <th>...</th>\n",
       "      <th>h14</th>\n",
       "      <th>h15</th>\n",
       "      <th>h16</th>\n",
       "      <th>h17</th>\n",
       "      <th>h18</th>\n",
       "      <th>h19</th>\n",
       "      <th>h20</th>\n",
       "      <th>h21</th>\n",
       "      <th>h22</th>\n",
       "      <th>h23</th>\n",
       "    </tr>\n",
       "    <tr>\n",
       "      <th>datetime</th>\n",
       "      <th></th>\n",
       "      <th></th>\n",
       "      <th></th>\n",
       "      <th></th>\n",
       "      <th></th>\n",
       "      <th></th>\n",
       "      <th></th>\n",
       "      <th></th>\n",
       "      <th></th>\n",
       "      <th></th>\n",
       "      <th></th>\n",
       "      <th></th>\n",
       "      <th></th>\n",
       "      <th></th>\n",
       "      <th></th>\n",
       "      <th></th>\n",
       "      <th></th>\n",
       "      <th></th>\n",
       "      <th></th>\n",
       "      <th></th>\n",
       "      <th></th>\n",
       "    </tr>\n",
       "  </thead>\n",
       "  <tbody>\n",
       "    <tr>\n",
       "      <th>2021-04-19</th>\n",
       "      <td>56.597881</td>\n",
       "      <td>50.979713</td>\n",
       "      <td>52.398689</td>\n",
       "      <td>51.919182</td>\n",
       "      <td>60.780403</td>\n",
       "      <td>67.57785</td>\n",
       "      <td>74.625549</td>\n",
       "      <td>81.666183</td>\n",
       "      <td>75.252182</td>\n",
       "      <td>76.366333</td>\n",
       "      <td>...</td>\n",
       "      <td>47.51442</td>\n",
       "      <td>30.435078</td>\n",
       "      <td>35.547935</td>\n",
       "      <td>42.81926</td>\n",
       "      <td>64.256966</td>\n",
       "      <td>64.211441</td>\n",
       "      <td>74.229294</td>\n",
       "      <td>82.994728</td>\n",
       "      <td>68.966103</td>\n",
       "      <td>55.858517</td>\n",
       "    </tr>\n",
       "    <tr>\n",
       "      <th>2021-04-20</th>\n",
       "      <td>37.668568</td>\n",
       "      <td>36.629768</td>\n",
       "      <td>36.815926</td>\n",
       "      <td>33.582825</td>\n",
       "      <td>36.497883</td>\n",
       "      <td>22.149649</td>\n",
       "      <td>49.756622</td>\n",
       "      <td>50.714882</td>\n",
       "      <td>59.515804</td>\n",
       "      <td>62.337593</td>\n",
       "      <td>...</td>\n",
       "      <td>46.01841</td>\n",
       "      <td>47.892326</td>\n",
       "      <td>71.644356</td>\n",
       "      <td>74.109108</td>\n",
       "      <td>62.028557</td>\n",
       "      <td>42.705917</td>\n",
       "      <td>50.50386</td>\n",
       "      <td>45.162861</td>\n",
       "      <td>28.556999</td>\n",
       "      <td>41.826691</td>\n",
       "    </tr>\n",
       "    <tr>\n",
       "      <th>2021-04-21</th>\n",
       "      <td>40.026489</td>\n",
       "      <td>38.634651</td>\n",
       "      <td>37.51387</td>\n",
       "      <td>38.930592</td>\n",
       "      <td>40.521057</td>\n",
       "      <td>41.964333</td>\n",
       "      <td>50.714699</td>\n",
       "      <td>40.719345</td>\n",
       "      <td>43.863785</td>\n",
       "      <td>45.106091</td>\n",
       "      <td>...</td>\n",
       "      <td>35.628326</td>\n",
       "      <td>28.805351</td>\n",
       "      <td>36.135777</td>\n",
       "      <td>40.576988</td>\n",
       "      <td>46.098534</td>\n",
       "      <td>55.146465</td>\n",
       "      <td>50.506393</td>\n",
       "      <td>49.676125</td>\n",
       "      <td>40.989124</td>\n",
       "      <td>37.1814</td>\n",
       "    </tr>\n",
       "    <tr>\n",
       "      <th>2021-04-22</th>\n",
       "      <td>35.33036</td>\n",
       "      <td>36.844063</td>\n",
       "      <td>35.63501</td>\n",
       "      <td>34.05619</td>\n",
       "      <td>32.579708</td>\n",
       "      <td>34.621864</td>\n",
       "      <td>44.556862</td>\n",
       "      <td>39.7024</td>\n",
       "      <td>56.083496</td>\n",
       "      <td>57.297176</td>\n",
       "      <td>...</td>\n",
       "      <td>41.618641</td>\n",
       "      <td>36.464245</td>\n",
       "      <td>33.652184</td>\n",
       "      <td>39.811398</td>\n",
       "      <td>53.883339</td>\n",
       "      <td>52.274525</td>\n",
       "      <td>54.752518</td>\n",
       "      <td>51.923672</td>\n",
       "      <td>40.650787</td>\n",
       "      <td>36.021069</td>\n",
       "    </tr>\n",
       "    <tr>\n",
       "      <th>2021-04-23</th>\n",
       "      <td>35.44178</td>\n",
       "      <td>19.579042</td>\n",
       "      <td>32.741478</td>\n",
       "      <td>42.461647</td>\n",
       "      <td>38.09676</td>\n",
       "      <td>40.560318</td>\n",
       "      <td>49.481541</td>\n",
       "      <td>61.925446</td>\n",
       "      <td>73.619049</td>\n",
       "      <td>62.826366</td>\n",
       "      <td>...</td>\n",
       "      <td>37.073738</td>\n",
       "      <td>32.089344</td>\n",
       "      <td>68.557617</td>\n",
       "      <td>46.756485</td>\n",
       "      <td>47.706299</td>\n",
       "      <td>51.117985</td>\n",
       "      <td>63.64341</td>\n",
       "      <td>55.878532</td>\n",
       "      <td>50.323227</td>\n",
       "      <td>41.073971</td>\n",
       "    </tr>\n",
       "    <tr>\n",
       "      <th>2021-04-24</th>\n",
       "      <td>31.889885</td>\n",
       "      <td>29.138668</td>\n",
       "      <td>30.374331</td>\n",
       "      <td>32.046036</td>\n",
       "      <td>33.900955</td>\n",
       "      <td>34.066212</td>\n",
       "      <td>44.596367</td>\n",
       "      <td>42.929043</td>\n",
       "      <td>47.618225</td>\n",
       "      <td>51.120342</td>\n",
       "      <td>...</td>\n",
       "      <td>34.404564</td>\n",
       "      <td>28.575201</td>\n",
       "      <td>34.163788</td>\n",
       "      <td>31.652676</td>\n",
       "      <td>46.254665</td>\n",
       "      <td>45.026031</td>\n",
       "      <td>53.844711</td>\n",
       "      <td>47.201027</td>\n",
       "      <td>39.780167</td>\n",
       "      <td>39.074638</td>\n",
       "    </tr>\n",
       "    <tr>\n",
       "      <th>2021-04-25</th>\n",
       "      <td>33.918316</td>\n",
       "      <td>28.980671</td>\n",
       "      <td>28.58857</td>\n",
       "      <td>26.834328</td>\n",
       "      <td>28.668055</td>\n",
       "      <td>27.549206</td>\n",
       "      <td>31.444538</td>\n",
       "      <td>30.625118</td>\n",
       "      <td>31.809128</td>\n",
       "      <td>36.030106</td>\n",
       "      <td>...</td>\n",
       "      <td>35.565094</td>\n",
       "      <td>35.0755</td>\n",
       "      <td>36.556099</td>\n",
       "      <td>32.253384</td>\n",
       "      <td>47.590912</td>\n",
       "      <td>47.611687</td>\n",
       "      <td>46.168854</td>\n",
       "      <td>45.349159</td>\n",
       "      <td>35.279026</td>\n",
       "      <td>31.267792</td>\n",
       "    </tr>\n",
       "  </tbody>\n",
       "</table>\n",
       "<p>7 rows × 24 columns</p>\n",
       "</div>"
      ],
      "text/plain": [
       "                   h0         h1         h2         h3         h4         h5  \\\n",
       "datetime                                                                       \n",
       "2021-04-19  56.597881  50.979713  52.398689  51.919182  60.780403   67.57785   \n",
       "2021-04-20  37.668568  36.629768  36.815926  33.582825  36.497883  22.149649   \n",
       "2021-04-21  40.026489  38.634651   37.51387  38.930592  40.521057  41.964333   \n",
       "2021-04-22   35.33036  36.844063   35.63501   34.05619  32.579708  34.621864   \n",
       "2021-04-23   35.44178  19.579042  32.741478  42.461647   38.09676  40.560318   \n",
       "2021-04-24  31.889885  29.138668  30.374331  32.046036  33.900955  34.066212   \n",
       "2021-04-25  33.918316  28.980671   28.58857  26.834328  28.668055  27.549206   \n",
       "\n",
       "                   h6         h7         h8         h9  ...        h14  \\\n",
       "datetime                                                ...              \n",
       "2021-04-19  74.625549  81.666183  75.252182  76.366333  ...   47.51442   \n",
       "2021-04-20  49.756622  50.714882  59.515804  62.337593  ...   46.01841   \n",
       "2021-04-21  50.714699  40.719345  43.863785  45.106091  ...  35.628326   \n",
       "2021-04-22  44.556862    39.7024  56.083496  57.297176  ...  41.618641   \n",
       "2021-04-23  49.481541  61.925446  73.619049  62.826366  ...  37.073738   \n",
       "2021-04-24  44.596367  42.929043  47.618225  51.120342  ...  34.404564   \n",
       "2021-04-25  31.444538  30.625118  31.809128  36.030106  ...  35.565094   \n",
       "\n",
       "                  h15        h16        h17        h18        h19        h20  \\\n",
       "datetime                                                                       \n",
       "2021-04-19  30.435078  35.547935   42.81926  64.256966  64.211441  74.229294   \n",
       "2021-04-20  47.892326  71.644356  74.109108  62.028557  42.705917   50.50386   \n",
       "2021-04-21  28.805351  36.135777  40.576988  46.098534  55.146465  50.506393   \n",
       "2021-04-22  36.464245  33.652184  39.811398  53.883339  52.274525  54.752518   \n",
       "2021-04-23  32.089344  68.557617  46.756485  47.706299  51.117985   63.64341   \n",
       "2021-04-24  28.575201  34.163788  31.652676  46.254665  45.026031  53.844711   \n",
       "2021-04-25    35.0755  36.556099  32.253384  47.590912  47.611687  46.168854   \n",
       "\n",
       "                  h21        h22        h23  \n",
       "datetime                                     \n",
       "2021-04-19  82.994728  68.966103  55.858517  \n",
       "2021-04-20  45.162861  28.556999  41.826691  \n",
       "2021-04-21  49.676125  40.989124    37.1814  \n",
       "2021-04-22  51.923672  40.650787  36.021069  \n",
       "2021-04-23  55.878532  50.323227  41.073971  \n",
       "2021-04-24  47.201027  39.780167  39.074638  \n",
       "2021-04-25  45.349159  35.279026  31.267792  \n",
       "\n",
       "[7 rows x 24 columns]"
      ]
     },
     "execution_count": 18,
     "metadata": {},
     "output_type": "execute_result"
    }
   ],
   "source": [
    "# Number of layers in DNN\n",
    "nlayers = 2\n",
    "\n",
    "# data to study\n",
    "dataset = 'imbalanceData_final'\n",
    "\n",
    "# 1 year is considered as 364 days (52 weeks)\n",
    "# years_test = 1\n",
    "\n",
    "# Optional parameters for selecting the test dataset\n",
    "begin_test_date = '2021-04-19'\n",
    "end_test_date = '2021-04-25'\n",
    "\n",
    "# for recalibration the validation and the training datasets are always shuffled\n",
    "shuffle_train = 1\n",
    "\n",
    "# Boolean that selects whether a data augmentation technique for DNNs is used\n",
    "data_augmentation = 0\n",
    "\n",
    "# Boolean that selects whether we start a new recalibration or we restart an existing one\n",
    "new_recalibration = 1\n",
    "\n",
    "# Number of years used in the training dataset for recalibration\n",
    "calibration_window = 1\n",
    "\n",
    "# Unique identifier to read the trials file of hyperparameter optimization\n",
    "experiment_id = 1\n",
    "\n",
    "# Set up the paths for saving data (this are the defaults for the library)\n",
    "# path_datasets_folder = os.path.join('.', 'datasets')\n",
    "# path_recalibration_folder = os.path.join('.', 'experimental_files')\n",
    "# path_hyperparameter_folder = os.path.join('.', 'experimental_files')\n",
    "\n",
    "evaluate_dnn_in_test_dataset(experiment_id,\n",
    "                             path_hyperparameter_folder = 'hyperparameter_dnn/imb_April',\n",
    "                             path_datasets_folder = 'final datasets',\n",
    "                             shuffle_train = shuffle_train,\n",
    "                             path_recalibration_folder = 'forecast results/DNN/imb_April',\n",
    "                             nlayers = nlayers,\n",
    "                             dataset = dataset,\n",
    "                             #years_test = years_test,\n",
    "                             data_augmentation = data_augmentation,\n",
    "                             calibration_window = calibration_window,\n",
    "                             new_recalibration = new_recalibration,\n",
    "                             begin_test_date = begin_test_date,\n",
    "                             end_test_date = end_test_date)"
   ]
  },
  {
   "cell_type": "code",
   "execution_count": null,
   "id": "1abd2801",
   "metadata": {},
   "outputs": [],
   "source": []
  }
 ],
 "metadata": {
  "kernelspec": {
   "display_name": "Python 3",
   "language": "python",
   "name": "python3"
  },
  "language_info": {
   "codemirror_mode": {
    "name": "ipython",
    "version": 3
   },
   "file_extension": ".py",
   "mimetype": "text/x-python",
   "name": "python",
   "nbconvert_exporter": "python",
   "pygments_lexer": "ipython3",
   "version": "3.8.8"
  }
 },
 "nbformat": 4,
 "nbformat_minor": 5
}

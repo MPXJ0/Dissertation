{
 "cells": [
  {
   "cell_type": "code",
   "execution_count": 1,
   "id": "7a304843",
   "metadata": {},
   "outputs": [],
   "source": [
    "import pandas as pd\n",
    "import numpy as np\n",
    "import os\n",
    "\n",
    "from epftoolbox.models import hyperparameter_optimizer\n",
    "from epftoolbox.models import evaluate_dnn_in_test_dataset"
   ]
  },
  {
   "cell_type": "markdown",
   "id": "47079631",
   "metadata": {},
   "source": [
    "### testing period\n",
    "2020/07/20 - 07/26  \n",
    "2020/10/19 - 10/25  \n",
    "2021/01/18 - 01/24  \n",
    "2021/04/19 - 04/25"
   ]
  },
  {
   "cell_type": "code",
   "execution_count": 6,
   "id": "d6452d82",
   "metadata": {},
   "outputs": [
    {
     "name": "stdout",
     "output_type": "stream",
     "text": [
      "Test datasets: 2020-07-20 00:00:00 - 2020-10-18 23:00:00\n"
     ]
    },
    {
     "name": "stderr",
     "output_type": "stream",
     "text": [
      "C:\\Users\\35250\\AppData\\Roaming\\Python\\Python38\\site-packages\\tensorflow\\python\\keras\\optimizer_v2\\optimizer_v2.py:374: UserWarning: The `lr` argument is deprecated, use `learning_rate` instead.\n",
      "  warnings.warn(\n"
     ]
    },
    {
     "name": "stdout",
     "output_type": "stream",
     "text": [
      "\n",
      "\n",
      "Tested 1/50 iterations.\n",
      "Best MAE - Validation Dataset\n",
      "  MAE: 15.6 | sMAPE: 54.35 %\n",
      "\n",
      "Best MAE - Test Dataset\n",
      "  MAE: 16.3 | sMAPE: 47.69 %\n"
     ]
    },
    {
     "name": "stderr",
     "output_type": "stream",
     "text": [
      "C:\\Users\\35250\\AppData\\Roaming\\Python\\Python38\\site-packages\\tensorflow\\python\\keras\\optimizer_v2\\optimizer_v2.py:374: UserWarning: The `lr` argument is deprecated, use `learning_rate` instead.\n",
      "  warnings.warn(\n"
     ]
    },
    {
     "name": "stdout",
     "output_type": "stream",
     "text": [
      "\n",
      "\n",
      "Tested 2/50 iterations.\n",
      "Best MAE - Validation Dataset\n",
      "  MAE: 15.6 | sMAPE: 54.35 %\n",
      "\n",
      "Best MAE - Test Dataset\n",
      "  MAE: 16.3 | sMAPE: 47.69 %\n"
     ]
    },
    {
     "name": "stderr",
     "output_type": "stream",
     "text": [
      "C:\\Users\\35250\\AppData\\Roaming\\Python\\Python38\\site-packages\\tensorflow\\python\\keras\\optimizer_v2\\optimizer_v2.py:374: UserWarning: The `lr` argument is deprecated, use `learning_rate` instead.\n",
      "  warnings.warn(\n"
     ]
    },
    {
     "name": "stdout",
     "output_type": "stream",
     "text": [
      "\n",
      "\n",
      "Tested 3/50 iterations.\n",
      "Best MAE - Validation Dataset\n",
      "  MAE: 15.6 | sMAPE: 54.35 %\n",
      "\n",
      "Best MAE - Test Dataset\n",
      "  MAE: 16.3 | sMAPE: 47.69 %\n"
     ]
    },
    {
     "name": "stderr",
     "output_type": "stream",
     "text": [
      "C:\\Users\\35250\\AppData\\Roaming\\Python\\Python38\\site-packages\\tensorflow\\python\\keras\\optimizer_v2\\optimizer_v2.py:374: UserWarning: The `lr` argument is deprecated, use `learning_rate` instead.\n",
      "  warnings.warn(\n"
     ]
    },
    {
     "name": "stdout",
     "output_type": "stream",
     "text": [
      "\n",
      "\n",
      "Tested 4/50 iterations.\n",
      "Best MAE - Validation Dataset\n",
      "  MAE: 15.6 | sMAPE: 54.35 %\n",
      "\n",
      "Best MAE - Test Dataset\n",
      "  MAE: 16.3 | sMAPE: 47.69 %\n",
      "\n",
      "\n",
      "Tested 5/50 iterations.\n",
      "Best MAE - Validation Dataset\n",
      "  MAE: 15.6 | sMAPE: 54.35 %\n",
      "\n",
      "Best MAE - Test Dataset\n",
      "  MAE: 16.3 | sMAPE: 47.69 %\n",
      "\n",
      "\n",
      "Tested 6/50 iterations.\n",
      "Best MAE - Validation Dataset\n",
      "  MAE: 15.6 | sMAPE: 54.35 %\n",
      "\n",
      "Best MAE - Test Dataset\n",
      "  MAE: 16.3 | sMAPE: 47.69 %\n"
     ]
    },
    {
     "name": "stderr",
     "output_type": "stream",
     "text": [
      "C:\\Users\\35250\\AppData\\Roaming\\Python\\Python38\\site-packages\\tensorflow\\python\\keras\\optimizer_v2\\optimizer_v2.py:374: UserWarning: The `lr` argument is deprecated, use `learning_rate` instead.\n",
      "  warnings.warn(\n"
     ]
    },
    {
     "name": "stdout",
     "output_type": "stream",
     "text": [
      "\n",
      "\n",
      "Tested 7/50 iterations.\n",
      "Best MAE - Validation Dataset\n",
      "  MAE: 15.6 | sMAPE: 54.35 %\n",
      "\n",
      "Best MAE - Test Dataset\n",
      "  MAE: 16.3 | sMAPE: 47.69 %\n",
      "\n",
      "\n",
      "Tested 8/50 iterations.\n",
      "Best MAE - Validation Dataset\n",
      "  MAE: 15.6 | sMAPE: 54.35 %\n",
      "\n",
      "Best MAE - Test Dataset\n",
      "  MAE: 16.3 | sMAPE: 47.69 %\n"
     ]
    },
    {
     "name": "stderr",
     "output_type": "stream",
     "text": [
      "C:\\Users\\35250\\AppData\\Roaming\\Python\\Python38\\site-packages\\tensorflow\\python\\keras\\optimizer_v2\\optimizer_v2.py:374: UserWarning: The `lr` argument is deprecated, use `learning_rate` instead.\n",
      "  warnings.warn(\n"
     ]
    },
    {
     "name": "stdout",
     "output_type": "stream",
     "text": [
      "\n",
      "\n",
      "Tested 9/50 iterations.\n",
      "Best MAE - Validation Dataset\n",
      "  MAE: 15.6 | sMAPE: 54.35 %\n",
      "\n",
      "Best MAE - Test Dataset\n",
      "  MAE: 16.3 | sMAPE: 47.69 %\n"
     ]
    },
    {
     "name": "stderr",
     "output_type": "stream",
     "text": [
      "C:\\Users\\35250\\AppData\\Roaming\\Python\\Python38\\site-packages\\tensorflow\\python\\keras\\optimizer_v2\\optimizer_v2.py:374: UserWarning: The `lr` argument is deprecated, use `learning_rate` instead.\n",
      "  warnings.warn(\n"
     ]
    },
    {
     "name": "stdout",
     "output_type": "stream",
     "text": [
      "\n",
      "\n",
      "Tested 10/50 iterations.\n",
      "Best MAE - Validation Dataset\n",
      "  MAE: 15.6 | sMAPE: 54.35 %\n",
      "\n",
      "Best MAE - Test Dataset\n",
      "  MAE: 16.3 | sMAPE: 47.69 %\n"
     ]
    },
    {
     "name": "stderr",
     "output_type": "stream",
     "text": [
      "C:\\Users\\35250\\AppData\\Roaming\\Python\\Python38\\site-packages\\tensorflow\\python\\keras\\optimizer_v2\\optimizer_v2.py:374: UserWarning: The `lr` argument is deprecated, use `learning_rate` instead.\n",
      "  warnings.warn(\n"
     ]
    },
    {
     "name": "stdout",
     "output_type": "stream",
     "text": [
      "\n",
      "\n",
      "Tested 11/50 iterations.\n",
      "Best MAE - Validation Dataset\n",
      "  MAE: 15.6 | sMAPE: 54.35 %\n",
      "\n",
      "Best MAE - Test Dataset\n",
      "  MAE: 16.3 | sMAPE: 47.69 %\n"
     ]
    },
    {
     "name": "stderr",
     "output_type": "stream",
     "text": [
      "C:\\Users\\35250\\AppData\\Roaming\\Python\\Python38\\site-packages\\tensorflow\\python\\keras\\optimizer_v2\\optimizer_v2.py:374: UserWarning: The `lr` argument is deprecated, use `learning_rate` instead.\n",
      "  warnings.warn(\n"
     ]
    },
    {
     "name": "stdout",
     "output_type": "stream",
     "text": [
      "\n",
      "\n",
      "Tested 12/50 iterations.\n",
      "Best MAE - Validation Dataset\n",
      "  MAE: 15.6 | sMAPE: 54.35 %\n",
      "\n",
      "Best MAE - Test Dataset\n",
      "  MAE: 16.3 | sMAPE: 47.69 %\n"
     ]
    },
    {
     "name": "stderr",
     "output_type": "stream",
     "text": [
      "C:\\Users\\35250\\AppData\\Roaming\\Python\\Python38\\site-packages\\tensorflow\\python\\keras\\optimizer_v2\\optimizer_v2.py:374: UserWarning: The `lr` argument is deprecated, use `learning_rate` instead.\n",
      "  warnings.warn(\n"
     ]
    },
    {
     "name": "stdout",
     "output_type": "stream",
     "text": [
      "\n",
      "\n",
      "Tested 13/50 iterations.\n",
      "Best MAE - Validation Dataset\n",
      "  MAE: 15.6 | sMAPE: 54.35 %\n",
      "\n",
      "Best MAE - Test Dataset\n",
      "  MAE: 16.3 | sMAPE: 47.69 %\n"
     ]
    },
    {
     "name": "stderr",
     "output_type": "stream",
     "text": [
      "C:\\Users\\35250\\AppData\\Roaming\\Python\\Python38\\site-packages\\tensorflow\\python\\keras\\optimizer_v2\\optimizer_v2.py:374: UserWarning: The `lr` argument is deprecated, use `learning_rate` instead.\n",
      "  warnings.warn(\n"
     ]
    },
    {
     "name": "stdout",
     "output_type": "stream",
     "text": [
      "\n",
      "\n",
      "Tested 14/50 iterations.\n",
      "Best MAE - Validation Dataset\n",
      "  MAE: 14.2 | sMAPE: 53.21 %\n",
      "\n",
      "Best MAE - Test Dataset\n",
      "  MAE: 15.4 | sMAPE: 47.27 %\n"
     ]
    },
    {
     "name": "stderr",
     "output_type": "stream",
     "text": [
      "C:\\Users\\35250\\AppData\\Roaming\\Python\\Python38\\site-packages\\tensorflow\\python\\keras\\optimizer_v2\\optimizer_v2.py:374: UserWarning: The `lr` argument is deprecated, use `learning_rate` instead.\n",
      "  warnings.warn(\n"
     ]
    },
    {
     "name": "stdout",
     "output_type": "stream",
     "text": [
      "\n",
      "\n",
      "Tested 15/50 iterations.\n",
      "Best MAE - Validation Dataset\n",
      "  MAE: 14.2 | sMAPE: 53.21 %\n",
      "\n",
      "Best MAE - Test Dataset\n",
      "  MAE: 15.4 | sMAPE: 47.27 %\n"
     ]
    },
    {
     "name": "stderr",
     "output_type": "stream",
     "text": [
      "C:\\Users\\35250\\AppData\\Roaming\\Python\\Python38\\site-packages\\tensorflow\\python\\keras\\optimizer_v2\\optimizer_v2.py:374: UserWarning: The `lr` argument is deprecated, use `learning_rate` instead.\n",
      "  warnings.warn(\n"
     ]
    },
    {
     "name": "stdout",
     "output_type": "stream",
     "text": [
      "\n",
      "\n",
      "Tested 16/50 iterations.\n",
      "Best MAE - Validation Dataset\n",
      "  MAE: 14.2 | sMAPE: 53.21 %\n",
      "\n",
      "Best MAE - Test Dataset\n",
      "  MAE: 15.4 | sMAPE: 47.27 %\n",
      "\n",
      "\n",
      "Tested 17/50 iterations.\n",
      "Best MAE - Validation Dataset\n",
      "  MAE: 14.2 | sMAPE: 53.21 %\n",
      "\n",
      "Best MAE - Test Dataset\n",
      "  MAE: 15.4 | sMAPE: 47.27 %\n"
     ]
    },
    {
     "name": "stderr",
     "output_type": "stream",
     "text": [
      "C:\\Users\\35250\\AppData\\Roaming\\Python\\Python38\\site-packages\\tensorflow\\python\\keras\\optimizer_v2\\optimizer_v2.py:374: UserWarning: The `lr` argument is deprecated, use `learning_rate` instead.\n",
      "  warnings.warn(\n"
     ]
    },
    {
     "name": "stdout",
     "output_type": "stream",
     "text": [
      "\n",
      "\n",
      "Tested 18/50 iterations.\n",
      "Best MAE - Validation Dataset\n",
      "  MAE: 14.2 | sMAPE: 53.21 %\n",
      "\n",
      "Best MAE - Test Dataset\n",
      "  MAE: 15.4 | sMAPE: 47.27 %\n"
     ]
    },
    {
     "name": "stderr",
     "output_type": "stream",
     "text": [
      "C:\\Users\\35250\\AppData\\Roaming\\Python\\Python38\\site-packages\\tensorflow\\python\\keras\\optimizer_v2\\optimizer_v2.py:374: UserWarning: The `lr` argument is deprecated, use `learning_rate` instead.\n",
      "  warnings.warn(\n"
     ]
    },
    {
     "name": "stdout",
     "output_type": "stream",
     "text": [
      "\n",
      "\n",
      "Tested 19/50 iterations.\n",
      "Best MAE - Validation Dataset\n",
      "  MAE: 14.2 | sMAPE: 53.21 %\n",
      "\n",
      "Best MAE - Test Dataset\n",
      "  MAE: 15.4 | sMAPE: 47.27 %\n"
     ]
    },
    {
     "name": "stderr",
     "output_type": "stream",
     "text": [
      "C:\\Users\\35250\\AppData\\Roaming\\Python\\Python38\\site-packages\\tensorflow\\python\\keras\\optimizer_v2\\optimizer_v2.py:374: UserWarning: The `lr` argument is deprecated, use `learning_rate` instead.\n",
      "  warnings.warn(\n"
     ]
    },
    {
     "name": "stdout",
     "output_type": "stream",
     "text": [
      "\n",
      "\n",
      "Tested 20/50 iterations.\n",
      "Best MAE - Validation Dataset\n",
      "  MAE: 14.2 | sMAPE: 53.21 %\n",
      "\n",
      "Best MAE - Test Dataset\n",
      "  MAE: 15.4 | sMAPE: 47.27 %\n"
     ]
    },
    {
     "name": "stderr",
     "output_type": "stream",
     "text": [
      "C:\\Users\\35250\\AppData\\Roaming\\Python\\Python38\\site-packages\\tensorflow\\python\\keras\\optimizer_v2\\optimizer_v2.py:374: UserWarning: The `lr` argument is deprecated, use `learning_rate` instead.\n",
      "  warnings.warn(\n"
     ]
    },
    {
     "name": "stdout",
     "output_type": "stream",
     "text": [
      "\n",
      "\n",
      "Tested 21/50 iterations.\n",
      "Best MAE - Validation Dataset\n",
      "  MAE: 14.2 | sMAPE: 53.21 %\n",
      "\n",
      "Best MAE - Test Dataset\n",
      "  MAE: 15.4 | sMAPE: 47.27 %\n"
     ]
    },
    {
     "name": "stderr",
     "output_type": "stream",
     "text": [
      "C:\\Users\\35250\\AppData\\Roaming\\Python\\Python38\\site-packages\\tensorflow\\python\\keras\\optimizer_v2\\optimizer_v2.py:374: UserWarning: The `lr` argument is deprecated, use `learning_rate` instead.\n",
      "  warnings.warn(\n"
     ]
    },
    {
     "name": "stdout",
     "output_type": "stream",
     "text": [
      "\n",
      "\n",
      "Tested 22/50 iterations.\n",
      "Best MAE - Validation Dataset\n",
      "  MAE: 14.2 | sMAPE: 53.21 %\n",
      "\n",
      "Best MAE - Test Dataset\n",
      "  MAE: 15.4 | sMAPE: 47.27 %\n"
     ]
    },
    {
     "name": "stderr",
     "output_type": "stream",
     "text": [
      "C:\\Users\\35250\\AppData\\Roaming\\Python\\Python38\\site-packages\\tensorflow\\python\\keras\\optimizer_v2\\optimizer_v2.py:374: UserWarning: The `lr` argument is deprecated, use `learning_rate` instead.\n",
      "  warnings.warn(\n"
     ]
    },
    {
     "name": "stdout",
     "output_type": "stream",
     "text": [
      "\n",
      "\n",
      "Tested 23/50 iterations.\n",
      "Best MAE - Validation Dataset\n",
      "  MAE: 14.2 | sMAPE: 53.21 %\n",
      "\n",
      "Best MAE - Test Dataset\n",
      "  MAE: 15.4 | sMAPE: 47.27 %\n"
     ]
    },
    {
     "name": "stderr",
     "output_type": "stream",
     "text": [
      "C:\\Users\\35250\\AppData\\Roaming\\Python\\Python38\\site-packages\\tensorflow\\python\\keras\\optimizer_v2\\optimizer_v2.py:374: UserWarning: The `lr` argument is deprecated, use `learning_rate` instead.\n",
      "  warnings.warn(\n"
     ]
    },
    {
     "name": "stdout",
     "output_type": "stream",
     "text": [
      "\n",
      "\n",
      "Tested 24/50 iterations.\n",
      "Best MAE - Validation Dataset\n",
      "  MAE: 14.2 | sMAPE: 53.21 %\n",
      "\n",
      "Best MAE - Test Dataset\n",
      "  MAE: 15.4 | sMAPE: 47.27 %\n"
     ]
    },
    {
     "name": "stderr",
     "output_type": "stream",
     "text": [
      "C:\\Users\\35250\\AppData\\Roaming\\Python\\Python38\\site-packages\\tensorflow\\python\\keras\\optimizer_v2\\optimizer_v2.py:374: UserWarning: The `lr` argument is deprecated, use `learning_rate` instead.\n",
      "  warnings.warn(\n"
     ]
    },
    {
     "name": "stdout",
     "output_type": "stream",
     "text": [
      "\n",
      "\n",
      "Tested 25/50 iterations.\n",
      "Best MAE - Validation Dataset\n",
      "  MAE: 14.2 | sMAPE: 53.21 %\n",
      "\n",
      "Best MAE - Test Dataset\n",
      "  MAE: 15.4 | sMAPE: 47.27 %\n"
     ]
    },
    {
     "name": "stderr",
     "output_type": "stream",
     "text": [
      "C:\\Users\\35250\\AppData\\Roaming\\Python\\Python38\\site-packages\\tensorflow\\python\\keras\\optimizer_v2\\optimizer_v2.py:374: UserWarning: The `lr` argument is deprecated, use `learning_rate` instead.\n",
      "  warnings.warn(\n"
     ]
    },
    {
     "name": "stdout",
     "output_type": "stream",
     "text": [
      "\n",
      "\n",
      "Tested 26/50 iterations.\n",
      "Best MAE - Validation Dataset\n",
      "  MAE: 14.2 | sMAPE: 53.21 %\n",
      "\n",
      "Best MAE - Test Dataset\n",
      "  MAE: 15.4 | sMAPE: 47.27 %\n",
      "\n",
      "\n",
      "Tested 27/50 iterations.\n",
      "Best MAE - Validation Dataset\n",
      "  MAE: 14.2 | sMAPE: 53.21 %\n",
      "\n",
      "Best MAE - Test Dataset\n",
      "  MAE: 15.4 | sMAPE: 47.27 %\n",
      "\n",
      "\n",
      "Tested 28/50 iterations.\n",
      "Best MAE - Validation Dataset\n",
      "  MAE: 14.2 | sMAPE: 53.21 %\n",
      "\n",
      "Best MAE - Test Dataset\n",
      "  MAE: 15.4 | sMAPE: 47.27 %\n",
      "\n",
      "\n",
      "Tested 29/50 iterations.\n",
      "Best MAE - Validation Dataset\n",
      "  MAE: 14.2 | sMAPE: 53.21 %\n",
      "\n",
      "Best MAE - Test Dataset\n",
      "  MAE: 15.4 | sMAPE: 47.27 %\n",
      "\n",
      "\n",
      "Tested 30/50 iterations.\n",
      "Best MAE - Validation Dataset\n",
      "  MAE: 14.2 | sMAPE: 53.21 %\n",
      "\n",
      "Best MAE - Test Dataset\n",
      "  MAE: 15.4 | sMAPE: 47.27 %\n"
     ]
    },
    {
     "name": "stderr",
     "output_type": "stream",
     "text": [
      "C:\\Users\\35250\\AppData\\Roaming\\Python\\Python38\\site-packages\\tensorflow\\python\\keras\\optimizer_v2\\optimizer_v2.py:374: UserWarning: The `lr` argument is deprecated, use `learning_rate` instead.\n",
      "  warnings.warn(\n"
     ]
    },
    {
     "name": "stdout",
     "output_type": "stream",
     "text": [
      "\n",
      "\n",
      "Tested 31/50 iterations.\n",
      "Best MAE - Validation Dataset\n",
      "  MAE: 14.2 | sMAPE: 53.21 %\n",
      "\n",
      "Best MAE - Test Dataset\n",
      "  MAE: 15.4 | sMAPE: 47.27 %\n",
      "\n",
      "\n",
      "Tested 32/50 iterations.\n",
      "Best MAE - Validation Dataset\n",
      "  MAE: 14.2 | sMAPE: 53.21 %\n",
      "\n",
      "Best MAE - Test Dataset\n",
      "  MAE: 15.4 | sMAPE: 47.27 %\n"
     ]
    },
    {
     "name": "stderr",
     "output_type": "stream",
     "text": [
      "C:\\Users\\35250\\AppData\\Roaming\\Python\\Python38\\site-packages\\tensorflow\\python\\keras\\optimizer_v2\\optimizer_v2.py:374: UserWarning: The `lr` argument is deprecated, use `learning_rate` instead.\n",
      "  warnings.warn(\n"
     ]
    },
    {
     "name": "stdout",
     "output_type": "stream",
     "text": [
      "\n",
      "\n",
      "Tested 33/50 iterations.\n",
      "Best MAE - Validation Dataset\n",
      "  MAE: 14.2 | sMAPE: 53.21 %\n",
      "\n",
      "Best MAE - Test Dataset\n",
      "  MAE: 15.4 | sMAPE: 47.27 %\n"
     ]
    },
    {
     "name": "stderr",
     "output_type": "stream",
     "text": [
      "C:\\Users\\35250\\AppData\\Roaming\\Python\\Python38\\site-packages\\tensorflow\\python\\keras\\optimizer_v2\\optimizer_v2.py:374: UserWarning: The `lr` argument is deprecated, use `learning_rate` instead.\n",
      "  warnings.warn(\n"
     ]
    },
    {
     "name": "stdout",
     "output_type": "stream",
     "text": [
      "\n",
      "\n",
      "Tested 34/50 iterations.\n",
      "Best MAE - Validation Dataset\n",
      "  MAE: 14.0 | sMAPE: 51.50 %\n",
      "\n",
      "Best MAE - Test Dataset\n",
      "  MAE: 14.6 | sMAPE: 44.05 %\n"
     ]
    },
    {
     "name": "stderr",
     "output_type": "stream",
     "text": [
      "C:\\Users\\35250\\AppData\\Roaming\\Python\\Python38\\site-packages\\tensorflow\\python\\keras\\optimizer_v2\\optimizer_v2.py:374: UserWarning: The `lr` argument is deprecated, use `learning_rate` instead.\n",
      "  warnings.warn(\n"
     ]
    },
    {
     "name": "stdout",
     "output_type": "stream",
     "text": [
      "\n",
      "\n",
      "Tested 35/50 iterations.\n",
      "Best MAE - Validation Dataset\n",
      "  MAE: 14.0 | sMAPE: 51.50 %\n",
      "\n",
      "Best MAE - Test Dataset\n",
      "  MAE: 14.6 | sMAPE: 44.05 %\n"
     ]
    },
    {
     "name": "stderr",
     "output_type": "stream",
     "text": [
      "C:\\Users\\35250\\AppData\\Roaming\\Python\\Python38\\site-packages\\tensorflow\\python\\keras\\optimizer_v2\\optimizer_v2.py:374: UserWarning: The `lr` argument is deprecated, use `learning_rate` instead.\n",
      "  warnings.warn(\n"
     ]
    },
    {
     "name": "stdout",
     "output_type": "stream",
     "text": [
      "\n",
      "\n",
      "Tested 36/50 iterations.\n",
      "Best MAE - Validation Dataset\n",
      "  MAE: 11.2 | sMAPE: 44.09 %\n",
      "\n",
      "Best MAE - Test Dataset\n",
      "  MAE: 12.0 | sMAPE: 37.87 %\n"
     ]
    },
    {
     "name": "stderr",
     "output_type": "stream",
     "text": [
      "C:\\Users\\35250\\AppData\\Roaming\\Python\\Python38\\site-packages\\tensorflow\\python\\keras\\optimizer_v2\\optimizer_v2.py:374: UserWarning: The `lr` argument is deprecated, use `learning_rate` instead.\n",
      "  warnings.warn(\n"
     ]
    },
    {
     "name": "stdout",
     "output_type": "stream",
     "text": [
      "\n",
      "\n",
      "Tested 37/50 iterations.\n",
      "Best MAE - Validation Dataset\n",
      "  MAE: 11.2 | sMAPE: 44.09 %\n",
      "\n",
      "Best MAE - Test Dataset\n",
      "  MAE: 12.0 | sMAPE: 37.87 %\n"
     ]
    },
    {
     "name": "stderr",
     "output_type": "stream",
     "text": [
      "C:\\Users\\35250\\AppData\\Roaming\\Python\\Python38\\site-packages\\tensorflow\\python\\keras\\optimizer_v2\\optimizer_v2.py:374: UserWarning: The `lr` argument is deprecated, use `learning_rate` instead.\n",
      "  warnings.warn(\n"
     ]
    },
    {
     "name": "stdout",
     "output_type": "stream",
     "text": [
      "\n",
      "\n",
      "Tested 38/50 iterations.\n",
      "Best MAE - Validation Dataset\n",
      "  MAE: 11.2 | sMAPE: 44.09 %\n",
      "\n",
      "Best MAE - Test Dataset\n",
      "  MAE: 12.0 | sMAPE: 37.87 %\n"
     ]
    },
    {
     "name": "stderr",
     "output_type": "stream",
     "text": [
      "C:\\Users\\35250\\AppData\\Roaming\\Python\\Python38\\site-packages\\tensorflow\\python\\keras\\optimizer_v2\\optimizer_v2.py:374: UserWarning: The `lr` argument is deprecated, use `learning_rate` instead.\n",
      "  warnings.warn(\n"
     ]
    },
    {
     "name": "stdout",
     "output_type": "stream",
     "text": [
      "\n",
      "\n",
      "Tested 39/50 iterations.\n",
      "Best MAE - Validation Dataset\n",
      "  MAE: 11.2 | sMAPE: 44.09 %\n",
      "\n",
      "Best MAE - Test Dataset\n",
      "  MAE: 12.0 | sMAPE: 37.87 %\n"
     ]
    },
    {
     "name": "stderr",
     "output_type": "stream",
     "text": [
      "C:\\Users\\35250\\AppData\\Roaming\\Python\\Python38\\site-packages\\tensorflow\\python\\keras\\optimizer_v2\\optimizer_v2.py:374: UserWarning: The `lr` argument is deprecated, use `learning_rate` instead.\n",
      "  warnings.warn(\n"
     ]
    },
    {
     "name": "stdout",
     "output_type": "stream",
     "text": [
      "\n",
      "\n",
      "Tested 40/50 iterations.\n",
      "Best MAE - Validation Dataset\n",
      "  MAE: 11.2 | sMAPE: 44.09 %\n",
      "\n",
      "Best MAE - Test Dataset\n",
      "  MAE: 12.0 | sMAPE: 37.87 %\n"
     ]
    },
    {
     "name": "stderr",
     "output_type": "stream",
     "text": [
      "d:\\business analytics\\notebooks\\project\\epftoolbox\\epftoolbox\\data\\_wrangling.py:95: RuntimeWarning: overflow encountered in sinh\n",
      "  transformed_data = np.sinh(data)\n",
      "d:\\business analytics\\notebooks\\project\\epftoolbox\\epftoolbox\\data\\_wrangling.py:67: RuntimeWarning: overflow encountered in multiply\n",
      "  transformed_data[:, i] = data[:, i] * self.mad[i] + self.median[i]\n"
     ]
    },
    {
     "name": "stdout",
     "output_type": "stream",
     "text": [
      "\n",
      "\n",
      "Tested 41/50 iterations.\n",
      "Best MAE - Validation Dataset\n",
      "  MAE: 11.2 | sMAPE: 44.09 %\n",
      "\n",
      "Best MAE - Test Dataset\n",
      "  MAE: 12.0 | sMAPE: 37.87 %\n",
      "\n",
      "\n",
      "Tested 42/50 iterations.\n",
      "Best MAE - Validation Dataset\n",
      "  MAE: 11.2 | sMAPE: 44.09 %\n",
      "\n",
      "Best MAE - Test Dataset\n",
      "  MAE: 12.0 | sMAPE: 37.87 %\n"
     ]
    },
    {
     "name": "stderr",
     "output_type": "stream",
     "text": [
      "C:\\Users\\35250\\AppData\\Roaming\\Python\\Python38\\site-packages\\tensorflow\\python\\keras\\optimizer_v2\\optimizer_v2.py:374: UserWarning: The `lr` argument is deprecated, use `learning_rate` instead.\n",
      "  warnings.warn(\n"
     ]
    },
    {
     "name": "stdout",
     "output_type": "stream",
     "text": [
      "\n",
      "\n",
      "Tested 43/50 iterations.\n",
      "Best MAE - Validation Dataset\n",
      "  MAE: 11.2 | sMAPE: 44.09 %\n",
      "\n",
      "Best MAE - Test Dataset\n",
      "  MAE: 12.0 | sMAPE: 37.87 %\n"
     ]
    },
    {
     "name": "stderr",
     "output_type": "stream",
     "text": [
      "C:\\Users\\35250\\AppData\\Roaming\\Python\\Python38\\site-packages\\tensorflow\\python\\keras\\optimizer_v2\\optimizer_v2.py:374: UserWarning: The `lr` argument is deprecated, use `learning_rate` instead.\n",
      "  warnings.warn(\n"
     ]
    },
    {
     "name": "stdout",
     "output_type": "stream",
     "text": [
      "\n",
      "\n",
      "Tested 44/50 iterations.\n",
      "Best MAE - Validation Dataset\n",
      "  MAE: 11.2 | sMAPE: 44.09 %\n",
      "\n",
      "Best MAE - Test Dataset\n",
      "  MAE: 12.0 | sMAPE: 37.87 %\n"
     ]
    },
    {
     "name": "stderr",
     "output_type": "stream",
     "text": [
      "d:\\business analytics\\notebooks\\project\\epftoolbox\\epftoolbox\\data\\_wrangling.py:95: RuntimeWarning: overflow encountered in sinh\n",
      "  transformed_data = np.sinh(data)\n",
      "d:\\business analytics\\notebooks\\project\\epftoolbox\\epftoolbox\\data\\_wrangling.py:67: RuntimeWarning: overflow encountered in multiply\n",
      "  transformed_data[:, i] = data[:, i] * self.mad[i] + self.median[i]\n"
     ]
    },
    {
     "name": "stdout",
     "output_type": "stream",
     "text": [
      "\n",
      "\n",
      "Tested 45/50 iterations.\n",
      "Best MAE - Validation Dataset\n",
      "  MAE: 11.2 | sMAPE: 44.09 %\n",
      "\n",
      "Best MAE - Test Dataset\n",
      "  MAE: 12.0 | sMAPE: 37.87 %\n"
     ]
    },
    {
     "name": "stderr",
     "output_type": "stream",
     "text": [
      "C:\\Users\\35250\\AppData\\Roaming\\Python\\Python38\\site-packages\\tensorflow\\python\\keras\\optimizer_v2\\optimizer_v2.py:374: UserWarning: The `lr` argument is deprecated, use `learning_rate` instead.\n",
      "  warnings.warn(\n"
     ]
    },
    {
     "name": "stdout",
     "output_type": "stream",
     "text": [
      "\n",
      "\n",
      "Tested 46/50 iterations.\n",
      "Best MAE - Validation Dataset\n",
      "  MAE: 11.2 | sMAPE: 44.09 %\n",
      "\n",
      "Best MAE - Test Dataset\n",
      "  MAE: 12.0 | sMAPE: 37.87 %\n"
     ]
    },
    {
     "name": "stderr",
     "output_type": "stream",
     "text": [
      "C:\\Users\\35250\\AppData\\Roaming\\Python\\Python38\\site-packages\\tensorflow\\python\\keras\\optimizer_v2\\optimizer_v2.py:374: UserWarning: The `lr` argument is deprecated, use `learning_rate` instead.\n",
      "  warnings.warn(\n"
     ]
    },
    {
     "name": "stdout",
     "output_type": "stream",
     "text": [
      "\n",
      "\n",
      "Tested 47/50 iterations.\n",
      "Best MAE - Validation Dataset\n",
      "  MAE: 11.2 | sMAPE: 44.09 %\n",
      "\n",
      "Best MAE - Test Dataset\n",
      "  MAE: 12.0 | sMAPE: 37.87 %\n"
     ]
    },
    {
     "name": "stderr",
     "output_type": "stream",
     "text": [
      "C:\\Users\\35250\\AppData\\Roaming\\Python\\Python38\\site-packages\\tensorflow\\python\\keras\\optimizer_v2\\optimizer_v2.py:374: UserWarning: The `lr` argument is deprecated, use `learning_rate` instead.\n",
      "  warnings.warn(\n"
     ]
    },
    {
     "name": "stdout",
     "output_type": "stream",
     "text": [
      "\n",
      "\n",
      "Tested 48/50 iterations.\n",
      "Best MAE - Validation Dataset\n",
      "  MAE: 11.2 | sMAPE: 44.09 %\n",
      "\n",
      "Best MAE - Test Dataset\n",
      "  MAE: 12.0 | sMAPE: 37.87 %\n",
      "\n",
      "\n",
      "Tested 49/50 iterations.\n",
      "Best MAE - Validation Dataset\n",
      "  MAE: 11.2 | sMAPE: 44.09 %\n",
      "\n",
      "Best MAE - Test Dataset\n",
      "  MAE: 12.0 | sMAPE: 37.87 %\n"
     ]
    },
    {
     "name": "stderr",
     "output_type": "stream",
     "text": [
      "C:\\Users\\35250\\AppData\\Roaming\\Python\\Python38\\site-packages\\tensorflow\\python\\keras\\optimizer_v2\\optimizer_v2.py:374: UserWarning: The `lr` argument is deprecated, use `learning_rate` instead.\n",
      "  warnings.warn(\n"
     ]
    }
   ],
   "source": [
    "# Number of layers in DNN\n",
    "nlayers = 2\n",
    "\n",
    "# data to study\n",
    "dataset = 'imbalanceData_final'\n",
    "\n",
    "# 1 year is considered as 364 days (52 weeks)\n",
    "# years_test = 1\n",
    "\n",
    "# Optional parameters for selecting the test dataset\n",
    "begin_test_date = '2020-07-20'\n",
    "end_test_date = '2020-10-18'\n",
    "\n",
    "# Boolean that selects whether the validation and training datasets are shuffled\n",
    "shuffle_train = 1\n",
    "\n",
    "# Boolean that selects whether a data augmentation technique for DNNs is used\n",
    "data_augmentation = 0\n",
    "\n",
    "# Boolean that selects whether we start a new hyperparameter optimization or we restart an existing one\n",
    "new_hyperopt = 1\n",
    "\n",
    "# Number of years used in the training dataset for recalibration\n",
    "calibration_window = 1\n",
    "\n",
    "# Unique identifier to read the trials file of hyperparameter optimization\n",
    "experiment_id = 4\n",
    "\n",
    "# Number of iterations for hyperparameter optimization\n",
    "max_evals = 50\n",
    "\n",
    "# path_datasets_folder = \"./datasets/\"\n",
    "# path_hyperparameters_folder = \"./experimental_files/\"\n",
    "\n",
    "hyperparameter_optimizer(path_datasets_folder = 'final datasets',\n",
    "                         path_hyperparameters_folder = 'hyperparameter_dnn/imb_July',\n",
    "                         new_hyperopt = new_hyperopt,\n",
    "                         max_evals = max_evals,\n",
    "                         nlayers = nlayers,\n",
    "                         dataset = dataset, \n",
    "                         #years_test = years_test,\n",
    "                         calibration_window = calibration_window, \n",
    "                         shuffle_train = shuffle_train,\n",
    "                         data_augmentation = data_augmentation,\n",
    "                         experiment_id = experiment_id,\n",
    "                         begin_test_date = begin_test_date,\n",
    "                         end_test_date = end_test_date)"
   ]
  },
  {
   "cell_type": "code",
   "execution_count": 7,
   "id": "d2451640",
   "metadata": {
    "scrolled": true
   },
   "outputs": [
    {
     "name": "stdout",
     "output_type": "stream",
     "text": [
      "Test datasets: 2021-01-18 00:00:00 - 2021-04-18 23:00:00\n"
     ]
    },
    {
     "name": "stderr",
     "output_type": "stream",
     "text": [
      "C:\\Users\\35250\\AppData\\Roaming\\Python\\Python38\\site-packages\\tensorflow\\python\\keras\\optimizer_v2\\optimizer_v2.py:374: UserWarning: The `lr` argument is deprecated, use `learning_rate` instead.\n",
      "  warnings.warn(\n"
     ]
    },
    {
     "name": "stdout",
     "output_type": "stream",
     "text": [
      "\n",
      "\n",
      "Tested 1/50 iterations.\n",
      "Best MAE - Validation Dataset\n",
      "  MAE: 19.2 | sMAPE: 61.78 %\n",
      "\n",
      "Best MAE - Test Dataset\n",
      "  MAE: 32.2 | sMAPE: 63.87 %\n"
     ]
    },
    {
     "name": "stderr",
     "output_type": "stream",
     "text": [
      "d:\\business analytics\\notebooks\\project\\epftoolbox\\epftoolbox\\data\\_wrangling.py:95: RuntimeWarning: overflow encountered in sinh\n",
      "  transformed_data = np.sinh(data)\n",
      "d:\\business analytics\\notebooks\\project\\epftoolbox\\epftoolbox\\data\\_wrangling.py:67: RuntimeWarning: overflow encountered in multiply\n",
      "  transformed_data[:, i] = data[:, i] * self.mad[i] + self.median[i]\n"
     ]
    },
    {
     "name": "stdout",
     "output_type": "stream",
     "text": [
      "\n",
      "\n",
      "Tested 2/50 iterations.\n",
      "Best MAE - Validation Dataset\n",
      "  MAE: 19.2 | sMAPE: 61.78 %\n",
      "\n",
      "Best MAE - Test Dataset\n",
      "  MAE: 32.2 | sMAPE: 63.87 %\n"
     ]
    },
    {
     "name": "stderr",
     "output_type": "stream",
     "text": [
      "C:\\Users\\35250\\AppData\\Roaming\\Python\\Python38\\site-packages\\tensorflow\\python\\keras\\optimizer_v2\\optimizer_v2.py:374: UserWarning: The `lr` argument is deprecated, use `learning_rate` instead.\n",
      "  warnings.warn(\n"
     ]
    },
    {
     "name": "stdout",
     "output_type": "stream",
     "text": [
      "\n",
      "\n",
      "Tested 3/50 iterations.\n",
      "Best MAE - Validation Dataset\n",
      "  MAE: 19.2 | sMAPE: 61.78 %\n",
      "\n",
      "Best MAE - Test Dataset\n",
      "  MAE: 32.2 | sMAPE: 63.87 %\n",
      "\n",
      "\n",
      "Tested 4/50 iterations.\n",
      "Best MAE - Validation Dataset\n",
      "  MAE: 16.2 | sMAPE: 51.51 %\n",
      "\n",
      "Best MAE - Test Dataset\n",
      "  MAE: 32.6 | sMAPE: 64.69 %\n"
     ]
    },
    {
     "name": "stderr",
     "output_type": "stream",
     "text": [
      "C:\\Users\\35250\\AppData\\Roaming\\Python\\Python38\\site-packages\\tensorflow\\python\\keras\\optimizer_v2\\optimizer_v2.py:374: UserWarning: The `lr` argument is deprecated, use `learning_rate` instead.\n",
      "  warnings.warn(\n"
     ]
    },
    {
     "name": "stdout",
     "output_type": "stream",
     "text": [
      "\n",
      "\n",
      "Tested 5/50 iterations.\n",
      "Best MAE - Validation Dataset\n",
      "  MAE: 16.2 | sMAPE: 51.51 %\n",
      "\n",
      "Best MAE - Test Dataset\n",
      "  MAE: 32.6 | sMAPE: 64.69 %\n",
      "\n",
      "\n",
      "Tested 6/50 iterations.\n",
      "Best MAE - Validation Dataset\n",
      "  MAE: 13.4 | sMAPE: 45.88 %\n",
      "\n",
      "Best MAE - Test Dataset\n",
      "  MAE: 28.9 | sMAPE: 59.30 %\n"
     ]
    },
    {
     "name": "stderr",
     "output_type": "stream",
     "text": [
      "C:\\Users\\35250\\AppData\\Roaming\\Python\\Python38\\site-packages\\tensorflow\\python\\keras\\optimizer_v2\\optimizer_v2.py:374: UserWarning: The `lr` argument is deprecated, use `learning_rate` instead.\n",
      "  warnings.warn(\n"
     ]
    },
    {
     "name": "stdout",
     "output_type": "stream",
     "text": [
      "\n",
      "\n",
      "Tested 7/50 iterations.\n",
      "Best MAE - Validation Dataset\n",
      "  MAE: 13.4 | sMAPE: 45.88 %\n",
      "\n",
      "Best MAE - Test Dataset\n",
      "  MAE: 28.9 | sMAPE: 59.30 %\n",
      "\n",
      "\n",
      "Tested 8/50 iterations.\n",
      "Best MAE - Validation Dataset\n",
      "  MAE: 13.4 | sMAPE: 45.88 %\n",
      "\n",
      "Best MAE - Test Dataset\n",
      "  MAE: 28.9 | sMAPE: 59.30 %\n",
      "\n",
      "\n",
      "Tested 9/50 iterations.\n",
      "Best MAE - Validation Dataset\n",
      "  MAE: 13.4 | sMAPE: 45.88 %\n",
      "\n",
      "Best MAE - Test Dataset\n",
      "  MAE: 28.9 | sMAPE: 59.30 %\n"
     ]
    },
    {
     "name": "stderr",
     "output_type": "stream",
     "text": [
      "C:\\Users\\35250\\AppData\\Roaming\\Python\\Python38\\site-packages\\tensorflow\\python\\keras\\optimizer_v2\\optimizer_v2.py:374: UserWarning: The `lr` argument is deprecated, use `learning_rate` instead.\n",
      "  warnings.warn(\n"
     ]
    },
    {
     "name": "stdout",
     "output_type": "stream",
     "text": [
      "\n",
      "\n",
      "Tested 10/50 iterations.\n",
      "Best MAE - Validation Dataset\n",
      "  MAE: 13.4 | sMAPE: 45.88 %\n",
      "\n",
      "Best MAE - Test Dataset\n",
      "  MAE: 28.9 | sMAPE: 59.30 %\n"
     ]
    },
    {
     "name": "stderr",
     "output_type": "stream",
     "text": [
      "C:\\Users\\35250\\AppData\\Roaming\\Python\\Python38\\site-packages\\tensorflow\\python\\keras\\optimizer_v2\\optimizer_v2.py:374: UserWarning: The `lr` argument is deprecated, use `learning_rate` instead.\n",
      "  warnings.warn(\n"
     ]
    },
    {
     "name": "stdout",
     "output_type": "stream",
     "text": [
      "\n",
      "\n",
      "Tested 11/50 iterations.\n",
      "Best MAE - Validation Dataset\n",
      "  MAE: 13.4 | sMAPE: 45.88 %\n",
      "\n",
      "Best MAE - Test Dataset\n",
      "  MAE: 28.9 | sMAPE: 59.30 %\n"
     ]
    },
    {
     "name": "stderr",
     "output_type": "stream",
     "text": [
      "C:\\Users\\35250\\AppData\\Roaming\\Python\\Python38\\site-packages\\tensorflow\\python\\keras\\optimizer_v2\\optimizer_v2.py:374: UserWarning: The `lr` argument is deprecated, use `learning_rate` instead.\n",
      "  warnings.warn(\n"
     ]
    },
    {
     "name": "stdout",
     "output_type": "stream",
     "text": [
      "\n",
      "\n",
      "Tested 12/50 iterations.\n",
      "Best MAE - Validation Dataset\n",
      "  MAE: 13.4 | sMAPE: 45.88 %\n",
      "\n",
      "Best MAE - Test Dataset\n",
      "  MAE: 28.9 | sMAPE: 59.30 %\n"
     ]
    },
    {
     "name": "stderr",
     "output_type": "stream",
     "text": [
      "C:\\Users\\35250\\AppData\\Roaming\\Python\\Python38\\site-packages\\tensorflow\\python\\keras\\optimizer_v2\\optimizer_v2.py:374: UserWarning: The `lr` argument is deprecated, use `learning_rate` instead.\n",
      "  warnings.warn(\n"
     ]
    },
    {
     "name": "stdout",
     "output_type": "stream",
     "text": [
      "\n",
      "\n",
      "Tested 13/50 iterations.\n",
      "Best MAE - Validation Dataset\n",
      "  MAE: 13.4 | sMAPE: 45.88 %\n",
      "\n",
      "Best MAE - Test Dataset\n",
      "  MAE: 28.9 | sMAPE: 59.30 %\n"
     ]
    },
    {
     "name": "stderr",
     "output_type": "stream",
     "text": [
      "C:\\Users\\35250\\AppData\\Roaming\\Python\\Python38\\site-packages\\tensorflow\\python\\keras\\optimizer_v2\\optimizer_v2.py:374: UserWarning: The `lr` argument is deprecated, use `learning_rate` instead.\n",
      "  warnings.warn(\n"
     ]
    },
    {
     "name": "stdout",
     "output_type": "stream",
     "text": [
      "\n",
      "\n",
      "Tested 14/50 iterations.\n",
      "Best MAE - Validation Dataset\n",
      "  MAE: 13.4 | sMAPE: 45.88 %\n",
      "\n",
      "Best MAE - Test Dataset\n",
      "  MAE: 28.9 | sMAPE: 59.30 %\n",
      "\n",
      "\n",
      "Tested 15/50 iterations.\n",
      "Best MAE - Validation Dataset\n",
      "  MAE: 13.4 | sMAPE: 45.88 %\n",
      "\n",
      "Best MAE - Test Dataset\n",
      "  MAE: 28.9 | sMAPE: 59.30 %\n"
     ]
    },
    {
     "name": "stderr",
     "output_type": "stream",
     "text": [
      "C:\\Users\\35250\\AppData\\Roaming\\Python\\Python38\\site-packages\\tensorflow\\python\\keras\\optimizer_v2\\optimizer_v2.py:374: UserWarning: The `lr` argument is deprecated, use `learning_rate` instead.\n",
      "  warnings.warn(\n"
     ]
    },
    {
     "name": "stdout",
     "output_type": "stream",
     "text": [
      "\n",
      "\n",
      "Tested 16/50 iterations.\n",
      "Best MAE - Validation Dataset\n",
      "  MAE: 13.4 | sMAPE: 45.88 %\n",
      "\n",
      "Best MAE - Test Dataset\n",
      "  MAE: 28.9 | sMAPE: 59.30 %\n"
     ]
    },
    {
     "name": "stderr",
     "output_type": "stream",
     "text": [
      "C:\\Users\\35250\\AppData\\Roaming\\Python\\Python38\\site-packages\\tensorflow\\python\\keras\\optimizer_v2\\optimizer_v2.py:374: UserWarning: The `lr` argument is deprecated, use `learning_rate` instead.\n",
      "  warnings.warn(\n"
     ]
    },
    {
     "name": "stdout",
     "output_type": "stream",
     "text": [
      "\n",
      "\n",
      "Tested 17/50 iterations.\n",
      "Best MAE - Validation Dataset\n",
      "  MAE: 13.4 | sMAPE: 45.88 %\n",
      "\n",
      "Best MAE - Test Dataset\n",
      "  MAE: 28.9 | sMAPE: 59.30 %\n"
     ]
    },
    {
     "name": "stderr",
     "output_type": "stream",
     "text": [
      "C:\\Users\\35250\\AppData\\Roaming\\Python\\Python38\\site-packages\\tensorflow\\python\\keras\\optimizer_v2\\optimizer_v2.py:374: UserWarning: The `lr` argument is deprecated, use `learning_rate` instead.\n",
      "  warnings.warn(\n"
     ]
    },
    {
     "name": "stdout",
     "output_type": "stream",
     "text": [
      "\n",
      "\n",
      "Tested 18/50 iterations.\n",
      "Best MAE - Validation Dataset\n",
      "  MAE: 13.4 | sMAPE: 45.88 %\n",
      "\n",
      "Best MAE - Test Dataset\n",
      "  MAE: 28.9 | sMAPE: 59.30 %\n"
     ]
    },
    {
     "name": "stderr",
     "output_type": "stream",
     "text": [
      "C:\\Users\\35250\\AppData\\Roaming\\Python\\Python38\\site-packages\\tensorflow\\python\\keras\\optimizer_v2\\optimizer_v2.py:374: UserWarning: The `lr` argument is deprecated, use `learning_rate` instead.\n",
      "  warnings.warn(\n"
     ]
    },
    {
     "name": "stdout",
     "output_type": "stream",
     "text": [
      "\n",
      "\n",
      "Tested 19/50 iterations.\n",
      "Best MAE - Validation Dataset\n",
      "  MAE: 13.4 | sMAPE: 45.88 %\n",
      "\n",
      "Best MAE - Test Dataset\n",
      "  MAE: 28.9 | sMAPE: 59.30 %\n"
     ]
    },
    {
     "name": "stderr",
     "output_type": "stream",
     "text": [
      "C:\\Users\\35250\\AppData\\Roaming\\Python\\Python38\\site-packages\\tensorflow\\python\\keras\\optimizer_v2\\optimizer_v2.py:374: UserWarning: The `lr` argument is deprecated, use `learning_rate` instead.\n",
      "  warnings.warn(\n"
     ]
    },
    {
     "name": "stdout",
     "output_type": "stream",
     "text": [
      "\n",
      "\n",
      "Tested 20/50 iterations.\n",
      "Best MAE - Validation Dataset\n",
      "  MAE: 13.4 | sMAPE: 45.88 %\n",
      "\n",
      "Best MAE - Test Dataset\n",
      "  MAE: 28.9 | sMAPE: 59.30 %\n"
     ]
    },
    {
     "name": "stderr",
     "output_type": "stream",
     "text": [
      "C:\\Users\\35250\\AppData\\Roaming\\Python\\Python38\\site-packages\\tensorflow\\python\\keras\\optimizer_v2\\optimizer_v2.py:374: UserWarning: The `lr` argument is deprecated, use `learning_rate` instead.\n",
      "  warnings.warn(\n"
     ]
    },
    {
     "name": "stdout",
     "output_type": "stream",
     "text": [
      "\n",
      "\n",
      "Tested 21/50 iterations.\n",
      "Best MAE - Validation Dataset\n",
      "  MAE: 13.4 | sMAPE: 45.88 %\n",
      "\n",
      "Best MAE - Test Dataset\n",
      "  MAE: 28.9 | sMAPE: 59.30 %\n"
     ]
    },
    {
     "name": "stderr",
     "output_type": "stream",
     "text": [
      "C:\\Users\\35250\\AppData\\Roaming\\Python\\Python38\\site-packages\\tensorflow\\python\\keras\\optimizer_v2\\optimizer_v2.py:374: UserWarning: The `lr` argument is deprecated, use `learning_rate` instead.\n",
      "  warnings.warn(\n"
     ]
    },
    {
     "name": "stdout",
     "output_type": "stream",
     "text": [
      "\n",
      "\n",
      "Tested 22/50 iterations.\n",
      "Best MAE - Validation Dataset\n",
      "  MAE: 13.4 | sMAPE: 45.88 %\n",
      "\n",
      "Best MAE - Test Dataset\n",
      "  MAE: 28.9 | sMAPE: 59.30 %\n"
     ]
    },
    {
     "name": "stderr",
     "output_type": "stream",
     "text": [
      "C:\\Users\\35250\\AppData\\Roaming\\Python\\Python38\\site-packages\\tensorflow\\python\\keras\\optimizer_v2\\optimizer_v2.py:374: UserWarning: The `lr` argument is deprecated, use `learning_rate` instead.\n",
      "  warnings.warn(\n"
     ]
    },
    {
     "name": "stdout",
     "output_type": "stream",
     "text": [
      "\n",
      "\n",
      "Tested 23/50 iterations.\n",
      "Best MAE - Validation Dataset\n",
      "  MAE: 13.4 | sMAPE: 45.88 %\n",
      "\n",
      "Best MAE - Test Dataset\n",
      "  MAE: 28.9 | sMAPE: 59.30 %\n"
     ]
    },
    {
     "name": "stderr",
     "output_type": "stream",
     "text": [
      "C:\\Users\\35250\\AppData\\Roaming\\Python\\Python38\\site-packages\\tensorflow\\python\\keras\\optimizer_v2\\optimizer_v2.py:374: UserWarning: The `lr` argument is deprecated, use `learning_rate` instead.\n",
      "  warnings.warn(\n"
     ]
    },
    {
     "name": "stdout",
     "output_type": "stream",
     "text": [
      "\n",
      "\n",
      "Tested 24/50 iterations.\n",
      "Best MAE - Validation Dataset\n",
      "  MAE: 13.4 | sMAPE: 45.88 %\n",
      "\n",
      "Best MAE - Test Dataset\n",
      "  MAE: 28.9 | sMAPE: 59.30 %\n",
      "\n",
      "\n",
      "Tested 25/50 iterations.\n",
      "Best MAE - Validation Dataset\n",
      "  MAE: 13.4 | sMAPE: 45.88 %\n",
      "\n",
      "Best MAE - Test Dataset\n",
      "  MAE: 28.9 | sMAPE: 59.30 %\n",
      "\n",
      "\n",
      "Tested 26/50 iterations.\n",
      "Best MAE - Validation Dataset\n",
      "  MAE: 13.4 | sMAPE: 45.88 %\n",
      "\n",
      "Best MAE - Test Dataset\n",
      "  MAE: 28.9 | sMAPE: 59.30 %\n",
      "\n",
      "\n",
      "Tested 27/50 iterations.\n",
      "Best MAE - Validation Dataset\n",
      "  MAE: 13.4 | sMAPE: 45.88 %\n",
      "\n",
      "Best MAE - Test Dataset\n",
      "  MAE: 28.9 | sMAPE: 59.30 %\n"
     ]
    },
    {
     "name": "stderr",
     "output_type": "stream",
     "text": [
      "C:\\Users\\35250\\AppData\\Roaming\\Python\\Python38\\site-packages\\tensorflow\\python\\keras\\optimizer_v2\\optimizer_v2.py:374: UserWarning: The `lr` argument is deprecated, use `learning_rate` instead.\n",
      "  warnings.warn(\n"
     ]
    },
    {
     "name": "stdout",
     "output_type": "stream",
     "text": [
      "\n",
      "\n",
      "Tested 28/50 iterations.\n",
      "Best MAE - Validation Dataset\n",
      "  MAE: 13.4 | sMAPE: 45.88 %\n",
      "\n",
      "Best MAE - Test Dataset\n",
      "  MAE: 28.9 | sMAPE: 59.30 %\n"
     ]
    },
    {
     "name": "stderr",
     "output_type": "stream",
     "text": [
      "C:\\Users\\35250\\AppData\\Roaming\\Python\\Python38\\site-packages\\tensorflow\\python\\keras\\optimizer_v2\\optimizer_v2.py:374: UserWarning: The `lr` argument is deprecated, use `learning_rate` instead.\n",
      "  warnings.warn(\n"
     ]
    },
    {
     "name": "stdout",
     "output_type": "stream",
     "text": [
      "\n",
      "\n",
      "Tested 29/50 iterations.\n",
      "Best MAE - Validation Dataset\n",
      "  MAE: 13.4 | sMAPE: 45.88 %\n",
      "\n",
      "Best MAE - Test Dataset\n",
      "  MAE: 28.9 | sMAPE: 59.30 %\n",
      "\n",
      "\n",
      "Tested 30/50 iterations.\n",
      "Best MAE - Validation Dataset\n",
      "  MAE: 13.4 | sMAPE: 45.88 %\n",
      "\n",
      "Best MAE - Test Dataset\n",
      "  MAE: 28.9 | sMAPE: 59.30 %\n"
     ]
    },
    {
     "name": "stderr",
     "output_type": "stream",
     "text": [
      "C:\\Users\\35250\\AppData\\Roaming\\Python\\Python38\\site-packages\\tensorflow\\python\\keras\\optimizer_v2\\optimizer_v2.py:374: UserWarning: The `lr` argument is deprecated, use `learning_rate` instead.\n",
      "  warnings.warn(\n"
     ]
    },
    {
     "name": "stdout",
     "output_type": "stream",
     "text": [
      "\n",
      "\n",
      "Tested 31/50 iterations.\n",
      "Best MAE - Validation Dataset\n",
      "  MAE: 13.4 | sMAPE: 45.88 %\n",
      "\n",
      "Best MAE - Test Dataset\n",
      "  MAE: 28.9 | sMAPE: 59.30 %\n",
      "\n",
      "\n",
      "Tested 32/50 iterations.\n",
      "Best MAE - Validation Dataset\n",
      "  MAE: 13.4 | sMAPE: 45.88 %\n",
      "\n",
      "Best MAE - Test Dataset\n",
      "  MAE: 28.9 | sMAPE: 59.30 %\n"
     ]
    },
    {
     "name": "stderr",
     "output_type": "stream",
     "text": [
      "C:\\Users\\35250\\AppData\\Roaming\\Python\\Python38\\site-packages\\tensorflow\\python\\keras\\optimizer_v2\\optimizer_v2.py:374: UserWarning: The `lr` argument is deprecated, use `learning_rate` instead.\n",
      "  warnings.warn(\n"
     ]
    },
    {
     "name": "stdout",
     "output_type": "stream",
     "text": [
      "\n",
      "\n",
      "Tested 33/50 iterations.\n",
      "Best MAE - Validation Dataset\n",
      "  MAE: 13.4 | sMAPE: 45.88 %\n",
      "\n",
      "Best MAE - Test Dataset\n",
      "  MAE: 28.9 | sMAPE: 59.30 %\n",
      "\n",
      "\n",
      "Tested 34/50 iterations.\n",
      "Best MAE - Validation Dataset\n",
      "  MAE: 13.4 | sMAPE: 45.88 %\n",
      "\n",
      "Best MAE - Test Dataset\n",
      "  MAE: 28.9 | sMAPE: 59.30 %\n"
     ]
    },
    {
     "name": "stderr",
     "output_type": "stream",
     "text": [
      "C:\\Users\\35250\\AppData\\Roaming\\Python\\Python38\\site-packages\\tensorflow\\python\\keras\\optimizer_v2\\optimizer_v2.py:374: UserWarning: The `lr` argument is deprecated, use `learning_rate` instead.\n",
      "  warnings.warn(\n"
     ]
    },
    {
     "name": "stdout",
     "output_type": "stream",
     "text": [
      "\n",
      "\n",
      "Tested 35/50 iterations.\n",
      "Best MAE - Validation Dataset\n",
      "  MAE: 13.4 | sMAPE: 45.88 %\n",
      "\n",
      "Best MAE - Test Dataset\n",
      "  MAE: 28.9 | sMAPE: 59.30 %\n"
     ]
    },
    {
     "name": "stderr",
     "output_type": "stream",
     "text": [
      "d:\\business analytics\\notebooks\\project\\epftoolbox\\epftoolbox\\data\\_wrangling.py:95: RuntimeWarning: overflow encountered in sinh\n",
      "  transformed_data = np.sinh(data)\n",
      "d:\\business analytics\\notebooks\\project\\epftoolbox\\epftoolbox\\data\\_wrangling.py:67: RuntimeWarning: overflow encountered in multiply\n",
      "  transformed_data[:, i] = data[:, i] * self.mad[i] + self.median[i]\n"
     ]
    },
    {
     "name": "stdout",
     "output_type": "stream",
     "text": [
      "\n",
      "\n",
      "Tested 36/50 iterations.\n",
      "Best MAE - Validation Dataset\n",
      "  MAE: 13.4 | sMAPE: 45.88 %\n",
      "\n",
      "Best MAE - Test Dataset\n",
      "  MAE: 28.9 | sMAPE: 59.30 %\n",
      "\n",
      "\n",
      "Tested 37/50 iterations.\n",
      "Best MAE - Validation Dataset\n",
      "  MAE: 13.4 | sMAPE: 45.88 %\n",
      "\n",
      "Best MAE - Test Dataset\n",
      "  MAE: 28.9 | sMAPE: 59.30 %\n"
     ]
    },
    {
     "name": "stderr",
     "output_type": "stream",
     "text": [
      "C:\\Users\\35250\\AppData\\Roaming\\Python\\Python38\\site-packages\\tensorflow\\python\\keras\\optimizer_v2\\optimizer_v2.py:374: UserWarning: The `lr` argument is deprecated, use `learning_rate` instead.\n",
      "  warnings.warn(\n"
     ]
    },
    {
     "name": "stdout",
     "output_type": "stream",
     "text": [
      "\n",
      "\n",
      "Tested 38/50 iterations.\n",
      "Best MAE - Validation Dataset\n",
      "  MAE: 13.4 | sMAPE: 45.88 %\n",
      "\n",
      "Best MAE - Test Dataset\n",
      "  MAE: 28.9 | sMAPE: 59.30 %\n"
     ]
    },
    {
     "name": "stderr",
     "output_type": "stream",
     "text": [
      "C:\\Users\\35250\\AppData\\Roaming\\Python\\Python38\\site-packages\\tensorflow\\python\\keras\\optimizer_v2\\optimizer_v2.py:374: UserWarning: The `lr` argument is deprecated, use `learning_rate` instead.\n",
      "  warnings.warn(\n"
     ]
    },
    {
     "name": "stdout",
     "output_type": "stream",
     "text": [
      "\n",
      "\n",
      "Tested 39/50 iterations.\n",
      "Best MAE - Validation Dataset\n",
      "  MAE: 13.4 | sMAPE: 45.88 %\n",
      "\n",
      "Best MAE - Test Dataset\n",
      "  MAE: 28.9 | sMAPE: 59.30 %\n"
     ]
    },
    {
     "name": "stderr",
     "output_type": "stream",
     "text": [
      "C:\\Users\\35250\\AppData\\Roaming\\Python\\Python38\\site-packages\\tensorflow\\python\\keras\\optimizer_v2\\optimizer_v2.py:374: UserWarning: The `lr` argument is deprecated, use `learning_rate` instead.\n",
      "  warnings.warn(\n"
     ]
    },
    {
     "name": "stdout",
     "output_type": "stream",
     "text": [
      "\n",
      "\n",
      "Tested 40/50 iterations.\n",
      "Best MAE - Validation Dataset\n",
      "  MAE: 13.4 | sMAPE: 45.88 %\n",
      "\n",
      "Best MAE - Test Dataset\n",
      "  MAE: 28.9 | sMAPE: 59.30 %\n"
     ]
    },
    {
     "name": "stderr",
     "output_type": "stream",
     "text": [
      "C:\\Users\\35250\\AppData\\Roaming\\Python\\Python38\\site-packages\\tensorflow\\python\\keras\\optimizer_v2\\optimizer_v2.py:374: UserWarning: The `lr` argument is deprecated, use `learning_rate` instead.\n",
      "  warnings.warn(\n"
     ]
    },
    {
     "name": "stdout",
     "output_type": "stream",
     "text": [
      "\n",
      "\n",
      "Tested 41/50 iterations.\n",
      "Best MAE - Validation Dataset\n",
      "  MAE: 13.4 | sMAPE: 45.88 %\n",
      "\n",
      "Best MAE - Test Dataset\n",
      "  MAE: 28.9 | sMAPE: 59.30 %\n"
     ]
    },
    {
     "name": "stderr",
     "output_type": "stream",
     "text": [
      "C:\\Users\\35250\\AppData\\Roaming\\Python\\Python38\\site-packages\\tensorflow\\python\\keras\\optimizer_v2\\optimizer_v2.py:374: UserWarning: The `lr` argument is deprecated, use `learning_rate` instead.\n",
      "  warnings.warn(\n"
     ]
    },
    {
     "name": "stdout",
     "output_type": "stream",
     "text": [
      "\n",
      "\n",
      "Tested 42/50 iterations.\n",
      "Best MAE - Validation Dataset\n",
      "  MAE: 13.4 | sMAPE: 45.88 %\n",
      "\n",
      "Best MAE - Test Dataset\n",
      "  MAE: 28.9 | sMAPE: 59.30 %\n",
      "\n",
      "\n",
      "Tested 43/50 iterations.\n",
      "Best MAE - Validation Dataset\n",
      "  MAE: 13.3 | sMAPE: 46.50 %\n",
      "\n",
      "Best MAE - Test Dataset\n",
      "  MAE: 27.1 | sMAPE: 55.17 %\n"
     ]
    },
    {
     "name": "stderr",
     "output_type": "stream",
     "text": [
      "C:\\Users\\35250\\AppData\\Roaming\\Python\\Python38\\site-packages\\tensorflow\\python\\keras\\optimizer_v2\\optimizer_v2.py:374: UserWarning: The `lr` argument is deprecated, use `learning_rate` instead.\n",
      "  warnings.warn(\n"
     ]
    },
    {
     "name": "stdout",
     "output_type": "stream",
     "text": [
      "\n",
      "\n",
      "Tested 44/50 iterations.\n",
      "Best MAE - Validation Dataset\n",
      "  MAE: 13.3 | sMAPE: 46.50 %\n",
      "\n",
      "Best MAE - Test Dataset\n",
      "  MAE: 27.1 | sMAPE: 55.17 %\n"
     ]
    },
    {
     "name": "stderr",
     "output_type": "stream",
     "text": [
      "C:\\Users\\35250\\AppData\\Roaming\\Python\\Python38\\site-packages\\tensorflow\\python\\keras\\optimizer_v2\\optimizer_v2.py:374: UserWarning: The `lr` argument is deprecated, use `learning_rate` instead.\n",
      "  warnings.warn(\n"
     ]
    },
    {
     "name": "stdout",
     "output_type": "stream",
     "text": [
      "\n",
      "\n",
      "Tested 45/50 iterations.\n",
      "Best MAE - Validation Dataset\n",
      "  MAE: 13.3 | sMAPE: 46.50 %\n",
      "\n",
      "Best MAE - Test Dataset\n",
      "  MAE: 27.1 | sMAPE: 55.17 %\n"
     ]
    },
    {
     "name": "stderr",
     "output_type": "stream",
     "text": [
      "C:\\Users\\35250\\AppData\\Roaming\\Python\\Python38\\site-packages\\tensorflow\\python\\keras\\optimizer_v2\\optimizer_v2.py:374: UserWarning: The `lr` argument is deprecated, use `learning_rate` instead.\n",
      "  warnings.warn(\n"
     ]
    },
    {
     "name": "stdout",
     "output_type": "stream",
     "text": [
      "\n",
      "\n",
      "Tested 46/50 iterations.\n",
      "Best MAE - Validation Dataset\n",
      "  MAE: 13.3 | sMAPE: 46.50 %\n",
      "\n",
      "Best MAE - Test Dataset\n",
      "  MAE: 27.1 | sMAPE: 55.17 %\n",
      "\n",
      "\n",
      "Tested 47/50 iterations.\n",
      "Best MAE - Validation Dataset\n",
      "  MAE: 13.3 | sMAPE: 46.50 %\n",
      "\n",
      "Best MAE - Test Dataset\n",
      "  MAE: 27.1 | sMAPE: 55.17 %\n"
     ]
    },
    {
     "name": "stderr",
     "output_type": "stream",
     "text": [
      "C:\\Users\\35250\\AppData\\Roaming\\Python\\Python38\\site-packages\\tensorflow\\python\\keras\\optimizer_v2\\optimizer_v2.py:374: UserWarning: The `lr` argument is deprecated, use `learning_rate` instead.\n",
      "  warnings.warn(\n"
     ]
    },
    {
     "name": "stdout",
     "output_type": "stream",
     "text": [
      "\n",
      "\n",
      "Tested 48/50 iterations.\n",
      "Best MAE - Validation Dataset\n",
      "  MAE: 13.3 | sMAPE: 46.50 %\n",
      "\n",
      "Best MAE - Test Dataset\n",
      "  MAE: 27.1 | sMAPE: 55.17 %\n"
     ]
    },
    {
     "name": "stderr",
     "output_type": "stream",
     "text": [
      "C:\\Users\\35250\\AppData\\Roaming\\Python\\Python38\\site-packages\\tensorflow\\python\\keras\\optimizer_v2\\optimizer_v2.py:374: UserWarning: The `lr` argument is deprecated, use `learning_rate` instead.\n",
      "  warnings.warn(\n",
      "d:\\business analytics\\notebooks\\project\\epftoolbox\\epftoolbox\\data\\_wrangling.py:95: RuntimeWarning: overflow encountered in sinh\n",
      "  transformed_data = np.sinh(data)\n",
      "d:\\business analytics\\notebooks\\project\\epftoolbox\\epftoolbox\\data\\_wrangling.py:67: RuntimeWarning: overflow encountered in multiply\n",
      "  transformed_data[:, i] = data[:, i] * self.mad[i] + self.median[i]\n"
     ]
    },
    {
     "name": "stdout",
     "output_type": "stream",
     "text": [
      "\n",
      "\n",
      "Tested 49/50 iterations.\n",
      "Best MAE - Validation Dataset\n",
      "  MAE: 13.3 | sMAPE: 46.50 %\n",
      "\n",
      "Best MAE - Test Dataset\n",
      "  MAE: 27.1 | sMAPE: 55.17 %\n"
     ]
    },
    {
     "name": "stderr",
     "output_type": "stream",
     "text": [
      "C:\\Users\\35250\\AppData\\Roaming\\Python\\Python38\\site-packages\\tensorflow\\python\\keras\\optimizer_v2\\optimizer_v2.py:374: UserWarning: The `lr` argument is deprecated, use `learning_rate` instead.\n",
      "  warnings.warn(\n"
     ]
    }
   ],
   "source": [
    "# Number of layers in DNN\n",
    "nlayers = 2\n",
    "\n",
    "# data to study\n",
    "dataset = 'imbalanceData_final'\n",
    "\n",
    "# 1 year is considered as 364 days (52 weeks)\n",
    "# years_test = 1\n",
    "\n",
    "# Optional parameters for selecting the test dataset\n",
    "begin_test_date = '2021-01-18'\n",
    "end_test_date = '2021-04-18'\n",
    "\n",
    "# Boolean that selects whether the validation and training datasets are shuffled\n",
    "shuffle_train = 1\n",
    "\n",
    "# Boolean that selects whether a data augmentation technique for DNNs is used\n",
    "data_augmentation = 0\n",
    "\n",
    "# Boolean that selects whether we start a new hyperparameter optimization or we restart an existing one\n",
    "new_hyperopt = 1\n",
    "\n",
    "# Number of years used in the training dataset for recalibration\n",
    "calibration_window = 1\n",
    "\n",
    "# Unique identifier to read the trials file of hyperparameter optimization\n",
    "experiment_id = 4\n",
    "\n",
    "# Number of iterations for hyperparameter optimization\n",
    "max_evals = 50\n",
    "\n",
    "# path_datasets_folder = \"./datasets/\"\n",
    "# path_hyperparameters_folder = \"./experimental_files/\"\n",
    "\n",
    "hyperparameter_optimizer(path_datasets_folder = 'final datasets',\n",
    "                         path_hyperparameters_folder = 'hyperparameter_dnn/imb_January',\n",
    "                         new_hyperopt = new_hyperopt,\n",
    "                         max_evals = max_evals,\n",
    "                         nlayers = nlayers,\n",
    "                         dataset = dataset, \n",
    "                         #years_test = years_test,\n",
    "                         calibration_window = calibration_window, \n",
    "                         shuffle_train = shuffle_train,\n",
    "                         data_augmentation = data_augmentation,\n",
    "                         experiment_id = experiment_id,\n",
    "                         begin_test_date = begin_test_date,\n",
    "                         end_test_date = end_test_date)"
   ]
  },
  {
   "cell_type": "code",
   "execution_count": 8,
   "id": "b8268d83",
   "metadata": {
    "scrolled": true
   },
   "outputs": [
    {
     "name": "stdout",
     "output_type": "stream",
     "text": [
      "Test datasets: 2021-01-18 00:00:00 - 2021-04-18 23:00:00\n"
     ]
    },
    {
     "name": "stderr",
     "output_type": "stream",
     "text": [
      "C:\\Users\\35250\\AppData\\Roaming\\Python\\Python38\\site-packages\\tensorflow\\python\\keras\\optimizer_v2\\optimizer_v2.py:374: UserWarning: The `lr` argument is deprecated, use `learning_rate` instead.\n",
      "  warnings.warn(\n"
     ]
    },
    {
     "name": "stdout",
     "output_type": "stream",
     "text": [
      "\n",
      "\n",
      "Tested 1/50 iterations.\n",
      "Best MAE - Validation Dataset\n",
      "  MAE: 10.1 | sMAPE: 27.78 %\n",
      "\n",
      "Best MAE - Test Dataset\n",
      "  MAE: 24.6 | sMAPE: 49.27 %\n"
     ]
    },
    {
     "name": "stderr",
     "output_type": "stream",
     "text": [
      "C:\\Users\\35250\\AppData\\Roaming\\Python\\Python38\\site-packages\\tensorflow\\python\\keras\\optimizer_v2\\optimizer_v2.py:374: UserWarning: The `lr` argument is deprecated, use `learning_rate` instead.\n",
      "  warnings.warn(\n"
     ]
    },
    {
     "name": "stdout",
     "output_type": "stream",
     "text": [
      "\n",
      "\n",
      "Tested 2/50 iterations.\n",
      "Best MAE - Validation Dataset\n",
      "  MAE: 5.7 | sMAPE: 17.78 %\n",
      "\n",
      "Best MAE - Test Dataset\n",
      "  MAE: 10.1 | sMAPE: 16.93 %\n"
     ]
    },
    {
     "name": "stderr",
     "output_type": "stream",
     "text": [
      "C:\\Users\\35250\\AppData\\Roaming\\Python\\Python38\\site-packages\\tensorflow\\python\\keras\\optimizer_v2\\optimizer_v2.py:374: UserWarning: The `lr` argument is deprecated, use `learning_rate` instead.\n",
      "  warnings.warn(\n"
     ]
    },
    {
     "name": "stdout",
     "output_type": "stream",
     "text": [
      "\n",
      "\n",
      "Tested 3/50 iterations.\n",
      "Best MAE - Validation Dataset\n",
      "  MAE: 5.7 | sMAPE: 17.78 %\n",
      "\n",
      "Best MAE - Test Dataset\n",
      "  MAE: 10.1 | sMAPE: 16.93 %\n"
     ]
    },
    {
     "name": "stderr",
     "output_type": "stream",
     "text": [
      "C:\\Users\\35250\\AppData\\Roaming\\Python\\Python38\\site-packages\\tensorflow\\python\\keras\\optimizer_v2\\optimizer_v2.py:374: UserWarning: The `lr` argument is deprecated, use `learning_rate` instead.\n",
      "  warnings.warn(\n"
     ]
    },
    {
     "name": "stdout",
     "output_type": "stream",
     "text": [
      "\n",
      "\n",
      "Tested 4/50 iterations.\n",
      "Best MAE - Validation Dataset\n",
      "  MAE: 5.7 | sMAPE: 17.78 %\n",
      "\n",
      "Best MAE - Test Dataset\n",
      "  MAE: 10.1 | sMAPE: 16.93 %\n"
     ]
    },
    {
     "name": "stderr",
     "output_type": "stream",
     "text": [
      "C:\\Users\\35250\\AppData\\Roaming\\Python\\Python38\\site-packages\\tensorflow\\python\\keras\\optimizer_v2\\optimizer_v2.py:374: UserWarning: The `lr` argument is deprecated, use `learning_rate` instead.\n",
      "  warnings.warn(\n"
     ]
    },
    {
     "name": "stdout",
     "output_type": "stream",
     "text": [
      "\n",
      "\n",
      "Tested 5/50 iterations.\n",
      "Best MAE - Validation Dataset\n",
      "  MAE: 5.7 | sMAPE: 17.78 %\n",
      "\n",
      "Best MAE - Test Dataset\n",
      "  MAE: 10.1 | sMAPE: 16.93 %\n"
     ]
    },
    {
     "name": "stderr",
     "output_type": "stream",
     "text": [
      "C:\\Users\\35250\\AppData\\Roaming\\Python\\Python38\\site-packages\\tensorflow\\python\\keras\\optimizer_v2\\optimizer_v2.py:374: UserWarning: The `lr` argument is deprecated, use `learning_rate` instead.\n",
      "  warnings.warn(\n"
     ]
    },
    {
     "name": "stdout",
     "output_type": "stream",
     "text": [
      "\n",
      "\n",
      "Tested 6/50 iterations.\n",
      "Best MAE - Validation Dataset\n",
      "  MAE: 5.7 | sMAPE: 17.78 %\n",
      "\n",
      "Best MAE - Test Dataset\n",
      "  MAE: 10.1 | sMAPE: 16.93 %\n"
     ]
    },
    {
     "name": "stderr",
     "output_type": "stream",
     "text": [
      "C:\\Users\\35250\\AppData\\Roaming\\Python\\Python38\\site-packages\\tensorflow\\python\\keras\\optimizer_v2\\optimizer_v2.py:374: UserWarning: The `lr` argument is deprecated, use `learning_rate` instead.\n",
      "  warnings.warn(\n"
     ]
    },
    {
     "name": "stdout",
     "output_type": "stream",
     "text": [
      "\n",
      "\n",
      "Tested 7/50 iterations.\n",
      "Best MAE - Validation Dataset\n",
      "  MAE: 5.7 | sMAPE: 17.78 %\n",
      "\n",
      "Best MAE - Test Dataset\n",
      "  MAE: 10.1 | sMAPE: 16.93 %\n"
     ]
    },
    {
     "name": "stderr",
     "output_type": "stream",
     "text": [
      "C:\\Users\\35250\\AppData\\Roaming\\Python\\Python38\\site-packages\\tensorflow\\python\\keras\\optimizer_v2\\optimizer_v2.py:374: UserWarning: The `lr` argument is deprecated, use `learning_rate` instead.\n",
      "  warnings.warn(\n"
     ]
    },
    {
     "name": "stdout",
     "output_type": "stream",
     "text": [
      "\n",
      "\n",
      "Tested 8/50 iterations.\n",
      "Best MAE - Validation Dataset\n",
      "  MAE: 5.7 | sMAPE: 17.78 %\n",
      "\n",
      "Best MAE - Test Dataset\n",
      "  MAE: 10.1 | sMAPE: 16.93 %\n"
     ]
    },
    {
     "name": "stderr",
     "output_type": "stream",
     "text": [
      "C:\\Users\\35250\\AppData\\Roaming\\Python\\Python38\\site-packages\\tensorflow\\python\\keras\\optimizer_v2\\optimizer_v2.py:374: UserWarning: The `lr` argument is deprecated, use `learning_rate` instead.\n",
      "  warnings.warn(\n"
     ]
    },
    {
     "name": "stdout",
     "output_type": "stream",
     "text": [
      "\n",
      "\n",
      "Tested 9/50 iterations.\n",
      "Best MAE - Validation Dataset\n",
      "  MAE: 5.7 | sMAPE: 17.78 %\n",
      "\n",
      "Best MAE - Test Dataset\n",
      "  MAE: 10.1 | sMAPE: 16.93 %\n"
     ]
    },
    {
     "name": "stderr",
     "output_type": "stream",
     "text": [
      "C:\\Users\\35250\\AppData\\Roaming\\Python\\Python38\\site-packages\\tensorflow\\python\\keras\\optimizer_v2\\optimizer_v2.py:374: UserWarning: The `lr` argument is deprecated, use `learning_rate` instead.\n",
      "  warnings.warn(\n"
     ]
    },
    {
     "name": "stdout",
     "output_type": "stream",
     "text": [
      "\n",
      "\n",
      "Tested 10/50 iterations.\n",
      "Best MAE - Validation Dataset\n",
      "  MAE: 5.7 | sMAPE: 17.78 %\n",
      "\n",
      "Best MAE - Test Dataset\n",
      "  MAE: 10.1 | sMAPE: 16.93 %\n"
     ]
    },
    {
     "name": "stderr",
     "output_type": "stream",
     "text": [
      "C:\\Users\\35250\\AppData\\Roaming\\Python\\Python38\\site-packages\\tensorflow\\python\\keras\\optimizer_v2\\optimizer_v2.py:374: UserWarning: The `lr` argument is deprecated, use `learning_rate` instead.\n",
      "  warnings.warn(\n"
     ]
    },
    {
     "name": "stdout",
     "output_type": "stream",
     "text": [
      "\n",
      "\n",
      "Tested 11/50 iterations.\n",
      "Best MAE - Validation Dataset\n",
      "  MAE: 5.7 | sMAPE: 17.78 %\n",
      "\n",
      "Best MAE - Test Dataset\n",
      "  MAE: 10.1 | sMAPE: 16.93 %\n"
     ]
    },
    {
     "name": "stderr",
     "output_type": "stream",
     "text": [
      "C:\\Users\\35250\\AppData\\Roaming\\Python\\Python38\\site-packages\\tensorflow\\python\\keras\\optimizer_v2\\optimizer_v2.py:374: UserWarning: The `lr` argument is deprecated, use `learning_rate` instead.\n",
      "  warnings.warn(\n"
     ]
    },
    {
     "name": "stdout",
     "output_type": "stream",
     "text": [
      "\n",
      "\n",
      "Tested 12/50 iterations.\n",
      "Best MAE - Validation Dataset\n",
      "  MAE: 5.7 | sMAPE: 17.78 %\n",
      "\n",
      "Best MAE - Test Dataset\n",
      "  MAE: 10.1 | sMAPE: 16.93 %\n"
     ]
    },
    {
     "name": "stderr",
     "output_type": "stream",
     "text": [
      "C:\\Users\\35250\\AppData\\Roaming\\Python\\Python38\\site-packages\\tensorflow\\python\\keras\\optimizer_v2\\optimizer_v2.py:374: UserWarning: The `lr` argument is deprecated, use `learning_rate` instead.\n",
      "  warnings.warn(\n"
     ]
    },
    {
     "name": "stdout",
     "output_type": "stream",
     "text": [
      "\n",
      "\n",
      "Tested 13/50 iterations.\n",
      "Best MAE - Validation Dataset\n",
      "  MAE: 5.7 | sMAPE: 17.78 %\n",
      "\n",
      "Best MAE - Test Dataset\n",
      "  MAE: 10.1 | sMAPE: 16.93 %\n",
      "\n",
      "\n",
      "Tested 14/50 iterations.\n",
      "Best MAE - Validation Dataset\n",
      "  MAE: 5.7 | sMAPE: 17.78 %\n",
      "\n",
      "Best MAE - Test Dataset\n",
      "  MAE: 10.1 | sMAPE: 16.93 %\n"
     ]
    },
    {
     "name": "stderr",
     "output_type": "stream",
     "text": [
      "C:\\Users\\35250\\AppData\\Roaming\\Python\\Python38\\site-packages\\tensorflow\\python\\keras\\optimizer_v2\\optimizer_v2.py:374: UserWarning: The `lr` argument is deprecated, use `learning_rate` instead.\n",
      "  warnings.warn(\n"
     ]
    },
    {
     "name": "stdout",
     "output_type": "stream",
     "text": [
      "\n",
      "\n",
      "Tested 15/50 iterations.\n",
      "Best MAE - Validation Dataset\n",
      "  MAE: 5.7 | sMAPE: 17.78 %\n",
      "\n",
      "Best MAE - Test Dataset\n",
      "  MAE: 10.1 | sMAPE: 16.93 %\n"
     ]
    },
    {
     "name": "stderr",
     "output_type": "stream",
     "text": [
      "C:\\Users\\35250\\AppData\\Roaming\\Python\\Python38\\site-packages\\tensorflow\\python\\keras\\optimizer_v2\\optimizer_v2.py:374: UserWarning: The `lr` argument is deprecated, use `learning_rate` instead.\n",
      "  warnings.warn(\n",
      "d:\\business analytics\\notebooks\\project\\epftoolbox\\epftoolbox\\data\\_wrangling.py:95: RuntimeWarning: overflow encountered in sinh\n",
      "  transformed_data = np.sinh(data)\n",
      "d:\\business analytics\\notebooks\\project\\epftoolbox\\epftoolbox\\data\\_wrangling.py:67: RuntimeWarning: overflow encountered in multiply\n",
      "  transformed_data[:, i] = data[:, i] * self.mad[i] + self.median[i]\n"
     ]
    },
    {
     "name": "stdout",
     "output_type": "stream",
     "text": [
      "\n",
      "\n",
      "Tested 16/50 iterations.\n",
      "Best MAE - Validation Dataset\n",
      "  MAE: 5.7 | sMAPE: 17.78 %\n",
      "\n",
      "Best MAE - Test Dataset\n",
      "  MAE: 10.1 | sMAPE: 16.93 %\n",
      "\n",
      "\n",
      "Tested 17/50 iterations.\n",
      "Best MAE - Validation Dataset\n",
      "  MAE: 5.7 | sMAPE: 17.78 %\n",
      "\n",
      "Best MAE - Test Dataset\n",
      "  MAE: 10.1 | sMAPE: 16.93 %\n",
      "\n",
      "\n",
      "Tested 18/50 iterations.\n",
      "Best MAE - Validation Dataset\n",
      "  MAE: 5.7 | sMAPE: 17.78 %\n",
      "\n",
      "Best MAE - Test Dataset\n",
      "  MAE: 10.1 | sMAPE: 16.93 %\n"
     ]
    },
    {
     "name": "stderr",
     "output_type": "stream",
     "text": [
      "C:\\Users\\35250\\AppData\\Roaming\\Python\\Python38\\site-packages\\tensorflow\\python\\keras\\optimizer_v2\\optimizer_v2.py:374: UserWarning: The `lr` argument is deprecated, use `learning_rate` instead.\n",
      "  warnings.warn(\n"
     ]
    },
    {
     "name": "stdout",
     "output_type": "stream",
     "text": [
      "\n",
      "\n",
      "Tested 19/50 iterations.\n",
      "Best MAE - Validation Dataset\n",
      "  MAE: 5.7 | sMAPE: 17.78 %\n",
      "\n",
      "Best MAE - Test Dataset\n",
      "  MAE: 10.1 | sMAPE: 16.93 %\n"
     ]
    },
    {
     "name": "stderr",
     "output_type": "stream",
     "text": [
      "C:\\Users\\35250\\AppData\\Roaming\\Python\\Python38\\site-packages\\tensorflow\\python\\keras\\optimizer_v2\\optimizer_v2.py:374: UserWarning: The `lr` argument is deprecated, use `learning_rate` instead.\n",
      "  warnings.warn(\n"
     ]
    },
    {
     "name": "stdout",
     "output_type": "stream",
     "text": [
      "\n",
      "\n",
      "Tested 20/50 iterations.\n",
      "Best MAE - Validation Dataset\n",
      "  MAE: 5.7 | sMAPE: 17.78 %\n",
      "\n",
      "Best MAE - Test Dataset\n",
      "  MAE: 10.1 | sMAPE: 16.93 %\n"
     ]
    },
    {
     "name": "stderr",
     "output_type": "stream",
     "text": [
      "C:\\Users\\35250\\AppData\\Roaming\\Python\\Python38\\site-packages\\tensorflow\\python\\keras\\optimizer_v2\\optimizer_v2.py:374: UserWarning: The `lr` argument is deprecated, use `learning_rate` instead.\n",
      "  warnings.warn(\n"
     ]
    },
    {
     "name": "stdout",
     "output_type": "stream",
     "text": [
      "\n",
      "\n",
      "Tested 21/50 iterations.\n",
      "Best MAE - Validation Dataset\n",
      "  MAE: 5.7 | sMAPE: 17.78 %\n",
      "\n",
      "Best MAE - Test Dataset\n",
      "  MAE: 10.1 | sMAPE: 16.93 %\n"
     ]
    },
    {
     "name": "stderr",
     "output_type": "stream",
     "text": [
      "C:\\Users\\35250\\AppData\\Roaming\\Python\\Python38\\site-packages\\tensorflow\\python\\keras\\optimizer_v2\\optimizer_v2.py:374: UserWarning: The `lr` argument is deprecated, use `learning_rate` instead.\n",
      "  warnings.warn(\n"
     ]
    },
    {
     "name": "stdout",
     "output_type": "stream",
     "text": [
      "\n",
      "\n",
      "Tested 22/50 iterations.\n",
      "Best MAE - Validation Dataset\n",
      "  MAE: 5.7 | sMAPE: 17.78 %\n",
      "\n",
      "Best MAE - Test Dataset\n",
      "  MAE: 10.1 | sMAPE: 16.93 %\n",
      "\n",
      "\n",
      "Tested 23/50 iterations.\n",
      "Best MAE - Validation Dataset\n",
      "  MAE: 5.7 | sMAPE: 17.78 %\n",
      "\n",
      "Best MAE - Test Dataset\n",
      "  MAE: 10.1 | sMAPE: 16.93 %\n"
     ]
    },
    {
     "name": "stderr",
     "output_type": "stream",
     "text": [
      "C:\\Users\\35250\\AppData\\Roaming\\Python\\Python38\\site-packages\\tensorflow\\python\\keras\\optimizer_v2\\optimizer_v2.py:374: UserWarning: The `lr` argument is deprecated, use `learning_rate` instead.\n",
      "  warnings.warn(\n"
     ]
    },
    {
     "name": "stdout",
     "output_type": "stream",
     "text": [
      "\n",
      "\n",
      "Tested 24/50 iterations.\n",
      "Best MAE - Validation Dataset\n",
      "  MAE: 5.7 | sMAPE: 17.78 %\n",
      "\n",
      "Best MAE - Test Dataset\n",
      "  MAE: 10.1 | sMAPE: 16.93 %\n"
     ]
    },
    {
     "name": "stderr",
     "output_type": "stream",
     "text": [
      "C:\\Users\\35250\\AppData\\Roaming\\Python\\Python38\\site-packages\\tensorflow\\python\\keras\\optimizer_v2\\optimizer_v2.py:374: UserWarning: The `lr` argument is deprecated, use `learning_rate` instead.\n",
      "  warnings.warn(\n"
     ]
    },
    {
     "name": "stdout",
     "output_type": "stream",
     "text": [
      "\n",
      "\n",
      "Tested 25/50 iterations.\n",
      "Best MAE - Validation Dataset\n",
      "  MAE: 5.7 | sMAPE: 17.78 %\n",
      "\n",
      "Best MAE - Test Dataset\n",
      "  MAE: 10.1 | sMAPE: 16.93 %\n"
     ]
    },
    {
     "name": "stderr",
     "output_type": "stream",
     "text": [
      "C:\\Users\\35250\\AppData\\Roaming\\Python\\Python38\\site-packages\\tensorflow\\python\\keras\\optimizer_v2\\optimizer_v2.py:374: UserWarning: The `lr` argument is deprecated, use `learning_rate` instead.\n",
      "  warnings.warn(\n"
     ]
    },
    {
     "name": "stdout",
     "output_type": "stream",
     "text": [
      "\n",
      "\n",
      "Tested 26/50 iterations.\n",
      "Best MAE - Validation Dataset\n",
      "  MAE: 5.6 | sMAPE: 16.64 %\n",
      "\n",
      "Best MAE - Test Dataset\n",
      "  MAE: 10.1 | sMAPE: 17.29 %\n"
     ]
    },
    {
     "name": "stderr",
     "output_type": "stream",
     "text": [
      "C:\\Users\\35250\\AppData\\Roaming\\Python\\Python38\\site-packages\\tensorflow\\python\\keras\\optimizer_v2\\optimizer_v2.py:374: UserWarning: The `lr` argument is deprecated, use `learning_rate` instead.\n",
      "  warnings.warn(\n"
     ]
    },
    {
     "name": "stdout",
     "output_type": "stream",
     "text": [
      "\n",
      "\n",
      "Tested 27/50 iterations.\n",
      "Best MAE - Validation Dataset\n",
      "  MAE: 5.4 | sMAPE: 16.19 %\n",
      "\n",
      "Best MAE - Test Dataset\n",
      "  MAE: 12.3 | sMAPE: 19.38 %\n",
      "\n",
      "\n",
      "Tested 28/50 iterations.\n",
      "Best MAE - Validation Dataset\n",
      "  MAE: 5.4 | sMAPE: 16.19 %\n",
      "\n",
      "Best MAE - Test Dataset\n",
      "  MAE: 12.3 | sMAPE: 19.38 %\n",
      "\n",
      "\n",
      "Tested 29/50 iterations.\n",
      "Best MAE - Validation Dataset\n",
      "  MAE: 5.4 | sMAPE: 16.19 %\n",
      "\n",
      "Best MAE - Test Dataset\n",
      "  MAE: 12.3 | sMAPE: 19.38 %\n",
      "\n",
      "\n",
      "Tested 30/50 iterations.\n",
      "Best MAE - Validation Dataset\n",
      "  MAE: 5.4 | sMAPE: 16.19 %\n",
      "\n",
      "Best MAE - Test Dataset\n",
      "  MAE: 12.3 | sMAPE: 19.38 %\n",
      "\n",
      "\n",
      "Tested 31/50 iterations.\n",
      "Best MAE - Validation Dataset\n",
      "  MAE: 5.4 | sMAPE: 16.19 %\n",
      "\n",
      "Best MAE - Test Dataset\n",
      "  MAE: 12.3 | sMAPE: 19.38 %\n"
     ]
    },
    {
     "name": "stderr",
     "output_type": "stream",
     "text": [
      "C:\\Users\\35250\\AppData\\Roaming\\Python\\Python38\\site-packages\\tensorflow\\python\\keras\\optimizer_v2\\optimizer_v2.py:374: UserWarning: The `lr` argument is deprecated, use `learning_rate` instead.\n",
      "  warnings.warn(\n"
     ]
    },
    {
     "name": "stdout",
     "output_type": "stream",
     "text": [
      "\n",
      "\n",
      "Tested 32/50 iterations.\n",
      "Best MAE - Validation Dataset\n",
      "  MAE: 5.3 | sMAPE: 15.84 %\n",
      "\n",
      "Best MAE - Test Dataset\n",
      "  MAE: 12.0 | sMAPE: 19.35 %\n"
     ]
    },
    {
     "name": "stderr",
     "output_type": "stream",
     "text": [
      "C:\\Users\\35250\\AppData\\Roaming\\Python\\Python38\\site-packages\\tensorflow\\python\\keras\\optimizer_v2\\optimizer_v2.py:374: UserWarning: The `lr` argument is deprecated, use `learning_rate` instead.\n",
      "  warnings.warn(\n"
     ]
    },
    {
     "name": "stdout",
     "output_type": "stream",
     "text": [
      "\n",
      "\n",
      "Tested 33/50 iterations.\n",
      "Best MAE - Validation Dataset\n",
      "  MAE: 5.3 | sMAPE: 15.84 %\n",
      "\n",
      "Best MAE - Test Dataset\n",
      "  MAE: 12.0 | sMAPE: 19.35 %\n"
     ]
    },
    {
     "name": "stderr",
     "output_type": "stream",
     "text": [
      "C:\\Users\\35250\\AppData\\Roaming\\Python\\Python38\\site-packages\\tensorflow\\python\\keras\\optimizer_v2\\optimizer_v2.py:374: UserWarning: The `lr` argument is deprecated, use `learning_rate` instead.\n",
      "  warnings.warn(\n"
     ]
    },
    {
     "name": "stdout",
     "output_type": "stream",
     "text": [
      "\n",
      "\n",
      "Tested 34/50 iterations.\n",
      "Best MAE - Validation Dataset\n",
      "  MAE: 5.3 | sMAPE: 15.84 %\n",
      "\n",
      "Best MAE - Test Dataset\n",
      "  MAE: 12.0 | sMAPE: 19.35 %\n"
     ]
    },
    {
     "name": "stderr",
     "output_type": "stream",
     "text": [
      "C:\\Users\\35250\\AppData\\Roaming\\Python\\Python38\\site-packages\\tensorflow\\python\\keras\\optimizer_v2\\optimizer_v2.py:374: UserWarning: The `lr` argument is deprecated, use `learning_rate` instead.\n",
      "  warnings.warn(\n"
     ]
    },
    {
     "name": "stdout",
     "output_type": "stream",
     "text": [
      "\n",
      "\n",
      "Tested 35/50 iterations.\n",
      "Best MAE - Validation Dataset\n",
      "  MAE: 4.9 | sMAPE: 14.89 %\n",
      "\n",
      "Best MAE - Test Dataset\n",
      "  MAE: 11.5 | sMAPE: 18.20 %\n"
     ]
    },
    {
     "name": "stderr",
     "output_type": "stream",
     "text": [
      "C:\\Users\\35250\\AppData\\Roaming\\Python\\Python38\\site-packages\\tensorflow\\python\\keras\\optimizer_v2\\optimizer_v2.py:374: UserWarning: The `lr` argument is deprecated, use `learning_rate` instead.\n",
      "  warnings.warn(\n"
     ]
    },
    {
     "name": "stdout",
     "output_type": "stream",
     "text": [
      "\n",
      "\n",
      "Tested 36/50 iterations.\n",
      "Best MAE - Validation Dataset\n",
      "  MAE: 4.9 | sMAPE: 14.89 %\n",
      "\n",
      "Best MAE - Test Dataset\n",
      "  MAE: 11.5 | sMAPE: 18.20 %\n"
     ]
    },
    {
     "name": "stderr",
     "output_type": "stream",
     "text": [
      "C:\\Users\\35250\\AppData\\Roaming\\Python\\Python38\\site-packages\\tensorflow\\python\\keras\\optimizer_v2\\optimizer_v2.py:374: UserWarning: The `lr` argument is deprecated, use `learning_rate` instead.\n",
      "  warnings.warn(\n"
     ]
    },
    {
     "name": "stdout",
     "output_type": "stream",
     "text": [
      "\n",
      "\n",
      "Tested 37/50 iterations.\n",
      "Best MAE - Validation Dataset\n",
      "  MAE: 4.9 | sMAPE: 15.06 %\n",
      "\n",
      "Best MAE - Test Dataset\n",
      "  MAE: 9.1 | sMAPE: 15.36 %\n"
     ]
    },
    {
     "name": "stderr",
     "output_type": "stream",
     "text": [
      "C:\\Users\\35250\\AppData\\Roaming\\Python\\Python38\\site-packages\\tensorflow\\python\\keras\\optimizer_v2\\optimizer_v2.py:374: UserWarning: The `lr` argument is deprecated, use `learning_rate` instead.\n",
      "  warnings.warn(\n"
     ]
    },
    {
     "name": "stdout",
     "output_type": "stream",
     "text": [
      "\n",
      "\n",
      "Tested 38/50 iterations.\n",
      "Best MAE - Validation Dataset\n",
      "  MAE: 4.9 | sMAPE: 15.06 %\n",
      "\n",
      "Best MAE - Test Dataset\n",
      "  MAE: 9.1 | sMAPE: 15.36 %\n"
     ]
    },
    {
     "name": "stderr",
     "output_type": "stream",
     "text": [
      "C:\\Users\\35250\\AppData\\Roaming\\Python\\Python38\\site-packages\\tensorflow\\python\\keras\\optimizer_v2\\optimizer_v2.py:374: UserWarning: The `lr` argument is deprecated, use `learning_rate` instead.\n",
      "  warnings.warn(\n"
     ]
    },
    {
     "name": "stdout",
     "output_type": "stream",
     "text": [
      "\n",
      "\n",
      "Tested 39/50 iterations.\n",
      "Best MAE - Validation Dataset\n",
      "  MAE: 4.9 | sMAPE: 15.06 %\n",
      "\n",
      "Best MAE - Test Dataset\n",
      "  MAE: 9.1 | sMAPE: 15.36 %\n"
     ]
    },
    {
     "name": "stderr",
     "output_type": "stream",
     "text": [
      "C:\\Users\\35250\\AppData\\Roaming\\Python\\Python38\\site-packages\\tensorflow\\python\\keras\\optimizer_v2\\optimizer_v2.py:374: UserWarning: The `lr` argument is deprecated, use `learning_rate` instead.\n",
      "  warnings.warn(\n"
     ]
    },
    {
     "name": "stdout",
     "output_type": "stream",
     "text": [
      "\n",
      "\n",
      "Tested 40/50 iterations.\n",
      "Best MAE - Validation Dataset\n",
      "  MAE: 4.9 | sMAPE: 15.06 %\n",
      "\n",
      "Best MAE - Test Dataset\n",
      "  MAE: 9.1 | sMAPE: 15.36 %\n"
     ]
    },
    {
     "name": "stderr",
     "output_type": "stream",
     "text": [
      "C:\\Users\\35250\\AppData\\Roaming\\Python\\Python38\\site-packages\\tensorflow\\python\\keras\\optimizer_v2\\optimizer_v2.py:374: UserWarning: The `lr` argument is deprecated, use `learning_rate` instead.\n",
      "  warnings.warn(\n"
     ]
    },
    {
     "name": "stdout",
     "output_type": "stream",
     "text": [
      "\n",
      "\n",
      "Tested 41/50 iterations.\n",
      "Best MAE - Validation Dataset\n",
      "  MAE: 4.9 | sMAPE: 15.06 %\n",
      "\n",
      "Best MAE - Test Dataset\n",
      "  MAE: 9.1 | sMAPE: 15.36 %\n"
     ]
    },
    {
     "name": "stderr",
     "output_type": "stream",
     "text": [
      "C:\\Users\\35250\\AppData\\Roaming\\Python\\Python38\\site-packages\\tensorflow\\python\\keras\\optimizer_v2\\optimizer_v2.py:374: UserWarning: The `lr` argument is deprecated, use `learning_rate` instead.\n",
      "  warnings.warn(\n"
     ]
    },
    {
     "name": "stdout",
     "output_type": "stream",
     "text": [
      "\n",
      "\n",
      "Tested 42/50 iterations.\n",
      "Best MAE - Validation Dataset\n",
      "  MAE: 4.9 | sMAPE: 15.06 %\n",
      "\n",
      "Best MAE - Test Dataset\n",
      "  MAE: 9.1 | sMAPE: 15.36 %\n"
     ]
    },
    {
     "name": "stderr",
     "output_type": "stream",
     "text": [
      "C:\\Users\\35250\\AppData\\Roaming\\Python\\Python38\\site-packages\\tensorflow\\python\\keras\\optimizer_v2\\optimizer_v2.py:374: UserWarning: The `lr` argument is deprecated, use `learning_rate` instead.\n",
      "  warnings.warn(\n"
     ]
    },
    {
     "name": "stdout",
     "output_type": "stream",
     "text": [
      "\n",
      "\n",
      "Tested 43/50 iterations.\n",
      "Best MAE - Validation Dataset\n",
      "  MAE: 4.9 | sMAPE: 15.06 %\n",
      "\n",
      "Best MAE - Test Dataset\n",
      "  MAE: 9.1 | sMAPE: 15.36 %\n",
      "\n",
      "\n",
      "Tested 44/50 iterations.\n",
      "Best MAE - Validation Dataset\n",
      "  MAE: 4.9 | sMAPE: 15.06 %\n",
      "\n",
      "Best MAE - Test Dataset\n",
      "  MAE: 9.1 | sMAPE: 15.36 %\n"
     ]
    },
    {
     "name": "stderr",
     "output_type": "stream",
     "text": [
      "C:\\Users\\35250\\AppData\\Roaming\\Python\\Python38\\site-packages\\tensorflow\\python\\keras\\optimizer_v2\\optimizer_v2.py:374: UserWarning: The `lr` argument is deprecated, use `learning_rate` instead.\n",
      "  warnings.warn(\n"
     ]
    },
    {
     "name": "stdout",
     "output_type": "stream",
     "text": [
      "\n",
      "\n",
      "Tested 45/50 iterations.\n",
      "Best MAE - Validation Dataset\n",
      "  MAE: 4.9 | sMAPE: 15.06 %\n",
      "\n",
      "Best MAE - Test Dataset\n",
      "  MAE: 9.1 | sMAPE: 15.36 %\n"
     ]
    },
    {
     "name": "stderr",
     "output_type": "stream",
     "text": [
      "C:\\Users\\35250\\AppData\\Roaming\\Python\\Python38\\site-packages\\tensorflow\\python\\keras\\optimizer_v2\\optimizer_v2.py:374: UserWarning: The `lr` argument is deprecated, use `learning_rate` instead.\n",
      "  warnings.warn(\n"
     ]
    },
    {
     "name": "stdout",
     "output_type": "stream",
     "text": [
      "\n",
      "\n",
      "Tested 46/50 iterations.\n",
      "Best MAE - Validation Dataset\n",
      "  MAE: 4.9 | sMAPE: 15.06 %\n",
      "\n",
      "Best MAE - Test Dataset\n",
      "  MAE: 9.1 | sMAPE: 15.36 %\n"
     ]
    },
    {
     "name": "stderr",
     "output_type": "stream",
     "text": [
      "C:\\Users\\35250\\AppData\\Roaming\\Python\\Python38\\site-packages\\tensorflow\\python\\keras\\optimizer_v2\\optimizer_v2.py:374: UserWarning: The `lr` argument is deprecated, use `learning_rate` instead.\n",
      "  warnings.warn(\n"
     ]
    },
    {
     "name": "stdout",
     "output_type": "stream",
     "text": [
      "\n",
      "\n",
      "Tested 47/50 iterations.\n",
      "Best MAE - Validation Dataset\n",
      "  MAE: 4.9 | sMAPE: 15.06 %\n",
      "\n",
      "Best MAE - Test Dataset\n",
      "  MAE: 9.1 | sMAPE: 15.36 %\n",
      "\n",
      "\n",
      "Tested 48/50 iterations.\n",
      "Best MAE - Validation Dataset\n",
      "  MAE: 4.9 | sMAPE: 15.06 %\n",
      "\n",
      "Best MAE - Test Dataset\n",
      "  MAE: 9.1 | sMAPE: 15.36 %\n"
     ]
    },
    {
     "name": "stderr",
     "output_type": "stream",
     "text": [
      "C:\\Users\\35250\\AppData\\Roaming\\Python\\Python38\\site-packages\\tensorflow\\python\\keras\\optimizer_v2\\optimizer_v2.py:374: UserWarning: The `lr` argument is deprecated, use `learning_rate` instead.\n",
      "  warnings.warn(\n"
     ]
    },
    {
     "name": "stdout",
     "output_type": "stream",
     "text": [
      "\n",
      "\n",
      "Tested 49/50 iterations.\n",
      "Best MAE - Validation Dataset\n",
      "  MAE: 4.9 | sMAPE: 15.06 %\n",
      "\n",
      "Best MAE - Test Dataset\n",
      "  MAE: 9.1 | sMAPE: 15.36 %\n"
     ]
    },
    {
     "name": "stderr",
     "output_type": "stream",
     "text": [
      "C:\\Users\\35250\\AppData\\Roaming\\Python\\Python38\\site-packages\\tensorflow\\python\\keras\\optimizer_v2\\optimizer_v2.py:374: UserWarning: The `lr` argument is deprecated, use `learning_rate` instead.\n",
      "  warnings.warn(\n"
     ]
    }
   ],
   "source": [
    "# Number of layers in DNN\n",
    "nlayers = 2\n",
    "\n",
    "# data to study\n",
    "dataset = 'auctionData_final'\n",
    "\n",
    "# 1 year is considered as 364 days (52 weeks)\n",
    "# years_test = 1\n",
    "\n",
    "# Optional parameters for selecting the test dataset\n",
    "begin_test_date = '2021-01-18'\n",
    "end_test_date = '2021-04-18'\n",
    "\n",
    "# Boolean that selects whether the validation and training datasets are shuffled\n",
    "shuffle_train = 1\n",
    "\n",
    "# Boolean that selects whether a data augmentation technique for DNNs is used\n",
    "data_augmentation = 0\n",
    "\n",
    "# Boolean that selects whether we start a new hyperparameter optimization or we restart an existing one\n",
    "new_hyperopt = 1\n",
    "\n",
    "# Number of years used in the training dataset for recalibration\n",
    "calibration_window = 1\n",
    "\n",
    "# Unique identifier to read the trials file of hyperparameter optimization\n",
    "experiment_id = 4\n",
    "\n",
    "# Number of iterations for hyperparameter optimization\n",
    "max_evals = 50\n",
    "\n",
    "# path_datasets_folder = \"./datasets/\"\n",
    "# path_hyperparameters_folder = \"./experimental_files/\"\n",
    "\n",
    "hyperparameter_optimizer(path_datasets_folder = 'final datasets',\n",
    "                         path_hyperparameters_folder = 'hyperparameter_dnn/auc_January',\n",
    "                         new_hyperopt = new_hyperopt,\n",
    "                         max_evals = max_evals,\n",
    "                         nlayers = nlayers,\n",
    "                         dataset = dataset, \n",
    "                         #years_test = years_test,\n",
    "                         calibration_window = calibration_window, \n",
    "                         shuffle_train = shuffle_train,\n",
    "                         data_augmentation = data_augmentation,\n",
    "                         experiment_id = experiment_id,\n",
    "                         begin_test_date = begin_test_date,\n",
    "                         end_test_date = end_test_date)"
   ]
  },
  {
   "cell_type": "code",
   "execution_count": 9,
   "id": "170fd52f",
   "metadata": {},
   "outputs": [
    {
     "name": "stdout",
     "output_type": "stream",
     "text": [
      "Test datasets: 2020-07-20 00:00:00 - 2020-10-18 23:00:00\n"
     ]
    },
    {
     "name": "stderr",
     "output_type": "stream",
     "text": [
      "C:\\Users\\35250\\AppData\\Roaming\\Python\\Python38\\site-packages\\tensorflow\\python\\keras\\optimizer_v2\\optimizer_v2.py:374: UserWarning: The `lr` argument is deprecated, use `learning_rate` instead.\n",
      "  warnings.warn(\n"
     ]
    },
    {
     "name": "stdout",
     "output_type": "stream",
     "text": [
      "\n",
      "\n",
      "Tested 1/50 iterations.\n",
      "Best MAE - Validation Dataset\n",
      "  MAE: 4.1 | sMAPE: 15.83 %\n",
      "\n",
      "Best MAE - Test Dataset\n",
      "  MAE: 5.4 | sMAPE: 13.09 %\n"
     ]
    },
    {
     "name": "stderr",
     "output_type": "stream",
     "text": [
      "C:\\Users\\35250\\AppData\\Roaming\\Python\\Python38\\site-packages\\tensorflow\\python\\keras\\optimizer_v2\\optimizer_v2.py:374: UserWarning: The `lr` argument is deprecated, use `learning_rate` instead.\n",
      "  warnings.warn(\n"
     ]
    },
    {
     "name": "stdout",
     "output_type": "stream",
     "text": [
      "\n",
      "\n",
      "Tested 2/50 iterations.\n",
      "Best MAE - Validation Dataset\n",
      "  MAE: 4.1 | sMAPE: 15.83 %\n",
      "\n",
      "Best MAE - Test Dataset\n",
      "  MAE: 5.4 | sMAPE: 13.09 %\n"
     ]
    },
    {
     "name": "stderr",
     "output_type": "stream",
     "text": [
      "C:\\Users\\35250\\AppData\\Roaming\\Python\\Python38\\site-packages\\tensorflow\\python\\keras\\optimizer_v2\\optimizer_v2.py:374: UserWarning: The `lr` argument is deprecated, use `learning_rate` instead.\n",
      "  warnings.warn(\n"
     ]
    },
    {
     "name": "stdout",
     "output_type": "stream",
     "text": [
      "\n",
      "\n",
      "Tested 3/50 iterations.\n",
      "Best MAE - Validation Dataset\n",
      "  MAE: 4.1 | sMAPE: 15.83 %\n",
      "\n",
      "Best MAE - Test Dataset\n",
      "  MAE: 5.4 | sMAPE: 13.09 %\n"
     ]
    },
    {
     "name": "stderr",
     "output_type": "stream",
     "text": [
      "C:\\Users\\35250\\AppData\\Roaming\\Python\\Python38\\site-packages\\tensorflow\\python\\keras\\optimizer_v2\\optimizer_v2.py:374: UserWarning: The `lr` argument is deprecated, use `learning_rate` instead.\n",
      "  warnings.warn(\n"
     ]
    },
    {
     "name": "stdout",
     "output_type": "stream",
     "text": [
      "\n",
      "\n",
      "Tested 4/50 iterations.\n",
      "Best MAE - Validation Dataset\n",
      "  MAE: 4.1 | sMAPE: 15.83 %\n",
      "\n",
      "Best MAE - Test Dataset\n",
      "  MAE: 5.4 | sMAPE: 13.09 %\n"
     ]
    },
    {
     "name": "stderr",
     "output_type": "stream",
     "text": [
      "C:\\Users\\35250\\AppData\\Roaming\\Python\\Python38\\site-packages\\tensorflow\\python\\keras\\optimizer_v2\\optimizer_v2.py:374: UserWarning: The `lr` argument is deprecated, use `learning_rate` instead.\n",
      "  warnings.warn(\n"
     ]
    },
    {
     "name": "stdout",
     "output_type": "stream",
     "text": [
      "\n",
      "\n",
      "Tested 5/50 iterations.\n",
      "Best MAE - Validation Dataset\n",
      "  MAE: 4.1 | sMAPE: 15.83 %\n",
      "\n",
      "Best MAE - Test Dataset\n",
      "  MAE: 5.4 | sMAPE: 13.09 %\n"
     ]
    },
    {
     "name": "stderr",
     "output_type": "stream",
     "text": [
      "C:\\Users\\35250\\AppData\\Roaming\\Python\\Python38\\site-packages\\tensorflow\\python\\keras\\optimizer_v2\\optimizer_v2.py:374: UserWarning: The `lr` argument is deprecated, use `learning_rate` instead.\n",
      "  warnings.warn(\n"
     ]
    },
    {
     "name": "stdout",
     "output_type": "stream",
     "text": [
      "\n",
      "\n",
      "Tested 6/50 iterations.\n",
      "Best MAE - Validation Dataset\n",
      "  MAE: 4.1 | sMAPE: 15.83 %\n",
      "\n",
      "Best MAE - Test Dataset\n",
      "  MAE: 5.4 | sMAPE: 13.09 %\n"
     ]
    },
    {
     "name": "stderr",
     "output_type": "stream",
     "text": [
      "C:\\Users\\35250\\AppData\\Roaming\\Python\\Python38\\site-packages\\tensorflow\\python\\keras\\optimizer_v2\\optimizer_v2.py:374: UserWarning: The `lr` argument is deprecated, use `learning_rate` instead.\n",
      "  warnings.warn(\n"
     ]
    },
    {
     "name": "stdout",
     "output_type": "stream",
     "text": [
      "\n",
      "\n",
      "Tested 7/50 iterations.\n",
      "Best MAE - Validation Dataset\n",
      "  MAE: 4.1 | sMAPE: 15.83 %\n",
      "\n",
      "Best MAE - Test Dataset\n",
      "  MAE: 5.4 | sMAPE: 13.09 %\n"
     ]
    },
    {
     "name": "stderr",
     "output_type": "stream",
     "text": [
      "C:\\Users\\35250\\AppData\\Roaming\\Python\\Python38\\site-packages\\tensorflow\\python\\keras\\optimizer_v2\\optimizer_v2.py:374: UserWarning: The `lr` argument is deprecated, use `learning_rate` instead.\n",
      "  warnings.warn(\n"
     ]
    },
    {
     "name": "stdout",
     "output_type": "stream",
     "text": [
      "\n",
      "\n",
      "Tested 8/50 iterations.\n",
      "Best MAE - Validation Dataset\n",
      "  MAE: 3.6 | sMAPE: 14.54 %\n",
      "\n",
      "Best MAE - Test Dataset\n",
      "  MAE: 5.8 | sMAPE: 15.15 %\n"
     ]
    },
    {
     "name": "stderr",
     "output_type": "stream",
     "text": [
      "C:\\Users\\35250\\AppData\\Roaming\\Python\\Python38\\site-packages\\tensorflow\\python\\keras\\optimizer_v2\\optimizer_v2.py:374: UserWarning: The `lr` argument is deprecated, use `learning_rate` instead.\n",
      "  warnings.warn(\n"
     ]
    },
    {
     "name": "stdout",
     "output_type": "stream",
     "text": [
      "\n",
      "\n",
      "Tested 9/50 iterations.\n",
      "Best MAE - Validation Dataset\n",
      "  MAE: 3.6 | sMAPE: 14.54 %\n",
      "\n",
      "Best MAE - Test Dataset\n",
      "  MAE: 5.8 | sMAPE: 15.15 %\n"
     ]
    },
    {
     "name": "stderr",
     "output_type": "stream",
     "text": [
      "C:\\Users\\35250\\AppData\\Roaming\\Python\\Python38\\site-packages\\tensorflow\\python\\keras\\optimizer_v2\\optimizer_v2.py:374: UserWarning: The `lr` argument is deprecated, use `learning_rate` instead.\n",
      "  warnings.warn(\n"
     ]
    },
    {
     "name": "stdout",
     "output_type": "stream",
     "text": [
      "\n",
      "\n",
      "Tested 10/50 iterations.\n",
      "Best MAE - Validation Dataset\n",
      "  MAE: 3.6 | sMAPE: 14.54 %\n",
      "\n",
      "Best MAE - Test Dataset\n",
      "  MAE: 5.8 | sMAPE: 15.15 %\n"
     ]
    },
    {
     "name": "stderr",
     "output_type": "stream",
     "text": [
      "C:\\Users\\35250\\AppData\\Roaming\\Python\\Python38\\site-packages\\tensorflow\\python\\keras\\optimizer_v2\\optimizer_v2.py:374: UserWarning: The `lr` argument is deprecated, use `learning_rate` instead.\n",
      "  warnings.warn(\n"
     ]
    },
    {
     "name": "stdout",
     "output_type": "stream",
     "text": [
      "\n",
      "\n",
      "Tested 11/50 iterations.\n",
      "Best MAE - Validation Dataset\n",
      "  MAE: 3.6 | sMAPE: 14.54 %\n",
      "\n",
      "Best MAE - Test Dataset\n",
      "  MAE: 5.8 | sMAPE: 15.15 %\n"
     ]
    },
    {
     "name": "stderr",
     "output_type": "stream",
     "text": [
      "C:\\Users\\35250\\AppData\\Roaming\\Python\\Python38\\site-packages\\tensorflow\\python\\keras\\optimizer_v2\\optimizer_v2.py:374: UserWarning: The `lr` argument is deprecated, use `learning_rate` instead.\n",
      "  warnings.warn(\n"
     ]
    },
    {
     "name": "stdout",
     "output_type": "stream",
     "text": [
      "\n",
      "\n",
      "Tested 12/50 iterations.\n",
      "Best MAE - Validation Dataset\n",
      "  MAE: 3.6 | sMAPE: 14.54 %\n",
      "\n",
      "Best MAE - Test Dataset\n",
      "  MAE: 5.8 | sMAPE: 15.15 %\n"
     ]
    },
    {
     "name": "stderr",
     "output_type": "stream",
     "text": [
      "C:\\Users\\35250\\AppData\\Roaming\\Python\\Python38\\site-packages\\tensorflow\\python\\keras\\optimizer_v2\\optimizer_v2.py:374: UserWarning: The `lr` argument is deprecated, use `learning_rate` instead.\n",
      "  warnings.warn(\n"
     ]
    },
    {
     "name": "stdout",
     "output_type": "stream",
     "text": [
      "\n",
      "\n",
      "Tested 13/50 iterations.\n",
      "Best MAE - Validation Dataset\n",
      "  MAE: 3.6 | sMAPE: 14.54 %\n",
      "\n",
      "Best MAE - Test Dataset\n",
      "  MAE: 5.8 | sMAPE: 15.15 %\n"
     ]
    },
    {
     "name": "stderr",
     "output_type": "stream",
     "text": [
      "C:\\Users\\35250\\AppData\\Roaming\\Python\\Python38\\site-packages\\tensorflow\\python\\keras\\optimizer_v2\\optimizer_v2.py:374: UserWarning: The `lr` argument is deprecated, use `learning_rate` instead.\n",
      "  warnings.warn(\n"
     ]
    },
    {
     "name": "stdout",
     "output_type": "stream",
     "text": [
      "\n",
      "\n",
      "Tested 14/50 iterations.\n",
      "Best MAE - Validation Dataset\n",
      "  MAE: 3.6 | sMAPE: 14.54 %\n",
      "\n",
      "Best MAE - Test Dataset\n",
      "  MAE: 5.8 | sMAPE: 15.15 %\n"
     ]
    },
    {
     "name": "stderr",
     "output_type": "stream",
     "text": [
      "C:\\Users\\35250\\AppData\\Roaming\\Python\\Python38\\site-packages\\tensorflow\\python\\keras\\optimizer_v2\\optimizer_v2.py:374: UserWarning: The `lr` argument is deprecated, use `learning_rate` instead.\n",
      "  warnings.warn(\n"
     ]
    },
    {
     "name": "stdout",
     "output_type": "stream",
     "text": [
      "\n",
      "\n",
      "Tested 15/50 iterations.\n",
      "Best MAE - Validation Dataset\n",
      "  MAE: 3.6 | sMAPE: 14.54 %\n",
      "\n",
      "Best MAE - Test Dataset\n",
      "  MAE: 5.8 | sMAPE: 15.15 %\n"
     ]
    },
    {
     "name": "stderr",
     "output_type": "stream",
     "text": [
      "C:\\Users\\35250\\AppData\\Roaming\\Python\\Python38\\site-packages\\tensorflow\\python\\keras\\optimizer_v2\\optimizer_v2.py:374: UserWarning: The `lr` argument is deprecated, use `learning_rate` instead.\n",
      "  warnings.warn(\n"
     ]
    },
    {
     "name": "stdout",
     "output_type": "stream",
     "text": [
      "\n",
      "\n",
      "Tested 16/50 iterations.\n",
      "Best MAE - Validation Dataset\n",
      "  MAE: 3.6 | sMAPE: 14.54 %\n",
      "\n",
      "Best MAE - Test Dataset\n",
      "  MAE: 5.8 | sMAPE: 15.15 %\n"
     ]
    },
    {
     "name": "stderr",
     "output_type": "stream",
     "text": [
      "C:\\Users\\35250\\AppData\\Roaming\\Python\\Python38\\site-packages\\tensorflow\\python\\keras\\optimizer_v2\\optimizer_v2.py:374: UserWarning: The `lr` argument is deprecated, use `learning_rate` instead.\n",
      "  warnings.warn(\n"
     ]
    },
    {
     "name": "stdout",
     "output_type": "stream",
     "text": [
      "\n",
      "\n",
      "Tested 17/50 iterations.\n",
      "Best MAE - Validation Dataset\n",
      "  MAE: 3.6 | sMAPE: 14.54 %\n",
      "\n",
      "Best MAE - Test Dataset\n",
      "  MAE: 5.8 | sMAPE: 15.15 %\n"
     ]
    },
    {
     "name": "stderr",
     "output_type": "stream",
     "text": [
      "C:\\Users\\35250\\AppData\\Roaming\\Python\\Python38\\site-packages\\tensorflow\\python\\keras\\optimizer_v2\\optimizer_v2.py:374: UserWarning: The `lr` argument is deprecated, use `learning_rate` instead.\n",
      "  warnings.warn(\n"
     ]
    },
    {
     "name": "stdout",
     "output_type": "stream",
     "text": [
      "\n",
      "\n",
      "Tested 18/50 iterations.\n",
      "Best MAE - Validation Dataset\n",
      "  MAE: 3.6 | sMAPE: 14.54 %\n",
      "\n",
      "Best MAE - Test Dataset\n",
      "  MAE: 5.8 | sMAPE: 15.15 %\n"
     ]
    },
    {
     "name": "stderr",
     "output_type": "stream",
     "text": [
      "C:\\Users\\35250\\AppData\\Roaming\\Python\\Python38\\site-packages\\tensorflow\\python\\keras\\optimizer_v2\\optimizer_v2.py:374: UserWarning: The `lr` argument is deprecated, use `learning_rate` instead.\n",
      "  warnings.warn(\n"
     ]
    },
    {
     "name": "stdout",
     "output_type": "stream",
     "text": [
      "\n",
      "\n",
      "Tested 19/50 iterations.\n",
      "Best MAE - Validation Dataset\n",
      "  MAE: 3.6 | sMAPE: 14.54 %\n",
      "\n",
      "Best MAE - Test Dataset\n",
      "  MAE: 5.8 | sMAPE: 15.15 %\n"
     ]
    },
    {
     "name": "stderr",
     "output_type": "stream",
     "text": [
      "C:\\Users\\35250\\AppData\\Roaming\\Python\\Python38\\site-packages\\tensorflow\\python\\keras\\optimizer_v2\\optimizer_v2.py:374: UserWarning: The `lr` argument is deprecated, use `learning_rate` instead.\n",
      "  warnings.warn(\n"
     ]
    },
    {
     "name": "stdout",
     "output_type": "stream",
     "text": [
      "\n",
      "\n",
      "Tested 20/50 iterations.\n",
      "Best MAE - Validation Dataset\n",
      "  MAE: 3.6 | sMAPE: 14.54 %\n",
      "\n",
      "Best MAE - Test Dataset\n",
      "  MAE: 5.8 | sMAPE: 15.15 %\n"
     ]
    },
    {
     "name": "stderr",
     "output_type": "stream",
     "text": [
      "C:\\Users\\35250\\AppData\\Roaming\\Python\\Python38\\site-packages\\tensorflow\\python\\keras\\optimizer_v2\\optimizer_v2.py:374: UserWarning: The `lr` argument is deprecated, use `learning_rate` instead.\n",
      "  warnings.warn(\n"
     ]
    },
    {
     "name": "stdout",
     "output_type": "stream",
     "text": [
      "\n",
      "\n",
      "Tested 21/50 iterations.\n",
      "Best MAE - Validation Dataset\n",
      "  MAE: 3.6 | sMAPE: 14.54 %\n",
      "\n",
      "Best MAE - Test Dataset\n",
      "  MAE: 5.8 | sMAPE: 15.15 %\n"
     ]
    },
    {
     "name": "stderr",
     "output_type": "stream",
     "text": [
      "C:\\Users\\35250\\AppData\\Roaming\\Python\\Python38\\site-packages\\tensorflow\\python\\keras\\optimizer_v2\\optimizer_v2.py:374: UserWarning: The `lr` argument is deprecated, use `learning_rate` instead.\n",
      "  warnings.warn(\n"
     ]
    },
    {
     "name": "stdout",
     "output_type": "stream",
     "text": [
      "\n",
      "\n",
      "Tested 22/50 iterations.\n",
      "Best MAE - Validation Dataset\n",
      "  MAE: 3.6 | sMAPE: 14.54 %\n",
      "\n",
      "Best MAE - Test Dataset\n",
      "  MAE: 5.8 | sMAPE: 15.15 %\n"
     ]
    },
    {
     "name": "stderr",
     "output_type": "stream",
     "text": [
      "C:\\Users\\35250\\AppData\\Roaming\\Python\\Python38\\site-packages\\tensorflow\\python\\keras\\optimizer_v2\\optimizer_v2.py:374: UserWarning: The `lr` argument is deprecated, use `learning_rate` instead.\n",
      "  warnings.warn(\n"
     ]
    },
    {
     "name": "stdout",
     "output_type": "stream",
     "text": [
      "\n",
      "\n",
      "Tested 23/50 iterations.\n",
      "Best MAE - Validation Dataset\n",
      "  MAE: 3.6 | sMAPE: 14.54 %\n",
      "\n",
      "Best MAE - Test Dataset\n",
      "  MAE: 5.8 | sMAPE: 15.15 %\n"
     ]
    },
    {
     "name": "stderr",
     "output_type": "stream",
     "text": [
      "C:\\Users\\35250\\AppData\\Roaming\\Python\\Python38\\site-packages\\tensorflow\\python\\keras\\optimizer_v2\\optimizer_v2.py:374: UserWarning: The `lr` argument is deprecated, use `learning_rate` instead.\n",
      "  warnings.warn(\n"
     ]
    },
    {
     "name": "stdout",
     "output_type": "stream",
     "text": [
      "\n",
      "\n",
      "Tested 24/50 iterations.\n",
      "Best MAE - Validation Dataset\n",
      "  MAE: 3.5 | sMAPE: 14.31 %\n",
      "\n",
      "Best MAE - Test Dataset\n",
      "  MAE: 6.1 | sMAPE: 16.67 %\n"
     ]
    },
    {
     "name": "stderr",
     "output_type": "stream",
     "text": [
      "C:\\Users\\35250\\AppData\\Roaming\\Python\\Python38\\site-packages\\tensorflow\\python\\keras\\optimizer_v2\\optimizer_v2.py:374: UserWarning: The `lr` argument is deprecated, use `learning_rate` instead.\n",
      "  warnings.warn(\n"
     ]
    },
    {
     "name": "stdout",
     "output_type": "stream",
     "text": [
      "\n",
      "\n",
      "Tested 25/50 iterations.\n",
      "Best MAE - Validation Dataset\n",
      "  MAE: 3.5 | sMAPE: 14.31 %\n",
      "\n",
      "Best MAE - Test Dataset\n",
      "  MAE: 6.1 | sMAPE: 16.67 %\n"
     ]
    },
    {
     "name": "stderr",
     "output_type": "stream",
     "text": [
      "C:\\Users\\35250\\AppData\\Roaming\\Python\\Python38\\site-packages\\tensorflow\\python\\keras\\optimizer_v2\\optimizer_v2.py:374: UserWarning: The `lr` argument is deprecated, use `learning_rate` instead.\n",
      "  warnings.warn(\n"
     ]
    },
    {
     "name": "stdout",
     "output_type": "stream",
     "text": [
      "\n",
      "\n",
      "Tested 26/50 iterations.\n",
      "Best MAE - Validation Dataset\n",
      "  MAE: 3.5 | sMAPE: 14.31 %\n",
      "\n",
      "Best MAE - Test Dataset\n",
      "  MAE: 6.1 | sMAPE: 16.67 %\n",
      "\n",
      "\n",
      "Tested 27/50 iterations.\n",
      "Best MAE - Validation Dataset\n",
      "  MAE: 3.5 | sMAPE: 14.31 %\n",
      "\n",
      "Best MAE - Test Dataset\n",
      "  MAE: 6.1 | sMAPE: 16.67 %\n",
      "\n",
      "\n",
      "Tested 28/50 iterations.\n",
      "Best MAE - Validation Dataset\n",
      "  MAE: 3.5 | sMAPE: 14.31 %\n",
      "\n",
      "Best MAE - Test Dataset\n",
      "  MAE: 6.1 | sMAPE: 16.67 %\n",
      "\n",
      "\n",
      "Tested 29/50 iterations.\n",
      "Best MAE - Validation Dataset\n",
      "  MAE: 3.5 | sMAPE: 14.31 %\n",
      "\n",
      "Best MAE - Test Dataset\n",
      "  MAE: 6.1 | sMAPE: 16.67 %\n"
     ]
    },
    {
     "name": "stderr",
     "output_type": "stream",
     "text": [
      "C:\\Users\\35250\\AppData\\Roaming\\Python\\Python38\\site-packages\\tensorflow\\python\\keras\\optimizer_v2\\optimizer_v2.py:374: UserWarning: The `lr` argument is deprecated, use `learning_rate` instead.\n",
      "  warnings.warn(\n"
     ]
    },
    {
     "name": "stdout",
     "output_type": "stream",
     "text": [
      "\n",
      "\n",
      "Tested 30/50 iterations.\n",
      "Best MAE - Validation Dataset\n",
      "  MAE: 3.5 | sMAPE: 14.31 %\n",
      "\n",
      "Best MAE - Test Dataset\n",
      "  MAE: 6.1 | sMAPE: 16.67 %\n"
     ]
    },
    {
     "name": "stderr",
     "output_type": "stream",
     "text": [
      "C:\\Users\\35250\\AppData\\Roaming\\Python\\Python38\\site-packages\\tensorflow\\python\\keras\\optimizer_v2\\optimizer_v2.py:374: UserWarning: The `lr` argument is deprecated, use `learning_rate` instead.\n",
      "  warnings.warn(\n"
     ]
    },
    {
     "name": "stdout",
     "output_type": "stream",
     "text": [
      "\n",
      "\n",
      "Tested 31/50 iterations.\n",
      "Best MAE - Validation Dataset\n",
      "  MAE: 3.5 | sMAPE: 14.31 %\n",
      "\n",
      "Best MAE - Test Dataset\n",
      "  MAE: 6.1 | sMAPE: 16.67 %\n"
     ]
    },
    {
     "name": "stderr",
     "output_type": "stream",
     "text": [
      "C:\\Users\\35250\\AppData\\Roaming\\Python\\Python38\\site-packages\\tensorflow\\python\\keras\\optimizer_v2\\optimizer_v2.py:374: UserWarning: The `lr` argument is deprecated, use `learning_rate` instead.\n",
      "  warnings.warn(\n"
     ]
    },
    {
     "name": "stdout",
     "output_type": "stream",
     "text": [
      "\n",
      "\n",
      "Tested 32/50 iterations.\n",
      "Best MAE - Validation Dataset\n",
      "  MAE: 3.5 | sMAPE: 14.31 %\n",
      "\n",
      "Best MAE - Test Dataset\n",
      "  MAE: 6.1 | sMAPE: 16.67 %\n"
     ]
    },
    {
     "name": "stderr",
     "output_type": "stream",
     "text": [
      "C:\\Users\\35250\\AppData\\Roaming\\Python\\Python38\\site-packages\\tensorflow\\python\\keras\\optimizer_v2\\optimizer_v2.py:374: UserWarning: The `lr` argument is deprecated, use `learning_rate` instead.\n",
      "  warnings.warn(\n"
     ]
    },
    {
     "name": "stdout",
     "output_type": "stream",
     "text": [
      "\n",
      "\n",
      "Tested 33/50 iterations.\n",
      "Best MAE - Validation Dataset\n",
      "  MAE: 3.5 | sMAPE: 14.31 %\n",
      "\n",
      "Best MAE - Test Dataset\n",
      "  MAE: 6.1 | sMAPE: 16.67 %\n"
     ]
    },
    {
     "name": "stderr",
     "output_type": "stream",
     "text": [
      "C:\\Users\\35250\\AppData\\Roaming\\Python\\Python38\\site-packages\\tensorflow\\python\\keras\\optimizer_v2\\optimizer_v2.py:374: UserWarning: The `lr` argument is deprecated, use `learning_rate` instead.\n",
      "  warnings.warn(\n"
     ]
    },
    {
     "name": "stdout",
     "output_type": "stream",
     "text": [
      "\n",
      "\n",
      "Tested 34/50 iterations.\n",
      "Best MAE - Validation Dataset\n",
      "  MAE: 3.5 | sMAPE: 14.31 %\n",
      "\n",
      "Best MAE - Test Dataset\n",
      "  MAE: 6.1 | sMAPE: 16.67 %\n"
     ]
    },
    {
     "name": "stderr",
     "output_type": "stream",
     "text": [
      "C:\\Users\\35250\\AppData\\Roaming\\Python\\Python38\\site-packages\\tensorflow\\python\\keras\\optimizer_v2\\optimizer_v2.py:374: UserWarning: The `lr` argument is deprecated, use `learning_rate` instead.\n",
      "  warnings.warn(\n"
     ]
    },
    {
     "name": "stdout",
     "output_type": "stream",
     "text": [
      "\n",
      "\n",
      "Tested 35/50 iterations.\n",
      "Best MAE - Validation Dataset\n",
      "  MAE: 3.5 | sMAPE: 14.31 %\n",
      "\n",
      "Best MAE - Test Dataset\n",
      "  MAE: 6.1 | sMAPE: 16.67 %\n"
     ]
    },
    {
     "name": "stderr",
     "output_type": "stream",
     "text": [
      "C:\\Users\\35250\\AppData\\Roaming\\Python\\Python38\\site-packages\\tensorflow\\python\\keras\\optimizer_v2\\optimizer_v2.py:374: UserWarning: The `lr` argument is deprecated, use `learning_rate` instead.\n",
      "  warnings.warn(\n"
     ]
    },
    {
     "name": "stdout",
     "output_type": "stream",
     "text": [
      "\n",
      "\n",
      "Tested 36/50 iterations.\n",
      "Best MAE - Validation Dataset\n",
      "  MAE: 3.5 | sMAPE: 14.31 %\n",
      "\n",
      "Best MAE - Test Dataset\n",
      "  MAE: 6.1 | sMAPE: 16.67 %\n"
     ]
    },
    {
     "name": "stderr",
     "output_type": "stream",
     "text": [
      "C:\\Users\\35250\\AppData\\Roaming\\Python\\Python38\\site-packages\\tensorflow\\python\\keras\\optimizer_v2\\optimizer_v2.py:374: UserWarning: The `lr` argument is deprecated, use `learning_rate` instead.\n",
      "  warnings.warn(\n"
     ]
    },
    {
     "name": "stdout",
     "output_type": "stream",
     "text": [
      "\n",
      "\n",
      "Tested 37/50 iterations.\n",
      "Best MAE - Validation Dataset\n",
      "  MAE: 3.4 | sMAPE: 14.00 %\n",
      "\n",
      "Best MAE - Test Dataset\n",
      "  MAE: 6.4 | sMAPE: 18.88 %\n"
     ]
    },
    {
     "name": "stderr",
     "output_type": "stream",
     "text": [
      "C:\\Users\\35250\\AppData\\Roaming\\Python\\Python38\\site-packages\\tensorflow\\python\\keras\\optimizer_v2\\optimizer_v2.py:374: UserWarning: The `lr` argument is deprecated, use `learning_rate` instead.\n",
      "  warnings.warn(\n"
     ]
    },
    {
     "name": "stdout",
     "output_type": "stream",
     "text": [
      "\n",
      "\n",
      "Tested 38/50 iterations.\n",
      "Best MAE - Validation Dataset\n",
      "  MAE: 3.4 | sMAPE: 14.00 %\n",
      "\n",
      "Best MAE - Test Dataset\n",
      "  MAE: 6.4 | sMAPE: 18.88 %\n"
     ]
    },
    {
     "name": "stderr",
     "output_type": "stream",
     "text": [
      "C:\\Users\\35250\\AppData\\Roaming\\Python\\Python38\\site-packages\\tensorflow\\python\\keras\\optimizer_v2\\optimizer_v2.py:374: UserWarning: The `lr` argument is deprecated, use `learning_rate` instead.\n",
      "  warnings.warn(\n"
     ]
    },
    {
     "name": "stdout",
     "output_type": "stream",
     "text": [
      "\n",
      "\n",
      "Tested 39/50 iterations.\n",
      "Best MAE - Validation Dataset\n",
      "  MAE: 3.4 | sMAPE: 14.00 %\n",
      "\n",
      "Best MAE - Test Dataset\n",
      "  MAE: 6.4 | sMAPE: 18.88 %\n"
     ]
    },
    {
     "name": "stderr",
     "output_type": "stream",
     "text": [
      "C:\\Users\\35250\\AppData\\Roaming\\Python\\Python38\\site-packages\\tensorflow\\python\\keras\\optimizer_v2\\optimizer_v2.py:374: UserWarning: The `lr` argument is deprecated, use `learning_rate` instead.\n",
      "  warnings.warn(\n"
     ]
    },
    {
     "name": "stdout",
     "output_type": "stream",
     "text": [
      "\n",
      "\n",
      "Tested 40/50 iterations.\n",
      "Best MAE - Validation Dataset\n",
      "  MAE: 3.4 | sMAPE: 14.00 %\n",
      "\n",
      "Best MAE - Test Dataset\n",
      "  MAE: 6.4 | sMAPE: 18.88 %\n"
     ]
    },
    {
     "name": "stderr",
     "output_type": "stream",
     "text": [
      "C:\\Users\\35250\\AppData\\Roaming\\Python\\Python38\\site-packages\\tensorflow\\python\\keras\\optimizer_v2\\optimizer_v2.py:374: UserWarning: The `lr` argument is deprecated, use `learning_rate` instead.\n",
      "  warnings.warn(\n"
     ]
    },
    {
     "name": "stdout",
     "output_type": "stream",
     "text": [
      "\n",
      "\n",
      "Tested 41/50 iterations.\n",
      "Best MAE - Validation Dataset\n",
      "  MAE: 3.4 | sMAPE: 14.00 %\n",
      "\n",
      "Best MAE - Test Dataset\n",
      "  MAE: 6.4 | sMAPE: 18.88 %\n",
      "\n",
      "\n",
      "Tested 42/50 iterations.\n",
      "Best MAE - Validation Dataset\n",
      "  MAE: 3.4 | sMAPE: 14.00 %\n",
      "\n",
      "Best MAE - Test Dataset\n",
      "  MAE: 6.4 | sMAPE: 18.88 %\n"
     ]
    },
    {
     "name": "stderr",
     "output_type": "stream",
     "text": [
      "C:\\Users\\35250\\AppData\\Roaming\\Python\\Python38\\site-packages\\tensorflow\\python\\keras\\optimizer_v2\\optimizer_v2.py:374: UserWarning: The `lr` argument is deprecated, use `learning_rate` instead.\n",
      "  warnings.warn(\n"
     ]
    },
    {
     "name": "stdout",
     "output_type": "stream",
     "text": [
      "\n",
      "\n",
      "Tested 43/50 iterations.\n",
      "Best MAE - Validation Dataset\n",
      "  MAE: 3.4 | sMAPE: 14.00 %\n",
      "\n",
      "Best MAE - Test Dataset\n",
      "  MAE: 6.4 | sMAPE: 18.88 %\n"
     ]
    },
    {
     "name": "stderr",
     "output_type": "stream",
     "text": [
      "C:\\Users\\35250\\AppData\\Roaming\\Python\\Python38\\site-packages\\tensorflow\\python\\keras\\optimizer_v2\\optimizer_v2.py:374: UserWarning: The `lr` argument is deprecated, use `learning_rate` instead.\n",
      "  warnings.warn(\n"
     ]
    },
    {
     "name": "stdout",
     "output_type": "stream",
     "text": [
      "\n",
      "\n",
      "Tested 44/50 iterations.\n",
      "Best MAE - Validation Dataset\n",
      "  MAE: 3.4 | sMAPE: 13.44 %\n",
      "\n",
      "Best MAE - Test Dataset\n",
      "  MAE: 5.5 | sMAPE: 14.32 %\n"
     ]
    },
    {
     "name": "stderr",
     "output_type": "stream",
     "text": [
      "C:\\Users\\35250\\AppData\\Roaming\\Python\\Python38\\site-packages\\tensorflow\\python\\keras\\optimizer_v2\\optimizer_v2.py:374: UserWarning: The `lr` argument is deprecated, use `learning_rate` instead.\n",
      "  warnings.warn(\n"
     ]
    },
    {
     "name": "stdout",
     "output_type": "stream",
     "text": [
      "\n",
      "\n",
      "Tested 45/50 iterations.\n",
      "Best MAE - Validation Dataset\n",
      "  MAE: 3.4 | sMAPE: 13.44 %\n",
      "\n",
      "Best MAE - Test Dataset\n",
      "  MAE: 5.5 | sMAPE: 14.32 %\n"
     ]
    },
    {
     "name": "stderr",
     "output_type": "stream",
     "text": [
      "C:\\Users\\35250\\AppData\\Roaming\\Python\\Python38\\site-packages\\tensorflow\\python\\keras\\optimizer_v2\\optimizer_v2.py:374: UserWarning: The `lr` argument is deprecated, use `learning_rate` instead.\n",
      "  warnings.warn(\n"
     ]
    },
    {
     "name": "stdout",
     "output_type": "stream",
     "text": [
      "\n",
      "\n",
      "Tested 46/50 iterations.\n",
      "Best MAE - Validation Dataset\n",
      "  MAE: 3.4 | sMAPE: 13.44 %\n",
      "\n",
      "Best MAE - Test Dataset\n",
      "  MAE: 5.5 | sMAPE: 14.32 %\n"
     ]
    },
    {
     "name": "stderr",
     "output_type": "stream",
     "text": [
      "C:\\Users\\35250\\AppData\\Roaming\\Python\\Python38\\site-packages\\tensorflow\\python\\keras\\optimizer_v2\\optimizer_v2.py:374: UserWarning: The `lr` argument is deprecated, use `learning_rate` instead.\n",
      "  warnings.warn(\n"
     ]
    },
    {
     "name": "stdout",
     "output_type": "stream",
     "text": [
      "\n",
      "\n",
      "Tested 47/50 iterations.\n",
      "Best MAE - Validation Dataset\n",
      "  MAE: 3.4 | sMAPE: 13.44 %\n",
      "\n",
      "Best MAE - Test Dataset\n",
      "  MAE: 5.5 | sMAPE: 14.32 %\n"
     ]
    },
    {
     "name": "stderr",
     "output_type": "stream",
     "text": [
      "C:\\Users\\35250\\AppData\\Roaming\\Python\\Python38\\site-packages\\tensorflow\\python\\keras\\optimizer_v2\\optimizer_v2.py:374: UserWarning: The `lr` argument is deprecated, use `learning_rate` instead.\n",
      "  warnings.warn(\n"
     ]
    },
    {
     "name": "stdout",
     "output_type": "stream",
     "text": [
      "\n",
      "\n",
      "Tested 48/50 iterations.\n",
      "Best MAE - Validation Dataset\n",
      "  MAE: 3.4 | sMAPE: 13.44 %\n",
      "\n",
      "Best MAE - Test Dataset\n",
      "  MAE: 5.5 | sMAPE: 14.32 %\n"
     ]
    },
    {
     "name": "stderr",
     "output_type": "stream",
     "text": [
      "C:\\Users\\35250\\AppData\\Roaming\\Python\\Python38\\site-packages\\tensorflow\\python\\keras\\optimizer_v2\\optimizer_v2.py:374: UserWarning: The `lr` argument is deprecated, use `learning_rate` instead.\n",
      "  warnings.warn(\n"
     ]
    },
    {
     "name": "stdout",
     "output_type": "stream",
     "text": [
      "\n",
      "\n",
      "Tested 49/50 iterations.\n",
      "Best MAE - Validation Dataset\n",
      "  MAE: 3.4 | sMAPE: 13.44 %\n",
      "\n",
      "Best MAE - Test Dataset\n",
      "  MAE: 5.5 | sMAPE: 14.32 %\n"
     ]
    },
    {
     "name": "stderr",
     "output_type": "stream",
     "text": [
      "C:\\Users\\35250\\AppData\\Roaming\\Python\\Python38\\site-packages\\tensorflow\\python\\keras\\optimizer_v2\\optimizer_v2.py:374: UserWarning: The `lr` argument is deprecated, use `learning_rate` instead.\n",
      "  warnings.warn(\n"
     ]
    }
   ],
   "source": [
    "# Number of layers in DNN\n",
    "nlayers = 2\n",
    "\n",
    "# data to study\n",
    "dataset = 'auctionData_final'\n",
    "\n",
    "# 1 year is considered as 364 days (52 weeks)\n",
    "# years_test = 1\n",
    "\n",
    "# Optional parameters for selecting the test dataset\n",
    "begin_test_date = '2020-07-20'\n",
    "end_test_date = '2020-10-18'\n",
    "\n",
    "# Boolean that selects whether the validation and training datasets are shuffled\n",
    "shuffle_train = 1\n",
    "\n",
    "# Boolean that selects whether a data augmentation technique for DNNs is used\n",
    "data_augmentation = 0\n",
    "\n",
    "# Boolean that selects whether we start a new hyperparameter optimization or we restart an existing one\n",
    "new_hyperopt = 1\n",
    "\n",
    "# Number of years used in the training dataset for recalibration\n",
    "calibration_window = 1\n",
    "\n",
    "# Unique identifier to read the trials file of hyperparameter optimization\n",
    "experiment_id = 4\n",
    "\n",
    "# Number of iterations for hyperparameter optimization\n",
    "max_evals = 50\n",
    "\n",
    "# path_datasets_folder = \"./datasets/\"\n",
    "# path_hyperparameters_folder = \"./experimental_files/\"\n",
    "\n",
    "hyperparameter_optimizer(path_datasets_folder = 'final datasets',\n",
    "                         path_hyperparameters_folder = 'hyperparameter_dnn/auc_July',\n",
    "                         new_hyperopt = new_hyperopt,\n",
    "                         max_evals = max_evals,\n",
    "                         nlayers = nlayers,\n",
    "                         dataset = dataset, \n",
    "                         #years_test = years_test,\n",
    "                         calibration_window = calibration_window, \n",
    "                         shuffle_train = shuffle_train,\n",
    "                         data_augmentation = data_augmentation,\n",
    "                         experiment_id = experiment_id,\n",
    "                         begin_test_date = begin_test_date,\n",
    "                         end_test_date = end_test_date)"
   ]
  },
  {
   "cell_type": "markdown",
   "id": "13f24b80",
   "metadata": {},
   "source": [
    "# test"
   ]
  },
  {
   "cell_type": "code",
   "execution_count": 10,
   "id": "aff591ba",
   "metadata": {
    "scrolled": true
   },
   "outputs": [
    {
     "name": "stdout",
     "output_type": "stream",
     "text": [
      "Test datasets: 2020-07-20 00:00:00 - 2020-07-26 23:00:00\n"
     ]
    },
    {
     "name": "stderr",
     "output_type": "stream",
     "text": [
      "C:\\Users\\35250\\AppData\\Roaming\\Python\\Python38\\site-packages\\tensorflow\\python\\keras\\optimizer_v2\\optimizer_v2.py:374: UserWarning: The `lr` argument is deprecated, use `learning_rate` instead.\n",
      "  warnings.warn(\n"
     ]
    },
    {
     "name": "stdout",
     "output_type": "stream",
     "text": [
      "2020-07-20 - sMAPE: 29.84%  |  MAE: 6.140\n"
     ]
    },
    {
     "name": "stderr",
     "output_type": "stream",
     "text": [
      "C:\\Users\\35250\\AppData\\Roaming\\Python\\Python38\\site-packages\\tensorflow\\python\\keras\\optimizer_v2\\optimizer_v2.py:374: UserWarning: The `lr` argument is deprecated, use `learning_rate` instead.\n",
      "  warnings.warn(\n"
     ]
    },
    {
     "name": "stdout",
     "output_type": "stream",
     "text": [
      "2020-07-21 - sMAPE: 24.84%  |  MAE: 5.748\n"
     ]
    },
    {
     "name": "stderr",
     "output_type": "stream",
     "text": [
      "C:\\Users\\35250\\AppData\\Roaming\\Python\\Python38\\site-packages\\tensorflow\\python\\keras\\optimizer_v2\\optimizer_v2.py:374: UserWarning: The `lr` argument is deprecated, use `learning_rate` instead.\n",
      "  warnings.warn(\n"
     ]
    },
    {
     "name": "stdout",
     "output_type": "stream",
     "text": [
      "2020-07-22 - sMAPE: 29.50%  |  MAE: 6.706\n"
     ]
    },
    {
     "name": "stderr",
     "output_type": "stream",
     "text": [
      "C:\\Users\\35250\\AppData\\Roaming\\Python\\Python38\\site-packages\\tensorflow\\python\\keras\\optimizer_v2\\optimizer_v2.py:374: UserWarning: The `lr` argument is deprecated, use `learning_rate` instead.\n",
      "  warnings.warn(\n"
     ]
    },
    {
     "name": "stdout",
     "output_type": "stream",
     "text": [
      "2020-07-23 - sMAPE: 29.21%  |  MAE: 6.992\n"
     ]
    },
    {
     "name": "stderr",
     "output_type": "stream",
     "text": [
      "C:\\Users\\35250\\AppData\\Roaming\\Python\\Python38\\site-packages\\tensorflow\\python\\keras\\optimizer_v2\\optimizer_v2.py:374: UserWarning: The `lr` argument is deprecated, use `learning_rate` instead.\n",
      "  warnings.warn(\n"
     ]
    },
    {
     "name": "stdout",
     "output_type": "stream",
     "text": [
      "2020-07-24 - sMAPE: 27.71%  |  MAE: 7.088\n"
     ]
    },
    {
     "name": "stderr",
     "output_type": "stream",
     "text": [
      "C:\\Users\\35250\\AppData\\Roaming\\Python\\Python38\\site-packages\\tensorflow\\python\\keras\\optimizer_v2\\optimizer_v2.py:374: UserWarning: The `lr` argument is deprecated, use `learning_rate` instead.\n",
      "  warnings.warn(\n"
     ]
    },
    {
     "name": "stdout",
     "output_type": "stream",
     "text": [
      "2020-07-25 - sMAPE: 28.49%  |  MAE: 7.171\n"
     ]
    },
    {
     "name": "stderr",
     "output_type": "stream",
     "text": [
      "C:\\Users\\35250\\AppData\\Roaming\\Python\\Python38\\site-packages\\tensorflow\\python\\keras\\optimizer_v2\\optimizer_v2.py:374: UserWarning: The `lr` argument is deprecated, use `learning_rate` instead.\n",
      "  warnings.warn(\n"
     ]
    },
    {
     "name": "stdout",
     "output_type": "stream",
     "text": [
      "2020-07-26 - sMAPE: 28.74%  |  MAE: 7.092\n"
     ]
    },
    {
     "data": {
      "text/html": [
       "<div>\n",
       "<style scoped>\n",
       "    .dataframe tbody tr th:only-of-type {\n",
       "        vertical-align: middle;\n",
       "    }\n",
       "\n",
       "    .dataframe tbody tr th {\n",
       "        vertical-align: top;\n",
       "    }\n",
       "\n",
       "    .dataframe thead th {\n",
       "        text-align: right;\n",
       "    }\n",
       "</style>\n",
       "<table border=\"1\" class=\"dataframe\">\n",
       "  <thead>\n",
       "    <tr style=\"text-align: right;\">\n",
       "      <th></th>\n",
       "      <th>h0</th>\n",
       "      <th>h1</th>\n",
       "      <th>h2</th>\n",
       "      <th>h3</th>\n",
       "      <th>h4</th>\n",
       "      <th>h5</th>\n",
       "      <th>h6</th>\n",
       "      <th>h7</th>\n",
       "      <th>h8</th>\n",
       "      <th>h9</th>\n",
       "      <th>...</th>\n",
       "      <th>h14</th>\n",
       "      <th>h15</th>\n",
       "      <th>h16</th>\n",
       "      <th>h17</th>\n",
       "      <th>h18</th>\n",
       "      <th>h19</th>\n",
       "      <th>h20</th>\n",
       "      <th>h21</th>\n",
       "      <th>h22</th>\n",
       "      <th>h23</th>\n",
       "    </tr>\n",
       "    <tr>\n",
       "      <th>datetime</th>\n",
       "      <th></th>\n",
       "      <th></th>\n",
       "      <th></th>\n",
       "      <th></th>\n",
       "      <th></th>\n",
       "      <th></th>\n",
       "      <th></th>\n",
       "      <th></th>\n",
       "      <th></th>\n",
       "      <th></th>\n",
       "      <th></th>\n",
       "      <th></th>\n",
       "      <th></th>\n",
       "      <th></th>\n",
       "      <th></th>\n",
       "      <th></th>\n",
       "      <th></th>\n",
       "      <th></th>\n",
       "      <th></th>\n",
       "      <th></th>\n",
       "      <th></th>\n",
       "    </tr>\n",
       "  </thead>\n",
       "  <tbody>\n",
       "    <tr>\n",
       "      <th>2020-07-20</th>\n",
       "      <td>12.689186</td>\n",
       "      <td>16.106995</td>\n",
       "      <td>23.190331</td>\n",
       "      <td>15.213546</td>\n",
       "      <td>25.04459</td>\n",
       "      <td>36.463364</td>\n",
       "      <td>33.366627</td>\n",
       "      <td>39.074223</td>\n",
       "      <td>8.700439</td>\n",
       "      <td>16.122097</td>\n",
       "      <td>...</td>\n",
       "      <td>32.090973</td>\n",
       "      <td>5.605894</td>\n",
       "      <td>7.392612</td>\n",
       "      <td>13.271263</td>\n",
       "      <td>15.023573</td>\n",
       "      <td>40.038818</td>\n",
       "      <td>35.755775</td>\n",
       "      <td>43.874306</td>\n",
       "      <td>42.703537</td>\n",
       "      <td>23.796501</td>\n",
       "    </tr>\n",
       "    <tr>\n",
       "      <th>2020-07-21</th>\n",
       "      <td>31.182621</td>\n",
       "      <td>35.620613</td>\n",
       "      <td>40.159927</td>\n",
       "      <td>40.007694</td>\n",
       "      <td>40.404541</td>\n",
       "      <td>38.848743</td>\n",
       "      <td>38.538918</td>\n",
       "      <td>36.536098</td>\n",
       "      <td>39.759995</td>\n",
       "      <td>39.290424</td>\n",
       "      <td>...</td>\n",
       "      <td>39.437874</td>\n",
       "      <td>23.020845</td>\n",
       "      <td>11.676294</td>\n",
       "      <td>31.98877</td>\n",
       "      <td>49.718491</td>\n",
       "      <td>26.429255</td>\n",
       "      <td>47.582832</td>\n",
       "      <td>44.245506</td>\n",
       "      <td>39.112831</td>\n",
       "      <td>27.799232</td>\n",
       "    </tr>\n",
       "    <tr>\n",
       "      <th>2020-07-22</th>\n",
       "      <td>24.440796</td>\n",
       "      <td>34.913342</td>\n",
       "      <td>30.421661</td>\n",
       "      <td>36.089298</td>\n",
       "      <td>36.405548</td>\n",
       "      <td>27.455875</td>\n",
       "      <td>26.684032</td>\n",
       "      <td>37.016449</td>\n",
       "      <td>18.933989</td>\n",
       "      <td>25.157505</td>\n",
       "      <td>...</td>\n",
       "      <td>11.055868</td>\n",
       "      <td>16.476723</td>\n",
       "      <td>45.152344</td>\n",
       "      <td>44.792866</td>\n",
       "      <td>52.149876</td>\n",
       "      <td>46.089413</td>\n",
       "      <td>37.335266</td>\n",
       "      <td>39.937531</td>\n",
       "      <td>16.781986</td>\n",
       "      <td>24.224285</td>\n",
       "    </tr>\n",
       "    <tr>\n",
       "      <th>2020-07-23</th>\n",
       "      <td>40.346859</td>\n",
       "      <td>27.047405</td>\n",
       "      <td>33.868607</td>\n",
       "      <td>32.405724</td>\n",
       "      <td>34.346817</td>\n",
       "      <td>36.359203</td>\n",
       "      <td>35.490269</td>\n",
       "      <td>35.804821</td>\n",
       "      <td>42.22197</td>\n",
       "      <td>40.252186</td>\n",
       "      <td>...</td>\n",
       "      <td>12.616648</td>\n",
       "      <td>13.68488</td>\n",
       "      <td>38.116119</td>\n",
       "      <td>45.2407</td>\n",
       "      <td>47.461552</td>\n",
       "      <td>44.937889</td>\n",
       "      <td>41.482006</td>\n",
       "      <td>44.602764</td>\n",
       "      <td>42.47319</td>\n",
       "      <td>37.504578</td>\n",
       "    </tr>\n",
       "    <tr>\n",
       "      <th>2020-07-24</th>\n",
       "      <td>34.532452</td>\n",
       "      <td>35.443043</td>\n",
       "      <td>37.064571</td>\n",
       "      <td>29.18055</td>\n",
       "      <td>26.716084</td>\n",
       "      <td>33.46748</td>\n",
       "      <td>43.012955</td>\n",
       "      <td>36.674377</td>\n",
       "      <td>52.746674</td>\n",
       "      <td>46.782906</td>\n",
       "      <td>...</td>\n",
       "      <td>39.697899</td>\n",
       "      <td>15.749189</td>\n",
       "      <td>16.500338</td>\n",
       "      <td>41.553459</td>\n",
       "      <td>27.931814</td>\n",
       "      <td>48.959663</td>\n",
       "      <td>45.96809</td>\n",
       "      <td>49.329605</td>\n",
       "      <td>42.000565</td>\n",
       "      <td>19.058426</td>\n",
       "    </tr>\n",
       "    <tr>\n",
       "      <th>2020-07-25</th>\n",
       "      <td>24.527409</td>\n",
       "      <td>14.144825</td>\n",
       "      <td>25.187546</td>\n",
       "      <td>34.492344</td>\n",
       "      <td>38.412155</td>\n",
       "      <td>36.035851</td>\n",
       "      <td>28.610947</td>\n",
       "      <td>19.482391</td>\n",
       "      <td>28.081211</td>\n",
       "      <td>37.687603</td>\n",
       "      <td>...</td>\n",
       "      <td>48.62529</td>\n",
       "      <td>50.555344</td>\n",
       "      <td>52.100517</td>\n",
       "      <td>57.747375</td>\n",
       "      <td>53.217999</td>\n",
       "      <td>57.0448</td>\n",
       "      <td>50.663902</td>\n",
       "      <td>48.502956</td>\n",
       "      <td>43.280663</td>\n",
       "      <td>35.458805</td>\n",
       "    </tr>\n",
       "    <tr>\n",
       "      <th>2020-07-26</th>\n",
       "      <td>42.314201</td>\n",
       "      <td>18.477921</td>\n",
       "      <td>34.964188</td>\n",
       "      <td>46.424992</td>\n",
       "      <td>44.538109</td>\n",
       "      <td>40.532509</td>\n",
       "      <td>40.034576</td>\n",
       "      <td>41.254768</td>\n",
       "      <td>9.493412</td>\n",
       "      <td>31.726717</td>\n",
       "      <td>...</td>\n",
       "      <td>4.68012</td>\n",
       "      <td>20.295933</td>\n",
       "      <td>20.673147</td>\n",
       "      <td>46.331898</td>\n",
       "      <td>42.03717</td>\n",
       "      <td>19.542345</td>\n",
       "      <td>15.180426</td>\n",
       "      <td>42.322411</td>\n",
       "      <td>32.442078</td>\n",
       "      <td>31.307417</td>\n",
       "    </tr>\n",
       "  </tbody>\n",
       "</table>\n",
       "<p>7 rows × 24 columns</p>\n",
       "</div>"
      ],
      "text/plain": [
       "                   h0         h1         h2         h3         h4         h5  \\\n",
       "datetime                                                                       \n",
       "2020-07-20  12.689186  16.106995  23.190331  15.213546   25.04459  36.463364   \n",
       "2020-07-21  31.182621  35.620613  40.159927  40.007694  40.404541  38.848743   \n",
       "2020-07-22  24.440796  34.913342  30.421661  36.089298  36.405548  27.455875   \n",
       "2020-07-23  40.346859  27.047405  33.868607  32.405724  34.346817  36.359203   \n",
       "2020-07-24  34.532452  35.443043  37.064571   29.18055  26.716084   33.46748   \n",
       "2020-07-25  24.527409  14.144825  25.187546  34.492344  38.412155  36.035851   \n",
       "2020-07-26  42.314201  18.477921  34.964188  46.424992  44.538109  40.532509   \n",
       "\n",
       "                   h6         h7         h8         h9  ...        h14  \\\n",
       "datetime                                                ...              \n",
       "2020-07-20  33.366627  39.074223   8.700439  16.122097  ...  32.090973   \n",
       "2020-07-21  38.538918  36.536098  39.759995  39.290424  ...  39.437874   \n",
       "2020-07-22  26.684032  37.016449  18.933989  25.157505  ...  11.055868   \n",
       "2020-07-23  35.490269  35.804821   42.22197  40.252186  ...  12.616648   \n",
       "2020-07-24  43.012955  36.674377  52.746674  46.782906  ...  39.697899   \n",
       "2020-07-25  28.610947  19.482391  28.081211  37.687603  ...   48.62529   \n",
       "2020-07-26  40.034576  41.254768   9.493412  31.726717  ...    4.68012   \n",
       "\n",
       "                  h15        h16        h17        h18        h19        h20  \\\n",
       "datetime                                                                       \n",
       "2020-07-20   5.605894   7.392612  13.271263  15.023573  40.038818  35.755775   \n",
       "2020-07-21  23.020845  11.676294   31.98877  49.718491  26.429255  47.582832   \n",
       "2020-07-22  16.476723  45.152344  44.792866  52.149876  46.089413  37.335266   \n",
       "2020-07-23   13.68488  38.116119    45.2407  47.461552  44.937889  41.482006   \n",
       "2020-07-24  15.749189  16.500338  41.553459  27.931814  48.959663   45.96809   \n",
       "2020-07-25  50.555344  52.100517  57.747375  53.217999    57.0448  50.663902   \n",
       "2020-07-26  20.295933  20.673147  46.331898   42.03717  19.542345  15.180426   \n",
       "\n",
       "                  h21        h22        h23  \n",
       "datetime                                     \n",
       "2020-07-20  43.874306  42.703537  23.796501  \n",
       "2020-07-21  44.245506  39.112831  27.799232  \n",
       "2020-07-22  39.937531  16.781986  24.224285  \n",
       "2020-07-23  44.602764   42.47319  37.504578  \n",
       "2020-07-24  49.329605  42.000565  19.058426  \n",
       "2020-07-25  48.502956  43.280663  35.458805  \n",
       "2020-07-26  42.322411  32.442078  31.307417  \n",
       "\n",
       "[7 rows x 24 columns]"
      ]
     },
     "execution_count": 10,
     "metadata": {},
     "output_type": "execute_result"
    }
   ],
   "source": [
    "# Number of layers in DNN\n",
    "nlayers = 2\n",
    "\n",
    "# data to study\n",
    "dataset = 'imbalanceData_final'\n",
    "\n",
    "# 1 year is considered as 364 days (52 weeks)\n",
    "# years_test = 1\n",
    "\n",
    "# Optional parameters for selecting the test dataset\n",
    "begin_test_date = '2020-07-20'\n",
    "end_test_date = '2020-07-26'\n",
    "\n",
    "# for recalibration the validation and the training datasets are always shuffled\n",
    "shuffle_train = 1\n",
    "\n",
    "# Boolean that selects whether a data augmentation technique for DNNs is used\n",
    "data_augmentation = 0\n",
    "\n",
    "# Boolean that selects whether we start a new recalibration or we restart an existing one\n",
    "new_recalibration = 1\n",
    "\n",
    "# Number of years used in the training dataset for recalibration\n",
    "calibration_window = 1\n",
    "\n",
    "# Unique identifier to read the trials file of hyperparameter optimization\n",
    "experiment_id = 2\n",
    "\n",
    "# Set up the paths for saving data (this are the defaults for the library)\n",
    "# path_datasets_folder = os.path.join('.', 'datasets')\n",
    "# path_recalibration_folder = os.path.join('.', 'experimental_files')\n",
    "# path_hyperparameter_folder = os.path.join('.', 'experimental_files')\n",
    "\n",
    "evaluate_dnn_in_test_dataset(experiment_id,\n",
    "                             path_hyperparameter_folder = 'hyperparameter_dnn/imb_July',\n",
    "                             path_datasets_folder = 'final datasets',\n",
    "                             shuffle_train = shuffle_train,\n",
    "                             path_recalibration_folder = 'forecast results/DNN/imb_July',\n",
    "                             nlayers = nlayers,\n",
    "                             dataset = dataset,\n",
    "                             #years_test = years_test,\n",
    "                             data_augmentation = data_augmentation,\n",
    "                             calibration_window = calibration_window,\n",
    "                             new_recalibration = new_recalibration,\n",
    "                             begin_test_date = begin_test_date,\n",
    "                             end_test_date = end_test_date)"
   ]
  },
  {
   "cell_type": "code",
   "execution_count": 11,
   "id": "5016308d",
   "metadata": {
    "scrolled": true
   },
   "outputs": [
    {
     "name": "stdout",
     "output_type": "stream",
     "text": [
      "Test datasets: 2020-10-19 00:00:00 - 2020-10-25 23:00:00\n"
     ]
    },
    {
     "name": "stderr",
     "output_type": "stream",
     "text": [
      "C:\\Users\\35250\\AppData\\Roaming\\Python\\Python38\\site-packages\\tensorflow\\python\\keras\\optimizer_v2\\optimizer_v2.py:374: UserWarning: The `lr` argument is deprecated, use `learning_rate` instead.\n",
      "  warnings.warn(\n"
     ]
    },
    {
     "name": "stdout",
     "output_type": "stream",
     "text": [
      "2020-10-19 - sMAPE: 33.87%  |  MAE: 13.166\n",
      "2020-10-20 - sMAPE: 34.37%  |  MAE: 13.882\n",
      "2020-10-21 - sMAPE: 37.25%  |  MAE: 14.105\n",
      "2020-10-22 - sMAPE: 36.23%  |  MAE: 13.781\n",
      "2020-10-23 - sMAPE: 33.91%  |  MAE: 13.511\n",
      "2020-10-24 - sMAPE: 35.56%  |  MAE: 13.153\n",
      "2020-10-25 - sMAPE: 42.30%  |  MAE: 14.829\n"
     ]
    },
    {
     "data": {
      "text/html": [
       "<div>\n",
       "<style scoped>\n",
       "    .dataframe tbody tr th:only-of-type {\n",
       "        vertical-align: middle;\n",
       "    }\n",
       "\n",
       "    .dataframe tbody tr th {\n",
       "        vertical-align: top;\n",
       "    }\n",
       "\n",
       "    .dataframe thead th {\n",
       "        text-align: right;\n",
       "    }\n",
       "</style>\n",
       "<table border=\"1\" class=\"dataframe\">\n",
       "  <thead>\n",
       "    <tr style=\"text-align: right;\">\n",
       "      <th></th>\n",
       "      <th>h0</th>\n",
       "      <th>h1</th>\n",
       "      <th>h2</th>\n",
       "      <th>h3</th>\n",
       "      <th>h4</th>\n",
       "      <th>h5</th>\n",
       "      <th>h6</th>\n",
       "      <th>h7</th>\n",
       "      <th>h8</th>\n",
       "      <th>h9</th>\n",
       "      <th>...</th>\n",
       "      <th>h14</th>\n",
       "      <th>h15</th>\n",
       "      <th>h16</th>\n",
       "      <th>h17</th>\n",
       "      <th>h18</th>\n",
       "      <th>h19</th>\n",
       "      <th>h20</th>\n",
       "      <th>h21</th>\n",
       "      <th>h22</th>\n",
       "      <th>h23</th>\n",
       "    </tr>\n",
       "    <tr>\n",
       "      <th>datetime</th>\n",
       "      <th></th>\n",
       "      <th></th>\n",
       "      <th></th>\n",
       "      <th></th>\n",
       "      <th></th>\n",
       "      <th></th>\n",
       "      <th></th>\n",
       "      <th></th>\n",
       "      <th></th>\n",
       "      <th></th>\n",
       "      <th></th>\n",
       "      <th></th>\n",
       "      <th></th>\n",
       "      <th></th>\n",
       "      <th></th>\n",
       "      <th></th>\n",
       "      <th></th>\n",
       "      <th></th>\n",
       "      <th></th>\n",
       "      <th></th>\n",
       "      <th></th>\n",
       "    </tr>\n",
       "  </thead>\n",
       "  <tbody>\n",
       "    <tr>\n",
       "      <th>2020-10-19</th>\n",
       "      <td>40.400326</td>\n",
       "      <td>46.342598</td>\n",
       "      <td>40.269169</td>\n",
       "      <td>38.733711</td>\n",
       "      <td>37.797741</td>\n",
       "      <td>37.314743</td>\n",
       "      <td>45.503025</td>\n",
       "      <td>37.193542</td>\n",
       "      <td>47.704231</td>\n",
       "      <td>50.151119</td>\n",
       "      <td>...</td>\n",
       "      <td>18.219114</td>\n",
       "      <td>24.675695</td>\n",
       "      <td>36.069862</td>\n",
       "      <td>52.160397</td>\n",
       "      <td>55.697922</td>\n",
       "      <td>42.101883</td>\n",
       "      <td>34.708149</td>\n",
       "      <td>38.398071</td>\n",
       "      <td>30.152168</td>\n",
       "      <td>34.301296</td>\n",
       "    </tr>\n",
       "    <tr>\n",
       "      <th>2020-10-20</th>\n",
       "      <td>28.34561</td>\n",
       "      <td>27.204172</td>\n",
       "      <td>29.603464</td>\n",
       "      <td>31.951294</td>\n",
       "      <td>31.524126</td>\n",
       "      <td>32.281693</td>\n",
       "      <td>38.990906</td>\n",
       "      <td>31.93996</td>\n",
       "      <td>43.69178</td>\n",
       "      <td>46.935818</td>\n",
       "      <td>...</td>\n",
       "      <td>42.741524</td>\n",
       "      <td>32.485344</td>\n",
       "      <td>34.121147</td>\n",
       "      <td>47.80019</td>\n",
       "      <td>51.497276</td>\n",
       "      <td>45.748302</td>\n",
       "      <td>42.783104</td>\n",
       "      <td>46.094223</td>\n",
       "      <td>42.137959</td>\n",
       "      <td>39.614044</td>\n",
       "    </tr>\n",
       "    <tr>\n",
       "      <th>2020-10-21</th>\n",
       "      <td>16.958195</td>\n",
       "      <td>13.124319</td>\n",
       "      <td>15.220224</td>\n",
       "      <td>11.417042</td>\n",
       "      <td>11.483047</td>\n",
       "      <td>11.62744</td>\n",
       "      <td>24.394249</td>\n",
       "      <td>20.388218</td>\n",
       "      <td>43.173424</td>\n",
       "      <td>47.903431</td>\n",
       "      <td>...</td>\n",
       "      <td>47.759018</td>\n",
       "      <td>40.776398</td>\n",
       "      <td>45.842476</td>\n",
       "      <td>49.282089</td>\n",
       "      <td>53.083496</td>\n",
       "      <td>51.972603</td>\n",
       "      <td>46.30616</td>\n",
       "      <td>43.941833</td>\n",
       "      <td>36.16444</td>\n",
       "      <td>39.002937</td>\n",
       "    </tr>\n",
       "    <tr>\n",
       "      <th>2020-10-22</th>\n",
       "      <td>32.034584</td>\n",
       "      <td>34.482517</td>\n",
       "      <td>29.806149</td>\n",
       "      <td>18.25341</td>\n",
       "      <td>17.840462</td>\n",
       "      <td>22.786345</td>\n",
       "      <td>36.168896</td>\n",
       "      <td>24.147821</td>\n",
       "      <td>41.476757</td>\n",
       "      <td>47.24971</td>\n",
       "      <td>...</td>\n",
       "      <td>35.251698</td>\n",
       "      <td>30.690773</td>\n",
       "      <td>39.926411</td>\n",
       "      <td>53.827209</td>\n",
       "      <td>60.325706</td>\n",
       "      <td>51.823521</td>\n",
       "      <td>41.918461</td>\n",
       "      <td>51.618141</td>\n",
       "      <td>51.16404</td>\n",
       "      <td>47.12558</td>\n",
       "    </tr>\n",
       "    <tr>\n",
       "      <th>2020-10-23</th>\n",
       "      <td>44.917343</td>\n",
       "      <td>49.138554</td>\n",
       "      <td>47.436256</td>\n",
       "      <td>46.7551</td>\n",
       "      <td>42.367565</td>\n",
       "      <td>47.638443</td>\n",
       "      <td>54.805237</td>\n",
       "      <td>45.795704</td>\n",
       "      <td>39.308067</td>\n",
       "      <td>41.104885</td>\n",
       "      <td>...</td>\n",
       "      <td>40.437592</td>\n",
       "      <td>30.117397</td>\n",
       "      <td>31.299618</td>\n",
       "      <td>42.849438</td>\n",
       "      <td>45.33054</td>\n",
       "      <td>47.080772</td>\n",
       "      <td>43.772629</td>\n",
       "      <td>44.288036</td>\n",
       "      <td>33.783092</td>\n",
       "      <td>37.362133</td>\n",
       "    </tr>\n",
       "    <tr>\n",
       "      <th>2020-10-24</th>\n",
       "      <td>19.838646</td>\n",
       "      <td>20.671185</td>\n",
       "      <td>19.837811</td>\n",
       "      <td>16.475998</td>\n",
       "      <td>12.735208</td>\n",
       "      <td>11.096148</td>\n",
       "      <td>22.846087</td>\n",
       "      <td>16.165161</td>\n",
       "      <td>30.915928</td>\n",
       "      <td>41.816978</td>\n",
       "      <td>...</td>\n",
       "      <td>55.4576</td>\n",
       "      <td>48.734615</td>\n",
       "      <td>56.066555</td>\n",
       "      <td>57.753159</td>\n",
       "      <td>61.021858</td>\n",
       "      <td>59.281425</td>\n",
       "      <td>53.212845</td>\n",
       "      <td>53.969208</td>\n",
       "      <td>50.644436</td>\n",
       "      <td>48.461693</td>\n",
       "    </tr>\n",
       "    <tr>\n",
       "      <th>2020-10-25</th>\n",
       "      <td>27.823044</td>\n",
       "      <td>26.958828</td>\n",
       "      <td>16.704243</td>\n",
       "      <td>16.988403</td>\n",
       "      <td>20.999626</td>\n",
       "      <td>29.857861</td>\n",
       "      <td>44.398621</td>\n",
       "      <td>37.699318</td>\n",
       "      <td>47.076244</td>\n",
       "      <td>47.315994</td>\n",
       "      <td>...</td>\n",
       "      <td>36.438148</td>\n",
       "      <td>40.027271</td>\n",
       "      <td>39.981003</td>\n",
       "      <td>56.023228</td>\n",
       "      <td>55.954777</td>\n",
       "      <td>38.883789</td>\n",
       "      <td>28.57753</td>\n",
       "      <td>25.462154</td>\n",
       "      <td>13.879988</td>\n",
       "      <td>29.430408</td>\n",
       "    </tr>\n",
       "  </tbody>\n",
       "</table>\n",
       "<p>7 rows × 24 columns</p>\n",
       "</div>"
      ],
      "text/plain": [
       "                   h0         h1         h2         h3         h4         h5  \\\n",
       "datetime                                                                       \n",
       "2020-10-19  40.400326  46.342598  40.269169  38.733711  37.797741  37.314743   \n",
       "2020-10-20   28.34561  27.204172  29.603464  31.951294  31.524126  32.281693   \n",
       "2020-10-21  16.958195  13.124319  15.220224  11.417042  11.483047   11.62744   \n",
       "2020-10-22  32.034584  34.482517  29.806149   18.25341  17.840462  22.786345   \n",
       "2020-10-23  44.917343  49.138554  47.436256    46.7551  42.367565  47.638443   \n",
       "2020-10-24  19.838646  20.671185  19.837811  16.475998  12.735208  11.096148   \n",
       "2020-10-25  27.823044  26.958828  16.704243  16.988403  20.999626  29.857861   \n",
       "\n",
       "                   h6         h7         h8         h9  ...        h14  \\\n",
       "datetime                                                ...              \n",
       "2020-10-19  45.503025  37.193542  47.704231  50.151119  ...  18.219114   \n",
       "2020-10-20  38.990906   31.93996   43.69178  46.935818  ...  42.741524   \n",
       "2020-10-21  24.394249  20.388218  43.173424  47.903431  ...  47.759018   \n",
       "2020-10-22  36.168896  24.147821  41.476757   47.24971  ...  35.251698   \n",
       "2020-10-23  54.805237  45.795704  39.308067  41.104885  ...  40.437592   \n",
       "2020-10-24  22.846087  16.165161  30.915928  41.816978  ...    55.4576   \n",
       "2020-10-25  44.398621  37.699318  47.076244  47.315994  ...  36.438148   \n",
       "\n",
       "                  h15        h16        h17        h18        h19        h20  \\\n",
       "datetime                                                                       \n",
       "2020-10-19  24.675695  36.069862  52.160397  55.697922  42.101883  34.708149   \n",
       "2020-10-20  32.485344  34.121147   47.80019  51.497276  45.748302  42.783104   \n",
       "2020-10-21  40.776398  45.842476  49.282089  53.083496  51.972603   46.30616   \n",
       "2020-10-22  30.690773  39.926411  53.827209  60.325706  51.823521  41.918461   \n",
       "2020-10-23  30.117397  31.299618  42.849438   45.33054  47.080772  43.772629   \n",
       "2020-10-24  48.734615  56.066555  57.753159  61.021858  59.281425  53.212845   \n",
       "2020-10-25  40.027271  39.981003  56.023228  55.954777  38.883789   28.57753   \n",
       "\n",
       "                  h21        h22        h23  \n",
       "datetime                                     \n",
       "2020-10-19  38.398071  30.152168  34.301296  \n",
       "2020-10-20  46.094223  42.137959  39.614044  \n",
       "2020-10-21  43.941833   36.16444  39.002937  \n",
       "2020-10-22  51.618141   51.16404   47.12558  \n",
       "2020-10-23  44.288036  33.783092  37.362133  \n",
       "2020-10-24  53.969208  50.644436  48.461693  \n",
       "2020-10-25  25.462154  13.879988  29.430408  \n",
       "\n",
       "[7 rows x 24 columns]"
      ]
     },
     "execution_count": 11,
     "metadata": {},
     "output_type": "execute_result"
    }
   ],
   "source": [
    "# Number of layers in DNN\n",
    "nlayers = 2\n",
    "\n",
    "# data to study\n",
    "dataset = 'imbalanceData_final'\n",
    "\n",
    "# 1 year is considered as 364 days (52 weeks)\n",
    "# years_test = 1\n",
    "\n",
    "# Optional parameters for selecting the test dataset\n",
    "begin_test_date = '2020-10-19'\n",
    "end_test_date = '2020-10-25'\n",
    "\n",
    "# for recalibration the validation and the training datasets are always shuffled\n",
    "shuffle_train = 1\n",
    "\n",
    "# Boolean that selects whether a data augmentation technique for DNNs is used\n",
    "data_augmentation = 0\n",
    "\n",
    "# Boolean that selects whether we start a new recalibration or we restart an existing one\n",
    "new_recalibration = 1\n",
    "\n",
    "# Number of years used in the training dataset for recalibration\n",
    "calibration_window = 1\n",
    "\n",
    "# Unique identifier to read the trials file of hyperparameter optimization\n",
    "experiment_id = 2\n",
    "\n",
    "# Set up the paths for saving data (this are the defaults for the library)\n",
    "# path_datasets_folder = os.path.join('.', 'datasets')\n",
    "# path_recalibration_folder = os.path.join('.', 'experimental_files')\n",
    "# path_hyperparameter_folder = os.path.join('.', 'experimental_files')\n",
    "\n",
    "evaluate_dnn_in_test_dataset(experiment_id,\n",
    "                             path_hyperparameter_folder = 'hyperparameter_dnn/imb_October',\n",
    "                             path_datasets_folder = 'final datasets',\n",
    "                             shuffle_train = shuffle_train,\n",
    "                             path_recalibration_folder = 'forecast results/DNN/imb_October',\n",
    "                             nlayers = nlayers,\n",
    "                             dataset = dataset,\n",
    "                             #years_test = years_test,\n",
    "                             data_augmentation = data_augmentation,\n",
    "                             calibration_window = calibration_window,\n",
    "                             new_recalibration = new_recalibration,\n",
    "                             begin_test_date = begin_test_date,\n",
    "                             end_test_date = end_test_date)"
   ]
  },
  {
   "cell_type": "code",
   "execution_count": 12,
   "id": "f4e86126",
   "metadata": {
    "scrolled": true
   },
   "outputs": [
    {
     "name": "stdout",
     "output_type": "stream",
     "text": [
      "Test datasets: 2021-01-18 00:00:00 - 2021-01-24 23:00:00\n"
     ]
    },
    {
     "name": "stderr",
     "output_type": "stream",
     "text": [
      "C:\\Users\\35250\\AppData\\Roaming\\Python\\Python38\\site-packages\\tensorflow\\python\\keras\\optimizer_v2\\optimizer_v2.py:374: UserWarning: The `lr` argument is deprecated, use `learning_rate` instead.\n",
      "  warnings.warn(\n"
     ]
    },
    {
     "name": "stdout",
     "output_type": "stream",
     "text": [
      "2021-01-18 - sMAPE: 45.52%  |  MAE: 22.411\n"
     ]
    },
    {
     "name": "stderr",
     "output_type": "stream",
     "text": [
      "C:\\Users\\35250\\AppData\\Roaming\\Python\\Python38\\site-packages\\tensorflow\\python\\keras\\optimizer_v2\\optimizer_v2.py:374: UserWarning: The `lr` argument is deprecated, use `learning_rate` instead.\n",
      "  warnings.warn(\n"
     ]
    },
    {
     "name": "stdout",
     "output_type": "stream",
     "text": [
      "2021-01-19 - sMAPE: 37.73%  |  MAE: 19.481\n"
     ]
    },
    {
     "name": "stderr",
     "output_type": "stream",
     "text": [
      "C:\\Users\\35250\\AppData\\Roaming\\Python\\Python38\\site-packages\\tensorflow\\python\\keras\\optimizer_v2\\optimizer_v2.py:374: UserWarning: The `lr` argument is deprecated, use `learning_rate` instead.\n",
      "  warnings.warn(\n"
     ]
    },
    {
     "name": "stdout",
     "output_type": "stream",
     "text": [
      "2021-01-20 - sMAPE: 34.60%  |  MAE: 21.284\n"
     ]
    },
    {
     "name": "stderr",
     "output_type": "stream",
     "text": [
      "C:\\Users\\35250\\AppData\\Roaming\\Python\\Python38\\site-packages\\tensorflow\\python\\keras\\optimizer_v2\\optimizer_v2.py:374: UserWarning: The `lr` argument is deprecated, use `learning_rate` instead.\n",
      "  warnings.warn(\n"
     ]
    },
    {
     "name": "stdout",
     "output_type": "stream",
     "text": [
      "2021-01-21 - sMAPE: 33.81%  |  MAE: 20.328\n"
     ]
    },
    {
     "name": "stderr",
     "output_type": "stream",
     "text": [
      "C:\\Users\\35250\\AppData\\Roaming\\Python\\Python38\\site-packages\\tensorflow\\python\\keras\\optimizer_v2\\optimizer_v2.py:374: UserWarning: The `lr` argument is deprecated, use `learning_rate` instead.\n",
      "  warnings.warn(\n"
     ]
    },
    {
     "name": "stdout",
     "output_type": "stream",
     "text": [
      "2021-01-22 - sMAPE: 37.87%  |  MAE: 24.678\n"
     ]
    },
    {
     "name": "stderr",
     "output_type": "stream",
     "text": [
      "C:\\Users\\35250\\AppData\\Roaming\\Python\\Python38\\site-packages\\tensorflow\\python\\keras\\optimizer_v2\\optimizer_v2.py:374: UserWarning: The `lr` argument is deprecated, use `learning_rate` instead.\n",
      "  warnings.warn(\n"
     ]
    },
    {
     "name": "stdout",
     "output_type": "stream",
     "text": [
      "2021-01-23 - sMAPE: 37.22%  |  MAE: 24.502\n"
     ]
    },
    {
     "name": "stderr",
     "output_type": "stream",
     "text": [
      "C:\\Users\\35250\\AppData\\Roaming\\Python\\Python38\\site-packages\\tensorflow\\python\\keras\\optimizer_v2\\optimizer_v2.py:374: UserWarning: The `lr` argument is deprecated, use `learning_rate` instead.\n",
      "  warnings.warn(\n"
     ]
    },
    {
     "name": "stdout",
     "output_type": "stream",
     "text": [
      "2021-01-24 - sMAPE: 40.29%  |  MAE: 26.397\n"
     ]
    },
    {
     "data": {
      "text/html": [
       "<div>\n",
       "<style scoped>\n",
       "    .dataframe tbody tr th:only-of-type {\n",
       "        vertical-align: middle;\n",
       "    }\n",
       "\n",
       "    .dataframe tbody tr th {\n",
       "        vertical-align: top;\n",
       "    }\n",
       "\n",
       "    .dataframe thead th {\n",
       "        text-align: right;\n",
       "    }\n",
       "</style>\n",
       "<table border=\"1\" class=\"dataframe\">\n",
       "  <thead>\n",
       "    <tr style=\"text-align: right;\">\n",
       "      <th></th>\n",
       "      <th>h0</th>\n",
       "      <th>h1</th>\n",
       "      <th>h2</th>\n",
       "      <th>h3</th>\n",
       "      <th>h4</th>\n",
       "      <th>h5</th>\n",
       "      <th>h6</th>\n",
       "      <th>h7</th>\n",
       "      <th>h8</th>\n",
       "      <th>h9</th>\n",
       "      <th>...</th>\n",
       "      <th>h14</th>\n",
       "      <th>h15</th>\n",
       "      <th>h16</th>\n",
       "      <th>h17</th>\n",
       "      <th>h18</th>\n",
       "      <th>h19</th>\n",
       "      <th>h20</th>\n",
       "      <th>h21</th>\n",
       "      <th>h22</th>\n",
       "      <th>h23</th>\n",
       "    </tr>\n",
       "    <tr>\n",
       "      <th>datetime</th>\n",
       "      <th></th>\n",
       "      <th></th>\n",
       "      <th></th>\n",
       "      <th></th>\n",
       "      <th></th>\n",
       "      <th></th>\n",
       "      <th></th>\n",
       "      <th></th>\n",
       "      <th></th>\n",
       "      <th></th>\n",
       "      <th></th>\n",
       "      <th></th>\n",
       "      <th></th>\n",
       "      <th></th>\n",
       "      <th></th>\n",
       "      <th></th>\n",
       "      <th></th>\n",
       "      <th></th>\n",
       "      <th></th>\n",
       "      <th></th>\n",
       "      <th></th>\n",
       "    </tr>\n",
       "  </thead>\n",
       "  <tbody>\n",
       "    <tr>\n",
       "      <th>2021-01-18</th>\n",
       "      <td>39.026775</td>\n",
       "      <td>46.748127</td>\n",
       "      <td>28.135138</td>\n",
       "      <td>32.692413</td>\n",
       "      <td>36.634315</td>\n",
       "      <td>51.80106</td>\n",
       "      <td>58.418629</td>\n",
       "      <td>58.697891</td>\n",
       "      <td>51.05867</td>\n",
       "      <td>74.706657</td>\n",
       "      <td>...</td>\n",
       "      <td>81.39325</td>\n",
       "      <td>53.574436</td>\n",
       "      <td>58.67136</td>\n",
       "      <td>64.464493</td>\n",
       "      <td>66.301315</td>\n",
       "      <td>70.020615</td>\n",
       "      <td>46.244663</td>\n",
       "      <td>56.23518</td>\n",
       "      <td>55.748489</td>\n",
       "      <td>46.814072</td>\n",
       "    </tr>\n",
       "    <tr>\n",
       "      <th>2021-01-19</th>\n",
       "      <td>56.447338</td>\n",
       "      <td>58.078541</td>\n",
       "      <td>50.709343</td>\n",
       "      <td>50.354355</td>\n",
       "      <td>53.65292</td>\n",
       "      <td>58.796108</td>\n",
       "      <td>63.8741</td>\n",
       "      <td>51.760506</td>\n",
       "      <td>59.816422</td>\n",
       "      <td>72.167732</td>\n",
       "      <td>...</td>\n",
       "      <td>64.312492</td>\n",
       "      <td>51.066788</td>\n",
       "      <td>61.155346</td>\n",
       "      <td>76.313904</td>\n",
       "      <td>71.537834</td>\n",
       "      <td>60.45668</td>\n",
       "      <td>45.327961</td>\n",
       "      <td>44.740158</td>\n",
       "      <td>35.305908</td>\n",
       "      <td>37.370365</td>\n",
       "    </tr>\n",
       "    <tr>\n",
       "      <th>2021-01-20</th>\n",
       "      <td>85.267998</td>\n",
       "      <td>87.660065</td>\n",
       "      <td>69.977478</td>\n",
       "      <td>51.101414</td>\n",
       "      <td>61.277496</td>\n",
       "      <td>73.696663</td>\n",
       "      <td>53.234383</td>\n",
       "      <td>74.069252</td>\n",
       "      <td>42.6926</td>\n",
       "      <td>68.838486</td>\n",
       "      <td>...</td>\n",
       "      <td>85.531036</td>\n",
       "      <td>68.981003</td>\n",
       "      <td>74.511528</td>\n",
       "      <td>108.285522</td>\n",
       "      <td>66.546562</td>\n",
       "      <td>85.258728</td>\n",
       "      <td>79.555443</td>\n",
       "      <td>67.543274</td>\n",
       "      <td>68.351707</td>\n",
       "      <td>68.725723</td>\n",
       "    </tr>\n",
       "    <tr>\n",
       "      <th>2021-01-21</th>\n",
       "      <td>61.397022</td>\n",
       "      <td>55.535576</td>\n",
       "      <td>45.813408</td>\n",
       "      <td>37.799603</td>\n",
       "      <td>30.01495</td>\n",
       "      <td>41.506737</td>\n",
       "      <td>64.118629</td>\n",
       "      <td>46.861694</td>\n",
       "      <td>49.184532</td>\n",
       "      <td>62.379417</td>\n",
       "      <td>...</td>\n",
       "      <td>64.857742</td>\n",
       "      <td>57.223568</td>\n",
       "      <td>59.867645</td>\n",
       "      <td>103.329651</td>\n",
       "      <td>90.682449</td>\n",
       "      <td>70.1007</td>\n",
       "      <td>54.266846</td>\n",
       "      <td>69.64267</td>\n",
       "      <td>58.934967</td>\n",
       "      <td>51.66539</td>\n",
       "    </tr>\n",
       "    <tr>\n",
       "      <th>2021-01-22</th>\n",
       "      <td>44.55365</td>\n",
       "      <td>46.646492</td>\n",
       "      <td>34.410519</td>\n",
       "      <td>47.706467</td>\n",
       "      <td>18.047626</td>\n",
       "      <td>37.45023</td>\n",
       "      <td>59.103245</td>\n",
       "      <td>56.688313</td>\n",
       "      <td>63.011951</td>\n",
       "      <td>69.883644</td>\n",
       "      <td>...</td>\n",
       "      <td>73.116646</td>\n",
       "      <td>46.728676</td>\n",
       "      <td>50.404354</td>\n",
       "      <td>112.908188</td>\n",
       "      <td>34.652081</td>\n",
       "      <td>32.055595</td>\n",
       "      <td>63.056801</td>\n",
       "      <td>50.383926</td>\n",
       "      <td>47.531612</td>\n",
       "      <td>51.05867</td>\n",
       "    </tr>\n",
       "    <tr>\n",
       "      <th>2021-01-23</th>\n",
       "      <td>46.790493</td>\n",
       "      <td>63.258011</td>\n",
       "      <td>51.350929</td>\n",
       "      <td>82.675812</td>\n",
       "      <td>64.224129</td>\n",
       "      <td>54.240269</td>\n",
       "      <td>64.613884</td>\n",
       "      <td>48.317352</td>\n",
       "      <td>39.685684</td>\n",
       "      <td>64.338051</td>\n",
       "      <td>...</td>\n",
       "      <td>80.278221</td>\n",
       "      <td>65.386566</td>\n",
       "      <td>89.487244</td>\n",
       "      <td>120.160271</td>\n",
       "      <td>191.70134</td>\n",
       "      <td>193.820419</td>\n",
       "      <td>85.239494</td>\n",
       "      <td>82.735222</td>\n",
       "      <td>74.161377</td>\n",
       "      <td>52.181206</td>\n",
       "    </tr>\n",
       "    <tr>\n",
       "      <th>2021-01-24</th>\n",
       "      <td>63.890491</td>\n",
       "      <td>63.258183</td>\n",
       "      <td>35.68911</td>\n",
       "      <td>43.712845</td>\n",
       "      <td>55.101734</td>\n",
       "      <td>69.675308</td>\n",
       "      <td>110.078766</td>\n",
       "      <td>21.187548</td>\n",
       "      <td>24.372137</td>\n",
       "      <td>36.691334</td>\n",
       "      <td>...</td>\n",
       "      <td>61.261017</td>\n",
       "      <td>79.490669</td>\n",
       "      <td>52.003502</td>\n",
       "      <td>78.723885</td>\n",
       "      <td>6.73627</td>\n",
       "      <td>318.500183</td>\n",
       "      <td>11.812545</td>\n",
       "      <td>38.875965</td>\n",
       "      <td>49.712906</td>\n",
       "      <td>56.159126</td>\n",
       "    </tr>\n",
       "  </tbody>\n",
       "</table>\n",
       "<p>7 rows × 24 columns</p>\n",
       "</div>"
      ],
      "text/plain": [
       "                   h0         h1         h2         h3         h4         h5  \\\n",
       "datetime                                                                       \n",
       "2021-01-18  39.026775  46.748127  28.135138  32.692413  36.634315   51.80106   \n",
       "2021-01-19  56.447338  58.078541  50.709343  50.354355   53.65292  58.796108   \n",
       "2021-01-20  85.267998  87.660065  69.977478  51.101414  61.277496  73.696663   \n",
       "2021-01-21  61.397022  55.535576  45.813408  37.799603   30.01495  41.506737   \n",
       "2021-01-22   44.55365  46.646492  34.410519  47.706467  18.047626   37.45023   \n",
       "2021-01-23  46.790493  63.258011  51.350929  82.675812  64.224129  54.240269   \n",
       "2021-01-24  63.890491  63.258183   35.68911  43.712845  55.101734  69.675308   \n",
       "\n",
       "                    h6         h7         h8         h9  ...        h14  \\\n",
       "datetime                                                 ...              \n",
       "2021-01-18   58.418629  58.697891   51.05867  74.706657  ...   81.39325   \n",
       "2021-01-19     63.8741  51.760506  59.816422  72.167732  ...  64.312492   \n",
       "2021-01-20   53.234383  74.069252    42.6926  68.838486  ...  85.531036   \n",
       "2021-01-21   64.118629  46.861694  49.184532  62.379417  ...  64.857742   \n",
       "2021-01-22   59.103245  56.688313  63.011951  69.883644  ...  73.116646   \n",
       "2021-01-23   64.613884  48.317352  39.685684  64.338051  ...  80.278221   \n",
       "2021-01-24  110.078766  21.187548  24.372137  36.691334  ...  61.261017   \n",
       "\n",
       "                  h15        h16         h17        h18         h19  \\\n",
       "datetime                                                              \n",
       "2021-01-18  53.574436   58.67136   64.464493  66.301315   70.020615   \n",
       "2021-01-19  51.066788  61.155346   76.313904  71.537834    60.45668   \n",
       "2021-01-20  68.981003  74.511528  108.285522  66.546562   85.258728   \n",
       "2021-01-21  57.223568  59.867645  103.329651  90.682449     70.1007   \n",
       "2021-01-22  46.728676  50.404354  112.908188  34.652081   32.055595   \n",
       "2021-01-23  65.386566  89.487244  120.160271  191.70134  193.820419   \n",
       "2021-01-24  79.490669  52.003502   78.723885    6.73627  318.500183   \n",
       "\n",
       "                  h20        h21        h22        h23  \n",
       "datetime                                                \n",
       "2021-01-18  46.244663   56.23518  55.748489  46.814072  \n",
       "2021-01-19  45.327961  44.740158  35.305908  37.370365  \n",
       "2021-01-20  79.555443  67.543274  68.351707  68.725723  \n",
       "2021-01-21  54.266846   69.64267  58.934967   51.66539  \n",
       "2021-01-22  63.056801  50.383926  47.531612   51.05867  \n",
       "2021-01-23  85.239494  82.735222  74.161377  52.181206  \n",
       "2021-01-24  11.812545  38.875965  49.712906  56.159126  \n",
       "\n",
       "[7 rows x 24 columns]"
      ]
     },
     "execution_count": 12,
     "metadata": {},
     "output_type": "execute_result"
    }
   ],
   "source": [
    "# Number of layers in DNN\n",
    "nlayers = 2\n",
    "\n",
    "# data to study\n",
    "dataset = 'imbalanceData_final'\n",
    "\n",
    "# 1 year is considered as 364 days (52 weeks)\n",
    "# years_test = 1\n",
    "\n",
    "# Optional parameters for selecting the test dataset\n",
    "begin_test_date = '2021-01-18'\n",
    "end_test_date = '2021-01-24'\n",
    "\n",
    "# for recalibration the validation and the training datasets are always shuffled\n",
    "shuffle_train = 1\n",
    "\n",
    "# Boolean that selects whether a data augmentation technique for DNNs is used\n",
    "data_augmentation = 0\n",
    "\n",
    "# Boolean that selects whether we start a new recalibration or we restart an existing one\n",
    "new_recalibration = 1\n",
    "\n",
    "# Number of years used in the training dataset for recalibration\n",
    "calibration_window = 1\n",
    "\n",
    "# Unique identifier to read the trials file of hyperparameter optimization\n",
    "experiment_id = 2\n",
    "\n",
    "# Set up the paths for saving data (this are the defaults for the library)\n",
    "# path_datasets_folder = os.path.join('.', 'datasets')\n",
    "# path_recalibration_folder = os.path.join('.', 'experimental_files')\n",
    "# path_hyperparameter_folder = os.path.join('.', 'experimental_files')\n",
    "\n",
    "evaluate_dnn_in_test_dataset(experiment_id,\n",
    "                             path_hyperparameter_folder = 'hyperparameter_dnn/imb_January',\n",
    "                             path_datasets_folder = 'final datasets',\n",
    "                             shuffle_train = shuffle_train,\n",
    "                             path_recalibration_folder = 'forecast results/DNN/imb_January',\n",
    "                             nlayers = nlayers,\n",
    "                             dataset = dataset,\n",
    "                             #years_test = years_test,\n",
    "                             data_augmentation = data_augmentation,\n",
    "                             calibration_window = calibration_window,\n",
    "                             new_recalibration = new_recalibration,\n",
    "                             begin_test_date = begin_test_date,\n",
    "                             end_test_date = end_test_date)"
   ]
  },
  {
   "cell_type": "code",
   "execution_count": 13,
   "id": "d788fa95",
   "metadata": {
    "scrolled": true
   },
   "outputs": [
    {
     "name": "stdout",
     "output_type": "stream",
     "text": [
      "Test datasets: 2021-04-19 00:00:00 - 2021-04-25 23:00:00\n"
     ]
    },
    {
     "name": "stderr",
     "output_type": "stream",
     "text": [
      "C:\\Users\\35250\\AppData\\Roaming\\Python\\Python38\\site-packages\\tensorflow\\python\\keras\\optimizer_v2\\optimizer_v2.py:374: UserWarning: The `lr` argument is deprecated, use `learning_rate` instead.\n",
      "  warnings.warn(\n"
     ]
    },
    {
     "name": "stdout",
     "output_type": "stream",
     "text": [
      "2021-04-19 - sMAPE: 51.19%  |  MAE: 29.151\n"
     ]
    },
    {
     "name": "stderr",
     "output_type": "stream",
     "text": [
      "C:\\Users\\35250\\AppData\\Roaming\\Python\\Python38\\site-packages\\tensorflow\\python\\keras\\optimizer_v2\\optimizer_v2.py:374: UserWarning: The `lr` argument is deprecated, use `learning_rate` instead.\n",
      "  warnings.warn(\n"
     ]
    },
    {
     "name": "stdout",
     "output_type": "stream",
     "text": [
      "2021-04-20 - sMAPE: 50.62%  |  MAE: 24.877\n"
     ]
    },
    {
     "name": "stderr",
     "output_type": "stream",
     "text": [
      "C:\\Users\\35250\\AppData\\Roaming\\Python\\Python38\\site-packages\\tensorflow\\python\\keras\\optimizer_v2\\optimizer_v2.py:374: UserWarning: The `lr` argument is deprecated, use `learning_rate` instead.\n",
      "  warnings.warn(\n"
     ]
    },
    {
     "name": "stdout",
     "output_type": "stream",
     "text": [
      "2021-04-21 - sMAPE: 45.09%  |  MAE: 23.267\n"
     ]
    },
    {
     "name": "stderr",
     "output_type": "stream",
     "text": [
      "C:\\Users\\35250\\AppData\\Roaming\\Python\\Python38\\site-packages\\tensorflow\\python\\keras\\optimizer_v2\\optimizer_v2.py:374: UserWarning: The `lr` argument is deprecated, use `learning_rate` instead.\n",
      "  warnings.warn(\n"
     ]
    },
    {
     "name": "stdout",
     "output_type": "stream",
     "text": [
      "2021-04-22 - sMAPE: 46.34%  |  MAE: 23.231\n"
     ]
    },
    {
     "name": "stderr",
     "output_type": "stream",
     "text": [
      "C:\\Users\\35250\\AppData\\Roaming\\Python\\Python38\\site-packages\\tensorflow\\python\\keras\\optimizer_v2\\optimizer_v2.py:374: UserWarning: The `lr` argument is deprecated, use `learning_rate` instead.\n",
      "  warnings.warn(\n"
     ]
    },
    {
     "name": "stdout",
     "output_type": "stream",
     "text": [
      "2021-04-23 - sMAPE: 42.46%  |  MAE: 21.186\n"
     ]
    },
    {
     "name": "stderr",
     "output_type": "stream",
     "text": [
      "C:\\Users\\35250\\AppData\\Roaming\\Python\\Python38\\site-packages\\tensorflow\\python\\keras\\optimizer_v2\\optimizer_v2.py:374: UserWarning: The `lr` argument is deprecated, use `learning_rate` instead.\n",
      "  warnings.warn(\n"
     ]
    },
    {
     "name": "stdout",
     "output_type": "stream",
     "text": [
      "2021-04-24 - sMAPE: 41.60%  |  MAE: 20.707\n"
     ]
    },
    {
     "name": "stderr",
     "output_type": "stream",
     "text": [
      "C:\\Users\\35250\\AppData\\Roaming\\Python\\Python38\\site-packages\\tensorflow\\python\\keras\\optimizer_v2\\optimizer_v2.py:374: UserWarning: The `lr` argument is deprecated, use `learning_rate` instead.\n",
      "  warnings.warn(\n"
     ]
    },
    {
     "name": "stdout",
     "output_type": "stream",
     "text": [
      "2021-04-25 - sMAPE: 41.60%  |  MAE: 20.217\n"
     ]
    },
    {
     "data": {
      "text/html": [
       "<div>\n",
       "<style scoped>\n",
       "    .dataframe tbody tr th:only-of-type {\n",
       "        vertical-align: middle;\n",
       "    }\n",
       "\n",
       "    .dataframe tbody tr th {\n",
       "        vertical-align: top;\n",
       "    }\n",
       "\n",
       "    .dataframe thead th {\n",
       "        text-align: right;\n",
       "    }\n",
       "</style>\n",
       "<table border=\"1\" class=\"dataframe\">\n",
       "  <thead>\n",
       "    <tr style=\"text-align: right;\">\n",
       "      <th></th>\n",
       "      <th>h0</th>\n",
       "      <th>h1</th>\n",
       "      <th>h2</th>\n",
       "      <th>h3</th>\n",
       "      <th>h4</th>\n",
       "      <th>h5</th>\n",
       "      <th>h6</th>\n",
       "      <th>h7</th>\n",
       "      <th>h8</th>\n",
       "      <th>h9</th>\n",
       "      <th>...</th>\n",
       "      <th>h14</th>\n",
       "      <th>h15</th>\n",
       "      <th>h16</th>\n",
       "      <th>h17</th>\n",
       "      <th>h18</th>\n",
       "      <th>h19</th>\n",
       "      <th>h20</th>\n",
       "      <th>h21</th>\n",
       "      <th>h22</th>\n",
       "      <th>h23</th>\n",
       "    </tr>\n",
       "    <tr>\n",
       "      <th>datetime</th>\n",
       "      <th></th>\n",
       "      <th></th>\n",
       "      <th></th>\n",
       "      <th></th>\n",
       "      <th></th>\n",
       "      <th></th>\n",
       "      <th></th>\n",
       "      <th></th>\n",
       "      <th></th>\n",
       "      <th></th>\n",
       "      <th></th>\n",
       "      <th></th>\n",
       "      <th></th>\n",
       "      <th></th>\n",
       "      <th></th>\n",
       "      <th></th>\n",
       "      <th></th>\n",
       "      <th></th>\n",
       "      <th></th>\n",
       "      <th></th>\n",
       "      <th></th>\n",
       "    </tr>\n",
       "  </thead>\n",
       "  <tbody>\n",
       "    <tr>\n",
       "      <th>2021-04-19</th>\n",
       "      <td>52.40155</td>\n",
       "      <td>64.70504</td>\n",
       "      <td>59.960556</td>\n",
       "      <td>71.016907</td>\n",
       "      <td>87.578644</td>\n",
       "      <td>46.951508</td>\n",
       "      <td>73.267265</td>\n",
       "      <td>114.762329</td>\n",
       "      <td>110.539673</td>\n",
       "      <td>134.983932</td>\n",
       "      <td>...</td>\n",
       "      <td>57.432861</td>\n",
       "      <td>56.777027</td>\n",
       "      <td>21.594297</td>\n",
       "      <td>118.9702</td>\n",
       "      <td>59.474255</td>\n",
       "      <td>70.130089</td>\n",
       "      <td>89.389641</td>\n",
       "      <td>142.910828</td>\n",
       "      <td>73.552078</td>\n",
       "      <td>37.700291</td>\n",
       "    </tr>\n",
       "    <tr>\n",
       "      <th>2021-04-20</th>\n",
       "      <td>44.306561</td>\n",
       "      <td>47.729301</td>\n",
       "      <td>52.955894</td>\n",
       "      <td>49.870407</td>\n",
       "      <td>50.250023</td>\n",
       "      <td>58.644138</td>\n",
       "      <td>62.911507</td>\n",
       "      <td>78.499039</td>\n",
       "      <td>91.07193</td>\n",
       "      <td>74.277206</td>\n",
       "      <td>...</td>\n",
       "      <td>58.097244</td>\n",
       "      <td>45.603779</td>\n",
       "      <td>60.3554</td>\n",
       "      <td>75.596573</td>\n",
       "      <td>77.056465</td>\n",
       "      <td>81.931038</td>\n",
       "      <td>79.795486</td>\n",
       "      <td>84.026154</td>\n",
       "      <td>56.442127</td>\n",
       "      <td>43.869797</td>\n",
       "    </tr>\n",
       "    <tr>\n",
       "      <th>2021-04-21</th>\n",
       "      <td>41.649071</td>\n",
       "      <td>50.045197</td>\n",
       "      <td>54.06781</td>\n",
       "      <td>50.322021</td>\n",
       "      <td>54.347725</td>\n",
       "      <td>54.731354</td>\n",
       "      <td>62.127434</td>\n",
       "      <td>47.803871</td>\n",
       "      <td>65.559799</td>\n",
       "      <td>60.325047</td>\n",
       "      <td>...</td>\n",
       "      <td>48.619576</td>\n",
       "      <td>44.697708</td>\n",
       "      <td>52.089577</td>\n",
       "      <td>46.921638</td>\n",
       "      <td>60.050259</td>\n",
       "      <td>58.966164</td>\n",
       "      <td>59.444286</td>\n",
       "      <td>70.325256</td>\n",
       "      <td>62.878036</td>\n",
       "      <td>54.735573</td>\n",
       "    </tr>\n",
       "    <tr>\n",
       "      <th>2021-04-22</th>\n",
       "      <td>45.168011</td>\n",
       "      <td>48.598892</td>\n",
       "      <td>45.663509</td>\n",
       "      <td>34.328152</td>\n",
       "      <td>39.311764</td>\n",
       "      <td>48.314617</td>\n",
       "      <td>54.623863</td>\n",
       "      <td>61.922981</td>\n",
       "      <td>64.149437</td>\n",
       "      <td>69.707664</td>\n",
       "      <td>...</td>\n",
       "      <td>37.628204</td>\n",
       "      <td>41.835041</td>\n",
       "      <td>44.218102</td>\n",
       "      <td>53.592548</td>\n",
       "      <td>66.031822</td>\n",
       "      <td>67.91877</td>\n",
       "      <td>71.079208</td>\n",
       "      <td>70.834953</td>\n",
       "      <td>55.136799</td>\n",
       "      <td>50.733723</td>\n",
       "    </tr>\n",
       "    <tr>\n",
       "      <th>2021-04-23</th>\n",
       "      <td>56.329971</td>\n",
       "      <td>50.459824</td>\n",
       "      <td>54.971455</td>\n",
       "      <td>53.451862</td>\n",
       "      <td>52.174271</td>\n",
       "      <td>63.905388</td>\n",
       "      <td>66.034058</td>\n",
       "      <td>88.877007</td>\n",
       "      <td>77.028366</td>\n",
       "      <td>81.33226</td>\n",
       "      <td>...</td>\n",
       "      <td>26.78459</td>\n",
       "      <td>38.258579</td>\n",
       "      <td>30.401028</td>\n",
       "      <td>39.838772</td>\n",
       "      <td>62.782516</td>\n",
       "      <td>66.328445</td>\n",
       "      <td>92.441505</td>\n",
       "      <td>96.415268</td>\n",
       "      <td>62.239037</td>\n",
       "      <td>48.757172</td>\n",
       "    </tr>\n",
       "    <tr>\n",
       "      <th>2021-04-24</th>\n",
       "      <td>45.255806</td>\n",
       "      <td>42.9548</td>\n",
       "      <td>43.705574</td>\n",
       "      <td>40.341957</td>\n",
       "      <td>35.329865</td>\n",
       "      <td>43.823177</td>\n",
       "      <td>47.947823</td>\n",
       "      <td>57.704033</td>\n",
       "      <td>53.645855</td>\n",
       "      <td>51.497013</td>\n",
       "      <td>...</td>\n",
       "      <td>33.484051</td>\n",
       "      <td>33.174622</td>\n",
       "      <td>39.25605</td>\n",
       "      <td>26.137899</td>\n",
       "      <td>52.272579</td>\n",
       "      <td>53.726551</td>\n",
       "      <td>55.564919</td>\n",
       "      <td>62.732399</td>\n",
       "      <td>44.203945</td>\n",
       "      <td>40.474854</td>\n",
       "    </tr>\n",
       "    <tr>\n",
       "      <th>2021-04-25</th>\n",
       "      <td>22.884125</td>\n",
       "      <td>31.404491</td>\n",
       "      <td>34.204277</td>\n",
       "      <td>29.45322</td>\n",
       "      <td>27.51104</td>\n",
       "      <td>28.514284</td>\n",
       "      <td>31.417847</td>\n",
       "      <td>35.856064</td>\n",
       "      <td>45.41539</td>\n",
       "      <td>40.591949</td>\n",
       "      <td>...</td>\n",
       "      <td>28.880182</td>\n",
       "      <td>26.221348</td>\n",
       "      <td>36.00536</td>\n",
       "      <td>36.750763</td>\n",
       "      <td>43.076721</td>\n",
       "      <td>41.144222</td>\n",
       "      <td>46.59026</td>\n",
       "      <td>53.492897</td>\n",
       "      <td>44.477341</td>\n",
       "      <td>40.295685</td>\n",
       "    </tr>\n",
       "  </tbody>\n",
       "</table>\n",
       "<p>7 rows × 24 columns</p>\n",
       "</div>"
      ],
      "text/plain": [
       "                   h0         h1         h2         h3         h4         h5  \\\n",
       "datetime                                                                       \n",
       "2021-04-19   52.40155   64.70504  59.960556  71.016907  87.578644  46.951508   \n",
       "2021-04-20  44.306561  47.729301  52.955894  49.870407  50.250023  58.644138   \n",
       "2021-04-21  41.649071  50.045197   54.06781  50.322021  54.347725  54.731354   \n",
       "2021-04-22  45.168011  48.598892  45.663509  34.328152  39.311764  48.314617   \n",
       "2021-04-23  56.329971  50.459824  54.971455  53.451862  52.174271  63.905388   \n",
       "2021-04-24  45.255806    42.9548  43.705574  40.341957  35.329865  43.823177   \n",
       "2021-04-25  22.884125  31.404491  34.204277   29.45322   27.51104  28.514284   \n",
       "\n",
       "                   h6          h7          h8          h9  ...        h14  \\\n",
       "datetime                                                   ...              \n",
       "2021-04-19  73.267265  114.762329  110.539673  134.983932  ...  57.432861   \n",
       "2021-04-20  62.911507   78.499039    91.07193   74.277206  ...  58.097244   \n",
       "2021-04-21  62.127434   47.803871   65.559799   60.325047  ...  48.619576   \n",
       "2021-04-22  54.623863   61.922981   64.149437   69.707664  ...  37.628204   \n",
       "2021-04-23  66.034058   88.877007   77.028366    81.33226  ...   26.78459   \n",
       "2021-04-24  47.947823   57.704033   53.645855   51.497013  ...  33.484051   \n",
       "2021-04-25  31.417847   35.856064    45.41539   40.591949  ...  28.880182   \n",
       "\n",
       "                  h15        h16        h17        h18        h19        h20  \\\n",
       "datetime                                                                       \n",
       "2021-04-19  56.777027  21.594297   118.9702  59.474255  70.130089  89.389641   \n",
       "2021-04-20  45.603779    60.3554  75.596573  77.056465  81.931038  79.795486   \n",
       "2021-04-21  44.697708  52.089577  46.921638  60.050259  58.966164  59.444286   \n",
       "2021-04-22  41.835041  44.218102  53.592548  66.031822   67.91877  71.079208   \n",
       "2021-04-23  38.258579  30.401028  39.838772  62.782516  66.328445  92.441505   \n",
       "2021-04-24  33.174622   39.25605  26.137899  52.272579  53.726551  55.564919   \n",
       "2021-04-25  26.221348   36.00536  36.750763  43.076721  41.144222   46.59026   \n",
       "\n",
       "                   h21        h22        h23  \n",
       "datetime                                      \n",
       "2021-04-19  142.910828  73.552078  37.700291  \n",
       "2021-04-20   84.026154  56.442127  43.869797  \n",
       "2021-04-21   70.325256  62.878036  54.735573  \n",
       "2021-04-22   70.834953  55.136799  50.733723  \n",
       "2021-04-23   96.415268  62.239037  48.757172  \n",
       "2021-04-24   62.732399  44.203945  40.474854  \n",
       "2021-04-25   53.492897  44.477341  40.295685  \n",
       "\n",
       "[7 rows x 24 columns]"
      ]
     },
     "execution_count": 13,
     "metadata": {},
     "output_type": "execute_result"
    }
   ],
   "source": [
    "# Number of layers in DNN\n",
    "nlayers = 2\n",
    "\n",
    "# data to study\n",
    "dataset = 'imbalanceData_final'\n",
    "\n",
    "# 1 year is considered as 364 days (52 weeks)\n",
    "# years_test = 1\n",
    "\n",
    "# Optional parameters for selecting the test dataset\n",
    "begin_test_date = '2021-04-19'\n",
    "end_test_date = '2021-04-25'\n",
    "\n",
    "# for recalibration the validation and the training datasets are always shuffled\n",
    "shuffle_train = 1\n",
    "\n",
    "# Boolean that selects whether a data augmentation technique for DNNs is used\n",
    "data_augmentation = 0\n",
    "\n",
    "# Boolean that selects whether we start a new recalibration or we restart an existing one\n",
    "new_recalibration = 1\n",
    "\n",
    "# Number of years used in the training dataset for recalibration\n",
    "calibration_window = 1\n",
    "\n",
    "# Unique identifier to read the trials file of hyperparameter optimization\n",
    "experiment_id = 2\n",
    "\n",
    "# Set up the paths for saving data (this are the defaults for the library)\n",
    "# path_datasets_folder = os.path.join('.', 'datasets')\n",
    "# path_recalibration_folder = os.path.join('.', 'experimental_files')\n",
    "# path_hyperparameter_folder = os.path.join('.', 'experimental_files')\n",
    "\n",
    "evaluate_dnn_in_test_dataset(experiment_id,\n",
    "                             path_hyperparameter_folder = 'hyperparameter_dnn/imb_April',\n",
    "                             path_datasets_folder = 'final datasets',\n",
    "                             shuffle_train = shuffle_train,\n",
    "                             path_recalibration_folder = 'forecast results/DNN/imb_April',\n",
    "                             nlayers = nlayers,\n",
    "                             dataset = dataset,\n",
    "                             #years_test = years_test,\n",
    "                             data_augmentation = data_augmentation,\n",
    "                             calibration_window = calibration_window,\n",
    "                             new_recalibration = new_recalibration,\n",
    "                             begin_test_date = begin_test_date,\n",
    "                             end_test_date = end_test_date)"
   ]
  },
  {
   "cell_type": "code",
   "execution_count": 14,
   "id": "735722da",
   "metadata": {
    "scrolled": true
   },
   "outputs": [
    {
     "name": "stdout",
     "output_type": "stream",
     "text": [
      "Test datasets: 2021-04-19 00:00:00 - 2021-04-25 23:00:00\n"
     ]
    },
    {
     "name": "stderr",
     "output_type": "stream",
     "text": [
      "C:\\Users\\35250\\AppData\\Roaming\\Python\\Python38\\site-packages\\tensorflow\\python\\keras\\optimizer_v2\\optimizer_v2.py:374: UserWarning: The `lr` argument is deprecated, use `learning_rate` instead.\n",
      "  warnings.warn(\n"
     ]
    },
    {
     "name": "stdout",
     "output_type": "stream",
     "text": [
      "2021-04-19 - sMAPE: 11.38%  |  MAE: 9.329\n"
     ]
    },
    {
     "name": "stderr",
     "output_type": "stream",
     "text": [
      "C:\\Users\\35250\\AppData\\Roaming\\Python\\Python38\\site-packages\\tensorflow\\python\\keras\\optimizer_v2\\optimizer_v2.py:374: UserWarning: The `lr` argument is deprecated, use `learning_rate` instead.\n",
      "  warnings.warn(\n"
     ]
    },
    {
     "name": "stdout",
     "output_type": "stream",
     "text": [
      "2021-04-20 - sMAPE: 12.04%  |  MAE: 9.504\n"
     ]
    },
    {
     "name": "stderr",
     "output_type": "stream",
     "text": [
      "C:\\Users\\35250\\AppData\\Roaming\\Python\\Python38\\site-packages\\tensorflow\\python\\keras\\optimizer_v2\\optimizer_v2.py:374: UserWarning: The `lr` argument is deprecated, use `learning_rate` instead.\n",
      "  warnings.warn(\n"
     ]
    },
    {
     "name": "stdout",
     "output_type": "stream",
     "text": [
      "2021-04-21 - sMAPE: 11.29%  |  MAE: 8.445\n"
     ]
    },
    {
     "name": "stderr",
     "output_type": "stream",
     "text": [
      "C:\\Users\\35250\\AppData\\Roaming\\Python\\Python38\\site-packages\\tensorflow\\python\\keras\\optimizer_v2\\optimizer_v2.py:374: UserWarning: The `lr` argument is deprecated, use `learning_rate` instead.\n",
      "  warnings.warn(\n"
     ]
    },
    {
     "name": "stdout",
     "output_type": "stream",
     "text": [
      "2021-04-22 - sMAPE: 11.23%  |  MAE: 8.118\n"
     ]
    },
    {
     "name": "stderr",
     "output_type": "stream",
     "text": [
      "C:\\Users\\35250\\AppData\\Roaming\\Python\\Python38\\site-packages\\tensorflow\\python\\keras\\optimizer_v2\\optimizer_v2.py:374: UserWarning: The `lr` argument is deprecated, use `learning_rate` instead.\n",
      "  warnings.warn(\n"
     ]
    },
    {
     "name": "stdout",
     "output_type": "stream",
     "text": [
      "2021-04-23 - sMAPE: 11.05%  |  MAE: 7.907\n"
     ]
    },
    {
     "name": "stderr",
     "output_type": "stream",
     "text": [
      "C:\\Users\\35250\\AppData\\Roaming\\Python\\Python38\\site-packages\\tensorflow\\python\\keras\\optimizer_v2\\optimizer_v2.py:374: UserWarning: The `lr` argument is deprecated, use `learning_rate` instead.\n",
      "  warnings.warn(\n"
     ]
    },
    {
     "name": "stdout",
     "output_type": "stream",
     "text": [
      "2021-04-24 - sMAPE: 10.57%  |  MAE: 7.454\n"
     ]
    },
    {
     "name": "stderr",
     "output_type": "stream",
     "text": [
      "C:\\Users\\35250\\AppData\\Roaming\\Python\\Python38\\site-packages\\tensorflow\\python\\keras\\optimizer_v2\\optimizer_v2.py:374: UserWarning: The `lr` argument is deprecated, use `learning_rate` instead.\n",
      "  warnings.warn(\n"
     ]
    },
    {
     "name": "stdout",
     "output_type": "stream",
     "text": [
      "2021-04-25 - sMAPE: 10.58%  |  MAE: 7.311\n"
     ]
    },
    {
     "data": {
      "text/html": [
       "<div>\n",
       "<style scoped>\n",
       "    .dataframe tbody tr th:only-of-type {\n",
       "        vertical-align: middle;\n",
       "    }\n",
       "\n",
       "    .dataframe tbody tr th {\n",
       "        vertical-align: top;\n",
       "    }\n",
       "\n",
       "    .dataframe thead th {\n",
       "        text-align: right;\n",
       "    }\n",
       "</style>\n",
       "<table border=\"1\" class=\"dataframe\">\n",
       "  <thead>\n",
       "    <tr style=\"text-align: right;\">\n",
       "      <th></th>\n",
       "      <th>h0</th>\n",
       "      <th>h1</th>\n",
       "      <th>h2</th>\n",
       "      <th>h3</th>\n",
       "      <th>h4</th>\n",
       "      <th>h5</th>\n",
       "      <th>h6</th>\n",
       "      <th>h7</th>\n",
       "      <th>h8</th>\n",
       "      <th>h9</th>\n",
       "      <th>...</th>\n",
       "      <th>h14</th>\n",
       "      <th>h15</th>\n",
       "      <th>h16</th>\n",
       "      <th>h17</th>\n",
       "      <th>h18</th>\n",
       "      <th>h19</th>\n",
       "      <th>h20</th>\n",
       "      <th>h21</th>\n",
       "      <th>h22</th>\n",
       "      <th>h23</th>\n",
       "    </tr>\n",
       "    <tr>\n",
       "      <th>datetime</th>\n",
       "      <th></th>\n",
       "      <th></th>\n",
       "      <th></th>\n",
       "      <th></th>\n",
       "      <th></th>\n",
       "      <th></th>\n",
       "      <th></th>\n",
       "      <th></th>\n",
       "      <th></th>\n",
       "      <th></th>\n",
       "      <th></th>\n",
       "      <th></th>\n",
       "      <th></th>\n",
       "      <th></th>\n",
       "      <th></th>\n",
       "      <th></th>\n",
       "      <th></th>\n",
       "      <th></th>\n",
       "      <th></th>\n",
       "      <th></th>\n",
       "      <th></th>\n",
       "    </tr>\n",
       "  </thead>\n",
       "  <tbody>\n",
       "    <tr>\n",
       "      <th>2021-04-19</th>\n",
       "      <td>60.589794</td>\n",
       "      <td>57.50634</td>\n",
       "      <td>57.045475</td>\n",
       "      <td>58.538158</td>\n",
       "      <td>55.312233</td>\n",
       "      <td>56.377533</td>\n",
       "      <td>62.400375</td>\n",
       "      <td>72.063316</td>\n",
       "      <td>84.674774</td>\n",
       "      <td>83.874825</td>\n",
       "      <td>...</td>\n",
       "      <td>61.28093</td>\n",
       "      <td>62.772266</td>\n",
       "      <td>65.06826</td>\n",
       "      <td>78.48217</td>\n",
       "      <td>108.013618</td>\n",
       "      <td>134.490082</td>\n",
       "      <td>109.750465</td>\n",
       "      <td>88.878334</td>\n",
       "      <td>71.305695</td>\n",
       "      <td>61.484467</td>\n",
       "    </tr>\n",
       "    <tr>\n",
       "      <th>2021-04-20</th>\n",
       "      <td>54.520542</td>\n",
       "      <td>50.991024</td>\n",
       "      <td>52.925064</td>\n",
       "      <td>51.448608</td>\n",
       "      <td>50.707268</td>\n",
       "      <td>51.905849</td>\n",
       "      <td>58.636566</td>\n",
       "      <td>65.447472</td>\n",
       "      <td>78.080605</td>\n",
       "      <td>79.847931</td>\n",
       "      <td>...</td>\n",
       "      <td>63.474506</td>\n",
       "      <td>61.935814</td>\n",
       "      <td>60.645302</td>\n",
       "      <td>75.536591</td>\n",
       "      <td>129.545425</td>\n",
       "      <td>115.199707</td>\n",
       "      <td>95.288033</td>\n",
       "      <td>86.314041</td>\n",
       "      <td>69.191559</td>\n",
       "      <td>58.659279</td>\n",
       "    </tr>\n",
       "    <tr>\n",
       "      <th>2021-04-21</th>\n",
       "      <td>56.575459</td>\n",
       "      <td>51.101524</td>\n",
       "      <td>51.494324</td>\n",
       "      <td>49.134666</td>\n",
       "      <td>45.784096</td>\n",
       "      <td>46.849873</td>\n",
       "      <td>52.649998</td>\n",
       "      <td>63.18576</td>\n",
       "      <td>73.171089</td>\n",
       "      <td>74.494804</td>\n",
       "      <td>...</td>\n",
       "      <td>58.091831</td>\n",
       "      <td>54.997742</td>\n",
       "      <td>57.26968</td>\n",
       "      <td>58.807316</td>\n",
       "      <td>97.594315</td>\n",
       "      <td>87.737076</td>\n",
       "      <td>83.124924</td>\n",
       "      <td>71.238419</td>\n",
       "      <td>61.770432</td>\n",
       "      <td>53.26461</td>\n",
       "    </tr>\n",
       "    <tr>\n",
       "      <th>2021-04-22</th>\n",
       "      <td>51.915257</td>\n",
       "      <td>48.759399</td>\n",
       "      <td>49.726284</td>\n",
       "      <td>49.592739</td>\n",
       "      <td>48.263493</td>\n",
       "      <td>49.385414</td>\n",
       "      <td>55.852467</td>\n",
       "      <td>63.932903</td>\n",
       "      <td>68.432343</td>\n",
       "      <td>71.29464</td>\n",
       "      <td>...</td>\n",
       "      <td>56.078018</td>\n",
       "      <td>55.848885</td>\n",
       "      <td>54.230103</td>\n",
       "      <td>61.890465</td>\n",
       "      <td>83.278656</td>\n",
       "      <td>93.709518</td>\n",
       "      <td>85.89782</td>\n",
       "      <td>76.574539</td>\n",
       "      <td>64.899147</td>\n",
       "      <td>55.090809</td>\n",
       "    </tr>\n",
       "    <tr>\n",
       "      <th>2021-04-23</th>\n",
       "      <td>59.212086</td>\n",
       "      <td>52.283951</td>\n",
       "      <td>54.332973</td>\n",
       "      <td>53.426765</td>\n",
       "      <td>51.122116</td>\n",
       "      <td>51.323528</td>\n",
       "      <td>54.131882</td>\n",
       "      <td>60.538712</td>\n",
       "      <td>67.384575</td>\n",
       "      <td>70.870453</td>\n",
       "      <td>...</td>\n",
       "      <td>60.548061</td>\n",
       "      <td>55.790558</td>\n",
       "      <td>57.840801</td>\n",
       "      <td>71.319458</td>\n",
       "      <td>95.944626</td>\n",
       "      <td>97.068466</td>\n",
       "      <td>82.895836</td>\n",
       "      <td>75.41951</td>\n",
       "      <td>63.041328</td>\n",
       "      <td>55.528023</td>\n",
       "    </tr>\n",
       "    <tr>\n",
       "      <th>2021-04-24</th>\n",
       "      <td>58.31707</td>\n",
       "      <td>53.064865</td>\n",
       "      <td>53.606392</td>\n",
       "      <td>53.417244</td>\n",
       "      <td>50.674206</td>\n",
       "      <td>51.632542</td>\n",
       "      <td>54.859867</td>\n",
       "      <td>62.000179</td>\n",
       "      <td>66.498299</td>\n",
       "      <td>67.539284</td>\n",
       "      <td>...</td>\n",
       "      <td>53.312511</td>\n",
       "      <td>49.306988</td>\n",
       "      <td>50.390995</td>\n",
       "      <td>56.617748</td>\n",
       "      <td>64.4786</td>\n",
       "      <td>72.920296</td>\n",
       "      <td>77.872742</td>\n",
       "      <td>76.405823</td>\n",
       "      <td>66.912201</td>\n",
       "      <td>57.849178</td>\n",
       "    </tr>\n",
       "    <tr>\n",
       "      <th>2021-04-25</th>\n",
       "      <td>54.936134</td>\n",
       "      <td>49.75296</td>\n",
       "      <td>50.459019</td>\n",
       "      <td>48.70866</td>\n",
       "      <td>44.834091</td>\n",
       "      <td>44.816433</td>\n",
       "      <td>47.738811</td>\n",
       "      <td>50.327244</td>\n",
       "      <td>53.879898</td>\n",
       "      <td>56.537315</td>\n",
       "      <td>...</td>\n",
       "      <td>49.754234</td>\n",
       "      <td>47.938511</td>\n",
       "      <td>48.426388</td>\n",
       "      <td>55.799225</td>\n",
       "      <td>68.826675</td>\n",
       "      <td>78.440948</td>\n",
       "      <td>71.267159</td>\n",
       "      <td>67.445816</td>\n",
       "      <td>61.246845</td>\n",
       "      <td>53.034454</td>\n",
       "    </tr>\n",
       "  </tbody>\n",
       "</table>\n",
       "<p>7 rows × 24 columns</p>\n",
       "</div>"
      ],
      "text/plain": [
       "                   h0         h1         h2         h3         h4         h5  \\\n",
       "datetime                                                                       \n",
       "2021-04-19  60.589794   57.50634  57.045475  58.538158  55.312233  56.377533   \n",
       "2021-04-20  54.520542  50.991024  52.925064  51.448608  50.707268  51.905849   \n",
       "2021-04-21  56.575459  51.101524  51.494324  49.134666  45.784096  46.849873   \n",
       "2021-04-22  51.915257  48.759399  49.726284  49.592739  48.263493  49.385414   \n",
       "2021-04-23  59.212086  52.283951  54.332973  53.426765  51.122116  51.323528   \n",
       "2021-04-24   58.31707  53.064865  53.606392  53.417244  50.674206  51.632542   \n",
       "2021-04-25  54.936134   49.75296  50.459019   48.70866  44.834091  44.816433   \n",
       "\n",
       "                   h6         h7         h8         h9  ...        h14  \\\n",
       "datetime                                                ...              \n",
       "2021-04-19  62.400375  72.063316  84.674774  83.874825  ...   61.28093   \n",
       "2021-04-20  58.636566  65.447472  78.080605  79.847931  ...  63.474506   \n",
       "2021-04-21  52.649998   63.18576  73.171089  74.494804  ...  58.091831   \n",
       "2021-04-22  55.852467  63.932903  68.432343   71.29464  ...  56.078018   \n",
       "2021-04-23  54.131882  60.538712  67.384575  70.870453  ...  60.548061   \n",
       "2021-04-24  54.859867  62.000179  66.498299  67.539284  ...  53.312511   \n",
       "2021-04-25  47.738811  50.327244  53.879898  56.537315  ...  49.754234   \n",
       "\n",
       "                  h15        h16        h17         h18         h19  \\\n",
       "datetime                                                              \n",
       "2021-04-19  62.772266   65.06826   78.48217  108.013618  134.490082   \n",
       "2021-04-20  61.935814  60.645302  75.536591  129.545425  115.199707   \n",
       "2021-04-21  54.997742   57.26968  58.807316   97.594315   87.737076   \n",
       "2021-04-22  55.848885  54.230103  61.890465   83.278656   93.709518   \n",
       "2021-04-23  55.790558  57.840801  71.319458   95.944626   97.068466   \n",
       "2021-04-24  49.306988  50.390995  56.617748     64.4786   72.920296   \n",
       "2021-04-25  47.938511  48.426388  55.799225   68.826675   78.440948   \n",
       "\n",
       "                   h20        h21        h22        h23  \n",
       "datetime                                                 \n",
       "2021-04-19  109.750465  88.878334  71.305695  61.484467  \n",
       "2021-04-20   95.288033  86.314041  69.191559  58.659279  \n",
       "2021-04-21   83.124924  71.238419  61.770432   53.26461  \n",
       "2021-04-22    85.89782  76.574539  64.899147  55.090809  \n",
       "2021-04-23   82.895836   75.41951  63.041328  55.528023  \n",
       "2021-04-24   77.872742  76.405823  66.912201  57.849178  \n",
       "2021-04-25   71.267159  67.445816  61.246845  53.034454  \n",
       "\n",
       "[7 rows x 24 columns]"
      ]
     },
     "execution_count": 14,
     "metadata": {},
     "output_type": "execute_result"
    }
   ],
   "source": [
    "# Number of layers in DNN\n",
    "nlayers = 2\n",
    "\n",
    "# data to study\n",
    "dataset = 'auctionData_final'\n",
    "\n",
    "# 1 year is considered as 364 days (52 weeks)\n",
    "# years_test = 1\n",
    "\n",
    "# Optional parameters for selecting the test dataset\n",
    "begin_test_date = '2021-04-19'\n",
    "end_test_date = '2021-04-25'\n",
    "\n",
    "# for recalibration the validation and the training datasets are always shuffled\n",
    "shuffle_train = 1\n",
    "\n",
    "# Boolean that selects whether a data augmentation technique for DNNs is used\n",
    "data_augmentation = 0\n",
    "\n",
    "# Boolean that selects whether we start a new recalibration or we restart an existing one\n",
    "new_recalibration = 1\n",
    "\n",
    "# Number of years used in the training dataset for recalibration\n",
    "calibration_window = 1\n",
    "\n",
    "# Unique identifier to read the trials file of hyperparameter optimization\n",
    "experiment_id = 2\n",
    "\n",
    "# Set up the paths for saving data (this are the defaults for the library)\n",
    "# path_datasets_folder = os.path.join('.', 'datasets')\n",
    "# path_recalibration_folder = os.path.join('.', 'experimental_files')\n",
    "# path_hyperparameter_folder = os.path.join('.', 'experimental_files')\n",
    "\n",
    "evaluate_dnn_in_test_dataset(experiment_id,\n",
    "                             path_hyperparameter_folder = 'hyperparameter_dnn/auc_April',\n",
    "                             path_datasets_folder = 'final datasets',\n",
    "                             shuffle_train = shuffle_train,\n",
    "                             path_recalibration_folder = 'forecast results/DNN/auc_April',\n",
    "                             nlayers = nlayers,\n",
    "                             dataset = dataset,\n",
    "                             #years_test = years_test,\n",
    "                             data_augmentation = data_augmentation,\n",
    "                             calibration_window = calibration_window,\n",
    "                             new_recalibration = new_recalibration,\n",
    "                             begin_test_date = begin_test_date,\n",
    "                             end_test_date = end_test_date)"
   ]
  },
  {
   "cell_type": "code",
   "execution_count": 15,
   "id": "0c957b39",
   "metadata": {
    "scrolled": true
   },
   "outputs": [
    {
     "name": "stdout",
     "output_type": "stream",
     "text": [
      "Test datasets: 2021-01-18 00:00:00 - 2021-01-24 23:00:00\n"
     ]
    },
    {
     "name": "stderr",
     "output_type": "stream",
     "text": [
      "C:\\Users\\35250\\AppData\\Roaming\\Python\\Python38\\site-packages\\tensorflow\\python\\keras\\optimizer_v2\\optimizer_v2.py:374: UserWarning: The `lr` argument is deprecated, use `learning_rate` instead.\n",
      "  warnings.warn(\n"
     ]
    },
    {
     "name": "stdout",
     "output_type": "stream",
     "text": [
      "2021-01-18 - sMAPE: 13.11%  |  MAE: 7.975\n"
     ]
    },
    {
     "name": "stderr",
     "output_type": "stream",
     "text": [
      "C:\\Users\\35250\\AppData\\Roaming\\Python\\Python38\\site-packages\\tensorflow\\python\\keras\\optimizer_v2\\optimizer_v2.py:374: UserWarning: The `lr` argument is deprecated, use `learning_rate` instead.\n",
      "  warnings.warn(\n"
     ]
    },
    {
     "name": "stdout",
     "output_type": "stream",
     "text": [
      "2021-01-19 - sMAPE: 11.42%  |  MAE: 7.378\n"
     ]
    },
    {
     "name": "stderr",
     "output_type": "stream",
     "text": [
      "C:\\Users\\35250\\AppData\\Roaming\\Python\\Python38\\site-packages\\tensorflow\\python\\keras\\optimizer_v2\\optimizer_v2.py:374: UserWarning: The `lr` argument is deprecated, use `learning_rate` instead.\n",
      "  warnings.warn(\n"
     ]
    },
    {
     "name": "stdout",
     "output_type": "stream",
     "text": [
      "2021-01-20 - sMAPE: 12.50%  |  MAE: 8.210\n"
     ]
    },
    {
     "name": "stderr",
     "output_type": "stream",
     "text": [
      "C:\\Users\\35250\\AppData\\Roaming\\Python\\Python38\\site-packages\\tensorflow\\python\\keras\\optimizer_v2\\optimizer_v2.py:374: UserWarning: The `lr` argument is deprecated, use `learning_rate` instead.\n",
      "  warnings.warn(\n"
     ]
    },
    {
     "name": "stdout",
     "output_type": "stream",
     "text": [
      "2021-01-21 - sMAPE: 13.14%  |  MAE: 8.144\n"
     ]
    },
    {
     "name": "stderr",
     "output_type": "stream",
     "text": [
      "C:\\Users\\35250\\AppData\\Roaming\\Python\\Python38\\site-packages\\tensorflow\\python\\keras\\optimizer_v2\\optimizer_v2.py:374: UserWarning: The `lr` argument is deprecated, use `learning_rate` instead.\n",
      "  warnings.warn(\n"
     ]
    },
    {
     "name": "stdout",
     "output_type": "stream",
     "text": [
      "2021-01-22 - sMAPE: 14.31%  |  MAE: 8.687\n"
     ]
    },
    {
     "name": "stderr",
     "output_type": "stream",
     "text": [
      "C:\\Users\\35250\\AppData\\Roaming\\Python\\Python38\\site-packages\\tensorflow\\python\\keras\\optimizer_v2\\optimizer_v2.py:374: UserWarning: The `lr` argument is deprecated, use `learning_rate` instead.\n",
      "  warnings.warn(\n"
     ]
    },
    {
     "name": "stdout",
     "output_type": "stream",
     "text": [
      "2021-01-23 - sMAPE: 13.65%  |  MAE: 8.329\n"
     ]
    },
    {
     "name": "stderr",
     "output_type": "stream",
     "text": [
      "C:\\Users\\35250\\AppData\\Roaming\\Python\\Python38\\site-packages\\tensorflow\\python\\keras\\optimizer_v2\\optimizer_v2.py:374: UserWarning: The `lr` argument is deprecated, use `learning_rate` instead.\n",
      "  warnings.warn(\n"
     ]
    },
    {
     "name": "stdout",
     "output_type": "stream",
     "text": [
      "2021-01-24 - sMAPE: 14.06%  |  MAE: 8.995\n"
     ]
    },
    {
     "data": {
      "text/html": [
       "<div>\n",
       "<style scoped>\n",
       "    .dataframe tbody tr th:only-of-type {\n",
       "        vertical-align: middle;\n",
       "    }\n",
       "\n",
       "    .dataframe tbody tr th {\n",
       "        vertical-align: top;\n",
       "    }\n",
       "\n",
       "    .dataframe thead th {\n",
       "        text-align: right;\n",
       "    }\n",
       "</style>\n",
       "<table border=\"1\" class=\"dataframe\">\n",
       "  <thead>\n",
       "    <tr style=\"text-align: right;\">\n",
       "      <th></th>\n",
       "      <th>h0</th>\n",
       "      <th>h1</th>\n",
       "      <th>h2</th>\n",
       "      <th>h3</th>\n",
       "      <th>h4</th>\n",
       "      <th>h5</th>\n",
       "      <th>h6</th>\n",
       "      <th>h7</th>\n",
       "      <th>h8</th>\n",
       "      <th>h9</th>\n",
       "      <th>...</th>\n",
       "      <th>h14</th>\n",
       "      <th>h15</th>\n",
       "      <th>h16</th>\n",
       "      <th>h17</th>\n",
       "      <th>h18</th>\n",
       "      <th>h19</th>\n",
       "      <th>h20</th>\n",
       "      <th>h21</th>\n",
       "      <th>h22</th>\n",
       "      <th>h23</th>\n",
       "    </tr>\n",
       "    <tr>\n",
       "      <th>datetime</th>\n",
       "      <th></th>\n",
       "      <th></th>\n",
       "      <th></th>\n",
       "      <th></th>\n",
       "      <th></th>\n",
       "      <th></th>\n",
       "      <th></th>\n",
       "      <th></th>\n",
       "      <th></th>\n",
       "      <th></th>\n",
       "      <th></th>\n",
       "      <th></th>\n",
       "      <th></th>\n",
       "      <th></th>\n",
       "      <th></th>\n",
       "      <th></th>\n",
       "      <th></th>\n",
       "      <th></th>\n",
       "      <th></th>\n",
       "      <th></th>\n",
       "      <th></th>\n",
       "    </tr>\n",
       "  </thead>\n",
       "  <tbody>\n",
       "    <tr>\n",
       "      <th>2021-01-18</th>\n",
       "      <td>55.142525</td>\n",
       "      <td>53.882587</td>\n",
       "      <td>59.670654</td>\n",
       "      <td>51.799889</td>\n",
       "      <td>41.852146</td>\n",
       "      <td>51.741425</td>\n",
       "      <td>58.612236</td>\n",
       "      <td>66.84697</td>\n",
       "      <td>56.641788</td>\n",
       "      <td>58.737831</td>\n",
       "      <td>...</td>\n",
       "      <td>54.950272</td>\n",
       "      <td>58.152473</td>\n",
       "      <td>45.711334</td>\n",
       "      <td>64.008148</td>\n",
       "      <td>65.651894</td>\n",
       "      <td>58.410812</td>\n",
       "      <td>66.571678</td>\n",
       "      <td>65.524292</td>\n",
       "      <td>60.398895</td>\n",
       "      <td>50.277336</td>\n",
       "    </tr>\n",
       "    <tr>\n",
       "      <th>2021-01-19</th>\n",
       "      <td>62.082657</td>\n",
       "      <td>56.593323</td>\n",
       "      <td>51.947102</td>\n",
       "      <td>47.750301</td>\n",
       "      <td>48.314285</td>\n",
       "      <td>47.149132</td>\n",
       "      <td>47.718933</td>\n",
       "      <td>58.480057</td>\n",
       "      <td>52.672451</td>\n",
       "      <td>65.600868</td>\n",
       "      <td>...</td>\n",
       "      <td>66.127228</td>\n",
       "      <td>60.240929</td>\n",
       "      <td>61.362709</td>\n",
       "      <td>92.759186</td>\n",
       "      <td>113.384323</td>\n",
       "      <td>96.813675</td>\n",
       "      <td>75.075241</td>\n",
       "      <td>64.241623</td>\n",
       "      <td>56.761272</td>\n",
       "      <td>52.871956</td>\n",
       "    </tr>\n",
       "    <tr>\n",
       "      <th>2021-01-20</th>\n",
       "      <td>56.611313</td>\n",
       "      <td>53.652542</td>\n",
       "      <td>55.936348</td>\n",
       "      <td>47.344036</td>\n",
       "      <td>45.027988</td>\n",
       "      <td>48.403618</td>\n",
       "      <td>51.120579</td>\n",
       "      <td>59.736145</td>\n",
       "      <td>54.856239</td>\n",
       "      <td>66.588699</td>\n",
       "      <td>...</td>\n",
       "      <td>74.39109</td>\n",
       "      <td>64.888855</td>\n",
       "      <td>67.990356</td>\n",
       "      <td>102.107765</td>\n",
       "      <td>121.720749</td>\n",
       "      <td>90.644821</td>\n",
       "      <td>75.366295</td>\n",
       "      <td>64.664864</td>\n",
       "      <td>51.945976</td>\n",
       "      <td>58.323322</td>\n",
       "    </tr>\n",
       "    <tr>\n",
       "      <th>2021-01-21</th>\n",
       "      <td>53.391525</td>\n",
       "      <td>44.09523</td>\n",
       "      <td>46.845352</td>\n",
       "      <td>44.390884</td>\n",
       "      <td>38.931416</td>\n",
       "      <td>32.785095</td>\n",
       "      <td>47.429279</td>\n",
       "      <td>62.429264</td>\n",
       "      <td>57.485504</td>\n",
       "      <td>63.393337</td>\n",
       "      <td>...</td>\n",
       "      <td>61.503761</td>\n",
       "      <td>58.387054</td>\n",
       "      <td>56.20702</td>\n",
       "      <td>80.117249</td>\n",
       "      <td>96.549866</td>\n",
       "      <td>84.115402</td>\n",
       "      <td>65.170853</td>\n",
       "      <td>61.614311</td>\n",
       "      <td>54.583664</td>\n",
       "      <td>52.87252</td>\n",
       "    </tr>\n",
       "    <tr>\n",
       "      <th>2021-01-22</th>\n",
       "      <td>46.442974</td>\n",
       "      <td>42.376961</td>\n",
       "      <td>43.107029</td>\n",
       "      <td>37.576134</td>\n",
       "      <td>37.263287</td>\n",
       "      <td>37.885471</td>\n",
       "      <td>42.741776</td>\n",
       "      <td>50.208961</td>\n",
       "      <td>47.09948</td>\n",
       "      <td>54.216034</td>\n",
       "      <td>...</td>\n",
       "      <td>60.576248</td>\n",
       "      <td>60.302738</td>\n",
       "      <td>51.090378</td>\n",
       "      <td>83.596642</td>\n",
       "      <td>120.075302</td>\n",
       "      <td>103.948494</td>\n",
       "      <td>81.348724</td>\n",
       "      <td>59.551476</td>\n",
       "      <td>52.034515</td>\n",
       "      <td>46.086121</td>\n",
       "    </tr>\n",
       "    <tr>\n",
       "      <th>2021-01-23</th>\n",
       "      <td>59.620625</td>\n",
       "      <td>55.968468</td>\n",
       "      <td>58.037872</td>\n",
       "      <td>53.669731</td>\n",
       "      <td>49.594067</td>\n",
       "      <td>44.890461</td>\n",
       "      <td>41.977768</td>\n",
       "      <td>50.754818</td>\n",
       "      <td>49.67635</td>\n",
       "      <td>54.13623</td>\n",
       "      <td>...</td>\n",
       "      <td>72.382767</td>\n",
       "      <td>67.393967</td>\n",
       "      <td>61.402367</td>\n",
       "      <td>87.924393</td>\n",
       "      <td>120.306961</td>\n",
       "      <td>87.526199</td>\n",
       "      <td>72.132759</td>\n",
       "      <td>62.527794</td>\n",
       "      <td>53.921635</td>\n",
       "      <td>50.811115</td>\n",
       "    </tr>\n",
       "    <tr>\n",
       "      <th>2021-01-24</th>\n",
       "      <td>52.723827</td>\n",
       "      <td>57.165169</td>\n",
       "      <td>54.738335</td>\n",
       "      <td>52.139458</td>\n",
       "      <td>48.916977</td>\n",
       "      <td>43.73008</td>\n",
       "      <td>44.195961</td>\n",
       "      <td>48.982975</td>\n",
       "      <td>44.427994</td>\n",
       "      <td>53.4506</td>\n",
       "      <td>...</td>\n",
       "      <td>72.41069</td>\n",
       "      <td>67.586594</td>\n",
       "      <td>59.470383</td>\n",
       "      <td>87.003708</td>\n",
       "      <td>132.279327</td>\n",
       "      <td>94.404602</td>\n",
       "      <td>68.721504</td>\n",
       "      <td>57.776001</td>\n",
       "      <td>57.787819</td>\n",
       "      <td>52.316956</td>\n",
       "    </tr>\n",
       "  </tbody>\n",
       "</table>\n",
       "<p>7 rows × 24 columns</p>\n",
       "</div>"
      ],
      "text/plain": [
       "                   h0         h1         h2         h3         h4         h5  \\\n",
       "datetime                                                                       \n",
       "2021-01-18  55.142525  53.882587  59.670654  51.799889  41.852146  51.741425   \n",
       "2021-01-19  62.082657  56.593323  51.947102  47.750301  48.314285  47.149132   \n",
       "2021-01-20  56.611313  53.652542  55.936348  47.344036  45.027988  48.403618   \n",
       "2021-01-21  53.391525   44.09523  46.845352  44.390884  38.931416  32.785095   \n",
       "2021-01-22  46.442974  42.376961  43.107029  37.576134  37.263287  37.885471   \n",
       "2021-01-23  59.620625  55.968468  58.037872  53.669731  49.594067  44.890461   \n",
       "2021-01-24  52.723827  57.165169  54.738335  52.139458  48.916977   43.73008   \n",
       "\n",
       "                   h6         h7         h8         h9  ...        h14  \\\n",
       "datetime                                                ...              \n",
       "2021-01-18  58.612236   66.84697  56.641788  58.737831  ...  54.950272   \n",
       "2021-01-19  47.718933  58.480057  52.672451  65.600868  ...  66.127228   \n",
       "2021-01-20  51.120579  59.736145  54.856239  66.588699  ...   74.39109   \n",
       "2021-01-21  47.429279  62.429264  57.485504  63.393337  ...  61.503761   \n",
       "2021-01-22  42.741776  50.208961   47.09948  54.216034  ...  60.576248   \n",
       "2021-01-23  41.977768  50.754818   49.67635   54.13623  ...  72.382767   \n",
       "2021-01-24  44.195961  48.982975  44.427994    53.4506  ...   72.41069   \n",
       "\n",
       "                  h15        h16         h17         h18         h19  \\\n",
       "datetime                                                               \n",
       "2021-01-18  58.152473  45.711334   64.008148   65.651894   58.410812   \n",
       "2021-01-19  60.240929  61.362709   92.759186  113.384323   96.813675   \n",
       "2021-01-20  64.888855  67.990356  102.107765  121.720749   90.644821   \n",
       "2021-01-21  58.387054   56.20702   80.117249   96.549866   84.115402   \n",
       "2021-01-22  60.302738  51.090378   83.596642  120.075302  103.948494   \n",
       "2021-01-23  67.393967  61.402367   87.924393  120.306961   87.526199   \n",
       "2021-01-24  67.586594  59.470383   87.003708  132.279327   94.404602   \n",
       "\n",
       "                  h20        h21        h22        h23  \n",
       "datetime                                                \n",
       "2021-01-18  66.571678  65.524292  60.398895  50.277336  \n",
       "2021-01-19  75.075241  64.241623  56.761272  52.871956  \n",
       "2021-01-20  75.366295  64.664864  51.945976  58.323322  \n",
       "2021-01-21  65.170853  61.614311  54.583664   52.87252  \n",
       "2021-01-22  81.348724  59.551476  52.034515  46.086121  \n",
       "2021-01-23  72.132759  62.527794  53.921635  50.811115  \n",
       "2021-01-24  68.721504  57.776001  57.787819  52.316956  \n",
       "\n",
       "[7 rows x 24 columns]"
      ]
     },
     "execution_count": 15,
     "metadata": {},
     "output_type": "execute_result"
    }
   ],
   "source": [
    "# Number of layers in DNN\n",
    "nlayers = 2\n",
    "\n",
    "# data to study\n",
    "dataset = 'auctionData_final'\n",
    "\n",
    "# 1 year is considered as 364 days (52 weeks)\n",
    "# years_test = 1\n",
    "\n",
    "# Optional parameters for selecting the test dataset\n",
    "begin_test_date = '2021-01-18'\n",
    "end_test_date = '2021-01-24'\n",
    "\n",
    "# for recalibration the validation and the training datasets are always shuffled\n",
    "shuffle_train = 1\n",
    "\n",
    "# Boolean that selects whether a data augmentation technique for DNNs is used\n",
    "data_augmentation = 0\n",
    "\n",
    "# Boolean that selects whether we start a new recalibration or we restart an existing one\n",
    "new_recalibration = 1\n",
    "\n",
    "# Number of years used in the training dataset for recalibration\n",
    "calibration_window = 1\n",
    "\n",
    "# Unique identifier to read the trials file of hyperparameter optimization\n",
    "experiment_id = 2\n",
    "\n",
    "# Set up the paths for saving data (this are the defaults for the library)\n",
    "# path_datasets_folder = os.path.join('.', 'datasets')\n",
    "# path_recalibration_folder = os.path.join('.', 'experimental_files')\n",
    "# path_hyperparameter_folder = os.path.join('.', 'experimental_files')\n",
    "\n",
    "evaluate_dnn_in_test_dataset(experiment_id,\n",
    "                             path_hyperparameter_folder = 'hyperparameter_dnn/auc_January',\n",
    "                             path_datasets_folder = 'final datasets',\n",
    "                             shuffle_train = shuffle_train,\n",
    "                             path_recalibration_folder = 'forecast results/DNN/auc_January',\n",
    "                             nlayers = nlayers,\n",
    "                             dataset = dataset,\n",
    "                             #years_test = years_test,\n",
    "                             data_augmentation = data_augmentation,\n",
    "                             calibration_window = calibration_window,\n",
    "                             new_recalibration = new_recalibration,\n",
    "                             begin_test_date = begin_test_date,\n",
    "                             end_test_date = end_test_date)"
   ]
  },
  {
   "cell_type": "code",
   "execution_count": 16,
   "id": "efb04d65",
   "metadata": {
    "scrolled": true
   },
   "outputs": [
    {
     "name": "stdout",
     "output_type": "stream",
     "text": [
      "Test datasets: 2020-10-19 00:00:00 - 2020-10-25 23:00:00\n"
     ]
    },
    {
     "name": "stderr",
     "output_type": "stream",
     "text": [
      "C:\\Users\\35250\\AppData\\Roaming\\Python\\Python38\\site-packages\\tensorflow\\python\\keras\\optimizer_v2\\optimizer_v2.py:374: UserWarning: The `lr` argument is deprecated, use `learning_rate` instead.\n",
      "  warnings.warn(\n"
     ]
    },
    {
     "name": "stdout",
     "output_type": "stream",
     "text": [
      "2020-10-19 - sMAPE: 12.93%  |  MAE: 6.022\n",
      "2020-10-20 - sMAPE: 19.10%  |  MAE: 7.669\n",
      "2020-10-21 - sMAPE: 19.83%  |  MAE: 8.027\n",
      "2020-10-22 - sMAPE: 17.40%  |  MAE: 7.173\n",
      "2020-10-23 - sMAPE: 16.62%  |  MAE: 7.113\n",
      "2020-10-24 - sMAPE: 17.08%  |  MAE: 7.285\n",
      "2020-10-25 - sMAPE: 25.69%  |  MAE: 8.381\n"
     ]
    },
    {
     "data": {
      "text/html": [
       "<div>\n",
       "<style scoped>\n",
       "    .dataframe tbody tr th:only-of-type {\n",
       "        vertical-align: middle;\n",
       "    }\n",
       "\n",
       "    .dataframe tbody tr th {\n",
       "        vertical-align: top;\n",
       "    }\n",
       "\n",
       "    .dataframe thead th {\n",
       "        text-align: right;\n",
       "    }\n",
       "</style>\n",
       "<table border=\"1\" class=\"dataframe\">\n",
       "  <thead>\n",
       "    <tr style=\"text-align: right;\">\n",
       "      <th></th>\n",
       "      <th>h0</th>\n",
       "      <th>h1</th>\n",
       "      <th>h2</th>\n",
       "      <th>h3</th>\n",
       "      <th>h4</th>\n",
       "      <th>h5</th>\n",
       "      <th>h6</th>\n",
       "      <th>h7</th>\n",
       "      <th>h8</th>\n",
       "      <th>h9</th>\n",
       "      <th>...</th>\n",
       "      <th>h14</th>\n",
       "      <th>h15</th>\n",
       "      <th>h16</th>\n",
       "      <th>h17</th>\n",
       "      <th>h18</th>\n",
       "      <th>h19</th>\n",
       "      <th>h20</th>\n",
       "      <th>h21</th>\n",
       "      <th>h22</th>\n",
       "      <th>h23</th>\n",
       "    </tr>\n",
       "    <tr>\n",
       "      <th>datetime</th>\n",
       "      <th></th>\n",
       "      <th></th>\n",
       "      <th></th>\n",
       "      <th></th>\n",
       "      <th></th>\n",
       "      <th></th>\n",
       "      <th></th>\n",
       "      <th></th>\n",
       "      <th></th>\n",
       "      <th></th>\n",
       "      <th></th>\n",
       "      <th></th>\n",
       "      <th></th>\n",
       "      <th></th>\n",
       "      <th></th>\n",
       "      <th></th>\n",
       "      <th></th>\n",
       "      <th></th>\n",
       "      <th></th>\n",
       "      <th></th>\n",
       "      <th></th>\n",
       "    </tr>\n",
       "  </thead>\n",
       "  <tbody>\n",
       "    <tr>\n",
       "      <th>2020-10-19</th>\n",
       "      <td>38.805958</td>\n",
       "      <td>38.227566</td>\n",
       "      <td>35.65551</td>\n",
       "      <td>31.856041</td>\n",
       "      <td>29.872696</td>\n",
       "      <td>29.671595</td>\n",
       "      <td>36.222122</td>\n",
       "      <td>43.901154</td>\n",
       "      <td>46.556679</td>\n",
       "      <td>50.236992</td>\n",
       "      <td>...</td>\n",
       "      <td>36.153172</td>\n",
       "      <td>34.899639</td>\n",
       "      <td>35.694473</td>\n",
       "      <td>44.544682</td>\n",
       "      <td>50.016712</td>\n",
       "      <td>49.439861</td>\n",
       "      <td>47.372345</td>\n",
       "      <td>38.957355</td>\n",
       "      <td>33.149315</td>\n",
       "      <td>28.665762</td>\n",
       "    </tr>\n",
       "    <tr>\n",
       "      <th>2020-10-20</th>\n",
       "      <td>22.397905</td>\n",
       "      <td>21.303394</td>\n",
       "      <td>19.121613</td>\n",
       "      <td>17.099894</td>\n",
       "      <td>15.93359</td>\n",
       "      <td>18.783756</td>\n",
       "      <td>24.724228</td>\n",
       "      <td>35.107132</td>\n",
       "      <td>37.576836</td>\n",
       "      <td>39.497158</td>\n",
       "      <td>...</td>\n",
       "      <td>33.765774</td>\n",
       "      <td>33.426617</td>\n",
       "      <td>32.473026</td>\n",
       "      <td>38.690586</td>\n",
       "      <td>47.457661</td>\n",
       "      <td>50.545765</td>\n",
       "      <td>46.046307</td>\n",
       "      <td>37.698986</td>\n",
       "      <td>34.333889</td>\n",
       "      <td>29.591194</td>\n",
       "    </tr>\n",
       "    <tr>\n",
       "      <th>2020-10-21</th>\n",
       "      <td>29.686672</td>\n",
       "      <td>28.738081</td>\n",
       "      <td>27.367353</td>\n",
       "      <td>25.364182</td>\n",
       "      <td>23.875917</td>\n",
       "      <td>24.987837</td>\n",
       "      <td>31.035368</td>\n",
       "      <td>40.154831</td>\n",
       "      <td>40.854336</td>\n",
       "      <td>45.566765</td>\n",
       "      <td>...</td>\n",
       "      <td>39.40979</td>\n",
       "      <td>37.98494</td>\n",
       "      <td>38.063477</td>\n",
       "      <td>47.331081</td>\n",
       "      <td>54.041698</td>\n",
       "      <td>56.342293</td>\n",
       "      <td>50.48204</td>\n",
       "      <td>40.159519</td>\n",
       "      <td>37.010777</td>\n",
       "      <td>31.560423</td>\n",
       "    </tr>\n",
       "    <tr>\n",
       "      <th>2020-10-22</th>\n",
       "      <td>31.477819</td>\n",
       "      <td>30.529312</td>\n",
       "      <td>27.347868</td>\n",
       "      <td>24.764256</td>\n",
       "      <td>23.90876</td>\n",
       "      <td>25.15683</td>\n",
       "      <td>30.465858</td>\n",
       "      <td>39.125347</td>\n",
       "      <td>40.78479</td>\n",
       "      <td>41.52029</td>\n",
       "      <td>...</td>\n",
       "      <td>42.119808</td>\n",
       "      <td>42.183853</td>\n",
       "      <td>41.418427</td>\n",
       "      <td>50.996658</td>\n",
       "      <td>58.31456</td>\n",
       "      <td>55.591057</td>\n",
       "      <td>51.387791</td>\n",
       "      <td>42.66238</td>\n",
       "      <td>40.080128</td>\n",
       "      <td>33.659218</td>\n",
       "    </tr>\n",
       "    <tr>\n",
       "      <th>2020-10-23</th>\n",
       "      <td>52.759232</td>\n",
       "      <td>57.508003</td>\n",
       "      <td>49.111</td>\n",
       "      <td>41.132462</td>\n",
       "      <td>39.414177</td>\n",
       "      <td>39.546753</td>\n",
       "      <td>45.524799</td>\n",
       "      <td>51.738129</td>\n",
       "      <td>51.320202</td>\n",
       "      <td>56.675423</td>\n",
       "      <td>...</td>\n",
       "      <td>48.791649</td>\n",
       "      <td>51.746307</td>\n",
       "      <td>51.254688</td>\n",
       "      <td>70.592369</td>\n",
       "      <td>67.206802</td>\n",
       "      <td>65.746979</td>\n",
       "      <td>66.329254</td>\n",
       "      <td>55.053539</td>\n",
       "      <td>45.698273</td>\n",
       "      <td>40.22728</td>\n",
       "    </tr>\n",
       "    <tr>\n",
       "      <th>2020-10-24</th>\n",
       "      <td>35.377411</td>\n",
       "      <td>30.198786</td>\n",
       "      <td>29.073416</td>\n",
       "      <td>24.669683</td>\n",
       "      <td>21.861273</td>\n",
       "      <td>21.374739</td>\n",
       "      <td>23.993313</td>\n",
       "      <td>28.611134</td>\n",
       "      <td>30.625837</td>\n",
       "      <td>34.780575</td>\n",
       "      <td>...</td>\n",
       "      <td>39.311958</td>\n",
       "      <td>36.224098</td>\n",
       "      <td>35.594688</td>\n",
       "      <td>44.678215</td>\n",
       "      <td>53.914818</td>\n",
       "      <td>50.715137</td>\n",
       "      <td>44.106773</td>\n",
       "      <td>39.673965</td>\n",
       "      <td>38.393692</td>\n",
       "      <td>34.568207</td>\n",
       "    </tr>\n",
       "    <tr>\n",
       "      <th>2020-10-25</th>\n",
       "      <td>29.428831</td>\n",
       "      <td>23.772638</td>\n",
       "      <td>20.208801</td>\n",
       "      <td>17.550348</td>\n",
       "      <td>14.100815</td>\n",
       "      <td>14.514091</td>\n",
       "      <td>17.730583</td>\n",
       "      <td>20.548119</td>\n",
       "      <td>21.415855</td>\n",
       "      <td>27.087255</td>\n",
       "      <td>...</td>\n",
       "      <td>33.455627</td>\n",
       "      <td>31.724291</td>\n",
       "      <td>28.763014</td>\n",
       "      <td>39.16309</td>\n",
       "      <td>49.628784</td>\n",
       "      <td>48.662003</td>\n",
       "      <td>42.332283</td>\n",
       "      <td>39.003777</td>\n",
       "      <td>37.849884</td>\n",
       "      <td>33.721382</td>\n",
       "    </tr>\n",
       "  </tbody>\n",
       "</table>\n",
       "<p>7 rows × 24 columns</p>\n",
       "</div>"
      ],
      "text/plain": [
       "                   h0         h1         h2         h3         h4         h5  \\\n",
       "datetime                                                                       \n",
       "2020-10-19  38.805958  38.227566   35.65551  31.856041  29.872696  29.671595   \n",
       "2020-10-20  22.397905  21.303394  19.121613  17.099894   15.93359  18.783756   \n",
       "2020-10-21  29.686672  28.738081  27.367353  25.364182  23.875917  24.987837   \n",
       "2020-10-22  31.477819  30.529312  27.347868  24.764256   23.90876   25.15683   \n",
       "2020-10-23  52.759232  57.508003     49.111  41.132462  39.414177  39.546753   \n",
       "2020-10-24  35.377411  30.198786  29.073416  24.669683  21.861273  21.374739   \n",
       "2020-10-25  29.428831  23.772638  20.208801  17.550348  14.100815  14.514091   \n",
       "\n",
       "                   h6         h7         h8         h9  ...        h14  \\\n",
       "datetime                                                ...              \n",
       "2020-10-19  36.222122  43.901154  46.556679  50.236992  ...  36.153172   \n",
       "2020-10-20  24.724228  35.107132  37.576836  39.497158  ...  33.765774   \n",
       "2020-10-21  31.035368  40.154831  40.854336  45.566765  ...   39.40979   \n",
       "2020-10-22  30.465858  39.125347   40.78479   41.52029  ...  42.119808   \n",
       "2020-10-23  45.524799  51.738129  51.320202  56.675423  ...  48.791649   \n",
       "2020-10-24  23.993313  28.611134  30.625837  34.780575  ...  39.311958   \n",
       "2020-10-25  17.730583  20.548119  21.415855  27.087255  ...  33.455627   \n",
       "\n",
       "                  h15        h16        h17        h18        h19        h20  \\\n",
       "datetime                                                                       \n",
       "2020-10-19  34.899639  35.694473  44.544682  50.016712  49.439861  47.372345   \n",
       "2020-10-20  33.426617  32.473026  38.690586  47.457661  50.545765  46.046307   \n",
       "2020-10-21   37.98494  38.063477  47.331081  54.041698  56.342293   50.48204   \n",
       "2020-10-22  42.183853  41.418427  50.996658   58.31456  55.591057  51.387791   \n",
       "2020-10-23  51.746307  51.254688  70.592369  67.206802  65.746979  66.329254   \n",
       "2020-10-24  36.224098  35.594688  44.678215  53.914818  50.715137  44.106773   \n",
       "2020-10-25  31.724291  28.763014   39.16309  49.628784  48.662003  42.332283   \n",
       "\n",
       "                  h21        h22        h23  \n",
       "datetime                                     \n",
       "2020-10-19  38.957355  33.149315  28.665762  \n",
       "2020-10-20  37.698986  34.333889  29.591194  \n",
       "2020-10-21  40.159519  37.010777  31.560423  \n",
       "2020-10-22   42.66238  40.080128  33.659218  \n",
       "2020-10-23  55.053539  45.698273   40.22728  \n",
       "2020-10-24  39.673965  38.393692  34.568207  \n",
       "2020-10-25  39.003777  37.849884  33.721382  \n",
       "\n",
       "[7 rows x 24 columns]"
      ]
     },
     "execution_count": 16,
     "metadata": {},
     "output_type": "execute_result"
    }
   ],
   "source": [
    "# Number of layers in DNN\n",
    "nlayers = 2\n",
    "\n",
    "# data to study\n",
    "dataset = 'auctionData_final'\n",
    "\n",
    "# 1 year is considered as 364 days (52 weeks)\n",
    "# years_test = 1\n",
    "\n",
    "# Optional parameters for selecting the test dataset\n",
    "begin_test_date = '2020-10-19'\n",
    "end_test_date = '2020-10-25'\n",
    "\n",
    "# for recalibration the validation and the training datasets are always shuffled\n",
    "shuffle_train = 1\n",
    "\n",
    "# Boolean that selects whether a data augmentation technique for DNNs is used\n",
    "data_augmentation = 0\n",
    "\n",
    "# Boolean that selects whether we start a new recalibration or we restart an existing one\n",
    "new_recalibration = 1\n",
    "\n",
    "# Number of years used in the training dataset for recalibration\n",
    "calibration_window = 1\n",
    "\n",
    "# Unique identifier to read the trials file of hyperparameter optimization\n",
    "experiment_id = 2\n",
    "\n",
    "# Set up the paths for saving data (this are the defaults for the library)\n",
    "# path_datasets_folder = os.path.join('.', 'datasets')\n",
    "# path_recalibration_folder = os.path.join('.', 'experimental_files')\n",
    "# path_hyperparameter_folder = os.path.join('.', 'experimental_files')\n",
    "\n",
    "evaluate_dnn_in_test_dataset(experiment_id,\n",
    "                             path_hyperparameter_folder = 'hyperparameter_dnn/auc_October',\n",
    "                             path_datasets_folder = 'final datasets',\n",
    "                             shuffle_train = shuffle_train,\n",
    "                             path_recalibration_folder = 'forecast results/DNN/auc_October',\n",
    "                             nlayers = nlayers,\n",
    "                             dataset = dataset,\n",
    "                             #years_test = years_test,\n",
    "                             data_augmentation = data_augmentation,\n",
    "                             calibration_window = calibration_window,\n",
    "                             new_recalibration = new_recalibration,\n",
    "                             begin_test_date = begin_test_date,\n",
    "                             end_test_date = end_test_date)"
   ]
  },
  {
   "cell_type": "code",
   "execution_count": 17,
   "id": "d94fc847",
   "metadata": {
    "scrolled": true
   },
   "outputs": [
    {
     "name": "stdout",
     "output_type": "stream",
     "text": [
      "Test datasets: 2020-07-20 00:00:00 - 2020-07-26 23:00:00\n"
     ]
    },
    {
     "name": "stderr",
     "output_type": "stream",
     "text": [
      "C:\\Users\\35250\\AppData\\Roaming\\Python\\Python38\\site-packages\\tensorflow\\python\\keras\\optimizer_v2\\optimizer_v2.py:374: UserWarning: The `lr` argument is deprecated, use `learning_rate` instead.\n",
      "  warnings.warn(\n"
     ]
    },
    {
     "name": "stdout",
     "output_type": "stream",
     "text": [
      "2020-07-20 - sMAPE: 6.86%  |  MAE: 2.059\n"
     ]
    },
    {
     "name": "stderr",
     "output_type": "stream",
     "text": [
      "C:\\Users\\35250\\AppData\\Roaming\\Python\\Python38\\site-packages\\tensorflow\\python\\keras\\optimizer_v2\\optimizer_v2.py:374: UserWarning: The `lr` argument is deprecated, use `learning_rate` instead.\n",
      "  warnings.warn(\n"
     ]
    },
    {
     "name": "stdout",
     "output_type": "stream",
     "text": [
      "2020-07-21 - sMAPE: 6.85%  |  MAE: 2.118\n"
     ]
    },
    {
     "name": "stderr",
     "output_type": "stream",
     "text": [
      "C:\\Users\\35250\\AppData\\Roaming\\Python\\Python38\\site-packages\\tensorflow\\python\\keras\\optimizer_v2\\optimizer_v2.py:374: UserWarning: The `lr` argument is deprecated, use `learning_rate` instead.\n",
      "  warnings.warn(\n"
     ]
    },
    {
     "name": "stdout",
     "output_type": "stream",
     "text": [
      "2020-07-22 - sMAPE: 6.48%  |  MAE: 2.004\n"
     ]
    },
    {
     "name": "stderr",
     "output_type": "stream",
     "text": [
      "C:\\Users\\35250\\AppData\\Roaming\\Python\\Python38\\site-packages\\tensorflow\\python\\keras\\optimizer_v2\\optimizer_v2.py:374: UserWarning: The `lr` argument is deprecated, use `learning_rate` instead.\n",
      "  warnings.warn(\n"
     ]
    },
    {
     "name": "stdout",
     "output_type": "stream",
     "text": [
      "2020-07-23 - sMAPE: 6.04%  |  MAE: 1.866\n"
     ]
    },
    {
     "name": "stderr",
     "output_type": "stream",
     "text": [
      "C:\\Users\\35250\\AppData\\Roaming\\Python\\Python38\\site-packages\\tensorflow\\python\\keras\\optimizer_v2\\optimizer_v2.py:374: UserWarning: The `lr` argument is deprecated, use `learning_rate` instead.\n",
      "  warnings.warn(\n"
     ]
    },
    {
     "name": "stdout",
     "output_type": "stream",
     "text": [
      "2020-07-24 - sMAPE: 6.30%  |  MAE: 1.946\n"
     ]
    },
    {
     "name": "stderr",
     "output_type": "stream",
     "text": [
      "C:\\Users\\35250\\AppData\\Roaming\\Python\\Python38\\site-packages\\tensorflow\\python\\keras\\optimizer_v2\\optimizer_v2.py:374: UserWarning: The `lr` argument is deprecated, use `learning_rate` instead.\n",
      "  warnings.warn(\n"
     ]
    },
    {
     "name": "stdout",
     "output_type": "stream",
     "text": [
      "2020-07-25 - sMAPE: 8.27%  |  MAE: 2.413\n"
     ]
    },
    {
     "name": "stderr",
     "output_type": "stream",
     "text": [
      "C:\\Users\\35250\\AppData\\Roaming\\Python\\Python38\\site-packages\\tensorflow\\python\\keras\\optimizer_v2\\optimizer_v2.py:374: UserWarning: The `lr` argument is deprecated, use `learning_rate` instead.\n",
      "  warnings.warn(\n"
     ]
    },
    {
     "name": "stdout",
     "output_type": "stream",
     "text": [
      "2020-07-26 - sMAPE: 10.47%  |  MAE: 2.817\n"
     ]
    },
    {
     "data": {
      "text/html": [
       "<div>\n",
       "<style scoped>\n",
       "    .dataframe tbody tr th:only-of-type {\n",
       "        vertical-align: middle;\n",
       "    }\n",
       "\n",
       "    .dataframe tbody tr th {\n",
       "        vertical-align: top;\n",
       "    }\n",
       "\n",
       "    .dataframe thead th {\n",
       "        text-align: right;\n",
       "    }\n",
       "</style>\n",
       "<table border=\"1\" class=\"dataframe\">\n",
       "  <thead>\n",
       "    <tr style=\"text-align: right;\">\n",
       "      <th></th>\n",
       "      <th>h0</th>\n",
       "      <th>h1</th>\n",
       "      <th>h2</th>\n",
       "      <th>h3</th>\n",
       "      <th>h4</th>\n",
       "      <th>h5</th>\n",
       "      <th>h6</th>\n",
       "      <th>h7</th>\n",
       "      <th>h8</th>\n",
       "      <th>h9</th>\n",
       "      <th>...</th>\n",
       "      <th>h14</th>\n",
       "      <th>h15</th>\n",
       "      <th>h16</th>\n",
       "      <th>h17</th>\n",
       "      <th>h18</th>\n",
       "      <th>h19</th>\n",
       "      <th>h20</th>\n",
       "      <th>h21</th>\n",
       "      <th>h22</th>\n",
       "      <th>h23</th>\n",
       "    </tr>\n",
       "    <tr>\n",
       "      <th>datetime</th>\n",
       "      <th></th>\n",
       "      <th></th>\n",
       "      <th></th>\n",
       "      <th></th>\n",
       "      <th></th>\n",
       "      <th></th>\n",
       "      <th></th>\n",
       "      <th></th>\n",
       "      <th></th>\n",
       "      <th></th>\n",
       "      <th></th>\n",
       "      <th></th>\n",
       "      <th></th>\n",
       "      <th></th>\n",
       "      <th></th>\n",
       "      <th></th>\n",
       "      <th></th>\n",
       "      <th></th>\n",
       "      <th></th>\n",
       "      <th></th>\n",
       "      <th></th>\n",
       "    </tr>\n",
       "  </thead>\n",
       "  <tbody>\n",
       "    <tr>\n",
       "      <th>2020-07-20</th>\n",
       "      <td>31.127848</td>\n",
       "      <td>27.083015</td>\n",
       "      <td>25.120836</td>\n",
       "      <td>24.328648</td>\n",
       "      <td>22.858992</td>\n",
       "      <td>23.384542</td>\n",
       "      <td>27.738066</td>\n",
       "      <td>33.247398</td>\n",
       "      <td>34.718914</td>\n",
       "      <td>37.03759</td>\n",
       "      <td>...</td>\n",
       "      <td>29.953358</td>\n",
       "      <td>28.168781</td>\n",
       "      <td>28.004955</td>\n",
       "      <td>32.310982</td>\n",
       "      <td>37.376938</td>\n",
       "      <td>42.664696</td>\n",
       "      <td>40.596523</td>\n",
       "      <td>36.28957</td>\n",
       "      <td>33.593803</td>\n",
       "      <td>29.463514</td>\n",
       "    </tr>\n",
       "    <tr>\n",
       "      <th>2020-07-21</th>\n",
       "      <td>32.011368</td>\n",
       "      <td>28.167515</td>\n",
       "      <td>26.377979</td>\n",
       "      <td>25.21701</td>\n",
       "      <td>24.245865</td>\n",
       "      <td>24.625992</td>\n",
       "      <td>27.903013</td>\n",
       "      <td>32.994518</td>\n",
       "      <td>34.579597</td>\n",
       "      <td>37.034672</td>\n",
       "      <td>...</td>\n",
       "      <td>30.89769</td>\n",
       "      <td>28.97641</td>\n",
       "      <td>29.261318</td>\n",
       "      <td>33.089504</td>\n",
       "      <td>38.619621</td>\n",
       "      <td>42.664379</td>\n",
       "      <td>40.620743</td>\n",
       "      <td>36.452507</td>\n",
       "      <td>34.487938</td>\n",
       "      <td>30.608486</td>\n",
       "    </tr>\n",
       "    <tr>\n",
       "      <th>2020-07-22</th>\n",
       "      <td>31.460323</td>\n",
       "      <td>27.61334</td>\n",
       "      <td>25.67757</td>\n",
       "      <td>24.900837</td>\n",
       "      <td>23.439362</td>\n",
       "      <td>23.731348</td>\n",
       "      <td>26.550266</td>\n",
       "      <td>32.415092</td>\n",
       "      <td>34.288628</td>\n",
       "      <td>36.909969</td>\n",
       "      <td>...</td>\n",
       "      <td>28.905052</td>\n",
       "      <td>26.542358</td>\n",
       "      <td>26.96678</td>\n",
       "      <td>30.566315</td>\n",
       "      <td>35.405399</td>\n",
       "      <td>40.041222</td>\n",
       "      <td>38.016712</td>\n",
       "      <td>34.152431</td>\n",
       "      <td>31.966188</td>\n",
       "      <td>28.34973</td>\n",
       "    </tr>\n",
       "    <tr>\n",
       "      <th>2020-07-23</th>\n",
       "      <td>30.846987</td>\n",
       "      <td>26.793686</td>\n",
       "      <td>25.020399</td>\n",
       "      <td>24.296659</td>\n",
       "      <td>23.101564</td>\n",
       "      <td>23.615137</td>\n",
       "      <td>26.735142</td>\n",
       "      <td>32.096523</td>\n",
       "      <td>33.034687</td>\n",
       "      <td>34.874889</td>\n",
       "      <td>...</td>\n",
       "      <td>29.260015</td>\n",
       "      <td>27.268751</td>\n",
       "      <td>27.443466</td>\n",
       "      <td>31.719351</td>\n",
       "      <td>36.165928</td>\n",
       "      <td>39.891464</td>\n",
       "      <td>38.61285</td>\n",
       "      <td>35.62566</td>\n",
       "      <td>34.479919</td>\n",
       "      <td>31.414516</td>\n",
       "    </tr>\n",
       "    <tr>\n",
       "      <th>2020-07-24</th>\n",
       "      <td>31.395359</td>\n",
       "      <td>27.33448</td>\n",
       "      <td>25.67585</td>\n",
       "      <td>24.865467</td>\n",
       "      <td>23.983702</td>\n",
       "      <td>24.297304</td>\n",
       "      <td>27.204937</td>\n",
       "      <td>31.69805</td>\n",
       "      <td>33.086025</td>\n",
       "      <td>35.630863</td>\n",
       "      <td>...</td>\n",
       "      <td>29.555435</td>\n",
       "      <td>26.793282</td>\n",
       "      <td>27.115181</td>\n",
       "      <td>31.389584</td>\n",
       "      <td>36.320396</td>\n",
       "      <td>40.533287</td>\n",
       "      <td>39.079823</td>\n",
       "      <td>35.729073</td>\n",
       "      <td>34.065163</td>\n",
       "      <td>30.248207</td>\n",
       "    </tr>\n",
       "    <tr>\n",
       "      <th>2020-07-25</th>\n",
       "      <td>29.03056</td>\n",
       "      <td>22.176588</td>\n",
       "      <td>20.26676</td>\n",
       "      <td>18.57836</td>\n",
       "      <td>16.409449</td>\n",
       "      <td>16.609219</td>\n",
       "      <td>16.948351</td>\n",
       "      <td>20.272642</td>\n",
       "      <td>22.312506</td>\n",
       "      <td>26.365969</td>\n",
       "      <td>...</td>\n",
       "      <td>22.418425</td>\n",
       "      <td>19.214479</td>\n",
       "      <td>20.1984</td>\n",
       "      <td>26.123068</td>\n",
       "      <td>31.659641</td>\n",
       "      <td>36.497803</td>\n",
       "      <td>35.026386</td>\n",
       "      <td>33.916035</td>\n",
       "      <td>32.315426</td>\n",
       "      <td>29.199547</td>\n",
       "    </tr>\n",
       "    <tr>\n",
       "      <th>2020-07-26</th>\n",
       "      <td>32.811787</td>\n",
       "      <td>26.595196</td>\n",
       "      <td>23.790903</td>\n",
       "      <td>22.030464</td>\n",
       "      <td>20.465403</td>\n",
       "      <td>19.536795</td>\n",
       "      <td>20.076889</td>\n",
       "      <td>22.702988</td>\n",
       "      <td>23.924923</td>\n",
       "      <td>27.569366</td>\n",
       "      <td>...</td>\n",
       "      <td>25.909584</td>\n",
       "      <td>21.596497</td>\n",
       "      <td>21.67931</td>\n",
       "      <td>27.609928</td>\n",
       "      <td>32.760445</td>\n",
       "      <td>37.278503</td>\n",
       "      <td>37.363384</td>\n",
       "      <td>36.444798</td>\n",
       "      <td>35.527649</td>\n",
       "      <td>32.378681</td>\n",
       "    </tr>\n",
       "  </tbody>\n",
       "</table>\n",
       "<p>7 rows × 24 columns</p>\n",
       "</div>"
      ],
      "text/plain": [
       "                   h0         h1         h2         h3         h4         h5  \\\n",
       "datetime                                                                       \n",
       "2020-07-20  31.127848  27.083015  25.120836  24.328648  22.858992  23.384542   \n",
       "2020-07-21  32.011368  28.167515  26.377979   25.21701  24.245865  24.625992   \n",
       "2020-07-22  31.460323   27.61334   25.67757  24.900837  23.439362  23.731348   \n",
       "2020-07-23  30.846987  26.793686  25.020399  24.296659  23.101564  23.615137   \n",
       "2020-07-24  31.395359   27.33448   25.67585  24.865467  23.983702  24.297304   \n",
       "2020-07-25   29.03056  22.176588   20.26676   18.57836  16.409449  16.609219   \n",
       "2020-07-26  32.811787  26.595196  23.790903  22.030464  20.465403  19.536795   \n",
       "\n",
       "                   h6         h7         h8         h9  ...        h14  \\\n",
       "datetime                                                ...              \n",
       "2020-07-20  27.738066  33.247398  34.718914   37.03759  ...  29.953358   \n",
       "2020-07-21  27.903013  32.994518  34.579597  37.034672  ...   30.89769   \n",
       "2020-07-22  26.550266  32.415092  34.288628  36.909969  ...  28.905052   \n",
       "2020-07-23  26.735142  32.096523  33.034687  34.874889  ...  29.260015   \n",
       "2020-07-24  27.204937   31.69805  33.086025  35.630863  ...  29.555435   \n",
       "2020-07-25  16.948351  20.272642  22.312506  26.365969  ...  22.418425   \n",
       "2020-07-26  20.076889  22.702988  23.924923  27.569366  ...  25.909584   \n",
       "\n",
       "                  h15        h16        h17        h18        h19        h20  \\\n",
       "datetime                                                                       \n",
       "2020-07-20  28.168781  28.004955  32.310982  37.376938  42.664696  40.596523   \n",
       "2020-07-21   28.97641  29.261318  33.089504  38.619621  42.664379  40.620743   \n",
       "2020-07-22  26.542358   26.96678  30.566315  35.405399  40.041222  38.016712   \n",
       "2020-07-23  27.268751  27.443466  31.719351  36.165928  39.891464   38.61285   \n",
       "2020-07-24  26.793282  27.115181  31.389584  36.320396  40.533287  39.079823   \n",
       "2020-07-25  19.214479    20.1984  26.123068  31.659641  36.497803  35.026386   \n",
       "2020-07-26  21.596497   21.67931  27.609928  32.760445  37.278503  37.363384   \n",
       "\n",
       "                  h21        h22        h23  \n",
       "datetime                                     \n",
       "2020-07-20   36.28957  33.593803  29.463514  \n",
       "2020-07-21  36.452507  34.487938  30.608486  \n",
       "2020-07-22  34.152431  31.966188   28.34973  \n",
       "2020-07-23   35.62566  34.479919  31.414516  \n",
       "2020-07-24  35.729073  34.065163  30.248207  \n",
       "2020-07-25  33.916035  32.315426  29.199547  \n",
       "2020-07-26  36.444798  35.527649  32.378681  \n",
       "\n",
       "[7 rows x 24 columns]"
      ]
     },
     "execution_count": 17,
     "metadata": {},
     "output_type": "execute_result"
    }
   ],
   "source": [
    "# Number of layers in DNN\n",
    "nlayers = 2\n",
    "\n",
    "# data to study\n",
    "dataset = 'auctionData_final'\n",
    "\n",
    "# 1 year is considered as 364 days (52 weeks)\n",
    "# years_test = 1\n",
    "\n",
    "# Optional parameters for selecting the test dataset\n",
    "begin_test_date = '2020-07-20'\n",
    "end_test_date = '2020-07-26'\n",
    "\n",
    "# for recalibration the validation and the training datasets are always shuffled\n",
    "shuffle_train = 1\n",
    "\n",
    "# Boolean that selects whether a data augmentation technique for DNNs is used\n",
    "data_augmentation = 0\n",
    "\n",
    "# Boolean that selects whether we start a new recalibration or we restart an existing one\n",
    "new_recalibration = 1\n",
    "\n",
    "# Number of years used in the training dataset for recalibration\n",
    "calibration_window = 1\n",
    "\n",
    "# Unique identifier to read the trials file of hyperparameter optimization\n",
    "experiment_id = 2\n",
    "\n",
    "# Set up the paths for saving data (this are the defaults for the library)\n",
    "# path_datasets_folder = os.path.join('.', 'datasets')\n",
    "# path_recalibration_folder = os.path.join('.', 'experimental_files')\n",
    "# path_hyperparameter_folder = os.path.join('.', 'experimental_files')\n",
    "\n",
    "evaluate_dnn_in_test_dataset(experiment_id,\n",
    "                             path_hyperparameter_folder = 'hyperparameter_dnn/auc_July',\n",
    "                             path_datasets_folder = 'final datasets',\n",
    "                             shuffle_train = shuffle_train,\n",
    "                             path_recalibration_folder = 'forecast results/DNN/auc_July',\n",
    "                             nlayers = nlayers,\n",
    "                             dataset = dataset,\n",
    "                             #years_test = years_test,\n",
    "                             data_augmentation = data_augmentation,\n",
    "                             calibration_window = calibration_window,\n",
    "                             new_recalibration = new_recalibration,\n",
    "                             begin_test_date = begin_test_date,\n",
    "                             end_test_date = end_test_date)"
   ]
  },
  {
   "cell_type": "code",
   "execution_count": null,
   "id": "88eca171",
   "metadata": {},
   "outputs": [],
   "source": []
  }
 ],
 "metadata": {
  "kernelspec": {
   "display_name": "Python 3",
   "language": "python",
   "name": "python3"
  },
  "language_info": {
   "codemirror_mode": {
    "name": "ipython",
    "version": 3
   },
   "file_extension": ".py",
   "mimetype": "text/x-python",
   "name": "python",
   "nbconvert_exporter": "python",
   "pygments_lexer": "ipython3",
   "version": "3.8.8"
  }
 },
 "nbformat": 4,
 "nbformat_minor": 5
}

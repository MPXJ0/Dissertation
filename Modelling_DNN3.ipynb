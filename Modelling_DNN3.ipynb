{
 "cells": [
  {
   "cell_type": "code",
   "execution_count": 1,
   "id": "b5e22792",
   "metadata": {},
   "outputs": [],
   "source": [
    "import pandas as pd\n",
    "import numpy as np\n",
    "import os\n",
    "\n",
    "from epftoolbox.models import hyperparameter_optimizer\n",
    "from epftoolbox.models import evaluate_dnn_in_test_dataset"
   ]
  },
  {
   "cell_type": "code",
   "execution_count": 2,
   "id": "7704d348",
   "metadata": {
    "scrolled": true
   },
   "outputs": [
    {
     "name": "stdout",
     "output_type": "stream",
     "text": [
      "Test datasets: 2020-10-19 00:00:00 - 2021-01-17 23:00:00\n"
     ]
    },
    {
     "name": "stderr",
     "output_type": "stream",
     "text": [
      "C:\\Users\\35250\\AppData\\Roaming\\Python\\Python38\\site-packages\\tensorflow\\python\\keras\\optimizer_v2\\optimizer_v2.py:374: UserWarning: The `lr` argument is deprecated, use `learning_rate` instead.\n",
      "  warnings.warn(\n"
     ]
    },
    {
     "name": "stdout",
     "output_type": "stream",
     "text": [
      "\n",
      "\n",
      "Tested 1/50 iterations.\n",
      "Best MAE - Validation Dataset\n",
      "  MAE: 15.9 | sMAPE: 54.21 %\n",
      "\n",
      "Best MAE - Test Dataset\n",
      "  MAE: 33.4 | sMAPE: 61.74 %\n"
     ]
    },
    {
     "name": "stderr",
     "output_type": "stream",
     "text": [
      "C:\\Users\\35250\\AppData\\Roaming\\Python\\Python38\\site-packages\\tensorflow\\python\\keras\\optimizer_v2\\optimizer_v2.py:374: UserWarning: The `lr` argument is deprecated, use `learning_rate` instead.\n",
      "  warnings.warn(\n"
     ]
    },
    {
     "name": "stdout",
     "output_type": "stream",
     "text": [
      "\n",
      "\n",
      "Tested 2/50 iterations.\n",
      "Best MAE - Validation Dataset\n",
      "  MAE: 15.9 | sMAPE: 54.21 %\n",
      "\n",
      "Best MAE - Test Dataset\n",
      "  MAE: 33.4 | sMAPE: 61.74 %\n"
     ]
    },
    {
     "name": "stderr",
     "output_type": "stream",
     "text": [
      "C:\\Users\\35250\\AppData\\Roaming\\Python\\Python38\\site-packages\\tensorflow\\python\\keras\\optimizer_v2\\optimizer_v2.py:374: UserWarning: The `lr` argument is deprecated, use `learning_rate` instead.\n",
      "  warnings.warn(\n"
     ]
    },
    {
     "name": "stdout",
     "output_type": "stream",
     "text": [
      "\n",
      "\n",
      "Tested 3/50 iterations.\n",
      "Best MAE - Validation Dataset\n",
      "  MAE: 15.9 | sMAPE: 54.89 %\n",
      "\n",
      "Best MAE - Test Dataset\n",
      "  MAE: 33.3 | sMAPE: 61.55 %\n"
     ]
    },
    {
     "name": "stderr",
     "output_type": "stream",
     "text": [
      "C:\\Users\\35250\\AppData\\Roaming\\Python\\Python38\\site-packages\\tensorflow\\python\\keras\\optimizer_v2\\optimizer_v2.py:374: UserWarning: The `lr` argument is deprecated, use `learning_rate` instead.\n",
      "  warnings.warn(\n"
     ]
    },
    {
     "name": "stdout",
     "output_type": "stream",
     "text": [
      "\n",
      "\n",
      "Tested 4/50 iterations.\n",
      "Best MAE - Validation Dataset\n",
      "  MAE: 15.9 | sMAPE: 54.89 %\n",
      "\n",
      "Best MAE - Test Dataset\n",
      "  MAE: 33.3 | sMAPE: 61.55 %\n"
     ]
    },
    {
     "name": "stderr",
     "output_type": "stream",
     "text": [
      "C:\\Users\\35250\\AppData\\Roaming\\Python\\Python38\\site-packages\\tensorflow\\python\\keras\\optimizer_v2\\optimizer_v2.py:374: UserWarning: The `lr` argument is deprecated, use `learning_rate` instead.\n",
      "  warnings.warn(\n"
     ]
    },
    {
     "name": "stdout",
     "output_type": "stream",
     "text": [
      "\n",
      "\n",
      "Tested 5/50 iterations.\n",
      "Best MAE - Validation Dataset\n",
      "  MAE: 15.0 | sMAPE: 54.33 %\n",
      "\n",
      "Best MAE - Test Dataset\n",
      "  MAE: 30.4 | sMAPE: 54.76 %\n"
     ]
    },
    {
     "name": "stderr",
     "output_type": "stream",
     "text": [
      "C:\\Users\\35250\\AppData\\Roaming\\Python\\Python38\\site-packages\\tensorflow\\python\\keras\\optimizer_v2\\optimizer_v2.py:374: UserWarning: The `lr` argument is deprecated, use `learning_rate` instead.\n",
      "  warnings.warn(\n"
     ]
    },
    {
     "name": "stdout",
     "output_type": "stream",
     "text": [
      "\n",
      "\n",
      "Tested 6/50 iterations.\n",
      "Best MAE - Validation Dataset\n",
      "  MAE: 15.0 | sMAPE: 54.33 %\n",
      "\n",
      "Best MAE - Test Dataset\n",
      "  MAE: 30.4 | sMAPE: 54.76 %\n"
     ]
    },
    {
     "name": "stderr",
     "output_type": "stream",
     "text": [
      "C:\\Users\\35250\\AppData\\Roaming\\Python\\Python38\\site-packages\\tensorflow\\python\\keras\\optimizer_v2\\optimizer_v2.py:374: UserWarning: The `lr` argument is deprecated, use `learning_rate` instead.\n",
      "  warnings.warn(\n"
     ]
    },
    {
     "name": "stdout",
     "output_type": "stream",
     "text": [
      "\n",
      "\n",
      "Tested 7/50 iterations.\n",
      "Best MAE - Validation Dataset\n",
      "  MAE: 15.0 | sMAPE: 54.33 %\n",
      "\n",
      "Best MAE - Test Dataset\n",
      "  MAE: 30.4 | sMAPE: 54.76 %\n"
     ]
    },
    {
     "name": "stderr",
     "output_type": "stream",
     "text": [
      "C:\\Users\\35250\\AppData\\Roaming\\Python\\Python38\\site-packages\\tensorflow\\python\\keras\\optimizer_v2\\optimizer_v2.py:374: UserWarning: The `lr` argument is deprecated, use `learning_rate` instead.\n",
      "  warnings.warn(\n"
     ]
    },
    {
     "name": "stdout",
     "output_type": "stream",
     "text": [
      "\n",
      "\n",
      "Tested 8/50 iterations.\n",
      "Best MAE - Validation Dataset\n",
      "  MAE: 15.0 | sMAPE: 54.33 %\n",
      "\n",
      "Best MAE - Test Dataset\n",
      "  MAE: 30.4 | sMAPE: 54.76 %\n"
     ]
    },
    {
     "name": "stderr",
     "output_type": "stream",
     "text": [
      "C:\\Users\\35250\\AppData\\Roaming\\Python\\Python38\\site-packages\\tensorflow\\python\\keras\\optimizer_v2\\optimizer_v2.py:374: UserWarning: The `lr` argument is deprecated, use `learning_rate` instead.\n",
      "  warnings.warn(\n"
     ]
    },
    {
     "name": "stdout",
     "output_type": "stream",
     "text": [
      "\n",
      "\n",
      "Tested 9/50 iterations.\n",
      "Best MAE - Validation Dataset\n",
      "  MAE: 15.0 | sMAPE: 54.33 %\n",
      "\n",
      "Best MAE - Test Dataset\n",
      "  MAE: 30.4 | sMAPE: 54.76 %\n"
     ]
    },
    {
     "name": "stderr",
     "output_type": "stream",
     "text": [
      "C:\\Users\\35250\\AppData\\Roaming\\Python\\Python38\\site-packages\\tensorflow\\python\\keras\\optimizer_v2\\optimizer_v2.py:374: UserWarning: The `lr` argument is deprecated, use `learning_rate` instead.\n",
      "  warnings.warn(\n"
     ]
    },
    {
     "name": "stdout",
     "output_type": "stream",
     "text": [
      "\n",
      "\n",
      "Tested 10/50 iterations.\n",
      "Best MAE - Validation Dataset\n",
      "  MAE: 15.0 | sMAPE: 54.33 %\n",
      "\n",
      "Best MAE - Test Dataset\n",
      "  MAE: 30.4 | sMAPE: 54.76 %\n"
     ]
    },
    {
     "name": "stderr",
     "output_type": "stream",
     "text": [
      "C:\\Users\\35250\\AppData\\Roaming\\Python\\Python38\\site-packages\\tensorflow\\python\\keras\\optimizer_v2\\optimizer_v2.py:374: UserWarning: The `lr` argument is deprecated, use `learning_rate` instead.\n",
      "  warnings.warn(\n"
     ]
    },
    {
     "name": "stdout",
     "output_type": "stream",
     "text": [
      "\n",
      "\n",
      "Tested 11/50 iterations.\n",
      "Best MAE - Validation Dataset\n",
      "  MAE: 15.0 | sMAPE: 54.33 %\n",
      "\n",
      "Best MAE - Test Dataset\n",
      "  MAE: 30.4 | sMAPE: 54.76 %\n"
     ]
    },
    {
     "name": "stderr",
     "output_type": "stream",
     "text": [
      "C:\\Users\\35250\\AppData\\Roaming\\Python\\Python38\\site-packages\\tensorflow\\python\\keras\\optimizer_v2\\optimizer_v2.py:374: UserWarning: The `lr` argument is deprecated, use `learning_rate` instead.\n",
      "  warnings.warn(\n"
     ]
    },
    {
     "name": "stdout",
     "output_type": "stream",
     "text": [
      "\n",
      "\n",
      "Tested 12/50 iterations.\n",
      "Best MAE - Validation Dataset\n",
      "  MAE: 15.0 | sMAPE: 54.33 %\n",
      "\n",
      "Best MAE - Test Dataset\n",
      "  MAE: 30.4 | sMAPE: 54.76 %\n"
     ]
    },
    {
     "name": "stderr",
     "output_type": "stream",
     "text": [
      "C:\\Users\\35250\\AppData\\Roaming\\Python\\Python38\\site-packages\\tensorflow\\python\\keras\\optimizer_v2\\optimizer_v2.py:374: UserWarning: The `lr` argument is deprecated, use `learning_rate` instead.\n",
      "  warnings.warn(\n"
     ]
    },
    {
     "name": "stdout",
     "output_type": "stream",
     "text": [
      "\n",
      "\n",
      "Tested 13/50 iterations.\n",
      "Best MAE - Validation Dataset\n",
      "  MAE: 15.0 | sMAPE: 54.33 %\n",
      "\n",
      "Best MAE - Test Dataset\n",
      "  MAE: 30.4 | sMAPE: 54.76 %\n"
     ]
    },
    {
     "name": "stderr",
     "output_type": "stream",
     "text": [
      "C:\\Users\\35250\\AppData\\Roaming\\Python\\Python38\\site-packages\\tensorflow\\python\\keras\\optimizer_v2\\optimizer_v2.py:374: UserWarning: The `lr` argument is deprecated, use `learning_rate` instead.\n",
      "  warnings.warn(\n"
     ]
    },
    {
     "name": "stdout",
     "output_type": "stream",
     "text": [
      "\n",
      "\n",
      "Tested 14/50 iterations.\n",
      "Best MAE - Validation Dataset\n",
      "  MAE: 12.5 | sMAPE: 47.59 %\n",
      "\n",
      "Best MAE - Test Dataset\n",
      "  MAE: 28.9 | sMAPE: 53.79 %\n"
     ]
    },
    {
     "name": "stderr",
     "output_type": "stream",
     "text": [
      "C:\\Users\\35250\\AppData\\Roaming\\Python\\Python38\\site-packages\\tensorflow\\python\\keras\\optimizer_v2\\optimizer_v2.py:374: UserWarning: The `lr` argument is deprecated, use `learning_rate` instead.\n",
      "  warnings.warn(\n"
     ]
    },
    {
     "name": "stdout",
     "output_type": "stream",
     "text": [
      "\n",
      "\n",
      "Tested 15/50 iterations.\n",
      "Best MAE - Validation Dataset\n",
      "  MAE: 12.5 | sMAPE: 47.59 %\n",
      "\n",
      "Best MAE - Test Dataset\n",
      "  MAE: 28.9 | sMAPE: 53.79 %\n",
      "\n",
      "\n",
      "Tested 16/50 iterations.\n",
      "Best MAE - Validation Dataset\n",
      "  MAE: 12.5 | sMAPE: 47.59 %\n",
      "\n",
      "Best MAE - Test Dataset\n",
      "  MAE: 28.9 | sMAPE: 53.79 %\n"
     ]
    },
    {
     "name": "stderr",
     "output_type": "stream",
     "text": [
      "C:\\Users\\35250\\AppData\\Roaming\\Python\\Python38\\site-packages\\tensorflow\\python\\keras\\optimizer_v2\\optimizer_v2.py:374: UserWarning: The `lr` argument is deprecated, use `learning_rate` instead.\n",
      "  warnings.warn(\n"
     ]
    },
    {
     "name": "stdout",
     "output_type": "stream",
     "text": [
      "\n",
      "\n",
      "Tested 17/50 iterations.\n",
      "Best MAE - Validation Dataset\n",
      "  MAE: 12.5 | sMAPE: 47.59 %\n",
      "\n",
      "Best MAE - Test Dataset\n",
      "  MAE: 28.9 | sMAPE: 53.79 %\n"
     ]
    },
    {
     "name": "stderr",
     "output_type": "stream",
     "text": [
      "C:\\Users\\35250\\AppData\\Roaming\\Python\\Python38\\site-packages\\tensorflow\\python\\keras\\optimizer_v2\\optimizer_v2.py:374: UserWarning: The `lr` argument is deprecated, use `learning_rate` instead.\n",
      "  warnings.warn(\n"
     ]
    },
    {
     "name": "stdout",
     "output_type": "stream",
     "text": [
      "\n",
      "\n",
      "Tested 18/50 iterations.\n",
      "Best MAE - Validation Dataset\n",
      "  MAE: 12.5 | sMAPE: 47.59 %\n",
      "\n",
      "Best MAE - Test Dataset\n",
      "  MAE: 28.9 | sMAPE: 53.79 %\n"
     ]
    },
    {
     "name": "stderr",
     "output_type": "stream",
     "text": [
      "C:\\Users\\35250\\AppData\\Roaming\\Python\\Python38\\site-packages\\tensorflow\\python\\keras\\optimizer_v2\\optimizer_v2.py:374: UserWarning: The `lr` argument is deprecated, use `learning_rate` instead.\n",
      "  warnings.warn(\n"
     ]
    },
    {
     "name": "stdout",
     "output_type": "stream",
     "text": [
      "\n",
      "\n",
      "Tested 19/50 iterations.\n",
      "Best MAE - Validation Dataset\n",
      "  MAE: 12.5 | sMAPE: 47.59 %\n",
      "\n",
      "Best MAE - Test Dataset\n",
      "  MAE: 28.9 | sMAPE: 53.79 %\n"
     ]
    },
    {
     "name": "stderr",
     "output_type": "stream",
     "text": [
      "C:\\Users\\35250\\AppData\\Roaming\\Python\\Python38\\site-packages\\tensorflow\\python\\keras\\optimizer_v2\\optimizer_v2.py:374: UserWarning: The `lr` argument is deprecated, use `learning_rate` instead.\n",
      "  warnings.warn(\n"
     ]
    },
    {
     "name": "stdout",
     "output_type": "stream",
     "text": [
      "\n",
      "\n",
      "Tested 20/50 iterations.\n",
      "Best MAE - Validation Dataset\n",
      "  MAE: 12.5 | sMAPE: 47.59 %\n",
      "\n",
      "Best MAE - Test Dataset\n",
      "  MAE: 28.9 | sMAPE: 53.79 %\n",
      "\n",
      "\n",
      "Tested 21/50 iterations.\n",
      "Best MAE - Validation Dataset\n",
      "  MAE: 12.5 | sMAPE: 47.59 %\n",
      "\n",
      "Best MAE - Test Dataset\n",
      "  MAE: 28.9 | sMAPE: 53.79 %\n"
     ]
    },
    {
     "name": "stderr",
     "output_type": "stream",
     "text": [
      "C:\\Users\\35250\\AppData\\Roaming\\Python\\Python38\\site-packages\\tensorflow\\python\\keras\\optimizer_v2\\optimizer_v2.py:374: UserWarning: The `lr` argument is deprecated, use `learning_rate` instead.\n",
      "  warnings.warn(\n"
     ]
    },
    {
     "name": "stdout",
     "output_type": "stream",
     "text": [
      "\n",
      "\n",
      "Tested 22/50 iterations.\n",
      "Best MAE - Validation Dataset\n",
      "  MAE: 12.5 | sMAPE: 47.59 %\n",
      "\n",
      "Best MAE - Test Dataset\n",
      "  MAE: 28.9 | sMAPE: 53.79 %\n",
      "\n",
      "\n",
      "Tested 23/50 iterations.\n",
      "Best MAE - Validation Dataset\n",
      "  MAE: 12.5 | sMAPE: 47.59 %\n",
      "\n",
      "Best MAE - Test Dataset\n",
      "  MAE: 28.9 | sMAPE: 53.79 %\n"
     ]
    },
    {
     "name": "stderr",
     "output_type": "stream",
     "text": [
      "C:\\Users\\35250\\AppData\\Roaming\\Python\\Python38\\site-packages\\tensorflow\\python\\keras\\optimizer_v2\\optimizer_v2.py:374: UserWarning: The `lr` argument is deprecated, use `learning_rate` instead.\n",
      "  warnings.warn(\n"
     ]
    },
    {
     "name": "stdout",
     "output_type": "stream",
     "text": [
      "\n",
      "\n",
      "Tested 24/50 iterations.\n",
      "Best MAE - Validation Dataset\n",
      "  MAE: 12.5 | sMAPE: 47.59 %\n",
      "\n",
      "Best MAE - Test Dataset\n",
      "  MAE: 28.9 | sMAPE: 53.79 %\n",
      "\n",
      "\n",
      "Tested 25/50 iterations.\n",
      "Best MAE - Validation Dataset\n",
      "  MAE: 12.5 | sMAPE: 47.59 %\n",
      "\n",
      "Best MAE - Test Dataset\n",
      "  MAE: 28.9 | sMAPE: 53.79 %\n",
      "\n",
      "\n",
      "Tested 26/50 iterations.\n",
      "Best MAE - Validation Dataset\n",
      "  MAE: 12.5 | sMAPE: 47.59 %\n",
      "\n",
      "Best MAE - Test Dataset\n",
      "  MAE: 28.9 | sMAPE: 53.79 %\n"
     ]
    },
    {
     "name": "stderr",
     "output_type": "stream",
     "text": [
      "C:\\Users\\35250\\AppData\\Roaming\\Python\\Python38\\site-packages\\tensorflow\\python\\keras\\optimizer_v2\\optimizer_v2.py:374: UserWarning: The `lr` argument is deprecated, use `learning_rate` instead.\n",
      "  warnings.warn(\n"
     ]
    },
    {
     "name": "stdout",
     "output_type": "stream",
     "text": [
      "\n",
      "\n",
      "Tested 27/50 iterations.\n",
      "Best MAE - Validation Dataset\n",
      "  MAE: 12.5 | sMAPE: 47.59 %\n",
      "\n",
      "Best MAE - Test Dataset\n",
      "  MAE: 28.9 | sMAPE: 53.79 %\n"
     ]
    },
    {
     "name": "stderr",
     "output_type": "stream",
     "text": [
      "C:\\Users\\35250\\AppData\\Roaming\\Python\\Python38\\site-packages\\tensorflow\\python\\keras\\optimizer_v2\\optimizer_v2.py:374: UserWarning: The `lr` argument is deprecated, use `learning_rate` instead.\n",
      "  warnings.warn(\n"
     ]
    },
    {
     "name": "stdout",
     "output_type": "stream",
     "text": [
      "\n",
      "\n",
      "Tested 28/50 iterations.\n",
      "Best MAE - Validation Dataset\n",
      "  MAE: 12.5 | sMAPE: 47.59 %\n",
      "\n",
      "Best MAE - Test Dataset\n",
      "  MAE: 28.9 | sMAPE: 53.79 %\n"
     ]
    },
    {
     "name": "stderr",
     "output_type": "stream",
     "text": [
      "C:\\Users\\35250\\AppData\\Roaming\\Python\\Python38\\site-packages\\tensorflow\\python\\keras\\optimizer_v2\\optimizer_v2.py:374: UserWarning: The `lr` argument is deprecated, use `learning_rate` instead.\n",
      "  warnings.warn(\n",
      "d:\\business analytics\\notebooks\\project\\epftoolbox\\epftoolbox\\data\\_wrangling.py:95: RuntimeWarning: overflow encountered in sinh\n",
      "  transformed_data = np.sinh(data)\n",
      "d:\\business analytics\\notebooks\\project\\epftoolbox\\epftoolbox\\data\\_wrangling.py:67: RuntimeWarning: overflow encountered in multiply\n",
      "  transformed_data[:, i] = data[:, i] * self.mad[i] + self.median[i]\n"
     ]
    },
    {
     "name": "stdout",
     "output_type": "stream",
     "text": [
      "\n",
      "\n",
      "Tested 29/50 iterations.\n",
      "Best MAE - Validation Dataset\n",
      "  MAE: 12.5 | sMAPE: 47.59 %\n",
      "\n",
      "Best MAE - Test Dataset\n",
      "  MAE: 28.9 | sMAPE: 53.79 %\n"
     ]
    },
    {
     "name": "stderr",
     "output_type": "stream",
     "text": [
      "C:\\Users\\35250\\AppData\\Roaming\\Python\\Python38\\site-packages\\tensorflow\\python\\keras\\optimizer_v2\\optimizer_v2.py:374: UserWarning: The `lr` argument is deprecated, use `learning_rate` instead.\n",
      "  warnings.warn(\n"
     ]
    },
    {
     "name": "stdout",
     "output_type": "stream",
     "text": [
      "\n",
      "\n",
      "Tested 30/50 iterations.\n",
      "Best MAE - Validation Dataset\n",
      "  MAE: 12.5 | sMAPE: 47.59 %\n",
      "\n",
      "Best MAE - Test Dataset\n",
      "  MAE: 28.9 | sMAPE: 53.79 %\n"
     ]
    },
    {
     "name": "stderr",
     "output_type": "stream",
     "text": [
      "C:\\Users\\35250\\AppData\\Roaming\\Python\\Python38\\site-packages\\tensorflow\\python\\keras\\optimizer_v2\\optimizer_v2.py:374: UserWarning: The `lr` argument is deprecated, use `learning_rate` instead.\n",
      "  warnings.warn(\n"
     ]
    },
    {
     "name": "stdout",
     "output_type": "stream",
     "text": [
      "\n",
      "\n",
      "Tested 31/50 iterations.\n",
      "Best MAE - Validation Dataset\n",
      "  MAE: 12.5 | sMAPE: 47.59 %\n",
      "\n",
      "Best MAE - Test Dataset\n",
      "  MAE: 28.9 | sMAPE: 53.79 %\n"
     ]
    },
    {
     "name": "stderr",
     "output_type": "stream",
     "text": [
      "C:\\Users\\35250\\AppData\\Roaming\\Python\\Python38\\site-packages\\tensorflow\\python\\keras\\optimizer_v2\\optimizer_v2.py:374: UserWarning: The `lr` argument is deprecated, use `learning_rate` instead.\n",
      "  warnings.warn(\n"
     ]
    },
    {
     "name": "stdout",
     "output_type": "stream",
     "text": [
      "\n",
      "\n",
      "Tested 32/50 iterations.\n",
      "Best MAE - Validation Dataset\n",
      "  MAE: 12.5 | sMAPE: 47.59 %\n",
      "\n",
      "Best MAE - Test Dataset\n",
      "  MAE: 28.9 | sMAPE: 53.79 %\n"
     ]
    },
    {
     "name": "stderr",
     "output_type": "stream",
     "text": [
      "C:\\Users\\35250\\AppData\\Roaming\\Python\\Python38\\site-packages\\tensorflow\\python\\keras\\optimizer_v2\\optimizer_v2.py:374: UserWarning: The `lr` argument is deprecated, use `learning_rate` instead.\n",
      "  warnings.warn(\n"
     ]
    },
    {
     "name": "stdout",
     "output_type": "stream",
     "text": [
      "\n",
      "\n",
      "Tested 33/50 iterations.\n",
      "Best MAE - Validation Dataset\n",
      "  MAE: 12.5 | sMAPE: 47.59 %\n",
      "\n",
      "Best MAE - Test Dataset\n",
      "  MAE: 28.9 | sMAPE: 53.79 %\n"
     ]
    },
    {
     "name": "stderr",
     "output_type": "stream",
     "text": [
      "C:\\Users\\35250\\AppData\\Roaming\\Python\\Python38\\site-packages\\tensorflow\\python\\keras\\optimizer_v2\\optimizer_v2.py:374: UserWarning: The `lr` argument is deprecated, use `learning_rate` instead.\n",
      "  warnings.warn(\n"
     ]
    },
    {
     "name": "stdout",
     "output_type": "stream",
     "text": [
      "\n",
      "\n",
      "Tested 34/50 iterations.\n",
      "Best MAE - Validation Dataset\n",
      "  MAE: 12.5 | sMAPE: 47.59 %\n",
      "\n",
      "Best MAE - Test Dataset\n",
      "  MAE: 28.9 | sMAPE: 53.79 %\n"
     ]
    },
    {
     "name": "stderr",
     "output_type": "stream",
     "text": [
      "C:\\Users\\35250\\AppData\\Roaming\\Python\\Python38\\site-packages\\tensorflow\\python\\keras\\optimizer_v2\\optimizer_v2.py:374: UserWarning: The `lr` argument is deprecated, use `learning_rate` instead.\n",
      "  warnings.warn(\n"
     ]
    },
    {
     "name": "stdout",
     "output_type": "stream",
     "text": [
      "\n",
      "\n",
      "Tested 35/50 iterations.\n",
      "Best MAE - Validation Dataset\n",
      "  MAE: 12.0 | sMAPE: 47.67 %\n",
      "\n",
      "Best MAE - Test Dataset\n",
      "  MAE: 27.7 | sMAPE: 53.06 %\n"
     ]
    },
    {
     "name": "stderr",
     "output_type": "stream",
     "text": [
      "C:\\Users\\35250\\AppData\\Roaming\\Python\\Python38\\site-packages\\tensorflow\\python\\keras\\optimizer_v2\\optimizer_v2.py:374: UserWarning: The `lr` argument is deprecated, use `learning_rate` instead.\n",
      "  warnings.warn(\n"
     ]
    },
    {
     "name": "stdout",
     "output_type": "stream",
     "text": [
      "\n",
      "\n",
      "Tested 36/50 iterations.\n",
      "Best MAE - Validation Dataset\n",
      "  MAE: 12.0 | sMAPE: 47.67 %\n",
      "\n",
      "Best MAE - Test Dataset\n",
      "  MAE: 27.7 | sMAPE: 53.06 %\n"
     ]
    },
    {
     "name": "stderr",
     "output_type": "stream",
     "text": [
      "C:\\Users\\35250\\AppData\\Roaming\\Python\\Python38\\site-packages\\tensorflow\\python\\keras\\optimizer_v2\\optimizer_v2.py:374: UserWarning: The `lr` argument is deprecated, use `learning_rate` instead.\n",
      "  warnings.warn(\n"
     ]
    },
    {
     "name": "stdout",
     "output_type": "stream",
     "text": [
      "\n",
      "\n",
      "Tested 37/50 iterations.\n",
      "Best MAE - Validation Dataset\n",
      "  MAE: 12.0 | sMAPE: 47.67 %\n",
      "\n",
      "Best MAE - Test Dataset\n",
      "  MAE: 27.7 | sMAPE: 53.06 %\n"
     ]
    },
    {
     "name": "stderr",
     "output_type": "stream",
     "text": [
      "C:\\Users\\35250\\AppData\\Roaming\\Python\\Python38\\site-packages\\tensorflow\\python\\keras\\optimizer_v2\\optimizer_v2.py:374: UserWarning: The `lr` argument is deprecated, use `learning_rate` instead.\n",
      "  warnings.warn(\n"
     ]
    },
    {
     "name": "stdout",
     "output_type": "stream",
     "text": [
      "\n",
      "\n",
      "Tested 38/50 iterations.\n",
      "Best MAE - Validation Dataset\n",
      "  MAE: 12.0 | sMAPE: 47.67 %\n",
      "\n",
      "Best MAE - Test Dataset\n",
      "  MAE: 27.7 | sMAPE: 53.06 %\n"
     ]
    },
    {
     "name": "stderr",
     "output_type": "stream",
     "text": [
      "C:\\Users\\35250\\AppData\\Roaming\\Python\\Python38\\site-packages\\tensorflow\\python\\keras\\optimizer_v2\\optimizer_v2.py:374: UserWarning: The `lr` argument is deprecated, use `learning_rate` instead.\n",
      "  warnings.warn(\n",
      "d:\\business analytics\\notebooks\\project\\epftoolbox\\epftoolbox\\data\\_wrangling.py:95: RuntimeWarning: overflow encountered in sinh\n",
      "  transformed_data = np.sinh(data)\n",
      "d:\\business analytics\\notebooks\\project\\epftoolbox\\epftoolbox\\data\\_wrangling.py:67: RuntimeWarning: overflow encountered in multiply\n",
      "  transformed_data[:, i] = data[:, i] * self.mad[i] + self.median[i]\n",
      "d:\\business analytics\\notebooks\\project\\epftoolbox\\epftoolbox\\evaluation\\_smape.py:118: RuntimeWarning: invalid value encountered in true_divide\n",
      "  return np.mean(np.abs(p_real - p_pred) / ((np.abs(p_real) + np.abs(p_pred)) / 2))\n"
     ]
    },
    {
     "name": "stdout",
     "output_type": "stream",
     "text": [
      "\n",
      "\n",
      "Tested 39/50 iterations.\n",
      "Best MAE - Validation Dataset\n",
      "  MAE: 12.0 | sMAPE: 47.67 %\n",
      "\n",
      "Best MAE - Test Dataset\n",
      "  MAE: 27.7 | sMAPE: 53.06 %\n"
     ]
    },
    {
     "name": "stderr",
     "output_type": "stream",
     "text": [
      "C:\\Users\\35250\\AppData\\Roaming\\Python\\Python38\\site-packages\\tensorflow\\python\\keras\\optimizer_v2\\optimizer_v2.py:374: UserWarning: The `lr` argument is deprecated, use `learning_rate` instead.\n",
      "  warnings.warn(\n"
     ]
    },
    {
     "name": "stdout",
     "output_type": "stream",
     "text": [
      "\n",
      "\n",
      "Tested 40/50 iterations.\n",
      "Best MAE - Validation Dataset\n",
      "  MAE: 12.0 | sMAPE: 47.67 %\n",
      "\n",
      "Best MAE - Test Dataset\n",
      "  MAE: 27.7 | sMAPE: 53.06 %\n"
     ]
    },
    {
     "name": "stderr",
     "output_type": "stream",
     "text": [
      "C:\\Users\\35250\\AppData\\Roaming\\Python\\Python38\\site-packages\\tensorflow\\python\\keras\\optimizer_v2\\optimizer_v2.py:374: UserWarning: The `lr` argument is deprecated, use `learning_rate` instead.\n",
      "  warnings.warn(\n"
     ]
    },
    {
     "name": "stdout",
     "output_type": "stream",
     "text": [
      "\n",
      "\n",
      "Tested 41/50 iterations.\n",
      "Best MAE - Validation Dataset\n",
      "  MAE: 12.0 | sMAPE: 47.67 %\n",
      "\n",
      "Best MAE - Test Dataset\n",
      "  MAE: 27.7 | sMAPE: 53.06 %\n",
      "\n",
      "\n",
      "Tested 42/50 iterations.\n",
      "Best MAE - Validation Dataset\n",
      "  MAE: 12.0 | sMAPE: 47.67 %\n",
      "\n",
      "Best MAE - Test Dataset\n",
      "  MAE: 27.7 | sMAPE: 53.06 %\n"
     ]
    },
    {
     "name": "stderr",
     "output_type": "stream",
     "text": [
      "C:\\Users\\35250\\AppData\\Roaming\\Python\\Python38\\site-packages\\tensorflow\\python\\keras\\optimizer_v2\\optimizer_v2.py:374: UserWarning: The `lr` argument is deprecated, use `learning_rate` instead.\n",
      "  warnings.warn(\n"
     ]
    },
    {
     "name": "stdout",
     "output_type": "stream",
     "text": [
      "\n",
      "\n",
      "Tested 43/50 iterations.\n",
      "Best MAE - Validation Dataset\n",
      "  MAE: 12.0 | sMAPE: 47.67 %\n",
      "\n",
      "Best MAE - Test Dataset\n",
      "  MAE: 27.7 | sMAPE: 53.06 %\n"
     ]
    },
    {
     "name": "stderr",
     "output_type": "stream",
     "text": [
      "C:\\Users\\35250\\AppData\\Roaming\\Python\\Python38\\site-packages\\tensorflow\\python\\keras\\optimizer_v2\\optimizer_v2.py:374: UserWarning: The `lr` argument is deprecated, use `learning_rate` instead.\n",
      "  warnings.warn(\n"
     ]
    },
    {
     "name": "stdout",
     "output_type": "stream",
     "text": [
      "\n",
      "\n",
      "Tested 44/50 iterations.\n",
      "Best MAE - Validation Dataset\n",
      "  MAE: 12.0 | sMAPE: 47.67 %\n",
      "\n",
      "Best MAE - Test Dataset\n",
      "  MAE: 27.7 | sMAPE: 53.06 %\n"
     ]
    },
    {
     "name": "stderr",
     "output_type": "stream",
     "text": [
      "C:\\Users\\35250\\AppData\\Roaming\\Python\\Python38\\site-packages\\tensorflow\\python\\keras\\optimizer_v2\\optimizer_v2.py:374: UserWarning: The `lr` argument is deprecated, use `learning_rate` instead.\n",
      "  warnings.warn(\n"
     ]
    },
    {
     "name": "stdout",
     "output_type": "stream",
     "text": [
      "\n",
      "\n",
      "Tested 45/50 iterations.\n",
      "Best MAE - Validation Dataset\n",
      "  MAE: 11.6 | sMAPE: 45.32 %\n",
      "\n",
      "Best MAE - Test Dataset\n",
      "  MAE: 28.5 | sMAPE: 53.92 %\n"
     ]
    },
    {
     "name": "stderr",
     "output_type": "stream",
     "text": [
      "C:\\Users\\35250\\AppData\\Roaming\\Python\\Python38\\site-packages\\tensorflow\\python\\keras\\optimizer_v2\\optimizer_v2.py:374: UserWarning: The `lr` argument is deprecated, use `learning_rate` instead.\n",
      "  warnings.warn(\n"
     ]
    },
    {
     "name": "stdout",
     "output_type": "stream",
     "text": [
      "\n",
      "\n",
      "Tested 46/50 iterations.\n",
      "Best MAE - Validation Dataset\n",
      "  MAE: 11.6 | sMAPE: 45.32 %\n",
      "\n",
      "Best MAE - Test Dataset\n",
      "  MAE: 28.5 | sMAPE: 53.92 %\n"
     ]
    },
    {
     "name": "stderr",
     "output_type": "stream",
     "text": [
      "C:\\Users\\35250\\AppData\\Roaming\\Python\\Python38\\site-packages\\tensorflow\\python\\keras\\optimizer_v2\\optimizer_v2.py:374: UserWarning: The `lr` argument is deprecated, use `learning_rate` instead.\n",
      "  warnings.warn(\n"
     ]
    },
    {
     "name": "stdout",
     "output_type": "stream",
     "text": [
      "\n",
      "\n",
      "Tested 47/50 iterations.\n",
      "Best MAE - Validation Dataset\n",
      "  MAE: 11.6 | sMAPE: 45.32 %\n",
      "\n",
      "Best MAE - Test Dataset\n",
      "  MAE: 28.5 | sMAPE: 53.92 %\n"
     ]
    },
    {
     "name": "stderr",
     "output_type": "stream",
     "text": [
      "C:\\Users\\35250\\AppData\\Roaming\\Python\\Python38\\site-packages\\tensorflow\\python\\keras\\optimizer_v2\\optimizer_v2.py:374: UserWarning: The `lr` argument is deprecated, use `learning_rate` instead.\n",
      "  warnings.warn(\n"
     ]
    },
    {
     "name": "stdout",
     "output_type": "stream",
     "text": [
      "\n",
      "\n",
      "Tested 48/50 iterations.\n",
      "Best MAE - Validation Dataset\n",
      "  MAE: 11.6 | sMAPE: 45.32 %\n",
      "\n",
      "Best MAE - Test Dataset\n",
      "  MAE: 28.5 | sMAPE: 53.92 %\n"
     ]
    },
    {
     "name": "stderr",
     "output_type": "stream",
     "text": [
      "C:\\Users\\35250\\AppData\\Roaming\\Python\\Python38\\site-packages\\tensorflow\\python\\keras\\optimizer_v2\\optimizer_v2.py:374: UserWarning: The `lr` argument is deprecated, use `learning_rate` instead.\n",
      "  warnings.warn(\n"
     ]
    },
    {
     "name": "stdout",
     "output_type": "stream",
     "text": [
      "\n",
      "\n",
      "Tested 49/50 iterations.\n",
      "Best MAE - Validation Dataset\n",
      "  MAE: 11.6 | sMAPE: 45.32 %\n",
      "\n",
      "Best MAE - Test Dataset\n",
      "  MAE: 28.5 | sMAPE: 53.92 %\n"
     ]
    },
    {
     "name": "stderr",
     "output_type": "stream",
     "text": [
      "C:\\Users\\35250\\AppData\\Roaming\\Python\\Python38\\site-packages\\tensorflow\\python\\keras\\optimizer_v2\\optimizer_v2.py:374: UserWarning: The `lr` argument is deprecated, use `learning_rate` instead.\n",
      "  warnings.warn(\n"
     ]
    }
   ],
   "source": [
    "# Number of layers in DNN\n",
    "nlayers = 2\n",
    "\n",
    "# data to study\n",
    "dataset = 'imbalanceData_final'\n",
    "\n",
    "# 1 year is considered as 364 days (52 weeks)\n",
    "# years_test = 1\n",
    "\n",
    "# Optional parameters for selecting the test dataset\n",
    "begin_test_date = '2020-10-19'\n",
    "end_test_date = '2021-01-17'\n",
    "\n",
    "# Boolean that selects whether the validation and training datasets are shuffled\n",
    "shuffle_train = 1\n",
    "\n",
    "# Boolean that selects whether a data augmentation technique for DNNs is used\n",
    "data_augmentation = 0\n",
    "\n",
    "# Boolean that selects whether we start a new hyperparameter optimization or we restart an existing one\n",
    "new_hyperopt = 1\n",
    "\n",
    "# Number of years used in the training dataset for recalibration\n",
    "calibration_window = 1\n",
    "\n",
    "# Unique identifier to read the trials file of hyperparameter optimization\n",
    "experiment_id = 3\n",
    "\n",
    "# Number of iterations for hyperparameter optimization\n",
    "max_evals = 50\n",
    "\n",
    "# path_datasets_folder = \"./datasets/\"\n",
    "# path_hyperparameters_folder = \"./experimental_files/\"\n",
    "\n",
    "hyperparameter_optimizer(path_datasets_folder = 'final datasets',\n",
    "                         path_hyperparameters_folder = 'hyperparameter_dnn/imb_October',\n",
    "                         new_hyperopt = new_hyperopt,\n",
    "                         max_evals = max_evals,\n",
    "                         nlayers = nlayers,\n",
    "                         dataset = dataset, \n",
    "                         #years_test = years_test,\n",
    "                         calibration_window = calibration_window, \n",
    "                         shuffle_train = shuffle_train,\n",
    "                         data_augmentation = data_augmentation,\n",
    "                         experiment_id = experiment_id,\n",
    "                         begin_test_date = begin_test_date,\n",
    "                         end_test_date = end_test_date)"
   ]
  },
  {
   "cell_type": "code",
   "execution_count": 3,
   "id": "e7d81486",
   "metadata": {},
   "outputs": [
    {
     "name": "stdout",
     "output_type": "stream",
     "text": [
      "Test datasets: 2021-04-19 00:00:00 - 2021-04-30 23:00:00\n"
     ]
    },
    {
     "name": "stderr",
     "output_type": "stream",
     "text": [
      "C:\\Users\\35250\\AppData\\Roaming\\Python\\Python38\\site-packages\\tensorflow\\python\\keras\\optimizer_v2\\optimizer_v2.py:374: UserWarning: The `lr` argument is deprecated, use `learning_rate` instead.\n",
      "  warnings.warn(\n"
     ]
    },
    {
     "name": "stdout",
     "output_type": "stream",
     "text": [
      "\n",
      "\n",
      "Tested 1/50 iterations.\n",
      "Best MAE - Validation Dataset\n",
      "  MAE: 20.9 | sMAPE: 59.02 %\n",
      "\n",
      "Best MAE - Test Dataset\n",
      "  MAE: 33.1 | sMAPE: 51.75 %\n"
     ]
    },
    {
     "name": "stderr",
     "output_type": "stream",
     "text": [
      "C:\\Users\\35250\\AppData\\Roaming\\Python\\Python38\\site-packages\\tensorflow\\python\\keras\\optimizer_v2\\optimizer_v2.py:374: UserWarning: The `lr` argument is deprecated, use `learning_rate` instead.\n",
      "  warnings.warn(\n"
     ]
    },
    {
     "name": "stdout",
     "output_type": "stream",
     "text": [
      "\n",
      "\n",
      "Tested 2/50 iterations.\n",
      "Best MAE - Validation Dataset\n",
      "  MAE: 18.1 | sMAPE: 55.59 %\n",
      "\n",
      "Best MAE - Test Dataset\n",
      "  MAE: 26.5 | sMAPE: 39.94 %\n"
     ]
    },
    {
     "name": "stderr",
     "output_type": "stream",
     "text": [
      "C:\\Users\\35250\\AppData\\Roaming\\Python\\Python38\\site-packages\\tensorflow\\python\\keras\\optimizer_v2\\optimizer_v2.py:374: UserWarning: The `lr` argument is deprecated, use `learning_rate` instead.\n",
      "  warnings.warn(\n"
     ]
    },
    {
     "name": "stdout",
     "output_type": "stream",
     "text": [
      "\n",
      "\n",
      "Tested 3/50 iterations.\n",
      "Best MAE - Validation Dataset\n",
      "  MAE: 18.1 | sMAPE: 55.59 %\n",
      "\n",
      "Best MAE - Test Dataset\n",
      "  MAE: 26.5 | sMAPE: 39.94 %\n"
     ]
    },
    {
     "name": "stderr",
     "output_type": "stream",
     "text": [
      "C:\\Users\\35250\\AppData\\Roaming\\Python\\Python38\\site-packages\\tensorflow\\python\\keras\\optimizer_v2\\optimizer_v2.py:374: UserWarning: The `lr` argument is deprecated, use `learning_rate` instead.\n",
      "  warnings.warn(\n"
     ]
    },
    {
     "name": "stdout",
     "output_type": "stream",
     "text": [
      "\n",
      "\n",
      "Tested 4/50 iterations.\n",
      "Best MAE - Validation Dataset\n",
      "  MAE: 18.1 | sMAPE: 55.59 %\n",
      "\n",
      "Best MAE - Test Dataset\n",
      "  MAE: 26.5 | sMAPE: 39.94 %\n"
     ]
    },
    {
     "name": "stderr",
     "output_type": "stream",
     "text": [
      "C:\\Users\\35250\\AppData\\Roaming\\Python\\Python38\\site-packages\\tensorflow\\python\\keras\\optimizer_v2\\optimizer_v2.py:374: UserWarning: The `lr` argument is deprecated, use `learning_rate` instead.\n",
      "  warnings.warn(\n"
     ]
    },
    {
     "name": "stdout",
     "output_type": "stream",
     "text": [
      "\n",
      "\n",
      "Tested 5/50 iterations.\n",
      "Best MAE - Validation Dataset\n",
      "  MAE: 18.1 | sMAPE: 55.59 %\n",
      "\n",
      "Best MAE - Test Dataset\n",
      "  MAE: 26.5 | sMAPE: 39.94 %\n"
     ]
    },
    {
     "name": "stderr",
     "output_type": "stream",
     "text": [
      "C:\\Users\\35250\\AppData\\Roaming\\Python\\Python38\\site-packages\\tensorflow\\python\\keras\\optimizer_v2\\optimizer_v2.py:374: UserWarning: The `lr` argument is deprecated, use `learning_rate` instead.\n",
      "  warnings.warn(\n"
     ]
    },
    {
     "name": "stdout",
     "output_type": "stream",
     "text": [
      "\n",
      "\n",
      "Tested 6/50 iterations.\n",
      "Best MAE - Validation Dataset\n",
      "  MAE: 18.1 | sMAPE: 55.59 %\n",
      "\n",
      "Best MAE - Test Dataset\n",
      "  MAE: 26.5 | sMAPE: 39.94 %\n"
     ]
    },
    {
     "name": "stderr",
     "output_type": "stream",
     "text": [
      "C:\\Users\\35250\\AppData\\Roaming\\Python\\Python38\\site-packages\\tensorflow\\python\\keras\\optimizer_v2\\optimizer_v2.py:374: UserWarning: The `lr` argument is deprecated, use `learning_rate` instead.\n",
      "  warnings.warn(\n"
     ]
    },
    {
     "name": "stdout",
     "output_type": "stream",
     "text": [
      "\n",
      "\n",
      "Tested 7/50 iterations.\n",
      "Best MAE - Validation Dataset\n",
      "  MAE: 18.1 | sMAPE: 55.59 %\n",
      "\n",
      "Best MAE - Test Dataset\n",
      "  MAE: 26.5 | sMAPE: 39.94 %\n"
     ]
    },
    {
     "name": "stderr",
     "output_type": "stream",
     "text": [
      "C:\\Users\\35250\\AppData\\Roaming\\Python\\Python38\\site-packages\\tensorflow\\python\\keras\\optimizer_v2\\optimizer_v2.py:374: UserWarning: The `lr` argument is deprecated, use `learning_rate` instead.\n",
      "  warnings.warn(\n"
     ]
    },
    {
     "name": "stdout",
     "output_type": "stream",
     "text": [
      "\n",
      "\n",
      "Tested 8/50 iterations.\n",
      "Best MAE - Validation Dataset\n",
      "  MAE: 18.1 | sMAPE: 55.59 %\n",
      "\n",
      "Best MAE - Test Dataset\n",
      "  MAE: 26.5 | sMAPE: 39.94 %\n"
     ]
    },
    {
     "name": "stderr",
     "output_type": "stream",
     "text": [
      "C:\\Users\\35250\\AppData\\Roaming\\Python\\Python38\\site-packages\\tensorflow\\python\\keras\\optimizer_v2\\optimizer_v2.py:374: UserWarning: The `lr` argument is deprecated, use `learning_rate` instead.\n",
      "  warnings.warn(\n"
     ]
    },
    {
     "name": "stdout",
     "output_type": "stream",
     "text": [
      "\n",
      "\n",
      "Tested 9/50 iterations.\n",
      "Best MAE - Validation Dataset\n",
      "  MAE: 18.1 | sMAPE: 55.59 %\n",
      "\n",
      "Best MAE - Test Dataset\n",
      "  MAE: 26.5 | sMAPE: 39.94 %\n"
     ]
    },
    {
     "name": "stderr",
     "output_type": "stream",
     "text": [
      "C:\\Users\\35250\\AppData\\Roaming\\Python\\Python38\\site-packages\\tensorflow\\python\\keras\\optimizer_v2\\optimizer_v2.py:374: UserWarning: The `lr` argument is deprecated, use `learning_rate` instead.\n",
      "  warnings.warn(\n"
     ]
    },
    {
     "name": "stdout",
     "output_type": "stream",
     "text": [
      "\n",
      "\n",
      "Tested 10/50 iterations.\n",
      "Best MAE - Validation Dataset\n",
      "  MAE: 18.1 | sMAPE: 55.59 %\n",
      "\n",
      "Best MAE - Test Dataset\n",
      "  MAE: 26.5 | sMAPE: 39.94 %\n",
      "\n",
      "\n",
      "Tested 11/50 iterations.\n",
      "Best MAE - Validation Dataset\n",
      "  MAE: 16.8 | sMAPE: 54.29 %\n",
      "\n",
      "Best MAE - Test Dataset\n",
      "  MAE: 31.1 | sMAPE: 50.94 %\n"
     ]
    },
    {
     "name": "stderr",
     "output_type": "stream",
     "text": [
      "C:\\Users\\35250\\AppData\\Roaming\\Python\\Python38\\site-packages\\tensorflow\\python\\keras\\optimizer_v2\\optimizer_v2.py:374: UserWarning: The `lr` argument is deprecated, use `learning_rate` instead.\n",
      "  warnings.warn(\n"
     ]
    },
    {
     "name": "stdout",
     "output_type": "stream",
     "text": [
      "\n",
      "\n",
      "Tested 12/50 iterations.\n",
      "Best MAE - Validation Dataset\n",
      "  MAE: 16.8 | sMAPE: 54.29 %\n",
      "\n",
      "Best MAE - Test Dataset\n",
      "  MAE: 31.1 | sMAPE: 50.94 %\n"
     ]
    },
    {
     "name": "stderr",
     "output_type": "stream",
     "text": [
      "C:\\Users\\35250\\AppData\\Roaming\\Python\\Python38\\site-packages\\tensorflow\\python\\keras\\optimizer_v2\\optimizer_v2.py:374: UserWarning: The `lr` argument is deprecated, use `learning_rate` instead.\n",
      "  warnings.warn(\n"
     ]
    },
    {
     "name": "stdout",
     "output_type": "stream",
     "text": [
      "\n",
      "\n",
      "Tested 13/50 iterations.\n",
      "Best MAE - Validation Dataset\n",
      "  MAE: 16.8 | sMAPE: 54.29 %\n",
      "\n",
      "Best MAE - Test Dataset\n",
      "  MAE: 31.1 | sMAPE: 50.94 %\n"
     ]
    },
    {
     "name": "stderr",
     "output_type": "stream",
     "text": [
      "C:\\Users\\35250\\AppData\\Roaming\\Python\\Python38\\site-packages\\tensorflow\\python\\keras\\optimizer_v2\\optimizer_v2.py:374: UserWarning: The `lr` argument is deprecated, use `learning_rate` instead.\n",
      "  warnings.warn(\n"
     ]
    },
    {
     "name": "stdout",
     "output_type": "stream",
     "text": [
      "\n",
      "\n",
      "Tested 14/50 iterations.\n",
      "Best MAE - Validation Dataset\n",
      "  MAE: 16.8 | sMAPE: 54.29 %\n",
      "\n",
      "Best MAE - Test Dataset\n",
      "  MAE: 31.1 | sMAPE: 50.94 %\n"
     ]
    },
    {
     "name": "stderr",
     "output_type": "stream",
     "text": [
      "C:\\Users\\35250\\AppData\\Roaming\\Python\\Python38\\site-packages\\tensorflow\\python\\keras\\optimizer_v2\\optimizer_v2.py:374: UserWarning: The `lr` argument is deprecated, use `learning_rate` instead.\n",
      "  warnings.warn(\n"
     ]
    },
    {
     "name": "stdout",
     "output_type": "stream",
     "text": [
      "\n",
      "\n",
      "Tested 15/50 iterations.\n",
      "Best MAE - Validation Dataset\n",
      "  MAE: 16.8 | sMAPE: 54.29 %\n",
      "\n",
      "Best MAE - Test Dataset\n",
      "  MAE: 31.1 | sMAPE: 50.94 %\n"
     ]
    },
    {
     "name": "stderr",
     "output_type": "stream",
     "text": [
      "C:\\Users\\35250\\AppData\\Roaming\\Python\\Python38\\site-packages\\tensorflow\\python\\keras\\optimizer_v2\\optimizer_v2.py:374: UserWarning: The `lr` argument is deprecated, use `learning_rate` instead.\n",
      "  warnings.warn(\n"
     ]
    },
    {
     "name": "stdout",
     "output_type": "stream",
     "text": [
      "\n",
      "\n",
      "Tested 16/50 iterations.\n",
      "Best MAE - Validation Dataset\n",
      "  MAE: 16.8 | sMAPE: 54.29 %\n",
      "\n",
      "Best MAE - Test Dataset\n",
      "  MAE: 31.1 | sMAPE: 50.94 %\n"
     ]
    },
    {
     "name": "stderr",
     "output_type": "stream",
     "text": [
      "C:\\Users\\35250\\AppData\\Roaming\\Python\\Python38\\site-packages\\tensorflow\\python\\keras\\optimizer_v2\\optimizer_v2.py:374: UserWarning: The `lr` argument is deprecated, use `learning_rate` instead.\n",
      "  warnings.warn(\n"
     ]
    },
    {
     "name": "stdout",
     "output_type": "stream",
     "text": [
      "\n",
      "\n",
      "Tested 17/50 iterations.\n",
      "Best MAE - Validation Dataset\n",
      "  MAE: 16.8 | sMAPE: 54.29 %\n",
      "\n",
      "Best MAE - Test Dataset\n",
      "  MAE: 31.1 | sMAPE: 50.94 %\n"
     ]
    },
    {
     "name": "stderr",
     "output_type": "stream",
     "text": [
      "C:\\Users\\35250\\AppData\\Roaming\\Python\\Python38\\site-packages\\tensorflow\\python\\keras\\optimizer_v2\\optimizer_v2.py:374: UserWarning: The `lr` argument is deprecated, use `learning_rate` instead.\n",
      "  warnings.warn(\n"
     ]
    },
    {
     "name": "stdout",
     "output_type": "stream",
     "text": [
      "\n",
      "\n",
      "Tested 18/50 iterations.\n",
      "Best MAE - Validation Dataset\n",
      "  MAE: 16.8 | sMAPE: 54.29 %\n",
      "\n",
      "Best MAE - Test Dataset\n",
      "  MAE: 31.1 | sMAPE: 50.94 %\n"
     ]
    },
    {
     "name": "stderr",
     "output_type": "stream",
     "text": [
      "C:\\Users\\35250\\AppData\\Roaming\\Python\\Python38\\site-packages\\tensorflow\\python\\keras\\optimizer_v2\\optimizer_v2.py:374: UserWarning: The `lr` argument is deprecated, use `learning_rate` instead.\n",
      "  warnings.warn(\n"
     ]
    },
    {
     "name": "stdout",
     "output_type": "stream",
     "text": [
      "\n",
      "\n",
      "Tested 19/50 iterations.\n",
      "Best MAE - Validation Dataset\n",
      "  MAE: 16.8 | sMAPE: 54.29 %\n",
      "\n",
      "Best MAE - Test Dataset\n",
      "  MAE: 31.1 | sMAPE: 50.94 %\n"
     ]
    },
    {
     "name": "stderr",
     "output_type": "stream",
     "text": [
      "C:\\Users\\35250\\AppData\\Roaming\\Python\\Python38\\site-packages\\tensorflow\\python\\keras\\optimizer_v2\\optimizer_v2.py:374: UserWarning: The `lr` argument is deprecated, use `learning_rate` instead.\n",
      "  warnings.warn(\n"
     ]
    },
    {
     "name": "stdout",
     "output_type": "stream",
     "text": [
      "\n",
      "\n",
      "Tested 20/50 iterations.\n",
      "Best MAE - Validation Dataset\n",
      "  MAE: 16.8 | sMAPE: 54.29 %\n",
      "\n",
      "Best MAE - Test Dataset\n",
      "  MAE: 31.1 | sMAPE: 50.94 %\n"
     ]
    },
    {
     "name": "stderr",
     "output_type": "stream",
     "text": [
      "C:\\Users\\35250\\AppData\\Roaming\\Python\\Python38\\site-packages\\tensorflow\\python\\keras\\optimizer_v2\\optimizer_v2.py:374: UserWarning: The `lr` argument is deprecated, use `learning_rate` instead.\n",
      "  warnings.warn(\n"
     ]
    },
    {
     "name": "stdout",
     "output_type": "stream",
     "text": [
      "\n",
      "\n",
      "Tested 21/50 iterations.\n",
      "Best MAE - Validation Dataset\n",
      "  MAE: 16.8 | sMAPE: 54.29 %\n",
      "\n",
      "Best MAE - Test Dataset\n",
      "  MAE: 31.1 | sMAPE: 50.94 %\n"
     ]
    },
    {
     "name": "stderr",
     "output_type": "stream",
     "text": [
      "C:\\Users\\35250\\AppData\\Roaming\\Python\\Python38\\site-packages\\tensorflow\\python\\keras\\optimizer_v2\\optimizer_v2.py:374: UserWarning: The `lr` argument is deprecated, use `learning_rate` instead.\n",
      "  warnings.warn(\n"
     ]
    },
    {
     "name": "stdout",
     "output_type": "stream",
     "text": [
      "\n",
      "\n",
      "Tested 22/50 iterations.\n",
      "Best MAE - Validation Dataset\n",
      "  MAE: 15.9 | sMAPE: 52.59 %\n",
      "\n",
      "Best MAE - Test Dataset\n",
      "  MAE: 22.8 | sMAPE: 35.36 %\n",
      "\n",
      "\n",
      "Tested 23/50 iterations.\n",
      "Best MAE - Validation Dataset\n",
      "  MAE: 15.9 | sMAPE: 52.92 %\n",
      "\n",
      "Best MAE - Test Dataset\n",
      "  MAE: 22.6 | sMAPE: 34.86 %\n",
      "\n",
      "\n",
      "Tested 24/50 iterations.\n",
      "Best MAE - Validation Dataset\n",
      "  MAE: 15.9 | sMAPE: 52.60 %\n",
      "\n",
      "Best MAE - Test Dataset\n",
      "  MAE: 23.2 | sMAPE: 36.06 %\n",
      "\n",
      "\n",
      "Tested 25/50 iterations.\n",
      "Best MAE - Validation Dataset\n",
      "  MAE: 15.9 | sMAPE: 52.60 %\n",
      "\n",
      "Best MAE - Test Dataset\n",
      "  MAE: 23.2 | sMAPE: 36.06 %\n",
      "\n",
      "\n",
      "Tested 26/50 iterations.\n",
      "Best MAE - Validation Dataset\n",
      "  MAE: 15.9 | sMAPE: 52.60 %\n",
      "\n",
      "Best MAE - Test Dataset\n",
      "  MAE: 23.2 | sMAPE: 36.06 %\n",
      "\n",
      "\n",
      "Tested 27/50 iterations.\n",
      "Best MAE - Validation Dataset\n",
      "  MAE: 15.9 | sMAPE: 52.60 %\n",
      "\n",
      "Best MAE - Test Dataset\n",
      "  MAE: 23.2 | sMAPE: 36.06 %\n",
      "\n",
      "\n",
      "Tested 28/50 iterations.\n",
      "Best MAE - Validation Dataset\n",
      "  MAE: 15.9 | sMAPE: 52.60 %\n",
      "\n",
      "Best MAE - Test Dataset\n",
      "  MAE: 23.2 | sMAPE: 36.06 %\n"
     ]
    },
    {
     "name": "stderr",
     "output_type": "stream",
     "text": [
      "C:\\Users\\35250\\AppData\\Roaming\\Python\\Python38\\site-packages\\tensorflow\\python\\keras\\optimizer_v2\\optimizer_v2.py:374: UserWarning: The `lr` argument is deprecated, use `learning_rate` instead.\n",
      "  warnings.warn(\n"
     ]
    },
    {
     "name": "stdout",
     "output_type": "stream",
     "text": [
      "\n",
      "\n",
      "Tested 29/50 iterations.\n",
      "Best MAE - Validation Dataset\n",
      "  MAE: 15.9 | sMAPE: 52.60 %\n",
      "\n",
      "Best MAE - Test Dataset\n",
      "  MAE: 23.2 | sMAPE: 36.06 %\n"
     ]
    },
    {
     "name": "stderr",
     "output_type": "stream",
     "text": [
      "C:\\Users\\35250\\AppData\\Roaming\\Python\\Python38\\site-packages\\tensorflow\\python\\keras\\optimizer_v2\\optimizer_v2.py:374: UserWarning: The `lr` argument is deprecated, use `learning_rate` instead.\n",
      "  warnings.warn(\n"
     ]
    },
    {
     "name": "stdout",
     "output_type": "stream",
     "text": [
      "\n",
      "\n",
      "Tested 30/50 iterations.\n",
      "Best MAE - Validation Dataset\n",
      "  MAE: 15.9 | sMAPE: 52.60 %\n",
      "\n",
      "Best MAE - Test Dataset\n",
      "  MAE: 23.2 | sMAPE: 36.06 %\n",
      "\n",
      "\n",
      "Tested 31/50 iterations.\n",
      "Best MAE - Validation Dataset\n",
      "  MAE: 15.9 | sMAPE: 52.60 %\n",
      "\n",
      "Best MAE - Test Dataset\n",
      "  MAE: 23.2 | sMAPE: 36.06 %\n",
      "\n",
      "\n",
      "Tested 32/50 iterations.\n",
      "Best MAE - Validation Dataset\n",
      "  MAE: 15.9 | sMAPE: 52.60 %\n",
      "\n",
      "Best MAE - Test Dataset\n",
      "  MAE: 23.2 | sMAPE: 36.06 %\n"
     ]
    },
    {
     "name": "stderr",
     "output_type": "stream",
     "text": [
      "C:\\Users\\35250\\AppData\\Roaming\\Python\\Python38\\site-packages\\tensorflow\\python\\keras\\optimizer_v2\\optimizer_v2.py:374: UserWarning: The `lr` argument is deprecated, use `learning_rate` instead.\n",
      "  warnings.warn(\n"
     ]
    },
    {
     "name": "stdout",
     "output_type": "stream",
     "text": [
      "\n",
      "\n",
      "Tested 33/50 iterations.\n",
      "Best MAE - Validation Dataset\n",
      "  MAE: 15.9 | sMAPE: 52.60 %\n",
      "\n",
      "Best MAE - Test Dataset\n",
      "  MAE: 23.2 | sMAPE: 36.06 %\n"
     ]
    },
    {
     "name": "stderr",
     "output_type": "stream",
     "text": [
      "C:\\Users\\35250\\AppData\\Roaming\\Python\\Python38\\site-packages\\tensorflow\\python\\keras\\optimizer_v2\\optimizer_v2.py:374: UserWarning: The `lr` argument is deprecated, use `learning_rate` instead.\n",
      "  warnings.warn(\n"
     ]
    },
    {
     "name": "stdout",
     "output_type": "stream",
     "text": [
      "\n",
      "\n",
      "Tested 34/50 iterations.\n",
      "Best MAE - Validation Dataset\n",
      "  MAE: 15.5 | sMAPE: 53.46 %\n",
      "\n",
      "Best MAE - Test Dataset\n",
      "  MAE: 25.7 | sMAPE: 40.42 %\n"
     ]
    },
    {
     "name": "stderr",
     "output_type": "stream",
     "text": [
      "d:\\business analytics\\notebooks\\project\\epftoolbox\\epftoolbox\\data\\_wrangling.py:95: RuntimeWarning: overflow encountered in sinh\n",
      "  transformed_data = np.sinh(data)\n",
      "d:\\business analytics\\notebooks\\project\\epftoolbox\\epftoolbox\\data\\_wrangling.py:67: RuntimeWarning: overflow encountered in multiply\n",
      "  transformed_data[:, i] = data[:, i] * self.mad[i] + self.median[i]\n"
     ]
    },
    {
     "name": "stdout",
     "output_type": "stream",
     "text": [
      "\n",
      "\n",
      "Tested 35/50 iterations.\n",
      "Best MAE - Validation Dataset\n",
      "  MAE: 15.5 | sMAPE: 53.46 %\n",
      "\n",
      "Best MAE - Test Dataset\n",
      "  MAE: 25.7 | sMAPE: 40.42 %\n",
      "\n",
      "\n",
      "Tested 36/50 iterations.\n",
      "Best MAE - Validation Dataset\n",
      "  MAE: 15.5 | sMAPE: 53.46 %\n",
      "\n",
      "Best MAE - Test Dataset\n",
      "  MAE: 25.7 | sMAPE: 40.42 %\n"
     ]
    },
    {
     "name": "stderr",
     "output_type": "stream",
     "text": [
      "C:\\Users\\35250\\AppData\\Roaming\\Python\\Python38\\site-packages\\tensorflow\\python\\keras\\optimizer_v2\\optimizer_v2.py:374: UserWarning: The `lr` argument is deprecated, use `learning_rate` instead.\n",
      "  warnings.warn(\n"
     ]
    },
    {
     "name": "stdout",
     "output_type": "stream",
     "text": [
      "\n",
      "\n",
      "Tested 37/50 iterations.\n",
      "Best MAE - Validation Dataset\n",
      "  MAE: 15.5 | sMAPE: 53.46 %\n",
      "\n",
      "Best MAE - Test Dataset\n",
      "  MAE: 25.7 | sMAPE: 40.42 %\n"
     ]
    },
    {
     "name": "stderr",
     "output_type": "stream",
     "text": [
      "C:\\Users\\35250\\AppData\\Roaming\\Python\\Python38\\site-packages\\tensorflow\\python\\keras\\optimizer_v2\\optimizer_v2.py:374: UserWarning: The `lr` argument is deprecated, use `learning_rate` instead.\n",
      "  warnings.warn(\n"
     ]
    },
    {
     "name": "stdout",
     "output_type": "stream",
     "text": [
      "\n",
      "\n",
      "Tested 38/50 iterations.\n",
      "Best MAE - Validation Dataset\n",
      "  MAE: 15.5 | sMAPE: 53.46 %\n",
      "\n",
      "Best MAE - Test Dataset\n",
      "  MAE: 25.7 | sMAPE: 40.42 %\n",
      "\n",
      "\n",
      "Tested 39/50 iterations.\n",
      "Best MAE - Validation Dataset\n",
      "  MAE: 15.5 | sMAPE: 53.46 %\n",
      "\n",
      "Best MAE - Test Dataset\n",
      "  MAE: 25.7 | sMAPE: 40.42 %\n",
      "\n",
      "\n",
      "Tested 40/50 iterations.\n",
      "Best MAE - Validation Dataset\n",
      "  MAE: 15.5 | sMAPE: 53.46 %\n",
      "\n",
      "Best MAE - Test Dataset\n",
      "  MAE: 25.7 | sMAPE: 40.42 %\n"
     ]
    },
    {
     "name": "stderr",
     "output_type": "stream",
     "text": [
      "d:\\business analytics\\notebooks\\project\\epftoolbox\\epftoolbox\\data\\_wrangling.py:95: RuntimeWarning: overflow encountered in sinh\n",
      "  transformed_data = np.sinh(data)\n",
      "d:\\business analytics\\notebooks\\project\\epftoolbox\\epftoolbox\\data\\_wrangling.py:67: RuntimeWarning: overflow encountered in multiply\n",
      "  transformed_data[:, i] = data[:, i] * self.mad[i] + self.median[i]\n"
     ]
    },
    {
     "name": "stdout",
     "output_type": "stream",
     "text": [
      "\n",
      "\n",
      "Tested 41/50 iterations.\n",
      "Best MAE - Validation Dataset\n",
      "  MAE: 15.5 | sMAPE: 53.46 %\n",
      "\n",
      "Best MAE - Test Dataset\n",
      "  MAE: 25.7 | sMAPE: 40.42 %\n"
     ]
    },
    {
     "name": "stderr",
     "output_type": "stream",
     "text": [
      "C:\\Users\\35250\\AppData\\Roaming\\Python\\Python38\\site-packages\\tensorflow\\python\\keras\\optimizer_v2\\optimizer_v2.py:374: UserWarning: The `lr` argument is deprecated, use `learning_rate` instead.\n",
      "  warnings.warn(\n"
     ]
    },
    {
     "name": "stdout",
     "output_type": "stream",
     "text": [
      "\n",
      "\n",
      "Tested 42/50 iterations.\n",
      "Best MAE - Validation Dataset\n",
      "  MAE: 15.5 | sMAPE: 53.46 %\n",
      "\n",
      "Best MAE - Test Dataset\n",
      "  MAE: 25.7 | sMAPE: 40.42 %\n",
      "\n",
      "\n",
      "Tested 43/50 iterations.\n",
      "Best MAE - Validation Dataset\n",
      "  MAE: 15.5 | sMAPE: 53.46 %\n",
      "\n",
      "Best MAE - Test Dataset\n",
      "  MAE: 25.7 | sMAPE: 40.42 %\n"
     ]
    },
    {
     "name": "stderr",
     "output_type": "stream",
     "text": [
      "C:\\Users\\35250\\AppData\\Roaming\\Python\\Python38\\site-packages\\tensorflow\\python\\keras\\optimizer_v2\\optimizer_v2.py:374: UserWarning: The `lr` argument is deprecated, use `learning_rate` instead.\n",
      "  warnings.warn(\n"
     ]
    },
    {
     "name": "stdout",
     "output_type": "stream",
     "text": [
      "\n",
      "\n",
      "Tested 44/50 iterations.\n",
      "Best MAE - Validation Dataset\n",
      "  MAE: 15.5 | sMAPE: 53.46 %\n",
      "\n",
      "Best MAE - Test Dataset\n",
      "  MAE: 25.7 | sMAPE: 40.42 %\n"
     ]
    },
    {
     "name": "stderr",
     "output_type": "stream",
     "text": [
      "C:\\Users\\35250\\AppData\\Roaming\\Python\\Python38\\site-packages\\tensorflow\\python\\keras\\optimizer_v2\\optimizer_v2.py:374: UserWarning: The `lr` argument is deprecated, use `learning_rate` instead.\n",
      "  warnings.warn(\n"
     ]
    },
    {
     "name": "stdout",
     "output_type": "stream",
     "text": [
      "\n",
      "\n",
      "Tested 45/50 iterations.\n",
      "Best MAE - Validation Dataset\n",
      "  MAE: 15.5 | sMAPE: 53.46 %\n",
      "\n",
      "Best MAE - Test Dataset\n",
      "  MAE: 25.7 | sMAPE: 40.42 %\n"
     ]
    },
    {
     "name": "stderr",
     "output_type": "stream",
     "text": [
      "C:\\Users\\35250\\AppData\\Roaming\\Python\\Python38\\site-packages\\tensorflow\\python\\keras\\optimizer_v2\\optimizer_v2.py:374: UserWarning: The `lr` argument is deprecated, use `learning_rate` instead.\n",
      "  warnings.warn(\n"
     ]
    },
    {
     "name": "stdout",
     "output_type": "stream",
     "text": [
      "\n",
      "\n",
      "Tested 46/50 iterations.\n",
      "Best MAE - Validation Dataset\n",
      "  MAE: 15.5 | sMAPE: 53.46 %\n",
      "\n",
      "Best MAE - Test Dataset\n",
      "  MAE: 25.7 | sMAPE: 40.42 %\n"
     ]
    },
    {
     "name": "stderr",
     "output_type": "stream",
     "text": [
      "C:\\Users\\35250\\AppData\\Roaming\\Python\\Python38\\site-packages\\tensorflow\\python\\keras\\optimizer_v2\\optimizer_v2.py:374: UserWarning: The `lr` argument is deprecated, use `learning_rate` instead.\n",
      "  warnings.warn(\n",
      "d:\\business analytics\\notebooks\\project\\epftoolbox\\epftoolbox\\data\\_wrangling.py:95: RuntimeWarning: overflow encountered in sinh\n",
      "  transformed_data = np.sinh(data)\n",
      "d:\\business analytics\\notebooks\\project\\epftoolbox\\epftoolbox\\data\\_wrangling.py:67: RuntimeWarning: overflow encountered in multiply\n",
      "  transformed_data[:, i] = data[:, i] * self.mad[i] + self.median[i]\n"
     ]
    },
    {
     "name": "stdout",
     "output_type": "stream",
     "text": [
      "\n",
      "\n",
      "Tested 47/50 iterations.\n",
      "Best MAE - Validation Dataset\n",
      "  MAE: 15.5 | sMAPE: 53.46 %\n",
      "\n",
      "Best MAE - Test Dataset\n",
      "  MAE: 25.7 | sMAPE: 40.42 %\n"
     ]
    },
    {
     "name": "stderr",
     "output_type": "stream",
     "text": [
      "C:\\Users\\35250\\AppData\\Roaming\\Python\\Python38\\site-packages\\tensorflow\\python\\keras\\optimizer_v2\\optimizer_v2.py:374: UserWarning: The `lr` argument is deprecated, use `learning_rate` instead.\n",
      "  warnings.warn(\n"
     ]
    },
    {
     "name": "stdout",
     "output_type": "stream",
     "text": [
      "\n",
      "\n",
      "Tested 48/50 iterations.\n",
      "Best MAE - Validation Dataset\n",
      "  MAE: 15.5 | sMAPE: 53.46 %\n",
      "\n",
      "Best MAE - Test Dataset\n",
      "  MAE: 25.7 | sMAPE: 40.42 %\n"
     ]
    },
    {
     "name": "stderr",
     "output_type": "stream",
     "text": [
      "C:\\Users\\35250\\AppData\\Roaming\\Python\\Python38\\site-packages\\tensorflow\\python\\keras\\optimizer_v2\\optimizer_v2.py:374: UserWarning: The `lr` argument is deprecated, use `learning_rate` instead.\n",
      "  warnings.warn(\n"
     ]
    },
    {
     "name": "stdout",
     "output_type": "stream",
     "text": [
      "\n",
      "\n",
      "Tested 49/50 iterations.\n",
      "Best MAE - Validation Dataset\n",
      "  MAE: 15.5 | sMAPE: 53.46 %\n",
      "\n",
      "Best MAE - Test Dataset\n",
      "  MAE: 25.7 | sMAPE: 40.42 %\n"
     ]
    },
    {
     "name": "stderr",
     "output_type": "stream",
     "text": [
      "C:\\Users\\35250\\AppData\\Roaming\\Python\\Python38\\site-packages\\tensorflow\\python\\keras\\optimizer_v2\\optimizer_v2.py:374: UserWarning: The `lr` argument is deprecated, use `learning_rate` instead.\n",
      "  warnings.warn(\n"
     ]
    }
   ],
   "source": [
    "# Number of layers in DNN\n",
    "nlayers = 2\n",
    "\n",
    "# data to study\n",
    "dataset = 'imbalanceData_final'\n",
    "\n",
    "# 1 year is considered as 364 days (52 weeks)\n",
    "# years_test = 1\n",
    "\n",
    "# Optional parameters for selecting the test dataset\n",
    "begin_test_date = '2021-04-19'\n",
    "end_test_date = '2021-04-30'\n",
    "\n",
    "# Boolean that selects whether the validation and training datasets are shuffled\n",
    "shuffle_train = 1\n",
    "\n",
    "# Boolean that selects whether a data augmentation technique for DNNs is used\n",
    "data_augmentation = 0\n",
    "\n",
    "# Boolean that selects whether we start a new hyperparameter optimization or we restart an existing one\n",
    "new_hyperopt = 1\n",
    "\n",
    "# Number of years used in the training dataset for recalibration\n",
    "calibration_window = 1\n",
    "\n",
    "# Unique identifier to read the trials file of hyperparameter optimization\n",
    "experiment_id = 3\n",
    "\n",
    "# Number of iterations for hyperparameter optimization\n",
    "max_evals = 50\n",
    "\n",
    "# path_datasets_folder = \"./datasets/\"\n",
    "# path_hyperparameters_folder = \"./experimental_files/\"\n",
    "\n",
    "hyperparameter_optimizer(path_datasets_folder = 'final datasets',\n",
    "                         path_hyperparameters_folder = 'hyperparameter_dnn/imb_April',\n",
    "                         new_hyperopt = new_hyperopt,\n",
    "                         max_evals = max_evals,\n",
    "                         nlayers = nlayers,\n",
    "                         dataset = dataset, \n",
    "                         #years_test = years_test,\n",
    "                         calibration_window = calibration_window, \n",
    "                         shuffle_train = shuffle_train,\n",
    "                         data_augmentation = data_augmentation,\n",
    "                         experiment_id = experiment_id,\n",
    "                         begin_test_date = begin_test_date,\n",
    "                         end_test_date = end_test_date)"
   ]
  },
  {
   "cell_type": "code",
   "execution_count": 4,
   "id": "6aa900eb",
   "metadata": {
    "scrolled": true
   },
   "outputs": [
    {
     "name": "stdout",
     "output_type": "stream",
     "text": [
      "Test datasets: 2021-04-19 00:00:00 - 2021-04-30 23:00:00\n"
     ]
    },
    {
     "name": "stderr",
     "output_type": "stream",
     "text": [
      "C:\\Users\\35250\\AppData\\Roaming\\Python\\Python38\\site-packages\\tensorflow\\python\\keras\\optimizer_v2\\optimizer_v2.py:374: UserWarning: The `lr` argument is deprecated, use `learning_rate` instead.\n",
      "  warnings.warn(\n"
     ]
    },
    {
     "name": "stdout",
     "output_type": "stream",
     "text": [
      "\n",
      "\n",
      "Tested 1/50 iterations.\n",
      "Best MAE - Validation Dataset\n",
      "  MAE: 6.6 | sMAPE: 21.00 %\n",
      "\n",
      "Best MAE - Test Dataset\n",
      "  MAE: 9.1 | sMAPE: 13.68 %\n",
      "\n",
      "\n",
      "Tested 2/50 iterations.\n",
      "Best MAE - Validation Dataset\n",
      "  MAE: 6.6 | sMAPE: 21.00 %\n",
      "\n",
      "Best MAE - Test Dataset\n",
      "  MAE: 9.1 | sMAPE: 13.68 %\n"
     ]
    },
    {
     "name": "stderr",
     "output_type": "stream",
     "text": [
      "C:\\Users\\35250\\AppData\\Roaming\\Python\\Python38\\site-packages\\tensorflow\\python\\keras\\optimizer_v2\\optimizer_v2.py:374: UserWarning: The `lr` argument is deprecated, use `learning_rate` instead.\n",
      "  warnings.warn(\n"
     ]
    },
    {
     "name": "stdout",
     "output_type": "stream",
     "text": [
      "\n",
      "\n",
      "Tested 3/50 iterations.\n",
      "Best MAE - Validation Dataset\n",
      "  MAE: 6.6 | sMAPE: 21.00 %\n",
      "\n",
      "Best MAE - Test Dataset\n",
      "  MAE: 9.1 | sMAPE: 13.68 %\n",
      "\n",
      "\n",
      "Tested 4/50 iterations.\n",
      "Best MAE - Validation Dataset\n",
      "  MAE: 6.6 | sMAPE: 21.00 %\n",
      "\n",
      "Best MAE - Test Dataset\n",
      "  MAE: 9.1 | sMAPE: 13.68 %\n"
     ]
    },
    {
     "name": "stderr",
     "output_type": "stream",
     "text": [
      "C:\\Users\\35250\\AppData\\Roaming\\Python\\Python38\\site-packages\\tensorflow\\python\\keras\\optimizer_v2\\optimizer_v2.py:374: UserWarning: The `lr` argument is deprecated, use `learning_rate` instead.\n",
      "  warnings.warn(\n"
     ]
    },
    {
     "name": "stdout",
     "output_type": "stream",
     "text": [
      "\n",
      "\n",
      "Tested 5/50 iterations.\n",
      "Best MAE - Validation Dataset\n",
      "  MAE: 6.6 | sMAPE: 21.46 %\n",
      "\n",
      "Best MAE - Test Dataset\n",
      "  MAE: 5.3 | sMAPE: 7.96 %\n"
     ]
    },
    {
     "name": "stderr",
     "output_type": "stream",
     "text": [
      "C:\\Users\\35250\\AppData\\Roaming\\Python\\Python38\\site-packages\\tensorflow\\python\\keras\\optimizer_v2\\optimizer_v2.py:374: UserWarning: The `lr` argument is deprecated, use `learning_rate` instead.\n",
      "  warnings.warn(\n"
     ]
    },
    {
     "name": "stdout",
     "output_type": "stream",
     "text": [
      "\n",
      "\n",
      "Tested 6/50 iterations.\n",
      "Best MAE - Validation Dataset\n",
      "  MAE: 6.6 | sMAPE: 21.46 %\n",
      "\n",
      "Best MAE - Test Dataset\n",
      "  MAE: 5.3 | sMAPE: 7.96 %\n"
     ]
    },
    {
     "name": "stderr",
     "output_type": "stream",
     "text": [
      "C:\\Users\\35250\\AppData\\Roaming\\Python\\Python38\\site-packages\\tensorflow\\python\\keras\\optimizer_v2\\optimizer_v2.py:374: UserWarning: The `lr` argument is deprecated, use `learning_rate` instead.\n",
      "  warnings.warn(\n"
     ]
    },
    {
     "name": "stdout",
     "output_type": "stream",
     "text": [
      "\n",
      "\n",
      "Tested 7/50 iterations.\n",
      "Best MAE - Validation Dataset\n",
      "  MAE: 6.6 | sMAPE: 21.46 %\n",
      "\n",
      "Best MAE - Test Dataset\n",
      "  MAE: 5.3 | sMAPE: 7.96 %\n"
     ]
    },
    {
     "name": "stderr",
     "output_type": "stream",
     "text": [
      "C:\\Users\\35250\\AppData\\Roaming\\Python\\Python38\\site-packages\\tensorflow\\python\\keras\\optimizer_v2\\optimizer_v2.py:374: UserWarning: The `lr` argument is deprecated, use `learning_rate` instead.\n",
      "  warnings.warn(\n"
     ]
    },
    {
     "name": "stdout",
     "output_type": "stream",
     "text": [
      "\n",
      "\n",
      "Tested 8/50 iterations.\n",
      "Best MAE - Validation Dataset\n",
      "  MAE: 6.6 | sMAPE: 21.46 %\n",
      "\n",
      "Best MAE - Test Dataset\n",
      "  MAE: 5.3 | sMAPE: 7.96 %\n"
     ]
    },
    {
     "name": "stderr",
     "output_type": "stream",
     "text": [
      "C:\\Users\\35250\\AppData\\Roaming\\Python\\Python38\\site-packages\\tensorflow\\python\\keras\\optimizer_v2\\optimizer_v2.py:374: UserWarning: The `lr` argument is deprecated, use `learning_rate` instead.\n",
      "  warnings.warn(\n"
     ]
    },
    {
     "name": "stdout",
     "output_type": "stream",
     "text": [
      "\n",
      "\n",
      "Tested 9/50 iterations.\n",
      "Best MAE - Validation Dataset\n",
      "  MAE: 6.6 | sMAPE: 21.46 %\n",
      "\n",
      "Best MAE - Test Dataset\n",
      "  MAE: 5.3 | sMAPE: 7.96 %\n"
     ]
    },
    {
     "name": "stderr",
     "output_type": "stream",
     "text": [
      "C:\\Users\\35250\\AppData\\Roaming\\Python\\Python38\\site-packages\\tensorflow\\python\\keras\\optimizer_v2\\optimizer_v2.py:374: UserWarning: The `lr` argument is deprecated, use `learning_rate` instead.\n",
      "  warnings.warn(\n"
     ]
    },
    {
     "name": "stdout",
     "output_type": "stream",
     "text": [
      "\n",
      "\n",
      "Tested 10/50 iterations.\n",
      "Best MAE - Validation Dataset\n",
      "  MAE: 6.6 | sMAPE: 21.46 %\n",
      "\n",
      "Best MAE - Test Dataset\n",
      "  MAE: 5.3 | sMAPE: 7.96 %\n"
     ]
    },
    {
     "name": "stderr",
     "output_type": "stream",
     "text": [
      "C:\\Users\\35250\\AppData\\Roaming\\Python\\Python38\\site-packages\\tensorflow\\python\\keras\\optimizer_v2\\optimizer_v2.py:374: UserWarning: The `lr` argument is deprecated, use `learning_rate` instead.\n",
      "  warnings.warn(\n"
     ]
    },
    {
     "name": "stdout",
     "output_type": "stream",
     "text": [
      "\n",
      "\n",
      "Tested 11/50 iterations.\n",
      "Best MAE - Validation Dataset\n",
      "  MAE: 6.6 | sMAPE: 21.46 %\n",
      "\n",
      "Best MAE - Test Dataset\n",
      "  MAE: 5.3 | sMAPE: 7.96 %\n"
     ]
    },
    {
     "name": "stderr",
     "output_type": "stream",
     "text": [
      "C:\\Users\\35250\\AppData\\Roaming\\Python\\Python38\\site-packages\\tensorflow\\python\\keras\\optimizer_v2\\optimizer_v2.py:374: UserWarning: The `lr` argument is deprecated, use `learning_rate` instead.\n",
      "  warnings.warn(\n"
     ]
    },
    {
     "name": "stdout",
     "output_type": "stream",
     "text": [
      "\n",
      "\n",
      "Tested 12/50 iterations.\n",
      "Best MAE - Validation Dataset\n",
      "  MAE: 6.6 | sMAPE: 21.46 %\n",
      "\n",
      "Best MAE - Test Dataset\n",
      "  MAE: 5.3 | sMAPE: 7.96 %\n"
     ]
    },
    {
     "name": "stderr",
     "output_type": "stream",
     "text": [
      "C:\\Users\\35250\\AppData\\Roaming\\Python\\Python38\\site-packages\\tensorflow\\python\\keras\\optimizer_v2\\optimizer_v2.py:374: UserWarning: The `lr` argument is deprecated, use `learning_rate` instead.\n",
      "  warnings.warn(\n"
     ]
    },
    {
     "name": "stdout",
     "output_type": "stream",
     "text": [
      "\n",
      "\n",
      "Tested 13/50 iterations.\n",
      "Best MAE - Validation Dataset\n",
      "  MAE: 6.6 | sMAPE: 21.46 %\n",
      "\n",
      "Best MAE - Test Dataset\n",
      "  MAE: 5.3 | sMAPE: 7.96 %\n"
     ]
    },
    {
     "name": "stderr",
     "output_type": "stream",
     "text": [
      "C:\\Users\\35250\\AppData\\Roaming\\Python\\Python38\\site-packages\\tensorflow\\python\\keras\\optimizer_v2\\optimizer_v2.py:374: UserWarning: The `lr` argument is deprecated, use `learning_rate` instead.\n",
      "  warnings.warn(\n"
     ]
    },
    {
     "name": "stdout",
     "output_type": "stream",
     "text": [
      "\n",
      "\n",
      "Tested 14/50 iterations.\n",
      "Best MAE - Validation Dataset\n",
      "  MAE: 6.6 | sMAPE: 21.46 %\n",
      "\n",
      "Best MAE - Test Dataset\n",
      "  MAE: 5.3 | sMAPE: 7.96 %\n"
     ]
    },
    {
     "name": "stderr",
     "output_type": "stream",
     "text": [
      "C:\\Users\\35250\\AppData\\Roaming\\Python\\Python38\\site-packages\\tensorflow\\python\\keras\\optimizer_v2\\optimizer_v2.py:374: UserWarning: The `lr` argument is deprecated, use `learning_rate` instead.\n",
      "  warnings.warn(\n"
     ]
    },
    {
     "name": "stdout",
     "output_type": "stream",
     "text": [
      "\n",
      "\n",
      "Tested 15/50 iterations.\n",
      "Best MAE - Validation Dataset\n",
      "  MAE: 6.6 | sMAPE: 21.46 %\n",
      "\n",
      "Best MAE - Test Dataset\n",
      "  MAE: 5.3 | sMAPE: 7.96 %\n",
      "\n",
      "\n",
      "Tested 16/50 iterations.\n",
      "Best MAE - Validation Dataset\n",
      "  MAE: 6.6 | sMAPE: 21.46 %\n",
      "\n",
      "Best MAE - Test Dataset\n",
      "  MAE: 5.3 | sMAPE: 7.96 %\n"
     ]
    },
    {
     "name": "stderr",
     "output_type": "stream",
     "text": [
      "C:\\Users\\35250\\AppData\\Roaming\\Python\\Python38\\site-packages\\tensorflow\\python\\keras\\optimizer_v2\\optimizer_v2.py:374: UserWarning: The `lr` argument is deprecated, use `learning_rate` instead.\n",
      "  warnings.warn(\n"
     ]
    },
    {
     "name": "stdout",
     "output_type": "stream",
     "text": [
      "\n",
      "\n",
      "Tested 17/50 iterations.\n",
      "Best MAE - Validation Dataset\n",
      "  MAE: 6.6 | sMAPE: 21.46 %\n",
      "\n",
      "Best MAE - Test Dataset\n",
      "  MAE: 5.3 | sMAPE: 7.96 %\n"
     ]
    },
    {
     "name": "stderr",
     "output_type": "stream",
     "text": [
      "C:\\Users\\35250\\AppData\\Roaming\\Python\\Python38\\site-packages\\tensorflow\\python\\keras\\optimizer_v2\\optimizer_v2.py:374: UserWarning: The `lr` argument is deprecated, use `learning_rate` instead.\n",
      "  warnings.warn(\n"
     ]
    },
    {
     "name": "stdout",
     "output_type": "stream",
     "text": [
      "\n",
      "\n",
      "Tested 18/50 iterations.\n",
      "Best MAE - Validation Dataset\n",
      "  MAE: 6.6 | sMAPE: 21.46 %\n",
      "\n",
      "Best MAE - Test Dataset\n",
      "  MAE: 5.3 | sMAPE: 7.96 %\n",
      "\n",
      "\n",
      "Tested 19/50 iterations.\n",
      "Best MAE - Validation Dataset\n",
      "  MAE: 6.6 | sMAPE: 21.46 %\n",
      "\n",
      "Best MAE - Test Dataset\n",
      "  MAE: 5.3 | sMAPE: 7.96 %\n"
     ]
    },
    {
     "name": "stderr",
     "output_type": "stream",
     "text": [
      "C:\\Users\\35250\\AppData\\Roaming\\Python\\Python38\\site-packages\\tensorflow\\python\\keras\\optimizer_v2\\optimizer_v2.py:374: UserWarning: The `lr` argument is deprecated, use `learning_rate` instead.\n",
      "  warnings.warn(\n"
     ]
    },
    {
     "name": "stdout",
     "output_type": "stream",
     "text": [
      "\n",
      "\n",
      "Tested 20/50 iterations.\n",
      "Best MAE - Validation Dataset\n",
      "  MAE: 6.6 | sMAPE: 21.46 %\n",
      "\n",
      "Best MAE - Test Dataset\n",
      "  MAE: 5.3 | sMAPE: 7.96 %\n"
     ]
    },
    {
     "name": "stderr",
     "output_type": "stream",
     "text": [
      "C:\\Users\\35250\\AppData\\Roaming\\Python\\Python38\\site-packages\\tensorflow\\python\\keras\\optimizer_v2\\optimizer_v2.py:374: UserWarning: The `lr` argument is deprecated, use `learning_rate` instead.\n",
      "  warnings.warn(\n"
     ]
    },
    {
     "name": "stdout",
     "output_type": "stream",
     "text": [
      "\n",
      "\n",
      "Tested 21/50 iterations.\n",
      "Best MAE - Validation Dataset\n",
      "  MAE: 6.6 | sMAPE: 21.46 %\n",
      "\n",
      "Best MAE - Test Dataset\n",
      "  MAE: 5.3 | sMAPE: 7.96 %\n"
     ]
    },
    {
     "name": "stderr",
     "output_type": "stream",
     "text": [
      "C:\\Users\\35250\\AppData\\Roaming\\Python\\Python38\\site-packages\\tensorflow\\python\\keras\\optimizer_v2\\optimizer_v2.py:374: UserWarning: The `lr` argument is deprecated, use `learning_rate` instead.\n",
      "  warnings.warn(\n"
     ]
    },
    {
     "name": "stdout",
     "output_type": "stream",
     "text": [
      "\n",
      "\n",
      "Tested 22/50 iterations.\n",
      "Best MAE - Validation Dataset\n",
      "  MAE: 6.6 | sMAPE: 21.46 %\n",
      "\n",
      "Best MAE - Test Dataset\n",
      "  MAE: 5.3 | sMAPE: 7.96 %\n"
     ]
    },
    {
     "name": "stderr",
     "output_type": "stream",
     "text": [
      "C:\\Users\\35250\\AppData\\Roaming\\Python\\Python38\\site-packages\\tensorflow\\python\\keras\\optimizer_v2\\optimizer_v2.py:374: UserWarning: The `lr` argument is deprecated, use `learning_rate` instead.\n",
      "  warnings.warn(\n"
     ]
    },
    {
     "name": "stdout",
     "output_type": "stream",
     "text": [
      "\n",
      "\n",
      "Tested 23/50 iterations.\n",
      "Best MAE - Validation Dataset\n",
      "  MAE: 6.4 | sMAPE: 20.80 %\n",
      "\n",
      "Best MAE - Test Dataset\n",
      "  MAE: 6.1 | sMAPE: 8.96 %\n"
     ]
    },
    {
     "name": "stderr",
     "output_type": "stream",
     "text": [
      "C:\\Users\\35250\\AppData\\Roaming\\Python\\Python38\\site-packages\\tensorflow\\python\\keras\\optimizer_v2\\optimizer_v2.py:374: UserWarning: The `lr` argument is deprecated, use `learning_rate` instead.\n",
      "  warnings.warn(\n"
     ]
    },
    {
     "name": "stdout",
     "output_type": "stream",
     "text": [
      "\n",
      "\n",
      "Tested 24/50 iterations.\n",
      "Best MAE - Validation Dataset\n",
      "  MAE: 6.4 | sMAPE: 20.80 %\n",
      "\n",
      "Best MAE - Test Dataset\n",
      "  MAE: 6.1 | sMAPE: 8.96 %\n"
     ]
    },
    {
     "name": "stderr",
     "output_type": "stream",
     "text": [
      "C:\\Users\\35250\\AppData\\Roaming\\Python\\Python38\\site-packages\\tensorflow\\python\\keras\\optimizer_v2\\optimizer_v2.py:374: UserWarning: The `lr` argument is deprecated, use `learning_rate` instead.\n",
      "  warnings.warn(\n"
     ]
    },
    {
     "name": "stdout",
     "output_type": "stream",
     "text": [
      "\n",
      "\n",
      "Tested 25/50 iterations.\n",
      "Best MAE - Validation Dataset\n",
      "  MAE: 6.4 | sMAPE: 20.80 %\n",
      "\n",
      "Best MAE - Test Dataset\n",
      "  MAE: 6.1 | sMAPE: 8.96 %\n"
     ]
    },
    {
     "name": "stderr",
     "output_type": "stream",
     "text": [
      "C:\\Users\\35250\\AppData\\Roaming\\Python\\Python38\\site-packages\\tensorflow\\python\\keras\\optimizer_v2\\optimizer_v2.py:374: UserWarning: The `lr` argument is deprecated, use `learning_rate` instead.\n",
      "  warnings.warn(\n"
     ]
    },
    {
     "name": "stdout",
     "output_type": "stream",
     "text": [
      "\n",
      "\n",
      "Tested 26/50 iterations.\n",
      "Best MAE - Validation Dataset\n",
      "  MAE: 6.4 | sMAPE: 20.80 %\n",
      "\n",
      "Best MAE - Test Dataset\n",
      "  MAE: 6.1 | sMAPE: 8.96 %\n"
     ]
    },
    {
     "name": "stderr",
     "output_type": "stream",
     "text": [
      "C:\\Users\\35250\\AppData\\Roaming\\Python\\Python38\\site-packages\\tensorflow\\python\\keras\\optimizer_v2\\optimizer_v2.py:374: UserWarning: The `lr` argument is deprecated, use `learning_rate` instead.\n",
      "  warnings.warn(\n"
     ]
    },
    {
     "name": "stdout",
     "output_type": "stream",
     "text": [
      "\n",
      "\n",
      "Tested 27/50 iterations.\n",
      "Best MAE - Validation Dataset\n",
      "  MAE: 6.4 | sMAPE: 20.80 %\n",
      "\n",
      "Best MAE - Test Dataset\n",
      "  MAE: 6.1 | sMAPE: 8.96 %\n"
     ]
    },
    {
     "name": "stderr",
     "output_type": "stream",
     "text": [
      "C:\\Users\\35250\\AppData\\Roaming\\Python\\Python38\\site-packages\\tensorflow\\python\\keras\\optimizer_v2\\optimizer_v2.py:374: UserWarning: The `lr` argument is deprecated, use `learning_rate` instead.\n",
      "  warnings.warn(\n"
     ]
    },
    {
     "name": "stdout",
     "output_type": "stream",
     "text": [
      "\n",
      "\n",
      "Tested 28/50 iterations.\n",
      "Best MAE - Validation Dataset\n",
      "  MAE: 6.4 | sMAPE: 20.80 %\n",
      "\n",
      "Best MAE - Test Dataset\n",
      "  MAE: 6.1 | sMAPE: 8.96 %\n"
     ]
    },
    {
     "name": "stderr",
     "output_type": "stream",
     "text": [
      "C:\\Users\\35250\\AppData\\Roaming\\Python\\Python38\\site-packages\\tensorflow\\python\\keras\\optimizer_v2\\optimizer_v2.py:374: UserWarning: The `lr` argument is deprecated, use `learning_rate` instead.\n",
      "  warnings.warn(\n"
     ]
    },
    {
     "name": "stdout",
     "output_type": "stream",
     "text": [
      "\n",
      "\n",
      "Tested 29/50 iterations.\n",
      "Best MAE - Validation Dataset\n",
      "  MAE: 6.4 | sMAPE: 20.80 %\n",
      "\n",
      "Best MAE - Test Dataset\n",
      "  MAE: 6.1 | sMAPE: 8.96 %\n",
      "\n",
      "\n",
      "Tested 30/50 iterations.\n",
      "Best MAE - Validation Dataset\n",
      "  MAE: 6.4 | sMAPE: 20.80 %\n",
      "\n",
      "Best MAE - Test Dataset\n",
      "  MAE: 6.1 | sMAPE: 8.96 %\n"
     ]
    },
    {
     "name": "stderr",
     "output_type": "stream",
     "text": [
      "C:\\Users\\35250\\AppData\\Roaming\\Python\\Python38\\site-packages\\tensorflow\\python\\keras\\optimizer_v2\\optimizer_v2.py:374: UserWarning: The `lr` argument is deprecated, use `learning_rate` instead.\n",
      "  warnings.warn(\n"
     ]
    },
    {
     "name": "stdout",
     "output_type": "stream",
     "text": [
      "\n",
      "\n",
      "Tested 31/50 iterations.\n",
      "Best MAE - Validation Dataset\n",
      "  MAE: 6.4 | sMAPE: 20.80 %\n",
      "\n",
      "Best MAE - Test Dataset\n",
      "  MAE: 6.1 | sMAPE: 8.96 %\n"
     ]
    },
    {
     "name": "stderr",
     "output_type": "stream",
     "text": [
      "C:\\Users\\35250\\AppData\\Roaming\\Python\\Python38\\site-packages\\tensorflow\\python\\keras\\optimizer_v2\\optimizer_v2.py:374: UserWarning: The `lr` argument is deprecated, use `learning_rate` instead.\n",
      "  warnings.warn(\n"
     ]
    },
    {
     "name": "stdout",
     "output_type": "stream",
     "text": [
      "\n",
      "\n",
      "Tested 32/50 iterations.\n",
      "Best MAE - Validation Dataset\n",
      "  MAE: 6.4 | sMAPE: 20.80 %\n",
      "\n",
      "Best MAE - Test Dataset\n",
      "  MAE: 6.1 | sMAPE: 8.96 %\n",
      "\n",
      "\n",
      "Tested 33/50 iterations.\n",
      "Best MAE - Validation Dataset\n",
      "  MAE: 6.4 | sMAPE: 20.80 %\n",
      "\n",
      "Best MAE - Test Dataset\n",
      "  MAE: 6.1 | sMAPE: 8.96 %\n",
      "\n",
      "\n",
      "Tested 34/50 iterations.\n",
      "Best MAE - Validation Dataset\n",
      "  MAE: 6.4 | sMAPE: 20.80 %\n",
      "\n",
      "Best MAE - Test Dataset\n",
      "  MAE: 6.1 | sMAPE: 8.96 %\n"
     ]
    },
    {
     "name": "stderr",
     "output_type": "stream",
     "text": [
      "C:\\Users\\35250\\AppData\\Roaming\\Python\\Python38\\site-packages\\tensorflow\\python\\keras\\optimizer_v2\\optimizer_v2.py:374: UserWarning: The `lr` argument is deprecated, use `learning_rate` instead.\n",
      "  warnings.warn(\n"
     ]
    },
    {
     "name": "stdout",
     "output_type": "stream",
     "text": [
      "\n",
      "\n",
      "Tested 35/50 iterations.\n",
      "Best MAE - Validation Dataset\n",
      "  MAE: 6.4 | sMAPE: 20.80 %\n",
      "\n",
      "Best MAE - Test Dataset\n",
      "  MAE: 6.1 | sMAPE: 8.96 %\n"
     ]
    },
    {
     "name": "stderr",
     "output_type": "stream",
     "text": [
      "C:\\Users\\35250\\AppData\\Roaming\\Python\\Python38\\site-packages\\tensorflow\\python\\keras\\optimizer_v2\\optimizer_v2.py:374: UserWarning: The `lr` argument is deprecated, use `learning_rate` instead.\n",
      "  warnings.warn(\n"
     ]
    },
    {
     "name": "stdout",
     "output_type": "stream",
     "text": [
      "\n",
      "\n",
      "Tested 36/50 iterations.\n",
      "Best MAE - Validation Dataset\n",
      "  MAE: 6.4 | sMAPE: 20.80 %\n",
      "\n",
      "Best MAE - Test Dataset\n",
      "  MAE: 6.1 | sMAPE: 8.96 %\n"
     ]
    },
    {
     "name": "stderr",
     "output_type": "stream",
     "text": [
      "C:\\Users\\35250\\AppData\\Roaming\\Python\\Python38\\site-packages\\tensorflow\\python\\keras\\optimizer_v2\\optimizer_v2.py:374: UserWarning: The `lr` argument is deprecated, use `learning_rate` instead.\n",
      "  warnings.warn(\n"
     ]
    },
    {
     "name": "stdout",
     "output_type": "stream",
     "text": [
      "\n",
      "\n",
      "Tested 37/50 iterations.\n",
      "Best MAE - Validation Dataset\n",
      "  MAE: 6.4 | sMAPE: 20.80 %\n",
      "\n",
      "Best MAE - Test Dataset\n",
      "  MAE: 6.1 | sMAPE: 8.96 %\n"
     ]
    },
    {
     "name": "stderr",
     "output_type": "stream",
     "text": [
      "d:\\business analytics\\notebooks\\project\\epftoolbox\\epftoolbox\\data\\_wrangling.py:95: RuntimeWarning: overflow encountered in sinh\n",
      "  transformed_data = np.sinh(data)\n",
      "d:\\business analytics\\notebooks\\project\\epftoolbox\\epftoolbox\\data\\_wrangling.py:67: RuntimeWarning: overflow encountered in multiply\n",
      "  transformed_data[:, i] = data[:, i] * self.mad[i] + self.median[i]\n"
     ]
    },
    {
     "name": "stdout",
     "output_type": "stream",
     "text": [
      "\n",
      "\n",
      "Tested 38/50 iterations.\n",
      "Best MAE - Validation Dataset\n",
      "  MAE: 6.4 | sMAPE: 20.80 %\n",
      "\n",
      "Best MAE - Test Dataset\n",
      "  MAE: 6.1 | sMAPE: 8.96 %\n"
     ]
    },
    {
     "name": "stderr",
     "output_type": "stream",
     "text": [
      "C:\\Users\\35250\\AppData\\Roaming\\Python\\Python38\\site-packages\\tensorflow\\python\\keras\\optimizer_v2\\optimizer_v2.py:374: UserWarning: The `lr` argument is deprecated, use `learning_rate` instead.\n",
      "  warnings.warn(\n"
     ]
    },
    {
     "name": "stdout",
     "output_type": "stream",
     "text": [
      "\n",
      "\n",
      "Tested 39/50 iterations.\n",
      "Best MAE - Validation Dataset\n",
      "  MAE: 6.4 | sMAPE: 20.80 %\n",
      "\n",
      "Best MAE - Test Dataset\n",
      "  MAE: 6.1 | sMAPE: 8.96 %\n",
      "\n",
      "\n",
      "Tested 40/50 iterations.\n",
      "Best MAE - Validation Dataset\n",
      "  MAE: 6.4 | sMAPE: 20.80 %\n",
      "\n",
      "Best MAE - Test Dataset\n",
      "  MAE: 6.1 | sMAPE: 8.96 %\n"
     ]
    },
    {
     "name": "stderr",
     "output_type": "stream",
     "text": [
      "C:\\Users\\35250\\AppData\\Roaming\\Python\\Python38\\site-packages\\tensorflow\\python\\keras\\optimizer_v2\\optimizer_v2.py:374: UserWarning: The `lr` argument is deprecated, use `learning_rate` instead.\n",
      "  warnings.warn(\n"
     ]
    },
    {
     "name": "stdout",
     "output_type": "stream",
     "text": [
      "\n",
      "\n",
      "Tested 41/50 iterations.\n",
      "Best MAE - Validation Dataset\n",
      "  MAE: 6.4 | sMAPE: 20.80 %\n",
      "\n",
      "Best MAE - Test Dataset\n",
      "  MAE: 6.1 | sMAPE: 8.96 %\n"
     ]
    },
    {
     "name": "stderr",
     "output_type": "stream",
     "text": [
      "C:\\Users\\35250\\AppData\\Roaming\\Python\\Python38\\site-packages\\tensorflow\\python\\keras\\optimizer_v2\\optimizer_v2.py:374: UserWarning: The `lr` argument is deprecated, use `learning_rate` instead.\n",
      "  warnings.warn(\n"
     ]
    },
    {
     "name": "stdout",
     "output_type": "stream",
     "text": [
      "\n",
      "\n",
      "Tested 42/50 iterations.\n",
      "Best MAE - Validation Dataset\n",
      "  MAE: 6.4 | sMAPE: 20.80 %\n",
      "\n",
      "Best MAE - Test Dataset\n",
      "  MAE: 6.1 | sMAPE: 8.96 %\n",
      "\n",
      "\n",
      "Tested 43/50 iterations.\n",
      "Best MAE - Validation Dataset\n",
      "  MAE: 6.4 | sMAPE: 20.80 %\n",
      "\n",
      "Best MAE - Test Dataset\n",
      "  MAE: 6.1 | sMAPE: 8.96 %\n"
     ]
    },
    {
     "name": "stderr",
     "output_type": "stream",
     "text": [
      "C:\\Users\\35250\\AppData\\Roaming\\Python\\Python38\\site-packages\\tensorflow\\python\\keras\\optimizer_v2\\optimizer_v2.py:374: UserWarning: The `lr` argument is deprecated, use `learning_rate` instead.\n",
      "  warnings.warn(\n"
     ]
    },
    {
     "name": "stdout",
     "output_type": "stream",
     "text": [
      "\n",
      "\n",
      "Tested 44/50 iterations.\n",
      "Best MAE - Validation Dataset\n",
      "  MAE: 6.4 | sMAPE: 20.80 %\n",
      "\n",
      "Best MAE - Test Dataset\n",
      "  MAE: 6.1 | sMAPE: 8.96 %\n"
     ]
    },
    {
     "name": "stderr",
     "output_type": "stream",
     "text": [
      "C:\\Users\\35250\\AppData\\Roaming\\Python\\Python38\\site-packages\\tensorflow\\python\\keras\\optimizer_v2\\optimizer_v2.py:374: UserWarning: The `lr` argument is deprecated, use `learning_rate` instead.\n",
      "  warnings.warn(\n"
     ]
    },
    {
     "name": "stdout",
     "output_type": "stream",
     "text": [
      "\n",
      "\n",
      "Tested 45/50 iterations.\n",
      "Best MAE - Validation Dataset\n",
      "  MAE: 6.4 | sMAPE: 20.80 %\n",
      "\n",
      "Best MAE - Test Dataset\n",
      "  MAE: 6.1 | sMAPE: 8.96 %\n"
     ]
    },
    {
     "name": "stderr",
     "output_type": "stream",
     "text": [
      "C:\\Users\\35250\\AppData\\Roaming\\Python\\Python38\\site-packages\\tensorflow\\python\\keras\\optimizer_v2\\optimizer_v2.py:374: UserWarning: The `lr` argument is deprecated, use `learning_rate` instead.\n",
      "  warnings.warn(\n"
     ]
    },
    {
     "name": "stdout",
     "output_type": "stream",
     "text": [
      "\n",
      "\n",
      "Tested 46/50 iterations.\n",
      "Best MAE - Validation Dataset\n",
      "  MAE: 6.4 | sMAPE: 20.80 %\n",
      "\n",
      "Best MAE - Test Dataset\n",
      "  MAE: 6.1 | sMAPE: 8.96 %\n"
     ]
    },
    {
     "name": "stderr",
     "output_type": "stream",
     "text": [
      "C:\\Users\\35250\\AppData\\Roaming\\Python\\Python38\\site-packages\\tensorflow\\python\\keras\\optimizer_v2\\optimizer_v2.py:374: UserWarning: The `lr` argument is deprecated, use `learning_rate` instead.\n",
      "  warnings.warn(\n"
     ]
    },
    {
     "name": "stdout",
     "output_type": "stream",
     "text": [
      "\n",
      "\n",
      "Tested 47/50 iterations.\n",
      "Best MAE - Validation Dataset\n",
      "  MAE: 6.4 | sMAPE: 20.80 %\n",
      "\n",
      "Best MAE - Test Dataset\n",
      "  MAE: 6.1 | sMAPE: 8.96 %\n"
     ]
    },
    {
     "name": "stderr",
     "output_type": "stream",
     "text": [
      "C:\\Users\\35250\\AppData\\Roaming\\Python\\Python38\\site-packages\\tensorflow\\python\\keras\\optimizer_v2\\optimizer_v2.py:374: UserWarning: The `lr` argument is deprecated, use `learning_rate` instead.\n",
      "  warnings.warn(\n"
     ]
    },
    {
     "name": "stdout",
     "output_type": "stream",
     "text": [
      "\n",
      "\n",
      "Tested 48/50 iterations.\n",
      "Best MAE - Validation Dataset\n",
      "  MAE: 6.4 | sMAPE: 20.80 %\n",
      "\n",
      "Best MAE - Test Dataset\n",
      "  MAE: 6.1 | sMAPE: 8.96 %\n"
     ]
    },
    {
     "name": "stderr",
     "output_type": "stream",
     "text": [
      "C:\\Users\\35250\\AppData\\Roaming\\Python\\Python38\\site-packages\\tensorflow\\python\\keras\\optimizer_v2\\optimizer_v2.py:374: UserWarning: The `lr` argument is deprecated, use `learning_rate` instead.\n",
      "  warnings.warn(\n"
     ]
    },
    {
     "name": "stdout",
     "output_type": "stream",
     "text": [
      "\n",
      "\n",
      "Tested 49/50 iterations.\n",
      "Best MAE - Validation Dataset\n",
      "  MAE: 6.4 | sMAPE: 20.80 %\n",
      "\n",
      "Best MAE - Test Dataset\n",
      "  MAE: 6.1 | sMAPE: 8.96 %\n"
     ]
    },
    {
     "name": "stderr",
     "output_type": "stream",
     "text": [
      "C:\\Users\\35250\\AppData\\Roaming\\Python\\Python38\\site-packages\\tensorflow\\python\\keras\\optimizer_v2\\optimizer_v2.py:374: UserWarning: The `lr` argument is deprecated, use `learning_rate` instead.\n",
      "  warnings.warn(\n"
     ]
    }
   ],
   "source": [
    "# Number of layers in DNN\n",
    "nlayers = 2\n",
    "\n",
    "# data to study\n",
    "dataset = 'auctionData_final'\n",
    "\n",
    "# 1 year is considered as 364 days (52 weeks)\n",
    "# years_test = 1\n",
    "\n",
    "# Optional parameters for selecting the test dataset\n",
    "begin_test_date = '2021-04-19'\n",
    "end_test_date = '2021-04-30'\n",
    "\n",
    "# Boolean that selects whether the validation and training datasets are shuffled\n",
    "shuffle_train = 1\n",
    "\n",
    "# Boolean that selects whether a data augmentation technique for DNNs is used\n",
    "data_augmentation = 0\n",
    "\n",
    "# Boolean that selects whether we start a new hyperparameter optimization or we restart an existing one\n",
    "new_hyperopt = 1\n",
    "\n",
    "# Number of years used in the training dataset for recalibration\n",
    "calibration_window = 1\n",
    "\n",
    "# Unique identifier to read the trials file of hyperparameter optimization\n",
    "experiment_id = 3\n",
    "\n",
    "# Number of iterations for hyperparameter optimization\n",
    "max_evals = 50\n",
    "\n",
    "# path_datasets_folder = \"./datasets/\"\n",
    "# path_hyperparameters_folder = \"./experimental_files/\"\n",
    "\n",
    "hyperparameter_optimizer(path_datasets_folder = 'final datasets',\n",
    "                         path_hyperparameters_folder = 'hyperparameter_dnn/auc_April',\n",
    "                         new_hyperopt = new_hyperopt,\n",
    "                         max_evals = max_evals,\n",
    "                         nlayers = nlayers,\n",
    "                         dataset = dataset, \n",
    "                         #years_test = years_test,\n",
    "                         calibration_window = calibration_window, \n",
    "                         shuffle_train = shuffle_train,\n",
    "                         data_augmentation = data_augmentation,\n",
    "                         experiment_id = experiment_id,\n",
    "                         begin_test_date = begin_test_date,\n",
    "                         end_test_date = end_test_date)"
   ]
  },
  {
   "cell_type": "code",
   "execution_count": 5,
   "id": "7b1e9eea",
   "metadata": {},
   "outputs": [
    {
     "name": "stdout",
     "output_type": "stream",
     "text": [
      "Test datasets: 2020-10-19 00:00:00 - 2021-01-17 23:00:00\n"
     ]
    },
    {
     "name": "stderr",
     "output_type": "stream",
     "text": [
      "C:\\Users\\35250\\AppData\\Roaming\\Python\\Python38\\site-packages\\tensorflow\\python\\keras\\optimizer_v2\\optimizer_v2.py:374: UserWarning: The `lr` argument is deprecated, use `learning_rate` instead.\n",
      "  warnings.warn(\n"
     ]
    },
    {
     "name": "stdout",
     "output_type": "stream",
     "text": [
      "\n",
      "\n",
      "Tested 1/50 iterations.\n",
      "Best MAE - Validation Dataset\n",
      "  MAE: 9.3 | sMAPE: 29.17 %\n",
      "\n",
      "Best MAE - Test Dataset\n",
      "  MAE: 26.1 | sMAPE: 46.48 %\n"
     ]
    },
    {
     "name": "stderr",
     "output_type": "stream",
     "text": [
      "C:\\Users\\35250\\AppData\\Roaming\\Python\\Python38\\site-packages\\tensorflow\\python\\keras\\optimizer_v2\\optimizer_v2.py:374: UserWarning: The `lr` argument is deprecated, use `learning_rate` instead.\n",
      "  warnings.warn(\n"
     ]
    },
    {
     "name": "stdout",
     "output_type": "stream",
     "text": [
      "\n",
      "\n",
      "Tested 2/50 iterations.\n",
      "Best MAE - Validation Dataset\n",
      "  MAE: 9.3 | sMAPE: 29.17 %\n",
      "\n",
      "Best MAE - Test Dataset\n",
      "  MAE: 26.1 | sMAPE: 46.48 %\n"
     ]
    },
    {
     "name": "stderr",
     "output_type": "stream",
     "text": [
      "C:\\Users\\35250\\AppData\\Roaming\\Python\\Python38\\site-packages\\tensorflow\\python\\keras\\optimizer_v2\\optimizer_v2.py:374: UserWarning: The `lr` argument is deprecated, use `learning_rate` instead.\n",
      "  warnings.warn(\n"
     ]
    },
    {
     "name": "stdout",
     "output_type": "stream",
     "text": [
      "\n",
      "\n",
      "Tested 3/50 iterations.\n",
      "Best MAE - Validation Dataset\n",
      "  MAE: 9.0 | sMAPE: 28.37 %\n",
      "\n",
      "Best MAE - Test Dataset\n",
      "  MAE: 25.6 | sMAPE: 45.20 %\n"
     ]
    },
    {
     "name": "stderr",
     "output_type": "stream",
     "text": [
      "C:\\Users\\35250\\AppData\\Roaming\\Python\\Python38\\site-packages\\tensorflow\\python\\keras\\optimizer_v2\\optimizer_v2.py:374: UserWarning: The `lr` argument is deprecated, use `learning_rate` instead.\n",
      "  warnings.warn(\n"
     ]
    },
    {
     "name": "stdout",
     "output_type": "stream",
     "text": [
      "\n",
      "\n",
      "Tested 4/50 iterations.\n",
      "Best MAE - Validation Dataset\n",
      "  MAE: 4.8 | sMAPE: 17.39 %\n",
      "\n",
      "Best MAE - Test Dataset\n",
      "  MAE: 16.3 | sMAPE: 23.56 %\n"
     ]
    },
    {
     "name": "stderr",
     "output_type": "stream",
     "text": [
      "C:\\Users\\35250\\AppData\\Roaming\\Python\\Python38\\site-packages\\tensorflow\\python\\keras\\optimizer_v2\\optimizer_v2.py:374: UserWarning: The `lr` argument is deprecated, use `learning_rate` instead.\n",
      "  warnings.warn(\n"
     ]
    },
    {
     "name": "stdout",
     "output_type": "stream",
     "text": [
      "\n",
      "\n",
      "Tested 5/50 iterations.\n",
      "Best MAE - Validation Dataset\n",
      "  MAE: 4.8 | sMAPE: 17.39 %\n",
      "\n",
      "Best MAE - Test Dataset\n",
      "  MAE: 16.3 | sMAPE: 23.56 %\n",
      "\n",
      "\n",
      "Tested 6/50 iterations.\n",
      "Best MAE - Validation Dataset\n",
      "  MAE: 4.8 | sMAPE: 17.39 %\n",
      "\n",
      "Best MAE - Test Dataset\n",
      "  MAE: 16.3 | sMAPE: 23.56 %\n",
      "\n",
      "\n",
      "Tested 7/50 iterations.\n",
      "Best MAE - Validation Dataset\n",
      "  MAE: 4.8 | sMAPE: 17.39 %\n",
      "\n",
      "Best MAE - Test Dataset\n",
      "  MAE: 16.3 | sMAPE: 23.56 %\n"
     ]
    },
    {
     "name": "stderr",
     "output_type": "stream",
     "text": [
      "C:\\Users\\35250\\AppData\\Roaming\\Python\\Python38\\site-packages\\tensorflow\\python\\keras\\optimizer_v2\\optimizer_v2.py:374: UserWarning: The `lr` argument is deprecated, use `learning_rate` instead.\n",
      "  warnings.warn(\n"
     ]
    },
    {
     "name": "stdout",
     "output_type": "stream",
     "text": [
      "\n",
      "\n",
      "Tested 8/50 iterations.\n",
      "Best MAE - Validation Dataset\n",
      "  MAE: 4.8 | sMAPE: 17.39 %\n",
      "\n",
      "Best MAE - Test Dataset\n",
      "  MAE: 16.3 | sMAPE: 23.56 %\n"
     ]
    },
    {
     "name": "stderr",
     "output_type": "stream",
     "text": [
      "C:\\Users\\35250\\AppData\\Roaming\\Python\\Python38\\site-packages\\tensorflow\\python\\keras\\optimizer_v2\\optimizer_v2.py:374: UserWarning: The `lr` argument is deprecated, use `learning_rate` instead.\n",
      "  warnings.warn(\n"
     ]
    },
    {
     "name": "stdout",
     "output_type": "stream",
     "text": [
      "\n",
      "\n",
      "Tested 9/50 iterations.\n",
      "Best MAE - Validation Dataset\n",
      "  MAE: 4.8 | sMAPE: 17.39 %\n",
      "\n",
      "Best MAE - Test Dataset\n",
      "  MAE: 16.3 | sMAPE: 23.56 %\n",
      "\n",
      "\n",
      "Tested 10/50 iterations.\n",
      "Best MAE - Validation Dataset\n",
      "  MAE: 4.8 | sMAPE: 17.39 %\n",
      "\n",
      "Best MAE - Test Dataset\n",
      "  MAE: 16.3 | sMAPE: 23.56 %\n"
     ]
    },
    {
     "name": "stderr",
     "output_type": "stream",
     "text": [
      "C:\\Users\\35250\\AppData\\Roaming\\Python\\Python38\\site-packages\\tensorflow\\python\\keras\\optimizer_v2\\optimizer_v2.py:374: UserWarning: The `lr` argument is deprecated, use `learning_rate` instead.\n",
      "  warnings.warn(\n"
     ]
    },
    {
     "name": "stdout",
     "output_type": "stream",
     "text": [
      "\n",
      "\n",
      "Tested 11/50 iterations.\n",
      "Best MAE - Validation Dataset\n",
      "  MAE: 4.8 | sMAPE: 17.39 %\n",
      "\n",
      "Best MAE - Test Dataset\n",
      "  MAE: 16.3 | sMAPE: 23.56 %\n"
     ]
    },
    {
     "name": "stderr",
     "output_type": "stream",
     "text": [
      "C:\\Users\\35250\\AppData\\Roaming\\Python\\Python38\\site-packages\\tensorflow\\python\\keras\\optimizer_v2\\optimizer_v2.py:374: UserWarning: The `lr` argument is deprecated, use `learning_rate` instead.\n",
      "  warnings.warn(\n"
     ]
    },
    {
     "name": "stdout",
     "output_type": "stream",
     "text": [
      "\n",
      "\n",
      "Tested 12/50 iterations.\n",
      "Best MAE - Validation Dataset\n",
      "  MAE: 4.8 | sMAPE: 17.39 %\n",
      "\n",
      "Best MAE - Test Dataset\n",
      "  MAE: 16.3 | sMAPE: 23.56 %\n"
     ]
    },
    {
     "name": "stderr",
     "output_type": "stream",
     "text": [
      "C:\\Users\\35250\\AppData\\Roaming\\Python\\Python38\\site-packages\\tensorflow\\python\\keras\\optimizer_v2\\optimizer_v2.py:374: UserWarning: The `lr` argument is deprecated, use `learning_rate` instead.\n",
      "  warnings.warn(\n"
     ]
    },
    {
     "name": "stdout",
     "output_type": "stream",
     "text": [
      "\n",
      "\n",
      "Tested 13/50 iterations.\n",
      "Best MAE - Validation Dataset\n",
      "  MAE: 4.8 | sMAPE: 17.39 %\n",
      "\n",
      "Best MAE - Test Dataset\n",
      "  MAE: 16.3 | sMAPE: 23.56 %\n"
     ]
    },
    {
     "name": "stderr",
     "output_type": "stream",
     "text": [
      "C:\\Users\\35250\\AppData\\Roaming\\Python\\Python38\\site-packages\\tensorflow\\python\\keras\\optimizer_v2\\optimizer_v2.py:374: UserWarning: The `lr` argument is deprecated, use `learning_rate` instead.\n",
      "  warnings.warn(\n"
     ]
    },
    {
     "name": "stdout",
     "output_type": "stream",
     "text": [
      "\n",
      "\n",
      "Tested 14/50 iterations.\n",
      "Best MAE - Validation Dataset\n",
      "  MAE: 4.8 | sMAPE: 17.39 %\n",
      "\n",
      "Best MAE - Test Dataset\n",
      "  MAE: 16.3 | sMAPE: 23.56 %\n"
     ]
    },
    {
     "name": "stderr",
     "output_type": "stream",
     "text": [
      "C:\\Users\\35250\\AppData\\Roaming\\Python\\Python38\\site-packages\\tensorflow\\python\\keras\\optimizer_v2\\optimizer_v2.py:374: UserWarning: The `lr` argument is deprecated, use `learning_rate` instead.\n",
      "  warnings.warn(\n"
     ]
    },
    {
     "name": "stdout",
     "output_type": "stream",
     "text": [
      "\n",
      "\n",
      "Tested 15/50 iterations.\n",
      "Best MAE - Validation Dataset\n",
      "  MAE: 4.8 | sMAPE: 17.39 %\n",
      "\n",
      "Best MAE - Test Dataset\n",
      "  MAE: 16.3 | sMAPE: 23.56 %\n"
     ]
    },
    {
     "name": "stderr",
     "output_type": "stream",
     "text": [
      "C:\\Users\\35250\\AppData\\Roaming\\Python\\Python38\\site-packages\\tensorflow\\python\\keras\\optimizer_v2\\optimizer_v2.py:374: UserWarning: The `lr` argument is deprecated, use `learning_rate` instead.\n",
      "  warnings.warn(\n"
     ]
    },
    {
     "name": "stdout",
     "output_type": "stream",
     "text": [
      "\n",
      "\n",
      "Tested 16/50 iterations.\n",
      "Best MAE - Validation Dataset\n",
      "  MAE: 4.8 | sMAPE: 17.39 %\n",
      "\n",
      "Best MAE - Test Dataset\n",
      "  MAE: 16.3 | sMAPE: 23.56 %\n"
     ]
    },
    {
     "name": "stderr",
     "output_type": "stream",
     "text": [
      "C:\\Users\\35250\\AppData\\Roaming\\Python\\Python38\\site-packages\\tensorflow\\python\\keras\\optimizer_v2\\optimizer_v2.py:374: UserWarning: The `lr` argument is deprecated, use `learning_rate` instead.\n",
      "  warnings.warn(\n"
     ]
    },
    {
     "name": "stdout",
     "output_type": "stream",
     "text": [
      "\n",
      "\n",
      "Tested 17/50 iterations.\n",
      "Best MAE - Validation Dataset\n",
      "  MAE: 4.8 | sMAPE: 17.39 %\n",
      "\n",
      "Best MAE - Test Dataset\n",
      "  MAE: 16.3 | sMAPE: 23.56 %\n"
     ]
    },
    {
     "name": "stderr",
     "output_type": "stream",
     "text": [
      "C:\\Users\\35250\\AppData\\Roaming\\Python\\Python38\\site-packages\\tensorflow\\python\\keras\\optimizer_v2\\optimizer_v2.py:374: UserWarning: The `lr` argument is deprecated, use `learning_rate` instead.\n",
      "  warnings.warn(\n"
     ]
    },
    {
     "name": "stdout",
     "output_type": "stream",
     "text": [
      "\n",
      "\n",
      "Tested 18/50 iterations.\n",
      "Best MAE - Validation Dataset\n",
      "  MAE: 4.8 | sMAPE: 17.39 %\n",
      "\n",
      "Best MAE - Test Dataset\n",
      "  MAE: 16.3 | sMAPE: 23.56 %\n"
     ]
    },
    {
     "name": "stderr",
     "output_type": "stream",
     "text": [
      "C:\\Users\\35250\\AppData\\Roaming\\Python\\Python38\\site-packages\\tensorflow\\python\\keras\\optimizer_v2\\optimizer_v2.py:374: UserWarning: The `lr` argument is deprecated, use `learning_rate` instead.\n",
      "  warnings.warn(\n"
     ]
    },
    {
     "name": "stdout",
     "output_type": "stream",
     "text": [
      "\n",
      "\n",
      "Tested 19/50 iterations.\n",
      "Best MAE - Validation Dataset\n",
      "  MAE: 4.8 | sMAPE: 17.39 %\n",
      "\n",
      "Best MAE - Test Dataset\n",
      "  MAE: 16.3 | sMAPE: 23.56 %\n"
     ]
    },
    {
     "name": "stderr",
     "output_type": "stream",
     "text": [
      "C:\\Users\\35250\\AppData\\Roaming\\Python\\Python38\\site-packages\\tensorflow\\python\\keras\\optimizer_v2\\optimizer_v2.py:374: UserWarning: The `lr` argument is deprecated, use `learning_rate` instead.\n",
      "  warnings.warn(\n"
     ]
    },
    {
     "name": "stdout",
     "output_type": "stream",
     "text": [
      "\n",
      "\n",
      "Tested 20/50 iterations.\n",
      "Best MAE - Validation Dataset\n",
      "  MAE: 4.8 | sMAPE: 17.39 %\n",
      "\n",
      "Best MAE - Test Dataset\n",
      "  MAE: 16.3 | sMAPE: 23.56 %\n"
     ]
    },
    {
     "name": "stderr",
     "output_type": "stream",
     "text": [
      "C:\\Users\\35250\\AppData\\Roaming\\Python\\Python38\\site-packages\\tensorflow\\python\\keras\\optimizer_v2\\optimizer_v2.py:374: UserWarning: The `lr` argument is deprecated, use `learning_rate` instead.\n",
      "  warnings.warn(\n"
     ]
    },
    {
     "name": "stdout",
     "output_type": "stream",
     "text": [
      "\n",
      "\n",
      "Tested 21/50 iterations.\n",
      "Best MAE - Validation Dataset\n",
      "  MAE: 4.5 | sMAPE: 16.51 %\n",
      "\n",
      "Best MAE - Test Dataset\n",
      "  MAE: 34.6 | sMAPE: 24.63 %\n"
     ]
    },
    {
     "name": "stderr",
     "output_type": "stream",
     "text": [
      "C:\\Users\\35250\\AppData\\Roaming\\Python\\Python38\\site-packages\\tensorflow\\python\\keras\\optimizer_v2\\optimizer_v2.py:374: UserWarning: The `lr` argument is deprecated, use `learning_rate` instead.\n",
      "  warnings.warn(\n"
     ]
    },
    {
     "name": "stdout",
     "output_type": "stream",
     "text": [
      "\n",
      "\n",
      "Tested 22/50 iterations.\n",
      "Best MAE - Validation Dataset\n",
      "  MAE: 4.5 | sMAPE: 16.51 %\n",
      "\n",
      "Best MAE - Test Dataset\n",
      "  MAE: 34.6 | sMAPE: 24.63 %\n"
     ]
    },
    {
     "name": "stderr",
     "output_type": "stream",
     "text": [
      "C:\\Users\\35250\\AppData\\Roaming\\Python\\Python38\\site-packages\\tensorflow\\python\\keras\\optimizer_v2\\optimizer_v2.py:374: UserWarning: The `lr` argument is deprecated, use `learning_rate` instead.\n",
      "  warnings.warn(\n"
     ]
    },
    {
     "name": "stdout",
     "output_type": "stream",
     "text": [
      "\n",
      "\n",
      "Tested 23/50 iterations.\n",
      "Best MAE - Validation Dataset\n",
      "  MAE: 4.5 | sMAPE: 16.51 %\n",
      "\n",
      "Best MAE - Test Dataset\n",
      "  MAE: 34.6 | sMAPE: 24.63 %\n"
     ]
    },
    {
     "name": "stderr",
     "output_type": "stream",
     "text": [
      "C:\\Users\\35250\\AppData\\Roaming\\Python\\Python38\\site-packages\\tensorflow\\python\\keras\\optimizer_v2\\optimizer_v2.py:374: UserWarning: The `lr` argument is deprecated, use `learning_rate` instead.\n",
      "  warnings.warn(\n"
     ]
    },
    {
     "name": "stdout",
     "output_type": "stream",
     "text": [
      "\n",
      "\n",
      "Tested 24/50 iterations.\n",
      "Best MAE - Validation Dataset\n",
      "  MAE: 4.5 | sMAPE: 16.51 %\n",
      "\n",
      "Best MAE - Test Dataset\n",
      "  MAE: 34.6 | sMAPE: 24.63 %\n"
     ]
    },
    {
     "name": "stderr",
     "output_type": "stream",
     "text": [
      "C:\\Users\\35250\\AppData\\Roaming\\Python\\Python38\\site-packages\\tensorflow\\python\\keras\\optimizer_v2\\optimizer_v2.py:374: UserWarning: The `lr` argument is deprecated, use `learning_rate` instead.\n",
      "  warnings.warn(\n"
     ]
    },
    {
     "name": "stdout",
     "output_type": "stream",
     "text": [
      "\n",
      "\n",
      "Tested 25/50 iterations.\n",
      "Best MAE - Validation Dataset\n",
      "  MAE: 4.5 | sMAPE: 16.51 %\n",
      "\n",
      "Best MAE - Test Dataset\n",
      "  MAE: 34.6 | sMAPE: 24.63 %\n"
     ]
    },
    {
     "name": "stderr",
     "output_type": "stream",
     "text": [
      "C:\\Users\\35250\\AppData\\Roaming\\Python\\Python38\\site-packages\\tensorflow\\python\\keras\\optimizer_v2\\optimizer_v2.py:374: UserWarning: The `lr` argument is deprecated, use `learning_rate` instead.\n",
      "  warnings.warn(\n"
     ]
    },
    {
     "name": "stdout",
     "output_type": "stream",
     "text": [
      "\n",
      "\n",
      "Tested 26/50 iterations.\n",
      "Best MAE - Validation Dataset\n",
      "  MAE: 4.5 | sMAPE: 16.51 %\n",
      "\n",
      "Best MAE - Test Dataset\n",
      "  MAE: 34.6 | sMAPE: 24.63 %\n"
     ]
    },
    {
     "name": "stderr",
     "output_type": "stream",
     "text": [
      "C:\\Users\\35250\\AppData\\Roaming\\Python\\Python38\\site-packages\\tensorflow\\python\\keras\\optimizer_v2\\optimizer_v2.py:374: UserWarning: The `lr` argument is deprecated, use `learning_rate` instead.\n",
      "  warnings.warn(\n"
     ]
    },
    {
     "name": "stdout",
     "output_type": "stream",
     "text": [
      "\n",
      "\n",
      "Tested 27/50 iterations.\n",
      "Best MAE - Validation Dataset\n",
      "  MAE: 4.5 | sMAPE: 16.51 %\n",
      "\n",
      "Best MAE - Test Dataset\n",
      "  MAE: 34.6 | sMAPE: 24.63 %\n"
     ]
    },
    {
     "name": "stderr",
     "output_type": "stream",
     "text": [
      "C:\\Users\\35250\\AppData\\Roaming\\Python\\Python38\\site-packages\\tensorflow\\python\\keras\\optimizer_v2\\optimizer_v2.py:374: UserWarning: The `lr` argument is deprecated, use `learning_rate` instead.\n",
      "  warnings.warn(\n"
     ]
    },
    {
     "name": "stdout",
     "output_type": "stream",
     "text": [
      "\n",
      "\n",
      "Tested 28/50 iterations.\n",
      "Best MAE - Validation Dataset\n",
      "  MAE: 4.5 | sMAPE: 16.51 %\n",
      "\n",
      "Best MAE - Test Dataset\n",
      "  MAE: 34.6 | sMAPE: 24.63 %\n"
     ]
    },
    {
     "name": "stderr",
     "output_type": "stream",
     "text": [
      "C:\\Users\\35250\\AppData\\Roaming\\Python\\Python38\\site-packages\\tensorflow\\python\\keras\\optimizer_v2\\optimizer_v2.py:374: UserWarning: The `lr` argument is deprecated, use `learning_rate` instead.\n",
      "  warnings.warn(\n"
     ]
    },
    {
     "name": "stdout",
     "output_type": "stream",
     "text": [
      "\n",
      "\n",
      "Tested 29/50 iterations.\n",
      "Best MAE - Validation Dataset\n",
      "  MAE: 4.5 | sMAPE: 16.51 %\n",
      "\n",
      "Best MAE - Test Dataset\n",
      "  MAE: 34.6 | sMAPE: 24.63 %\n"
     ]
    },
    {
     "name": "stderr",
     "output_type": "stream",
     "text": [
      "C:\\Users\\35250\\AppData\\Roaming\\Python\\Python38\\site-packages\\tensorflow\\python\\keras\\optimizer_v2\\optimizer_v2.py:374: UserWarning: The `lr` argument is deprecated, use `learning_rate` instead.\n",
      "  warnings.warn(\n"
     ]
    },
    {
     "name": "stdout",
     "output_type": "stream",
     "text": [
      "\n",
      "\n",
      "Tested 30/50 iterations.\n",
      "Best MAE - Validation Dataset\n",
      "  MAE: 4.2 | sMAPE: 16.22 %\n",
      "\n",
      "Best MAE - Test Dataset\n",
      "  MAE: 13.1 | sMAPE: 18.34 %\n"
     ]
    },
    {
     "name": "stderr",
     "output_type": "stream",
     "text": [
      "C:\\Users\\35250\\AppData\\Roaming\\Python\\Python38\\site-packages\\tensorflow\\python\\keras\\optimizer_v2\\optimizer_v2.py:374: UserWarning: The `lr` argument is deprecated, use `learning_rate` instead.\n",
      "  warnings.warn(\n"
     ]
    },
    {
     "name": "stdout",
     "output_type": "stream",
     "text": [
      "\n",
      "\n",
      "Tested 31/50 iterations.\n",
      "Best MAE - Validation Dataset\n",
      "  MAE: 4.2 | sMAPE: 16.22 %\n",
      "\n",
      "Best MAE - Test Dataset\n",
      "  MAE: 13.1 | sMAPE: 18.34 %\n"
     ]
    },
    {
     "name": "stderr",
     "output_type": "stream",
     "text": [
      "C:\\Users\\35250\\AppData\\Roaming\\Python\\Python38\\site-packages\\tensorflow\\python\\keras\\optimizer_v2\\optimizer_v2.py:374: UserWarning: The `lr` argument is deprecated, use `learning_rate` instead.\n",
      "  warnings.warn(\n"
     ]
    },
    {
     "name": "stdout",
     "output_type": "stream",
     "text": [
      "\n",
      "\n",
      "Tested 32/50 iterations.\n",
      "Best MAE - Validation Dataset\n",
      "  MAE: 4.2 | sMAPE: 16.22 %\n",
      "\n",
      "Best MAE - Test Dataset\n",
      "  MAE: 13.1 | sMAPE: 18.34 %\n"
     ]
    },
    {
     "name": "stderr",
     "output_type": "stream",
     "text": [
      "C:\\Users\\35250\\AppData\\Roaming\\Python\\Python38\\site-packages\\tensorflow\\python\\keras\\optimizer_v2\\optimizer_v2.py:374: UserWarning: The `lr` argument is deprecated, use `learning_rate` instead.\n",
      "  warnings.warn(\n"
     ]
    },
    {
     "name": "stdout",
     "output_type": "stream",
     "text": [
      "\n",
      "\n",
      "Tested 33/50 iterations.\n",
      "Best MAE - Validation Dataset\n",
      "  MAE: 4.2 | sMAPE: 16.22 %\n",
      "\n",
      "Best MAE - Test Dataset\n",
      "  MAE: 13.1 | sMAPE: 18.34 %\n"
     ]
    },
    {
     "name": "stderr",
     "output_type": "stream",
     "text": [
      "C:\\Users\\35250\\AppData\\Roaming\\Python\\Python38\\site-packages\\tensorflow\\python\\keras\\optimizer_v2\\optimizer_v2.py:374: UserWarning: The `lr` argument is deprecated, use `learning_rate` instead.\n",
      "  warnings.warn(\n"
     ]
    },
    {
     "name": "stdout",
     "output_type": "stream",
     "text": [
      "\n",
      "\n",
      "Tested 34/50 iterations.\n",
      "Best MAE - Validation Dataset\n",
      "  MAE: 4.2 | sMAPE: 16.22 %\n",
      "\n",
      "Best MAE - Test Dataset\n",
      "  MAE: 13.1 | sMAPE: 18.34 %\n"
     ]
    },
    {
     "name": "stderr",
     "output_type": "stream",
     "text": [
      "C:\\Users\\35250\\AppData\\Roaming\\Python\\Python38\\site-packages\\tensorflow\\python\\keras\\optimizer_v2\\optimizer_v2.py:374: UserWarning: The `lr` argument is deprecated, use `learning_rate` instead.\n",
      "  warnings.warn(\n"
     ]
    },
    {
     "name": "stdout",
     "output_type": "stream",
     "text": [
      "\n",
      "\n",
      "Tested 35/50 iterations.\n",
      "Best MAE - Validation Dataset\n",
      "  MAE: 4.2 | sMAPE: 16.22 %\n",
      "\n",
      "Best MAE - Test Dataset\n",
      "  MAE: 13.1 | sMAPE: 18.34 %\n",
      "\n",
      "\n",
      "Tested 36/50 iterations.\n",
      "Best MAE - Validation Dataset\n",
      "  MAE: 4.2 | sMAPE: 16.22 %\n",
      "\n",
      "Best MAE - Test Dataset\n",
      "  MAE: 13.1 | sMAPE: 18.34 %\n",
      "\n",
      "\n",
      "Tested 37/50 iterations.\n",
      "Best MAE - Validation Dataset\n",
      "  MAE: 4.2 | sMAPE: 16.00 %\n",
      "\n",
      "Best MAE - Test Dataset\n",
      "  MAE: 15.4 | sMAPE: 21.87 %\n",
      "\n",
      "\n",
      "Tested 38/50 iterations.\n",
      "Best MAE - Validation Dataset\n",
      "  MAE: 4.2 | sMAPE: 16.00 %\n",
      "\n",
      "Best MAE - Test Dataset\n",
      "  MAE: 15.4 | sMAPE: 21.87 %\n",
      "\n",
      "\n",
      "Tested 39/50 iterations.\n",
      "Best MAE - Validation Dataset\n",
      "  MAE: 4.2 | sMAPE: 16.00 %\n",
      "\n",
      "Best MAE - Test Dataset\n",
      "  MAE: 15.4 | sMAPE: 21.87 %\n",
      "\n",
      "\n",
      "Tested 40/50 iterations.\n",
      "Best MAE - Validation Dataset\n",
      "  MAE: 4.2 | sMAPE: 16.00 %\n",
      "\n",
      "Best MAE - Test Dataset\n",
      "  MAE: 15.4 | sMAPE: 21.87 %\n",
      "\n",
      "\n",
      "Tested 41/50 iterations.\n",
      "Best MAE - Validation Dataset\n",
      "  MAE: 4.2 | sMAPE: 16.00 %\n",
      "\n",
      "Best MAE - Test Dataset\n",
      "  MAE: 15.4 | sMAPE: 21.87 %\n",
      "\n",
      "\n",
      "Tested 42/50 iterations.\n",
      "Best MAE - Validation Dataset\n",
      "  MAE: 4.2 | sMAPE: 16.00 %\n",
      "\n",
      "Best MAE - Test Dataset\n",
      "  MAE: 15.4 | sMAPE: 21.87 %\n",
      "\n",
      "\n",
      "Tested 43/50 iterations.\n",
      "Best MAE - Validation Dataset\n",
      "  MAE: 4.2 | sMAPE: 16.00 %\n",
      "\n",
      "Best MAE - Test Dataset\n",
      "  MAE: 15.4 | sMAPE: 21.87 %\n"
     ]
    },
    {
     "name": "stderr",
     "output_type": "stream",
     "text": [
      "C:\\Users\\35250\\AppData\\Roaming\\Python\\Python38\\site-packages\\tensorflow\\python\\keras\\optimizer_v2\\optimizer_v2.py:374: UserWarning: The `lr` argument is deprecated, use `learning_rate` instead.\n",
      "  warnings.warn(\n"
     ]
    },
    {
     "name": "stdout",
     "output_type": "stream",
     "text": [
      "\n",
      "\n",
      "Tested 44/50 iterations.\n",
      "Best MAE - Validation Dataset\n",
      "  MAE: 4.2 | sMAPE: 16.00 %\n",
      "\n",
      "Best MAE - Test Dataset\n",
      "  MAE: 15.4 | sMAPE: 21.87 %\n"
     ]
    },
    {
     "name": "stderr",
     "output_type": "stream",
     "text": [
      "C:\\Users\\35250\\AppData\\Roaming\\Python\\Python38\\site-packages\\tensorflow\\python\\keras\\optimizer_v2\\optimizer_v2.py:374: UserWarning: The `lr` argument is deprecated, use `learning_rate` instead.\n",
      "  warnings.warn(\n"
     ]
    },
    {
     "name": "stdout",
     "output_type": "stream",
     "text": [
      "\n",
      "\n",
      "Tested 45/50 iterations.\n",
      "Best MAE - Validation Dataset\n",
      "  MAE: 4.2 | sMAPE: 16.00 %\n",
      "\n",
      "Best MAE - Test Dataset\n",
      "  MAE: 15.4 | sMAPE: 21.87 %\n"
     ]
    },
    {
     "name": "stderr",
     "output_type": "stream",
     "text": [
      "C:\\Users\\35250\\AppData\\Roaming\\Python\\Python38\\site-packages\\tensorflow\\python\\keras\\optimizer_v2\\optimizer_v2.py:374: UserWarning: The `lr` argument is deprecated, use `learning_rate` instead.\n",
      "  warnings.warn(\n"
     ]
    },
    {
     "name": "stdout",
     "output_type": "stream",
     "text": [
      "\n",
      "\n",
      "Tested 46/50 iterations.\n",
      "Best MAE - Validation Dataset\n",
      "  MAE: 4.2 | sMAPE: 15.50 %\n",
      "\n",
      "Best MAE - Test Dataset\n",
      "  MAE: 15.9 | sMAPE: 22.50 %\n",
      "\n",
      "\n",
      "Tested 47/50 iterations.\n",
      "Best MAE - Validation Dataset\n",
      "  MAE: 4.2 | sMAPE: 15.50 %\n",
      "\n",
      "Best MAE - Test Dataset\n",
      "  MAE: 15.9 | sMAPE: 22.50 %\n"
     ]
    },
    {
     "name": "stderr",
     "output_type": "stream",
     "text": [
      "C:\\Users\\35250\\AppData\\Roaming\\Python\\Python38\\site-packages\\tensorflow\\python\\keras\\optimizer_v2\\optimizer_v2.py:374: UserWarning: The `lr` argument is deprecated, use `learning_rate` instead.\n",
      "  warnings.warn(\n"
     ]
    },
    {
     "name": "stdout",
     "output_type": "stream",
     "text": [
      "\n",
      "\n",
      "Tested 48/50 iterations.\n",
      "Best MAE - Validation Dataset\n",
      "  MAE: 4.2 | sMAPE: 15.50 %\n",
      "\n",
      "Best MAE - Test Dataset\n",
      "  MAE: 15.9 | sMAPE: 22.50 %\n"
     ]
    },
    {
     "name": "stderr",
     "output_type": "stream",
     "text": [
      "C:\\Users\\35250\\AppData\\Roaming\\Python\\Python38\\site-packages\\tensorflow\\python\\keras\\optimizer_v2\\optimizer_v2.py:374: UserWarning: The `lr` argument is deprecated, use `learning_rate` instead.\n",
      "  warnings.warn(\n"
     ]
    },
    {
     "name": "stdout",
     "output_type": "stream",
     "text": [
      "\n",
      "\n",
      "Tested 49/50 iterations.\n",
      "Best MAE - Validation Dataset\n",
      "  MAE: 4.2 | sMAPE: 15.50 %\n",
      "\n",
      "Best MAE - Test Dataset\n",
      "  MAE: 15.9 | sMAPE: 22.50 %\n"
     ]
    },
    {
     "name": "stderr",
     "output_type": "stream",
     "text": [
      "C:\\Users\\35250\\AppData\\Roaming\\Python\\Python38\\site-packages\\tensorflow\\python\\keras\\optimizer_v2\\optimizer_v2.py:374: UserWarning: The `lr` argument is deprecated, use `learning_rate` instead.\n",
      "  warnings.warn(\n"
     ]
    }
   ],
   "source": [
    "# Number of layers in DNN\n",
    "nlayers = 2\n",
    "\n",
    "# data to study\n",
    "dataset = 'auctionData_final'\n",
    "\n",
    "# 1 year is considered as 364 days (52 weeks)\n",
    "# years_test = 1\n",
    "\n",
    "# Optional parameters for selecting the test dataset\n",
    "begin_test_date = '2020-10-19'\n",
    "end_test_date = '2021-01-17'\n",
    "\n",
    "# Boolean that selects whether the validation and training datasets are shuffled\n",
    "shuffle_train = 1\n",
    "\n",
    "# Boolean that selects whether a data augmentation technique for DNNs is used\n",
    "data_augmentation = 0\n",
    "\n",
    "# Boolean that selects whether we start a new hyperparameter optimization or we restart an existing one\n",
    "new_hyperopt = 1\n",
    "\n",
    "# Number of years used in the training dataset for recalibration\n",
    "calibration_window = 1\n",
    "\n",
    "# Unique identifier to read the trials file of hyperparameter optimization\n",
    "experiment_id = 3\n",
    "\n",
    "# Number of iterations for hyperparameter optimization\n",
    "max_evals = 50\n",
    "\n",
    "# path_datasets_folder = \"./datasets/\"\n",
    "# path_hyperparameters_folder = \"./experimental_files/\"\n",
    "\n",
    "hyperparameter_optimizer(path_datasets_folder = 'final datasets',\n",
    "                         path_hyperparameters_folder = 'hyperparameter_dnn/auc_October',\n",
    "                         new_hyperopt = new_hyperopt,\n",
    "                         max_evals = max_evals,\n",
    "                         nlayers = nlayers,\n",
    "                         dataset = dataset, \n",
    "                         #years_test = years_test,\n",
    "                         calibration_window = calibration_window, \n",
    "                         shuffle_train = shuffle_train,\n",
    "                         data_augmentation = data_augmentation,\n",
    "                         experiment_id = experiment_id,\n",
    "                         begin_test_date = begin_test_date,\n",
    "                         end_test_date = end_test_date)"
   ]
  },
  {
   "cell_type": "markdown",
   "id": "e58c0b46",
   "metadata": {},
   "source": [
    "# test"
   ]
  },
  {
   "cell_type": "code",
   "execution_count": 6,
   "id": "b334140d",
   "metadata": {
    "scrolled": true
   },
   "outputs": [
    {
     "name": "stdout",
     "output_type": "stream",
     "text": [
      "Test datasets: 2020-07-20 00:00:00 - 2020-07-26 23:00:00\n"
     ]
    },
    {
     "name": "stderr",
     "output_type": "stream",
     "text": [
      "C:\\Users\\35250\\AppData\\Roaming\\Python\\Python38\\site-packages\\tensorflow\\python\\keras\\optimizer_v2\\optimizer_v2.py:374: UserWarning: The `lr` argument is deprecated, use `learning_rate` instead.\n",
      "  warnings.warn(\n"
     ]
    },
    {
     "name": "stdout",
     "output_type": "stream",
     "text": [
      "2020-07-20 - sMAPE: 37.04%  |  MAE: 8.290\n"
     ]
    },
    {
     "name": "stderr",
     "output_type": "stream",
     "text": [
      "C:\\Users\\35250\\AppData\\Roaming\\Python\\Python38\\site-packages\\tensorflow\\python\\keras\\optimizer_v2\\optimizer_v2.py:374: UserWarning: The `lr` argument is deprecated, use `learning_rate` instead.\n",
      "  warnings.warn(\n"
     ]
    },
    {
     "name": "stdout",
     "output_type": "stream",
     "text": [
      "2020-07-21 - sMAPE: 34.68%  |  MAE: 9.024\n"
     ]
    },
    {
     "name": "stderr",
     "output_type": "stream",
     "text": [
      "C:\\Users\\35250\\AppData\\Roaming\\Python\\Python38\\site-packages\\tensorflow\\python\\keras\\optimizer_v2\\optimizer_v2.py:374: UserWarning: The `lr` argument is deprecated, use `learning_rate` instead.\n",
      "  warnings.warn(\n"
     ]
    },
    {
     "name": "stdout",
     "output_type": "stream",
     "text": [
      "2020-07-22 - sMAPE: 33.98%  |  MAE: 8.541\n"
     ]
    },
    {
     "name": "stderr",
     "output_type": "stream",
     "text": [
      "C:\\Users\\35250\\AppData\\Roaming\\Python\\Python38\\site-packages\\tensorflow\\python\\keras\\optimizer_v2\\optimizer_v2.py:374: UserWarning: The `lr` argument is deprecated, use `learning_rate` instead.\n",
      "  warnings.warn(\n"
     ]
    },
    {
     "name": "stdout",
     "output_type": "stream",
     "text": [
      "2020-07-23 - sMAPE: 34.47%  |  MAE: 9.558\n"
     ]
    },
    {
     "name": "stderr",
     "output_type": "stream",
     "text": [
      "C:\\Users\\35250\\AppData\\Roaming\\Python\\Python38\\site-packages\\tensorflow\\python\\keras\\optimizer_v2\\optimizer_v2.py:374: UserWarning: The `lr` argument is deprecated, use `learning_rate` instead.\n",
      "  warnings.warn(\n"
     ]
    },
    {
     "name": "stdout",
     "output_type": "stream",
     "text": [
      "2020-07-24 - sMAPE: 35.64%  |  MAE: 10.074\n"
     ]
    },
    {
     "name": "stderr",
     "output_type": "stream",
     "text": [
      "C:\\Users\\35250\\AppData\\Roaming\\Python\\Python38\\site-packages\\tensorflow\\python\\keras\\optimizer_v2\\optimizer_v2.py:374: UserWarning: The `lr` argument is deprecated, use `learning_rate` instead.\n",
      "  warnings.warn(\n"
     ]
    },
    {
     "name": "stdout",
     "output_type": "stream",
     "text": [
      "2020-07-25 - sMAPE: 34.55%  |  MAE: 9.453\n"
     ]
    },
    {
     "name": "stderr",
     "output_type": "stream",
     "text": [
      "C:\\Users\\35250\\AppData\\Roaming\\Python\\Python38\\site-packages\\tensorflow\\python\\keras\\optimizer_v2\\optimizer_v2.py:374: UserWarning: The `lr` argument is deprecated, use `learning_rate` instead.\n",
      "  warnings.warn(\n"
     ]
    },
    {
     "name": "stdout",
     "output_type": "stream",
     "text": [
      "2020-07-26 - sMAPE: 34.84%  |  MAE: 9.397\n"
     ]
    },
    {
     "data": {
      "text/html": [
       "<div>\n",
       "<style scoped>\n",
       "    .dataframe tbody tr th:only-of-type {\n",
       "        vertical-align: middle;\n",
       "    }\n",
       "\n",
       "    .dataframe tbody tr th {\n",
       "        vertical-align: top;\n",
       "    }\n",
       "\n",
       "    .dataframe thead th {\n",
       "        text-align: right;\n",
       "    }\n",
       "</style>\n",
       "<table border=\"1\" class=\"dataframe\">\n",
       "  <thead>\n",
       "    <tr style=\"text-align: right;\">\n",
       "      <th></th>\n",
       "      <th>h0</th>\n",
       "      <th>h1</th>\n",
       "      <th>h2</th>\n",
       "      <th>h3</th>\n",
       "      <th>h4</th>\n",
       "      <th>h5</th>\n",
       "      <th>h6</th>\n",
       "      <th>h7</th>\n",
       "      <th>h8</th>\n",
       "      <th>h9</th>\n",
       "      <th>...</th>\n",
       "      <th>h14</th>\n",
       "      <th>h15</th>\n",
       "      <th>h16</th>\n",
       "      <th>h17</th>\n",
       "      <th>h18</th>\n",
       "      <th>h19</th>\n",
       "      <th>h20</th>\n",
       "      <th>h21</th>\n",
       "      <th>h22</th>\n",
       "      <th>h23</th>\n",
       "    </tr>\n",
       "    <tr>\n",
       "      <th>datetime</th>\n",
       "      <th></th>\n",
       "      <th></th>\n",
       "      <th></th>\n",
       "      <th></th>\n",
       "      <th></th>\n",
       "      <th></th>\n",
       "      <th></th>\n",
       "      <th></th>\n",
       "      <th></th>\n",
       "      <th></th>\n",
       "      <th></th>\n",
       "      <th></th>\n",
       "      <th></th>\n",
       "      <th></th>\n",
       "      <th></th>\n",
       "      <th></th>\n",
       "      <th></th>\n",
       "      <th></th>\n",
       "      <th></th>\n",
       "      <th></th>\n",
       "      <th></th>\n",
       "    </tr>\n",
       "  </thead>\n",
       "  <tbody>\n",
       "    <tr>\n",
       "      <th>2020-07-20</th>\n",
       "      <td>25.167274</td>\n",
       "      <td>22.670984</td>\n",
       "      <td>23.396955</td>\n",
       "      <td>26.859787</td>\n",
       "      <td>31.074787</td>\n",
       "      <td>34.182705</td>\n",
       "      <td>36.563625</td>\n",
       "      <td>41.681343</td>\n",
       "      <td>19.599346</td>\n",
       "      <td>16.789509</td>\n",
       "      <td>...</td>\n",
       "      <td>25.930992</td>\n",
       "      <td>16.414394</td>\n",
       "      <td>4.450349</td>\n",
       "      <td>11.375368</td>\n",
       "      <td>24.351328</td>\n",
       "      <td>38.472996</td>\n",
       "      <td>36.875645</td>\n",
       "      <td>37.424274</td>\n",
       "      <td>34.284809</td>\n",
       "      <td>22.812988</td>\n",
       "    </tr>\n",
       "    <tr>\n",
       "      <th>2020-07-21</th>\n",
       "      <td>16.093733</td>\n",
       "      <td>23.487541</td>\n",
       "      <td>27.405573</td>\n",
       "      <td>31.027565</td>\n",
       "      <td>29.72554</td>\n",
       "      <td>24.023964</td>\n",
       "      <td>24.415903</td>\n",
       "      <td>39.777187</td>\n",
       "      <td>39.955055</td>\n",
       "      <td>31.375256</td>\n",
       "      <td>...</td>\n",
       "      <td>53.022026</td>\n",
       "      <td>38.989532</td>\n",
       "      <td>33.694199</td>\n",
       "      <td>30.484215</td>\n",
       "      <td>27.315792</td>\n",
       "      <td>38.760078</td>\n",
       "      <td>48.327515</td>\n",
       "      <td>44.242634</td>\n",
       "      <td>37.230213</td>\n",
       "      <td>36.640766</td>\n",
       "    </tr>\n",
       "    <tr>\n",
       "      <th>2020-07-22</th>\n",
       "      <td>21.319195</td>\n",
       "      <td>32.054596</td>\n",
       "      <td>32.955467</td>\n",
       "      <td>26.440798</td>\n",
       "      <td>30.718029</td>\n",
       "      <td>28.108572</td>\n",
       "      <td>21.727898</td>\n",
       "      <td>28.868288</td>\n",
       "      <td>26.802814</td>\n",
       "      <td>28.229216</td>\n",
       "      <td>...</td>\n",
       "      <td>13.941951</td>\n",
       "      <td>18.940271</td>\n",
       "      <td>34.986504</td>\n",
       "      <td>29.971579</td>\n",
       "      <td>30.286404</td>\n",
       "      <td>33.406601</td>\n",
       "      <td>33.586617</td>\n",
       "      <td>35.604744</td>\n",
       "      <td>25.236534</td>\n",
       "      <td>23.994289</td>\n",
       "    </tr>\n",
       "    <tr>\n",
       "      <th>2020-07-23</th>\n",
       "      <td>31.004759</td>\n",
       "      <td>30.817081</td>\n",
       "      <td>45.277199</td>\n",
       "      <td>41.601456</td>\n",
       "      <td>39.552204</td>\n",
       "      <td>42.068779</td>\n",
       "      <td>25.105516</td>\n",
       "      <td>29.205414</td>\n",
       "      <td>43.35302</td>\n",
       "      <td>44.323402</td>\n",
       "      <td>...</td>\n",
       "      <td>43.212341</td>\n",
       "      <td>22.991632</td>\n",
       "      <td>40.140003</td>\n",
       "      <td>61.218571</td>\n",
       "      <td>68.421661</td>\n",
       "      <td>54.424843</td>\n",
       "      <td>52.028828</td>\n",
       "      <td>59.821808</td>\n",
       "      <td>52.213017</td>\n",
       "      <td>41.141613</td>\n",
       "    </tr>\n",
       "    <tr>\n",
       "      <th>2020-07-24</th>\n",
       "      <td>38.48103</td>\n",
       "      <td>24.531509</td>\n",
       "      <td>19.599421</td>\n",
       "      <td>23.55488</td>\n",
       "      <td>25.541069</td>\n",
       "      <td>36.980503</td>\n",
       "      <td>27.853989</td>\n",
       "      <td>28.637424</td>\n",
       "      <td>52.066257</td>\n",
       "      <td>38.551186</td>\n",
       "      <td>...</td>\n",
       "      <td>17.903109</td>\n",
       "      <td>21.113577</td>\n",
       "      <td>-1.126207</td>\n",
       "      <td>31.756527</td>\n",
       "      <td>36.310463</td>\n",
       "      <td>48.357319</td>\n",
       "      <td>28.429306</td>\n",
       "      <td>36.787964</td>\n",
       "      <td>30.394865</td>\n",
       "      <td>30.938438</td>\n",
       "    </tr>\n",
       "    <tr>\n",
       "      <th>2020-07-25</th>\n",
       "      <td>15.323716</td>\n",
       "      <td>13.290063</td>\n",
       "      <td>12.748326</td>\n",
       "      <td>27.621073</td>\n",
       "      <td>31.029512</td>\n",
       "      <td>25.417618</td>\n",
       "      <td>19.553991</td>\n",
       "      <td>20.364666</td>\n",
       "      <td>24.853909</td>\n",
       "      <td>33.899948</td>\n",
       "      <td>...</td>\n",
       "      <td>41.610783</td>\n",
       "      <td>38.365593</td>\n",
       "      <td>41.159153</td>\n",
       "      <td>45.224506</td>\n",
       "      <td>41.183193</td>\n",
       "      <td>40.217907</td>\n",
       "      <td>39.352871</td>\n",
       "      <td>54.585125</td>\n",
       "      <td>40.653362</td>\n",
       "      <td>33.496502</td>\n",
       "    </tr>\n",
       "    <tr>\n",
       "      <th>2020-07-26</th>\n",
       "      <td>34.885582</td>\n",
       "      <td>19.671078</td>\n",
       "      <td>25.701641</td>\n",
       "      <td>33.546242</td>\n",
       "      <td>45.667469</td>\n",
       "      <td>37.446381</td>\n",
       "      <td>30.111574</td>\n",
       "      <td>32.296177</td>\n",
       "      <td>31.794519</td>\n",
       "      <td>33.370235</td>\n",
       "      <td>...</td>\n",
       "      <td>6.249942</td>\n",
       "      <td>17.062033</td>\n",
       "      <td>18.696907</td>\n",
       "      <td>23.607244</td>\n",
       "      <td>32.502842</td>\n",
       "      <td>31.015554</td>\n",
       "      <td>23.420542</td>\n",
       "      <td>38.087173</td>\n",
       "      <td>30.561514</td>\n",
       "      <td>18.702204</td>\n",
       "    </tr>\n",
       "  </tbody>\n",
       "</table>\n",
       "<p>7 rows × 24 columns</p>\n",
       "</div>"
      ],
      "text/plain": [
       "                   h0         h1         h2         h3         h4         h5  \\\n",
       "datetime                                                                       \n",
       "2020-07-20  25.167274  22.670984  23.396955  26.859787  31.074787  34.182705   \n",
       "2020-07-21  16.093733  23.487541  27.405573  31.027565   29.72554  24.023964   \n",
       "2020-07-22  21.319195  32.054596  32.955467  26.440798  30.718029  28.108572   \n",
       "2020-07-23  31.004759  30.817081  45.277199  41.601456  39.552204  42.068779   \n",
       "2020-07-24   38.48103  24.531509  19.599421   23.55488  25.541069  36.980503   \n",
       "2020-07-25  15.323716  13.290063  12.748326  27.621073  31.029512  25.417618   \n",
       "2020-07-26  34.885582  19.671078  25.701641  33.546242  45.667469  37.446381   \n",
       "\n",
       "                   h6         h7         h8         h9  ...        h14  \\\n",
       "datetime                                                ...              \n",
       "2020-07-20  36.563625  41.681343  19.599346  16.789509  ...  25.930992   \n",
       "2020-07-21  24.415903  39.777187  39.955055  31.375256  ...  53.022026   \n",
       "2020-07-22  21.727898  28.868288  26.802814  28.229216  ...  13.941951   \n",
       "2020-07-23  25.105516  29.205414   43.35302  44.323402  ...  43.212341   \n",
       "2020-07-24  27.853989  28.637424  52.066257  38.551186  ...  17.903109   \n",
       "2020-07-25  19.553991  20.364666  24.853909  33.899948  ...  41.610783   \n",
       "2020-07-26  30.111574  32.296177  31.794519  33.370235  ...   6.249942   \n",
       "\n",
       "                  h15        h16        h17        h18        h19        h20  \\\n",
       "datetime                                                                       \n",
       "2020-07-20  16.414394   4.450349  11.375368  24.351328  38.472996  36.875645   \n",
       "2020-07-21  38.989532  33.694199  30.484215  27.315792  38.760078  48.327515   \n",
       "2020-07-22  18.940271  34.986504  29.971579  30.286404  33.406601  33.586617   \n",
       "2020-07-23  22.991632  40.140003  61.218571  68.421661  54.424843  52.028828   \n",
       "2020-07-24  21.113577  -1.126207  31.756527  36.310463  48.357319  28.429306   \n",
       "2020-07-25  38.365593  41.159153  45.224506  41.183193  40.217907  39.352871   \n",
       "2020-07-26  17.062033  18.696907  23.607244  32.502842  31.015554  23.420542   \n",
       "\n",
       "                  h21        h22        h23  \n",
       "datetime                                     \n",
       "2020-07-20  37.424274  34.284809  22.812988  \n",
       "2020-07-21  44.242634  37.230213  36.640766  \n",
       "2020-07-22  35.604744  25.236534  23.994289  \n",
       "2020-07-23  59.821808  52.213017  41.141613  \n",
       "2020-07-24  36.787964  30.394865  30.938438  \n",
       "2020-07-25  54.585125  40.653362  33.496502  \n",
       "2020-07-26  38.087173  30.561514  18.702204  \n",
       "\n",
       "[7 rows x 24 columns]"
      ]
     },
     "execution_count": 6,
     "metadata": {},
     "output_type": "execute_result"
    }
   ],
   "source": [
    "# Number of layers in DNN\n",
    "nlayers = 2\n",
    "\n",
    "# data to study\n",
    "dataset = 'imbalanceData_final'\n",
    "\n",
    "# 1 year is considered as 364 days (52 weeks)\n",
    "# years_test = 1\n",
    "\n",
    "# Optional parameters for selecting the test dataset\n",
    "begin_test_date = '2020-07-20'\n",
    "end_test_date = '2020-07-26'\n",
    "\n",
    "# for recalibration the validation and the training datasets are always shuffled\n",
    "shuffle_train = 1\n",
    "\n",
    "# Boolean that selects whether a data augmentation technique for DNNs is used\n",
    "data_augmentation = 0\n",
    "\n",
    "# Boolean that selects whether we start a new recalibration or we restart an existing one\n",
    "new_recalibration = 1\n",
    "\n",
    "# Number of years used in the training dataset for recalibration\n",
    "calibration_window = 1\n",
    "\n",
    "# Unique identifier to read the trials file of hyperparameter optimization\n",
    "experiment_id = 3\n",
    "\n",
    "# Set up the paths for saving data (this are the defaults for the library)\n",
    "# path_datasets_folder = os.path.join('.', 'datasets')\n",
    "# path_recalibration_folder = os.path.join('.', 'experimental_files')\n",
    "# path_hyperparameter_folder = os.path.join('.', 'experimental_files')\n",
    "\n",
    "evaluate_dnn_in_test_dataset(experiment_id,\n",
    "                             path_hyperparameter_folder = 'hyperparameter_dnn/imb_July',\n",
    "                             path_datasets_folder = 'final datasets',\n",
    "                             shuffle_train = shuffle_train,\n",
    "                             path_recalibration_folder = 'forecast results/DNN/imb_July',\n",
    "                             nlayers = nlayers,\n",
    "                             dataset = dataset,\n",
    "                             #years_test = years_test,\n",
    "                             data_augmentation = data_augmentation,\n",
    "                             calibration_window = calibration_window,\n",
    "                             new_recalibration = new_recalibration,\n",
    "                             begin_test_date = begin_test_date,\n",
    "                             end_test_date = end_test_date)"
   ]
  },
  {
   "cell_type": "code",
   "execution_count": 7,
   "id": "2db63f44",
   "metadata": {
    "scrolled": true
   },
   "outputs": [
    {
     "name": "stdout",
     "output_type": "stream",
     "text": [
      "Test datasets: 2020-10-19 00:00:00 - 2020-10-25 23:00:00\n"
     ]
    },
    {
     "name": "stderr",
     "output_type": "stream",
     "text": [
      "C:\\Users\\35250\\AppData\\Roaming\\Python\\Python38\\site-packages\\tensorflow\\python\\keras\\optimizer_v2\\optimizer_v2.py:374: UserWarning: The `lr` argument is deprecated, use `learning_rate` instead.\n",
      "  warnings.warn(\n"
     ]
    },
    {
     "name": "stdout",
     "output_type": "stream",
     "text": [
      "2020-10-19 - sMAPE: 27.55%  |  MAE: 10.281\n"
     ]
    },
    {
     "name": "stderr",
     "output_type": "stream",
     "text": [
      "C:\\Users\\35250\\AppData\\Roaming\\Python\\Python38\\site-packages\\tensorflow\\python\\keras\\optimizer_v2\\optimizer_v2.py:374: UserWarning: The `lr` argument is deprecated, use `learning_rate` instead.\n",
      "  warnings.warn(\n"
     ]
    },
    {
     "name": "stdout",
     "output_type": "stream",
     "text": [
      "2020-10-20 - sMAPE: 25.77%  |  MAE: 10.167\n"
     ]
    },
    {
     "name": "stderr",
     "output_type": "stream",
     "text": [
      "C:\\Users\\35250\\AppData\\Roaming\\Python\\Python38\\site-packages\\tensorflow\\python\\keras\\optimizer_v2\\optimizer_v2.py:374: UserWarning: The `lr` argument is deprecated, use `learning_rate` instead.\n",
      "  warnings.warn(\n"
     ]
    },
    {
     "name": "stdout",
     "output_type": "stream",
     "text": [
      "2020-10-21 - sMAPE: 28.17%  |  MAE: 10.006\n"
     ]
    },
    {
     "name": "stderr",
     "output_type": "stream",
     "text": [
      "C:\\Users\\35250\\AppData\\Roaming\\Python\\Python38\\site-packages\\tensorflow\\python\\keras\\optimizer_v2\\optimizer_v2.py:374: UserWarning: The `lr` argument is deprecated, use `learning_rate` instead.\n",
      "  warnings.warn(\n"
     ]
    },
    {
     "name": "stdout",
     "output_type": "stream",
     "text": [
      "2020-10-22 - sMAPE: 30.38%  |  MAE: 10.898\n"
     ]
    },
    {
     "name": "stderr",
     "output_type": "stream",
     "text": [
      "C:\\Users\\35250\\AppData\\Roaming\\Python\\Python38\\site-packages\\tensorflow\\python\\keras\\optimizer_v2\\optimizer_v2.py:374: UserWarning: The `lr` argument is deprecated, use `learning_rate` instead.\n",
      "  warnings.warn(\n"
     ]
    },
    {
     "name": "stdout",
     "output_type": "stream",
     "text": [
      "2020-10-23 - sMAPE: 28.08%  |  MAE: 10.538\n"
     ]
    },
    {
     "name": "stderr",
     "output_type": "stream",
     "text": [
      "C:\\Users\\35250\\AppData\\Roaming\\Python\\Python38\\site-packages\\tensorflow\\python\\keras\\optimizer_v2\\optimizer_v2.py:374: UserWarning: The `lr` argument is deprecated, use `learning_rate` instead.\n",
      "  warnings.warn(\n"
     ]
    },
    {
     "name": "stdout",
     "output_type": "stream",
     "text": [
      "2020-10-24 - sMAPE: 30.13%  |  MAE: 10.390\n"
     ]
    },
    {
     "name": "stderr",
     "output_type": "stream",
     "text": [
      "C:\\Users\\35250\\AppData\\Roaming\\Python\\Python38\\site-packages\\tensorflow\\python\\keras\\optimizer_v2\\optimizer_v2.py:374: UserWarning: The `lr` argument is deprecated, use `learning_rate` instead.\n",
      "  warnings.warn(\n"
     ]
    },
    {
     "name": "stdout",
     "output_type": "stream",
     "text": [
      "2020-10-25 - sMAPE: 38.09%  |  MAE: 12.516\n"
     ]
    },
    {
     "data": {
      "text/html": [
       "<div>\n",
       "<style scoped>\n",
       "    .dataframe tbody tr th:only-of-type {\n",
       "        vertical-align: middle;\n",
       "    }\n",
       "\n",
       "    .dataframe tbody tr th {\n",
       "        vertical-align: top;\n",
       "    }\n",
       "\n",
       "    .dataframe thead th {\n",
       "        text-align: right;\n",
       "    }\n",
       "</style>\n",
       "<table border=\"1\" class=\"dataframe\">\n",
       "  <thead>\n",
       "    <tr style=\"text-align: right;\">\n",
       "      <th></th>\n",
       "      <th>h0</th>\n",
       "      <th>h1</th>\n",
       "      <th>h2</th>\n",
       "      <th>h3</th>\n",
       "      <th>h4</th>\n",
       "      <th>h5</th>\n",
       "      <th>h6</th>\n",
       "      <th>h7</th>\n",
       "      <th>h8</th>\n",
       "      <th>h9</th>\n",
       "      <th>...</th>\n",
       "      <th>h14</th>\n",
       "      <th>h15</th>\n",
       "      <th>h16</th>\n",
       "      <th>h17</th>\n",
       "      <th>h18</th>\n",
       "      <th>h19</th>\n",
       "      <th>h20</th>\n",
       "      <th>h21</th>\n",
       "      <th>h22</th>\n",
       "      <th>h23</th>\n",
       "    </tr>\n",
       "    <tr>\n",
       "      <th>datetime</th>\n",
       "      <th></th>\n",
       "      <th></th>\n",
       "      <th></th>\n",
       "      <th></th>\n",
       "      <th></th>\n",
       "      <th></th>\n",
       "      <th></th>\n",
       "      <th></th>\n",
       "      <th></th>\n",
       "      <th></th>\n",
       "      <th></th>\n",
       "      <th></th>\n",
       "      <th></th>\n",
       "      <th></th>\n",
       "      <th></th>\n",
       "      <th></th>\n",
       "      <th></th>\n",
       "      <th></th>\n",
       "      <th></th>\n",
       "      <th></th>\n",
       "      <th></th>\n",
       "    </tr>\n",
       "  </thead>\n",
       "  <tbody>\n",
       "    <tr>\n",
       "      <th>2020-10-19</th>\n",
       "      <td>42.621201</td>\n",
       "      <td>41.702293</td>\n",
       "      <td>44.805126</td>\n",
       "      <td>46.104839</td>\n",
       "      <td>47.948154</td>\n",
       "      <td>42.943043</td>\n",
       "      <td>37.733845</td>\n",
       "      <td>45.372036</td>\n",
       "      <td>62.232647</td>\n",
       "      <td>72.827629</td>\n",
       "      <td>...</td>\n",
       "      <td>24.327091</td>\n",
       "      <td>30.369204</td>\n",
       "      <td>41.523094</td>\n",
       "      <td>48.893032</td>\n",
       "      <td>64.948891</td>\n",
       "      <td>42.403343</td>\n",
       "      <td>24.754988</td>\n",
       "      <td>37.204269</td>\n",
       "      <td>33.303844</td>\n",
       "      <td>31.846848</td>\n",
       "    </tr>\n",
       "    <tr>\n",
       "      <th>2020-10-20</th>\n",
       "      <td>26.981319</td>\n",
       "      <td>24.287882</td>\n",
       "      <td>49.232006</td>\n",
       "      <td>51.325874</td>\n",
       "      <td>45.836342</td>\n",
       "      <td>26.660873</td>\n",
       "      <td>28.514448</td>\n",
       "      <td>39.663853</td>\n",
       "      <td>53.087875</td>\n",
       "      <td>63.179142</td>\n",
       "      <td>...</td>\n",
       "      <td>43.956928</td>\n",
       "      <td>20.37674</td>\n",
       "      <td>28.173105</td>\n",
       "      <td>37.156891</td>\n",
       "      <td>49.518394</td>\n",
       "      <td>50.36919</td>\n",
       "      <td>34.645786</td>\n",
       "      <td>51.411324</td>\n",
       "      <td>61.919868</td>\n",
       "      <td>36.866024</td>\n",
       "    </tr>\n",
       "    <tr>\n",
       "      <th>2020-10-21</th>\n",
       "      <td>13.795795</td>\n",
       "      <td>20.973082</td>\n",
       "      <td>18.679337</td>\n",
       "      <td>9.882965</td>\n",
       "      <td>15.0634</td>\n",
       "      <td>1.577792</td>\n",
       "      <td>18.105362</td>\n",
       "      <td>29.428713</td>\n",
       "      <td>50.089718</td>\n",
       "      <td>55.10244</td>\n",
       "      <td>...</td>\n",
       "      <td>54.458824</td>\n",
       "      <td>34.119213</td>\n",
       "      <td>54.73526</td>\n",
       "      <td>38.807625</td>\n",
       "      <td>53.94278</td>\n",
       "      <td>56.204803</td>\n",
       "      <td>52.140179</td>\n",
       "      <td>41.754826</td>\n",
       "      <td>35.320427</td>\n",
       "      <td>43.752213</td>\n",
       "    </tr>\n",
       "    <tr>\n",
       "      <th>2020-10-22</th>\n",
       "      <td>29.865883</td>\n",
       "      <td>31.661283</td>\n",
       "      <td>28.263817</td>\n",
       "      <td>11.754911</td>\n",
       "      <td>11.486854</td>\n",
       "      <td>17.84161</td>\n",
       "      <td>25.324917</td>\n",
       "      <td>26.675846</td>\n",
       "      <td>47.453228</td>\n",
       "      <td>49.899048</td>\n",
       "      <td>...</td>\n",
       "      <td>20.869673</td>\n",
       "      <td>26.00349</td>\n",
       "      <td>47.348297</td>\n",
       "      <td>51.821995</td>\n",
       "      <td>65.105667</td>\n",
       "      <td>52.618275</td>\n",
       "      <td>30.457863</td>\n",
       "      <td>57.624504</td>\n",
       "      <td>52.22123</td>\n",
       "      <td>57.554996</td>\n",
       "    </tr>\n",
       "    <tr>\n",
       "      <th>2020-10-23</th>\n",
       "      <td>57.144424</td>\n",
       "      <td>55.290394</td>\n",
       "      <td>62.897507</td>\n",
       "      <td>51.813595</td>\n",
       "      <td>46.531269</td>\n",
       "      <td>49.755363</td>\n",
       "      <td>62.393867</td>\n",
       "      <td>59.040855</td>\n",
       "      <td>42.486115</td>\n",
       "      <td>41.078945</td>\n",
       "      <td>...</td>\n",
       "      <td>44.251953</td>\n",
       "      <td>23.195192</td>\n",
       "      <td>35.965233</td>\n",
       "      <td>42.166126</td>\n",
       "      <td>52.3927</td>\n",
       "      <td>50.453716</td>\n",
       "      <td>39.257545</td>\n",
       "      <td>43.052425</td>\n",
       "      <td>34.214798</td>\n",
       "      <td>37.327648</td>\n",
       "    </tr>\n",
       "    <tr>\n",
       "      <th>2020-10-24</th>\n",
       "      <td>28.876566</td>\n",
       "      <td>16.911518</td>\n",
       "      <td>23.543962</td>\n",
       "      <td>22.153246</td>\n",
       "      <td>12.539462</td>\n",
       "      <td>12.393239</td>\n",
       "      <td>22.357056</td>\n",
       "      <td>12.082425</td>\n",
       "      <td>16.265265</td>\n",
       "      <td>34.016594</td>\n",
       "      <td>...</td>\n",
       "      <td>56.224121</td>\n",
       "      <td>48.807266</td>\n",
       "      <td>63.990841</td>\n",
       "      <td>58.765385</td>\n",
       "      <td>55.769081</td>\n",
       "      <td>55.010071</td>\n",
       "      <td>42.689651</td>\n",
       "      <td>52.480785</td>\n",
       "      <td>41.77961</td>\n",
       "      <td>57.622826</td>\n",
       "    </tr>\n",
       "    <tr>\n",
       "      <th>2020-10-25</th>\n",
       "      <td>43.309914</td>\n",
       "      <td>25.355097</td>\n",
       "      <td>20.548059</td>\n",
       "      <td>16.604942</td>\n",
       "      <td>22.272661</td>\n",
       "      <td>27.087166</td>\n",
       "      <td>42.328011</td>\n",
       "      <td>34.8866</td>\n",
       "      <td>39.864113</td>\n",
       "      <td>44.014568</td>\n",
       "      <td>...</td>\n",
       "      <td>33.827763</td>\n",
       "      <td>42.828461</td>\n",
       "      <td>47.321495</td>\n",
       "      <td>54.929554</td>\n",
       "      <td>46.978703</td>\n",
       "      <td>27.045465</td>\n",
       "      <td>25.528793</td>\n",
       "      <td>4.148054</td>\n",
       "      <td>20.77754</td>\n",
       "      <td>54.473656</td>\n",
       "    </tr>\n",
       "  </tbody>\n",
       "</table>\n",
       "<p>7 rows × 24 columns</p>\n",
       "</div>"
      ],
      "text/plain": [
       "                   h0         h1         h2         h3         h4         h5  \\\n",
       "datetime                                                                       \n",
       "2020-10-19  42.621201  41.702293  44.805126  46.104839  47.948154  42.943043   \n",
       "2020-10-20  26.981319  24.287882  49.232006  51.325874  45.836342  26.660873   \n",
       "2020-10-21  13.795795  20.973082  18.679337   9.882965    15.0634   1.577792   \n",
       "2020-10-22  29.865883  31.661283  28.263817  11.754911  11.486854   17.84161   \n",
       "2020-10-23  57.144424  55.290394  62.897507  51.813595  46.531269  49.755363   \n",
       "2020-10-24  28.876566  16.911518  23.543962  22.153246  12.539462  12.393239   \n",
       "2020-10-25  43.309914  25.355097  20.548059  16.604942  22.272661  27.087166   \n",
       "\n",
       "                   h6         h7         h8         h9  ...        h14  \\\n",
       "datetime                                                ...              \n",
       "2020-10-19  37.733845  45.372036  62.232647  72.827629  ...  24.327091   \n",
       "2020-10-20  28.514448  39.663853  53.087875  63.179142  ...  43.956928   \n",
       "2020-10-21  18.105362  29.428713  50.089718   55.10244  ...  54.458824   \n",
       "2020-10-22  25.324917  26.675846  47.453228  49.899048  ...  20.869673   \n",
       "2020-10-23  62.393867  59.040855  42.486115  41.078945  ...  44.251953   \n",
       "2020-10-24  22.357056  12.082425  16.265265  34.016594  ...  56.224121   \n",
       "2020-10-25  42.328011    34.8866  39.864113  44.014568  ...  33.827763   \n",
       "\n",
       "                  h15        h16        h17        h18        h19        h20  \\\n",
       "datetime                                                                       \n",
       "2020-10-19  30.369204  41.523094  48.893032  64.948891  42.403343  24.754988   \n",
       "2020-10-20   20.37674  28.173105  37.156891  49.518394   50.36919  34.645786   \n",
       "2020-10-21  34.119213   54.73526  38.807625   53.94278  56.204803  52.140179   \n",
       "2020-10-22   26.00349  47.348297  51.821995  65.105667  52.618275  30.457863   \n",
       "2020-10-23  23.195192  35.965233  42.166126    52.3927  50.453716  39.257545   \n",
       "2020-10-24  48.807266  63.990841  58.765385  55.769081  55.010071  42.689651   \n",
       "2020-10-25  42.828461  47.321495  54.929554  46.978703  27.045465  25.528793   \n",
       "\n",
       "                  h21        h22        h23  \n",
       "datetime                                     \n",
       "2020-10-19  37.204269  33.303844  31.846848  \n",
       "2020-10-20  51.411324  61.919868  36.866024  \n",
       "2020-10-21  41.754826  35.320427  43.752213  \n",
       "2020-10-22  57.624504   52.22123  57.554996  \n",
       "2020-10-23  43.052425  34.214798  37.327648  \n",
       "2020-10-24  52.480785   41.77961  57.622826  \n",
       "2020-10-25   4.148054   20.77754  54.473656  \n",
       "\n",
       "[7 rows x 24 columns]"
      ]
     },
     "execution_count": 7,
     "metadata": {},
     "output_type": "execute_result"
    }
   ],
   "source": [
    "# Number of layers in DNN\n",
    "nlayers = 2\n",
    "\n",
    "# data to study\n",
    "dataset = 'imbalanceData_final'\n",
    "\n",
    "# 1 year is considered as 364 days (52 weeks)\n",
    "# years_test = 1\n",
    "\n",
    "# Optional parameters for selecting the test dataset\n",
    "begin_test_date = '2020-10-19'\n",
    "end_test_date = '2020-10-25'\n",
    "\n",
    "# for recalibration the validation and the training datasets are always shuffled\n",
    "shuffle_train = 1\n",
    "\n",
    "# Boolean that selects whether a data augmentation technique for DNNs is used\n",
    "data_augmentation = 0\n",
    "\n",
    "# Boolean that selects whether we start a new recalibration or we restart an existing one\n",
    "new_recalibration = 1\n",
    "\n",
    "# Number of years used in the training dataset for recalibration\n",
    "calibration_window = 1\n",
    "\n",
    "# Unique identifier to read the trials file of hyperparameter optimization\n",
    "experiment_id = 3\n",
    "\n",
    "# Set up the paths for saving data (this are the defaults for the library)\n",
    "# path_datasets_folder = os.path.join('.', 'datasets')\n",
    "# path_recalibration_folder = os.path.join('.', 'experimental_files')\n",
    "# path_hyperparameter_folder = os.path.join('.', 'experimental_files')\n",
    "\n",
    "evaluate_dnn_in_test_dataset(experiment_id,\n",
    "                             path_hyperparameter_folder = 'hyperparameter_dnn/imb_October',\n",
    "                             path_datasets_folder = 'final datasets',\n",
    "                             shuffle_train = shuffle_train,\n",
    "                             path_recalibration_folder = 'forecast results/DNN/imb_October',\n",
    "                             nlayers = nlayers,\n",
    "                             dataset = dataset,\n",
    "                             #years_test = years_test,\n",
    "                             data_augmentation = data_augmentation,\n",
    "                             calibration_window = calibration_window,\n",
    "                             new_recalibration = new_recalibration,\n",
    "                             begin_test_date = begin_test_date,\n",
    "                             end_test_date = end_test_date)"
   ]
  },
  {
   "cell_type": "code",
   "execution_count": 8,
   "id": "f93f0558",
   "metadata": {
    "scrolled": true
   },
   "outputs": [
    {
     "name": "stdout",
     "output_type": "stream",
     "text": [
      "Test datasets: 2021-01-18 00:00:00 - 2021-01-24 23:00:00\n"
     ]
    },
    {
     "name": "stderr",
     "output_type": "stream",
     "text": [
      "C:\\Users\\35250\\AppData\\Roaming\\Python\\Python38\\site-packages\\tensorflow\\python\\keras\\optimizer_v2\\optimizer_v2.py:374: UserWarning: The `lr` argument is deprecated, use `learning_rate` instead.\n",
      "  warnings.warn(\n"
     ]
    },
    {
     "name": "stdout",
     "output_type": "stream",
     "text": [
      "2021-01-18 - sMAPE: 29.91%  |  MAE: 14.065\n",
      "2021-01-19 - sMAPE: 27.83%  |  MAE: 14.110\n",
      "2021-01-20 - sMAPE: 30.03%  |  MAE: 19.617\n",
      "2021-01-21 - sMAPE: 29.29%  |  MAE: 18.567\n",
      "2021-01-22 - sMAPE: 32.16%  |  MAE: 21.624\n",
      "2021-01-23 - sMAPE: 33.43%  |  MAE: 23.307\n",
      "2021-01-24 - sMAPE: 34.98%  |  MAE: 23.182\n"
     ]
    },
    {
     "data": {
      "text/html": [
       "<div>\n",
       "<style scoped>\n",
       "    .dataframe tbody tr th:only-of-type {\n",
       "        vertical-align: middle;\n",
       "    }\n",
       "\n",
       "    .dataframe tbody tr th {\n",
       "        vertical-align: top;\n",
       "    }\n",
       "\n",
       "    .dataframe thead th {\n",
       "        text-align: right;\n",
       "    }\n",
       "</style>\n",
       "<table border=\"1\" class=\"dataframe\">\n",
       "  <thead>\n",
       "    <tr style=\"text-align: right;\">\n",
       "      <th></th>\n",
       "      <th>h0</th>\n",
       "      <th>h1</th>\n",
       "      <th>h2</th>\n",
       "      <th>h3</th>\n",
       "      <th>h4</th>\n",
       "      <th>h5</th>\n",
       "      <th>h6</th>\n",
       "      <th>h7</th>\n",
       "      <th>h8</th>\n",
       "      <th>h9</th>\n",
       "      <th>...</th>\n",
       "      <th>h14</th>\n",
       "      <th>h15</th>\n",
       "      <th>h16</th>\n",
       "      <th>h17</th>\n",
       "      <th>h18</th>\n",
       "      <th>h19</th>\n",
       "      <th>h20</th>\n",
       "      <th>h21</th>\n",
       "      <th>h22</th>\n",
       "      <th>h23</th>\n",
       "    </tr>\n",
       "    <tr>\n",
       "      <th>datetime</th>\n",
       "      <th></th>\n",
       "      <th></th>\n",
       "      <th></th>\n",
       "      <th></th>\n",
       "      <th></th>\n",
       "      <th></th>\n",
       "      <th></th>\n",
       "      <th></th>\n",
       "      <th></th>\n",
       "      <th></th>\n",
       "      <th></th>\n",
       "      <th></th>\n",
       "      <th></th>\n",
       "      <th></th>\n",
       "      <th></th>\n",
       "      <th></th>\n",
       "      <th></th>\n",
       "      <th></th>\n",
       "      <th></th>\n",
       "      <th></th>\n",
       "      <th></th>\n",
       "    </tr>\n",
       "  </thead>\n",
       "  <tbody>\n",
       "    <tr>\n",
       "      <th>2021-01-18</th>\n",
       "      <td>25.188183</td>\n",
       "      <td>34.173454</td>\n",
       "      <td>15.402391</td>\n",
       "      <td>22.906681</td>\n",
       "      <td>30.961697</td>\n",
       "      <td>53.782547</td>\n",
       "      <td>74.226776</td>\n",
       "      <td>57.137615</td>\n",
       "      <td>70.716599</td>\n",
       "      <td>84.565384</td>\n",
       "      <td>...</td>\n",
       "      <td>68.357452</td>\n",
       "      <td>72.430977</td>\n",
       "      <td>70.823044</td>\n",
       "      <td>91.680328</td>\n",
       "      <td>88.340096</td>\n",
       "      <td>70.582169</td>\n",
       "      <td>34.698509</td>\n",
       "      <td>35.515335</td>\n",
       "      <td>65.323013</td>\n",
       "      <td>52.60849</td>\n",
       "    </tr>\n",
       "    <tr>\n",
       "      <th>2021-01-19</th>\n",
       "      <td>53.407097</td>\n",
       "      <td>56.366524</td>\n",
       "      <td>47.875324</td>\n",
       "      <td>51.720192</td>\n",
       "      <td>56.97953</td>\n",
       "      <td>58.643532</td>\n",
       "      <td>69.182602</td>\n",
       "      <td>68.212692</td>\n",
       "      <td>74.348846</td>\n",
       "      <td>83.167221</td>\n",
       "      <td>...</td>\n",
       "      <td>72.096664</td>\n",
       "      <td>61.512157</td>\n",
       "      <td>65.789139</td>\n",
       "      <td>78.521683</td>\n",
       "      <td>77.467735</td>\n",
       "      <td>53.33371</td>\n",
       "      <td>28.886091</td>\n",
       "      <td>39.772778</td>\n",
       "      <td>28.777695</td>\n",
       "      <td>30.56311</td>\n",
       "    </tr>\n",
       "    <tr>\n",
       "      <th>2021-01-20</th>\n",
       "      <td>64.420212</td>\n",
       "      <td>60.370575</td>\n",
       "      <td>55.026596</td>\n",
       "      <td>55.877853</td>\n",
       "      <td>54.726543</td>\n",
       "      <td>65.087975</td>\n",
       "      <td>71.439133</td>\n",
       "      <td>66.686028</td>\n",
       "      <td>65.152855</td>\n",
       "      <td>61.354637</td>\n",
       "      <td>...</td>\n",
       "      <td>70.580544</td>\n",
       "      <td>52.386703</td>\n",
       "      <td>69.996567</td>\n",
       "      <td>87.832649</td>\n",
       "      <td>89.350204</td>\n",
       "      <td>82.101318</td>\n",
       "      <td>64.198517</td>\n",
       "      <td>74.75988</td>\n",
       "      <td>66.745049</td>\n",
       "      <td>59.239212</td>\n",
       "    </tr>\n",
       "    <tr>\n",
       "      <th>2021-01-21</th>\n",
       "      <td>64.360558</td>\n",
       "      <td>58.673843</td>\n",
       "      <td>55.12822</td>\n",
       "      <td>38.162827</td>\n",
       "      <td>35.893135</td>\n",
       "      <td>56.097878</td>\n",
       "      <td>85.29454</td>\n",
       "      <td>71.236206</td>\n",
       "      <td>67.518433</td>\n",
       "      <td>74.538101</td>\n",
       "      <td>...</td>\n",
       "      <td>76.913361</td>\n",
       "      <td>65.136871</td>\n",
       "      <td>91.931602</td>\n",
       "      <td>126.446922</td>\n",
       "      <td>123.740578</td>\n",
       "      <td>99.90596</td>\n",
       "      <td>69.490059</td>\n",
       "      <td>78.223465</td>\n",
       "      <td>66.376305</td>\n",
       "      <td>71.946243</td>\n",
       "    </tr>\n",
       "    <tr>\n",
       "      <th>2021-01-22</th>\n",
       "      <td>32.820366</td>\n",
       "      <td>41.819653</td>\n",
       "      <td>48.635288</td>\n",
       "      <td>47.491768</td>\n",
       "      <td>49.21489</td>\n",
       "      <td>46.755272</td>\n",
       "      <td>75.780319</td>\n",
       "      <td>80.467735</td>\n",
       "      <td>83.407043</td>\n",
       "      <td>99.210281</td>\n",
       "      <td>...</td>\n",
       "      <td>75.308594</td>\n",
       "      <td>62.10688</td>\n",
       "      <td>87.458054</td>\n",
       "      <td>99.036316</td>\n",
       "      <td>111.474579</td>\n",
       "      <td>118.259544</td>\n",
       "      <td>101.50106</td>\n",
       "      <td>90.484764</td>\n",
       "      <td>86.705109</td>\n",
       "      <td>77.887833</td>\n",
       "    </tr>\n",
       "    <tr>\n",
       "      <th>2021-01-23</th>\n",
       "      <td>57.515076</td>\n",
       "      <td>66.394257</td>\n",
       "      <td>55.955231</td>\n",
       "      <td>59.61224</td>\n",
       "      <td>53.246346</td>\n",
       "      <td>61.382812</td>\n",
       "      <td>66.649063</td>\n",
       "      <td>64.649834</td>\n",
       "      <td>56.57679</td>\n",
       "      <td>55.379467</td>\n",
       "      <td>...</td>\n",
       "      <td>77.150291</td>\n",
       "      <td>67.212112</td>\n",
       "      <td>71.885155</td>\n",
       "      <td>106.147278</td>\n",
       "      <td>111.709145</td>\n",
       "      <td>88.498634</td>\n",
       "      <td>60.222515</td>\n",
       "      <td>77.104614</td>\n",
       "      <td>79.708694</td>\n",
       "      <td>73.677071</td>\n",
       "    </tr>\n",
       "    <tr>\n",
       "      <th>2021-01-24</th>\n",
       "      <td>39.648056</td>\n",
       "      <td>43.955433</td>\n",
       "      <td>49.585873</td>\n",
       "      <td>61.509846</td>\n",
       "      <td>54.968132</td>\n",
       "      <td>56.486622</td>\n",
       "      <td>69.656937</td>\n",
       "      <td>25.915619</td>\n",
       "      <td>55.586369</td>\n",
       "      <td>65.36145</td>\n",
       "      <td>...</td>\n",
       "      <td>65.347527</td>\n",
       "      <td>53.134033</td>\n",
       "      <td>56.588066</td>\n",
       "      <td>66.3144</td>\n",
       "      <td>54.950405</td>\n",
       "      <td>51.663673</td>\n",
       "      <td>43.892067</td>\n",
       "      <td>46.338219</td>\n",
       "      <td>44.989433</td>\n",
       "      <td>46.693844</td>\n",
       "    </tr>\n",
       "  </tbody>\n",
       "</table>\n",
       "<p>7 rows × 24 columns</p>\n",
       "</div>"
      ],
      "text/plain": [
       "                   h0         h1         h2         h3         h4         h5  \\\n",
       "datetime                                                                       \n",
       "2021-01-18  25.188183  34.173454  15.402391  22.906681  30.961697  53.782547   \n",
       "2021-01-19  53.407097  56.366524  47.875324  51.720192   56.97953  58.643532   \n",
       "2021-01-20  64.420212  60.370575  55.026596  55.877853  54.726543  65.087975   \n",
       "2021-01-21  64.360558  58.673843   55.12822  38.162827  35.893135  56.097878   \n",
       "2021-01-22  32.820366  41.819653  48.635288  47.491768   49.21489  46.755272   \n",
       "2021-01-23  57.515076  66.394257  55.955231   59.61224  53.246346  61.382812   \n",
       "2021-01-24  39.648056  43.955433  49.585873  61.509846  54.968132  56.486622   \n",
       "\n",
       "                   h6         h7         h8         h9  ...        h14  \\\n",
       "datetime                                                ...              \n",
       "2021-01-18  74.226776  57.137615  70.716599  84.565384  ...  68.357452   \n",
       "2021-01-19  69.182602  68.212692  74.348846  83.167221  ...  72.096664   \n",
       "2021-01-20  71.439133  66.686028  65.152855  61.354637  ...  70.580544   \n",
       "2021-01-21   85.29454  71.236206  67.518433  74.538101  ...  76.913361   \n",
       "2021-01-22  75.780319  80.467735  83.407043  99.210281  ...  75.308594   \n",
       "2021-01-23  66.649063  64.649834   56.57679  55.379467  ...  77.150291   \n",
       "2021-01-24  69.656937  25.915619  55.586369   65.36145  ...  65.347527   \n",
       "\n",
       "                  h15        h16         h17         h18         h19  \\\n",
       "datetime                                                               \n",
       "2021-01-18  72.430977  70.823044   91.680328   88.340096   70.582169   \n",
       "2021-01-19  61.512157  65.789139   78.521683   77.467735    53.33371   \n",
       "2021-01-20  52.386703  69.996567   87.832649   89.350204   82.101318   \n",
       "2021-01-21  65.136871  91.931602  126.446922  123.740578    99.90596   \n",
       "2021-01-22   62.10688  87.458054   99.036316  111.474579  118.259544   \n",
       "2021-01-23  67.212112  71.885155  106.147278  111.709145   88.498634   \n",
       "2021-01-24  53.134033  56.588066     66.3144   54.950405   51.663673   \n",
       "\n",
       "                  h20        h21        h22        h23  \n",
       "datetime                                                \n",
       "2021-01-18  34.698509  35.515335  65.323013   52.60849  \n",
       "2021-01-19  28.886091  39.772778  28.777695   30.56311  \n",
       "2021-01-20  64.198517   74.75988  66.745049  59.239212  \n",
       "2021-01-21  69.490059  78.223465  66.376305  71.946243  \n",
       "2021-01-22  101.50106  90.484764  86.705109  77.887833  \n",
       "2021-01-23  60.222515  77.104614  79.708694  73.677071  \n",
       "2021-01-24  43.892067  46.338219  44.989433  46.693844  \n",
       "\n",
       "[7 rows x 24 columns]"
      ]
     },
     "execution_count": 8,
     "metadata": {},
     "output_type": "execute_result"
    }
   ],
   "source": [
    "# Number of layers in DNN\n",
    "nlayers = 2\n",
    "\n",
    "# data to study\n",
    "dataset = 'imbalanceData_final'\n",
    "\n",
    "# 1 year is considered as 364 days (52 weeks)\n",
    "# years_test = 1\n",
    "\n",
    "# Optional parameters for selecting the test dataset\n",
    "begin_test_date = '2021-01-18'\n",
    "end_test_date = '2021-01-24'\n",
    "\n",
    "# for recalibration the validation and the training datasets are always shuffled\n",
    "shuffle_train = 1\n",
    "\n",
    "# Boolean that selects whether a data augmentation technique for DNNs is used\n",
    "data_augmentation = 0\n",
    "\n",
    "# Boolean that selects whether we start a new recalibration or we restart an existing one\n",
    "new_recalibration = 1\n",
    "\n",
    "# Number of years used in the training dataset for recalibration\n",
    "calibration_window = 1\n",
    "\n",
    "# Unique identifier to read the trials file of hyperparameter optimization\n",
    "experiment_id = 3\n",
    "\n",
    "# Set up the paths for saving data (this are the defaults for the library)\n",
    "# path_datasets_folder = os.path.join('.', 'datasets')\n",
    "# path_recalibration_folder = os.path.join('.', 'experimental_files')\n",
    "# path_hyperparameter_folder = os.path.join('.', 'experimental_files')\n",
    "\n",
    "evaluate_dnn_in_test_dataset(experiment_id,\n",
    "                             path_hyperparameter_folder = 'hyperparameter_dnn/imb_January',\n",
    "                             path_datasets_folder = 'final datasets',\n",
    "                             shuffle_train = shuffle_train,\n",
    "                             path_recalibration_folder = 'forecast results/DNN/imb_January',\n",
    "                             nlayers = nlayers,\n",
    "                             dataset = dataset,\n",
    "                             #years_test = years_test,\n",
    "                             data_augmentation = data_augmentation,\n",
    "                             calibration_window = calibration_window,\n",
    "                             new_recalibration = new_recalibration,\n",
    "                             begin_test_date = begin_test_date,\n",
    "                             end_test_date = end_test_date)"
   ]
  },
  {
   "cell_type": "code",
   "execution_count": 9,
   "id": "2b4d3159",
   "metadata": {
    "scrolled": true
   },
   "outputs": [
    {
     "name": "stdout",
     "output_type": "stream",
     "text": [
      "Test datasets: 2021-04-19 00:00:00 - 2021-04-25 23:00:00\n"
     ]
    },
    {
     "name": "stderr",
     "output_type": "stream",
     "text": [
      "C:\\Users\\35250\\AppData\\Roaming\\Python\\Python38\\site-packages\\tensorflow\\python\\keras\\optimizer_v2\\optimizer_v2.py:374: UserWarning: The `lr` argument is deprecated, use `learning_rate` instead.\n",
      "  warnings.warn(\n"
     ]
    },
    {
     "name": "stdout",
     "output_type": "stream",
     "text": [
      "2021-04-19 - sMAPE: 56.44%  |  MAE: 20.110\n",
      "2021-04-20 - sMAPE: 54.13%  |  MAE: 20.816\n",
      "2021-04-21 - sMAPE: 45.68%  |  MAE: 19.410\n",
      "2021-04-22 - sMAPE: 44.27%  |  MAE: 18.772\n",
      "2021-04-23 - sMAPE: 40.19%  |  MAE: 17.388\n",
      "2021-04-24 - sMAPE: 38.35%  |  MAE: 16.731\n",
      "2021-04-25 - sMAPE: 39.54%  |  MAE: 17.026\n"
     ]
    },
    {
     "data": {
      "text/html": [
       "<div>\n",
       "<style scoped>\n",
       "    .dataframe tbody tr th:only-of-type {\n",
       "        vertical-align: middle;\n",
       "    }\n",
       "\n",
       "    .dataframe tbody tr th {\n",
       "        vertical-align: top;\n",
       "    }\n",
       "\n",
       "    .dataframe thead th {\n",
       "        text-align: right;\n",
       "    }\n",
       "</style>\n",
       "<table border=\"1\" class=\"dataframe\">\n",
       "  <thead>\n",
       "    <tr style=\"text-align: right;\">\n",
       "      <th></th>\n",
       "      <th>h0</th>\n",
       "      <th>h1</th>\n",
       "      <th>h2</th>\n",
       "      <th>h3</th>\n",
       "      <th>h4</th>\n",
       "      <th>h5</th>\n",
       "      <th>h6</th>\n",
       "      <th>h7</th>\n",
       "      <th>h8</th>\n",
       "      <th>h9</th>\n",
       "      <th>...</th>\n",
       "      <th>h14</th>\n",
       "      <th>h15</th>\n",
       "      <th>h16</th>\n",
       "      <th>h17</th>\n",
       "      <th>h18</th>\n",
       "      <th>h19</th>\n",
       "      <th>h20</th>\n",
       "      <th>h21</th>\n",
       "      <th>h22</th>\n",
       "      <th>h23</th>\n",
       "    </tr>\n",
       "    <tr>\n",
       "      <th>datetime</th>\n",
       "      <th></th>\n",
       "      <th></th>\n",
       "      <th></th>\n",
       "      <th></th>\n",
       "      <th></th>\n",
       "      <th></th>\n",
       "      <th></th>\n",
       "      <th></th>\n",
       "      <th></th>\n",
       "      <th></th>\n",
       "      <th></th>\n",
       "      <th></th>\n",
       "      <th></th>\n",
       "      <th></th>\n",
       "      <th></th>\n",
       "      <th></th>\n",
       "      <th></th>\n",
       "      <th></th>\n",
       "      <th></th>\n",
       "      <th></th>\n",
       "      <th></th>\n",
       "    </tr>\n",
       "  </thead>\n",
       "  <tbody>\n",
       "    <tr>\n",
       "      <th>2021-04-19</th>\n",
       "      <td>50.156441</td>\n",
       "      <td>48.863659</td>\n",
       "      <td>58.541698</td>\n",
       "      <td>47.395744</td>\n",
       "      <td>53.652069</td>\n",
       "      <td>66.221893</td>\n",
       "      <td>71.974388</td>\n",
       "      <td>69.722542</td>\n",
       "      <td>65.369492</td>\n",
       "      <td>65.158302</td>\n",
       "      <td>...</td>\n",
       "      <td>23.565584</td>\n",
       "      <td>25.385315</td>\n",
       "      <td>24.713728</td>\n",
       "      <td>27.348341</td>\n",
       "      <td>55.395733</td>\n",
       "      <td>55.980904</td>\n",
       "      <td>60.439857</td>\n",
       "      <td>64.74189</td>\n",
       "      <td>54.941463</td>\n",
       "      <td>45.380295</td>\n",
       "    </tr>\n",
       "    <tr>\n",
       "      <th>2021-04-20</th>\n",
       "      <td>51.443268</td>\n",
       "      <td>49.519821</td>\n",
       "      <td>51.999149</td>\n",
       "      <td>45.785686</td>\n",
       "      <td>46.804607</td>\n",
       "      <td>45.078804</td>\n",
       "      <td>68.81855</td>\n",
       "      <td>85.885414</td>\n",
       "      <td>86.506653</td>\n",
       "      <td>80.017105</td>\n",
       "      <td>...</td>\n",
       "      <td>68.546631</td>\n",
       "      <td>61.599541</td>\n",
       "      <td>62.521587</td>\n",
       "      <td>75.318123</td>\n",
       "      <td>69.75972</td>\n",
       "      <td>65.061928</td>\n",
       "      <td>67.924103</td>\n",
       "      <td>54.189461</td>\n",
       "      <td>42.140957</td>\n",
       "      <td>46.949501</td>\n",
       "    </tr>\n",
       "    <tr>\n",
       "      <th>2021-04-21</th>\n",
       "      <td>55.565891</td>\n",
       "      <td>51.25946</td>\n",
       "      <td>55.746754</td>\n",
       "      <td>51.979191</td>\n",
       "      <td>51.164074</td>\n",
       "      <td>62.605316</td>\n",
       "      <td>72.787628</td>\n",
       "      <td>74.907455</td>\n",
       "      <td>78.885681</td>\n",
       "      <td>74.455757</td>\n",
       "      <td>...</td>\n",
       "      <td>48.581028</td>\n",
       "      <td>40.382378</td>\n",
       "      <td>38.735565</td>\n",
       "      <td>53.745159</td>\n",
       "      <td>70.423874</td>\n",
       "      <td>74.445663</td>\n",
       "      <td>79.467331</td>\n",
       "      <td>79.834908</td>\n",
       "      <td>64.844467</td>\n",
       "      <td>54.910393</td>\n",
       "    </tr>\n",
       "    <tr>\n",
       "      <th>2021-04-22</th>\n",
       "      <td>44.347286</td>\n",
       "      <td>50.08987</td>\n",
       "      <td>58.518517</td>\n",
       "      <td>59.743874</td>\n",
       "      <td>57.178181</td>\n",
       "      <td>69.201843</td>\n",
       "      <td>82.840225</td>\n",
       "      <td>104.435486</td>\n",
       "      <td>99.749054</td>\n",
       "      <td>82.615303</td>\n",
       "      <td>...</td>\n",
       "      <td>49.365143</td>\n",
       "      <td>45.754517</td>\n",
       "      <td>26.214909</td>\n",
       "      <td>44.017067</td>\n",
       "      <td>67.237808</td>\n",
       "      <td>83.828957</td>\n",
       "      <td>92.55204</td>\n",
       "      <td>87.448654</td>\n",
       "      <td>69.267815</td>\n",
       "      <td>50.846241</td>\n",
       "    </tr>\n",
       "    <tr>\n",
       "      <th>2021-04-23</th>\n",
       "      <td>58.294064</td>\n",
       "      <td>61.289421</td>\n",
       "      <td>55.637653</td>\n",
       "      <td>53.770542</td>\n",
       "      <td>59.427979</td>\n",
       "      <td>59.350727</td>\n",
       "      <td>70.832916</td>\n",
       "      <td>90.183525</td>\n",
       "      <td>93.75235</td>\n",
       "      <td>89.588074</td>\n",
       "      <td>...</td>\n",
       "      <td>39.286949</td>\n",
       "      <td>38.426029</td>\n",
       "      <td>37.998001</td>\n",
       "      <td>31.297068</td>\n",
       "      <td>52.786755</td>\n",
       "      <td>59.531208</td>\n",
       "      <td>79.540977</td>\n",
       "      <td>90.748146</td>\n",
       "      <td>74.317818</td>\n",
       "      <td>50.713448</td>\n",
       "    </tr>\n",
       "    <tr>\n",
       "      <th>2021-04-24</th>\n",
       "      <td>52.33086</td>\n",
       "      <td>42.363464</td>\n",
       "      <td>42.446896</td>\n",
       "      <td>45.348194</td>\n",
       "      <td>47.627335</td>\n",
       "      <td>48.522785</td>\n",
       "      <td>56.824352</td>\n",
       "      <td>76.114441</td>\n",
       "      <td>77.336159</td>\n",
       "      <td>74.222969</td>\n",
       "      <td>...</td>\n",
       "      <td>37.592773</td>\n",
       "      <td>38.583866</td>\n",
       "      <td>33.45454</td>\n",
       "      <td>34.931053</td>\n",
       "      <td>50.977459</td>\n",
       "      <td>56.893841</td>\n",
       "      <td>72.228065</td>\n",
       "      <td>71.352715</td>\n",
       "      <td>52.23291</td>\n",
       "      <td>42.2155</td>\n",
       "    </tr>\n",
       "    <tr>\n",
       "      <th>2021-04-25</th>\n",
       "      <td>23.924461</td>\n",
       "      <td>27.239847</td>\n",
       "      <td>32.356823</td>\n",
       "      <td>26.68918</td>\n",
       "      <td>29.324911</td>\n",
       "      <td>37.532692</td>\n",
       "      <td>33.992702</td>\n",
       "      <td>34.683556</td>\n",
       "      <td>36.366344</td>\n",
       "      <td>33.346539</td>\n",
       "      <td>...</td>\n",
       "      <td>35.641953</td>\n",
       "      <td>19.175934</td>\n",
       "      <td>36.298752</td>\n",
       "      <td>37.882275</td>\n",
       "      <td>42.195065</td>\n",
       "      <td>42.582962</td>\n",
       "      <td>51.995613</td>\n",
       "      <td>72.368828</td>\n",
       "      <td>48.550301</td>\n",
       "      <td>35.904152</td>\n",
       "    </tr>\n",
       "  </tbody>\n",
       "</table>\n",
       "<p>7 rows × 24 columns</p>\n",
       "</div>"
      ],
      "text/plain": [
       "                   h0         h1         h2         h3         h4         h5  \\\n",
       "datetime                                                                       \n",
       "2021-04-19  50.156441  48.863659  58.541698  47.395744  53.652069  66.221893   \n",
       "2021-04-20  51.443268  49.519821  51.999149  45.785686  46.804607  45.078804   \n",
       "2021-04-21  55.565891   51.25946  55.746754  51.979191  51.164074  62.605316   \n",
       "2021-04-22  44.347286   50.08987  58.518517  59.743874  57.178181  69.201843   \n",
       "2021-04-23  58.294064  61.289421  55.637653  53.770542  59.427979  59.350727   \n",
       "2021-04-24   52.33086  42.363464  42.446896  45.348194  47.627335  48.522785   \n",
       "2021-04-25  23.924461  27.239847  32.356823   26.68918  29.324911  37.532692   \n",
       "\n",
       "                   h6          h7         h8         h9  ...        h14  \\\n",
       "datetime                                                 ...              \n",
       "2021-04-19  71.974388   69.722542  65.369492  65.158302  ...  23.565584   \n",
       "2021-04-20   68.81855   85.885414  86.506653  80.017105  ...  68.546631   \n",
       "2021-04-21  72.787628   74.907455  78.885681  74.455757  ...  48.581028   \n",
       "2021-04-22  82.840225  104.435486  99.749054  82.615303  ...  49.365143   \n",
       "2021-04-23  70.832916   90.183525   93.75235  89.588074  ...  39.286949   \n",
       "2021-04-24  56.824352   76.114441  77.336159  74.222969  ...  37.592773   \n",
       "2021-04-25  33.992702   34.683556  36.366344  33.346539  ...  35.641953   \n",
       "\n",
       "                  h15        h16        h17        h18        h19        h20  \\\n",
       "datetime                                                                       \n",
       "2021-04-19  25.385315  24.713728  27.348341  55.395733  55.980904  60.439857   \n",
       "2021-04-20  61.599541  62.521587  75.318123   69.75972  65.061928  67.924103   \n",
       "2021-04-21  40.382378  38.735565  53.745159  70.423874  74.445663  79.467331   \n",
       "2021-04-22  45.754517  26.214909  44.017067  67.237808  83.828957   92.55204   \n",
       "2021-04-23  38.426029  37.998001  31.297068  52.786755  59.531208  79.540977   \n",
       "2021-04-24  38.583866   33.45454  34.931053  50.977459  56.893841  72.228065   \n",
       "2021-04-25  19.175934  36.298752  37.882275  42.195065  42.582962  51.995613   \n",
       "\n",
       "                  h21        h22        h23  \n",
       "datetime                                     \n",
       "2021-04-19   64.74189  54.941463  45.380295  \n",
       "2021-04-20  54.189461  42.140957  46.949501  \n",
       "2021-04-21  79.834908  64.844467  54.910393  \n",
       "2021-04-22  87.448654  69.267815  50.846241  \n",
       "2021-04-23  90.748146  74.317818  50.713448  \n",
       "2021-04-24  71.352715   52.23291    42.2155  \n",
       "2021-04-25  72.368828  48.550301  35.904152  \n",
       "\n",
       "[7 rows x 24 columns]"
      ]
     },
     "execution_count": 9,
     "metadata": {},
     "output_type": "execute_result"
    }
   ],
   "source": [
    "# Number of layers in DNN\n",
    "nlayers = 2\n",
    "\n",
    "# data to study\n",
    "dataset = 'imbalanceData_final'\n",
    "\n",
    "# 1 year is considered as 364 days (52 weeks)\n",
    "# years_test = 1\n",
    "\n",
    "# Optional parameters for selecting the test dataset\n",
    "begin_test_date = '2021-04-19'\n",
    "end_test_date = '2021-04-25'\n",
    "\n",
    "# for recalibration the validation and the training datasets are always shuffled\n",
    "shuffle_train = 1\n",
    "\n",
    "# Boolean that selects whether a data augmentation technique for DNNs is used\n",
    "data_augmentation = 0\n",
    "\n",
    "# Boolean that selects whether we start a new recalibration or we restart an existing one\n",
    "new_recalibration = 1\n",
    "\n",
    "# Number of years used in the training dataset for recalibration\n",
    "calibration_window = 1\n",
    "\n",
    "# Unique identifier to read the trials file of hyperparameter optimization\n",
    "experiment_id = 3\n",
    "\n",
    "# Set up the paths for saving data (this are the defaults for the library)\n",
    "# path_datasets_folder = os.path.join('.', 'datasets')\n",
    "# path_recalibration_folder = os.path.join('.', 'experimental_files')\n",
    "# path_hyperparameter_folder = os.path.join('.', 'experimental_files')\n",
    "\n",
    "evaluate_dnn_in_test_dataset(experiment_id,\n",
    "                             path_hyperparameter_folder = 'hyperparameter_dnn/imb_April',\n",
    "                             path_datasets_folder = 'final datasets',\n",
    "                             shuffle_train = shuffle_train,\n",
    "                             path_recalibration_folder = 'forecast results/DNN/imb_April',\n",
    "                             nlayers = nlayers,\n",
    "                             dataset = dataset,\n",
    "                             #years_test = years_test,\n",
    "                             data_augmentation = data_augmentation,\n",
    "                             calibration_window = calibration_window,\n",
    "                             new_recalibration = new_recalibration,\n",
    "                             begin_test_date = begin_test_date,\n",
    "                             end_test_date = end_test_date)"
   ]
  },
  {
   "cell_type": "code",
   "execution_count": 10,
   "id": "eabcae55",
   "metadata": {
    "scrolled": true
   },
   "outputs": [
    {
     "name": "stdout",
     "output_type": "stream",
     "text": [
      "Test datasets: 2021-04-19 00:00:00 - 2021-04-25 23:00:00\n"
     ]
    },
    {
     "name": "stderr",
     "output_type": "stream",
     "text": [
      "C:\\Users\\35250\\AppData\\Roaming\\Python\\Python38\\site-packages\\tensorflow\\python\\keras\\optimizer_v2\\optimizer_v2.py:374: UserWarning: The `lr` argument is deprecated, use `learning_rate` instead.\n",
      "  warnings.warn(\n"
     ]
    },
    {
     "name": "stdout",
     "output_type": "stream",
     "text": [
      "2021-04-19 - sMAPE: 7.33%  |  MAE: 5.526\n"
     ]
    },
    {
     "name": "stderr",
     "output_type": "stream",
     "text": [
      "C:\\Users\\35250\\AppData\\Roaming\\Python\\Python38\\site-packages\\tensorflow\\python\\keras\\optimizer_v2\\optimizer_v2.py:374: UserWarning: The `lr` argument is deprecated, use `learning_rate` instead.\n",
      "  warnings.warn(\n"
     ]
    },
    {
     "name": "stdout",
     "output_type": "stream",
     "text": [
      "2021-04-20 - sMAPE: 7.69%  |  MAE: 5.447\n"
     ]
    },
    {
     "name": "stderr",
     "output_type": "stream",
     "text": [
      "C:\\Users\\35250\\AppData\\Roaming\\Python\\Python38\\site-packages\\tensorflow\\python\\keras\\optimizer_v2\\optimizer_v2.py:374: UserWarning: The `lr` argument is deprecated, use `learning_rate` instead.\n",
      "  warnings.warn(\n"
     ]
    },
    {
     "name": "stdout",
     "output_type": "stream",
     "text": [
      "2021-04-21 - sMAPE: 7.50%  |  MAE: 5.218\n"
     ]
    },
    {
     "name": "stderr",
     "output_type": "stream",
     "text": [
      "C:\\Users\\35250\\AppData\\Roaming\\Python\\Python38\\site-packages\\tensorflow\\python\\keras\\optimizer_v2\\optimizer_v2.py:374: UserWarning: The `lr` argument is deprecated, use `learning_rate` instead.\n",
      "  warnings.warn(\n"
     ]
    },
    {
     "name": "stdout",
     "output_type": "stream",
     "text": [
      "2021-04-22 - sMAPE: 8.82%  |  MAE: 5.932\n"
     ]
    },
    {
     "name": "stderr",
     "output_type": "stream",
     "text": [
      "C:\\Users\\35250\\AppData\\Roaming\\Python\\Python38\\site-packages\\tensorflow\\python\\keras\\optimizer_v2\\optimizer_v2.py:374: UserWarning: The `lr` argument is deprecated, use `learning_rate` instead.\n",
      "  warnings.warn(\n"
     ]
    },
    {
     "name": "stdout",
     "output_type": "stream",
     "text": [
      "2021-04-23 - sMAPE: 9.64%  |  MAE: 6.339\n"
     ]
    },
    {
     "name": "stderr",
     "output_type": "stream",
     "text": [
      "C:\\Users\\35250\\AppData\\Roaming\\Python\\Python38\\site-packages\\tensorflow\\python\\keras\\optimizer_v2\\optimizer_v2.py:374: UserWarning: The `lr` argument is deprecated, use `learning_rate` instead.\n",
      "  warnings.warn(\n"
     ]
    },
    {
     "name": "stdout",
     "output_type": "stream",
     "text": [
      "2021-04-24 - sMAPE: 9.04%  |  MAE: 5.929\n"
     ]
    },
    {
     "name": "stderr",
     "output_type": "stream",
     "text": [
      "C:\\Users\\35250\\AppData\\Roaming\\Python\\Python38\\site-packages\\tensorflow\\python\\keras\\optimizer_v2\\optimizer_v2.py:374: UserWarning: The `lr` argument is deprecated, use `learning_rate` instead.\n",
      "  warnings.warn(\n"
     ]
    },
    {
     "name": "stdout",
     "output_type": "stream",
     "text": [
      "2021-04-25 - sMAPE: 9.33%  |  MAE: 6.024\n"
     ]
    },
    {
     "data": {
      "text/html": [
       "<div>\n",
       "<style scoped>\n",
       "    .dataframe tbody tr th:only-of-type {\n",
       "        vertical-align: middle;\n",
       "    }\n",
       "\n",
       "    .dataframe tbody tr th {\n",
       "        vertical-align: top;\n",
       "    }\n",
       "\n",
       "    .dataframe thead th {\n",
       "        text-align: right;\n",
       "    }\n",
       "</style>\n",
       "<table border=\"1\" class=\"dataframe\">\n",
       "  <thead>\n",
       "    <tr style=\"text-align: right;\">\n",
       "      <th></th>\n",
       "      <th>h0</th>\n",
       "      <th>h1</th>\n",
       "      <th>h2</th>\n",
       "      <th>h3</th>\n",
       "      <th>h4</th>\n",
       "      <th>h5</th>\n",
       "      <th>h6</th>\n",
       "      <th>h7</th>\n",
       "      <th>h8</th>\n",
       "      <th>h9</th>\n",
       "      <th>...</th>\n",
       "      <th>h14</th>\n",
       "      <th>h15</th>\n",
       "      <th>h16</th>\n",
       "      <th>h17</th>\n",
       "      <th>h18</th>\n",
       "      <th>h19</th>\n",
       "      <th>h20</th>\n",
       "      <th>h21</th>\n",
       "      <th>h22</th>\n",
       "      <th>h23</th>\n",
       "    </tr>\n",
       "    <tr>\n",
       "      <th>datetime</th>\n",
       "      <th></th>\n",
       "      <th></th>\n",
       "      <th></th>\n",
       "      <th></th>\n",
       "      <th></th>\n",
       "      <th></th>\n",
       "      <th></th>\n",
       "      <th></th>\n",
       "      <th></th>\n",
       "      <th></th>\n",
       "      <th></th>\n",
       "      <th></th>\n",
       "      <th></th>\n",
       "      <th></th>\n",
       "      <th></th>\n",
       "      <th></th>\n",
       "      <th></th>\n",
       "      <th></th>\n",
       "      <th></th>\n",
       "      <th></th>\n",
       "      <th></th>\n",
       "    </tr>\n",
       "  </thead>\n",
       "  <tbody>\n",
       "    <tr>\n",
       "      <th>2021-04-19</th>\n",
       "      <td>63.716446</td>\n",
       "      <td>58.077297</td>\n",
       "      <td>59.154617</td>\n",
       "      <td>58.822746</td>\n",
       "      <td>56.284851</td>\n",
       "      <td>56.070034</td>\n",
       "      <td>63.222801</td>\n",
       "      <td>71.871468</td>\n",
       "      <td>79.204498</td>\n",
       "      <td>81.044388</td>\n",
       "      <td>...</td>\n",
       "      <td>59.441864</td>\n",
       "      <td>57.734055</td>\n",
       "      <td>57.851593</td>\n",
       "      <td>64.220039</td>\n",
       "      <td>87.272331</td>\n",
       "      <td>99.039635</td>\n",
       "      <td>95.295372</td>\n",
       "      <td>84.046661</td>\n",
       "      <td>71.640923</td>\n",
       "      <td>61.528179</td>\n",
       "    </tr>\n",
       "    <tr>\n",
       "      <th>2021-04-20</th>\n",
       "      <td>59.494293</td>\n",
       "      <td>54.093914</td>\n",
       "      <td>54.187195</td>\n",
       "      <td>51.839787</td>\n",
       "      <td>49.538197</td>\n",
       "      <td>49.515938</td>\n",
       "      <td>57.243771</td>\n",
       "      <td>66.445572</td>\n",
       "      <td>75.128975</td>\n",
       "      <td>76.61618</td>\n",
       "      <td>...</td>\n",
       "      <td>55.762177</td>\n",
       "      <td>53.628807</td>\n",
       "      <td>55.350597</td>\n",
       "      <td>58.561489</td>\n",
       "      <td>77.049133</td>\n",
       "      <td>92.024757</td>\n",
       "      <td>89.860443</td>\n",
       "      <td>76.947357</td>\n",
       "      <td>65.287796</td>\n",
       "      <td>56.867355</td>\n",
       "    </tr>\n",
       "    <tr>\n",
       "      <th>2021-04-21</th>\n",
       "      <td>58.858551</td>\n",
       "      <td>54.358665</td>\n",
       "      <td>54.354805</td>\n",
       "      <td>53.679489</td>\n",
       "      <td>51.485012</td>\n",
       "      <td>52.649399</td>\n",
       "      <td>60.950665</td>\n",
       "      <td>71.461472</td>\n",
       "      <td>79.116798</td>\n",
       "      <td>77.897873</td>\n",
       "      <td>...</td>\n",
       "      <td>55.32888</td>\n",
       "      <td>51.43158</td>\n",
       "      <td>54.534649</td>\n",
       "      <td>58.677017</td>\n",
       "      <td>75.848869</td>\n",
       "      <td>87.210938</td>\n",
       "      <td>87.560806</td>\n",
       "      <td>77.664604</td>\n",
       "      <td>65.574837</td>\n",
       "      <td>58.152122</td>\n",
       "    </tr>\n",
       "    <tr>\n",
       "      <th>2021-04-22</th>\n",
       "      <td>54.312466</td>\n",
       "      <td>49.57518</td>\n",
       "      <td>49.993179</td>\n",
       "      <td>47.894783</td>\n",
       "      <td>46.115654</td>\n",
       "      <td>47.192886</td>\n",
       "      <td>53.567383</td>\n",
       "      <td>61.533592</td>\n",
       "      <td>67.408798</td>\n",
       "      <td>69.158783</td>\n",
       "      <td>...</td>\n",
       "      <td>52.482361</td>\n",
       "      <td>49.957863</td>\n",
       "      <td>50.827473</td>\n",
       "      <td>56.003551</td>\n",
       "      <td>71.622993</td>\n",
       "      <td>82.421463</td>\n",
       "      <td>79.043999</td>\n",
       "      <td>68.414406</td>\n",
       "      <td>59.810974</td>\n",
       "      <td>52.364708</td>\n",
       "    </tr>\n",
       "    <tr>\n",
       "      <th>2021-04-23</th>\n",
       "      <td>54.260605</td>\n",
       "      <td>49.029182</td>\n",
       "      <td>49.104439</td>\n",
       "      <td>47.100464</td>\n",
       "      <td>45.09499</td>\n",
       "      <td>47.256512</td>\n",
       "      <td>52.840042</td>\n",
       "      <td>61.089737</td>\n",
       "      <td>67.310493</td>\n",
       "      <td>69.587776</td>\n",
       "      <td>...</td>\n",
       "      <td>51.532307</td>\n",
       "      <td>50.891922</td>\n",
       "      <td>50.893646</td>\n",
       "      <td>55.268482</td>\n",
       "      <td>74.567726</td>\n",
       "      <td>83.689957</td>\n",
       "      <td>81.080307</td>\n",
       "      <td>69.553055</td>\n",
       "      <td>58.400494</td>\n",
       "      <td>51.066422</td>\n",
       "    </tr>\n",
       "    <tr>\n",
       "      <th>2021-04-24</th>\n",
       "      <td>61.119343</td>\n",
       "      <td>54.969749</td>\n",
       "      <td>54.738758</td>\n",
       "      <td>54.093861</td>\n",
       "      <td>51.939407</td>\n",
       "      <td>52.193169</td>\n",
       "      <td>56.076485</td>\n",
       "      <td>63.200214</td>\n",
       "      <td>69.83255</td>\n",
       "      <td>70.925545</td>\n",
       "      <td>...</td>\n",
       "      <td>53.128414</td>\n",
       "      <td>50.084694</td>\n",
       "      <td>50.407097</td>\n",
       "      <td>51.996601</td>\n",
       "      <td>65.126099</td>\n",
       "      <td>83.993668</td>\n",
       "      <td>85.197983</td>\n",
       "      <td>77.904877</td>\n",
       "      <td>66.991959</td>\n",
       "      <td>58.228012</td>\n",
       "    </tr>\n",
       "    <tr>\n",
       "      <th>2021-04-25</th>\n",
       "      <td>54.553246</td>\n",
       "      <td>49.265255</td>\n",
       "      <td>48.606186</td>\n",
       "      <td>46.958344</td>\n",
       "      <td>44.625763</td>\n",
       "      <td>44.564285</td>\n",
       "      <td>49.339226</td>\n",
       "      <td>54.82996</td>\n",
       "      <td>59.522461</td>\n",
       "      <td>62.466331</td>\n",
       "      <td>...</td>\n",
       "      <td>50.822113</td>\n",
       "      <td>47.64138</td>\n",
       "      <td>47.113098</td>\n",
       "      <td>50.4258</td>\n",
       "      <td>62.211948</td>\n",
       "      <td>78.668289</td>\n",
       "      <td>79.35434</td>\n",
       "      <td>70.748695</td>\n",
       "      <td>61.836559</td>\n",
       "      <td>52.3908</td>\n",
       "    </tr>\n",
       "  </tbody>\n",
       "</table>\n",
       "<p>7 rows × 24 columns</p>\n",
       "</div>"
      ],
      "text/plain": [
       "                   h0         h1         h2         h3         h4         h5  \\\n",
       "datetime                                                                       \n",
       "2021-04-19  63.716446  58.077297  59.154617  58.822746  56.284851  56.070034   \n",
       "2021-04-20  59.494293  54.093914  54.187195  51.839787  49.538197  49.515938   \n",
       "2021-04-21  58.858551  54.358665  54.354805  53.679489  51.485012  52.649399   \n",
       "2021-04-22  54.312466   49.57518  49.993179  47.894783  46.115654  47.192886   \n",
       "2021-04-23  54.260605  49.029182  49.104439  47.100464   45.09499  47.256512   \n",
       "2021-04-24  61.119343  54.969749  54.738758  54.093861  51.939407  52.193169   \n",
       "2021-04-25  54.553246  49.265255  48.606186  46.958344  44.625763  44.564285   \n",
       "\n",
       "                   h6         h7         h8         h9  ...        h14  \\\n",
       "datetime                                                ...              \n",
       "2021-04-19  63.222801  71.871468  79.204498  81.044388  ...  59.441864   \n",
       "2021-04-20  57.243771  66.445572  75.128975   76.61618  ...  55.762177   \n",
       "2021-04-21  60.950665  71.461472  79.116798  77.897873  ...   55.32888   \n",
       "2021-04-22  53.567383  61.533592  67.408798  69.158783  ...  52.482361   \n",
       "2021-04-23  52.840042  61.089737  67.310493  69.587776  ...  51.532307   \n",
       "2021-04-24  56.076485  63.200214   69.83255  70.925545  ...  53.128414   \n",
       "2021-04-25  49.339226   54.82996  59.522461  62.466331  ...  50.822113   \n",
       "\n",
       "                  h15        h16        h17        h18        h19        h20  \\\n",
       "datetime                                                                       \n",
       "2021-04-19  57.734055  57.851593  64.220039  87.272331  99.039635  95.295372   \n",
       "2021-04-20  53.628807  55.350597  58.561489  77.049133  92.024757  89.860443   \n",
       "2021-04-21   51.43158  54.534649  58.677017  75.848869  87.210938  87.560806   \n",
       "2021-04-22  49.957863  50.827473  56.003551  71.622993  82.421463  79.043999   \n",
       "2021-04-23  50.891922  50.893646  55.268482  74.567726  83.689957  81.080307   \n",
       "2021-04-24  50.084694  50.407097  51.996601  65.126099  83.993668  85.197983   \n",
       "2021-04-25   47.64138  47.113098    50.4258  62.211948  78.668289   79.35434   \n",
       "\n",
       "                  h21        h22        h23  \n",
       "datetime                                     \n",
       "2021-04-19  84.046661  71.640923  61.528179  \n",
       "2021-04-20  76.947357  65.287796  56.867355  \n",
       "2021-04-21  77.664604  65.574837  58.152122  \n",
       "2021-04-22  68.414406  59.810974  52.364708  \n",
       "2021-04-23  69.553055  58.400494  51.066422  \n",
       "2021-04-24  77.904877  66.991959  58.228012  \n",
       "2021-04-25  70.748695  61.836559    52.3908  \n",
       "\n",
       "[7 rows x 24 columns]"
      ]
     },
     "execution_count": 10,
     "metadata": {},
     "output_type": "execute_result"
    }
   ],
   "source": [
    "# Number of layers in DNN\n",
    "nlayers = 2\n",
    "\n",
    "# data to study\n",
    "dataset = 'auctionData_final'\n",
    "\n",
    "# 1 year is considered as 364 days (52 weeks)\n",
    "# years_test = 1\n",
    "\n",
    "# Optional parameters for selecting the test dataset\n",
    "begin_test_date = '2021-04-19'\n",
    "end_test_date = '2021-04-25'\n",
    "\n",
    "# for recalibration the validation and the training datasets are always shuffled\n",
    "shuffle_train = 1\n",
    "\n",
    "# Boolean that selects whether a data augmentation technique for DNNs is used\n",
    "data_augmentation = 0\n",
    "\n",
    "# Boolean that selects whether we start a new recalibration or we restart an existing one\n",
    "new_recalibration = 1\n",
    "\n",
    "# Number of years used in the training dataset for recalibration\n",
    "calibration_window = 1\n",
    "\n",
    "# Unique identifier to read the trials file of hyperparameter optimization\n",
    "experiment_id = 3\n",
    "\n",
    "# Set up the paths for saving data (this are the defaults for the library)\n",
    "# path_datasets_folder = os.path.join('.', 'datasets')\n",
    "# path_recalibration_folder = os.path.join('.', 'experimental_files')\n",
    "# path_hyperparameter_folder = os.path.join('.', 'experimental_files')\n",
    "\n",
    "evaluate_dnn_in_test_dataset(experiment_id,\n",
    "                             path_hyperparameter_folder = 'hyperparameter_dnn/auc_April',\n",
    "                             path_datasets_folder = 'final datasets',\n",
    "                             shuffle_train = shuffle_train,\n",
    "                             path_recalibration_folder = 'forecast results/DNN/auc_April',\n",
    "                             nlayers = nlayers,\n",
    "                             dataset = dataset,\n",
    "                             #years_test = years_test,\n",
    "                             data_augmentation = data_augmentation,\n",
    "                             calibration_window = calibration_window,\n",
    "                             new_recalibration = new_recalibration,\n",
    "                             begin_test_date = begin_test_date,\n",
    "                             end_test_date = end_test_date)"
   ]
  },
  {
   "cell_type": "code",
   "execution_count": 11,
   "id": "d68680e3",
   "metadata": {
    "scrolled": true
   },
   "outputs": [
    {
     "name": "stdout",
     "output_type": "stream",
     "text": [
      "Test datasets: 2021-01-18 00:00:00 - 2021-01-24 23:00:00\n"
     ]
    },
    {
     "name": "stderr",
     "output_type": "stream",
     "text": [
      "C:\\Users\\35250\\AppData\\Roaming\\Python\\Python38\\site-packages\\tensorflow\\python\\keras\\optimizer_v2\\optimizer_v2.py:374: UserWarning: The `lr` argument is deprecated, use `learning_rate` instead.\n",
      "  warnings.warn(\n"
     ]
    },
    {
     "name": "stdout",
     "output_type": "stream",
     "text": [
      "2021-01-18 - sMAPE: 9.04%  |  MAE: 6.272\n"
     ]
    },
    {
     "name": "stderr",
     "output_type": "stream",
     "text": [
      "C:\\Users\\35250\\AppData\\Roaming\\Python\\Python38\\site-packages\\tensorflow\\python\\keras\\optimizer_v2\\optimizer_v2.py:374: UserWarning: The `lr` argument is deprecated, use `learning_rate` instead.\n",
      "  warnings.warn(\n"
     ]
    },
    {
     "name": "stdout",
     "output_type": "stream",
     "text": [
      "2021-01-19 - sMAPE: 8.66%  |  MAE: 6.185\n"
     ]
    },
    {
     "name": "stderr",
     "output_type": "stream",
     "text": [
      "C:\\Users\\35250\\AppData\\Roaming\\Python\\Python38\\site-packages\\tensorflow\\python\\keras\\optimizer_v2\\optimizer_v2.py:374: UserWarning: The `lr` argument is deprecated, use `learning_rate` instead.\n",
      "  warnings.warn(\n"
     ]
    },
    {
     "name": "stdout",
     "output_type": "stream",
     "text": [
      "2021-01-20 - sMAPE: 8.44%  |  MAE: 5.775\n"
     ]
    },
    {
     "name": "stderr",
     "output_type": "stream",
     "text": [
      "C:\\Users\\35250\\AppData\\Roaming\\Python\\Python38\\site-packages\\tensorflow\\python\\keras\\optimizer_v2\\optimizer_v2.py:374: UserWarning: The `lr` argument is deprecated, use `learning_rate` instead.\n",
      "  warnings.warn(\n"
     ]
    },
    {
     "name": "stdout",
     "output_type": "stream",
     "text": [
      "2021-01-21 - sMAPE: 10.66%  |  MAE: 6.628\n"
     ]
    },
    {
     "name": "stderr",
     "output_type": "stream",
     "text": [
      "C:\\Users\\35250\\AppData\\Roaming\\Python\\Python38\\site-packages\\tensorflow\\python\\keras\\optimizer_v2\\optimizer_v2.py:374: UserWarning: The `lr` argument is deprecated, use `learning_rate` instead.\n",
      "  warnings.warn(\n"
     ]
    },
    {
     "name": "stdout",
     "output_type": "stream",
     "text": [
      "2021-01-22 - sMAPE: 11.75%  |  MAE: 7.583\n"
     ]
    },
    {
     "name": "stderr",
     "output_type": "stream",
     "text": [
      "C:\\Users\\35250\\AppData\\Roaming\\Python\\Python38\\site-packages\\tensorflow\\python\\keras\\optimizer_v2\\optimizer_v2.py:374: UserWarning: The `lr` argument is deprecated, use `learning_rate` instead.\n",
      "  warnings.warn(\n"
     ]
    },
    {
     "name": "stdout",
     "output_type": "stream",
     "text": [
      "2021-01-23 - sMAPE: 11.60%  |  MAE: 7.813\n"
     ]
    },
    {
     "name": "stderr",
     "output_type": "stream",
     "text": [
      "C:\\Users\\35250\\AppData\\Roaming\\Python\\Python38\\site-packages\\tensorflow\\python\\keras\\optimizer_v2\\optimizer_v2.py:374: UserWarning: The `lr` argument is deprecated, use `learning_rate` instead.\n",
      "  warnings.warn(\n"
     ]
    },
    {
     "name": "stdout",
     "output_type": "stream",
     "text": [
      "2021-01-24 - sMAPE: 12.01%  |  MAE: 8.292\n"
     ]
    },
    {
     "data": {
      "text/html": [
       "<div>\n",
       "<style scoped>\n",
       "    .dataframe tbody tr th:only-of-type {\n",
       "        vertical-align: middle;\n",
       "    }\n",
       "\n",
       "    .dataframe tbody tr th {\n",
       "        vertical-align: top;\n",
       "    }\n",
       "\n",
       "    .dataframe thead th {\n",
       "        text-align: right;\n",
       "    }\n",
       "</style>\n",
       "<table border=\"1\" class=\"dataframe\">\n",
       "  <thead>\n",
       "    <tr style=\"text-align: right;\">\n",
       "      <th></th>\n",
       "      <th>h0</th>\n",
       "      <th>h1</th>\n",
       "      <th>h2</th>\n",
       "      <th>h3</th>\n",
       "      <th>h4</th>\n",
       "      <th>h5</th>\n",
       "      <th>h6</th>\n",
       "      <th>h7</th>\n",
       "      <th>h8</th>\n",
       "      <th>h9</th>\n",
       "      <th>...</th>\n",
       "      <th>h14</th>\n",
       "      <th>h15</th>\n",
       "      <th>h16</th>\n",
       "      <th>h17</th>\n",
       "      <th>h18</th>\n",
       "      <th>h19</th>\n",
       "      <th>h20</th>\n",
       "      <th>h21</th>\n",
       "      <th>h22</th>\n",
       "      <th>h23</th>\n",
       "    </tr>\n",
       "    <tr>\n",
       "      <th>datetime</th>\n",
       "      <th></th>\n",
       "      <th></th>\n",
       "      <th></th>\n",
       "      <th></th>\n",
       "      <th></th>\n",
       "      <th></th>\n",
       "      <th></th>\n",
       "      <th></th>\n",
       "      <th></th>\n",
       "      <th></th>\n",
       "      <th></th>\n",
       "      <th></th>\n",
       "      <th></th>\n",
       "      <th></th>\n",
       "      <th></th>\n",
       "      <th></th>\n",
       "      <th></th>\n",
       "      <th></th>\n",
       "      <th></th>\n",
       "      <th></th>\n",
       "      <th></th>\n",
       "    </tr>\n",
       "  </thead>\n",
       "  <tbody>\n",
       "    <tr>\n",
       "      <th>2021-01-18</th>\n",
       "      <td>53.75658</td>\n",
       "      <td>53.425854</td>\n",
       "      <td>52.807697</td>\n",
       "      <td>48.34037</td>\n",
       "      <td>45.180237</td>\n",
       "      <td>43.158394</td>\n",
       "      <td>49.282047</td>\n",
       "      <td>60.198215</td>\n",
       "      <td>58.527878</td>\n",
       "      <td>64.836212</td>\n",
       "      <td>...</td>\n",
       "      <td>68.683113</td>\n",
       "      <td>65.906456</td>\n",
       "      <td>64.215805</td>\n",
       "      <td>96.376015</td>\n",
       "      <td>131.139404</td>\n",
       "      <td>83.139313</td>\n",
       "      <td>67.277451</td>\n",
       "      <td>58.039429</td>\n",
       "      <td>55.871273</td>\n",
       "      <td>49.765102</td>\n",
       "    </tr>\n",
       "    <tr>\n",
       "      <th>2021-01-19</th>\n",
       "      <td>65.129555</td>\n",
       "      <td>60.611591</td>\n",
       "      <td>58.326649</td>\n",
       "      <td>53.667145</td>\n",
       "      <td>48.604507</td>\n",
       "      <td>46.764164</td>\n",
       "      <td>53.059063</td>\n",
       "      <td>61.954277</td>\n",
       "      <td>59.962742</td>\n",
       "      <td>66.450111</td>\n",
       "      <td>...</td>\n",
       "      <td>65.705833</td>\n",
       "      <td>61.573311</td>\n",
       "      <td>59.471821</td>\n",
       "      <td>91.384949</td>\n",
       "      <td>125.991379</td>\n",
       "      <td>87.879875</td>\n",
       "      <td>74.388969</td>\n",
       "      <td>64.326424</td>\n",
       "      <td>59.769474</td>\n",
       "      <td>53.260723</td>\n",
       "    </tr>\n",
       "    <tr>\n",
       "      <th>2021-01-20</th>\n",
       "      <td>57.550125</td>\n",
       "      <td>52.896164</td>\n",
       "      <td>49.760586</td>\n",
       "      <td>43.222816</td>\n",
       "      <td>39.618908</td>\n",
       "      <td>39.900791</td>\n",
       "      <td>46.120937</td>\n",
       "      <td>54.885002</td>\n",
       "      <td>53.864716</td>\n",
       "      <td>60.516735</td>\n",
       "      <td>...</td>\n",
       "      <td>60.50172</td>\n",
       "      <td>56.421787</td>\n",
       "      <td>56.336246</td>\n",
       "      <td>74.511093</td>\n",
       "      <td>96.97168</td>\n",
       "      <td>73.104774</td>\n",
       "      <td>63.591663</td>\n",
       "      <td>55.731373</td>\n",
       "      <td>54.158009</td>\n",
       "      <td>50.748043</td>\n",
       "    </tr>\n",
       "    <tr>\n",
       "      <th>2021-01-21</th>\n",
       "      <td>50.238071</td>\n",
       "      <td>46.004898</td>\n",
       "      <td>42.672535</td>\n",
       "      <td>37.528904</td>\n",
       "      <td>34.342422</td>\n",
       "      <td>35.147087</td>\n",
       "      <td>42.615891</td>\n",
       "      <td>51.371582</td>\n",
       "      <td>50.938011</td>\n",
       "      <td>54.500416</td>\n",
       "      <td>...</td>\n",
       "      <td>51.70742</td>\n",
       "      <td>48.886063</td>\n",
       "      <td>48.70533</td>\n",
       "      <td>61.115826</td>\n",
       "      <td>74.427795</td>\n",
       "      <td>63.452919</td>\n",
       "      <td>60.89529</td>\n",
       "      <td>53.523331</td>\n",
       "      <td>51.764496</td>\n",
       "      <td>46.923584</td>\n",
       "    </tr>\n",
       "    <tr>\n",
       "      <th>2021-01-22</th>\n",
       "      <td>50.334793</td>\n",
       "      <td>48.331791</td>\n",
       "      <td>46.702091</td>\n",
       "      <td>42.543007</td>\n",
       "      <td>40.987072</td>\n",
       "      <td>42.963036</td>\n",
       "      <td>47.521729</td>\n",
       "      <td>57.621967</td>\n",
       "      <td>53.183777</td>\n",
       "      <td>59.806763</td>\n",
       "      <td>...</td>\n",
       "      <td>69.697884</td>\n",
       "      <td>69.32814</td>\n",
       "      <td>65.120361</td>\n",
       "      <td>103.615601</td>\n",
       "      <td>169.31662</td>\n",
       "      <td>106.085869</td>\n",
       "      <td>78.787056</td>\n",
       "      <td>63.528797</td>\n",
       "      <td>58.309715</td>\n",
       "      <td>53.436935</td>\n",
       "    </tr>\n",
       "    <tr>\n",
       "      <th>2021-01-23</th>\n",
       "      <td>64.895683</td>\n",
       "      <td>64.423958</td>\n",
       "      <td>63.991924</td>\n",
       "      <td>59.451008</td>\n",
       "      <td>53.192791</td>\n",
       "      <td>50.277637</td>\n",
       "      <td>50.126297</td>\n",
       "      <td>55.823677</td>\n",
       "      <td>53.932621</td>\n",
       "      <td>63.246639</td>\n",
       "      <td>...</td>\n",
       "      <td>74.142914</td>\n",
       "      <td>68.407532</td>\n",
       "      <td>65.790222</td>\n",
       "      <td>100.979408</td>\n",
       "      <td>174.009125</td>\n",
       "      <td>108.135666</td>\n",
       "      <td>80.144775</td>\n",
       "      <td>66.015221</td>\n",
       "      <td>61.604954</td>\n",
       "      <td>54.200825</td>\n",
       "    </tr>\n",
       "    <tr>\n",
       "      <th>2021-01-24</th>\n",
       "      <td>57.145737</td>\n",
       "      <td>55.127113</td>\n",
       "      <td>53.668442</td>\n",
       "      <td>50.193863</td>\n",
       "      <td>46.874725</td>\n",
       "      <td>43.999737</td>\n",
       "      <td>45.772583</td>\n",
       "      <td>47.285835</td>\n",
       "      <td>44.808006</td>\n",
       "      <td>52.564087</td>\n",
       "      <td>...</td>\n",
       "      <td>74.123535</td>\n",
       "      <td>69.527763</td>\n",
       "      <td>64.948242</td>\n",
       "      <td>92.823029</td>\n",
       "      <td>147.159637</td>\n",
       "      <td>100.340752</td>\n",
       "      <td>75.365723</td>\n",
       "      <td>61.800629</td>\n",
       "      <td>58.034733</td>\n",
       "      <td>52.326405</td>\n",
       "    </tr>\n",
       "  </tbody>\n",
       "</table>\n",
       "<p>7 rows × 24 columns</p>\n",
       "</div>"
      ],
      "text/plain": [
       "                   h0         h1         h2         h3         h4         h5  \\\n",
       "datetime                                                                       \n",
       "2021-01-18   53.75658  53.425854  52.807697   48.34037  45.180237  43.158394   \n",
       "2021-01-19  65.129555  60.611591  58.326649  53.667145  48.604507  46.764164   \n",
       "2021-01-20  57.550125  52.896164  49.760586  43.222816  39.618908  39.900791   \n",
       "2021-01-21  50.238071  46.004898  42.672535  37.528904  34.342422  35.147087   \n",
       "2021-01-22  50.334793  48.331791  46.702091  42.543007  40.987072  42.963036   \n",
       "2021-01-23  64.895683  64.423958  63.991924  59.451008  53.192791  50.277637   \n",
       "2021-01-24  57.145737  55.127113  53.668442  50.193863  46.874725  43.999737   \n",
       "\n",
       "                   h6         h7         h8         h9  ...        h14  \\\n",
       "datetime                                                ...              \n",
       "2021-01-18  49.282047  60.198215  58.527878  64.836212  ...  68.683113   \n",
       "2021-01-19  53.059063  61.954277  59.962742  66.450111  ...  65.705833   \n",
       "2021-01-20  46.120937  54.885002  53.864716  60.516735  ...   60.50172   \n",
       "2021-01-21  42.615891  51.371582  50.938011  54.500416  ...   51.70742   \n",
       "2021-01-22  47.521729  57.621967  53.183777  59.806763  ...  69.697884   \n",
       "2021-01-23  50.126297  55.823677  53.932621  63.246639  ...  74.142914   \n",
       "2021-01-24  45.772583  47.285835  44.808006  52.564087  ...  74.123535   \n",
       "\n",
       "                  h15        h16         h17         h18         h19  \\\n",
       "datetime                                                               \n",
       "2021-01-18  65.906456  64.215805   96.376015  131.139404   83.139313   \n",
       "2021-01-19  61.573311  59.471821   91.384949  125.991379   87.879875   \n",
       "2021-01-20  56.421787  56.336246   74.511093    96.97168   73.104774   \n",
       "2021-01-21  48.886063   48.70533   61.115826   74.427795   63.452919   \n",
       "2021-01-22   69.32814  65.120361  103.615601   169.31662  106.085869   \n",
       "2021-01-23  68.407532  65.790222  100.979408  174.009125  108.135666   \n",
       "2021-01-24  69.527763  64.948242   92.823029  147.159637  100.340752   \n",
       "\n",
       "                  h20        h21        h22        h23  \n",
       "datetime                                                \n",
       "2021-01-18  67.277451  58.039429  55.871273  49.765102  \n",
       "2021-01-19  74.388969  64.326424  59.769474  53.260723  \n",
       "2021-01-20  63.591663  55.731373  54.158009  50.748043  \n",
       "2021-01-21   60.89529  53.523331  51.764496  46.923584  \n",
       "2021-01-22  78.787056  63.528797  58.309715  53.436935  \n",
       "2021-01-23  80.144775  66.015221  61.604954  54.200825  \n",
       "2021-01-24  75.365723  61.800629  58.034733  52.326405  \n",
       "\n",
       "[7 rows x 24 columns]"
      ]
     },
     "execution_count": 11,
     "metadata": {},
     "output_type": "execute_result"
    }
   ],
   "source": [
    "# Number of layers in DNN\n",
    "nlayers = 2\n",
    "\n",
    "# data to study\n",
    "dataset = 'auctionData_final'\n",
    "\n",
    "# 1 year is considered as 364 days (52 weeks)\n",
    "# years_test = 1\n",
    "\n",
    "# Optional parameters for selecting the test dataset\n",
    "begin_test_date = '2021-01-18'\n",
    "end_test_date = '2021-01-24'\n",
    "\n",
    "# for recalibration the validation and the training datasets are always shuffled\n",
    "shuffle_train = 1\n",
    "\n",
    "# Boolean that selects whether a data augmentation technique for DNNs is used\n",
    "data_augmentation = 0\n",
    "\n",
    "# Boolean that selects whether we start a new recalibration or we restart an existing one\n",
    "new_recalibration = 1\n",
    "\n",
    "# Number of years used in the training dataset for recalibration\n",
    "calibration_window = 1\n",
    "\n",
    "# Unique identifier to read the trials file of hyperparameter optimization\n",
    "experiment_id = 3\n",
    "\n",
    "# Set up the paths for saving data (this are the defaults for the library)\n",
    "# path_datasets_folder = os.path.join('.', 'datasets')\n",
    "# path_recalibration_folder = os.path.join('.', 'experimental_files')\n",
    "# path_hyperparameter_folder = os.path.join('.', 'experimental_files')\n",
    "\n",
    "evaluate_dnn_in_test_dataset(experiment_id,\n",
    "                             path_hyperparameter_folder = 'hyperparameter_dnn/auc_January',\n",
    "                             path_datasets_folder = 'final datasets',\n",
    "                             shuffle_train = shuffle_train,\n",
    "                             path_recalibration_folder = 'forecast results/DNN/auc_January',\n",
    "                             nlayers = nlayers,\n",
    "                             dataset = dataset,\n",
    "                             #years_test = years_test,\n",
    "                             data_augmentation = data_augmentation,\n",
    "                             calibration_window = calibration_window,\n",
    "                             new_recalibration = new_recalibration,\n",
    "                             begin_test_date = begin_test_date,\n",
    "                             end_test_date = end_test_date)"
   ]
  },
  {
   "cell_type": "code",
   "execution_count": 12,
   "id": "8f946528",
   "metadata": {
    "scrolled": true
   },
   "outputs": [
    {
     "name": "stdout",
     "output_type": "stream",
     "text": [
      "Test datasets: 2020-10-19 00:00:00 - 2020-10-25 23:00:00\n"
     ]
    },
    {
     "name": "stderr",
     "output_type": "stream",
     "text": [
      "C:\\Users\\35250\\AppData\\Roaming\\Python\\Python38\\site-packages\\tensorflow\\python\\keras\\optimizer_v2\\optimizer_v2.py:374: UserWarning: The `lr` argument is deprecated, use `learning_rate` instead.\n",
      "  warnings.warn(\n"
     ]
    },
    {
     "name": "stdout",
     "output_type": "stream",
     "text": [
      "2020-10-19 - sMAPE: 7.31%  |  MAE: 3.302\n",
      "2020-10-20 - sMAPE: 8.96%  |  MAE: 3.975\n",
      "2020-10-21 - sMAPE: 10.52%  |  MAE: 4.818\n",
      "2020-10-22 - sMAPE: 9.92%  |  MAE: 4.432\n",
      "2020-10-23 - sMAPE: 9.88%  |  MAE: 4.409\n",
      "2020-10-24 - sMAPE: 12.21%  |  MAE: 5.236\n",
      "2020-10-25 - sMAPE: 20.64%  |  MAE: 6.107\n"
     ]
    },
    {
     "data": {
      "text/html": [
       "<div>\n",
       "<style scoped>\n",
       "    .dataframe tbody tr th:only-of-type {\n",
       "        vertical-align: middle;\n",
       "    }\n",
       "\n",
       "    .dataframe tbody tr th {\n",
       "        vertical-align: top;\n",
       "    }\n",
       "\n",
       "    .dataframe thead th {\n",
       "        text-align: right;\n",
       "    }\n",
       "</style>\n",
       "<table border=\"1\" class=\"dataframe\">\n",
       "  <thead>\n",
       "    <tr style=\"text-align: right;\">\n",
       "      <th></th>\n",
       "      <th>h0</th>\n",
       "      <th>h1</th>\n",
       "      <th>h2</th>\n",
       "      <th>h3</th>\n",
       "      <th>h4</th>\n",
       "      <th>h5</th>\n",
       "      <th>h6</th>\n",
       "      <th>h7</th>\n",
       "      <th>h8</th>\n",
       "      <th>h9</th>\n",
       "      <th>...</th>\n",
       "      <th>h14</th>\n",
       "      <th>h15</th>\n",
       "      <th>h16</th>\n",
       "      <th>h17</th>\n",
       "      <th>h18</th>\n",
       "      <th>h19</th>\n",
       "      <th>h20</th>\n",
       "      <th>h21</th>\n",
       "      <th>h22</th>\n",
       "      <th>h23</th>\n",
       "    </tr>\n",
       "    <tr>\n",
       "      <th>datetime</th>\n",
       "      <th></th>\n",
       "      <th></th>\n",
       "      <th></th>\n",
       "      <th></th>\n",
       "      <th></th>\n",
       "      <th></th>\n",
       "      <th></th>\n",
       "      <th></th>\n",
       "      <th></th>\n",
       "      <th></th>\n",
       "      <th></th>\n",
       "      <th></th>\n",
       "      <th></th>\n",
       "      <th></th>\n",
       "      <th></th>\n",
       "      <th></th>\n",
       "      <th></th>\n",
       "      <th></th>\n",
       "      <th></th>\n",
       "      <th></th>\n",
       "      <th></th>\n",
       "    </tr>\n",
       "  </thead>\n",
       "  <tbody>\n",
       "    <tr>\n",
       "      <th>2020-10-19</th>\n",
       "      <td>40.333107</td>\n",
       "      <td>37.572178</td>\n",
       "      <td>35.893391</td>\n",
       "      <td>33.225761</td>\n",
       "      <td>31.713106</td>\n",
       "      <td>32.726917</td>\n",
       "      <td>39.334251</td>\n",
       "      <td>47.848358</td>\n",
       "      <td>56.096294</td>\n",
       "      <td>56.097866</td>\n",
       "      <td>...</td>\n",
       "      <td>36.581264</td>\n",
       "      <td>35.714703</td>\n",
       "      <td>37.919239</td>\n",
       "      <td>44.690083</td>\n",
       "      <td>55.277935</td>\n",
       "      <td>62.478455</td>\n",
       "      <td>58.190231</td>\n",
       "      <td>45.631546</td>\n",
       "      <td>40.951462</td>\n",
       "      <td>34.227486</td>\n",
       "    </tr>\n",
       "    <tr>\n",
       "      <th>2020-10-20</th>\n",
       "      <td>30.657129</td>\n",
       "      <td>28.82976</td>\n",
       "      <td>27.926422</td>\n",
       "      <td>25.581648</td>\n",
       "      <td>24.119827</td>\n",
       "      <td>26.385324</td>\n",
       "      <td>32.617722</td>\n",
       "      <td>41.240002</td>\n",
       "      <td>45.071682</td>\n",
       "      <td>46.793648</td>\n",
       "      <td>...</td>\n",
       "      <td>35.520111</td>\n",
       "      <td>34.355198</td>\n",
       "      <td>34.993717</td>\n",
       "      <td>41.77005</td>\n",
       "      <td>50.298988</td>\n",
       "      <td>56.384682</td>\n",
       "      <td>52.615944</td>\n",
       "      <td>44.087234</td>\n",
       "      <td>39.289978</td>\n",
       "      <td>32.598263</td>\n",
       "    </tr>\n",
       "    <tr>\n",
       "      <th>2020-10-21</th>\n",
       "      <td>38.001358</td>\n",
       "      <td>34.238781</td>\n",
       "      <td>33.789627</td>\n",
       "      <td>32.008377</td>\n",
       "      <td>30.674421</td>\n",
       "      <td>32.999283</td>\n",
       "      <td>41.04895</td>\n",
       "      <td>50.136509</td>\n",
       "      <td>54.449692</td>\n",
       "      <td>56.180683</td>\n",
       "      <td>...</td>\n",
       "      <td>43.532589</td>\n",
       "      <td>43.062168</td>\n",
       "      <td>44.367523</td>\n",
       "      <td>52.273651</td>\n",
       "      <td>63.648388</td>\n",
       "      <td>70.860428</td>\n",
       "      <td>66.569542</td>\n",
       "      <td>53.620651</td>\n",
       "      <td>46.353004</td>\n",
       "      <td>38.965256</td>\n",
       "    </tr>\n",
       "    <tr>\n",
       "      <th>2020-10-22</th>\n",
       "      <td>39.18425</td>\n",
       "      <td>34.49593</td>\n",
       "      <td>31.655178</td>\n",
       "      <td>29.595253</td>\n",
       "      <td>27.871782</td>\n",
       "      <td>28.9013</td>\n",
       "      <td>34.987274</td>\n",
       "      <td>41.147686</td>\n",
       "      <td>43.903851</td>\n",
       "      <td>47.706646</td>\n",
       "      <td>...</td>\n",
       "      <td>41.634407</td>\n",
       "      <td>39.576504</td>\n",
       "      <td>39.583088</td>\n",
       "      <td>46.294075</td>\n",
       "      <td>55.978428</td>\n",
       "      <td>63.160576</td>\n",
       "      <td>59.627499</td>\n",
       "      <td>51.44437</td>\n",
       "      <td>46.227573</td>\n",
       "      <td>39.743565</td>\n",
       "    </tr>\n",
       "    <tr>\n",
       "      <th>2020-10-23</th>\n",
       "      <td>40.083904</td>\n",
       "      <td>36.649899</td>\n",
       "      <td>34.489952</td>\n",
       "      <td>32.122887</td>\n",
       "      <td>31.125614</td>\n",
       "      <td>31.979473</td>\n",
       "      <td>37.638241</td>\n",
       "      <td>43.95623</td>\n",
       "      <td>48.367504</td>\n",
       "      <td>50.581036</td>\n",
       "      <td>...</td>\n",
       "      <td>42.576271</td>\n",
       "      <td>41.330566</td>\n",
       "      <td>41.573872</td>\n",
       "      <td>49.450424</td>\n",
       "      <td>59.646214</td>\n",
       "      <td>62.500061</td>\n",
       "      <td>57.562675</td>\n",
       "      <td>48.968704</td>\n",
       "      <td>44.008255</td>\n",
       "      <td>38.006226</td>\n",
       "    </tr>\n",
       "    <tr>\n",
       "      <th>2020-10-24</th>\n",
       "      <td>37.798241</td>\n",
       "      <td>35.334785</td>\n",
       "      <td>33.487381</td>\n",
       "      <td>30.574898</td>\n",
       "      <td>28.296146</td>\n",
       "      <td>28.521048</td>\n",
       "      <td>31.983091</td>\n",
       "      <td>37.169586</td>\n",
       "      <td>39.558846</td>\n",
       "      <td>42.438084</td>\n",
       "      <td>...</td>\n",
       "      <td>38.108406</td>\n",
       "      <td>36.317329</td>\n",
       "      <td>35.616982</td>\n",
       "      <td>42.882328</td>\n",
       "      <td>50.741474</td>\n",
       "      <td>51.501625</td>\n",
       "      <td>46.172951</td>\n",
       "      <td>39.723469</td>\n",
       "      <td>38.036411</td>\n",
       "      <td>32.951126</td>\n",
       "    </tr>\n",
       "    <tr>\n",
       "      <th>2020-10-25</th>\n",
       "      <td>18.830605</td>\n",
       "      <td>15.674137</td>\n",
       "      <td>11.988569</td>\n",
       "      <td>9.330529</td>\n",
       "      <td>7.684093</td>\n",
       "      <td>9.504814</td>\n",
       "      <td>13.889583</td>\n",
       "      <td>19.331211</td>\n",
       "      <td>21.199982</td>\n",
       "      <td>25.519375</td>\n",
       "      <td>...</td>\n",
       "      <td>35.143906</td>\n",
       "      <td>34.859066</td>\n",
       "      <td>32.642376</td>\n",
       "      <td>42.354813</td>\n",
       "      <td>51.762932</td>\n",
       "      <td>57.191803</td>\n",
       "      <td>51.708519</td>\n",
       "      <td>45.145794</td>\n",
       "      <td>40.942791</td>\n",
       "      <td>34.431835</td>\n",
       "    </tr>\n",
       "  </tbody>\n",
       "</table>\n",
       "<p>7 rows × 24 columns</p>\n",
       "</div>"
      ],
      "text/plain": [
       "                   h0         h1         h2         h3         h4         h5  \\\n",
       "datetime                                                                       \n",
       "2020-10-19  40.333107  37.572178  35.893391  33.225761  31.713106  32.726917   \n",
       "2020-10-20  30.657129   28.82976  27.926422  25.581648  24.119827  26.385324   \n",
       "2020-10-21  38.001358  34.238781  33.789627  32.008377  30.674421  32.999283   \n",
       "2020-10-22   39.18425   34.49593  31.655178  29.595253  27.871782    28.9013   \n",
       "2020-10-23  40.083904  36.649899  34.489952  32.122887  31.125614  31.979473   \n",
       "2020-10-24  37.798241  35.334785  33.487381  30.574898  28.296146  28.521048   \n",
       "2020-10-25  18.830605  15.674137  11.988569   9.330529   7.684093   9.504814   \n",
       "\n",
       "                   h6         h7         h8         h9  ...        h14  \\\n",
       "datetime                                                ...              \n",
       "2020-10-19  39.334251  47.848358  56.096294  56.097866  ...  36.581264   \n",
       "2020-10-20  32.617722  41.240002  45.071682  46.793648  ...  35.520111   \n",
       "2020-10-21   41.04895  50.136509  54.449692  56.180683  ...  43.532589   \n",
       "2020-10-22  34.987274  41.147686  43.903851  47.706646  ...  41.634407   \n",
       "2020-10-23  37.638241   43.95623  48.367504  50.581036  ...  42.576271   \n",
       "2020-10-24  31.983091  37.169586  39.558846  42.438084  ...  38.108406   \n",
       "2020-10-25  13.889583  19.331211  21.199982  25.519375  ...  35.143906   \n",
       "\n",
       "                  h15        h16        h17        h18        h19        h20  \\\n",
       "datetime                                                                       \n",
       "2020-10-19  35.714703  37.919239  44.690083  55.277935  62.478455  58.190231   \n",
       "2020-10-20  34.355198  34.993717   41.77005  50.298988  56.384682  52.615944   \n",
       "2020-10-21  43.062168  44.367523  52.273651  63.648388  70.860428  66.569542   \n",
       "2020-10-22  39.576504  39.583088  46.294075  55.978428  63.160576  59.627499   \n",
       "2020-10-23  41.330566  41.573872  49.450424  59.646214  62.500061  57.562675   \n",
       "2020-10-24  36.317329  35.616982  42.882328  50.741474  51.501625  46.172951   \n",
       "2020-10-25  34.859066  32.642376  42.354813  51.762932  57.191803  51.708519   \n",
       "\n",
       "                  h21        h22        h23  \n",
       "datetime                                     \n",
       "2020-10-19  45.631546  40.951462  34.227486  \n",
       "2020-10-20  44.087234  39.289978  32.598263  \n",
       "2020-10-21  53.620651  46.353004  38.965256  \n",
       "2020-10-22   51.44437  46.227573  39.743565  \n",
       "2020-10-23  48.968704  44.008255  38.006226  \n",
       "2020-10-24  39.723469  38.036411  32.951126  \n",
       "2020-10-25  45.145794  40.942791  34.431835  \n",
       "\n",
       "[7 rows x 24 columns]"
      ]
     },
     "execution_count": 12,
     "metadata": {},
     "output_type": "execute_result"
    }
   ],
   "source": [
    "# Number of layers in DNN\n",
    "nlayers = 2\n",
    "\n",
    "# data to study\n",
    "dataset = 'auctionData_final'\n",
    "\n",
    "# 1 year is considered as 364 days (52 weeks)\n",
    "# years_test = 1\n",
    "\n",
    "# Optional parameters for selecting the test dataset\n",
    "begin_test_date = '2020-10-19'\n",
    "end_test_date = '2020-10-25'\n",
    "\n",
    "# for recalibration the validation and the training datasets are always shuffled\n",
    "shuffle_train = 1\n",
    "\n",
    "# Boolean that selects whether a data augmentation technique for DNNs is used\n",
    "data_augmentation = 0\n",
    "\n",
    "# Boolean that selects whether we start a new recalibration or we restart an existing one\n",
    "new_recalibration = 1\n",
    "\n",
    "# Number of years used in the training dataset for recalibration\n",
    "calibration_window = 1\n",
    "\n",
    "# Unique identifier to read the trials file of hyperparameter optimization\n",
    "experiment_id = 3\n",
    "\n",
    "# Set up the paths for saving data (this are the defaults for the library)\n",
    "# path_datasets_folder = os.path.join('.', 'datasets')\n",
    "# path_recalibration_folder = os.path.join('.', 'experimental_files')\n",
    "# path_hyperparameter_folder = os.path.join('.', 'experimental_files')\n",
    "\n",
    "evaluate_dnn_in_test_dataset(experiment_id,\n",
    "                             path_hyperparameter_folder = 'hyperparameter_dnn/auc_October',\n",
    "                             path_datasets_folder = 'final datasets',\n",
    "                             shuffle_train = shuffle_train,\n",
    "                             path_recalibration_folder = 'forecast results/DNN/auc_October',\n",
    "                             nlayers = nlayers,\n",
    "                             dataset = dataset,\n",
    "                             #years_test = years_test,\n",
    "                             data_augmentation = data_augmentation,\n",
    "                             calibration_window = calibration_window,\n",
    "                             new_recalibration = new_recalibration,\n",
    "                             begin_test_date = begin_test_date,\n",
    "                             end_test_date = end_test_date)"
   ]
  },
  {
   "cell_type": "code",
   "execution_count": 13,
   "id": "a4064543",
   "metadata": {
    "scrolled": true
   },
   "outputs": [
    {
     "name": "stdout",
     "output_type": "stream",
     "text": [
      "Test datasets: 2020-07-20 00:00:00 - 2020-07-26 23:00:00\n"
     ]
    },
    {
     "name": "stderr",
     "output_type": "stream",
     "text": [
      "C:\\Users\\35250\\AppData\\Roaming\\Python\\Python38\\site-packages\\tensorflow\\python\\keras\\optimizer_v2\\optimizer_v2.py:374: UserWarning: The `lr` argument is deprecated, use `learning_rate` instead.\n",
      "  warnings.warn(\n"
     ]
    },
    {
     "name": "stdout",
     "output_type": "stream",
     "text": [
      "2020-07-20 - sMAPE: 6.32%  |  MAE: 1.873\n",
      "2020-07-21 - sMAPE: 7.48%  |  MAE: 2.300\n",
      "2020-07-22 - sMAPE: 6.67%  |  MAE: 2.051\n",
      "2020-07-23 - sMAPE: 7.30%  |  MAE: 2.259\n",
      "2020-07-24 - sMAPE: 7.36%  |  MAE: 2.283\n",
      "2020-07-25 - sMAPE: 8.09%  |  MAE: 2.420\n",
      "2020-07-26 - sMAPE: 10.33%  |  MAE: 2.838\n"
     ]
    },
    {
     "data": {
      "text/html": [
       "<div>\n",
       "<style scoped>\n",
       "    .dataframe tbody tr th:only-of-type {\n",
       "        vertical-align: middle;\n",
       "    }\n",
       "\n",
       "    .dataframe tbody tr th {\n",
       "        vertical-align: top;\n",
       "    }\n",
       "\n",
       "    .dataframe thead th {\n",
       "        text-align: right;\n",
       "    }\n",
       "</style>\n",
       "<table border=\"1\" class=\"dataframe\">\n",
       "  <thead>\n",
       "    <tr style=\"text-align: right;\">\n",
       "      <th></th>\n",
       "      <th>h0</th>\n",
       "      <th>h1</th>\n",
       "      <th>h2</th>\n",
       "      <th>h3</th>\n",
       "      <th>h4</th>\n",
       "      <th>h5</th>\n",
       "      <th>h6</th>\n",
       "      <th>h7</th>\n",
       "      <th>h8</th>\n",
       "      <th>h9</th>\n",
       "      <th>...</th>\n",
       "      <th>h14</th>\n",
       "      <th>h15</th>\n",
       "      <th>h16</th>\n",
       "      <th>h17</th>\n",
       "      <th>h18</th>\n",
       "      <th>h19</th>\n",
       "      <th>h20</th>\n",
       "      <th>h21</th>\n",
       "      <th>h22</th>\n",
       "      <th>h23</th>\n",
       "    </tr>\n",
       "    <tr>\n",
       "      <th>datetime</th>\n",
       "      <th></th>\n",
       "      <th></th>\n",
       "      <th></th>\n",
       "      <th></th>\n",
       "      <th></th>\n",
       "      <th></th>\n",
       "      <th></th>\n",
       "      <th></th>\n",
       "      <th></th>\n",
       "      <th></th>\n",
       "      <th></th>\n",
       "      <th></th>\n",
       "      <th></th>\n",
       "      <th></th>\n",
       "      <th></th>\n",
       "      <th></th>\n",
       "      <th></th>\n",
       "      <th></th>\n",
       "      <th></th>\n",
       "      <th></th>\n",
       "      <th></th>\n",
       "    </tr>\n",
       "  </thead>\n",
       "  <tbody>\n",
       "    <tr>\n",
       "      <th>2020-07-20</th>\n",
       "      <td>32.215912</td>\n",
       "      <td>26.920258</td>\n",
       "      <td>25.665461</td>\n",
       "      <td>25.468367</td>\n",
       "      <td>24.906174</td>\n",
       "      <td>24.837185</td>\n",
       "      <td>29.941809</td>\n",
       "      <td>34.612434</td>\n",
       "      <td>35.316189</td>\n",
       "      <td>36.59285</td>\n",
       "      <td>...</td>\n",
       "      <td>30.573345</td>\n",
       "      <td>28.003286</td>\n",
       "      <td>28.850782</td>\n",
       "      <td>31.741991</td>\n",
       "      <td>36.793304</td>\n",
       "      <td>41.058399</td>\n",
       "      <td>40.602551</td>\n",
       "      <td>37.87706</td>\n",
       "      <td>34.774353</td>\n",
       "      <td>29.963409</td>\n",
       "    </tr>\n",
       "    <tr>\n",
       "      <th>2020-07-21</th>\n",
       "      <td>33.187237</td>\n",
       "      <td>28.713718</td>\n",
       "      <td>26.811626</td>\n",
       "      <td>25.62878</td>\n",
       "      <td>24.868408</td>\n",
       "      <td>26.598886</td>\n",
       "      <td>30.409475</td>\n",
       "      <td>35.380127</td>\n",
       "      <td>35.354485</td>\n",
       "      <td>38.721405</td>\n",
       "      <td>...</td>\n",
       "      <td>31.147188</td>\n",
       "      <td>30.061937</td>\n",
       "      <td>29.027203</td>\n",
       "      <td>33.229294</td>\n",
       "      <td>38.228004</td>\n",
       "      <td>42.911682</td>\n",
       "      <td>41.806709</td>\n",
       "      <td>37.686749</td>\n",
       "      <td>35.443474</td>\n",
       "      <td>30.534092</td>\n",
       "    </tr>\n",
       "    <tr>\n",
       "      <th>2020-07-22</th>\n",
       "      <td>31.33758</td>\n",
       "      <td>28.189005</td>\n",
       "      <td>25.881546</td>\n",
       "      <td>25.074306</td>\n",
       "      <td>23.424662</td>\n",
       "      <td>23.938826</td>\n",
       "      <td>28.858925</td>\n",
       "      <td>33.160446</td>\n",
       "      <td>33.691433</td>\n",
       "      <td>37.130337</td>\n",
       "      <td>...</td>\n",
       "      <td>29.991669</td>\n",
       "      <td>27.891621</td>\n",
       "      <td>28.554214</td>\n",
       "      <td>32.874428</td>\n",
       "      <td>37.37141</td>\n",
       "      <td>41.072544</td>\n",
       "      <td>39.579464</td>\n",
       "      <td>35.919682</td>\n",
       "      <td>33.798786</td>\n",
       "      <td>29.925133</td>\n",
       "    </tr>\n",
       "    <tr>\n",
       "      <th>2020-07-23</th>\n",
       "      <td>31.486322</td>\n",
       "      <td>27.437088</td>\n",
       "      <td>25.845753</td>\n",
       "      <td>25.058771</td>\n",
       "      <td>24.270897</td>\n",
       "      <td>25.765884</td>\n",
       "      <td>30.072176</td>\n",
       "      <td>34.207657</td>\n",
       "      <td>34.487823</td>\n",
       "      <td>37.185261</td>\n",
       "      <td>...</td>\n",
       "      <td>32.859108</td>\n",
       "      <td>30.300032</td>\n",
       "      <td>30.646294</td>\n",
       "      <td>34.503948</td>\n",
       "      <td>39.839909</td>\n",
       "      <td>43.269199</td>\n",
       "      <td>42.481365</td>\n",
       "      <td>38.037636</td>\n",
       "      <td>35.237469</td>\n",
       "      <td>31.369047</td>\n",
       "    </tr>\n",
       "    <tr>\n",
       "      <th>2020-07-24</th>\n",
       "      <td>32.665928</td>\n",
       "      <td>27.620722</td>\n",
       "      <td>25.728971</td>\n",
       "      <td>24.328009</td>\n",
       "      <td>24.438583</td>\n",
       "      <td>24.795761</td>\n",
       "      <td>28.784037</td>\n",
       "      <td>32.888298</td>\n",
       "      <td>33.761463</td>\n",
       "      <td>36.658905</td>\n",
       "      <td>...</td>\n",
       "      <td>30.297869</td>\n",
       "      <td>28.821579</td>\n",
       "      <td>28.462267</td>\n",
       "      <td>33.030933</td>\n",
       "      <td>37.797062</td>\n",
       "      <td>42.018227</td>\n",
       "      <td>41.274071</td>\n",
       "      <td>36.460625</td>\n",
       "      <td>34.630741</td>\n",
       "      <td>30.462793</td>\n",
       "    </tr>\n",
       "    <tr>\n",
       "      <th>2020-07-25</th>\n",
       "      <td>28.706818</td>\n",
       "      <td>22.350893</td>\n",
       "      <td>20.555443</td>\n",
       "      <td>18.50111</td>\n",
       "      <td>17.497776</td>\n",
       "      <td>16.80521</td>\n",
       "      <td>20.056313</td>\n",
       "      <td>22.637985</td>\n",
       "      <td>24.458078</td>\n",
       "      <td>29.088943</td>\n",
       "      <td>...</td>\n",
       "      <td>27.154621</td>\n",
       "      <td>24.724472</td>\n",
       "      <td>23.071821</td>\n",
       "      <td>29.86014</td>\n",
       "      <td>33.353489</td>\n",
       "      <td>38.214676</td>\n",
       "      <td>37.091415</td>\n",
       "      <td>34.550991</td>\n",
       "      <td>34.013199</td>\n",
       "      <td>32.06456</td>\n",
       "    </tr>\n",
       "    <tr>\n",
       "      <th>2020-07-26</th>\n",
       "      <td>33.700634</td>\n",
       "      <td>27.45727</td>\n",
       "      <td>24.439255</td>\n",
       "      <td>23.110083</td>\n",
       "      <td>21.396757</td>\n",
       "      <td>20.925859</td>\n",
       "      <td>19.566383</td>\n",
       "      <td>21.154533</td>\n",
       "      <td>23.785229</td>\n",
       "      <td>26.016968</td>\n",
       "      <td>...</td>\n",
       "      <td>24.565613</td>\n",
       "      <td>19.9286</td>\n",
       "      <td>20.213467</td>\n",
       "      <td>25.210915</td>\n",
       "      <td>29.92234</td>\n",
       "      <td>34.535999</td>\n",
       "      <td>35.15649</td>\n",
       "      <td>34.026901</td>\n",
       "      <td>33.597229</td>\n",
       "      <td>31.47485</td>\n",
       "    </tr>\n",
       "  </tbody>\n",
       "</table>\n",
       "<p>7 rows × 24 columns</p>\n",
       "</div>"
      ],
      "text/plain": [
       "                   h0         h1         h2         h3         h4         h5  \\\n",
       "datetime                                                                       \n",
       "2020-07-20  32.215912  26.920258  25.665461  25.468367  24.906174  24.837185   \n",
       "2020-07-21  33.187237  28.713718  26.811626   25.62878  24.868408  26.598886   \n",
       "2020-07-22   31.33758  28.189005  25.881546  25.074306  23.424662  23.938826   \n",
       "2020-07-23  31.486322  27.437088  25.845753  25.058771  24.270897  25.765884   \n",
       "2020-07-24  32.665928  27.620722  25.728971  24.328009  24.438583  24.795761   \n",
       "2020-07-25  28.706818  22.350893  20.555443   18.50111  17.497776   16.80521   \n",
       "2020-07-26  33.700634   27.45727  24.439255  23.110083  21.396757  20.925859   \n",
       "\n",
       "                   h6         h7         h8         h9  ...        h14  \\\n",
       "datetime                                                ...              \n",
       "2020-07-20  29.941809  34.612434  35.316189   36.59285  ...  30.573345   \n",
       "2020-07-21  30.409475  35.380127  35.354485  38.721405  ...  31.147188   \n",
       "2020-07-22  28.858925  33.160446  33.691433  37.130337  ...  29.991669   \n",
       "2020-07-23  30.072176  34.207657  34.487823  37.185261  ...  32.859108   \n",
       "2020-07-24  28.784037  32.888298  33.761463  36.658905  ...  30.297869   \n",
       "2020-07-25  20.056313  22.637985  24.458078  29.088943  ...  27.154621   \n",
       "2020-07-26  19.566383  21.154533  23.785229  26.016968  ...  24.565613   \n",
       "\n",
       "                  h15        h16        h17        h18        h19        h20  \\\n",
       "datetime                                                                       \n",
       "2020-07-20  28.003286  28.850782  31.741991  36.793304  41.058399  40.602551   \n",
       "2020-07-21  30.061937  29.027203  33.229294  38.228004  42.911682  41.806709   \n",
       "2020-07-22  27.891621  28.554214  32.874428   37.37141  41.072544  39.579464   \n",
       "2020-07-23  30.300032  30.646294  34.503948  39.839909  43.269199  42.481365   \n",
       "2020-07-24  28.821579  28.462267  33.030933  37.797062  42.018227  41.274071   \n",
       "2020-07-25  24.724472  23.071821   29.86014  33.353489  38.214676  37.091415   \n",
       "2020-07-26    19.9286  20.213467  25.210915   29.92234  34.535999   35.15649   \n",
       "\n",
       "                  h21        h22        h23  \n",
       "datetime                                     \n",
       "2020-07-20   37.87706  34.774353  29.963409  \n",
       "2020-07-21  37.686749  35.443474  30.534092  \n",
       "2020-07-22  35.919682  33.798786  29.925133  \n",
       "2020-07-23  38.037636  35.237469  31.369047  \n",
       "2020-07-24  36.460625  34.630741  30.462793  \n",
       "2020-07-25  34.550991  34.013199   32.06456  \n",
       "2020-07-26  34.026901  33.597229   31.47485  \n",
       "\n",
       "[7 rows x 24 columns]"
      ]
     },
     "execution_count": 13,
     "metadata": {},
     "output_type": "execute_result"
    }
   ],
   "source": [
    "# Number of layers in DNN\n",
    "nlayers = 2\n",
    "\n",
    "# data to study\n",
    "dataset = 'auctionData_final'\n",
    "\n",
    "# 1 year is considered as 364 days (52 weeks)\n",
    "# years_test = 1\n",
    "\n",
    "# Optional parameters for selecting the test dataset\n",
    "begin_test_date = '2020-07-20'\n",
    "end_test_date = '2020-07-26'\n",
    "\n",
    "# for recalibration the validation and the training datasets are always shuffled\n",
    "shuffle_train = 1\n",
    "\n",
    "# Boolean that selects whether a data augmentation technique for DNNs is used\n",
    "data_augmentation = 0\n",
    "\n",
    "# Boolean that selects whether we start a new recalibration or we restart an existing one\n",
    "new_recalibration = 1\n",
    "\n",
    "# Number of years used in the training dataset for recalibration\n",
    "calibration_window = 1\n",
    "\n",
    "# Unique identifier to read the trials file of hyperparameter optimization\n",
    "experiment_id = 3\n",
    "\n",
    "# Set up the paths for saving data (this are the defaults for the library)\n",
    "# path_datasets_folder = os.path.join('.', 'datasets')\n",
    "# path_recalibration_folder = os.path.join('.', 'experimental_files')\n",
    "# path_hyperparameter_folder = os.path.join('.', 'experimental_files')\n",
    "\n",
    "evaluate_dnn_in_test_dataset(experiment_id,\n",
    "                             path_hyperparameter_folder = 'hyperparameter_dnn/auc_July',\n",
    "                             path_datasets_folder = 'final datasets',\n",
    "                             shuffle_train = shuffle_train,\n",
    "                             path_recalibration_folder = 'forecast results/DNN/auc_July',\n",
    "                             nlayers = nlayers,\n",
    "                             dataset = dataset,\n",
    "                             #years_test = years_test,\n",
    "                             data_augmentation = data_augmentation,\n",
    "                             calibration_window = calibration_window,\n",
    "                             new_recalibration = new_recalibration,\n",
    "                             begin_test_date = begin_test_date,\n",
    "                             end_test_date = end_test_date)"
   ]
  },
  {
   "cell_type": "code",
   "execution_count": null,
   "id": "d22293cc",
   "metadata": {},
   "outputs": [],
   "source": []
  }
 ],
 "metadata": {
  "kernelspec": {
   "display_name": "Python 3",
   "language": "python",
   "name": "python3"
  },
  "language_info": {
   "codemirror_mode": {
    "name": "ipython",
    "version": 3
   },
   "file_extension": ".py",
   "mimetype": "text/x-python",
   "name": "python",
   "nbconvert_exporter": "python",
   "pygments_lexer": "ipython3",
   "version": "3.8.8"
  }
 },
 "nbformat": 4,
 "nbformat_minor": 5
}

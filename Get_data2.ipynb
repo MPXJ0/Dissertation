{
 "cells": [
  {
   "cell_type": "code",
   "execution_count": 1,
   "id": "85dab3be",
   "metadata": {},
   "outputs": [],
   "source": [
    "import pandas as pd\n",
    "from ElexonDataPortal import api\n",
    "client = api.Client('kk73d4dvvfdgjd5')"
   ]
  },
  {
   "cell_type": "markdown",
   "id": "41a7d0bd",
   "metadata": {},
   "source": [
    "2021"
   ]
  },
  {
   "cell_type": "code",
   "execution_count": 2,
   "id": "9a1f3b69",
   "metadata": {},
   "outputs": [
    {
     "name": "stderr",
     "output_type": "stream",
     "text": [
      "B0620: 100%|██████████| 5758/5758 [19:01<00:00,  5.05it/s]  \n"
     ]
    }
   ],
   "source": [
    "# DA Load Forecast of 2021\n",
    "start_date = '2021-01-01'\n",
    "end_date = '2021-05-01'\n",
    "LF21 = client.get_B0620(start_date, end_date)"
   ]
  },
  {
   "cell_type": "code",
   "execution_count": 3,
   "id": "5c547659",
   "metadata": {},
   "outputs": [],
   "source": [
    "# save file\n",
    "df_LF21 = LF21[['local_datetime','settlementPeriod','quantity']]\n",
    "df_LF21.to_csv('DA_Load_Forecast_2021.csv',index=False)"
   ]
  },
  {
   "cell_type": "markdown",
   "id": "39e2fb94",
   "metadata": {},
   "source": [
    "2019"
   ]
  },
  {
   "cell_type": "code",
   "execution_count": 2,
   "id": "8a6139fd",
   "metadata": {},
   "outputs": [
    {
     "name": "stderr",
     "output_type": "stream",
     "text": [
      "B0620: 100%|██████████| 17520/17520 [37:29<00:00,  7.79it/s]  \n"
     ]
    }
   ],
   "source": [
    "# DA Load Forecast of 2019\n",
    "start_date = '2019-01-01'\n",
    "end_date = '2020-01-01'\n",
    "LF19 = client.get_B0620(start_date, end_date)"
   ]
  },
  {
   "cell_type": "code",
   "execution_count": 3,
   "id": "a96f4952",
   "metadata": {},
   "outputs": [],
   "source": [
    "# save file\n",
    "df_LF19 = LF19[['local_datetime','settlementPeriod','quantity']]\n",
    "df_LF19.to_csv('DA_Load_Forecast_2019.csv',index=False)"
   ]
  },
  {
   "cell_type": "markdown",
   "id": "39b12516",
   "metadata": {},
   "source": [
    "2018"
   ]
  },
  {
   "cell_type": "code",
   "execution_count": 2,
   "id": "b3ad379b",
   "metadata": {},
   "outputs": [
    {
     "name": "stderr",
     "output_type": "stream",
     "text": [
      "B0620: 100%|██████████| 17520/17520 [34:05<00:00,  8.57it/s]  \n"
     ]
    }
   ],
   "source": [
    "# DA Load Forecast of 2018\n",
    "start_date = '2018-01-01'\n",
    "end_date = '2019-01-01'\n",
    "LF18 = client.get_B0620(start_date, end_date)"
   ]
  },
  {
   "cell_type": "code",
   "execution_count": 3,
   "id": "7222f198",
   "metadata": {},
   "outputs": [],
   "source": [
    "# save file\n",
    "df_LF18 = LF18[['local_datetime','settlementPeriod','quantity']]\n",
    "df_LF18.to_csv('DA_Load_Forecast_2018.csv',index=False)"
   ]
  },
  {
   "cell_type": "markdown",
   "id": "0b64dec2",
   "metadata": {},
   "source": [
    "2017"
   ]
  },
  {
   "cell_type": "code",
   "execution_count": 2,
   "id": "cf0b2ed5",
   "metadata": {},
   "outputs": [
    {
     "name": "stderr",
     "output_type": "stream",
     "text": [
      "B0620: 100%|██████████| 17520/17520 [34:45<00:00,  8.40it/s]  \n"
     ]
    }
   ],
   "source": [
    "# DA Load Forecast of 2017\n",
    "start_date = '2017-01-01'\n",
    "end_date = '2018-01-01'\n",
    "LF17 = client.get_B0620(start_date, end_date)"
   ]
  },
  {
   "cell_type": "code",
   "execution_count": 3,
   "id": "f83f04cd",
   "metadata": {},
   "outputs": [],
   "source": [
    "# save file\n",
    "df_LF17 = LF17[['local_datetime','settlementPeriod','quantity']]\n",
    "df_LF17.to_csv('DA_Load_Forecast_2017.csv',index=False)"
   ]
  },
  {
   "cell_type": "markdown",
   "id": "df701289",
   "metadata": {},
   "source": [
    "2016"
   ]
  },
  {
   "cell_type": "code",
   "execution_count": 2,
   "id": "d392fffc",
   "metadata": {},
   "outputs": [
    {
     "name": "stderr",
     "output_type": "stream",
     "text": [
      "B0620: 100%|██████████| 17568/17568 [34:21<00:00,  8.52it/s]  \n"
     ]
    }
   ],
   "source": [
    "# DA Load Forecast of 2016\n",
    "start_date = '2016-01-01'\n",
    "end_date = '2017-01-01'\n",
    "LF16 = client.get_B0620(start_date, end_date)"
   ]
  },
  {
   "cell_type": "code",
   "execution_count": 3,
   "id": "15b751f8",
   "metadata": {},
   "outputs": [],
   "source": [
    "# save file\n",
    "df_LF16 = LF16[['local_datetime','settlementPeriod','quantity']]\n",
    "df_LF16.to_csv('DA_Load_Forecast_2016.csv',index=False)"
   ]
  },
  {
   "cell_type": "code",
   "execution_count": null,
   "id": "a630b25b",
   "metadata": {},
   "outputs": [],
   "source": []
  },
  {
   "cell_type": "markdown",
   "id": "a052c6e0",
   "metadata": {},
   "source": [
    "2021"
   ]
  },
  {
   "cell_type": "code",
   "execution_count": 4,
   "id": "c5d0d107",
   "metadata": {},
   "outputs": [
    {
     "name": "stderr",
     "output_type": "stream",
     "text": [
      "B0610:  18%|█▊        | 1062/5758 [03:10<09:39,  8.10it/s] C:\\Users\\35250\\anaconda3\\lib\\site-packages\\ElexonDataPortal\\dev\\utils.py:29: UserWarning: Data request was succesful but no content was returned\n",
      "  warn(f'Data request was succesful but no content was returned')\n",
      "B0610: 100%|██████████| 5758/5758 [13:37<00:00,  7.04it/s]\n"
     ]
    }
   ],
   "source": [
    "# Actual Load of 2021\n",
    "start_date = '2021-01-01'\n",
    "end_date = '2021-05-01'\n",
    "AL21 = client.get_B0610(start_date, end_date)"
   ]
  },
  {
   "cell_type": "code",
   "execution_count": 5,
   "id": "e888a323",
   "metadata": {},
   "outputs": [],
   "source": [
    "# save file\n",
    "df_AL21 = AL21[['local_datetime','settlementPeriod','quantity']]\n",
    "df_AL21.to_csv('Actual_Load_2021.csv',index=False)"
   ]
  },
  {
   "cell_type": "markdown",
   "id": "b887f0b9",
   "metadata": {},
   "source": [
    "2020"
   ]
  },
  {
   "cell_type": "code",
   "execution_count": 2,
   "id": "742bd93d",
   "metadata": {},
   "outputs": [
    {
     "name": "stderr",
     "output_type": "stream",
     "text": [
      "B0610:  16%|█▌        | 2796/17568 [05:22<50:18,  4.89it/s]  C:\\Users\\35250\\anaconda3\\lib\\site-packages\\ElexonDataPortal\\dev\\utils.py:29: UserWarning: Data request was succesful but no content was returned\n",
      "  warn(f'Data request was succesful but no content was returned')\n",
      "B0610: 100%|██████████| 17568/17568 [34:17<00:00,  8.54it/s]  \n"
     ]
    }
   ],
   "source": [
    "# Actual Load of 2020\n",
    "start_date = '2020-01-01'\n",
    "end_date = '2021-01-01'\n",
    "AL20 = client.get_B0610(start_date, end_date)"
   ]
  },
  {
   "cell_type": "code",
   "execution_count": 3,
   "id": "2e5f4043",
   "metadata": {},
   "outputs": [],
   "source": [
    "# save file\n",
    "df_AL20 = AL20[['local_datetime','settlementPeriod','quantity']]\n",
    "df_AL20.to_csv('Actual_Load_2020.csv',index=False)"
   ]
  },
  {
   "cell_type": "markdown",
   "id": "90351585",
   "metadata": {},
   "source": [
    "2019"
   ]
  },
  {
   "cell_type": "code",
   "execution_count": 2,
   "id": "ba3d1ab2",
   "metadata": {},
   "outputs": [
    {
     "name": "stderr",
     "output_type": "stream",
     "text": [
      "B0610:  48%|████▊     | 8416/17520 [16:24<14:56, 10.15it/s]  C:\\Users\\35250\\anaconda3\\lib\\site-packages\\ElexonDataPortal\\dev\\utils.py:29: UserWarning: Data request was succesful but no content was returned\n",
      "  warn(f'Data request was succesful but no content was returned')\n",
      "B0610: 100%|██████████| 17520/17520 [33:36<00:00,  8.69it/s]  \n"
     ]
    }
   ],
   "source": [
    "# Actual Load of 2019\n",
    "start_date = '2019-01-01'\n",
    "end_date = '2020-01-01'\n",
    "AL19 = client.get_B0610(start_date, end_date)"
   ]
  },
  {
   "cell_type": "code",
   "execution_count": 3,
   "id": "ce29b3f9",
   "metadata": {},
   "outputs": [],
   "source": [
    "# save file\n",
    "df_AL19 = AL19[['local_datetime','settlementPeriod','quantity']]\n",
    "df_AL19.to_csv('Actual_Load_2019.csv',index=False)"
   ]
  },
  {
   "cell_type": "markdown",
   "id": "d72742b1",
   "metadata": {},
   "source": [
    "2018"
   ]
  },
  {
   "cell_type": "code",
   "execution_count": 4,
   "id": "2c0f0094",
   "metadata": {},
   "outputs": [
    {
     "name": "stderr",
     "output_type": "stream",
     "text": [
      "B0610: 100%|██████████| 17520/17520 [33:03<00:00,  8.83it/s]  \n"
     ]
    }
   ],
   "source": [
    "# Actual Load of 2018\n",
    "start_date = '2018-01-01'\n",
    "end_date = '2019-01-01'\n",
    "AL18 = client.get_B0610(start_date, end_date)"
   ]
  },
  {
   "cell_type": "code",
   "execution_count": 5,
   "id": "3bdf1707",
   "metadata": {},
   "outputs": [],
   "source": [
    "# save file\n",
    "df_AL18 = AL18[['local_datetime','settlementPeriod','quantity']]\n",
    "df_AL18.to_csv('Actual_Load_2018.csv',index=False)"
   ]
  },
  {
   "cell_type": "markdown",
   "id": "97d54010",
   "metadata": {},
   "source": [
    "2017"
   ]
  },
  {
   "cell_type": "code",
   "execution_count": 2,
   "id": "b5822311",
   "metadata": {},
   "outputs": [
    {
     "name": "stderr",
     "output_type": "stream",
     "text": [
      "B0610:  17%|█▋        | 2977/17520 [08:14<2:04:01,  1.95it/s] C:\\Users\\35250\\anaconda3\\lib\\site-packages\\ElexonDataPortal\\dev\\utils.py:29: UserWarning: Data request was succesful but no content was returned\n",
      "  warn(f'Data request was succesful but no content was returned')\n",
      "B0610: 100%|██████████| 17520/17520 [55:28<00:00,  5.26it/s]  \n"
     ]
    }
   ],
   "source": [
    "# Actual Load of 2017\n",
    "start_date = '2017-01-01'\n",
    "end_date = '2018-01-01'\n",
    "AL17 = client.get_B0610(start_date, end_date)"
   ]
  },
  {
   "cell_type": "code",
   "execution_count": 3,
   "id": "3ae96f35",
   "metadata": {},
   "outputs": [],
   "source": [
    "# save file\n",
    "df_AL17 = AL17[['local_datetime','settlementPeriod','quantity']]\n",
    "df_AL17.to_csv('Actual_Load_2017.csv',index=False)"
   ]
  },
  {
   "cell_type": "markdown",
   "id": "a6babf61",
   "metadata": {},
   "source": [
    "2016"
   ]
  },
  {
   "cell_type": "code",
   "execution_count": 4,
   "id": "01c1ead9",
   "metadata": {},
   "outputs": [
    {
     "name": "stderr",
     "output_type": "stream",
     "text": [
      "B0610: 100%|██████████| 17568/17568 [1:05:54<00:00,  4.44it/s]\n"
     ]
    }
   ],
   "source": [
    "# Actual Load of 2016\n",
    "start_date = '2016-01-01'\n",
    "end_date = '2017-01-01'\n",
    "AL16 = client.get_B0610(start_date, end_date)"
   ]
  },
  {
   "cell_type": "code",
   "execution_count": 5,
   "id": "1df5be9c",
   "metadata": {},
   "outputs": [],
   "source": [
    "# save file\n",
    "df_AL16 = AL16[['local_datetime','settlementPeriod','quantity']]\n",
    "df_AL16.to_csv('Actual_Load_2016.csv',index=False)"
   ]
  }
 ],
 "metadata": {
  "kernelspec": {
   "display_name": "Python 3",
   "language": "python",
   "name": "python3"
  },
  "language_info": {
   "codemirror_mode": {
    "name": "ipython",
    "version": 3
   },
   "file_extension": ".py",
   "mimetype": "text/x-python",
   "name": "python",
   "nbconvert_exporter": "python",
   "pygments_lexer": "ipython3",
   "version": "3.8.8"
  }
 },
 "nbformat": 4,
 "nbformat_minor": 5
}

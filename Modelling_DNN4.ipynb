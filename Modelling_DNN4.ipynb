{
 "cells": [
  {
   "cell_type": "code",
   "execution_count": 1,
   "id": "b525b39b",
   "metadata": {},
   "outputs": [],
   "source": [
    "import pandas as pd\n",
    "import numpy as np\n",
    "import os\n",
    "\n",
    "from epftoolbox.models import hyperparameter_optimizer\n",
    "from epftoolbox.models import evaluate_dnn_in_test_dataset"
   ]
  },
  {
   "cell_type": "code",
   "execution_count": 3,
   "id": "41d52d5d",
   "metadata": {
    "scrolled": true
   },
   "outputs": [
    {
     "name": "stdout",
     "output_type": "stream",
     "text": [
      "Test datasets: 2020-10-19 00:00:00 - 2021-01-17 23:00:00\n"
     ]
    },
    {
     "name": "stderr",
     "output_type": "stream",
     "text": [
      "C:\\Users\\35250\\AppData\\Roaming\\Python\\Python38\\site-packages\\tensorflow\\python\\keras\\optimizer_v2\\optimizer_v2.py:374: UserWarning: The `lr` argument is deprecated, use `learning_rate` instead.\n",
      "  warnings.warn(\n"
     ]
    },
    {
     "name": "stdout",
     "output_type": "stream",
     "text": [
      "\n",
      "\n",
      "Tested 1/50 iterations.\n",
      "Best MAE - Validation Dataset\n",
      "  MAE: 32.9 | sMAPE: 73.46 %\n",
      "\n",
      "Best MAE - Test Dataset\n",
      "  MAE: 45.6 | sMAPE: 64.79 %\n"
     ]
    },
    {
     "name": "stderr",
     "output_type": "stream",
     "text": [
      "C:\\Users\\35250\\AppData\\Roaming\\Python\\Python38\\site-packages\\tensorflow\\python\\keras\\optimizer_v2\\optimizer_v2.py:374: UserWarning: The `lr` argument is deprecated, use `learning_rate` instead.\n",
      "  warnings.warn(\n"
     ]
    },
    {
     "name": "stdout",
     "output_type": "stream",
     "text": [
      "\n",
      "\n",
      "Tested 2/50 iterations.\n",
      "Best MAE - Validation Dataset\n",
      "  MAE: 22.7 | sMAPE: 71.77 %\n",
      "\n",
      "Best MAE - Test Dataset\n",
      "  MAE: 38.9 | sMAPE: 79.74 %\n"
     ]
    },
    {
     "name": "stderr",
     "output_type": "stream",
     "text": [
      "C:\\Users\\35250\\AppData\\Roaming\\Python\\Python38\\site-packages\\tensorflow\\python\\keras\\optimizer_v2\\optimizer_v2.py:374: UserWarning: The `lr` argument is deprecated, use `learning_rate` instead.\n",
      "  warnings.warn(\n"
     ]
    },
    {
     "name": "stdout",
     "output_type": "stream",
     "text": [
      "\n",
      "\n",
      "Tested 3/50 iterations.\n",
      "Best MAE - Validation Dataset\n",
      "  MAE: 17.2 | sMAPE: 57.49 %\n",
      "\n",
      "Best MAE - Test Dataset\n",
      "  MAE: 34.9 | sMAPE: 66.07 %\n",
      "\n",
      "\n",
      "Tested 4/50 iterations.\n",
      "Best MAE - Validation Dataset\n",
      "  MAE: 13.3 | sMAPE: 50.60 %\n",
      "\n",
      "Best MAE - Test Dataset\n",
      "  MAE: 30.8 | sMAPE: 58.90 %\n"
     ]
    },
    {
     "name": "stderr",
     "output_type": "stream",
     "text": [
      "C:\\Users\\35250\\AppData\\Roaming\\Python\\Python38\\site-packages\\tensorflow\\python\\keras\\optimizer_v2\\optimizer_v2.py:374: UserWarning: The `lr` argument is deprecated, use `learning_rate` instead.\n",
      "  warnings.warn(\n"
     ]
    },
    {
     "name": "stdout",
     "output_type": "stream",
     "text": [
      "\n",
      "\n",
      "Tested 5/50 iterations.\n",
      "Best MAE - Validation Dataset\n",
      "  MAE: 13.3 | sMAPE: 50.60 %\n",
      "\n",
      "Best MAE - Test Dataset\n",
      "  MAE: 30.8 | sMAPE: 58.90 %\n"
     ]
    },
    {
     "name": "stderr",
     "output_type": "stream",
     "text": [
      "C:\\Users\\35250\\AppData\\Roaming\\Python\\Python38\\site-packages\\tensorflow\\python\\keras\\optimizer_v2\\optimizer_v2.py:374: UserWarning: The `lr` argument is deprecated, use `learning_rate` instead.\n",
      "  warnings.warn(\n"
     ]
    },
    {
     "name": "stdout",
     "output_type": "stream",
     "text": [
      "\n",
      "\n",
      "Tested 6/50 iterations.\n",
      "Best MAE - Validation Dataset\n",
      "  MAE: 13.3 | sMAPE: 50.60 %\n",
      "\n",
      "Best MAE - Test Dataset\n",
      "  MAE: 30.8 | sMAPE: 58.90 %\n"
     ]
    },
    {
     "name": "stderr",
     "output_type": "stream",
     "text": [
      "C:\\Users\\35250\\AppData\\Roaming\\Python\\Python38\\site-packages\\tensorflow\\python\\keras\\optimizer_v2\\optimizer_v2.py:374: UserWarning: The `lr` argument is deprecated, use `learning_rate` instead.\n",
      "  warnings.warn(\n"
     ]
    },
    {
     "name": "stdout",
     "output_type": "stream",
     "text": [
      "\n",
      "\n",
      "Tested 7/50 iterations.\n",
      "Best MAE - Validation Dataset\n",
      "  MAE: 13.3 | sMAPE: 50.60 %\n",
      "\n",
      "Best MAE - Test Dataset\n",
      "  MAE: 30.8 | sMAPE: 58.90 %\n"
     ]
    },
    {
     "name": "stderr",
     "output_type": "stream",
     "text": [
      "C:\\Users\\35250\\AppData\\Roaming\\Python\\Python38\\site-packages\\tensorflow\\python\\keras\\optimizer_v2\\optimizer_v2.py:374: UserWarning: The `lr` argument is deprecated, use `learning_rate` instead.\n",
      "  warnings.warn(\n"
     ]
    },
    {
     "name": "stdout",
     "output_type": "stream",
     "text": [
      "\n",
      "\n",
      "Tested 8/50 iterations.\n",
      "Best MAE - Validation Dataset\n",
      "  MAE: 13.3 | sMAPE: 50.60 %\n",
      "\n",
      "Best MAE - Test Dataset\n",
      "  MAE: 30.8 | sMAPE: 58.90 %\n"
     ]
    },
    {
     "name": "stderr",
     "output_type": "stream",
     "text": [
      "C:\\Users\\35250\\AppData\\Roaming\\Python\\Python38\\site-packages\\tensorflow\\python\\keras\\optimizer_v2\\optimizer_v2.py:374: UserWarning: The `lr` argument is deprecated, use `learning_rate` instead.\n",
      "  warnings.warn(\n"
     ]
    },
    {
     "name": "stdout",
     "output_type": "stream",
     "text": [
      "\n",
      "\n",
      "Tested 9/50 iterations.\n",
      "Best MAE - Validation Dataset\n",
      "  MAE: 11.9 | sMAPE: 45.76 %\n",
      "\n",
      "Best MAE - Test Dataset\n",
      "  MAE: 27.5 | sMAPE: 50.64 %\n"
     ]
    },
    {
     "name": "stderr",
     "output_type": "stream",
     "text": [
      "C:\\Users\\35250\\AppData\\Roaming\\Python\\Python38\\site-packages\\tensorflow\\python\\keras\\optimizer_v2\\optimizer_v2.py:374: UserWarning: The `lr` argument is deprecated, use `learning_rate` instead.\n",
      "  warnings.warn(\n"
     ]
    },
    {
     "name": "stdout",
     "output_type": "stream",
     "text": [
      "\n",
      "\n",
      "Tested 10/50 iterations.\n",
      "Best MAE - Validation Dataset\n",
      "  MAE: 11.9 | sMAPE: 45.76 %\n",
      "\n",
      "Best MAE - Test Dataset\n",
      "  MAE: 27.5 | sMAPE: 50.64 %\n"
     ]
    },
    {
     "name": "stderr",
     "output_type": "stream",
     "text": [
      "C:\\Users\\35250\\AppData\\Roaming\\Python\\Python38\\site-packages\\tensorflow\\python\\keras\\optimizer_v2\\optimizer_v2.py:374: UserWarning: The `lr` argument is deprecated, use `learning_rate` instead.\n",
      "  warnings.warn(\n"
     ]
    },
    {
     "name": "stdout",
     "output_type": "stream",
     "text": [
      "\n",
      "\n",
      "Tested 11/50 iterations.\n",
      "Best MAE - Validation Dataset\n",
      "  MAE: 11.9 | sMAPE: 45.76 %\n",
      "\n",
      "Best MAE - Test Dataset\n",
      "  MAE: 27.5 | sMAPE: 50.64 %\n"
     ]
    },
    {
     "name": "stderr",
     "output_type": "stream",
     "text": [
      "C:\\Users\\35250\\AppData\\Roaming\\Python\\Python38\\site-packages\\tensorflow\\python\\keras\\optimizer_v2\\optimizer_v2.py:374: UserWarning: The `lr` argument is deprecated, use `learning_rate` instead.\n",
      "  warnings.warn(\n"
     ]
    },
    {
     "name": "stdout",
     "output_type": "stream",
     "text": [
      "\n",
      "\n",
      "Tested 12/50 iterations.\n",
      "Best MAE - Validation Dataset\n",
      "  MAE: 11.9 | sMAPE: 45.76 %\n",
      "\n",
      "Best MAE - Test Dataset\n",
      "  MAE: 27.5 | sMAPE: 50.64 %\n"
     ]
    },
    {
     "name": "stderr",
     "output_type": "stream",
     "text": [
      "d:\\business analytics\\notebooks\\project\\epftoolbox\\epftoolbox\\data\\_wrangling.py:95: RuntimeWarning: overflow encountered in sinh\n",
      "  transformed_data = np.sinh(data)\n",
      "d:\\business analytics\\notebooks\\project\\epftoolbox\\epftoolbox\\data\\_wrangling.py:67: RuntimeWarning: overflow encountered in multiply\n",
      "  transformed_data[:, i] = data[:, i] * self.mad[i] + self.median[i]\n"
     ]
    },
    {
     "name": "stdout",
     "output_type": "stream",
     "text": [
      "\n",
      "\n",
      "Tested 13/50 iterations.\n",
      "Best MAE - Validation Dataset\n",
      "  MAE: 11.9 | sMAPE: 45.76 %\n",
      "\n",
      "Best MAE - Test Dataset\n",
      "  MAE: 27.5 | sMAPE: 50.64 %\n"
     ]
    },
    {
     "name": "stderr",
     "output_type": "stream",
     "text": [
      "C:\\Users\\35250\\AppData\\Roaming\\Python\\Python38\\site-packages\\tensorflow\\python\\keras\\optimizer_v2\\optimizer_v2.py:374: UserWarning: The `lr` argument is deprecated, use `learning_rate` instead.\n",
      "  warnings.warn(\n"
     ]
    },
    {
     "name": "stdout",
     "output_type": "stream",
     "text": [
      "\n",
      "\n",
      "Tested 14/50 iterations.\n",
      "Best MAE - Validation Dataset\n",
      "  MAE: 11.9 | sMAPE: 45.76 %\n",
      "\n",
      "Best MAE - Test Dataset\n",
      "  MAE: 27.5 | sMAPE: 50.64 %\n"
     ]
    },
    {
     "name": "stderr",
     "output_type": "stream",
     "text": [
      "C:\\Users\\35250\\AppData\\Roaming\\Python\\Python38\\site-packages\\tensorflow\\python\\keras\\optimizer_v2\\optimizer_v2.py:374: UserWarning: The `lr` argument is deprecated, use `learning_rate` instead.\n",
      "  warnings.warn(\n"
     ]
    },
    {
     "name": "stdout",
     "output_type": "stream",
     "text": [
      "\n",
      "\n",
      "Tested 15/50 iterations.\n",
      "Best MAE - Validation Dataset\n",
      "  MAE: 11.9 | sMAPE: 45.76 %\n",
      "\n",
      "Best MAE - Test Dataset\n",
      "  MAE: 27.5 | sMAPE: 50.64 %\n"
     ]
    },
    {
     "name": "stderr",
     "output_type": "stream",
     "text": [
      "C:\\Users\\35250\\AppData\\Roaming\\Python\\Python38\\site-packages\\tensorflow\\python\\keras\\optimizer_v2\\optimizer_v2.py:374: UserWarning: The `lr` argument is deprecated, use `learning_rate` instead.\n",
      "  warnings.warn(\n"
     ]
    },
    {
     "name": "stdout",
     "output_type": "stream",
     "text": [
      "\n",
      "\n",
      "Tested 16/50 iterations.\n",
      "Best MAE - Validation Dataset\n",
      "  MAE: 11.9 | sMAPE: 45.76 %\n",
      "\n",
      "Best MAE - Test Dataset\n",
      "  MAE: 27.5 | sMAPE: 50.64 %\n"
     ]
    },
    {
     "name": "stderr",
     "output_type": "stream",
     "text": [
      "C:\\Users\\35250\\AppData\\Roaming\\Python\\Python38\\site-packages\\tensorflow\\python\\keras\\optimizer_v2\\optimizer_v2.py:374: UserWarning: The `lr` argument is deprecated, use `learning_rate` instead.\n",
      "  warnings.warn(\n"
     ]
    },
    {
     "name": "stdout",
     "output_type": "stream",
     "text": [
      "\n",
      "\n",
      "Tested 17/50 iterations.\n",
      "Best MAE - Validation Dataset\n",
      "  MAE: 11.9 | sMAPE: 45.76 %\n",
      "\n",
      "Best MAE - Test Dataset\n",
      "  MAE: 27.5 | sMAPE: 50.64 %\n"
     ]
    },
    {
     "name": "stderr",
     "output_type": "stream",
     "text": [
      "C:\\Users\\35250\\AppData\\Roaming\\Python\\Python38\\site-packages\\tensorflow\\python\\keras\\optimizer_v2\\optimizer_v2.py:374: UserWarning: The `lr` argument is deprecated, use `learning_rate` instead.\n",
      "  warnings.warn(\n"
     ]
    },
    {
     "name": "stdout",
     "output_type": "stream",
     "text": [
      "\n",
      "\n",
      "Tested 18/50 iterations.\n",
      "Best MAE - Validation Dataset\n",
      "  MAE: 11.9 | sMAPE: 45.76 %\n",
      "\n",
      "Best MAE - Test Dataset\n",
      "  MAE: 27.5 | sMAPE: 50.64 %\n"
     ]
    },
    {
     "name": "stderr",
     "output_type": "stream",
     "text": [
      "C:\\Users\\35250\\AppData\\Roaming\\Python\\Python38\\site-packages\\tensorflow\\python\\keras\\optimizer_v2\\optimizer_v2.py:374: UserWarning: The `lr` argument is deprecated, use `learning_rate` instead.\n",
      "  warnings.warn(\n"
     ]
    },
    {
     "name": "stdout",
     "output_type": "stream",
     "text": [
      "\n",
      "\n",
      "Tested 19/50 iterations.\n",
      "Best MAE - Validation Dataset\n",
      "  MAE: 11.9 | sMAPE: 45.76 %\n",
      "\n",
      "Best MAE - Test Dataset\n",
      "  MAE: 27.5 | sMAPE: 50.64 %\n"
     ]
    },
    {
     "name": "stderr",
     "output_type": "stream",
     "text": [
      "C:\\Users\\35250\\AppData\\Roaming\\Python\\Python38\\site-packages\\tensorflow\\python\\keras\\optimizer_v2\\optimizer_v2.py:374: UserWarning: The `lr` argument is deprecated, use `learning_rate` instead.\n",
      "  warnings.warn(\n"
     ]
    },
    {
     "name": "stdout",
     "output_type": "stream",
     "text": [
      "\n",
      "\n",
      "Tested 20/50 iterations.\n",
      "Best MAE - Validation Dataset\n",
      "  MAE: 11.9 | sMAPE: 45.76 %\n",
      "\n",
      "Best MAE - Test Dataset\n",
      "  MAE: 27.5 | sMAPE: 50.64 %\n"
     ]
    },
    {
     "name": "stderr",
     "output_type": "stream",
     "text": [
      "C:\\Users\\35250\\AppData\\Roaming\\Python\\Python38\\site-packages\\tensorflow\\python\\keras\\optimizer_v2\\optimizer_v2.py:374: UserWarning: The `lr` argument is deprecated, use `learning_rate` instead.\n",
      "  warnings.warn(\n"
     ]
    },
    {
     "name": "stdout",
     "output_type": "stream",
     "text": [
      "\n",
      "\n",
      "Tested 21/50 iterations.\n",
      "Best MAE - Validation Dataset\n",
      "  MAE: 11.9 | sMAPE: 45.76 %\n",
      "\n",
      "Best MAE - Test Dataset\n",
      "  MAE: 27.5 | sMAPE: 50.64 %\n"
     ]
    },
    {
     "name": "stderr",
     "output_type": "stream",
     "text": [
      "C:\\Users\\35250\\AppData\\Roaming\\Python\\Python38\\site-packages\\tensorflow\\python\\keras\\optimizer_v2\\optimizer_v2.py:374: UserWarning: The `lr` argument is deprecated, use `learning_rate` instead.\n",
      "  warnings.warn(\n"
     ]
    },
    {
     "name": "stdout",
     "output_type": "stream",
     "text": [
      "\n",
      "\n",
      "Tested 22/50 iterations.\n",
      "Best MAE - Validation Dataset\n",
      "  MAE: 11.9 | sMAPE: 45.76 %\n",
      "\n",
      "Best MAE - Test Dataset\n",
      "  MAE: 27.5 | sMAPE: 50.64 %\n"
     ]
    },
    {
     "name": "stderr",
     "output_type": "stream",
     "text": [
      "C:\\Users\\35250\\AppData\\Roaming\\Python\\Python38\\site-packages\\tensorflow\\python\\keras\\optimizer_v2\\optimizer_v2.py:374: UserWarning: The `lr` argument is deprecated, use `learning_rate` instead.\n",
      "  warnings.warn(\n"
     ]
    },
    {
     "name": "stdout",
     "output_type": "stream",
     "text": [
      "\n",
      "\n",
      "Tested 23/50 iterations.\n",
      "Best MAE - Validation Dataset\n",
      "  MAE: 11.9 | sMAPE: 45.76 %\n",
      "\n",
      "Best MAE - Test Dataset\n",
      "  MAE: 27.5 | sMAPE: 50.64 %\n"
     ]
    },
    {
     "name": "stderr",
     "output_type": "stream",
     "text": [
      "C:\\Users\\35250\\AppData\\Roaming\\Python\\Python38\\site-packages\\tensorflow\\python\\keras\\optimizer_v2\\optimizer_v2.py:374: UserWarning: The `lr` argument is deprecated, use `learning_rate` instead.\n",
      "  warnings.warn(\n"
     ]
    },
    {
     "name": "stdout",
     "output_type": "stream",
     "text": [
      "\n",
      "\n",
      "Tested 24/50 iterations.\n",
      "Best MAE - Validation Dataset\n",
      "  MAE: 10.3 | sMAPE: 43.97 %\n",
      "\n",
      "Best MAE - Test Dataset\n",
      "  MAE: 26.4 | sMAPE: 50.21 %\n"
     ]
    },
    {
     "name": "stderr",
     "output_type": "stream",
     "text": [
      "C:\\Users\\35250\\AppData\\Roaming\\Python\\Python38\\site-packages\\tensorflow\\python\\keras\\optimizer_v2\\optimizer_v2.py:374: UserWarning: The `lr` argument is deprecated, use `learning_rate` instead.\n",
      "  warnings.warn(\n"
     ]
    },
    {
     "name": "stdout",
     "output_type": "stream",
     "text": [
      "\n",
      "\n",
      "Tested 25/50 iterations.\n",
      "Best MAE - Validation Dataset\n",
      "  MAE: 10.3 | sMAPE: 43.97 %\n",
      "\n",
      "Best MAE - Test Dataset\n",
      "  MAE: 26.4 | sMAPE: 50.21 %\n"
     ]
    },
    {
     "name": "stderr",
     "output_type": "stream",
     "text": [
      "C:\\Users\\35250\\AppData\\Roaming\\Python\\Python38\\site-packages\\tensorflow\\python\\keras\\optimizer_v2\\optimizer_v2.py:374: UserWarning: The `lr` argument is deprecated, use `learning_rate` instead.\n",
      "  warnings.warn(\n"
     ]
    },
    {
     "name": "stdout",
     "output_type": "stream",
     "text": [
      "\n",
      "\n",
      "Tested 26/50 iterations.\n",
      "Best MAE - Validation Dataset\n",
      "  MAE: 10.3 | sMAPE: 43.97 %\n",
      "\n",
      "Best MAE - Test Dataset\n",
      "  MAE: 26.4 | sMAPE: 50.21 %\n"
     ]
    },
    {
     "name": "stderr",
     "output_type": "stream",
     "text": [
      "C:\\Users\\35250\\AppData\\Roaming\\Python\\Python38\\site-packages\\tensorflow\\python\\keras\\optimizer_v2\\optimizer_v2.py:374: UserWarning: The `lr` argument is deprecated, use `learning_rate` instead.\n",
      "  warnings.warn(\n"
     ]
    },
    {
     "name": "stdout",
     "output_type": "stream",
     "text": [
      "\n",
      "\n",
      "Tested 27/50 iterations.\n",
      "Best MAE - Validation Dataset\n",
      "  MAE: 10.3 | sMAPE: 43.97 %\n",
      "\n",
      "Best MAE - Test Dataset\n",
      "  MAE: 26.4 | sMAPE: 50.21 %\n"
     ]
    },
    {
     "name": "stderr",
     "output_type": "stream",
     "text": [
      "C:\\Users\\35250\\AppData\\Roaming\\Python\\Python38\\site-packages\\tensorflow\\python\\keras\\optimizer_v2\\optimizer_v2.py:374: UserWarning: The `lr` argument is deprecated, use `learning_rate` instead.\n",
      "  warnings.warn(\n"
     ]
    },
    {
     "name": "stdout",
     "output_type": "stream",
     "text": [
      "\n",
      "\n",
      "Tested 28/50 iterations.\n",
      "Best MAE - Validation Dataset\n",
      "  MAE: 10.3 | sMAPE: 43.97 %\n",
      "\n",
      "Best MAE - Test Dataset\n",
      "  MAE: 26.4 | sMAPE: 50.21 %\n"
     ]
    },
    {
     "name": "stderr",
     "output_type": "stream",
     "text": [
      "C:\\Users\\35250\\AppData\\Roaming\\Python\\Python38\\site-packages\\tensorflow\\python\\keras\\optimizer_v2\\optimizer_v2.py:374: UserWarning: The `lr` argument is deprecated, use `learning_rate` instead.\n",
      "  warnings.warn(\n"
     ]
    },
    {
     "name": "stdout",
     "output_type": "stream",
     "text": [
      "\n",
      "\n",
      "Tested 29/50 iterations.\n",
      "Best MAE - Validation Dataset\n",
      "  MAE: 10.3 | sMAPE: 43.97 %\n",
      "\n",
      "Best MAE - Test Dataset\n",
      "  MAE: 26.4 | sMAPE: 50.21 %\n"
     ]
    },
    {
     "name": "stderr",
     "output_type": "stream",
     "text": [
      "C:\\Users\\35250\\AppData\\Roaming\\Python\\Python38\\site-packages\\tensorflow\\python\\keras\\optimizer_v2\\optimizer_v2.py:374: UserWarning: The `lr` argument is deprecated, use `learning_rate` instead.\n",
      "  warnings.warn(\n"
     ]
    },
    {
     "name": "stdout",
     "output_type": "stream",
     "text": [
      "\n",
      "\n",
      "Tested 30/50 iterations.\n",
      "Best MAE - Validation Dataset\n",
      "  MAE: 10.3 | sMAPE: 43.97 %\n",
      "\n",
      "Best MAE - Test Dataset\n",
      "  MAE: 26.4 | sMAPE: 50.21 %\n"
     ]
    },
    {
     "name": "stderr",
     "output_type": "stream",
     "text": [
      "C:\\Users\\35250\\AppData\\Roaming\\Python\\Python38\\site-packages\\tensorflow\\python\\keras\\optimizer_v2\\optimizer_v2.py:374: UserWarning: The `lr` argument is deprecated, use `learning_rate` instead.\n",
      "  warnings.warn(\n"
     ]
    },
    {
     "name": "stdout",
     "output_type": "stream",
     "text": [
      "\n",
      "\n",
      "Tested 31/50 iterations.\n",
      "Best MAE - Validation Dataset\n",
      "  MAE: 10.3 | sMAPE: 43.97 %\n",
      "\n",
      "Best MAE - Test Dataset\n",
      "  MAE: 26.4 | sMAPE: 50.21 %\n"
     ]
    },
    {
     "name": "stderr",
     "output_type": "stream",
     "text": [
      "C:\\Users\\35250\\AppData\\Roaming\\Python\\Python38\\site-packages\\tensorflow\\python\\keras\\optimizer_v2\\optimizer_v2.py:374: UserWarning: The `lr` argument is deprecated, use `learning_rate` instead.\n",
      "  warnings.warn(\n"
     ]
    },
    {
     "name": "stdout",
     "output_type": "stream",
     "text": [
      "\n",
      "\n",
      "Tested 32/50 iterations.\n",
      "Best MAE - Validation Dataset\n",
      "  MAE: 10.3 | sMAPE: 43.97 %\n",
      "\n",
      "Best MAE - Test Dataset\n",
      "  MAE: 26.4 | sMAPE: 50.21 %\n"
     ]
    },
    {
     "name": "stderr",
     "output_type": "stream",
     "text": [
      "C:\\Users\\35250\\AppData\\Roaming\\Python\\Python38\\site-packages\\tensorflow\\python\\keras\\optimizer_v2\\optimizer_v2.py:374: UserWarning: The `lr` argument is deprecated, use `learning_rate` instead.\n",
      "  warnings.warn(\n"
     ]
    },
    {
     "name": "stdout",
     "output_type": "stream",
     "text": [
      "\n",
      "\n",
      "Tested 33/50 iterations.\n",
      "Best MAE - Validation Dataset\n",
      "  MAE: 10.3 | sMAPE: 43.97 %\n",
      "\n",
      "Best MAE - Test Dataset\n",
      "  MAE: 26.4 | sMAPE: 50.21 %\n"
     ]
    },
    {
     "name": "stderr",
     "output_type": "stream",
     "text": [
      "C:\\Users\\35250\\AppData\\Roaming\\Python\\Python38\\site-packages\\tensorflow\\python\\keras\\optimizer_v2\\optimizer_v2.py:374: UserWarning: The `lr` argument is deprecated, use `learning_rate` instead.\n",
      "  warnings.warn(\n"
     ]
    },
    {
     "name": "stdout",
     "output_type": "stream",
     "text": [
      "\n",
      "\n",
      "Tested 34/50 iterations.\n",
      "Best MAE - Validation Dataset\n",
      "  MAE: 10.3 | sMAPE: 43.97 %\n",
      "\n",
      "Best MAE - Test Dataset\n",
      "  MAE: 26.4 | sMAPE: 50.21 %\n"
     ]
    },
    {
     "name": "stderr",
     "output_type": "stream",
     "text": [
      "C:\\Users\\35250\\AppData\\Roaming\\Python\\Python38\\site-packages\\tensorflow\\python\\keras\\optimizer_v2\\optimizer_v2.py:374: UserWarning: The `lr` argument is deprecated, use `learning_rate` instead.\n",
      "  warnings.warn(\n"
     ]
    },
    {
     "name": "stdout",
     "output_type": "stream",
     "text": [
      "\n",
      "\n",
      "Tested 35/50 iterations.\n",
      "Best MAE - Validation Dataset\n",
      "  MAE: 10.3 | sMAPE: 43.97 %\n",
      "\n",
      "Best MAE - Test Dataset\n",
      "  MAE: 26.4 | sMAPE: 50.21 %\n"
     ]
    },
    {
     "name": "stderr",
     "output_type": "stream",
     "text": [
      "C:\\Users\\35250\\AppData\\Roaming\\Python\\Python38\\site-packages\\tensorflow\\python\\keras\\optimizer_v2\\optimizer_v2.py:374: UserWarning: The `lr` argument is deprecated, use `learning_rate` instead.\n",
      "  warnings.warn(\n"
     ]
    },
    {
     "name": "stdout",
     "output_type": "stream",
     "text": [
      "\n",
      "\n",
      "Tested 36/50 iterations.\n",
      "Best MAE - Validation Dataset\n",
      "  MAE: 10.3 | sMAPE: 43.97 %\n",
      "\n",
      "Best MAE - Test Dataset\n",
      "  MAE: 26.4 | sMAPE: 50.21 %\n"
     ]
    },
    {
     "name": "stderr",
     "output_type": "stream",
     "text": [
      "C:\\Users\\35250\\AppData\\Roaming\\Python\\Python38\\site-packages\\tensorflow\\python\\keras\\optimizer_v2\\optimizer_v2.py:374: UserWarning: The `lr` argument is deprecated, use `learning_rate` instead.\n",
      "  warnings.warn(\n"
     ]
    },
    {
     "name": "stdout",
     "output_type": "stream",
     "text": [
      "\n",
      "\n",
      "Tested 37/50 iterations.\n",
      "Best MAE - Validation Dataset\n",
      "  MAE: 10.3 | sMAPE: 43.97 %\n",
      "\n",
      "Best MAE - Test Dataset\n",
      "  MAE: 26.4 | sMAPE: 50.21 %\n"
     ]
    },
    {
     "name": "stderr",
     "output_type": "stream",
     "text": [
      "C:\\Users\\35250\\AppData\\Roaming\\Python\\Python38\\site-packages\\tensorflow\\python\\keras\\optimizer_v2\\optimizer_v2.py:374: UserWarning: The `lr` argument is deprecated, use `learning_rate` instead.\n",
      "  warnings.warn(\n"
     ]
    },
    {
     "name": "stdout",
     "output_type": "stream",
     "text": [
      "\n",
      "\n",
      "Tested 38/50 iterations.\n",
      "Best MAE - Validation Dataset\n",
      "  MAE: 10.3 | sMAPE: 43.97 %\n",
      "\n",
      "Best MAE - Test Dataset\n",
      "  MAE: 26.4 | sMAPE: 50.21 %\n",
      "\n",
      "\n",
      "Tested 39/50 iterations.\n",
      "Best MAE - Validation Dataset\n",
      "  MAE: 10.3 | sMAPE: 43.97 %\n",
      "\n",
      "Best MAE - Test Dataset\n",
      "  MAE: 26.4 | sMAPE: 50.21 %\n"
     ]
    },
    {
     "name": "stderr",
     "output_type": "stream",
     "text": [
      "C:\\Users\\35250\\AppData\\Roaming\\Python\\Python38\\site-packages\\tensorflow\\python\\keras\\optimizer_v2\\optimizer_v2.py:374: UserWarning: The `lr` argument is deprecated, use `learning_rate` instead.\n",
      "  warnings.warn(\n"
     ]
    },
    {
     "name": "stdout",
     "output_type": "stream",
     "text": [
      "\n",
      "\n",
      "Tested 40/50 iterations.\n",
      "Best MAE - Validation Dataset\n",
      "  MAE: 10.3 | sMAPE: 43.97 %\n",
      "\n",
      "Best MAE - Test Dataset\n",
      "  MAE: 26.4 | sMAPE: 50.21 %\n"
     ]
    },
    {
     "name": "stderr",
     "output_type": "stream",
     "text": [
      "C:\\Users\\35250\\AppData\\Roaming\\Python\\Python38\\site-packages\\tensorflow\\python\\keras\\optimizer_v2\\optimizer_v2.py:374: UserWarning: The `lr` argument is deprecated, use `learning_rate` instead.\n",
      "  warnings.warn(\n"
     ]
    },
    {
     "name": "stdout",
     "output_type": "stream",
     "text": [
      "\n",
      "\n",
      "Tested 41/50 iterations.\n",
      "Best MAE - Validation Dataset\n",
      "  MAE: 10.3 | sMAPE: 43.97 %\n",
      "\n",
      "Best MAE - Test Dataset\n",
      "  MAE: 26.4 | sMAPE: 50.21 %\n",
      "\n",
      "\n",
      "Tested 42/50 iterations.\n",
      "Best MAE - Validation Dataset\n",
      "  MAE: 10.3 | sMAPE: 43.97 %\n",
      "\n",
      "Best MAE - Test Dataset\n",
      "  MAE: 26.4 | sMAPE: 50.21 %\n"
     ]
    },
    {
     "name": "stderr",
     "output_type": "stream",
     "text": [
      "C:\\Users\\35250\\AppData\\Roaming\\Python\\Python38\\site-packages\\tensorflow\\python\\keras\\optimizer_v2\\optimizer_v2.py:374: UserWarning: The `lr` argument is deprecated, use `learning_rate` instead.\n",
      "  warnings.warn(\n"
     ]
    },
    {
     "name": "stdout",
     "output_type": "stream",
     "text": [
      "\n",
      "\n",
      "Tested 43/50 iterations.\n",
      "Best MAE - Validation Dataset\n",
      "  MAE: 10.3 | sMAPE: 43.97 %\n",
      "\n",
      "Best MAE - Test Dataset\n",
      "  MAE: 26.4 | sMAPE: 50.21 %\n"
     ]
    },
    {
     "name": "stderr",
     "output_type": "stream",
     "text": [
      "C:\\Users\\35250\\AppData\\Roaming\\Python\\Python38\\site-packages\\tensorflow\\python\\keras\\optimizer_v2\\optimizer_v2.py:374: UserWarning: The `lr` argument is deprecated, use `learning_rate` instead.\n",
      "  warnings.warn(\n"
     ]
    },
    {
     "name": "stdout",
     "output_type": "stream",
     "text": [
      "\n",
      "\n",
      "Tested 44/50 iterations.\n",
      "Best MAE - Validation Dataset\n",
      "  MAE: 10.3 | sMAPE: 43.97 %\n",
      "\n",
      "Best MAE - Test Dataset\n",
      "  MAE: 26.4 | sMAPE: 50.21 %\n",
      "\n",
      "\n",
      "Tested 45/50 iterations.\n",
      "Best MAE - Validation Dataset\n",
      "  MAE: 10.3 | sMAPE: 43.97 %\n",
      "\n",
      "Best MAE - Test Dataset\n",
      "  MAE: 26.4 | sMAPE: 50.21 %\n",
      "\n",
      "\n",
      "Tested 46/50 iterations.\n",
      "Best MAE - Validation Dataset\n",
      "  MAE: 10.3 | sMAPE: 43.97 %\n",
      "\n",
      "Best MAE - Test Dataset\n",
      "  MAE: 26.4 | sMAPE: 50.21 %\n"
     ]
    },
    {
     "name": "stderr",
     "output_type": "stream",
     "text": [
      "C:\\Users\\35250\\AppData\\Roaming\\Python\\Python38\\site-packages\\tensorflow\\python\\keras\\optimizer_v2\\optimizer_v2.py:374: UserWarning: The `lr` argument is deprecated, use `learning_rate` instead.\n",
      "  warnings.warn(\n"
     ]
    },
    {
     "name": "stdout",
     "output_type": "stream",
     "text": [
      "\n",
      "\n",
      "Tested 47/50 iterations.\n",
      "Best MAE - Validation Dataset\n",
      "  MAE: 10.3 | sMAPE: 43.97 %\n",
      "\n",
      "Best MAE - Test Dataset\n",
      "  MAE: 26.4 | sMAPE: 50.21 %\n"
     ]
    },
    {
     "name": "stderr",
     "output_type": "stream",
     "text": [
      "C:\\Users\\35250\\AppData\\Roaming\\Python\\Python38\\site-packages\\tensorflow\\python\\keras\\optimizer_v2\\optimizer_v2.py:374: UserWarning: The `lr` argument is deprecated, use `learning_rate` instead.\n",
      "  warnings.warn(\n"
     ]
    },
    {
     "name": "stdout",
     "output_type": "stream",
     "text": [
      "\n",
      "\n",
      "Tested 48/50 iterations.\n",
      "Best MAE - Validation Dataset\n",
      "  MAE: 10.3 | sMAPE: 43.97 %\n",
      "\n",
      "Best MAE - Test Dataset\n",
      "  MAE: 26.4 | sMAPE: 50.21 %\n"
     ]
    },
    {
     "name": "stderr",
     "output_type": "stream",
     "text": [
      "C:\\Users\\35250\\AppData\\Roaming\\Python\\Python38\\site-packages\\tensorflow\\python\\keras\\optimizer_v2\\optimizer_v2.py:374: UserWarning: The `lr` argument is deprecated, use `learning_rate` instead.\n",
      "  warnings.warn(\n"
     ]
    },
    {
     "name": "stdout",
     "output_type": "stream",
     "text": [
      "\n",
      "\n",
      "Tested 49/50 iterations.\n",
      "Best MAE - Validation Dataset\n",
      "  MAE: 10.3 | sMAPE: 43.97 %\n",
      "\n",
      "Best MAE - Test Dataset\n",
      "  MAE: 26.4 | sMAPE: 50.21 %\n"
     ]
    },
    {
     "name": "stderr",
     "output_type": "stream",
     "text": [
      "C:\\Users\\35250\\AppData\\Roaming\\Python\\Python38\\site-packages\\tensorflow\\python\\keras\\optimizer_v2\\optimizer_v2.py:374: UserWarning: The `lr` argument is deprecated, use `learning_rate` instead.\n",
      "  warnings.warn(\n"
     ]
    }
   ],
   "source": [
    "# Number of layers in DNN\n",
    "nlayers = 2\n",
    "\n",
    "# data to study\n",
    "dataset = 'imbalanceData_final'\n",
    "\n",
    "# 1 year is considered as 364 days (52 weeks)\n",
    "# years_test = 1\n",
    "\n",
    "# Optional parameters for selecting the test dataset\n",
    "begin_test_date = '2020-10-19'\n",
    "end_test_date = '2021-01-17'\n",
    "\n",
    "# Boolean that selects whether the validation and training datasets are shuffled\n",
    "shuffle_train = 1\n",
    "\n",
    "# Boolean that selects whether a data augmentation technique for DNNs is used\n",
    "data_augmentation = 0\n",
    "\n",
    "# Boolean that selects whether we start a new hyperparameter optimization or we restart an existing one\n",
    "new_hyperopt = 1\n",
    "\n",
    "# Number of years used in the training dataset for recalibration\n",
    "calibration_window = 1\n",
    "\n",
    "# Unique identifier to read the trials file of hyperparameter optimization\n",
    "experiment_id = 4\n",
    "\n",
    "# Number of iterations for hyperparameter optimization\n",
    "max_evals = 50\n",
    "\n",
    "# path_datasets_folder = \"./datasets/\"\n",
    "# path_hyperparameters_folder = \"./experimental_files/\"\n",
    "\n",
    "hyperparameter_optimizer(path_datasets_folder = 'final datasets',\n",
    "                         path_hyperparameters_folder = 'hyperparameter_dnn/imb_October',\n",
    "                         new_hyperopt = new_hyperopt,\n",
    "                         max_evals = max_evals,\n",
    "                         nlayers = nlayers,\n",
    "                         dataset = dataset, \n",
    "                         #years_test = years_test,\n",
    "                         calibration_window = calibration_window, \n",
    "                         shuffle_train = shuffle_train,\n",
    "                         data_augmentation = data_augmentation,\n",
    "                         experiment_id = experiment_id,\n",
    "                         begin_test_date = begin_test_date,\n",
    "                         end_test_date = end_test_date)"
   ]
  },
  {
   "cell_type": "code",
   "execution_count": 4,
   "id": "0c73f28f",
   "metadata": {
    "scrolled": true
   },
   "outputs": [
    {
     "name": "stdout",
     "output_type": "stream",
     "text": [
      "Test datasets: 2021-04-19 00:00:00 - 2021-04-30 23:00:00\n"
     ]
    },
    {
     "name": "stderr",
     "output_type": "stream",
     "text": [
      "C:\\Users\\35250\\AppData\\Roaming\\Python\\Python38\\site-packages\\tensorflow\\python\\keras\\optimizer_v2\\optimizer_v2.py:374: UserWarning: The `lr` argument is deprecated, use `learning_rate` instead.\n",
      "  warnings.warn(\n"
     ]
    },
    {
     "name": "stdout",
     "output_type": "stream",
     "text": [
      "\n",
      "\n",
      "Tested 1/50 iterations.\n",
      "Best MAE - Validation Dataset\n",
      "  MAE: 174.5 | sMAPE: 162.84 %\n",
      "\n",
      "Best MAE - Test Dataset\n",
      "  MAE: 182.5 | sMAPE: 155.45 %\n"
     ]
    },
    {
     "name": "stderr",
     "output_type": "stream",
     "text": [
      "C:\\Users\\35250\\AppData\\Roaming\\Python\\Python38\\site-packages\\tensorflow\\python\\keras\\optimizer_v2\\optimizer_v2.py:374: UserWarning: The `lr` argument is deprecated, use `learning_rate` instead.\n",
      "  warnings.warn(\n"
     ]
    },
    {
     "name": "stdout",
     "output_type": "stream",
     "text": [
      "\n",
      "\n",
      "Tested 2/50 iterations.\n",
      "Best MAE - Validation Dataset\n",
      "  MAE: 28.7 | sMAPE: 72.08 %\n",
      "\n",
      "Best MAE - Test Dataset\n",
      "  MAE: 39.8 | sMAPE: 66.13 %\n"
     ]
    },
    {
     "name": "stderr",
     "output_type": "stream",
     "text": [
      "C:\\Users\\35250\\AppData\\Roaming\\Python\\Python38\\site-packages\\tensorflow\\python\\keras\\optimizer_v2\\optimizer_v2.py:374: UserWarning: The `lr` argument is deprecated, use `learning_rate` instead.\n",
      "  warnings.warn(\n"
     ]
    },
    {
     "name": "stdout",
     "output_type": "stream",
     "text": [
      "\n",
      "\n",
      "Tested 3/50 iterations.\n",
      "Best MAE - Validation Dataset\n",
      "  MAE: 18.1 | sMAPE: 55.04 %\n",
      "\n",
      "Best MAE - Test Dataset\n",
      "  MAE: 28.0 | sMAPE: 42.33 %\n"
     ]
    },
    {
     "name": "stderr",
     "output_type": "stream",
     "text": [
      "C:\\Users\\35250\\AppData\\Roaming\\Python\\Python38\\site-packages\\tensorflow\\python\\keras\\optimizer_v2\\optimizer_v2.py:374: UserWarning: The `lr` argument is deprecated, use `learning_rate` instead.\n",
      "  warnings.warn(\n"
     ]
    },
    {
     "name": "stdout",
     "output_type": "stream",
     "text": [
      "\n",
      "\n",
      "Tested 4/50 iterations.\n",
      "Best MAE - Validation Dataset\n",
      "  MAE: 18.1 | sMAPE: 55.04 %\n",
      "\n",
      "Best MAE - Test Dataset\n",
      "  MAE: 28.0 | sMAPE: 42.33 %\n"
     ]
    },
    {
     "name": "stderr",
     "output_type": "stream",
     "text": [
      "C:\\Users\\35250\\AppData\\Roaming\\Python\\Python38\\site-packages\\tensorflow\\python\\keras\\optimizer_v2\\optimizer_v2.py:374: UserWarning: The `lr` argument is deprecated, use `learning_rate` instead.\n",
      "  warnings.warn(\n"
     ]
    },
    {
     "name": "stdout",
     "output_type": "stream",
     "text": [
      "\n",
      "\n",
      "Tested 5/50 iterations.\n",
      "Best MAE - Validation Dataset\n",
      "  MAE: 18.1 | sMAPE: 55.04 %\n",
      "\n",
      "Best MAE - Test Dataset\n",
      "  MAE: 28.0 | sMAPE: 42.33 %\n"
     ]
    },
    {
     "name": "stderr",
     "output_type": "stream",
     "text": [
      "C:\\Users\\35250\\AppData\\Roaming\\Python\\Python38\\site-packages\\tensorflow\\python\\keras\\optimizer_v2\\optimizer_v2.py:374: UserWarning: The `lr` argument is deprecated, use `learning_rate` instead.\n",
      "  warnings.warn(\n"
     ]
    },
    {
     "name": "stdout",
     "output_type": "stream",
     "text": [
      "\n",
      "\n",
      "Tested 6/50 iterations.\n",
      "Best MAE - Validation Dataset\n",
      "  MAE: 18.1 | sMAPE: 55.04 %\n",
      "\n",
      "Best MAE - Test Dataset\n",
      "  MAE: 28.0 | sMAPE: 42.33 %\n"
     ]
    },
    {
     "name": "stderr",
     "output_type": "stream",
     "text": [
      "C:\\Users\\35250\\AppData\\Roaming\\Python\\Python38\\site-packages\\tensorflow\\python\\keras\\optimizer_v2\\optimizer_v2.py:374: UserWarning: The `lr` argument is deprecated, use `learning_rate` instead.\n",
      "  warnings.warn(\n"
     ]
    },
    {
     "name": "stdout",
     "output_type": "stream",
     "text": [
      "\n",
      "\n",
      "Tested 7/50 iterations.\n",
      "Best MAE - Validation Dataset\n",
      "  MAE: 18.1 | sMAPE: 55.04 %\n",
      "\n",
      "Best MAE - Test Dataset\n",
      "  MAE: 28.0 | sMAPE: 42.33 %\n"
     ]
    },
    {
     "name": "stderr",
     "output_type": "stream",
     "text": [
      "C:\\Users\\35250\\AppData\\Roaming\\Python\\Python38\\site-packages\\tensorflow\\python\\keras\\optimizer_v2\\optimizer_v2.py:374: UserWarning: The `lr` argument is deprecated, use `learning_rate` instead.\n",
      "  warnings.warn(\n"
     ]
    },
    {
     "name": "stdout",
     "output_type": "stream",
     "text": [
      "\n",
      "\n",
      "Tested 8/50 iterations.\n",
      "Best MAE - Validation Dataset\n",
      "  MAE: 18.1 | sMAPE: 55.04 %\n",
      "\n",
      "Best MAE - Test Dataset\n",
      "  MAE: 28.0 | sMAPE: 42.33 %\n"
     ]
    },
    {
     "name": "stderr",
     "output_type": "stream",
     "text": [
      "C:\\Users\\35250\\AppData\\Roaming\\Python\\Python38\\site-packages\\tensorflow\\python\\keras\\optimizer_v2\\optimizer_v2.py:374: UserWarning: The `lr` argument is deprecated, use `learning_rate` instead.\n",
      "  warnings.warn(\n"
     ]
    },
    {
     "name": "stdout",
     "output_type": "stream",
     "text": [
      "\n",
      "\n",
      "Tested 9/50 iterations.\n",
      "Best MAE - Validation Dataset\n",
      "  MAE: 18.1 | sMAPE: 55.04 %\n",
      "\n",
      "Best MAE - Test Dataset\n",
      "  MAE: 28.0 | sMAPE: 42.33 %\n",
      "\n",
      "\n",
      "Tested 10/50 iterations.\n",
      "Best MAE - Validation Dataset\n",
      "  MAE: 18.1 | sMAPE: 55.04 %\n",
      "\n",
      "Best MAE - Test Dataset\n",
      "  MAE: 28.0 | sMAPE: 42.33 %\n"
     ]
    },
    {
     "name": "stderr",
     "output_type": "stream",
     "text": [
      "C:\\Users\\35250\\AppData\\Roaming\\Python\\Python38\\site-packages\\tensorflow\\python\\keras\\optimizer_v2\\optimizer_v2.py:374: UserWarning: The `lr` argument is deprecated, use `learning_rate` instead.\n",
      "  warnings.warn(\n"
     ]
    },
    {
     "name": "stdout",
     "output_type": "stream",
     "text": [
      "\n",
      "\n",
      "Tested 11/50 iterations.\n",
      "Best MAE - Validation Dataset\n",
      "  MAE: 18.1 | sMAPE: 55.04 %\n",
      "\n",
      "Best MAE - Test Dataset\n",
      "  MAE: 28.0 | sMAPE: 42.33 %\n"
     ]
    },
    {
     "name": "stderr",
     "output_type": "stream",
     "text": [
      "C:\\Users\\35250\\AppData\\Roaming\\Python\\Python38\\site-packages\\tensorflow\\python\\keras\\optimizer_v2\\optimizer_v2.py:374: UserWarning: The `lr` argument is deprecated, use `learning_rate` instead.\n",
      "  warnings.warn(\n"
     ]
    },
    {
     "name": "stdout",
     "output_type": "stream",
     "text": [
      "\n",
      "\n",
      "Tested 12/50 iterations.\n",
      "Best MAE - Validation Dataset\n",
      "  MAE: 18.1 | sMAPE: 55.04 %\n",
      "\n",
      "Best MAE - Test Dataset\n",
      "  MAE: 28.0 | sMAPE: 42.33 %\n"
     ]
    },
    {
     "name": "stderr",
     "output_type": "stream",
     "text": [
      "C:\\Users\\35250\\AppData\\Roaming\\Python\\Python38\\site-packages\\tensorflow\\python\\keras\\optimizer_v2\\optimizer_v2.py:374: UserWarning: The `lr` argument is deprecated, use `learning_rate` instead.\n",
      "  warnings.warn(\n"
     ]
    },
    {
     "name": "stdout",
     "output_type": "stream",
     "text": [
      "\n",
      "\n",
      "Tested 13/50 iterations.\n",
      "Best MAE - Validation Dataset\n",
      "  MAE: 18.1 | sMAPE: 55.04 %\n",
      "\n",
      "Best MAE - Test Dataset\n",
      "  MAE: 28.0 | sMAPE: 42.33 %\n"
     ]
    },
    {
     "name": "stderr",
     "output_type": "stream",
     "text": [
      "C:\\Users\\35250\\AppData\\Roaming\\Python\\Python38\\site-packages\\tensorflow\\python\\keras\\optimizer_v2\\optimizer_v2.py:374: UserWarning: The `lr` argument is deprecated, use `learning_rate` instead.\n",
      "  warnings.warn(\n"
     ]
    },
    {
     "name": "stdout",
     "output_type": "stream",
     "text": [
      "\n",
      "\n",
      "Tested 14/50 iterations.\n",
      "Best MAE - Validation Dataset\n",
      "  MAE: 17.2 | sMAPE: 54.86 %\n",
      "\n",
      "Best MAE - Test Dataset\n",
      "  MAE: 29.4 | sMAPE: 45.15 %\n"
     ]
    },
    {
     "name": "stderr",
     "output_type": "stream",
     "text": [
      "C:\\Users\\35250\\AppData\\Roaming\\Python\\Python38\\site-packages\\tensorflow\\python\\keras\\optimizer_v2\\optimizer_v2.py:374: UserWarning: The `lr` argument is deprecated, use `learning_rate` instead.\n",
      "  warnings.warn(\n"
     ]
    },
    {
     "name": "stdout",
     "output_type": "stream",
     "text": [
      "\n",
      "\n",
      "Tested 15/50 iterations.\n",
      "Best MAE - Validation Dataset\n",
      "  MAE: 17.2 | sMAPE: 54.86 %\n",
      "\n",
      "Best MAE - Test Dataset\n",
      "  MAE: 29.4 | sMAPE: 45.15 %\n"
     ]
    },
    {
     "name": "stderr",
     "output_type": "stream",
     "text": [
      "C:\\Users\\35250\\AppData\\Roaming\\Python\\Python38\\site-packages\\tensorflow\\python\\keras\\optimizer_v2\\optimizer_v2.py:374: UserWarning: The `lr` argument is deprecated, use `learning_rate` instead.\n",
      "  warnings.warn(\n"
     ]
    },
    {
     "name": "stdout",
     "output_type": "stream",
     "text": [
      "\n",
      "\n",
      "Tested 16/50 iterations.\n",
      "Best MAE - Validation Dataset\n",
      "  MAE: 17.2 | sMAPE: 54.86 %\n",
      "\n",
      "Best MAE - Test Dataset\n",
      "  MAE: 29.4 | sMAPE: 45.15 %\n"
     ]
    },
    {
     "name": "stderr",
     "output_type": "stream",
     "text": [
      "C:\\Users\\35250\\AppData\\Roaming\\Python\\Python38\\site-packages\\tensorflow\\python\\keras\\optimizer_v2\\optimizer_v2.py:374: UserWarning: The `lr` argument is deprecated, use `learning_rate` instead.\n",
      "  warnings.warn(\n"
     ]
    },
    {
     "name": "stdout",
     "output_type": "stream",
     "text": [
      "\n",
      "\n",
      "Tested 17/50 iterations.\n",
      "Best MAE - Validation Dataset\n",
      "  MAE: 17.2 | sMAPE: 54.86 %\n",
      "\n",
      "Best MAE - Test Dataset\n",
      "  MAE: 29.4 | sMAPE: 45.15 %\n"
     ]
    },
    {
     "name": "stderr",
     "output_type": "stream",
     "text": [
      "C:\\Users\\35250\\AppData\\Roaming\\Python\\Python38\\site-packages\\tensorflow\\python\\keras\\optimizer_v2\\optimizer_v2.py:374: UserWarning: The `lr` argument is deprecated, use `learning_rate` instead.\n",
      "  warnings.warn(\n"
     ]
    },
    {
     "name": "stdout",
     "output_type": "stream",
     "text": [
      "\n",
      "\n",
      "Tested 18/50 iterations.\n",
      "Best MAE - Validation Dataset\n",
      "  MAE: 17.2 | sMAPE: 54.86 %\n",
      "\n",
      "Best MAE - Test Dataset\n",
      "  MAE: 29.4 | sMAPE: 45.15 %\n",
      "\n",
      "\n",
      "Tested 19/50 iterations.\n",
      "Best MAE - Validation Dataset\n",
      "  MAE: 17.2 | sMAPE: 54.86 %\n",
      "\n",
      "Best MAE - Test Dataset\n",
      "  MAE: 29.4 | sMAPE: 45.15 %\n"
     ]
    },
    {
     "name": "stderr",
     "output_type": "stream",
     "text": [
      "C:\\Users\\35250\\AppData\\Roaming\\Python\\Python38\\site-packages\\tensorflow\\python\\keras\\optimizer_v2\\optimizer_v2.py:374: UserWarning: The `lr` argument is deprecated, use `learning_rate` instead.\n",
      "  warnings.warn(\n"
     ]
    },
    {
     "name": "stdout",
     "output_type": "stream",
     "text": [
      "\n",
      "\n",
      "Tested 20/50 iterations.\n",
      "Best MAE - Validation Dataset\n",
      "  MAE: 17.2 | sMAPE: 54.86 %\n",
      "\n",
      "Best MAE - Test Dataset\n",
      "  MAE: 29.4 | sMAPE: 45.15 %\n"
     ]
    },
    {
     "name": "stderr",
     "output_type": "stream",
     "text": [
      "C:\\Users\\35250\\AppData\\Roaming\\Python\\Python38\\site-packages\\tensorflow\\python\\keras\\optimizer_v2\\optimizer_v2.py:374: UserWarning: The `lr` argument is deprecated, use `learning_rate` instead.\n",
      "  warnings.warn(\n"
     ]
    },
    {
     "name": "stdout",
     "output_type": "stream",
     "text": [
      "\n",
      "\n",
      "Tested 21/50 iterations.\n",
      "Best MAE - Validation Dataset\n",
      "  MAE: 17.2 | sMAPE: 54.86 %\n",
      "\n",
      "Best MAE - Test Dataset\n",
      "  MAE: 29.4 | sMAPE: 45.15 %\n"
     ]
    },
    {
     "name": "stderr",
     "output_type": "stream",
     "text": [
      "C:\\Users\\35250\\AppData\\Roaming\\Python\\Python38\\site-packages\\tensorflow\\python\\keras\\optimizer_v2\\optimizer_v2.py:374: UserWarning: The `lr` argument is deprecated, use `learning_rate` instead.\n",
      "  warnings.warn(\n"
     ]
    },
    {
     "name": "stdout",
     "output_type": "stream",
     "text": [
      "\n",
      "\n",
      "Tested 22/50 iterations.\n",
      "Best MAE - Validation Dataset\n",
      "  MAE: 17.2 | sMAPE: 54.86 %\n",
      "\n",
      "Best MAE - Test Dataset\n",
      "  MAE: 29.4 | sMAPE: 45.15 %\n",
      "\n",
      "\n",
      "Tested 23/50 iterations.\n",
      "Best MAE - Validation Dataset\n",
      "  MAE: 17.2 | sMAPE: 54.86 %\n",
      "\n",
      "Best MAE - Test Dataset\n",
      "  MAE: 29.4 | sMAPE: 45.15 %\n"
     ]
    },
    {
     "name": "stderr",
     "output_type": "stream",
     "text": [
      "C:\\Users\\35250\\AppData\\Roaming\\Python\\Python38\\site-packages\\tensorflow\\python\\keras\\optimizer_v2\\optimizer_v2.py:374: UserWarning: The `lr` argument is deprecated, use `learning_rate` instead.\n",
      "  warnings.warn(\n"
     ]
    },
    {
     "name": "stdout",
     "output_type": "stream",
     "text": [
      "\n",
      "\n",
      "Tested 24/50 iterations.\n",
      "Best MAE - Validation Dataset\n",
      "  MAE: 17.2 | sMAPE: 54.86 %\n",
      "\n",
      "Best MAE - Test Dataset\n",
      "  MAE: 29.4 | sMAPE: 45.15 %\n"
     ]
    },
    {
     "name": "stderr",
     "output_type": "stream",
     "text": [
      "C:\\Users\\35250\\AppData\\Roaming\\Python\\Python38\\site-packages\\tensorflow\\python\\keras\\optimizer_v2\\optimizer_v2.py:374: UserWarning: The `lr` argument is deprecated, use `learning_rate` instead.\n",
      "  warnings.warn(\n"
     ]
    },
    {
     "name": "stdout",
     "output_type": "stream",
     "text": [
      "\n",
      "\n",
      "Tested 25/50 iterations.\n",
      "Best MAE - Validation Dataset\n",
      "  MAE: 17.2 | sMAPE: 54.86 %\n",
      "\n",
      "Best MAE - Test Dataset\n",
      "  MAE: 29.4 | sMAPE: 45.15 %\n"
     ]
    },
    {
     "name": "stderr",
     "output_type": "stream",
     "text": [
      "C:\\Users\\35250\\AppData\\Roaming\\Python\\Python38\\site-packages\\tensorflow\\python\\keras\\optimizer_v2\\optimizer_v2.py:374: UserWarning: The `lr` argument is deprecated, use `learning_rate` instead.\n",
      "  warnings.warn(\n"
     ]
    },
    {
     "name": "stdout",
     "output_type": "stream",
     "text": [
      "\n",
      "\n",
      "Tested 26/50 iterations.\n",
      "Best MAE - Validation Dataset\n",
      "  MAE: 17.2 | sMAPE: 54.86 %\n",
      "\n",
      "Best MAE - Test Dataset\n",
      "  MAE: 29.4 | sMAPE: 45.15 %\n"
     ]
    },
    {
     "name": "stderr",
     "output_type": "stream",
     "text": [
      "C:\\Users\\35250\\AppData\\Roaming\\Python\\Python38\\site-packages\\tensorflow\\python\\keras\\optimizer_v2\\optimizer_v2.py:374: UserWarning: The `lr` argument is deprecated, use `learning_rate` instead.\n",
      "  warnings.warn(\n"
     ]
    },
    {
     "name": "stdout",
     "output_type": "stream",
     "text": [
      "\n",
      "\n",
      "Tested 27/50 iterations.\n",
      "Best MAE - Validation Dataset\n",
      "  MAE: 17.2 | sMAPE: 54.86 %\n",
      "\n",
      "Best MAE - Test Dataset\n",
      "  MAE: 29.4 | sMAPE: 45.15 %\n"
     ]
    },
    {
     "name": "stderr",
     "output_type": "stream",
     "text": [
      "C:\\Users\\35250\\AppData\\Roaming\\Python\\Python38\\site-packages\\tensorflow\\python\\keras\\optimizer_v2\\optimizer_v2.py:374: UserWarning: The `lr` argument is deprecated, use `learning_rate` instead.\n",
      "  warnings.warn(\n"
     ]
    },
    {
     "name": "stdout",
     "output_type": "stream",
     "text": [
      "\n",
      "\n",
      "Tested 28/50 iterations.\n",
      "Best MAE - Validation Dataset\n",
      "  MAE: 17.2 | sMAPE: 54.86 %\n",
      "\n",
      "Best MAE - Test Dataset\n",
      "  MAE: 29.4 | sMAPE: 45.15 %\n"
     ]
    },
    {
     "name": "stderr",
     "output_type": "stream",
     "text": [
      "C:\\Users\\35250\\AppData\\Roaming\\Python\\Python38\\site-packages\\tensorflow\\python\\keras\\optimizer_v2\\optimizer_v2.py:374: UserWarning: The `lr` argument is deprecated, use `learning_rate` instead.\n",
      "  warnings.warn(\n"
     ]
    },
    {
     "name": "stdout",
     "output_type": "stream",
     "text": [
      "\n",
      "\n",
      "Tested 29/50 iterations.\n",
      "Best MAE - Validation Dataset\n",
      "  MAE: 17.2 | sMAPE: 54.86 %\n",
      "\n",
      "Best MAE - Test Dataset\n",
      "  MAE: 29.4 | sMAPE: 45.15 %\n"
     ]
    },
    {
     "name": "stderr",
     "output_type": "stream",
     "text": [
      "C:\\Users\\35250\\AppData\\Roaming\\Python\\Python38\\site-packages\\tensorflow\\python\\keras\\optimizer_v2\\optimizer_v2.py:374: UserWarning: The `lr` argument is deprecated, use `learning_rate` instead.\n",
      "  warnings.warn(\n"
     ]
    },
    {
     "name": "stdout",
     "output_type": "stream",
     "text": [
      "\n",
      "\n",
      "Tested 30/50 iterations.\n",
      "Best MAE - Validation Dataset\n",
      "  MAE: 17.2 | sMAPE: 54.86 %\n",
      "\n",
      "Best MAE - Test Dataset\n",
      "  MAE: 29.4 | sMAPE: 45.15 %\n",
      "\n",
      "\n",
      "Tested 31/50 iterations.\n",
      "Best MAE - Validation Dataset\n",
      "  MAE: 17.2 | sMAPE: 54.86 %\n",
      "\n",
      "Best MAE - Test Dataset\n",
      "  MAE: 29.4 | sMAPE: 45.15 %\n"
     ]
    },
    {
     "name": "stderr",
     "output_type": "stream",
     "text": [
      "C:\\Users\\35250\\AppData\\Roaming\\Python\\Python38\\site-packages\\tensorflow\\python\\keras\\optimizer_v2\\optimizer_v2.py:374: UserWarning: The `lr` argument is deprecated, use `learning_rate` instead.\n",
      "  warnings.warn(\n"
     ]
    },
    {
     "name": "stdout",
     "output_type": "stream",
     "text": [
      "\n",
      "\n",
      "Tested 32/50 iterations.\n",
      "Best MAE - Validation Dataset\n",
      "  MAE: 17.2 | sMAPE: 54.86 %\n",
      "\n",
      "Best MAE - Test Dataset\n",
      "  MAE: 29.4 | sMAPE: 45.15 %\n"
     ]
    },
    {
     "name": "stderr",
     "output_type": "stream",
     "text": [
      "C:\\Users\\35250\\AppData\\Roaming\\Python\\Python38\\site-packages\\tensorflow\\python\\keras\\optimizer_v2\\optimizer_v2.py:374: UserWarning: The `lr` argument is deprecated, use `learning_rate` instead.\n",
      "  warnings.warn(\n"
     ]
    },
    {
     "name": "stdout",
     "output_type": "stream",
     "text": [
      "\n",
      "\n",
      "Tested 33/50 iterations.\n",
      "Best MAE - Validation Dataset\n",
      "  MAE: 17.2 | sMAPE: 54.86 %\n",
      "\n",
      "Best MAE - Test Dataset\n",
      "  MAE: 29.4 | sMAPE: 45.15 %\n",
      "\n",
      "\n",
      "Tested 34/50 iterations.\n",
      "Best MAE - Validation Dataset\n",
      "  MAE: 17.2 | sMAPE: 54.86 %\n",
      "\n",
      "Best MAE - Test Dataset\n",
      "  MAE: 29.4 | sMAPE: 45.15 %\n"
     ]
    },
    {
     "name": "stderr",
     "output_type": "stream",
     "text": [
      "C:\\Users\\35250\\AppData\\Roaming\\Python\\Python38\\site-packages\\tensorflow\\python\\keras\\optimizer_v2\\optimizer_v2.py:374: UserWarning: The `lr` argument is deprecated, use `learning_rate` instead.\n",
      "  warnings.warn(\n"
     ]
    },
    {
     "name": "stdout",
     "output_type": "stream",
     "text": [
      "\n",
      "\n",
      "Tested 35/50 iterations.\n",
      "Best MAE - Validation Dataset\n",
      "  MAE: 17.2 | sMAPE: 54.86 %\n",
      "\n",
      "Best MAE - Test Dataset\n",
      "  MAE: 29.4 | sMAPE: 45.15 %\n"
     ]
    },
    {
     "name": "stderr",
     "output_type": "stream",
     "text": [
      "C:\\Users\\35250\\AppData\\Roaming\\Python\\Python38\\site-packages\\tensorflow\\python\\keras\\optimizer_v2\\optimizer_v2.py:374: UserWarning: The `lr` argument is deprecated, use `learning_rate` instead.\n",
      "  warnings.warn(\n"
     ]
    },
    {
     "name": "stdout",
     "output_type": "stream",
     "text": [
      "\n",
      "\n",
      "Tested 36/50 iterations.\n",
      "Best MAE - Validation Dataset\n",
      "  MAE: 17.2 | sMAPE: 54.86 %\n",
      "\n",
      "Best MAE - Test Dataset\n",
      "  MAE: 29.4 | sMAPE: 45.15 %\n"
     ]
    },
    {
     "name": "stderr",
     "output_type": "stream",
     "text": [
      "C:\\Users\\35250\\AppData\\Roaming\\Python\\Python38\\site-packages\\tensorflow\\python\\keras\\optimizer_v2\\optimizer_v2.py:374: UserWarning: The `lr` argument is deprecated, use `learning_rate` instead.\n",
      "  warnings.warn(\n"
     ]
    },
    {
     "name": "stdout",
     "output_type": "stream",
     "text": [
      "\n",
      "\n",
      "Tested 37/50 iterations.\n",
      "Best MAE - Validation Dataset\n",
      "  MAE: 17.2 | sMAPE: 54.86 %\n",
      "\n",
      "Best MAE - Test Dataset\n",
      "  MAE: 29.4 | sMAPE: 45.15 %\n"
     ]
    },
    {
     "name": "stderr",
     "output_type": "stream",
     "text": [
      "C:\\Users\\35250\\AppData\\Roaming\\Python\\Python38\\site-packages\\tensorflow\\python\\keras\\optimizer_v2\\optimizer_v2.py:374: UserWarning: The `lr` argument is deprecated, use `learning_rate` instead.\n",
      "  warnings.warn(\n"
     ]
    },
    {
     "name": "stdout",
     "output_type": "stream",
     "text": [
      "\n",
      "\n",
      "Tested 38/50 iterations.\n",
      "Best MAE - Validation Dataset\n",
      "  MAE: 17.2 | sMAPE: 54.86 %\n",
      "\n",
      "Best MAE - Test Dataset\n",
      "  MAE: 29.4 | sMAPE: 45.15 %\n"
     ]
    },
    {
     "name": "stderr",
     "output_type": "stream",
     "text": [
      "C:\\Users\\35250\\AppData\\Roaming\\Python\\Python38\\site-packages\\tensorflow\\python\\keras\\optimizer_v2\\optimizer_v2.py:374: UserWarning: The `lr` argument is deprecated, use `learning_rate` instead.\n",
      "  warnings.warn(\n"
     ]
    },
    {
     "name": "stdout",
     "output_type": "stream",
     "text": [
      "\n",
      "\n",
      "Tested 39/50 iterations.\n",
      "Best MAE - Validation Dataset\n",
      "  MAE: 17.2 | sMAPE: 54.86 %\n",
      "\n",
      "Best MAE - Test Dataset\n",
      "  MAE: 29.4 | sMAPE: 45.15 %\n"
     ]
    },
    {
     "name": "stderr",
     "output_type": "stream",
     "text": [
      "C:\\Users\\35250\\AppData\\Roaming\\Python\\Python38\\site-packages\\tensorflow\\python\\keras\\optimizer_v2\\optimizer_v2.py:374: UserWarning: The `lr` argument is deprecated, use `learning_rate` instead.\n",
      "  warnings.warn(\n"
     ]
    },
    {
     "name": "stdout",
     "output_type": "stream",
     "text": [
      "\n",
      "\n",
      "Tested 40/50 iterations.\n",
      "Best MAE - Validation Dataset\n",
      "  MAE: 17.2 | sMAPE: 54.86 %\n",
      "\n",
      "Best MAE - Test Dataset\n",
      "  MAE: 29.4 | sMAPE: 45.15 %\n"
     ]
    },
    {
     "name": "stderr",
     "output_type": "stream",
     "text": [
      "C:\\Users\\35250\\AppData\\Roaming\\Python\\Python38\\site-packages\\tensorflow\\python\\keras\\optimizer_v2\\optimizer_v2.py:374: UserWarning: The `lr` argument is deprecated, use `learning_rate` instead.\n",
      "  warnings.warn(\n"
     ]
    },
    {
     "name": "stdout",
     "output_type": "stream",
     "text": [
      "\n",
      "\n",
      "Tested 41/50 iterations.\n",
      "Best MAE - Validation Dataset\n",
      "  MAE: 16.7 | sMAPE: 52.85 %\n",
      "\n",
      "Best MAE - Test Dataset\n",
      "  MAE: 30.8 | sMAPE: 47.57 %\n"
     ]
    },
    {
     "name": "stderr",
     "output_type": "stream",
     "text": [
      "C:\\Users\\35250\\AppData\\Roaming\\Python\\Python38\\site-packages\\tensorflow\\python\\keras\\optimizer_v2\\optimizer_v2.py:374: UserWarning: The `lr` argument is deprecated, use `learning_rate` instead.\n",
      "  warnings.warn(\n"
     ]
    },
    {
     "name": "stdout",
     "output_type": "stream",
     "text": [
      "\n",
      "\n",
      "Tested 42/50 iterations.\n",
      "Best MAE - Validation Dataset\n",
      "  MAE: 16.7 | sMAPE: 52.85 %\n",
      "\n",
      "Best MAE - Test Dataset\n",
      "  MAE: 30.8 | sMAPE: 47.57 %\n"
     ]
    },
    {
     "name": "stderr",
     "output_type": "stream",
     "text": [
      "C:\\Users\\35250\\AppData\\Roaming\\Python\\Python38\\site-packages\\tensorflow\\python\\keras\\optimizer_v2\\optimizer_v2.py:374: UserWarning: The `lr` argument is deprecated, use `learning_rate` instead.\n",
      "  warnings.warn(\n"
     ]
    },
    {
     "name": "stdout",
     "output_type": "stream",
     "text": [
      "\n",
      "\n",
      "Tested 43/50 iterations.\n",
      "Best MAE - Validation Dataset\n",
      "  MAE: 16.7 | sMAPE: 52.85 %\n",
      "\n",
      "Best MAE - Test Dataset\n",
      "  MAE: 30.8 | sMAPE: 47.57 %\n"
     ]
    },
    {
     "name": "stderr",
     "output_type": "stream",
     "text": [
      "C:\\Users\\35250\\AppData\\Roaming\\Python\\Python38\\site-packages\\tensorflow\\python\\keras\\optimizer_v2\\optimizer_v2.py:374: UserWarning: The `lr` argument is deprecated, use `learning_rate` instead.\n",
      "  warnings.warn(\n"
     ]
    },
    {
     "name": "stdout",
     "output_type": "stream",
     "text": [
      "\n",
      "\n",
      "Tested 44/50 iterations.\n",
      "Best MAE - Validation Dataset\n",
      "  MAE: 16.7 | sMAPE: 52.85 %\n",
      "\n",
      "Best MAE - Test Dataset\n",
      "  MAE: 30.8 | sMAPE: 47.57 %\n"
     ]
    },
    {
     "name": "stderr",
     "output_type": "stream",
     "text": [
      "C:\\Users\\35250\\AppData\\Roaming\\Python\\Python38\\site-packages\\tensorflow\\python\\keras\\optimizer_v2\\optimizer_v2.py:374: UserWarning: The `lr` argument is deprecated, use `learning_rate` instead.\n",
      "  warnings.warn(\n"
     ]
    },
    {
     "name": "stdout",
     "output_type": "stream",
     "text": [
      "\n",
      "\n",
      "Tested 45/50 iterations.\n",
      "Best MAE - Validation Dataset\n",
      "  MAE: 16.5 | sMAPE: 53.16 %\n",
      "\n",
      "Best MAE - Test Dataset\n",
      "  MAE: 33.1 | sMAPE: 51.64 %\n"
     ]
    },
    {
     "name": "stderr",
     "output_type": "stream",
     "text": [
      "C:\\Users\\35250\\AppData\\Roaming\\Python\\Python38\\site-packages\\tensorflow\\python\\keras\\optimizer_v2\\optimizer_v2.py:374: UserWarning: The `lr` argument is deprecated, use `learning_rate` instead.\n",
      "  warnings.warn(\n"
     ]
    },
    {
     "name": "stdout",
     "output_type": "stream",
     "text": [
      "\n",
      "\n",
      "Tested 46/50 iterations.\n",
      "Best MAE - Validation Dataset\n",
      "  MAE: 16.5 | sMAPE: 53.16 %\n",
      "\n",
      "Best MAE - Test Dataset\n",
      "  MAE: 33.1 | sMAPE: 51.64 %\n"
     ]
    },
    {
     "name": "stderr",
     "output_type": "stream",
     "text": [
      "C:\\Users\\35250\\AppData\\Roaming\\Python\\Python38\\site-packages\\tensorflow\\python\\keras\\optimizer_v2\\optimizer_v2.py:374: UserWarning: The `lr` argument is deprecated, use `learning_rate` instead.\n",
      "  warnings.warn(\n"
     ]
    },
    {
     "name": "stdout",
     "output_type": "stream",
     "text": [
      "\n",
      "\n",
      "Tested 47/50 iterations.\n",
      "Best MAE - Validation Dataset\n",
      "  MAE: 16.5 | sMAPE: 53.16 %\n",
      "\n",
      "Best MAE - Test Dataset\n",
      "  MAE: 33.1 | sMAPE: 51.64 %\n"
     ]
    },
    {
     "name": "stderr",
     "output_type": "stream",
     "text": [
      "C:\\Users\\35250\\AppData\\Roaming\\Python\\Python38\\site-packages\\tensorflow\\python\\keras\\optimizer_v2\\optimizer_v2.py:374: UserWarning: The `lr` argument is deprecated, use `learning_rate` instead.\n",
      "  warnings.warn(\n"
     ]
    },
    {
     "name": "stdout",
     "output_type": "stream",
     "text": [
      "\n",
      "\n",
      "Tested 48/50 iterations.\n",
      "Best MAE - Validation Dataset\n",
      "  MAE: 15.9 | sMAPE: 53.29 %\n",
      "\n",
      "Best MAE - Test Dataset\n",
      "  MAE: 26.5 | sMAPE: 42.41 %\n"
     ]
    },
    {
     "name": "stderr",
     "output_type": "stream",
     "text": [
      "C:\\Users\\35250\\AppData\\Roaming\\Python\\Python38\\site-packages\\tensorflow\\python\\keras\\optimizer_v2\\optimizer_v2.py:374: UserWarning: The `lr` argument is deprecated, use `learning_rate` instead.\n",
      "  warnings.warn(\n"
     ]
    },
    {
     "name": "stdout",
     "output_type": "stream",
     "text": [
      "\n",
      "\n",
      "Tested 49/50 iterations.\n",
      "Best MAE - Validation Dataset\n",
      "  MAE: 15.9 | sMAPE: 53.29 %\n",
      "\n",
      "Best MAE - Test Dataset\n",
      "  MAE: 26.5 | sMAPE: 42.41 %\n"
     ]
    },
    {
     "name": "stderr",
     "output_type": "stream",
     "text": [
      "C:\\Users\\35250\\AppData\\Roaming\\Python\\Python38\\site-packages\\tensorflow\\python\\keras\\optimizer_v2\\optimizer_v2.py:374: UserWarning: The `lr` argument is deprecated, use `learning_rate` instead.\n",
      "  warnings.warn(\n"
     ]
    }
   ],
   "source": [
    "# Number of layers in DNN\n",
    "nlayers = 2\n",
    "\n",
    "# data to study\n",
    "dataset = 'imbalanceData_final'\n",
    "\n",
    "# 1 year is considered as 364 days (52 weeks)\n",
    "# years_test = 1\n",
    "\n",
    "# Optional parameters for selecting the test dataset\n",
    "begin_test_date = '2021-04-19'\n",
    "end_test_date = '2021-04-30'\n",
    "\n",
    "# Boolean that selects whether the validation and training datasets are shuffled\n",
    "shuffle_train = 1\n",
    "\n",
    "# Boolean that selects whether a data augmentation technique for DNNs is used\n",
    "data_augmentation = 0\n",
    "\n",
    "# Boolean that selects whether we start a new hyperparameter optimization or we restart an existing one\n",
    "new_hyperopt = 1\n",
    "\n",
    "# Number of years used in the training dataset for recalibration\n",
    "calibration_window = 1\n",
    "\n",
    "# Unique identifier to read the trials file of hyperparameter optimization\n",
    "experiment_id = 4\n",
    "\n",
    "# Number of iterations for hyperparameter optimization\n",
    "max_evals = 50\n",
    "\n",
    "# path_datasets_folder = \"./datasets/\"\n",
    "# path_hyperparameters_folder = \"./experimental_files/\"\n",
    "\n",
    "hyperparameter_optimizer(path_datasets_folder = 'final datasets',\n",
    "                         path_hyperparameters_folder = 'hyperparameter_dnn/imb_April',\n",
    "                         new_hyperopt = new_hyperopt,\n",
    "                         max_evals = max_evals,\n",
    "                         nlayers = nlayers,\n",
    "                         dataset = dataset, \n",
    "                         #years_test = years_test,\n",
    "                         calibration_window = calibration_window, \n",
    "                         shuffle_train = shuffle_train,\n",
    "                         data_augmentation = data_augmentation,\n",
    "                         experiment_id = experiment_id,\n",
    "                         begin_test_date = begin_test_date,\n",
    "                         end_test_date = end_test_date)"
   ]
  },
  {
   "cell_type": "code",
   "execution_count": 5,
   "id": "e1ad3d1c",
   "metadata": {
    "scrolled": true
   },
   "outputs": [
    {
     "name": "stdout",
     "output_type": "stream",
     "text": [
      "Test datasets: 2021-04-19 00:00:00 - 2021-04-30 23:00:00\n",
      "\n",
      "\n",
      "Tested 1/50 iterations.\n",
      "Best MAE - Validation Dataset\n",
      "  MAE: 13.5 | sMAPE: 36.21 %\n",
      "\n",
      "Best MAE - Test Dataset\n",
      "  MAE: 24.5 | sMAPE: 44.16 %\n",
      "\n",
      "\n",
      "Tested 2/50 iterations.\n",
      "Best MAE - Validation Dataset\n",
      "  MAE: 13.2 | sMAPE: 35.94 %\n",
      "\n",
      "Best MAE - Test Dataset\n",
      "  MAE: 33.2 | sMAPE: 64.01 %\n"
     ]
    },
    {
     "name": "stderr",
     "output_type": "stream",
     "text": [
      "C:\\Users\\35250\\AppData\\Roaming\\Python\\Python38\\site-packages\\tensorflow\\python\\keras\\optimizer_v2\\optimizer_v2.py:374: UserWarning: The `lr` argument is deprecated, use `learning_rate` instead.\n",
      "  warnings.warn(\n"
     ]
    },
    {
     "name": "stdout",
     "output_type": "stream",
     "text": [
      "\n",
      "\n",
      "Tested 3/50 iterations.\n",
      "Best MAE - Validation Dataset\n",
      "  MAE: 7.5 | sMAPE: 23.58 %\n",
      "\n",
      "Best MAE - Test Dataset\n",
      "  MAE: 9.5 | sMAPE: 14.47 %\n",
      "\n",
      "\n",
      "Tested 4/50 iterations.\n",
      "Best MAE - Validation Dataset\n",
      "  MAE: 7.5 | sMAPE: 23.58 %\n",
      "\n",
      "Best MAE - Test Dataset\n",
      "  MAE: 9.5 | sMAPE: 14.47 %\n"
     ]
    },
    {
     "name": "stderr",
     "output_type": "stream",
     "text": [
      "C:\\Users\\35250\\AppData\\Roaming\\Python\\Python38\\site-packages\\tensorflow\\python\\keras\\optimizer_v2\\optimizer_v2.py:374: UserWarning: The `lr` argument is deprecated, use `learning_rate` instead.\n",
      "  warnings.warn(\n"
     ]
    },
    {
     "name": "stdout",
     "output_type": "stream",
     "text": [
      "\n",
      "\n",
      "Tested 5/50 iterations.\n",
      "Best MAE - Validation Dataset\n",
      "  MAE: 7.5 | sMAPE: 23.58 %\n",
      "\n",
      "Best MAE - Test Dataset\n",
      "  MAE: 9.5 | sMAPE: 14.47 %\n"
     ]
    },
    {
     "name": "stderr",
     "output_type": "stream",
     "text": [
      "C:\\Users\\35250\\AppData\\Roaming\\Python\\Python38\\site-packages\\tensorflow\\python\\keras\\optimizer_v2\\optimizer_v2.py:374: UserWarning: The `lr` argument is deprecated, use `learning_rate` instead.\n",
      "  warnings.warn(\n"
     ]
    },
    {
     "name": "stdout",
     "output_type": "stream",
     "text": [
      "\n",
      "\n",
      "Tested 6/50 iterations.\n",
      "Best MAE - Validation Dataset\n",
      "  MAE: 7.5 | sMAPE: 23.58 %\n",
      "\n",
      "Best MAE - Test Dataset\n",
      "  MAE: 9.5 | sMAPE: 14.47 %\n"
     ]
    },
    {
     "name": "stderr",
     "output_type": "stream",
     "text": [
      "C:\\Users\\35250\\AppData\\Roaming\\Python\\Python38\\site-packages\\tensorflow\\python\\keras\\optimizer_v2\\optimizer_v2.py:374: UserWarning: The `lr` argument is deprecated, use `learning_rate` instead.\n",
      "  warnings.warn(\n"
     ]
    },
    {
     "name": "stdout",
     "output_type": "stream",
     "text": [
      "\n",
      "\n",
      "Tested 7/50 iterations.\n",
      "Best MAE - Validation Dataset\n",
      "  MAE: 6.6 | sMAPE: 21.58 %\n",
      "\n",
      "Best MAE - Test Dataset\n",
      "  MAE: 7.2 | sMAPE: 10.59 %\n"
     ]
    },
    {
     "name": "stderr",
     "output_type": "stream",
     "text": [
      "C:\\Users\\35250\\AppData\\Roaming\\Python\\Python38\\site-packages\\tensorflow\\python\\keras\\optimizer_v2\\optimizer_v2.py:374: UserWarning: The `lr` argument is deprecated, use `learning_rate` instead.\n",
      "  warnings.warn(\n"
     ]
    },
    {
     "name": "stdout",
     "output_type": "stream",
     "text": [
      "\n",
      "\n",
      "Tested 8/50 iterations.\n",
      "Best MAE - Validation Dataset\n",
      "  MAE: 6.6 | sMAPE: 21.58 %\n",
      "\n",
      "Best MAE - Test Dataset\n",
      "  MAE: 7.2 | sMAPE: 10.59 %\n"
     ]
    },
    {
     "name": "stderr",
     "output_type": "stream",
     "text": [
      "C:\\Users\\35250\\AppData\\Roaming\\Python\\Python38\\site-packages\\tensorflow\\python\\keras\\optimizer_v2\\optimizer_v2.py:374: UserWarning: The `lr` argument is deprecated, use `learning_rate` instead.\n",
      "  warnings.warn(\n"
     ]
    },
    {
     "name": "stdout",
     "output_type": "stream",
     "text": [
      "\n",
      "\n",
      "Tested 9/50 iterations.\n",
      "Best MAE - Validation Dataset\n",
      "  MAE: 6.6 | sMAPE: 21.58 %\n",
      "\n",
      "Best MAE - Test Dataset\n",
      "  MAE: 7.2 | sMAPE: 10.59 %\n"
     ]
    },
    {
     "name": "stderr",
     "output_type": "stream",
     "text": [
      "C:\\Users\\35250\\AppData\\Roaming\\Python\\Python38\\site-packages\\tensorflow\\python\\keras\\optimizer_v2\\optimizer_v2.py:374: UserWarning: The `lr` argument is deprecated, use `learning_rate` instead.\n",
      "  warnings.warn(\n"
     ]
    },
    {
     "name": "stdout",
     "output_type": "stream",
     "text": [
      "\n",
      "\n",
      "Tested 10/50 iterations.\n",
      "Best MAE - Validation Dataset\n",
      "  MAE: 6.6 | sMAPE: 21.58 %\n",
      "\n",
      "Best MAE - Test Dataset\n",
      "  MAE: 7.2 | sMAPE: 10.59 %\n",
      "\n",
      "\n",
      "Tested 11/50 iterations.\n",
      "Best MAE - Validation Dataset\n",
      "  MAE: 6.6 | sMAPE: 21.58 %\n",
      "\n",
      "Best MAE - Test Dataset\n",
      "  MAE: 7.2 | sMAPE: 10.59 %\n"
     ]
    },
    {
     "name": "stderr",
     "output_type": "stream",
     "text": [
      "C:\\Users\\35250\\AppData\\Roaming\\Python\\Python38\\site-packages\\tensorflow\\python\\keras\\optimizer_v2\\optimizer_v2.py:374: UserWarning: The `lr` argument is deprecated, use `learning_rate` instead.\n",
      "  warnings.warn(\n"
     ]
    },
    {
     "name": "stdout",
     "output_type": "stream",
     "text": [
      "\n",
      "\n",
      "Tested 12/50 iterations.\n",
      "Best MAE - Validation Dataset\n",
      "  MAE: 6.5 | sMAPE: 21.85 %\n",
      "\n",
      "Best MAE - Test Dataset\n",
      "  MAE: 9.0 | sMAPE: 13.61 %\n"
     ]
    },
    {
     "name": "stderr",
     "output_type": "stream",
     "text": [
      "C:\\Users\\35250\\AppData\\Roaming\\Python\\Python38\\site-packages\\tensorflow\\python\\keras\\optimizer_v2\\optimizer_v2.py:374: UserWarning: The `lr` argument is deprecated, use `learning_rate` instead.\n",
      "  warnings.warn(\n"
     ]
    },
    {
     "name": "stdout",
     "output_type": "stream",
     "text": [
      "\n",
      "\n",
      "Tested 13/50 iterations.\n",
      "Best MAE - Validation Dataset\n",
      "  MAE: 6.1 | sMAPE: 19.91 %\n",
      "\n",
      "Best MAE - Test Dataset\n",
      "  MAE: 6.5 | sMAPE: 9.44 %\n"
     ]
    },
    {
     "name": "stderr",
     "output_type": "stream",
     "text": [
      "C:\\Users\\35250\\AppData\\Roaming\\Python\\Python38\\site-packages\\tensorflow\\python\\keras\\optimizer_v2\\optimizer_v2.py:374: UserWarning: The `lr` argument is deprecated, use `learning_rate` instead.\n",
      "  warnings.warn(\n"
     ]
    },
    {
     "name": "stdout",
     "output_type": "stream",
     "text": [
      "\n",
      "\n",
      "Tested 14/50 iterations.\n",
      "Best MAE - Validation Dataset\n",
      "  MAE: 6.1 | sMAPE: 19.91 %\n",
      "\n",
      "Best MAE - Test Dataset\n",
      "  MAE: 6.5 | sMAPE: 9.44 %\n"
     ]
    },
    {
     "name": "stderr",
     "output_type": "stream",
     "text": [
      "C:\\Users\\35250\\AppData\\Roaming\\Python\\Python38\\site-packages\\tensorflow\\python\\keras\\optimizer_v2\\optimizer_v2.py:374: UserWarning: The `lr` argument is deprecated, use `learning_rate` instead.\n",
      "  warnings.warn(\n"
     ]
    },
    {
     "name": "stdout",
     "output_type": "stream",
     "text": [
      "\n",
      "\n",
      "Tested 15/50 iterations.\n",
      "Best MAE - Validation Dataset\n",
      "  MAE: 6.1 | sMAPE: 19.91 %\n",
      "\n",
      "Best MAE - Test Dataset\n",
      "  MAE: 6.5 | sMAPE: 9.44 %\n"
     ]
    },
    {
     "name": "stderr",
     "output_type": "stream",
     "text": [
      "C:\\Users\\35250\\AppData\\Roaming\\Python\\Python38\\site-packages\\tensorflow\\python\\keras\\optimizer_v2\\optimizer_v2.py:374: UserWarning: The `lr` argument is deprecated, use `learning_rate` instead.\n",
      "  warnings.warn(\n"
     ]
    },
    {
     "name": "stdout",
     "output_type": "stream",
     "text": [
      "\n",
      "\n",
      "Tested 16/50 iterations.\n",
      "Best MAE - Validation Dataset\n",
      "  MAE: 6.1 | sMAPE: 19.91 %\n",
      "\n",
      "Best MAE - Test Dataset\n",
      "  MAE: 6.5 | sMAPE: 9.44 %\n"
     ]
    },
    {
     "name": "stderr",
     "output_type": "stream",
     "text": [
      "C:\\Users\\35250\\AppData\\Roaming\\Python\\Python38\\site-packages\\tensorflow\\python\\keras\\optimizer_v2\\optimizer_v2.py:374: UserWarning: The `lr` argument is deprecated, use `learning_rate` instead.\n",
      "  warnings.warn(\n"
     ]
    },
    {
     "name": "stdout",
     "output_type": "stream",
     "text": [
      "\n",
      "\n",
      "Tested 17/50 iterations.\n",
      "Best MAE - Validation Dataset\n",
      "  MAE: 6.1 | sMAPE: 19.91 %\n",
      "\n",
      "Best MAE - Test Dataset\n",
      "  MAE: 6.5 | sMAPE: 9.44 %\n"
     ]
    },
    {
     "name": "stderr",
     "output_type": "stream",
     "text": [
      "C:\\Users\\35250\\AppData\\Roaming\\Python\\Python38\\site-packages\\tensorflow\\python\\keras\\optimizer_v2\\optimizer_v2.py:374: UserWarning: The `lr` argument is deprecated, use `learning_rate` instead.\n",
      "  warnings.warn(\n"
     ]
    },
    {
     "name": "stdout",
     "output_type": "stream",
     "text": [
      "\n",
      "\n",
      "Tested 18/50 iterations.\n",
      "Best MAE - Validation Dataset\n",
      "  MAE: 6.1 | sMAPE: 19.91 %\n",
      "\n",
      "Best MAE - Test Dataset\n",
      "  MAE: 6.5 | sMAPE: 9.44 %\n"
     ]
    },
    {
     "name": "stderr",
     "output_type": "stream",
     "text": [
      "C:\\Users\\35250\\AppData\\Roaming\\Python\\Python38\\site-packages\\tensorflow\\python\\keras\\optimizer_v2\\optimizer_v2.py:374: UserWarning: The `lr` argument is deprecated, use `learning_rate` instead.\n",
      "  warnings.warn(\n"
     ]
    },
    {
     "name": "stdout",
     "output_type": "stream",
     "text": [
      "\n",
      "\n",
      "Tested 19/50 iterations.\n",
      "Best MAE - Validation Dataset\n",
      "  MAE: 6.1 | sMAPE: 19.91 %\n",
      "\n",
      "Best MAE - Test Dataset\n",
      "  MAE: 6.5 | sMAPE: 9.44 %\n"
     ]
    },
    {
     "name": "stderr",
     "output_type": "stream",
     "text": [
      "C:\\Users\\35250\\AppData\\Roaming\\Python\\Python38\\site-packages\\tensorflow\\python\\keras\\optimizer_v2\\optimizer_v2.py:374: UserWarning: The `lr` argument is deprecated, use `learning_rate` instead.\n",
      "  warnings.warn(\n"
     ]
    },
    {
     "name": "stdout",
     "output_type": "stream",
     "text": [
      "\n",
      "\n",
      "Tested 20/50 iterations.\n",
      "Best MAE - Validation Dataset\n",
      "  MAE: 6.1 | sMAPE: 19.91 %\n",
      "\n",
      "Best MAE - Test Dataset\n",
      "  MAE: 6.5 | sMAPE: 9.44 %\n"
     ]
    },
    {
     "name": "stderr",
     "output_type": "stream",
     "text": [
      "C:\\Users\\35250\\AppData\\Roaming\\Python\\Python38\\site-packages\\tensorflow\\python\\keras\\optimizer_v2\\optimizer_v2.py:374: UserWarning: The `lr` argument is deprecated, use `learning_rate` instead.\n",
      "  warnings.warn(\n"
     ]
    },
    {
     "name": "stdout",
     "output_type": "stream",
     "text": [
      "\n",
      "\n",
      "Tested 21/50 iterations.\n",
      "Best MAE - Validation Dataset\n",
      "  MAE: 6.1 | sMAPE: 19.91 %\n",
      "\n",
      "Best MAE - Test Dataset\n",
      "  MAE: 6.5 | sMAPE: 9.44 %\n"
     ]
    },
    {
     "name": "stderr",
     "output_type": "stream",
     "text": [
      "C:\\Users\\35250\\AppData\\Roaming\\Python\\Python38\\site-packages\\tensorflow\\python\\keras\\optimizer_v2\\optimizer_v2.py:374: UserWarning: The `lr` argument is deprecated, use `learning_rate` instead.\n",
      "  warnings.warn(\n"
     ]
    },
    {
     "name": "stdout",
     "output_type": "stream",
     "text": [
      "\n",
      "\n",
      "Tested 22/50 iterations.\n",
      "Best MAE - Validation Dataset\n",
      "  MAE: 6.1 | sMAPE: 19.91 %\n",
      "\n",
      "Best MAE - Test Dataset\n",
      "  MAE: 6.5 | sMAPE: 9.44 %\n"
     ]
    },
    {
     "name": "stderr",
     "output_type": "stream",
     "text": [
      "C:\\Users\\35250\\AppData\\Roaming\\Python\\Python38\\site-packages\\tensorflow\\python\\keras\\optimizer_v2\\optimizer_v2.py:374: UserWarning: The `lr` argument is deprecated, use `learning_rate` instead.\n",
      "  warnings.warn(\n"
     ]
    },
    {
     "name": "stdout",
     "output_type": "stream",
     "text": [
      "\n",
      "\n",
      "Tested 23/50 iterations.\n",
      "Best MAE - Validation Dataset\n",
      "  MAE: 6.1 | sMAPE: 19.91 %\n",
      "\n",
      "Best MAE - Test Dataset\n",
      "  MAE: 6.5 | sMAPE: 9.44 %\n"
     ]
    },
    {
     "name": "stderr",
     "output_type": "stream",
     "text": [
      "C:\\Users\\35250\\AppData\\Roaming\\Python\\Python38\\site-packages\\tensorflow\\python\\keras\\optimizer_v2\\optimizer_v2.py:374: UserWarning: The `lr` argument is deprecated, use `learning_rate` instead.\n",
      "  warnings.warn(\n"
     ]
    },
    {
     "name": "stdout",
     "output_type": "stream",
     "text": [
      "\n",
      "\n",
      "Tested 24/50 iterations.\n",
      "Best MAE - Validation Dataset\n",
      "  MAE: 6.1 | sMAPE: 19.91 %\n",
      "\n",
      "Best MAE - Test Dataset\n",
      "  MAE: 6.5 | sMAPE: 9.44 %\n"
     ]
    },
    {
     "name": "stderr",
     "output_type": "stream",
     "text": [
      "C:\\Users\\35250\\AppData\\Roaming\\Python\\Python38\\site-packages\\tensorflow\\python\\keras\\optimizer_v2\\optimizer_v2.py:374: UserWarning: The `lr` argument is deprecated, use `learning_rate` instead.\n",
      "  warnings.warn(\n"
     ]
    },
    {
     "name": "stdout",
     "output_type": "stream",
     "text": [
      "\n",
      "\n",
      "Tested 25/50 iterations.\n",
      "Best MAE - Validation Dataset\n",
      "  MAE: 6.1 | sMAPE: 19.91 %\n",
      "\n",
      "Best MAE - Test Dataset\n",
      "  MAE: 6.5 | sMAPE: 9.44 %\n"
     ]
    },
    {
     "name": "stderr",
     "output_type": "stream",
     "text": [
      "C:\\Users\\35250\\AppData\\Roaming\\Python\\Python38\\site-packages\\tensorflow\\python\\keras\\optimizer_v2\\optimizer_v2.py:374: UserWarning: The `lr` argument is deprecated, use `learning_rate` instead.\n",
      "  warnings.warn(\n"
     ]
    },
    {
     "name": "stdout",
     "output_type": "stream",
     "text": [
      "\n",
      "\n",
      "Tested 26/50 iterations.\n",
      "Best MAE - Validation Dataset\n",
      "  MAE: 6.1 | sMAPE: 19.91 %\n",
      "\n",
      "Best MAE - Test Dataset\n",
      "  MAE: 6.5 | sMAPE: 9.44 %\n"
     ]
    },
    {
     "name": "stderr",
     "output_type": "stream",
     "text": [
      "C:\\Users\\35250\\AppData\\Roaming\\Python\\Python38\\site-packages\\tensorflow\\python\\keras\\optimizer_v2\\optimizer_v2.py:374: UserWarning: The `lr` argument is deprecated, use `learning_rate` instead.\n",
      "  warnings.warn(\n"
     ]
    },
    {
     "name": "stdout",
     "output_type": "stream",
     "text": [
      "\n",
      "\n",
      "Tested 27/50 iterations.\n",
      "Best MAE - Validation Dataset\n",
      "  MAE: 6.1 | sMAPE: 19.91 %\n",
      "\n",
      "Best MAE - Test Dataset\n",
      "  MAE: 6.5 | sMAPE: 9.44 %\n"
     ]
    },
    {
     "name": "stderr",
     "output_type": "stream",
     "text": [
      "C:\\Users\\35250\\AppData\\Roaming\\Python\\Python38\\site-packages\\tensorflow\\python\\keras\\optimizer_v2\\optimizer_v2.py:374: UserWarning: The `lr` argument is deprecated, use `learning_rate` instead.\n",
      "  warnings.warn(\n"
     ]
    },
    {
     "name": "stdout",
     "output_type": "stream",
     "text": [
      "\n",
      "\n",
      "Tested 28/50 iterations.\n",
      "Best MAE - Validation Dataset\n",
      "  MAE: 6.1 | sMAPE: 19.91 %\n",
      "\n",
      "Best MAE - Test Dataset\n",
      "  MAE: 6.5 | sMAPE: 9.44 %\n"
     ]
    },
    {
     "name": "stderr",
     "output_type": "stream",
     "text": [
      "C:\\Users\\35250\\AppData\\Roaming\\Python\\Python38\\site-packages\\tensorflow\\python\\keras\\optimizer_v2\\optimizer_v2.py:374: UserWarning: The `lr` argument is deprecated, use `learning_rate` instead.\n",
      "  warnings.warn(\n"
     ]
    },
    {
     "name": "stdout",
     "output_type": "stream",
     "text": [
      "\n",
      "\n",
      "Tested 29/50 iterations.\n",
      "Best MAE - Validation Dataset\n",
      "  MAE: 6.1 | sMAPE: 19.91 %\n",
      "\n",
      "Best MAE - Test Dataset\n",
      "  MAE: 6.5 | sMAPE: 9.44 %\n"
     ]
    },
    {
     "name": "stderr",
     "output_type": "stream",
     "text": [
      "C:\\Users\\35250\\AppData\\Roaming\\Python\\Python38\\site-packages\\tensorflow\\python\\keras\\optimizer_v2\\optimizer_v2.py:374: UserWarning: The `lr` argument is deprecated, use `learning_rate` instead.\n",
      "  warnings.warn(\n"
     ]
    },
    {
     "name": "stdout",
     "output_type": "stream",
     "text": [
      "\n",
      "\n",
      "Tested 30/50 iterations.\n",
      "Best MAE - Validation Dataset\n",
      "  MAE: 6.1 | sMAPE: 19.91 %\n",
      "\n",
      "Best MAE - Test Dataset\n",
      "  MAE: 6.5 | sMAPE: 9.44 %\n"
     ]
    },
    {
     "name": "stderr",
     "output_type": "stream",
     "text": [
      "C:\\Users\\35250\\AppData\\Roaming\\Python\\Python38\\site-packages\\tensorflow\\python\\keras\\optimizer_v2\\optimizer_v2.py:374: UserWarning: The `lr` argument is deprecated, use `learning_rate` instead.\n",
      "  warnings.warn(\n"
     ]
    },
    {
     "name": "stdout",
     "output_type": "stream",
     "text": [
      "\n",
      "\n",
      "Tested 31/50 iterations.\n",
      "Best MAE - Validation Dataset\n",
      "  MAE: 6.1 | sMAPE: 19.91 %\n",
      "\n",
      "Best MAE - Test Dataset\n",
      "  MAE: 6.5 | sMAPE: 9.44 %\n"
     ]
    },
    {
     "name": "stderr",
     "output_type": "stream",
     "text": [
      "C:\\Users\\35250\\AppData\\Roaming\\Python\\Python38\\site-packages\\tensorflow\\python\\keras\\optimizer_v2\\optimizer_v2.py:374: UserWarning: The `lr` argument is deprecated, use `learning_rate` instead.\n",
      "  warnings.warn(\n"
     ]
    },
    {
     "name": "stdout",
     "output_type": "stream",
     "text": [
      "\n",
      "\n",
      "Tested 32/50 iterations.\n",
      "Best MAE - Validation Dataset\n",
      "  MAE: 6.1 | sMAPE: 19.91 %\n",
      "\n",
      "Best MAE - Test Dataset\n",
      "  MAE: 6.5 | sMAPE: 9.44 %\n"
     ]
    },
    {
     "name": "stderr",
     "output_type": "stream",
     "text": [
      "d:\\business analytics\\notebooks\\project\\epftoolbox\\epftoolbox\\data\\_wrangling.py:95: RuntimeWarning: overflow encountered in sinh\n",
      "  transformed_data = np.sinh(data)\n",
      "d:\\business analytics\\notebooks\\project\\epftoolbox\\epftoolbox\\data\\_wrangling.py:67: RuntimeWarning: overflow encountered in multiply\n",
      "  transformed_data[:, i] = data[:, i] * self.mad[i] + self.median[i]\n"
     ]
    },
    {
     "name": "stdout",
     "output_type": "stream",
     "text": [
      "\n",
      "\n",
      "Tested 33/50 iterations.\n",
      "Best MAE - Validation Dataset\n",
      "  MAE: 6.1 | sMAPE: 19.91 %\n",
      "\n",
      "Best MAE - Test Dataset\n",
      "  MAE: 6.5 | sMAPE: 9.44 %\n",
      "\n",
      "\n",
      "Tested 34/50 iterations.\n",
      "Best MAE - Validation Dataset\n",
      "  MAE: 6.1 | sMAPE: 19.91 %\n",
      "\n",
      "Best MAE - Test Dataset\n",
      "  MAE: 6.5 | sMAPE: 9.44 %\n"
     ]
    },
    {
     "name": "stderr",
     "output_type": "stream",
     "text": [
      "C:\\Users\\35250\\AppData\\Roaming\\Python\\Python38\\site-packages\\tensorflow\\python\\keras\\optimizer_v2\\optimizer_v2.py:374: UserWarning: The `lr` argument is deprecated, use `learning_rate` instead.\n",
      "  warnings.warn(\n"
     ]
    },
    {
     "name": "stdout",
     "output_type": "stream",
     "text": [
      "\n",
      "\n",
      "Tested 35/50 iterations.\n",
      "Best MAE - Validation Dataset\n",
      "  MAE: 6.1 | sMAPE: 19.91 %\n",
      "\n",
      "Best MAE - Test Dataset\n",
      "  MAE: 6.5 | sMAPE: 9.44 %\n",
      "\n",
      "\n",
      "Tested 36/50 iterations.\n",
      "Best MAE - Validation Dataset\n",
      "  MAE: 6.1 | sMAPE: 19.91 %\n",
      "\n",
      "Best MAE - Test Dataset\n",
      "  MAE: 6.5 | sMAPE: 9.44 %\n"
     ]
    },
    {
     "name": "stderr",
     "output_type": "stream",
     "text": [
      "C:\\Users\\35250\\AppData\\Roaming\\Python\\Python38\\site-packages\\tensorflow\\python\\keras\\optimizer_v2\\optimizer_v2.py:374: UserWarning: The `lr` argument is deprecated, use `learning_rate` instead.\n",
      "  warnings.warn(\n"
     ]
    },
    {
     "name": "stdout",
     "output_type": "stream",
     "text": [
      "\n",
      "\n",
      "Tested 37/50 iterations.\n",
      "Best MAE - Validation Dataset\n",
      "  MAE: 6.1 | sMAPE: 19.91 %\n",
      "\n",
      "Best MAE - Test Dataset\n",
      "  MAE: 6.5 | sMAPE: 9.44 %\n"
     ]
    },
    {
     "name": "stderr",
     "output_type": "stream",
     "text": [
      "C:\\Users\\35250\\AppData\\Roaming\\Python\\Python38\\site-packages\\tensorflow\\python\\keras\\optimizer_v2\\optimizer_v2.py:374: UserWarning: The `lr` argument is deprecated, use `learning_rate` instead.\n",
      "  warnings.warn(\n"
     ]
    },
    {
     "name": "stdout",
     "output_type": "stream",
     "text": [
      "\n",
      "\n",
      "Tested 38/50 iterations.\n",
      "Best MAE - Validation Dataset\n",
      "  MAE: 6.1 | sMAPE: 19.91 %\n",
      "\n",
      "Best MAE - Test Dataset\n",
      "  MAE: 6.5 | sMAPE: 9.44 %\n",
      "\n",
      "\n",
      "Tested 39/50 iterations.\n",
      "Best MAE - Validation Dataset\n",
      "  MAE: 6.1 | sMAPE: 19.91 %\n",
      "\n",
      "Best MAE - Test Dataset\n",
      "  MAE: 6.5 | sMAPE: 9.44 %\n",
      "\n",
      "\n",
      "Tested 40/50 iterations.\n",
      "Best MAE - Validation Dataset\n",
      "  MAE: 6.1 | sMAPE: 19.91 %\n",
      "\n",
      "Best MAE - Test Dataset\n",
      "  MAE: 6.5 | sMAPE: 9.44 %\n"
     ]
    },
    {
     "name": "stderr",
     "output_type": "stream",
     "text": [
      "C:\\Users\\35250\\AppData\\Roaming\\Python\\Python38\\site-packages\\tensorflow\\python\\keras\\optimizer_v2\\optimizer_v2.py:374: UserWarning: The `lr` argument is deprecated, use `learning_rate` instead.\n",
      "  warnings.warn(\n"
     ]
    },
    {
     "name": "stdout",
     "output_type": "stream",
     "text": [
      "\n",
      "\n",
      "Tested 41/50 iterations.\n",
      "Best MAE - Validation Dataset\n",
      "  MAE: 6.1 | sMAPE: 19.91 %\n",
      "\n",
      "Best MAE - Test Dataset\n",
      "  MAE: 6.5 | sMAPE: 9.44 %\n"
     ]
    },
    {
     "name": "stderr",
     "output_type": "stream",
     "text": [
      "C:\\Users\\35250\\AppData\\Roaming\\Python\\Python38\\site-packages\\tensorflow\\python\\keras\\optimizer_v2\\optimizer_v2.py:374: UserWarning: The `lr` argument is deprecated, use `learning_rate` instead.\n",
      "  warnings.warn(\n"
     ]
    },
    {
     "name": "stdout",
     "output_type": "stream",
     "text": [
      "\n",
      "\n",
      "Tested 42/50 iterations.\n",
      "Best MAE - Validation Dataset\n",
      "  MAE: 6.1 | sMAPE: 19.91 %\n",
      "\n",
      "Best MAE - Test Dataset\n",
      "  MAE: 6.5 | sMAPE: 9.44 %\n"
     ]
    },
    {
     "name": "stderr",
     "output_type": "stream",
     "text": [
      "C:\\Users\\35250\\AppData\\Roaming\\Python\\Python38\\site-packages\\tensorflow\\python\\keras\\optimizer_v2\\optimizer_v2.py:374: UserWarning: The `lr` argument is deprecated, use `learning_rate` instead.\n",
      "  warnings.warn(\n"
     ]
    },
    {
     "name": "stdout",
     "output_type": "stream",
     "text": [
      "\n",
      "\n",
      "Tested 43/50 iterations.\n",
      "Best MAE - Validation Dataset\n",
      "  MAE: 6.1 | sMAPE: 19.91 %\n",
      "\n",
      "Best MAE - Test Dataset\n",
      "  MAE: 6.5 | sMAPE: 9.44 %\n"
     ]
    },
    {
     "name": "stderr",
     "output_type": "stream",
     "text": [
      "C:\\Users\\35250\\AppData\\Roaming\\Python\\Python38\\site-packages\\tensorflow\\python\\keras\\optimizer_v2\\optimizer_v2.py:374: UserWarning: The `lr` argument is deprecated, use `learning_rate` instead.\n",
      "  warnings.warn(\n"
     ]
    },
    {
     "name": "stdout",
     "output_type": "stream",
     "text": [
      "\n",
      "\n",
      "Tested 44/50 iterations.\n",
      "Best MAE - Validation Dataset\n",
      "  MAE: 6.1 | sMAPE: 19.91 %\n",
      "\n",
      "Best MAE - Test Dataset\n",
      "  MAE: 6.5 | sMAPE: 9.44 %\n",
      "\n",
      "\n",
      "Tested 45/50 iterations.\n",
      "Best MAE - Validation Dataset\n",
      "  MAE: 6.1 | sMAPE: 19.91 %\n",
      "\n",
      "Best MAE - Test Dataset\n",
      "  MAE: 6.5 | sMAPE: 9.44 %\n"
     ]
    },
    {
     "name": "stderr",
     "output_type": "stream",
     "text": [
      "C:\\Users\\35250\\AppData\\Roaming\\Python\\Python38\\site-packages\\tensorflow\\python\\keras\\optimizer_v2\\optimizer_v2.py:374: UserWarning: The `lr` argument is deprecated, use `learning_rate` instead.\n",
      "  warnings.warn(\n"
     ]
    },
    {
     "name": "stdout",
     "output_type": "stream",
     "text": [
      "\n",
      "\n",
      "Tested 46/50 iterations.\n",
      "Best MAE - Validation Dataset\n",
      "  MAE: 6.1 | sMAPE: 19.91 %\n",
      "\n",
      "Best MAE - Test Dataset\n",
      "  MAE: 6.5 | sMAPE: 9.44 %\n"
     ]
    },
    {
     "name": "stderr",
     "output_type": "stream",
     "text": [
      "C:\\Users\\35250\\AppData\\Roaming\\Python\\Python38\\site-packages\\tensorflow\\python\\keras\\optimizer_v2\\optimizer_v2.py:374: UserWarning: The `lr` argument is deprecated, use `learning_rate` instead.\n",
      "  warnings.warn(\n"
     ]
    },
    {
     "name": "stdout",
     "output_type": "stream",
     "text": [
      "\n",
      "\n",
      "Tested 47/50 iterations.\n",
      "Best MAE - Validation Dataset\n",
      "  MAE: 6.1 | sMAPE: 19.91 %\n",
      "\n",
      "Best MAE - Test Dataset\n",
      "  MAE: 6.5 | sMAPE: 9.44 %\n"
     ]
    },
    {
     "name": "stderr",
     "output_type": "stream",
     "text": [
      "C:\\Users\\35250\\AppData\\Roaming\\Python\\Python38\\site-packages\\tensorflow\\python\\keras\\optimizer_v2\\optimizer_v2.py:374: UserWarning: The `lr` argument is deprecated, use `learning_rate` instead.\n",
      "  warnings.warn(\n"
     ]
    },
    {
     "name": "stdout",
     "output_type": "stream",
     "text": [
      "\n",
      "\n",
      "Tested 48/50 iterations.\n",
      "Best MAE - Validation Dataset\n",
      "  MAE: 6.1 | sMAPE: 19.91 %\n",
      "\n",
      "Best MAE - Test Dataset\n",
      "  MAE: 6.5 | sMAPE: 9.44 %\n"
     ]
    },
    {
     "name": "stderr",
     "output_type": "stream",
     "text": [
      "C:\\Users\\35250\\AppData\\Roaming\\Python\\Python38\\site-packages\\tensorflow\\python\\keras\\optimizer_v2\\optimizer_v2.py:374: UserWarning: The `lr` argument is deprecated, use `learning_rate` instead.\n",
      "  warnings.warn(\n"
     ]
    },
    {
     "name": "stdout",
     "output_type": "stream",
     "text": [
      "\n",
      "\n",
      "Tested 49/50 iterations.\n",
      "Best MAE - Validation Dataset\n",
      "  MAE: 6.1 | sMAPE: 19.91 %\n",
      "\n",
      "Best MAE - Test Dataset\n",
      "  MAE: 6.5 | sMAPE: 9.44 %\n"
     ]
    },
    {
     "name": "stderr",
     "output_type": "stream",
     "text": [
      "C:\\Users\\35250\\AppData\\Roaming\\Python\\Python38\\site-packages\\tensorflow\\python\\keras\\optimizer_v2\\optimizer_v2.py:374: UserWarning: The `lr` argument is deprecated, use `learning_rate` instead.\n",
      "  warnings.warn(\n"
     ]
    }
   ],
   "source": [
    "# Number of layers in DNN\n",
    "nlayers = 2\n",
    "\n",
    "# data to study\n",
    "dataset = 'auctionData_final'\n",
    "\n",
    "# 1 year is considered as 364 days (52 weeks)\n",
    "# years_test = 1\n",
    "\n",
    "# Optional parameters for selecting the test dataset\n",
    "begin_test_date = '2021-04-19'\n",
    "end_test_date = '2021-04-30'\n",
    "\n",
    "# Boolean that selects whether the validation and training datasets are shuffled\n",
    "shuffle_train = 1\n",
    "\n",
    "# Boolean that selects whether a data augmentation technique for DNNs is used\n",
    "data_augmentation = 0\n",
    "\n",
    "# Boolean that selects whether we start a new hyperparameter optimization or we restart an existing one\n",
    "new_hyperopt = 1\n",
    "\n",
    "# Number of years used in the training dataset for recalibration\n",
    "calibration_window = 1\n",
    "\n",
    "# Unique identifier to read the trials file of hyperparameter optimization\n",
    "experiment_id = 4\n",
    "\n",
    "# Number of iterations for hyperparameter optimization\n",
    "max_evals = 50\n",
    "\n",
    "# path_datasets_folder = \"./datasets/\"\n",
    "# path_hyperparameters_folder = \"./experimental_files/\"\n",
    "\n",
    "hyperparameter_optimizer(path_datasets_folder = 'final datasets',\n",
    "                         path_hyperparameters_folder = 'hyperparameter_dnn/auc_April',\n",
    "                         new_hyperopt = new_hyperopt,\n",
    "                         max_evals = max_evals,\n",
    "                         nlayers = nlayers,\n",
    "                         dataset = dataset, \n",
    "                         #years_test = years_test,\n",
    "                         calibration_window = calibration_window, \n",
    "                         shuffle_train = shuffle_train,\n",
    "                         data_augmentation = data_augmentation,\n",
    "                         experiment_id = experiment_id,\n",
    "                         begin_test_date = begin_test_date,\n",
    "                         end_test_date = end_test_date)"
   ]
  },
  {
   "cell_type": "code",
   "execution_count": 6,
   "id": "9d0ba332",
   "metadata": {},
   "outputs": [
    {
     "name": "stdout",
     "output_type": "stream",
     "text": [
      "Test datasets: 2020-10-19 00:00:00 - 2021-01-17 23:00:00\n"
     ]
    },
    {
     "name": "stderr",
     "output_type": "stream",
     "text": [
      "C:\\Users\\35250\\AppData\\Roaming\\Python\\Python38\\site-packages\\tensorflow\\python\\keras\\optimizer_v2\\optimizer_v2.py:374: UserWarning: The `lr` argument is deprecated, use `learning_rate` instead.\n",
      "  warnings.warn(\n"
     ]
    },
    {
     "name": "stdout",
     "output_type": "stream",
     "text": [
      "\n",
      "\n",
      "Tested 1/50 iterations.\n",
      "Best MAE - Validation Dataset\n",
      "  MAE: 6.5 | sMAPE: 21.96 %\n",
      "\n",
      "Best MAE - Test Dataset\n",
      "  MAE: 19.6 | sMAPE: 30.28 %\n"
     ]
    },
    {
     "name": "stderr",
     "output_type": "stream",
     "text": [
      "C:\\Users\\35250\\AppData\\Roaming\\Python\\Python38\\site-packages\\tensorflow\\python\\keras\\optimizer_v2\\optimizer_v2.py:374: UserWarning: The `lr` argument is deprecated, use `learning_rate` instead.\n",
      "  warnings.warn(\n"
     ]
    },
    {
     "name": "stdout",
     "output_type": "stream",
     "text": [
      "\n",
      "\n",
      "Tested 2/50 iterations.\n",
      "Best MAE - Validation Dataset\n",
      "  MAE: 6.5 | sMAPE: 21.96 %\n",
      "\n",
      "Best MAE - Test Dataset\n",
      "  MAE: 19.6 | sMAPE: 30.28 %\n"
     ]
    },
    {
     "name": "stderr",
     "output_type": "stream",
     "text": [
      "C:\\Users\\35250\\AppData\\Roaming\\Python\\Python38\\site-packages\\tensorflow\\python\\keras\\optimizer_v2\\optimizer_v2.py:374: UserWarning: The `lr` argument is deprecated, use `learning_rate` instead.\n",
      "  warnings.warn(\n"
     ]
    },
    {
     "name": "stdout",
     "output_type": "stream",
     "text": [
      "\n",
      "\n",
      "Tested 3/50 iterations.\n",
      "Best MAE - Validation Dataset\n",
      "  MAE: 6.5 | sMAPE: 21.96 %\n",
      "\n",
      "Best MAE - Test Dataset\n",
      "  MAE: 19.6 | sMAPE: 30.28 %\n"
     ]
    },
    {
     "name": "stderr",
     "output_type": "stream",
     "text": [
      "C:\\Users\\35250\\AppData\\Roaming\\Python\\Python38\\site-packages\\tensorflow\\python\\keras\\optimizer_v2\\optimizer_v2.py:374: UserWarning: The `lr` argument is deprecated, use `learning_rate` instead.\n",
      "  warnings.warn(\n"
     ]
    },
    {
     "name": "stdout",
     "output_type": "stream",
     "text": [
      "\n",
      "\n",
      "Tested 4/50 iterations.\n",
      "Best MAE - Validation Dataset\n",
      "  MAE: 4.8 | sMAPE: 17.43 %\n",
      "\n",
      "Best MAE - Test Dataset\n",
      "  MAE: 17.2 | sMAPE: 26.04 %\n"
     ]
    },
    {
     "name": "stderr",
     "output_type": "stream",
     "text": [
      "C:\\Users\\35250\\AppData\\Roaming\\Python\\Python38\\site-packages\\tensorflow\\python\\keras\\optimizer_v2\\optimizer_v2.py:374: UserWarning: The `lr` argument is deprecated, use `learning_rate` instead.\n",
      "  warnings.warn(\n"
     ]
    },
    {
     "name": "stdout",
     "output_type": "stream",
     "text": [
      "\n",
      "\n",
      "Tested 5/50 iterations.\n",
      "Best MAE - Validation Dataset\n",
      "  MAE: 4.2 | sMAPE: 16.00 %\n",
      "\n",
      "Best MAE - Test Dataset\n",
      "  MAE: 14.1 | sMAPE: 19.74 %\n",
      "\n",
      "\n",
      "Tested 6/50 iterations.\n",
      "Best MAE - Validation Dataset\n",
      "  MAE: 4.2 | sMAPE: 16.00 %\n",
      "\n",
      "Best MAE - Test Dataset\n",
      "  MAE: 14.1 | sMAPE: 19.74 %\n"
     ]
    },
    {
     "name": "stderr",
     "output_type": "stream",
     "text": [
      "C:\\Users\\35250\\AppData\\Roaming\\Python\\Python38\\site-packages\\tensorflow\\python\\keras\\optimizer_v2\\optimizer_v2.py:374: UserWarning: The `lr` argument is deprecated, use `learning_rate` instead.\n",
      "  warnings.warn(\n"
     ]
    },
    {
     "name": "stdout",
     "output_type": "stream",
     "text": [
      "\n",
      "\n",
      "Tested 7/50 iterations.\n",
      "Best MAE - Validation Dataset\n",
      "  MAE: 4.2 | sMAPE: 16.00 %\n",
      "\n",
      "Best MAE - Test Dataset\n",
      "  MAE: 14.1 | sMAPE: 19.74 %\n"
     ]
    },
    {
     "name": "stderr",
     "output_type": "stream",
     "text": [
      "C:\\Users\\35250\\AppData\\Roaming\\Python\\Python38\\site-packages\\tensorflow\\python\\keras\\optimizer_v2\\optimizer_v2.py:374: UserWarning: The `lr` argument is deprecated, use `learning_rate` instead.\n",
      "  warnings.warn(\n"
     ]
    },
    {
     "name": "stdout",
     "output_type": "stream",
     "text": [
      "\n",
      "\n",
      "Tested 8/50 iterations.\n",
      "Best MAE - Validation Dataset\n",
      "  MAE: 4.2 | sMAPE: 16.00 %\n",
      "\n",
      "Best MAE - Test Dataset\n",
      "  MAE: 14.1 | sMAPE: 19.74 %\n"
     ]
    },
    {
     "name": "stderr",
     "output_type": "stream",
     "text": [
      "C:\\Users\\35250\\AppData\\Roaming\\Python\\Python38\\site-packages\\tensorflow\\python\\keras\\optimizer_v2\\optimizer_v2.py:374: UserWarning: The `lr` argument is deprecated, use `learning_rate` instead.\n",
      "  warnings.warn(\n"
     ]
    },
    {
     "name": "stdout",
     "output_type": "stream",
     "text": [
      "\n",
      "\n",
      "Tested 9/50 iterations.\n",
      "Best MAE - Validation Dataset\n",
      "  MAE: 4.2 | sMAPE: 16.00 %\n",
      "\n",
      "Best MAE - Test Dataset\n",
      "  MAE: 14.1 | sMAPE: 19.74 %\n",
      "\n",
      "\n",
      "Tested 10/50 iterations.\n",
      "Best MAE - Validation Dataset\n",
      "  MAE: 4.2 | sMAPE: 16.00 %\n",
      "\n",
      "Best MAE - Test Dataset\n",
      "  MAE: 14.1 | sMAPE: 19.74 %\n"
     ]
    },
    {
     "name": "stderr",
     "output_type": "stream",
     "text": [
      "C:\\Users\\35250\\AppData\\Roaming\\Python\\Python38\\site-packages\\tensorflow\\python\\keras\\optimizer_v2\\optimizer_v2.py:374: UserWarning: The `lr` argument is deprecated, use `learning_rate` instead.\n",
      "  warnings.warn(\n"
     ]
    },
    {
     "name": "stdout",
     "output_type": "stream",
     "text": [
      "\n",
      "\n",
      "Tested 11/50 iterations.\n",
      "Best MAE - Validation Dataset\n",
      "  MAE: 4.2 | sMAPE: 16.00 %\n",
      "\n",
      "Best MAE - Test Dataset\n",
      "  MAE: 14.1 | sMAPE: 19.74 %\n"
     ]
    },
    {
     "name": "stderr",
     "output_type": "stream",
     "text": [
      "C:\\Users\\35250\\AppData\\Roaming\\Python\\Python38\\site-packages\\tensorflow\\python\\keras\\optimizer_v2\\optimizer_v2.py:374: UserWarning: The `lr` argument is deprecated, use `learning_rate` instead.\n",
      "  warnings.warn(\n"
     ]
    },
    {
     "name": "stdout",
     "output_type": "stream",
     "text": [
      "\n",
      "\n",
      "Tested 12/50 iterations.\n",
      "Best MAE - Validation Dataset\n",
      "  MAE: 4.2 | sMAPE: 16.00 %\n",
      "\n",
      "Best MAE - Test Dataset\n",
      "  MAE: 14.1 | sMAPE: 19.74 %\n"
     ]
    },
    {
     "name": "stderr",
     "output_type": "stream",
     "text": [
      "C:\\Users\\35250\\AppData\\Roaming\\Python\\Python38\\site-packages\\tensorflow\\python\\keras\\optimizer_v2\\optimizer_v2.py:374: UserWarning: The `lr` argument is deprecated, use `learning_rate` instead.\n",
      "  warnings.warn(\n"
     ]
    },
    {
     "name": "stdout",
     "output_type": "stream",
     "text": [
      "\n",
      "\n",
      "Tested 13/50 iterations.\n",
      "Best MAE - Validation Dataset\n",
      "  MAE: 4.2 | sMAPE: 16.00 %\n",
      "\n",
      "Best MAE - Test Dataset\n",
      "  MAE: 14.1 | sMAPE: 19.74 %\n"
     ]
    },
    {
     "name": "stderr",
     "output_type": "stream",
     "text": [
      "C:\\Users\\35250\\AppData\\Roaming\\Python\\Python38\\site-packages\\tensorflow\\python\\keras\\optimizer_v2\\optimizer_v2.py:374: UserWarning: The `lr` argument is deprecated, use `learning_rate` instead.\n",
      "  warnings.warn(\n"
     ]
    },
    {
     "name": "stdout",
     "output_type": "stream",
     "text": [
      "\n",
      "\n",
      "Tested 14/50 iterations.\n",
      "Best MAE - Validation Dataset\n",
      "  MAE: 4.2 | sMAPE: 16.00 %\n",
      "\n",
      "Best MAE - Test Dataset\n",
      "  MAE: 14.1 | sMAPE: 19.74 %\n"
     ]
    },
    {
     "name": "stderr",
     "output_type": "stream",
     "text": [
      "C:\\Users\\35250\\AppData\\Roaming\\Python\\Python38\\site-packages\\tensorflow\\python\\keras\\optimizer_v2\\optimizer_v2.py:374: UserWarning: The `lr` argument is deprecated, use `learning_rate` instead.\n",
      "  warnings.warn(\n"
     ]
    },
    {
     "name": "stdout",
     "output_type": "stream",
     "text": [
      "\n",
      "\n",
      "Tested 15/50 iterations.\n",
      "Best MAE - Validation Dataset\n",
      "  MAE: 4.2 | sMAPE: 16.00 %\n",
      "\n",
      "Best MAE - Test Dataset\n",
      "  MAE: 14.1 | sMAPE: 19.74 %\n"
     ]
    },
    {
     "name": "stderr",
     "output_type": "stream",
     "text": [
      "C:\\Users\\35250\\AppData\\Roaming\\Python\\Python38\\site-packages\\tensorflow\\python\\keras\\optimizer_v2\\optimizer_v2.py:374: UserWarning: The `lr` argument is deprecated, use `learning_rate` instead.\n",
      "  warnings.warn(\n"
     ]
    },
    {
     "name": "stdout",
     "output_type": "stream",
     "text": [
      "\n",
      "\n",
      "Tested 16/50 iterations.\n",
      "Best MAE - Validation Dataset\n",
      "  MAE: 4.2 | sMAPE: 16.00 %\n",
      "\n",
      "Best MAE - Test Dataset\n",
      "  MAE: 14.1 | sMAPE: 19.74 %\n",
      "\n",
      "\n",
      "Tested 17/50 iterations.\n",
      "Best MAE - Validation Dataset\n",
      "  MAE: 4.2 | sMAPE: 16.00 %\n",
      "\n",
      "Best MAE - Test Dataset\n",
      "  MAE: 14.1 | sMAPE: 19.74 %\n",
      "\n",
      "\n",
      "Tested 18/50 iterations.\n",
      "Best MAE - Validation Dataset\n",
      "  MAE: 4.2 | sMAPE: 16.00 %\n",
      "\n",
      "Best MAE - Test Dataset\n",
      "  MAE: 14.1 | sMAPE: 19.74 %\n"
     ]
    },
    {
     "name": "stderr",
     "output_type": "stream",
     "text": [
      "C:\\Users\\35250\\AppData\\Roaming\\Python\\Python38\\site-packages\\tensorflow\\python\\keras\\optimizer_v2\\optimizer_v2.py:374: UserWarning: The `lr` argument is deprecated, use `learning_rate` instead.\n",
      "  warnings.warn(\n"
     ]
    },
    {
     "name": "stdout",
     "output_type": "stream",
     "text": [
      "\n",
      "\n",
      "Tested 19/50 iterations.\n",
      "Best MAE - Validation Dataset\n",
      "  MAE: 4.2 | sMAPE: 16.00 %\n",
      "\n",
      "Best MAE - Test Dataset\n",
      "  MAE: 14.1 | sMAPE: 19.74 %\n"
     ]
    },
    {
     "name": "stderr",
     "output_type": "stream",
     "text": [
      "C:\\Users\\35250\\AppData\\Roaming\\Python\\Python38\\site-packages\\tensorflow\\python\\keras\\optimizer_v2\\optimizer_v2.py:374: UserWarning: The `lr` argument is deprecated, use `learning_rate` instead.\n",
      "  warnings.warn(\n"
     ]
    },
    {
     "name": "stdout",
     "output_type": "stream",
     "text": [
      "\n",
      "\n",
      "Tested 20/50 iterations.\n",
      "Best MAE - Validation Dataset\n",
      "  MAE: 4.2 | sMAPE: 16.00 %\n",
      "\n",
      "Best MAE - Test Dataset\n",
      "  MAE: 14.1 | sMAPE: 19.74 %\n"
     ]
    },
    {
     "name": "stderr",
     "output_type": "stream",
     "text": [
      "C:\\Users\\35250\\AppData\\Roaming\\Python\\Python38\\site-packages\\tensorflow\\python\\keras\\optimizer_v2\\optimizer_v2.py:374: UserWarning: The `lr` argument is deprecated, use `learning_rate` instead.\n",
      "  warnings.warn(\n"
     ]
    },
    {
     "name": "stdout",
     "output_type": "stream",
     "text": [
      "\n",
      "\n",
      "Tested 21/50 iterations.\n",
      "Best MAE - Validation Dataset\n",
      "  MAE: 4.2 | sMAPE: 15.70 %\n",
      "\n",
      "Best MAE - Test Dataset\n",
      "  MAE: 14.1 | sMAPE: 19.26 %\n"
     ]
    },
    {
     "name": "stderr",
     "output_type": "stream",
     "text": [
      "C:\\Users\\35250\\AppData\\Roaming\\Python\\Python38\\site-packages\\tensorflow\\python\\keras\\optimizer_v2\\optimizer_v2.py:374: UserWarning: The `lr` argument is deprecated, use `learning_rate` instead.\n",
      "  warnings.warn(\n"
     ]
    },
    {
     "name": "stdout",
     "output_type": "stream",
     "text": [
      "\n",
      "\n",
      "Tested 22/50 iterations.\n",
      "Best MAE - Validation Dataset\n",
      "  MAE: 4.2 | sMAPE: 15.70 %\n",
      "\n",
      "Best MAE - Test Dataset\n",
      "  MAE: 14.1 | sMAPE: 19.26 %\n"
     ]
    },
    {
     "name": "stderr",
     "output_type": "stream",
     "text": [
      "C:\\Users\\35250\\AppData\\Roaming\\Python\\Python38\\site-packages\\tensorflow\\python\\keras\\optimizer_v2\\optimizer_v2.py:374: UserWarning: The `lr` argument is deprecated, use `learning_rate` instead.\n",
      "  warnings.warn(\n"
     ]
    },
    {
     "name": "stdout",
     "output_type": "stream",
     "text": [
      "\n",
      "\n",
      "Tested 23/50 iterations.\n",
      "Best MAE - Validation Dataset\n",
      "  MAE: 4.2 | sMAPE: 15.70 %\n",
      "\n",
      "Best MAE - Test Dataset\n",
      "  MAE: 14.1 | sMAPE: 19.26 %\n"
     ]
    },
    {
     "name": "stderr",
     "output_type": "stream",
     "text": [
      "C:\\Users\\35250\\AppData\\Roaming\\Python\\Python38\\site-packages\\tensorflow\\python\\keras\\optimizer_v2\\optimizer_v2.py:374: UserWarning: The `lr` argument is deprecated, use `learning_rate` instead.\n",
      "  warnings.warn(\n"
     ]
    },
    {
     "name": "stdout",
     "output_type": "stream",
     "text": [
      "\n",
      "\n",
      "Tested 24/50 iterations.\n",
      "Best MAE - Validation Dataset\n",
      "  MAE: 4.2 | sMAPE: 15.70 %\n",
      "\n",
      "Best MAE - Test Dataset\n",
      "  MAE: 14.1 | sMAPE: 19.26 %\n"
     ]
    },
    {
     "name": "stderr",
     "output_type": "stream",
     "text": [
      "C:\\Users\\35250\\AppData\\Roaming\\Python\\Python38\\site-packages\\tensorflow\\python\\keras\\optimizer_v2\\optimizer_v2.py:374: UserWarning: The `lr` argument is deprecated, use `learning_rate` instead.\n",
      "  warnings.warn(\n"
     ]
    },
    {
     "name": "stdout",
     "output_type": "stream",
     "text": [
      "\n",
      "\n",
      "Tested 25/50 iterations.\n",
      "Best MAE - Validation Dataset\n",
      "  MAE: 4.2 | sMAPE: 15.70 %\n",
      "\n",
      "Best MAE - Test Dataset\n",
      "  MAE: 14.1 | sMAPE: 19.26 %\n"
     ]
    },
    {
     "name": "stderr",
     "output_type": "stream",
     "text": [
      "C:\\Users\\35250\\AppData\\Roaming\\Python\\Python38\\site-packages\\tensorflow\\python\\keras\\optimizer_v2\\optimizer_v2.py:374: UserWarning: The `lr` argument is deprecated, use `learning_rate` instead.\n",
      "  warnings.warn(\n"
     ]
    },
    {
     "name": "stdout",
     "output_type": "stream",
     "text": [
      "\n",
      "\n",
      "Tested 26/50 iterations.\n",
      "Best MAE - Validation Dataset\n",
      "  MAE: 4.2 | sMAPE: 15.70 %\n",
      "\n",
      "Best MAE - Test Dataset\n",
      "  MAE: 14.1 | sMAPE: 19.26 %\n"
     ]
    },
    {
     "name": "stderr",
     "output_type": "stream",
     "text": [
      "C:\\Users\\35250\\AppData\\Roaming\\Python\\Python38\\site-packages\\tensorflow\\python\\keras\\optimizer_v2\\optimizer_v2.py:374: UserWarning: The `lr` argument is deprecated, use `learning_rate` instead.\n",
      "  warnings.warn(\n"
     ]
    },
    {
     "name": "stdout",
     "output_type": "stream",
     "text": [
      "\n",
      "\n",
      "Tested 27/50 iterations.\n",
      "Best MAE - Validation Dataset\n",
      "  MAE: 4.2 | sMAPE: 15.70 %\n",
      "\n",
      "Best MAE - Test Dataset\n",
      "  MAE: 14.1 | sMAPE: 19.26 %\n"
     ]
    },
    {
     "name": "stderr",
     "output_type": "stream",
     "text": [
      "C:\\Users\\35250\\AppData\\Roaming\\Python\\Python38\\site-packages\\tensorflow\\python\\keras\\optimizer_v2\\optimizer_v2.py:374: UserWarning: The `lr` argument is deprecated, use `learning_rate` instead.\n",
      "  warnings.warn(\n"
     ]
    },
    {
     "name": "stdout",
     "output_type": "stream",
     "text": [
      "\n",
      "\n",
      "Tested 28/50 iterations.\n",
      "Best MAE - Validation Dataset\n",
      "  MAE: 4.2 | sMAPE: 15.70 %\n",
      "\n",
      "Best MAE - Test Dataset\n",
      "  MAE: 14.1 | sMAPE: 19.26 %\n"
     ]
    },
    {
     "name": "stderr",
     "output_type": "stream",
     "text": [
      "C:\\Users\\35250\\AppData\\Roaming\\Python\\Python38\\site-packages\\tensorflow\\python\\keras\\optimizer_v2\\optimizer_v2.py:374: UserWarning: The `lr` argument is deprecated, use `learning_rate` instead.\n",
      "  warnings.warn(\n"
     ]
    },
    {
     "name": "stdout",
     "output_type": "stream",
     "text": [
      "\n",
      "\n",
      "Tested 29/50 iterations.\n",
      "Best MAE - Validation Dataset\n",
      "  MAE: 4.2 | sMAPE: 15.70 %\n",
      "\n",
      "Best MAE - Test Dataset\n",
      "  MAE: 14.1 | sMAPE: 19.26 %\n",
      "\n",
      "\n",
      "Tested 30/50 iterations.\n",
      "Best MAE - Validation Dataset\n",
      "  MAE: 4.2 | sMAPE: 15.70 %\n",
      "\n",
      "Best MAE - Test Dataset\n",
      "  MAE: 14.1 | sMAPE: 19.26 %\n"
     ]
    },
    {
     "name": "stderr",
     "output_type": "stream",
     "text": [
      "C:\\Users\\35250\\AppData\\Roaming\\Python\\Python38\\site-packages\\tensorflow\\python\\keras\\optimizer_v2\\optimizer_v2.py:374: UserWarning: The `lr` argument is deprecated, use `learning_rate` instead.\n",
      "  warnings.warn(\n"
     ]
    },
    {
     "name": "stdout",
     "output_type": "stream",
     "text": [
      "\n",
      "\n",
      "Tested 31/50 iterations.\n",
      "Best MAE - Validation Dataset\n",
      "  MAE: 4.2 | sMAPE: 15.70 %\n",
      "\n",
      "Best MAE - Test Dataset\n",
      "  MAE: 14.1 | sMAPE: 19.26 %\n"
     ]
    },
    {
     "name": "stderr",
     "output_type": "stream",
     "text": [
      "C:\\Users\\35250\\AppData\\Roaming\\Python\\Python38\\site-packages\\tensorflow\\python\\keras\\optimizer_v2\\optimizer_v2.py:374: UserWarning: The `lr` argument is deprecated, use `learning_rate` instead.\n",
      "  warnings.warn(\n"
     ]
    },
    {
     "name": "stdout",
     "output_type": "stream",
     "text": [
      "\n",
      "\n",
      "Tested 32/50 iterations.\n",
      "Best MAE - Validation Dataset\n",
      "  MAE: 4.2 | sMAPE: 15.70 %\n",
      "\n",
      "Best MAE - Test Dataset\n",
      "  MAE: 14.1 | sMAPE: 19.26 %\n"
     ]
    },
    {
     "name": "stderr",
     "output_type": "stream",
     "text": [
      "C:\\Users\\35250\\AppData\\Roaming\\Python\\Python38\\site-packages\\tensorflow\\python\\keras\\optimizer_v2\\optimizer_v2.py:374: UserWarning: The `lr` argument is deprecated, use `learning_rate` instead.\n",
      "  warnings.warn(\n"
     ]
    },
    {
     "name": "stdout",
     "output_type": "stream",
     "text": [
      "\n",
      "\n",
      "Tested 33/50 iterations.\n",
      "Best MAE - Validation Dataset\n",
      "  MAE: 4.2 | sMAPE: 15.70 %\n",
      "\n",
      "Best MAE - Test Dataset\n",
      "  MAE: 14.1 | sMAPE: 19.26 %\n"
     ]
    },
    {
     "name": "stderr",
     "output_type": "stream",
     "text": [
      "C:\\Users\\35250\\AppData\\Roaming\\Python\\Python38\\site-packages\\tensorflow\\python\\keras\\optimizer_v2\\optimizer_v2.py:374: UserWarning: The `lr` argument is deprecated, use `learning_rate` instead.\n",
      "  warnings.warn(\n"
     ]
    },
    {
     "name": "stdout",
     "output_type": "stream",
     "text": [
      "\n",
      "\n",
      "Tested 34/50 iterations.\n",
      "Best MAE - Validation Dataset\n",
      "  MAE: 4.2 | sMAPE: 15.70 %\n",
      "\n",
      "Best MAE - Test Dataset\n",
      "  MAE: 14.1 | sMAPE: 19.26 %\n"
     ]
    },
    {
     "name": "stderr",
     "output_type": "stream",
     "text": [
      "C:\\Users\\35250\\AppData\\Roaming\\Python\\Python38\\site-packages\\tensorflow\\python\\keras\\optimizer_v2\\optimizer_v2.py:374: UserWarning: The `lr` argument is deprecated, use `learning_rate` instead.\n",
      "  warnings.warn(\n"
     ]
    },
    {
     "name": "stdout",
     "output_type": "stream",
     "text": [
      "\n",
      "\n",
      "Tested 35/50 iterations.\n",
      "Best MAE - Validation Dataset\n",
      "  MAE: 4.2 | sMAPE: 15.70 %\n",
      "\n",
      "Best MAE - Test Dataset\n",
      "  MAE: 14.1 | sMAPE: 19.26 %\n"
     ]
    },
    {
     "name": "stderr",
     "output_type": "stream",
     "text": [
      "C:\\Users\\35250\\AppData\\Roaming\\Python\\Python38\\site-packages\\tensorflow\\python\\keras\\optimizer_v2\\optimizer_v2.py:374: UserWarning: The `lr` argument is deprecated, use `learning_rate` instead.\n",
      "  warnings.warn(\n"
     ]
    },
    {
     "name": "stdout",
     "output_type": "stream",
     "text": [
      "\n",
      "\n",
      "Tested 36/50 iterations.\n",
      "Best MAE - Validation Dataset\n",
      "  MAE: 4.2 | sMAPE: 15.70 %\n",
      "\n",
      "Best MAE - Test Dataset\n",
      "  MAE: 14.1 | sMAPE: 19.26 %\n"
     ]
    },
    {
     "name": "stderr",
     "output_type": "stream",
     "text": [
      "C:\\Users\\35250\\AppData\\Roaming\\Python\\Python38\\site-packages\\tensorflow\\python\\keras\\optimizer_v2\\optimizer_v2.py:374: UserWarning: The `lr` argument is deprecated, use `learning_rate` instead.\n",
      "  warnings.warn(\n"
     ]
    },
    {
     "name": "stdout",
     "output_type": "stream",
     "text": [
      "\n",
      "\n",
      "Tested 37/50 iterations.\n",
      "Best MAE - Validation Dataset\n",
      "  MAE: 4.2 | sMAPE: 15.70 %\n",
      "\n",
      "Best MAE - Test Dataset\n",
      "  MAE: 14.1 | sMAPE: 19.26 %\n"
     ]
    },
    {
     "name": "stderr",
     "output_type": "stream",
     "text": [
      "C:\\Users\\35250\\AppData\\Roaming\\Python\\Python38\\site-packages\\tensorflow\\python\\keras\\optimizer_v2\\optimizer_v2.py:374: UserWarning: The `lr` argument is deprecated, use `learning_rate` instead.\n",
      "  warnings.warn(\n"
     ]
    },
    {
     "name": "stdout",
     "output_type": "stream",
     "text": [
      "\n",
      "\n",
      "Tested 38/50 iterations.\n",
      "Best MAE - Validation Dataset\n",
      "  MAE: 4.2 | sMAPE: 15.70 %\n",
      "\n",
      "Best MAE - Test Dataset\n",
      "  MAE: 14.1 | sMAPE: 19.26 %\n"
     ]
    },
    {
     "name": "stderr",
     "output_type": "stream",
     "text": [
      "C:\\Users\\35250\\AppData\\Roaming\\Python\\Python38\\site-packages\\tensorflow\\python\\keras\\optimizer_v2\\optimizer_v2.py:374: UserWarning: The `lr` argument is deprecated, use `learning_rate` instead.\n",
      "  warnings.warn(\n"
     ]
    },
    {
     "name": "stdout",
     "output_type": "stream",
     "text": [
      "\n",
      "\n",
      "Tested 39/50 iterations.\n",
      "Best MAE - Validation Dataset\n",
      "  MAE: 4.2 | sMAPE: 15.70 %\n",
      "\n",
      "Best MAE - Test Dataset\n",
      "  MAE: 14.1 | sMAPE: 19.26 %\n"
     ]
    },
    {
     "name": "stderr",
     "output_type": "stream",
     "text": [
      "C:\\Users\\35250\\AppData\\Roaming\\Python\\Python38\\site-packages\\tensorflow\\python\\keras\\optimizer_v2\\optimizer_v2.py:374: UserWarning: The `lr` argument is deprecated, use `learning_rate` instead.\n",
      "  warnings.warn(\n"
     ]
    },
    {
     "name": "stdout",
     "output_type": "stream",
     "text": [
      "\n",
      "\n",
      "Tested 40/50 iterations.\n",
      "Best MAE - Validation Dataset\n",
      "  MAE: 4.2 | sMAPE: 15.70 %\n",
      "\n",
      "Best MAE - Test Dataset\n",
      "  MAE: 14.1 | sMAPE: 19.26 %\n",
      "\n",
      "\n",
      "Tested 41/50 iterations.\n",
      "Best MAE - Validation Dataset\n",
      "  MAE: 4.2 | sMAPE: 15.70 %\n",
      "\n",
      "Best MAE - Test Dataset\n",
      "  MAE: 14.1 | sMAPE: 19.26 %\n"
     ]
    },
    {
     "name": "stderr",
     "output_type": "stream",
     "text": [
      "C:\\Users\\35250\\AppData\\Roaming\\Python\\Python38\\site-packages\\tensorflow\\python\\keras\\optimizer_v2\\optimizer_v2.py:374: UserWarning: The `lr` argument is deprecated, use `learning_rate` instead.\n",
      "  warnings.warn(\n"
     ]
    },
    {
     "name": "stdout",
     "output_type": "stream",
     "text": [
      "\n",
      "\n",
      "Tested 42/50 iterations.\n",
      "Best MAE - Validation Dataset\n",
      "  MAE: 4.2 | sMAPE: 15.70 %\n",
      "\n",
      "Best MAE - Test Dataset\n",
      "  MAE: 14.1 | sMAPE: 19.26 %\n"
     ]
    },
    {
     "name": "stderr",
     "output_type": "stream",
     "text": [
      "C:\\Users\\35250\\AppData\\Roaming\\Python\\Python38\\site-packages\\tensorflow\\python\\keras\\optimizer_v2\\optimizer_v2.py:374: UserWarning: The `lr` argument is deprecated, use `learning_rate` instead.\n",
      "  warnings.warn(\n"
     ]
    },
    {
     "name": "stdout",
     "output_type": "stream",
     "text": [
      "\n",
      "\n",
      "Tested 43/50 iterations.\n",
      "Best MAE - Validation Dataset\n",
      "  MAE: 4.2 | sMAPE: 15.70 %\n",
      "\n",
      "Best MAE - Test Dataset\n",
      "  MAE: 14.1 | sMAPE: 19.26 %\n"
     ]
    },
    {
     "name": "stderr",
     "output_type": "stream",
     "text": [
      "C:\\Users\\35250\\AppData\\Roaming\\Python\\Python38\\site-packages\\tensorflow\\python\\keras\\optimizer_v2\\optimizer_v2.py:374: UserWarning: The `lr` argument is deprecated, use `learning_rate` instead.\n",
      "  warnings.warn(\n"
     ]
    },
    {
     "name": "stdout",
     "output_type": "stream",
     "text": [
      "\n",
      "\n",
      "Tested 44/50 iterations.\n",
      "Best MAE - Validation Dataset\n",
      "  MAE: 4.0 | sMAPE: 15.15 %\n",
      "\n",
      "Best MAE - Test Dataset\n",
      "  MAE: 13.8 | sMAPE: 19.07 %\n"
     ]
    },
    {
     "name": "stderr",
     "output_type": "stream",
     "text": [
      "C:\\Users\\35250\\AppData\\Roaming\\Python\\Python38\\site-packages\\tensorflow\\python\\keras\\optimizer_v2\\optimizer_v2.py:374: UserWarning: The `lr` argument is deprecated, use `learning_rate` instead.\n",
      "  warnings.warn(\n"
     ]
    },
    {
     "name": "stdout",
     "output_type": "stream",
     "text": [
      "\n",
      "\n",
      "Tested 45/50 iterations.\n",
      "Best MAE - Validation Dataset\n",
      "  MAE: 4.0 | sMAPE: 15.15 %\n",
      "\n",
      "Best MAE - Test Dataset\n",
      "  MAE: 13.8 | sMAPE: 19.07 %\n"
     ]
    },
    {
     "name": "stderr",
     "output_type": "stream",
     "text": [
      "C:\\Users\\35250\\AppData\\Roaming\\Python\\Python38\\site-packages\\tensorflow\\python\\keras\\optimizer_v2\\optimizer_v2.py:374: UserWarning: The `lr` argument is deprecated, use `learning_rate` instead.\n",
      "  warnings.warn(\n"
     ]
    },
    {
     "name": "stdout",
     "output_type": "stream",
     "text": [
      "\n",
      "\n",
      "Tested 46/50 iterations.\n",
      "Best MAE - Validation Dataset\n",
      "  MAE: 4.0 | sMAPE: 15.15 %\n",
      "\n",
      "Best MAE - Test Dataset\n",
      "  MAE: 13.8 | sMAPE: 19.07 %\n"
     ]
    },
    {
     "name": "stderr",
     "output_type": "stream",
     "text": [
      "C:\\Users\\35250\\AppData\\Roaming\\Python\\Python38\\site-packages\\tensorflow\\python\\keras\\optimizer_v2\\optimizer_v2.py:374: UserWarning: The `lr` argument is deprecated, use `learning_rate` instead.\n",
      "  warnings.warn(\n"
     ]
    },
    {
     "name": "stdout",
     "output_type": "stream",
     "text": [
      "\n",
      "\n",
      "Tested 47/50 iterations.\n",
      "Best MAE - Validation Dataset\n",
      "  MAE: 4.0 | sMAPE: 15.15 %\n",
      "\n",
      "Best MAE - Test Dataset\n",
      "  MAE: 13.8 | sMAPE: 19.07 %\n"
     ]
    },
    {
     "name": "stderr",
     "output_type": "stream",
     "text": [
      "C:\\Users\\35250\\AppData\\Roaming\\Python\\Python38\\site-packages\\tensorflow\\python\\keras\\optimizer_v2\\optimizer_v2.py:374: UserWarning: The `lr` argument is deprecated, use `learning_rate` instead.\n",
      "  warnings.warn(\n"
     ]
    },
    {
     "name": "stdout",
     "output_type": "stream",
     "text": [
      "\n",
      "\n",
      "Tested 48/50 iterations.\n",
      "Best MAE - Validation Dataset\n",
      "  MAE: 4.0 | sMAPE: 15.15 %\n",
      "\n",
      "Best MAE - Test Dataset\n",
      "  MAE: 13.8 | sMAPE: 19.07 %\n",
      "\n",
      "\n",
      "Tested 49/50 iterations.\n",
      "Best MAE - Validation Dataset\n",
      "  MAE: 4.0 | sMAPE: 15.15 %\n",
      "\n",
      "Best MAE - Test Dataset\n",
      "  MAE: 13.8 | sMAPE: 19.07 %\n"
     ]
    },
    {
     "name": "stderr",
     "output_type": "stream",
     "text": [
      "C:\\Users\\35250\\AppData\\Roaming\\Python\\Python38\\site-packages\\tensorflow\\python\\keras\\optimizer_v2\\optimizer_v2.py:374: UserWarning: The `lr` argument is deprecated, use `learning_rate` instead.\n",
      "  warnings.warn(\n"
     ]
    }
   ],
   "source": [
    "# Number of layers in DNN\n",
    "nlayers = 2\n",
    "\n",
    "# data to study\n",
    "dataset = 'auctionData_final'\n",
    "\n",
    "# 1 year is considered as 364 days (52 weeks)\n",
    "# years_test = 1\n",
    "\n",
    "# Optional parameters for selecting the test dataset\n",
    "begin_test_date = '2020-10-19'\n",
    "end_test_date = '2021-01-17'\n",
    "\n",
    "# Boolean that selects whether the validation and training datasets are shuffled\n",
    "shuffle_train = 1\n",
    "\n",
    "# Boolean that selects whether a data augmentation technique for DNNs is used\n",
    "data_augmentation = 0\n",
    "\n",
    "# Boolean that selects whether we start a new hyperparameter optimization or we restart an existing one\n",
    "new_hyperopt = 1\n",
    "\n",
    "# Number of years used in the training dataset for recalibration\n",
    "calibration_window = 1\n",
    "\n",
    "# Unique identifier to read the trials file of hyperparameter optimization\n",
    "experiment_id = 4\n",
    "\n",
    "# Number of iterations for hyperparameter optimization\n",
    "max_evals = 50\n",
    "\n",
    "# path_datasets_folder = \"./datasets/\"\n",
    "# path_hyperparameters_folder = \"./experimental_files/\"\n",
    "\n",
    "hyperparameter_optimizer(path_datasets_folder = 'final datasets',\n",
    "                         path_hyperparameters_folder = 'hyperparameter_dnn/auc_October',\n",
    "                         new_hyperopt = new_hyperopt,\n",
    "                         max_evals = max_evals,\n",
    "                         nlayers = nlayers,\n",
    "                         dataset = dataset, \n",
    "                         #years_test = years_test,\n",
    "                         calibration_window = calibration_window, \n",
    "                         shuffle_train = shuffle_train,\n",
    "                         data_augmentation = data_augmentation,\n",
    "                         experiment_id = experiment_id,\n",
    "                         begin_test_date = begin_test_date,\n",
    "                         end_test_date = end_test_date)"
   ]
  },
  {
   "cell_type": "markdown",
   "id": "3222c4f7",
   "metadata": {},
   "source": [
    "# test"
   ]
  },
  {
   "cell_type": "code",
   "execution_count": 7,
   "id": "ca314630",
   "metadata": {
    "scrolled": true
   },
   "outputs": [
    {
     "name": "stdout",
     "output_type": "stream",
     "text": [
      "Test datasets: 2020-07-20 00:00:00 - 2020-07-26 23:00:00\n"
     ]
    },
    {
     "name": "stderr",
     "output_type": "stream",
     "text": [
      "C:\\Users\\35250\\AppData\\Roaming\\Python\\Python38\\site-packages\\tensorflow\\python\\keras\\optimizer_v2\\optimizer_v2.py:374: UserWarning: The `lr` argument is deprecated, use `learning_rate` instead.\n",
      "  warnings.warn(\n"
     ]
    },
    {
     "name": "stdout",
     "output_type": "stream",
     "text": [
      "2020-07-20 - sMAPE: 41.93%  |  MAE: 7.899\n"
     ]
    },
    {
     "name": "stderr",
     "output_type": "stream",
     "text": [
      "C:\\Users\\35250\\AppData\\Roaming\\Python\\Python38\\site-packages\\tensorflow\\python\\keras\\optimizer_v2\\optimizer_v2.py:374: UserWarning: The `lr` argument is deprecated, use `learning_rate` instead.\n",
      "  warnings.warn(\n"
     ]
    },
    {
     "name": "stdout",
     "output_type": "stream",
     "text": [
      "2020-07-21 - sMAPE: 34.58%  |  MAE: 7.893\n"
     ]
    },
    {
     "name": "stderr",
     "output_type": "stream",
     "text": [
      "C:\\Users\\35250\\AppData\\Roaming\\Python\\Python38\\site-packages\\tensorflow\\python\\keras\\optimizer_v2\\optimizer_v2.py:374: UserWarning: The `lr` argument is deprecated, use `learning_rate` instead.\n",
      "  warnings.warn(\n"
     ]
    },
    {
     "name": "stdout",
     "output_type": "stream",
     "text": [
      "2020-07-22 - sMAPE: 31.59%  |  MAE: 7.555\n"
     ]
    },
    {
     "name": "stderr",
     "output_type": "stream",
     "text": [
      "C:\\Users\\35250\\AppData\\Roaming\\Python\\Python38\\site-packages\\tensorflow\\python\\keras\\optimizer_v2\\optimizer_v2.py:374: UserWarning: The `lr` argument is deprecated, use `learning_rate` instead.\n",
      "  warnings.warn(\n"
     ]
    },
    {
     "name": "stdout",
     "output_type": "stream",
     "text": [
      "2020-07-23 - sMAPE: 30.65%  |  MAE: 7.958\n"
     ]
    },
    {
     "name": "stderr",
     "output_type": "stream",
     "text": [
      "C:\\Users\\35250\\AppData\\Roaming\\Python\\Python38\\site-packages\\tensorflow\\python\\keras\\optimizer_v2\\optimizer_v2.py:374: UserWarning: The `lr` argument is deprecated, use `learning_rate` instead.\n",
      "  warnings.warn(\n"
     ]
    },
    {
     "name": "stdout",
     "output_type": "stream",
     "text": [
      "2020-07-24 - sMAPE: 29.26%  |  MAE: 7.993\n"
     ]
    },
    {
     "name": "stderr",
     "output_type": "stream",
     "text": [
      "C:\\Users\\35250\\AppData\\Roaming\\Python\\Python38\\site-packages\\tensorflow\\python\\keras\\optimizer_v2\\optimizer_v2.py:374: UserWarning: The `lr` argument is deprecated, use `learning_rate` instead.\n",
      "  warnings.warn(\n"
     ]
    },
    {
     "name": "stdout",
     "output_type": "stream",
     "text": [
      "2020-07-25 - sMAPE: 29.53%  |  MAE: 7.785\n"
     ]
    },
    {
     "name": "stderr",
     "output_type": "stream",
     "text": [
      "C:\\Users\\35250\\AppData\\Roaming\\Python\\Python38\\site-packages\\tensorflow\\python\\keras\\optimizer_v2\\optimizer_v2.py:374: UserWarning: The `lr` argument is deprecated, use `learning_rate` instead.\n",
      "  warnings.warn(\n"
     ]
    },
    {
     "name": "stdout",
     "output_type": "stream",
     "text": [
      "2020-07-26 - sMAPE: 28.60%  |  MAE: 7.483\n"
     ]
    },
    {
     "data": {
      "text/html": [
       "<div>\n",
       "<style scoped>\n",
       "    .dataframe tbody tr th:only-of-type {\n",
       "        vertical-align: middle;\n",
       "    }\n",
       "\n",
       "    .dataframe tbody tr th {\n",
       "        vertical-align: top;\n",
       "    }\n",
       "\n",
       "    .dataframe thead th {\n",
       "        text-align: right;\n",
       "    }\n",
       "</style>\n",
       "<table border=\"1\" class=\"dataframe\">\n",
       "  <thead>\n",
       "    <tr style=\"text-align: right;\">\n",
       "      <th></th>\n",
       "      <th>h0</th>\n",
       "      <th>h1</th>\n",
       "      <th>h2</th>\n",
       "      <th>h3</th>\n",
       "      <th>h4</th>\n",
       "      <th>h5</th>\n",
       "      <th>h6</th>\n",
       "      <th>h7</th>\n",
       "      <th>h8</th>\n",
       "      <th>h9</th>\n",
       "      <th>...</th>\n",
       "      <th>h14</th>\n",
       "      <th>h15</th>\n",
       "      <th>h16</th>\n",
       "      <th>h17</th>\n",
       "      <th>h18</th>\n",
       "      <th>h19</th>\n",
       "      <th>h20</th>\n",
       "      <th>h21</th>\n",
       "      <th>h22</th>\n",
       "      <th>h23</th>\n",
       "    </tr>\n",
       "    <tr>\n",
       "      <th>datetime</th>\n",
       "      <th></th>\n",
       "      <th></th>\n",
       "      <th></th>\n",
       "      <th></th>\n",
       "      <th></th>\n",
       "      <th></th>\n",
       "      <th></th>\n",
       "      <th></th>\n",
       "      <th></th>\n",
       "      <th></th>\n",
       "      <th></th>\n",
       "      <th></th>\n",
       "      <th></th>\n",
       "      <th></th>\n",
       "      <th></th>\n",
       "      <th></th>\n",
       "      <th></th>\n",
       "      <th></th>\n",
       "      <th></th>\n",
       "      <th></th>\n",
       "      <th></th>\n",
       "    </tr>\n",
       "  </thead>\n",
       "  <tbody>\n",
       "    <tr>\n",
       "      <th>2020-07-20</th>\n",
       "      <td>21.620766</td>\n",
       "      <td>26.159578</td>\n",
       "      <td>35.014774</td>\n",
       "      <td>19.244843</td>\n",
       "      <td>16.937399</td>\n",
       "      <td>33.197662</td>\n",
       "      <td>40.582375</td>\n",
       "      <td>38.05814</td>\n",
       "      <td>22.831535</td>\n",
       "      <td>12.626434</td>\n",
       "      <td>...</td>\n",
       "      <td>22.053951</td>\n",
       "      <td>-0.834946</td>\n",
       "      <td>5.486713</td>\n",
       "      <td>9.248501</td>\n",
       "      <td>33.743111</td>\n",
       "      <td>40.283451</td>\n",
       "      <td>40.885109</td>\n",
       "      <td>43.178913</td>\n",
       "      <td>35.093693</td>\n",
       "      <td>34.616264</td>\n",
       "    </tr>\n",
       "    <tr>\n",
       "      <th>2020-07-21</th>\n",
       "      <td>31.57823</td>\n",
       "      <td>38.571732</td>\n",
       "      <td>34.988518</td>\n",
       "      <td>31.02821</td>\n",
       "      <td>31.02467</td>\n",
       "      <td>32.602467</td>\n",
       "      <td>40.577038</td>\n",
       "      <td>35.032604</td>\n",
       "      <td>36.01265</td>\n",
       "      <td>28.693907</td>\n",
       "      <td>...</td>\n",
       "      <td>34.400391</td>\n",
       "      <td>26.046291</td>\n",
       "      <td>24.379259</td>\n",
       "      <td>42.124874</td>\n",
       "      <td>43.207829</td>\n",
       "      <td>35.941616</td>\n",
       "      <td>40.287476</td>\n",
       "      <td>39.81823</td>\n",
       "      <td>32.809586</td>\n",
       "      <td>23.58012</td>\n",
       "    </tr>\n",
       "    <tr>\n",
       "      <th>2020-07-22</th>\n",
       "      <td>25.857235</td>\n",
       "      <td>36.251728</td>\n",
       "      <td>33.433365</td>\n",
       "      <td>31.685179</td>\n",
       "      <td>33.713318</td>\n",
       "      <td>28.222477</td>\n",
       "      <td>32.35117</td>\n",
       "      <td>28.147646</td>\n",
       "      <td>34.816185</td>\n",
       "      <td>38.960312</td>\n",
       "      <td>...</td>\n",
       "      <td>16.651875</td>\n",
       "      <td>23.98941</td>\n",
       "      <td>39.575092</td>\n",
       "      <td>22.995346</td>\n",
       "      <td>45.873722</td>\n",
       "      <td>45.486397</td>\n",
       "      <td>40.665253</td>\n",
       "      <td>34.068165</td>\n",
       "      <td>21.116718</td>\n",
       "      <td>21.132046</td>\n",
       "    </tr>\n",
       "    <tr>\n",
       "      <th>2020-07-23</th>\n",
       "      <td>18.061901</td>\n",
       "      <td>21.396868</td>\n",
       "      <td>27.414551</td>\n",
       "      <td>26.290852</td>\n",
       "      <td>27.278337</td>\n",
       "      <td>40.519333</td>\n",
       "      <td>40.051929</td>\n",
       "      <td>42.483299</td>\n",
       "      <td>46.70961</td>\n",
       "      <td>47.400505</td>\n",
       "      <td>...</td>\n",
       "      <td>21.583721</td>\n",
       "      <td>14.889961</td>\n",
       "      <td>47.344299</td>\n",
       "      <td>54.959606</td>\n",
       "      <td>58.028397</td>\n",
       "      <td>55.831642</td>\n",
       "      <td>50.886986</td>\n",
       "      <td>47.563988</td>\n",
       "      <td>43.980274</td>\n",
       "      <td>23.458544</td>\n",
       "    </tr>\n",
       "    <tr>\n",
       "      <th>2020-07-24</th>\n",
       "      <td>41.576317</td>\n",
       "      <td>39.837139</td>\n",
       "      <td>22.83744</td>\n",
       "      <td>19.91544</td>\n",
       "      <td>14.573219</td>\n",
       "      <td>37.488152</td>\n",
       "      <td>39.314411</td>\n",
       "      <td>36.312958</td>\n",
       "      <td>44.125298</td>\n",
       "      <td>45.247704</td>\n",
       "      <td>...</td>\n",
       "      <td>35.415482</td>\n",
       "      <td>25.218359</td>\n",
       "      <td>11.88246</td>\n",
       "      <td>34.71735</td>\n",
       "      <td>43.754009</td>\n",
       "      <td>44.9333</td>\n",
       "      <td>43.682617</td>\n",
       "      <td>44.171043</td>\n",
       "      <td>42.900776</td>\n",
       "      <td>26.751568</td>\n",
       "    </tr>\n",
       "    <tr>\n",
       "      <th>2020-07-25</th>\n",
       "      <td>26.019369</td>\n",
       "      <td>9.667463</td>\n",
       "      <td>16.948357</td>\n",
       "      <td>25.509478</td>\n",
       "      <td>31.159796</td>\n",
       "      <td>18.834045</td>\n",
       "      <td>21.627296</td>\n",
       "      <td>12.89325</td>\n",
       "      <td>18.391476</td>\n",
       "      <td>37.048687</td>\n",
       "      <td>...</td>\n",
       "      <td>35.404926</td>\n",
       "      <td>38.49794</td>\n",
       "      <td>47.562023</td>\n",
       "      <td>49.385231</td>\n",
       "      <td>49.436901</td>\n",
       "      <td>47.740635</td>\n",
       "      <td>47.85643</td>\n",
       "      <td>44.226765</td>\n",
       "      <td>43.01601</td>\n",
       "      <td>32.41082</td>\n",
       "    </tr>\n",
       "    <tr>\n",
       "      <th>2020-07-26</th>\n",
       "      <td>32.689003</td>\n",
       "      <td>16.988487</td>\n",
       "      <td>29.842548</td>\n",
       "      <td>38.274174</td>\n",
       "      <td>41.823761</td>\n",
       "      <td>35.745396</td>\n",
       "      <td>30.830284</td>\n",
       "      <td>35.777702</td>\n",
       "      <td>15.363197</td>\n",
       "      <td>29.445259</td>\n",
       "      <td>...</td>\n",
       "      <td>9.483965</td>\n",
       "      <td>12.007957</td>\n",
       "      <td>25.189812</td>\n",
       "      <td>38.26976</td>\n",
       "      <td>44.568665</td>\n",
       "      <td>31.556553</td>\n",
       "      <td>24.391911</td>\n",
       "      <td>42.059158</td>\n",
       "      <td>38.949203</td>\n",
       "      <td>38.197865</td>\n",
       "    </tr>\n",
       "  </tbody>\n",
       "</table>\n",
       "<p>7 rows × 24 columns</p>\n",
       "</div>"
      ],
      "text/plain": [
       "                   h0         h1         h2         h3         h4         h5  \\\n",
       "datetime                                                                       \n",
       "2020-07-20  21.620766  26.159578  35.014774  19.244843  16.937399  33.197662   \n",
       "2020-07-21   31.57823  38.571732  34.988518   31.02821   31.02467  32.602467   \n",
       "2020-07-22  25.857235  36.251728  33.433365  31.685179  33.713318  28.222477   \n",
       "2020-07-23  18.061901  21.396868  27.414551  26.290852  27.278337  40.519333   \n",
       "2020-07-24  41.576317  39.837139   22.83744   19.91544  14.573219  37.488152   \n",
       "2020-07-25  26.019369   9.667463  16.948357  25.509478  31.159796  18.834045   \n",
       "2020-07-26  32.689003  16.988487  29.842548  38.274174  41.823761  35.745396   \n",
       "\n",
       "                   h6         h7         h8         h9  ...        h14  \\\n",
       "datetime                                                ...              \n",
       "2020-07-20  40.582375   38.05814  22.831535  12.626434  ...  22.053951   \n",
       "2020-07-21  40.577038  35.032604   36.01265  28.693907  ...  34.400391   \n",
       "2020-07-22   32.35117  28.147646  34.816185  38.960312  ...  16.651875   \n",
       "2020-07-23  40.051929  42.483299   46.70961  47.400505  ...  21.583721   \n",
       "2020-07-24  39.314411  36.312958  44.125298  45.247704  ...  35.415482   \n",
       "2020-07-25  21.627296   12.89325  18.391476  37.048687  ...  35.404926   \n",
       "2020-07-26  30.830284  35.777702  15.363197  29.445259  ...   9.483965   \n",
       "\n",
       "                  h15        h16        h17        h18        h19        h20  \\\n",
       "datetime                                                                       \n",
       "2020-07-20  -0.834946   5.486713   9.248501  33.743111  40.283451  40.885109   \n",
       "2020-07-21  26.046291  24.379259  42.124874  43.207829  35.941616  40.287476   \n",
       "2020-07-22   23.98941  39.575092  22.995346  45.873722  45.486397  40.665253   \n",
       "2020-07-23  14.889961  47.344299  54.959606  58.028397  55.831642  50.886986   \n",
       "2020-07-24  25.218359   11.88246   34.71735  43.754009    44.9333  43.682617   \n",
       "2020-07-25   38.49794  47.562023  49.385231  49.436901  47.740635   47.85643   \n",
       "2020-07-26  12.007957  25.189812   38.26976  44.568665  31.556553  24.391911   \n",
       "\n",
       "                  h21        h22        h23  \n",
       "datetime                                     \n",
       "2020-07-20  43.178913  35.093693  34.616264  \n",
       "2020-07-21   39.81823  32.809586   23.58012  \n",
       "2020-07-22  34.068165  21.116718  21.132046  \n",
       "2020-07-23  47.563988  43.980274  23.458544  \n",
       "2020-07-24  44.171043  42.900776  26.751568  \n",
       "2020-07-25  44.226765   43.01601   32.41082  \n",
       "2020-07-26  42.059158  38.949203  38.197865  \n",
       "\n",
       "[7 rows x 24 columns]"
      ]
     },
     "execution_count": 7,
     "metadata": {},
     "output_type": "execute_result"
    }
   ],
   "source": [
    "# Number of layers in DNN\n",
    "nlayers = 2\n",
    "\n",
    "# data to study\n",
    "dataset = 'imbalanceData_final'\n",
    "\n",
    "# 1 year is considered as 364 days (52 weeks)\n",
    "# years_test = 1\n",
    "\n",
    "# Optional parameters for selecting the test dataset\n",
    "begin_test_date = '2020-07-20'\n",
    "end_test_date = '2020-07-26'\n",
    "\n",
    "# for recalibration the validation and the training datasets are always shuffled\n",
    "shuffle_train = 1\n",
    "\n",
    "# Boolean that selects whether a data augmentation technique for DNNs is used\n",
    "data_augmentation = 0\n",
    "\n",
    "# Boolean that selects whether we start a new recalibration or we restart an existing one\n",
    "new_recalibration = 1\n",
    "\n",
    "# Number of years used in the training dataset for recalibration\n",
    "calibration_window = 1\n",
    "\n",
    "# Unique identifier to read the trials file of hyperparameter optimization\n",
    "experiment_id = 4\n",
    "\n",
    "# Set up the paths for saving data (this are the defaults for the library)\n",
    "# path_datasets_folder = os.path.join('.', 'datasets')\n",
    "# path_recalibration_folder = os.path.join('.', 'experimental_files')\n",
    "# path_hyperparameter_folder = os.path.join('.', 'experimental_files')\n",
    "\n",
    "evaluate_dnn_in_test_dataset(experiment_id,\n",
    "                             path_hyperparameter_folder = 'hyperparameter_dnn/imb_July',\n",
    "                             path_datasets_folder = 'final datasets',\n",
    "                             shuffle_train = shuffle_train,\n",
    "                             path_recalibration_folder = 'forecast results/DNN/imb_July',\n",
    "                             nlayers = nlayers,\n",
    "                             dataset = dataset,\n",
    "                             #years_test = years_test,\n",
    "                             data_augmentation = data_augmentation,\n",
    "                             calibration_window = calibration_window,\n",
    "                             new_recalibration = new_recalibration,\n",
    "                             begin_test_date = begin_test_date,\n",
    "                             end_test_date = end_test_date)"
   ]
  },
  {
   "cell_type": "code",
   "execution_count": 8,
   "id": "e713f404",
   "metadata": {
    "scrolled": true
   },
   "outputs": [
    {
     "name": "stdout",
     "output_type": "stream",
     "text": [
      "Test datasets: 2020-10-19 00:00:00 - 2020-10-25 23:00:00\n"
     ]
    },
    {
     "name": "stderr",
     "output_type": "stream",
     "text": [
      "C:\\Users\\35250\\AppData\\Roaming\\Python\\Python38\\site-packages\\tensorflow\\python\\keras\\optimizer_v2\\optimizer_v2.py:374: UserWarning: The `lr` argument is deprecated, use `learning_rate` instead.\n",
      "  warnings.warn(\n"
     ]
    },
    {
     "name": "stdout",
     "output_type": "stream",
     "text": [
      "2020-10-19 - sMAPE: 31.62%  |  MAE: 10.223\n"
     ]
    },
    {
     "name": "stderr",
     "output_type": "stream",
     "text": [
      "C:\\Users\\35250\\AppData\\Roaming\\Python\\Python38\\site-packages\\tensorflow\\python\\keras\\optimizer_v2\\optimizer_v2.py:374: UserWarning: The `lr` argument is deprecated, use `learning_rate` instead.\n",
      "  warnings.warn(\n"
     ]
    },
    {
     "name": "stdout",
     "output_type": "stream",
     "text": [
      "2020-10-20 - sMAPE: 26.48%  |  MAE: 9.325\n"
     ]
    },
    {
     "name": "stderr",
     "output_type": "stream",
     "text": [
      "C:\\Users\\35250\\AppData\\Roaming\\Python\\Python38\\site-packages\\tensorflow\\python\\keras\\optimizer_v2\\optimizer_v2.py:374: UserWarning: The `lr` argument is deprecated, use `learning_rate` instead.\n",
      "  warnings.warn(\n"
     ]
    },
    {
     "name": "stdout",
     "output_type": "stream",
     "text": [
      "2020-10-21 - sMAPE: 35.45%  |  MAE: 9.845\n"
     ]
    },
    {
     "name": "stderr",
     "output_type": "stream",
     "text": [
      "C:\\Users\\35250\\AppData\\Roaming\\Python\\Python38\\site-packages\\tensorflow\\python\\keras\\optimizer_v2\\optimizer_v2.py:374: UserWarning: The `lr` argument is deprecated, use `learning_rate` instead.\n",
      "  warnings.warn(\n"
     ]
    },
    {
     "name": "stdout",
     "output_type": "stream",
     "text": [
      "2020-10-22 - sMAPE: 34.93%  |  MAE: 10.712\n"
     ]
    },
    {
     "name": "stderr",
     "output_type": "stream",
     "text": [
      "C:\\Users\\35250\\AppData\\Roaming\\Python\\Python38\\site-packages\\tensorflow\\python\\keras\\optimizer_v2\\optimizer_v2.py:374: UserWarning: The `lr` argument is deprecated, use `learning_rate` instead.\n",
      "  warnings.warn(\n"
     ]
    },
    {
     "name": "stdout",
     "output_type": "stream",
     "text": [
      "2020-10-23 - sMAPE: 34.81%  |  MAE: 11.226\n"
     ]
    },
    {
     "name": "stderr",
     "output_type": "stream",
     "text": [
      "C:\\Users\\35250\\AppData\\Roaming\\Python\\Python38\\site-packages\\tensorflow\\python\\keras\\optimizer_v2\\optimizer_v2.py:374: UserWarning: The `lr` argument is deprecated, use `learning_rate` instead.\n",
      "  warnings.warn(\n"
     ]
    },
    {
     "name": "stdout",
     "output_type": "stream",
     "text": [
      "2020-10-24 - sMAPE: 35.25%  |  MAE: 10.783\n"
     ]
    },
    {
     "name": "stderr",
     "output_type": "stream",
     "text": [
      "C:\\Users\\35250\\AppData\\Roaming\\Python\\Python38\\site-packages\\tensorflow\\python\\keras\\optimizer_v2\\optimizer_v2.py:374: UserWarning: The `lr` argument is deprecated, use `learning_rate` instead.\n",
      "  warnings.warn(\n"
     ]
    },
    {
     "name": "stdout",
     "output_type": "stream",
     "text": [
      "2020-10-25 - sMAPE: 40.23%  |  MAE: 11.746\n"
     ]
    },
    {
     "data": {
      "text/html": [
       "<div>\n",
       "<style scoped>\n",
       "    .dataframe tbody tr th:only-of-type {\n",
       "        vertical-align: middle;\n",
       "    }\n",
       "\n",
       "    .dataframe tbody tr th {\n",
       "        vertical-align: top;\n",
       "    }\n",
       "\n",
       "    .dataframe thead th {\n",
       "        text-align: right;\n",
       "    }\n",
       "</style>\n",
       "<table border=\"1\" class=\"dataframe\">\n",
       "  <thead>\n",
       "    <tr style=\"text-align: right;\">\n",
       "      <th></th>\n",
       "      <th>h0</th>\n",
       "      <th>h1</th>\n",
       "      <th>h2</th>\n",
       "      <th>h3</th>\n",
       "      <th>h4</th>\n",
       "      <th>h5</th>\n",
       "      <th>h6</th>\n",
       "      <th>h7</th>\n",
       "      <th>h8</th>\n",
       "      <th>h9</th>\n",
       "      <th>...</th>\n",
       "      <th>h14</th>\n",
       "      <th>h15</th>\n",
       "      <th>h16</th>\n",
       "      <th>h17</th>\n",
       "      <th>h18</th>\n",
       "      <th>h19</th>\n",
       "      <th>h20</th>\n",
       "      <th>h21</th>\n",
       "      <th>h22</th>\n",
       "      <th>h23</th>\n",
       "    </tr>\n",
       "    <tr>\n",
       "      <th>datetime</th>\n",
       "      <th></th>\n",
       "      <th></th>\n",
       "      <th></th>\n",
       "      <th></th>\n",
       "      <th></th>\n",
       "      <th></th>\n",
       "      <th></th>\n",
       "      <th></th>\n",
       "      <th></th>\n",
       "      <th></th>\n",
       "      <th></th>\n",
       "      <th></th>\n",
       "      <th></th>\n",
       "      <th></th>\n",
       "      <th></th>\n",
       "      <th></th>\n",
       "      <th></th>\n",
       "      <th></th>\n",
       "      <th></th>\n",
       "      <th></th>\n",
       "      <th></th>\n",
       "    </tr>\n",
       "  </thead>\n",
       "  <tbody>\n",
       "    <tr>\n",
       "      <th>2020-10-19</th>\n",
       "      <td>42.33791</td>\n",
       "      <td>54.052948</td>\n",
       "      <td>47.726673</td>\n",
       "      <td>48.359264</td>\n",
       "      <td>42.249321</td>\n",
       "      <td>34.506107</td>\n",
       "      <td>35.55761</td>\n",
       "      <td>45.357857</td>\n",
       "      <td>59.480679</td>\n",
       "      <td>65.161003</td>\n",
       "      <td>...</td>\n",
       "      <td>12.799201</td>\n",
       "      <td>15.433275</td>\n",
       "      <td>15.018675</td>\n",
       "      <td>52.170963</td>\n",
       "      <td>51.268692</td>\n",
       "      <td>35.571945</td>\n",
       "      <td>12.249392</td>\n",
       "      <td>19.20541</td>\n",
       "      <td>37.986828</td>\n",
       "      <td>16.744143</td>\n",
       "    </tr>\n",
       "    <tr>\n",
       "      <th>2020-10-20</th>\n",
       "      <td>15.778866</td>\n",
       "      <td>15.79637</td>\n",
       "      <td>41.967346</td>\n",
       "      <td>50.36919</td>\n",
       "      <td>42.788067</td>\n",
       "      <td>25.615108</td>\n",
       "      <td>38.895699</td>\n",
       "      <td>20.960211</td>\n",
       "      <td>53.22892</td>\n",
       "      <td>62.782108</td>\n",
       "      <td>...</td>\n",
       "      <td>50.097935</td>\n",
       "      <td>17.467297</td>\n",
       "      <td>34.921223</td>\n",
       "      <td>48.848362</td>\n",
       "      <td>67.05407</td>\n",
       "      <td>58.869419</td>\n",
       "      <td>24.86372</td>\n",
       "      <td>48.232315</td>\n",
       "      <td>50.783321</td>\n",
       "      <td>29.602526</td>\n",
       "    </tr>\n",
       "    <tr>\n",
       "      <th>2020-10-21</th>\n",
       "      <td>8.834585</td>\n",
       "      <td>9.65616</td>\n",
       "      <td>18.25349</td>\n",
       "      <td>7.348189</td>\n",
       "      <td>-13.180017</td>\n",
       "      <td>-2.944429</td>\n",
       "      <td>-2.052701</td>\n",
       "      <td>3.714953</td>\n",
       "      <td>52.131996</td>\n",
       "      <td>47.46627</td>\n",
       "      <td>...</td>\n",
       "      <td>58.636494</td>\n",
       "      <td>23.337465</td>\n",
       "      <td>64.365013</td>\n",
       "      <td>31.533031</td>\n",
       "      <td>53.944317</td>\n",
       "      <td>51.833107</td>\n",
       "      <td>64.19352</td>\n",
       "      <td>38.267529</td>\n",
       "      <td>46.864079</td>\n",
       "      <td>60.615559</td>\n",
       "    </tr>\n",
       "    <tr>\n",
       "      <th>2020-10-22</th>\n",
       "      <td>17.191437</td>\n",
       "      <td>53.488678</td>\n",
       "      <td>30.716038</td>\n",
       "      <td>10.377292</td>\n",
       "      <td>18.847731</td>\n",
       "      <td>30.432316</td>\n",
       "      <td>46.160488</td>\n",
       "      <td>20.355272</td>\n",
       "      <td>59.332802</td>\n",
       "      <td>56.845222</td>\n",
       "      <td>...</td>\n",
       "      <td>18.80485</td>\n",
       "      <td>25.420967</td>\n",
       "      <td>46.512875</td>\n",
       "      <td>49.188572</td>\n",
       "      <td>30.274849</td>\n",
       "      <td>57.220005</td>\n",
       "      <td>25.029099</td>\n",
       "      <td>63.635693</td>\n",
       "      <td>58.323956</td>\n",
       "      <td>42.246174</td>\n",
       "    </tr>\n",
       "    <tr>\n",
       "      <th>2020-10-23</th>\n",
       "      <td>54.541176</td>\n",
       "      <td>56.183796</td>\n",
       "      <td>49.974678</td>\n",
       "      <td>48.414501</td>\n",
       "      <td>38.361305</td>\n",
       "      <td>43.250946</td>\n",
       "      <td>50.407097</td>\n",
       "      <td>55.251411</td>\n",
       "      <td>30.981962</td>\n",
       "      <td>23.938313</td>\n",
       "      <td>...</td>\n",
       "      <td>16.90271</td>\n",
       "      <td>12.621384</td>\n",
       "      <td>20.780802</td>\n",
       "      <td>19.16733</td>\n",
       "      <td>23.892181</td>\n",
       "      <td>56.711651</td>\n",
       "      <td>41.243626</td>\n",
       "      <td>55.041729</td>\n",
       "      <td>21.08733</td>\n",
       "      <td>25.421228</td>\n",
       "    </tr>\n",
       "    <tr>\n",
       "      <th>2020-10-24</th>\n",
       "      <td>27.545218</td>\n",
       "      <td>6.22533</td>\n",
       "      <td>10.925729</td>\n",
       "      <td>20.168673</td>\n",
       "      <td>16.90369</td>\n",
       "      <td>20.856079</td>\n",
       "      <td>23.744526</td>\n",
       "      <td>12.402714</td>\n",
       "      <td>15.170463</td>\n",
       "      <td>15.122305</td>\n",
       "      <td>...</td>\n",
       "      <td>59.700172</td>\n",
       "      <td>52.259262</td>\n",
       "      <td>67.308609</td>\n",
       "      <td>66.931732</td>\n",
       "      <td>54.879372</td>\n",
       "      <td>63.199638</td>\n",
       "      <td>57.460327</td>\n",
       "      <td>56.724819</td>\n",
       "      <td>49.494404</td>\n",
       "      <td>69.159378</td>\n",
       "    </tr>\n",
       "    <tr>\n",
       "      <th>2020-10-25</th>\n",
       "      <td>52.337063</td>\n",
       "      <td>14.908276</td>\n",
       "      <td>6.987064</td>\n",
       "      <td>5.300541</td>\n",
       "      <td>12.710688</td>\n",
       "      <td>39.392807</td>\n",
       "      <td>47.254608</td>\n",
       "      <td>44.839314</td>\n",
       "      <td>32.931534</td>\n",
       "      <td>54.039654</td>\n",
       "      <td>...</td>\n",
       "      <td>46.417709</td>\n",
       "      <td>35.523678</td>\n",
       "      <td>44.107796</td>\n",
       "      <td>76.404701</td>\n",
       "      <td>44.469131</td>\n",
       "      <td>45.779358</td>\n",
       "      <td>12.411781</td>\n",
       "      <td>16.135435</td>\n",
       "      <td>10.095481</td>\n",
       "      <td>13.570518</td>\n",
       "    </tr>\n",
       "  </tbody>\n",
       "</table>\n",
       "<p>7 rows × 24 columns</p>\n",
       "</div>"
      ],
      "text/plain": [
       "                   h0         h1         h2         h3         h4         h5  \\\n",
       "datetime                                                                       \n",
       "2020-10-19   42.33791  54.052948  47.726673  48.359264  42.249321  34.506107   \n",
       "2020-10-20  15.778866   15.79637  41.967346   50.36919  42.788067  25.615108   \n",
       "2020-10-21   8.834585    9.65616   18.25349   7.348189 -13.180017  -2.944429   \n",
       "2020-10-22  17.191437  53.488678  30.716038  10.377292  18.847731  30.432316   \n",
       "2020-10-23  54.541176  56.183796  49.974678  48.414501  38.361305  43.250946   \n",
       "2020-10-24  27.545218    6.22533  10.925729  20.168673   16.90369  20.856079   \n",
       "2020-10-25  52.337063  14.908276   6.987064   5.300541  12.710688  39.392807   \n",
       "\n",
       "                   h6         h7         h8         h9  ...        h14  \\\n",
       "datetime                                                ...              \n",
       "2020-10-19   35.55761  45.357857  59.480679  65.161003  ...  12.799201   \n",
       "2020-10-20  38.895699  20.960211   53.22892  62.782108  ...  50.097935   \n",
       "2020-10-21  -2.052701   3.714953  52.131996   47.46627  ...  58.636494   \n",
       "2020-10-22  46.160488  20.355272  59.332802  56.845222  ...   18.80485   \n",
       "2020-10-23  50.407097  55.251411  30.981962  23.938313  ...   16.90271   \n",
       "2020-10-24  23.744526  12.402714  15.170463  15.122305  ...  59.700172   \n",
       "2020-10-25  47.254608  44.839314  32.931534  54.039654  ...  46.417709   \n",
       "\n",
       "                  h15        h16        h17        h18        h19        h20  \\\n",
       "datetime                                                                       \n",
       "2020-10-19  15.433275  15.018675  52.170963  51.268692  35.571945  12.249392   \n",
       "2020-10-20  17.467297  34.921223  48.848362   67.05407  58.869419   24.86372   \n",
       "2020-10-21  23.337465  64.365013  31.533031  53.944317  51.833107   64.19352   \n",
       "2020-10-22  25.420967  46.512875  49.188572  30.274849  57.220005  25.029099   \n",
       "2020-10-23  12.621384  20.780802   19.16733  23.892181  56.711651  41.243626   \n",
       "2020-10-24  52.259262  67.308609  66.931732  54.879372  63.199638  57.460327   \n",
       "2020-10-25  35.523678  44.107796  76.404701  44.469131  45.779358  12.411781   \n",
       "\n",
       "                  h21        h22        h23  \n",
       "datetime                                     \n",
       "2020-10-19   19.20541  37.986828  16.744143  \n",
       "2020-10-20  48.232315  50.783321  29.602526  \n",
       "2020-10-21  38.267529  46.864079  60.615559  \n",
       "2020-10-22  63.635693  58.323956  42.246174  \n",
       "2020-10-23  55.041729   21.08733  25.421228  \n",
       "2020-10-24  56.724819  49.494404  69.159378  \n",
       "2020-10-25  16.135435  10.095481  13.570518  \n",
       "\n",
       "[7 rows x 24 columns]"
      ]
     },
     "execution_count": 8,
     "metadata": {},
     "output_type": "execute_result"
    }
   ],
   "source": [
    "# Number of layers in DNN\n",
    "nlayers = 2\n",
    "\n",
    "# data to study\n",
    "dataset = 'imbalanceData_final'\n",
    "\n",
    "# 1 year is considered as 364 days (52 weeks)\n",
    "# years_test = 1\n",
    "\n",
    "# Optional parameters for selecting the test dataset\n",
    "begin_test_date = '2020-10-19'\n",
    "end_test_date = '2020-10-25'\n",
    "\n",
    "# for recalibration the validation and the training datasets are always shuffled\n",
    "shuffle_train = 1\n",
    "\n",
    "# Boolean that selects whether a data augmentation technique for DNNs is used\n",
    "data_augmentation = 0\n",
    "\n",
    "# Boolean that selects whether we start a new recalibration or we restart an existing one\n",
    "new_recalibration = 1\n",
    "\n",
    "# Number of years used in the training dataset for recalibration\n",
    "calibration_window = 1\n",
    "\n",
    "# Unique identifier to read the trials file of hyperparameter optimization\n",
    "experiment_id = 4\n",
    "\n",
    "# Set up the paths for saving data (this are the defaults for the library)\n",
    "# path_datasets_folder = os.path.join('.', 'datasets')\n",
    "# path_recalibration_folder = os.path.join('.', 'experimental_files')\n",
    "# path_hyperparameter_folder = os.path.join('.', 'experimental_files')\n",
    "\n",
    "evaluate_dnn_in_test_dataset(experiment_id,\n",
    "                             path_hyperparameter_folder = 'hyperparameter_dnn/imb_October',\n",
    "                             path_datasets_folder = 'final datasets',\n",
    "                             shuffle_train = shuffle_train,\n",
    "                             path_recalibration_folder = 'forecast results/DNN/imb_October',\n",
    "                             nlayers = nlayers,\n",
    "                             dataset = dataset,\n",
    "                             #years_test = years_test,\n",
    "                             data_augmentation = data_augmentation,\n",
    "                             calibration_window = calibration_window,\n",
    "                             new_recalibration = new_recalibration,\n",
    "                             begin_test_date = begin_test_date,\n",
    "                             end_test_date = end_test_date)"
   ]
  },
  {
   "cell_type": "code",
   "execution_count": 9,
   "id": "ef7e7105",
   "metadata": {
    "scrolled": true
   },
   "outputs": [
    {
     "name": "stdout",
     "output_type": "stream",
     "text": [
      "Test datasets: 2021-01-18 00:00:00 - 2021-01-24 23:00:00\n"
     ]
    },
    {
     "name": "stderr",
     "output_type": "stream",
     "text": [
      "C:\\Users\\35250\\AppData\\Roaming\\Python\\Python38\\site-packages\\tensorflow\\python\\keras\\optimizer_v2\\optimizer_v2.py:374: UserWarning: The `lr` argument is deprecated, use `learning_rate` instead.\n",
      "  warnings.warn(\n"
     ]
    },
    {
     "name": "stdout",
     "output_type": "stream",
     "text": [
      "2021-01-18 - sMAPE: 35.80%  |  MAE: 18.481\n",
      "2021-01-19 - sMAPE: 29.74%  |  MAE: 15.703\n",
      "2021-01-20 - sMAPE: 28.00%  |  MAE: 18.287\n",
      "2021-01-21 - sMAPE: 27.21%  |  MAE: 17.066\n",
      "2021-01-22 - sMAPE: 29.08%  |  MAE: 20.132\n",
      "2021-01-23 - sMAPE: 30.37%  |  MAE: 21.854\n",
      "2021-01-24 - sMAPE: 32.01%  |  MAE: 21.828\n"
     ]
    },
    {
     "data": {
      "text/html": [
       "<div>\n",
       "<style scoped>\n",
       "    .dataframe tbody tr th:only-of-type {\n",
       "        vertical-align: middle;\n",
       "    }\n",
       "\n",
       "    .dataframe tbody tr th {\n",
       "        vertical-align: top;\n",
       "    }\n",
       "\n",
       "    .dataframe thead th {\n",
       "        text-align: right;\n",
       "    }\n",
       "</style>\n",
       "<table border=\"1\" class=\"dataframe\">\n",
       "  <thead>\n",
       "    <tr style=\"text-align: right;\">\n",
       "      <th></th>\n",
       "      <th>h0</th>\n",
       "      <th>h1</th>\n",
       "      <th>h2</th>\n",
       "      <th>h3</th>\n",
       "      <th>h4</th>\n",
       "      <th>h5</th>\n",
       "      <th>h6</th>\n",
       "      <th>h7</th>\n",
       "      <th>h8</th>\n",
       "      <th>h9</th>\n",
       "      <th>...</th>\n",
       "      <th>h14</th>\n",
       "      <th>h15</th>\n",
       "      <th>h16</th>\n",
       "      <th>h17</th>\n",
       "      <th>h18</th>\n",
       "      <th>h19</th>\n",
       "      <th>h20</th>\n",
       "      <th>h21</th>\n",
       "      <th>h22</th>\n",
       "      <th>h23</th>\n",
       "    </tr>\n",
       "    <tr>\n",
       "      <th>datetime</th>\n",
       "      <th></th>\n",
       "      <th></th>\n",
       "      <th></th>\n",
       "      <th></th>\n",
       "      <th></th>\n",
       "      <th></th>\n",
       "      <th></th>\n",
       "      <th></th>\n",
       "      <th></th>\n",
       "      <th></th>\n",
       "      <th></th>\n",
       "      <th></th>\n",
       "      <th></th>\n",
       "      <th></th>\n",
       "      <th></th>\n",
       "      <th></th>\n",
       "      <th></th>\n",
       "      <th></th>\n",
       "      <th></th>\n",
       "      <th></th>\n",
       "      <th></th>\n",
       "    </tr>\n",
       "  </thead>\n",
       "  <tbody>\n",
       "    <tr>\n",
       "      <th>2021-01-18</th>\n",
       "      <td>27.766933</td>\n",
       "      <td>29.085587</td>\n",
       "      <td>18.794506</td>\n",
       "      <td>18.511703</td>\n",
       "      <td>20.799253</td>\n",
       "      <td>33.820427</td>\n",
       "      <td>59.574295</td>\n",
       "      <td>45.942692</td>\n",
       "      <td>67.708588</td>\n",
       "      <td>93.471405</td>\n",
       "      <td>...</td>\n",
       "      <td>66.945221</td>\n",
       "      <td>64.19194</td>\n",
       "      <td>75.273819</td>\n",
       "      <td>73.021378</td>\n",
       "      <td>70.896614</td>\n",
       "      <td>61.528809</td>\n",
       "      <td>43.839451</td>\n",
       "      <td>65.764236</td>\n",
       "      <td>47.486778</td>\n",
       "      <td>50.869041</td>\n",
       "    </tr>\n",
       "    <tr>\n",
       "      <th>2021-01-19</th>\n",
       "      <td>56.277336</td>\n",
       "      <td>51.450699</td>\n",
       "      <td>46.995529</td>\n",
       "      <td>42.485649</td>\n",
       "      <td>44.959106</td>\n",
       "      <td>61.242821</td>\n",
       "      <td>77.781868</td>\n",
       "      <td>76.266449</td>\n",
       "      <td>82.521469</td>\n",
       "      <td>74.47554</td>\n",
       "      <td>...</td>\n",
       "      <td>77.244507</td>\n",
       "      <td>73.667252</td>\n",
       "      <td>61.248199</td>\n",
       "      <td>82.856384</td>\n",
       "      <td>72.648102</td>\n",
       "      <td>68.966232</td>\n",
       "      <td>41.154129</td>\n",
       "      <td>51.301743</td>\n",
       "      <td>29.822472</td>\n",
       "      <td>39.048096</td>\n",
       "    </tr>\n",
       "    <tr>\n",
       "      <th>2021-01-20</th>\n",
       "      <td>78.600601</td>\n",
       "      <td>84.02224</td>\n",
       "      <td>68.761292</td>\n",
       "      <td>78.340576</td>\n",
       "      <td>64.560562</td>\n",
       "      <td>64.685913</td>\n",
       "      <td>93.681778</td>\n",
       "      <td>82.886215</td>\n",
       "      <td>76.891357</td>\n",
       "      <td>88.557907</td>\n",
       "      <td>...</td>\n",
       "      <td>80.250549</td>\n",
       "      <td>64.965652</td>\n",
       "      <td>59.286884</td>\n",
       "      <td>100.101593</td>\n",
       "      <td>70.343307</td>\n",
       "      <td>75.412048</td>\n",
       "      <td>71.485367</td>\n",
       "      <td>91.359978</td>\n",
       "      <td>69.551437</td>\n",
       "      <td>63.157112</td>\n",
       "    </tr>\n",
       "    <tr>\n",
       "      <th>2021-01-21</th>\n",
       "      <td>65.155014</td>\n",
       "      <td>60.220558</td>\n",
       "      <td>47.939285</td>\n",
       "      <td>39.574371</td>\n",
       "      <td>29.976273</td>\n",
       "      <td>36.444992</td>\n",
       "      <td>60.537643</td>\n",
       "      <td>65.385498</td>\n",
       "      <td>70.69635</td>\n",
       "      <td>72.86409</td>\n",
       "      <td>...</td>\n",
       "      <td>72.782913</td>\n",
       "      <td>55.444057</td>\n",
       "      <td>52.646816</td>\n",
       "      <td>110.420647</td>\n",
       "      <td>97.116768</td>\n",
       "      <td>89.625641</td>\n",
       "      <td>62.179085</td>\n",
       "      <td>91.539841</td>\n",
       "      <td>57.874863</td>\n",
       "      <td>44.544533</td>\n",
       "    </tr>\n",
       "    <tr>\n",
       "      <th>2021-01-22</th>\n",
       "      <td>31.427277</td>\n",
       "      <td>36.92186</td>\n",
       "      <td>32.689056</td>\n",
       "      <td>26.569115</td>\n",
       "      <td>22.17046</td>\n",
       "      <td>43.588867</td>\n",
       "      <td>64.347946</td>\n",
       "      <td>76.695328</td>\n",
       "      <td>78.553352</td>\n",
       "      <td>73.865585</td>\n",
       "      <td>...</td>\n",
       "      <td>48.52647</td>\n",
       "      <td>58.112339</td>\n",
       "      <td>45.871674</td>\n",
       "      <td>83.482712</td>\n",
       "      <td>84.520462</td>\n",
       "      <td>73.655121</td>\n",
       "      <td>52.262325</td>\n",
       "      <td>84.97113</td>\n",
       "      <td>73.076233</td>\n",
       "      <td>51.384968</td>\n",
       "    </tr>\n",
       "    <tr>\n",
       "      <th>2021-01-23</th>\n",
       "      <td>47.479801</td>\n",
       "      <td>55.940315</td>\n",
       "      <td>56.799999</td>\n",
       "      <td>65.743301</td>\n",
       "      <td>60.572777</td>\n",
       "      <td>55.636715</td>\n",
       "      <td>59.903137</td>\n",
       "      <td>53.59906</td>\n",
       "      <td>43.029594</td>\n",
       "      <td>46.960979</td>\n",
       "      <td>...</td>\n",
       "      <td>43.326271</td>\n",
       "      <td>36.461861</td>\n",
       "      <td>58.720627</td>\n",
       "      <td>96.401299</td>\n",
       "      <td>107.234016</td>\n",
       "      <td>80.815231</td>\n",
       "      <td>52.4823</td>\n",
       "      <td>65.991272</td>\n",
       "      <td>68.565369</td>\n",
       "      <td>58.551739</td>\n",
       "    </tr>\n",
       "    <tr>\n",
       "      <th>2021-01-24</th>\n",
       "      <td>49.960464</td>\n",
       "      <td>36.904751</td>\n",
       "      <td>34.104828</td>\n",
       "      <td>43.431648</td>\n",
       "      <td>38.958595</td>\n",
       "      <td>44.358406</td>\n",
       "      <td>46.892078</td>\n",
       "      <td>19.755384</td>\n",
       "      <td>59.148163</td>\n",
       "      <td>62.772743</td>\n",
       "      <td>...</td>\n",
       "      <td>54.171028</td>\n",
       "      <td>44.493805</td>\n",
       "      <td>30.957741</td>\n",
       "      <td>56.338192</td>\n",
       "      <td>40.775146</td>\n",
       "      <td>43.275719</td>\n",
       "      <td>32.593674</td>\n",
       "      <td>53.127899</td>\n",
       "      <td>36.69772</td>\n",
       "      <td>38.608181</td>\n",
       "    </tr>\n",
       "  </tbody>\n",
       "</table>\n",
       "<p>7 rows × 24 columns</p>\n",
       "</div>"
      ],
      "text/plain": [
       "                   h0         h1         h2         h3         h4         h5  \\\n",
       "datetime                                                                       \n",
       "2021-01-18  27.766933  29.085587  18.794506  18.511703  20.799253  33.820427   \n",
       "2021-01-19  56.277336  51.450699  46.995529  42.485649  44.959106  61.242821   \n",
       "2021-01-20  78.600601   84.02224  68.761292  78.340576  64.560562  64.685913   \n",
       "2021-01-21  65.155014  60.220558  47.939285  39.574371  29.976273  36.444992   \n",
       "2021-01-22  31.427277   36.92186  32.689056  26.569115   22.17046  43.588867   \n",
       "2021-01-23  47.479801  55.940315  56.799999  65.743301  60.572777  55.636715   \n",
       "2021-01-24  49.960464  36.904751  34.104828  43.431648  38.958595  44.358406   \n",
       "\n",
       "                   h6         h7         h8         h9  ...        h14  \\\n",
       "datetime                                                ...              \n",
       "2021-01-18  59.574295  45.942692  67.708588  93.471405  ...  66.945221   \n",
       "2021-01-19  77.781868  76.266449  82.521469   74.47554  ...  77.244507   \n",
       "2021-01-20  93.681778  82.886215  76.891357  88.557907  ...  80.250549   \n",
       "2021-01-21  60.537643  65.385498   70.69635   72.86409  ...  72.782913   \n",
       "2021-01-22  64.347946  76.695328  78.553352  73.865585  ...   48.52647   \n",
       "2021-01-23  59.903137   53.59906  43.029594  46.960979  ...  43.326271   \n",
       "2021-01-24  46.892078  19.755384  59.148163  62.772743  ...  54.171028   \n",
       "\n",
       "                  h15        h16         h17         h18        h19  \\\n",
       "datetime                                                              \n",
       "2021-01-18   64.19194  75.273819   73.021378   70.896614  61.528809   \n",
       "2021-01-19  73.667252  61.248199   82.856384   72.648102  68.966232   \n",
       "2021-01-20  64.965652  59.286884  100.101593   70.343307  75.412048   \n",
       "2021-01-21  55.444057  52.646816  110.420647   97.116768  89.625641   \n",
       "2021-01-22  58.112339  45.871674   83.482712   84.520462  73.655121   \n",
       "2021-01-23  36.461861  58.720627   96.401299  107.234016  80.815231   \n",
       "2021-01-24  44.493805  30.957741   56.338192   40.775146  43.275719   \n",
       "\n",
       "                  h20        h21        h22        h23  \n",
       "datetime                                                \n",
       "2021-01-18  43.839451  65.764236  47.486778  50.869041  \n",
       "2021-01-19  41.154129  51.301743  29.822472  39.048096  \n",
       "2021-01-20  71.485367  91.359978  69.551437  63.157112  \n",
       "2021-01-21  62.179085  91.539841  57.874863  44.544533  \n",
       "2021-01-22  52.262325   84.97113  73.076233  51.384968  \n",
       "2021-01-23    52.4823  65.991272  68.565369  58.551739  \n",
       "2021-01-24  32.593674  53.127899   36.69772  38.608181  \n",
       "\n",
       "[7 rows x 24 columns]"
      ]
     },
     "execution_count": 9,
     "metadata": {},
     "output_type": "execute_result"
    }
   ],
   "source": [
    "# Number of layers in DNN\n",
    "nlayers = 2\n",
    "\n",
    "# data to study\n",
    "dataset = 'imbalanceData_final'\n",
    "\n",
    "# 1 year is considered as 364 days (52 weeks)\n",
    "# years_test = 1\n",
    "\n",
    "# Optional parameters for selecting the test dataset\n",
    "begin_test_date = '2021-01-18'\n",
    "end_test_date = '2021-01-24'\n",
    "\n",
    "# for recalibration the validation and the training datasets are always shuffled\n",
    "shuffle_train = 1\n",
    "\n",
    "# Boolean that selects whether a data augmentation technique for DNNs is used\n",
    "data_augmentation = 0\n",
    "\n",
    "# Boolean that selects whether we start a new recalibration or we restart an existing one\n",
    "new_recalibration = 1\n",
    "\n",
    "# Number of years used in the training dataset for recalibration\n",
    "calibration_window = 1\n",
    "\n",
    "# Unique identifier to read the trials file of hyperparameter optimization\n",
    "experiment_id = 4\n",
    "\n",
    "# Set up the paths for saving data (this are the defaults for the library)\n",
    "# path_datasets_folder = os.path.join('.', 'datasets')\n",
    "# path_recalibration_folder = os.path.join('.', 'experimental_files')\n",
    "# path_hyperparameter_folder = os.path.join('.', 'experimental_files')\n",
    "\n",
    "evaluate_dnn_in_test_dataset(experiment_id,\n",
    "                             path_hyperparameter_folder = 'hyperparameter_dnn/imb_January',\n",
    "                             path_datasets_folder = 'final datasets',\n",
    "                             shuffle_train = shuffle_train,\n",
    "                             path_recalibration_folder = 'forecast results/DNN/imb_January',\n",
    "                             nlayers = nlayers,\n",
    "                             dataset = dataset,\n",
    "                             #years_test = years_test,\n",
    "                             data_augmentation = data_augmentation,\n",
    "                             calibration_window = calibration_window,\n",
    "                             new_recalibration = new_recalibration,\n",
    "                             begin_test_date = begin_test_date,\n",
    "                             end_test_date = end_test_date)"
   ]
  },
  {
   "cell_type": "code",
   "execution_count": 10,
   "id": "fa151cd6",
   "metadata": {
    "scrolled": true
   },
   "outputs": [
    {
     "name": "stdout",
     "output_type": "stream",
     "text": [
      "Test datasets: 2021-04-19 00:00:00 - 2021-04-25 23:00:00\n"
     ]
    },
    {
     "name": "stderr",
     "output_type": "stream",
     "text": [
      "C:\\Users\\35250\\AppData\\Roaming\\Python\\Python38\\site-packages\\tensorflow\\python\\keras\\optimizer_v2\\optimizer_v2.py:374: UserWarning: The `lr` argument is deprecated, use `learning_rate` instead.\n",
      "  warnings.warn(\n"
     ]
    },
    {
     "name": "stdout",
     "output_type": "stream",
     "text": [
      "2021-04-19 - sMAPE: 50.53%  |  MAE: 18.571\n"
     ]
    },
    {
     "name": "stderr",
     "output_type": "stream",
     "text": [
      "C:\\Users\\35250\\AppData\\Roaming\\Python\\Python38\\site-packages\\tensorflow\\python\\keras\\optimizer_v2\\optimizer_v2.py:374: UserWarning: The `lr` argument is deprecated, use `learning_rate` instead.\n",
      "  warnings.warn(\n"
     ]
    },
    {
     "name": "stdout",
     "output_type": "stream",
     "text": [
      "2021-04-20 - sMAPE: 55.56%  |  MAE: 22.041\n"
     ]
    },
    {
     "name": "stderr",
     "output_type": "stream",
     "text": [
      "C:\\Users\\35250\\AppData\\Roaming\\Python\\Python38\\site-packages\\tensorflow\\python\\keras\\optimizer_v2\\optimizer_v2.py:374: UserWarning: The `lr` argument is deprecated, use `learning_rate` instead.\n",
      "  warnings.warn(\n"
     ]
    },
    {
     "name": "stdout",
     "output_type": "stream",
     "text": [
      "2021-04-21 - sMAPE: 45.86%  |  MAE: 19.661\n"
     ]
    },
    {
     "name": "stderr",
     "output_type": "stream",
     "text": [
      "C:\\Users\\35250\\AppData\\Roaming\\Python\\Python38\\site-packages\\tensorflow\\python\\keras\\optimizer_v2\\optimizer_v2.py:374: UserWarning: The `lr` argument is deprecated, use `learning_rate` instead.\n",
      "  warnings.warn(\n"
     ]
    },
    {
     "name": "stdout",
     "output_type": "stream",
     "text": [
      "2021-04-22 - sMAPE: 43.03%  |  MAE: 18.305\n"
     ]
    },
    {
     "name": "stderr",
     "output_type": "stream",
     "text": [
      "C:\\Users\\35250\\AppData\\Roaming\\Python\\Python38\\site-packages\\tensorflow\\python\\keras\\optimizer_v2\\optimizer_v2.py:374: UserWarning: The `lr` argument is deprecated, use `learning_rate` instead.\n",
      "  warnings.warn(\n"
     ]
    },
    {
     "name": "stdout",
     "output_type": "stream",
     "text": [
      "2021-04-23 - sMAPE: 40.32%  |  MAE: 17.260\n"
     ]
    },
    {
     "name": "stderr",
     "output_type": "stream",
     "text": [
      "C:\\Users\\35250\\AppData\\Roaming\\Python\\Python38\\site-packages\\tensorflow\\python\\keras\\optimizer_v2\\optimizer_v2.py:374: UserWarning: The `lr` argument is deprecated, use `learning_rate` instead.\n",
      "  warnings.warn(\n"
     ]
    },
    {
     "name": "stdout",
     "output_type": "stream",
     "text": [
      "2021-04-24 - sMAPE: 38.31%  |  MAE: 16.592\n"
     ]
    },
    {
     "name": "stderr",
     "output_type": "stream",
     "text": [
      "C:\\Users\\35250\\AppData\\Roaming\\Python\\Python38\\site-packages\\tensorflow\\python\\keras\\optimizer_v2\\optimizer_v2.py:374: UserWarning: The `lr` argument is deprecated, use `learning_rate` instead.\n",
      "  warnings.warn(\n"
     ]
    },
    {
     "name": "stdout",
     "output_type": "stream",
     "text": [
      "2021-04-25 - sMAPE: 38.48%  |  MAE: 16.664\n"
     ]
    },
    {
     "data": {
      "text/html": [
       "<div>\n",
       "<style scoped>\n",
       "    .dataframe tbody tr th:only-of-type {\n",
       "        vertical-align: middle;\n",
       "    }\n",
       "\n",
       "    .dataframe tbody tr th {\n",
       "        vertical-align: top;\n",
       "    }\n",
       "\n",
       "    .dataframe thead th {\n",
       "        text-align: right;\n",
       "    }\n",
       "</style>\n",
       "<table border=\"1\" class=\"dataframe\">\n",
       "  <thead>\n",
       "    <tr style=\"text-align: right;\">\n",
       "      <th></th>\n",
       "      <th>h0</th>\n",
       "      <th>h1</th>\n",
       "      <th>h2</th>\n",
       "      <th>h3</th>\n",
       "      <th>h4</th>\n",
       "      <th>h5</th>\n",
       "      <th>h6</th>\n",
       "      <th>h7</th>\n",
       "      <th>h8</th>\n",
       "      <th>h9</th>\n",
       "      <th>...</th>\n",
       "      <th>h14</th>\n",
       "      <th>h15</th>\n",
       "      <th>h16</th>\n",
       "      <th>h17</th>\n",
       "      <th>h18</th>\n",
       "      <th>h19</th>\n",
       "      <th>h20</th>\n",
       "      <th>h21</th>\n",
       "      <th>h22</th>\n",
       "      <th>h23</th>\n",
       "    </tr>\n",
       "    <tr>\n",
       "      <th>datetime</th>\n",
       "      <th></th>\n",
       "      <th></th>\n",
       "      <th></th>\n",
       "      <th></th>\n",
       "      <th></th>\n",
       "      <th></th>\n",
       "      <th></th>\n",
       "      <th></th>\n",
       "      <th></th>\n",
       "      <th></th>\n",
       "      <th></th>\n",
       "      <th></th>\n",
       "      <th></th>\n",
       "      <th></th>\n",
       "      <th></th>\n",
       "      <th></th>\n",
       "      <th></th>\n",
       "      <th></th>\n",
       "      <th></th>\n",
       "      <th></th>\n",
       "      <th></th>\n",
       "    </tr>\n",
       "  </thead>\n",
       "  <tbody>\n",
       "    <tr>\n",
       "      <th>2021-04-19</th>\n",
       "      <td>58.03899</td>\n",
       "      <td>47.197731</td>\n",
       "      <td>54.66758</td>\n",
       "      <td>39.506424</td>\n",
       "      <td>44.9049</td>\n",
       "      <td>60.159454</td>\n",
       "      <td>51.01984</td>\n",
       "      <td>57.881451</td>\n",
       "      <td>74.03949</td>\n",
       "      <td>74.680763</td>\n",
       "      <td>...</td>\n",
       "      <td>44.55748</td>\n",
       "      <td>37.230938</td>\n",
       "      <td>25.369659</td>\n",
       "      <td>37.056408</td>\n",
       "      <td>49.189964</td>\n",
       "      <td>47.924843</td>\n",
       "      <td>67.544456</td>\n",
       "      <td>76.317192</td>\n",
       "      <td>61.994251</td>\n",
       "      <td>67.407097</td>\n",
       "    </tr>\n",
       "    <tr>\n",
       "      <th>2021-04-20</th>\n",
       "      <td>37.605244</td>\n",
       "      <td>44.556374</td>\n",
       "      <td>43.93047</td>\n",
       "      <td>41.011509</td>\n",
       "      <td>32.357269</td>\n",
       "      <td>40.907661</td>\n",
       "      <td>50.538448</td>\n",
       "      <td>80.772659</td>\n",
       "      <td>81.878059</td>\n",
       "      <td>65.244217</td>\n",
       "      <td>...</td>\n",
       "      <td>69.035835</td>\n",
       "      <td>69.07962</td>\n",
       "      <td>63.531456</td>\n",
       "      <td>40.45351</td>\n",
       "      <td>48.42979</td>\n",
       "      <td>90.891731</td>\n",
       "      <td>53.700317</td>\n",
       "      <td>54.610065</td>\n",
       "      <td>34.236385</td>\n",
       "      <td>63.665287</td>\n",
       "    </tr>\n",
       "    <tr>\n",
       "      <th>2021-04-21</th>\n",
       "      <td>61.366898</td>\n",
       "      <td>47.271233</td>\n",
       "      <td>66.825912</td>\n",
       "      <td>69.940575</td>\n",
       "      <td>48.096581</td>\n",
       "      <td>57.007069</td>\n",
       "      <td>74.183327</td>\n",
       "      <td>83.009079</td>\n",
       "      <td>74.709488</td>\n",
       "      <td>76.620949</td>\n",
       "      <td>...</td>\n",
       "      <td>52.208996</td>\n",
       "      <td>27.487755</td>\n",
       "      <td>39.125561</td>\n",
       "      <td>89.13504</td>\n",
       "      <td>80.652206</td>\n",
       "      <td>93.202652</td>\n",
       "      <td>71.542763</td>\n",
       "      <td>85.109695</td>\n",
       "      <td>56.378517</td>\n",
       "      <td>71.006134</td>\n",
       "    </tr>\n",
       "    <tr>\n",
       "      <th>2021-04-22</th>\n",
       "      <td>45.229668</td>\n",
       "      <td>57.833248</td>\n",
       "      <td>59.375298</td>\n",
       "      <td>50.151108</td>\n",
       "      <td>46.346077</td>\n",
       "      <td>58.354218</td>\n",
       "      <td>64.631401</td>\n",
       "      <td>91.548264</td>\n",
       "      <td>100.124741</td>\n",
       "      <td>98.300735</td>\n",
       "      <td>...</td>\n",
       "      <td>65.596039</td>\n",
       "      <td>58.509171</td>\n",
       "      <td>51.73568</td>\n",
       "      <td>32.136684</td>\n",
       "      <td>64.710823</td>\n",
       "      <td>104.859787</td>\n",
       "      <td>100.670364</td>\n",
       "      <td>84.804367</td>\n",
       "      <td>68.877434</td>\n",
       "      <td>47.631496</td>\n",
       "    </tr>\n",
       "    <tr>\n",
       "      <th>2021-04-23</th>\n",
       "      <td>58.957859</td>\n",
       "      <td>59.059326</td>\n",
       "      <td>61.256569</td>\n",
       "      <td>63.059151</td>\n",
       "      <td>61.661041</td>\n",
       "      <td>66.992516</td>\n",
       "      <td>60.766125</td>\n",
       "      <td>94.095848</td>\n",
       "      <td>81.957596</td>\n",
       "      <td>91.157578</td>\n",
       "      <td>...</td>\n",
       "      <td>21.703289</td>\n",
       "      <td>27.743357</td>\n",
       "      <td>40.475273</td>\n",
       "      <td>9.822436</td>\n",
       "      <td>44.589489</td>\n",
       "      <td>43.756748</td>\n",
       "      <td>94.998627</td>\n",
       "      <td>98.578194</td>\n",
       "      <td>72.355194</td>\n",
       "      <td>48.304535</td>\n",
       "    </tr>\n",
       "    <tr>\n",
       "      <th>2021-04-24</th>\n",
       "      <td>64.293907</td>\n",
       "      <td>49.993111</td>\n",
       "      <td>51.661434</td>\n",
       "      <td>48.923416</td>\n",
       "      <td>46.44054</td>\n",
       "      <td>56.399876</td>\n",
       "      <td>52.707054</td>\n",
       "      <td>66.295174</td>\n",
       "      <td>62.469074</td>\n",
       "      <td>64.783287</td>\n",
       "      <td>...</td>\n",
       "      <td>34.529984</td>\n",
       "      <td>23.205059</td>\n",
       "      <td>41.203529</td>\n",
       "      <td>4.365639</td>\n",
       "      <td>49.611591</td>\n",
       "      <td>47.444637</td>\n",
       "      <td>91.861099</td>\n",
       "      <td>71.651512</td>\n",
       "      <td>59.729996</td>\n",
       "      <td>36.970444</td>\n",
       "    </tr>\n",
       "    <tr>\n",
       "      <th>2021-04-25</th>\n",
       "      <td>35.583416</td>\n",
       "      <td>30.304523</td>\n",
       "      <td>37.104649</td>\n",
       "      <td>33.726562</td>\n",
       "      <td>23.826302</td>\n",
       "      <td>15.849222</td>\n",
       "      <td>20.075876</td>\n",
       "      <td>31.861788</td>\n",
       "      <td>40.535107</td>\n",
       "      <td>38.007385</td>\n",
       "      <td>...</td>\n",
       "      <td>30.647348</td>\n",
       "      <td>23.834419</td>\n",
       "      <td>35.272842</td>\n",
       "      <td>49.251369</td>\n",
       "      <td>42.551109</td>\n",
       "      <td>45.086052</td>\n",
       "      <td>55.54723</td>\n",
       "      <td>49.911194</td>\n",
       "      <td>30.790411</td>\n",
       "      <td>42.034443</td>\n",
       "    </tr>\n",
       "  </tbody>\n",
       "</table>\n",
       "<p>7 rows × 24 columns</p>\n",
       "</div>"
      ],
      "text/plain": [
       "                   h0         h1         h2         h3         h4         h5  \\\n",
       "datetime                                                                       \n",
       "2021-04-19   58.03899  47.197731   54.66758  39.506424    44.9049  60.159454   \n",
       "2021-04-20  37.605244  44.556374   43.93047  41.011509  32.357269  40.907661   \n",
       "2021-04-21  61.366898  47.271233  66.825912  69.940575  48.096581  57.007069   \n",
       "2021-04-22  45.229668  57.833248  59.375298  50.151108  46.346077  58.354218   \n",
       "2021-04-23  58.957859  59.059326  61.256569  63.059151  61.661041  66.992516   \n",
       "2021-04-24  64.293907  49.993111  51.661434  48.923416   46.44054  56.399876   \n",
       "2021-04-25  35.583416  30.304523  37.104649  33.726562  23.826302  15.849222   \n",
       "\n",
       "                   h6         h7          h8         h9  ...        h14  \\\n",
       "datetime                                                 ...              \n",
       "2021-04-19   51.01984  57.881451    74.03949  74.680763  ...   44.55748   \n",
       "2021-04-20  50.538448  80.772659   81.878059  65.244217  ...  69.035835   \n",
       "2021-04-21  74.183327  83.009079   74.709488  76.620949  ...  52.208996   \n",
       "2021-04-22  64.631401  91.548264  100.124741  98.300735  ...  65.596039   \n",
       "2021-04-23  60.766125  94.095848   81.957596  91.157578  ...  21.703289   \n",
       "2021-04-24  52.707054  66.295174   62.469074  64.783287  ...  34.529984   \n",
       "2021-04-25  20.075876  31.861788   40.535107  38.007385  ...  30.647348   \n",
       "\n",
       "                  h15        h16        h17        h18         h19  \\\n",
       "datetime                                                             \n",
       "2021-04-19  37.230938  25.369659  37.056408  49.189964   47.924843   \n",
       "2021-04-20   69.07962  63.531456   40.45351   48.42979   90.891731   \n",
       "2021-04-21  27.487755  39.125561   89.13504  80.652206   93.202652   \n",
       "2021-04-22  58.509171   51.73568  32.136684  64.710823  104.859787   \n",
       "2021-04-23  27.743357  40.475273   9.822436  44.589489   43.756748   \n",
       "2021-04-24  23.205059  41.203529   4.365639  49.611591   47.444637   \n",
       "2021-04-25  23.834419  35.272842  49.251369  42.551109   45.086052   \n",
       "\n",
       "                   h20        h21        h22        h23  \n",
       "datetime                                                 \n",
       "2021-04-19   67.544456  76.317192  61.994251  67.407097  \n",
       "2021-04-20   53.700317  54.610065  34.236385  63.665287  \n",
       "2021-04-21   71.542763  85.109695  56.378517  71.006134  \n",
       "2021-04-22  100.670364  84.804367  68.877434  47.631496  \n",
       "2021-04-23   94.998627  98.578194  72.355194  48.304535  \n",
       "2021-04-24   91.861099  71.651512  59.729996  36.970444  \n",
       "2021-04-25    55.54723  49.911194  30.790411  42.034443  \n",
       "\n",
       "[7 rows x 24 columns]"
      ]
     },
     "execution_count": 10,
     "metadata": {},
     "output_type": "execute_result"
    }
   ],
   "source": [
    "# Number of layers in DNN\n",
    "nlayers = 2\n",
    "\n",
    "# data to study\n",
    "dataset = 'imbalanceData_final'\n",
    "\n",
    "# 1 year is considered as 364 days (52 weeks)\n",
    "# years_test = 1\n",
    "\n",
    "# Optional parameters for selecting the test dataset\n",
    "begin_test_date = '2021-04-19'\n",
    "end_test_date = '2021-04-25'\n",
    "\n",
    "# for recalibration the validation and the training datasets are always shuffled\n",
    "shuffle_train = 1\n",
    "\n",
    "# Boolean that selects whether a data augmentation technique for DNNs is used\n",
    "data_augmentation = 0\n",
    "\n",
    "# Boolean that selects whether we start a new recalibration or we restart an existing one\n",
    "new_recalibration = 1\n",
    "\n",
    "# Number of years used in the training dataset for recalibration\n",
    "calibration_window = 1\n",
    "\n",
    "# Unique identifier to read the trials file of hyperparameter optimization\n",
    "experiment_id = 4\n",
    "\n",
    "# Set up the paths for saving data (this are the defaults for the library)\n",
    "# path_datasets_folder = os.path.join('.', 'datasets')\n",
    "# path_recalibration_folder = os.path.join('.', 'experimental_files')\n",
    "# path_hyperparameter_folder = os.path.join('.', 'experimental_files')\n",
    "\n",
    "evaluate_dnn_in_test_dataset(experiment_id,\n",
    "                             path_hyperparameter_folder = 'hyperparameter_dnn/imb_April',\n",
    "                             path_datasets_folder = 'final datasets',\n",
    "                             shuffle_train = shuffle_train,\n",
    "                             path_recalibration_folder = 'forecast results/DNN/imb_April',\n",
    "                             nlayers = nlayers,\n",
    "                             dataset = dataset,\n",
    "                             #years_test = years_test,\n",
    "                             data_augmentation = data_augmentation,\n",
    "                             calibration_window = calibration_window,\n",
    "                             new_recalibration = new_recalibration,\n",
    "                             begin_test_date = begin_test_date,\n",
    "                             end_test_date = end_test_date)"
   ]
  },
  {
   "cell_type": "code",
   "execution_count": 11,
   "id": "60803a65",
   "metadata": {
    "scrolled": true
   },
   "outputs": [
    {
     "name": "stdout",
     "output_type": "stream",
     "text": [
      "Test datasets: 2021-04-19 00:00:00 - 2021-04-25 23:00:00\n"
     ]
    },
    {
     "name": "stderr",
     "output_type": "stream",
     "text": [
      "C:\\Users\\35250\\AppData\\Roaming\\Python\\Python38\\site-packages\\tensorflow\\python\\keras\\optimizer_v2\\optimizer_v2.py:374: UserWarning: The `lr` argument is deprecated, use `learning_rate` instead.\n",
      "  warnings.warn(\n"
     ]
    },
    {
     "name": "stdout",
     "output_type": "stream",
     "text": [
      "2021-04-19 - sMAPE: 13.27%  |  MAE: 10.379\n"
     ]
    },
    {
     "name": "stderr",
     "output_type": "stream",
     "text": [
      "C:\\Users\\35250\\AppData\\Roaming\\Python\\Python38\\site-packages\\tensorflow\\python\\keras\\optimizer_v2\\optimizer_v2.py:374: UserWarning: The `lr` argument is deprecated, use `learning_rate` instead.\n",
      "  warnings.warn(\n"
     ]
    },
    {
     "name": "stdout",
     "output_type": "stream",
     "text": [
      "2021-04-20 - sMAPE: 13.20%  |  MAE: 10.129\n"
     ]
    },
    {
     "name": "stderr",
     "output_type": "stream",
     "text": [
      "C:\\Users\\35250\\AppData\\Roaming\\Python\\Python38\\site-packages\\tensorflow\\python\\keras\\optimizer_v2\\optimizer_v2.py:374: UserWarning: The `lr` argument is deprecated, use `learning_rate` instead.\n",
      "  warnings.warn(\n"
     ]
    },
    {
     "name": "stdout",
     "output_type": "stream",
     "text": [
      "2021-04-21 - sMAPE: 11.34%  |  MAE: 8.257\n"
     ]
    },
    {
     "name": "stderr",
     "output_type": "stream",
     "text": [
      "C:\\Users\\35250\\AppData\\Roaming\\Python\\Python38\\site-packages\\tensorflow\\python\\keras\\optimizer_v2\\optimizer_v2.py:374: UserWarning: The `lr` argument is deprecated, use `learning_rate` instead.\n",
      "  warnings.warn(\n"
     ]
    },
    {
     "name": "stdout",
     "output_type": "stream",
     "text": [
      "2021-04-22 - sMAPE: 12.28%  |  MAE: 9.219\n"
     ]
    },
    {
     "name": "stderr",
     "output_type": "stream",
     "text": [
      "C:\\Users\\35250\\AppData\\Roaming\\Python\\Python38\\site-packages\\tensorflow\\python\\keras\\optimizer_v2\\optimizer_v2.py:374: UserWarning: The `lr` argument is deprecated, use `learning_rate` instead.\n",
      "  warnings.warn(\n"
     ]
    },
    {
     "name": "stdout",
     "output_type": "stream",
     "text": [
      "2021-04-23 - sMAPE: 11.86%  |  MAE: 8.675\n"
     ]
    },
    {
     "name": "stderr",
     "output_type": "stream",
     "text": [
      "C:\\Users\\35250\\AppData\\Roaming\\Python\\Python38\\site-packages\\tensorflow\\python\\keras\\optimizer_v2\\optimizer_v2.py:374: UserWarning: The `lr` argument is deprecated, use `learning_rate` instead.\n",
      "  warnings.warn(\n"
     ]
    },
    {
     "name": "stdout",
     "output_type": "stream",
     "text": [
      "2021-04-24 - sMAPE: 12.07%  |  MAE: 8.537\n"
     ]
    },
    {
     "name": "stderr",
     "output_type": "stream",
     "text": [
      "C:\\Users\\35250\\AppData\\Roaming\\Python\\Python38\\site-packages\\tensorflow\\python\\keras\\optimizer_v2\\optimizer_v2.py:374: UserWarning: The `lr` argument is deprecated, use `learning_rate` instead.\n",
      "  warnings.warn(\n"
     ]
    },
    {
     "name": "stdout",
     "output_type": "stream",
     "text": [
      "2021-04-25 - sMAPE: 11.58%  |  MAE: 8.072\n"
     ]
    },
    {
     "data": {
      "text/html": [
       "<div>\n",
       "<style scoped>\n",
       "    .dataframe tbody tr th:only-of-type {\n",
       "        vertical-align: middle;\n",
       "    }\n",
       "\n",
       "    .dataframe tbody tr th {\n",
       "        vertical-align: top;\n",
       "    }\n",
       "\n",
       "    .dataframe thead th {\n",
       "        text-align: right;\n",
       "    }\n",
       "</style>\n",
       "<table border=\"1\" class=\"dataframe\">\n",
       "  <thead>\n",
       "    <tr style=\"text-align: right;\">\n",
       "      <th></th>\n",
       "      <th>h0</th>\n",
       "      <th>h1</th>\n",
       "      <th>h2</th>\n",
       "      <th>h3</th>\n",
       "      <th>h4</th>\n",
       "      <th>h5</th>\n",
       "      <th>h6</th>\n",
       "      <th>h7</th>\n",
       "      <th>h8</th>\n",
       "      <th>h9</th>\n",
       "      <th>...</th>\n",
       "      <th>h14</th>\n",
       "      <th>h15</th>\n",
       "      <th>h16</th>\n",
       "      <th>h17</th>\n",
       "      <th>h18</th>\n",
       "      <th>h19</th>\n",
       "      <th>h20</th>\n",
       "      <th>h21</th>\n",
       "      <th>h22</th>\n",
       "      <th>h23</th>\n",
       "    </tr>\n",
       "    <tr>\n",
       "      <th>datetime</th>\n",
       "      <th></th>\n",
       "      <th></th>\n",
       "      <th></th>\n",
       "      <th></th>\n",
       "      <th></th>\n",
       "      <th></th>\n",
       "      <th></th>\n",
       "      <th></th>\n",
       "      <th></th>\n",
       "      <th></th>\n",
       "      <th></th>\n",
       "      <th></th>\n",
       "      <th></th>\n",
       "      <th></th>\n",
       "      <th></th>\n",
       "      <th></th>\n",
       "      <th></th>\n",
       "      <th></th>\n",
       "      <th></th>\n",
       "      <th></th>\n",
       "      <th></th>\n",
       "    </tr>\n",
       "  </thead>\n",
       "  <tbody>\n",
       "    <tr>\n",
       "      <th>2021-04-19</th>\n",
       "      <td>67.351471</td>\n",
       "      <td>62.014725</td>\n",
       "      <td>60.910721</td>\n",
       "      <td>61.40313</td>\n",
       "      <td>58.691582</td>\n",
       "      <td>59.202663</td>\n",
       "      <td>66.439903</td>\n",
       "      <td>73.792557</td>\n",
       "      <td>73.815536</td>\n",
       "      <td>81.446487</td>\n",
       "      <td>...</td>\n",
       "      <td>66.651344</td>\n",
       "      <td>65.030327</td>\n",
       "      <td>69.218361</td>\n",
       "      <td>75.13427</td>\n",
       "      <td>103.341896</td>\n",
       "      <td>121.774994</td>\n",
       "      <td>112.974159</td>\n",
       "      <td>102.467148</td>\n",
       "      <td>79.898018</td>\n",
       "      <td>68.132141</td>\n",
       "    </tr>\n",
       "    <tr>\n",
       "      <th>2021-04-20</th>\n",
       "      <td>56.859383</td>\n",
       "      <td>53.200775</td>\n",
       "      <td>53.563522</td>\n",
       "      <td>49.507458</td>\n",
       "      <td>49.582172</td>\n",
       "      <td>53.72097</td>\n",
       "      <td>57.93425</td>\n",
       "      <td>65.396553</td>\n",
       "      <td>76.28479</td>\n",
       "      <td>78.632874</td>\n",
       "      <td>...</td>\n",
       "      <td>59.676041</td>\n",
       "      <td>61.538765</td>\n",
       "      <td>57.808968</td>\n",
       "      <td>76.902687</td>\n",
       "      <td>125.362923</td>\n",
       "      <td>113.35421</td>\n",
       "      <td>88.108559</td>\n",
       "      <td>70.704788</td>\n",
       "      <td>62.764675</td>\n",
       "      <td>55.929455</td>\n",
       "    </tr>\n",
       "    <tr>\n",
       "      <th>2021-04-21</th>\n",
       "      <td>60.356598</td>\n",
       "      <td>53.974106</td>\n",
       "      <td>52.718868</td>\n",
       "      <td>49.709274</td>\n",
       "      <td>46.210835</td>\n",
       "      <td>47.070442</td>\n",
       "      <td>53.329437</td>\n",
       "      <td>61.258598</td>\n",
       "      <td>68.567551</td>\n",
       "      <td>68.326492</td>\n",
       "      <td>...</td>\n",
       "      <td>51.185291</td>\n",
       "      <td>51.048706</td>\n",
       "      <td>52.719337</td>\n",
       "      <td>50.050915</td>\n",
       "      <td>54.561489</td>\n",
       "      <td>82.663895</td>\n",
       "      <td>81.1539</td>\n",
       "      <td>71.47171</td>\n",
       "      <td>62.776619</td>\n",
       "      <td>57.094528</td>\n",
       "    </tr>\n",
       "    <tr>\n",
       "      <th>2021-04-22</th>\n",
       "      <td>54.91589</td>\n",
       "      <td>50.779465</td>\n",
       "      <td>51.136116</td>\n",
       "      <td>51.781082</td>\n",
       "      <td>49.576691</td>\n",
       "      <td>52.589954</td>\n",
       "      <td>59.165741</td>\n",
       "      <td>68.131828</td>\n",
       "      <td>80.729279</td>\n",
       "      <td>82.80864</td>\n",
       "      <td>...</td>\n",
       "      <td>62.793354</td>\n",
       "      <td>61.029449</td>\n",
       "      <td>60.939381</td>\n",
       "      <td>77.892357</td>\n",
       "      <td>137.819351</td>\n",
       "      <td>147.772491</td>\n",
       "      <td>112.41272</td>\n",
       "      <td>85.73893</td>\n",
       "      <td>68.622169</td>\n",
       "      <td>57.467068</td>\n",
       "    </tr>\n",
       "    <tr>\n",
       "      <th>2021-04-23</th>\n",
       "      <td>55.881363</td>\n",
       "      <td>48.91214</td>\n",
       "      <td>49.929779</td>\n",
       "      <td>51.212387</td>\n",
       "      <td>49.918346</td>\n",
       "      <td>49.694832</td>\n",
       "      <td>55.599594</td>\n",
       "      <td>65.40419</td>\n",
       "      <td>69.00322</td>\n",
       "      <td>68.103836</td>\n",
       "      <td>...</td>\n",
       "      <td>54.634819</td>\n",
       "      <td>53.973137</td>\n",
       "      <td>54.814369</td>\n",
       "      <td>62.986355</td>\n",
       "      <td>60.63583</td>\n",
       "      <td>83.661552</td>\n",
       "      <td>84.256035</td>\n",
       "      <td>78.824776</td>\n",
       "      <td>66.818153</td>\n",
       "      <td>56.377571</td>\n",
       "    </tr>\n",
       "    <tr>\n",
       "      <th>2021-04-24</th>\n",
       "      <td>61.086826</td>\n",
       "      <td>52.219952</td>\n",
       "      <td>49.661205</td>\n",
       "      <td>50.148933</td>\n",
       "      <td>48.109978</td>\n",
       "      <td>47.776009</td>\n",
       "      <td>51.437298</td>\n",
       "      <td>62.049263</td>\n",
       "      <td>69.208023</td>\n",
       "      <td>64.657478</td>\n",
       "      <td>...</td>\n",
       "      <td>50.84589</td>\n",
       "      <td>45.561146</td>\n",
       "      <td>49.640778</td>\n",
       "      <td>47.56591</td>\n",
       "      <td>48.080376</td>\n",
       "      <td>81.476372</td>\n",
       "      <td>78.954773</td>\n",
       "      <td>72.314758</td>\n",
       "      <td>62.896732</td>\n",
       "      <td>53.465652</td>\n",
       "    </tr>\n",
       "    <tr>\n",
       "      <th>2021-04-25</th>\n",
       "      <td>58.928608</td>\n",
       "      <td>53.043709</td>\n",
       "      <td>52.336964</td>\n",
       "      <td>53.093925</td>\n",
       "      <td>49.292336</td>\n",
       "      <td>51.359985</td>\n",
       "      <td>53.323666</td>\n",
       "      <td>59.947392</td>\n",
       "      <td>65.712662</td>\n",
       "      <td>66.283325</td>\n",
       "      <td>...</td>\n",
       "      <td>57.030605</td>\n",
       "      <td>58.565247</td>\n",
       "      <td>56.674007</td>\n",
       "      <td>50.139767</td>\n",
       "      <td>65.92421</td>\n",
       "      <td>88.641273</td>\n",
       "      <td>86.120918</td>\n",
       "      <td>82.633568</td>\n",
       "      <td>74.789421</td>\n",
       "      <td>60.929787</td>\n",
       "    </tr>\n",
       "  </tbody>\n",
       "</table>\n",
       "<p>7 rows × 24 columns</p>\n",
       "</div>"
      ],
      "text/plain": [
       "                   h0         h1         h2         h3         h4         h5  \\\n",
       "datetime                                                                       \n",
       "2021-04-19  67.351471  62.014725  60.910721   61.40313  58.691582  59.202663   \n",
       "2021-04-20  56.859383  53.200775  53.563522  49.507458  49.582172   53.72097   \n",
       "2021-04-21  60.356598  53.974106  52.718868  49.709274  46.210835  47.070442   \n",
       "2021-04-22   54.91589  50.779465  51.136116  51.781082  49.576691  52.589954   \n",
       "2021-04-23  55.881363   48.91214  49.929779  51.212387  49.918346  49.694832   \n",
       "2021-04-24  61.086826  52.219952  49.661205  50.148933  48.109978  47.776009   \n",
       "2021-04-25  58.928608  53.043709  52.336964  53.093925  49.292336  51.359985   \n",
       "\n",
       "                   h6         h7         h8         h9  ...        h14  \\\n",
       "datetime                                                ...              \n",
       "2021-04-19  66.439903  73.792557  73.815536  81.446487  ...  66.651344   \n",
       "2021-04-20   57.93425  65.396553   76.28479  78.632874  ...  59.676041   \n",
       "2021-04-21  53.329437  61.258598  68.567551  68.326492  ...  51.185291   \n",
       "2021-04-22  59.165741  68.131828  80.729279   82.80864  ...  62.793354   \n",
       "2021-04-23  55.599594   65.40419   69.00322  68.103836  ...  54.634819   \n",
       "2021-04-24  51.437298  62.049263  69.208023  64.657478  ...   50.84589   \n",
       "2021-04-25  53.323666  59.947392  65.712662  66.283325  ...  57.030605   \n",
       "\n",
       "                  h15        h16        h17         h18         h19  \\\n",
       "datetime                                                              \n",
       "2021-04-19  65.030327  69.218361   75.13427  103.341896  121.774994   \n",
       "2021-04-20  61.538765  57.808968  76.902687  125.362923   113.35421   \n",
       "2021-04-21  51.048706  52.719337  50.050915   54.561489   82.663895   \n",
       "2021-04-22  61.029449  60.939381  77.892357  137.819351  147.772491   \n",
       "2021-04-23  53.973137  54.814369  62.986355    60.63583   83.661552   \n",
       "2021-04-24  45.561146  49.640778   47.56591   48.080376   81.476372   \n",
       "2021-04-25  58.565247  56.674007  50.139767    65.92421   88.641273   \n",
       "\n",
       "                   h20         h21        h22        h23  \n",
       "datetime                                                  \n",
       "2021-04-19  112.974159  102.467148  79.898018  68.132141  \n",
       "2021-04-20   88.108559   70.704788  62.764675  55.929455  \n",
       "2021-04-21     81.1539    71.47171  62.776619  57.094528  \n",
       "2021-04-22   112.41272    85.73893  68.622169  57.467068  \n",
       "2021-04-23   84.256035   78.824776  66.818153  56.377571  \n",
       "2021-04-24   78.954773   72.314758  62.896732  53.465652  \n",
       "2021-04-25   86.120918   82.633568  74.789421  60.929787  \n",
       "\n",
       "[7 rows x 24 columns]"
      ]
     },
     "execution_count": 11,
     "metadata": {},
     "output_type": "execute_result"
    }
   ],
   "source": [
    "# Number of layers in DNN\n",
    "nlayers = 2\n",
    "\n",
    "# data to study\n",
    "dataset = 'auctionData_final'\n",
    "\n",
    "# 1 year is considered as 364 days (52 weeks)\n",
    "# years_test = 1\n",
    "\n",
    "# Optional parameters for selecting the test dataset\n",
    "begin_test_date = '2021-04-19'\n",
    "end_test_date = '2021-04-25'\n",
    "\n",
    "# for recalibration the validation and the training datasets are always shuffled\n",
    "shuffle_train = 1\n",
    "\n",
    "# Boolean that selects whether a data augmentation technique for DNNs is used\n",
    "data_augmentation = 0\n",
    "\n",
    "# Boolean that selects whether we start a new recalibration or we restart an existing one\n",
    "new_recalibration = 1\n",
    "\n",
    "# Number of years used in the training dataset for recalibration\n",
    "calibration_window = 1\n",
    "\n",
    "# Unique identifier to read the trials file of hyperparameter optimization\n",
    "experiment_id = 4\n",
    "\n",
    "# Set up the paths for saving data (this are the defaults for the library)\n",
    "# path_datasets_folder = os.path.join('.', 'datasets')\n",
    "# path_recalibration_folder = os.path.join('.', 'experimental_files')\n",
    "# path_hyperparameter_folder = os.path.join('.', 'experimental_files')\n",
    "\n",
    "evaluate_dnn_in_test_dataset(experiment_id,\n",
    "                             path_hyperparameter_folder = 'hyperparameter_dnn/auc_April',\n",
    "                             path_datasets_folder = 'final datasets',\n",
    "                             shuffle_train = shuffle_train,\n",
    "                             path_recalibration_folder = 'forecast results/DNN/auc_April',\n",
    "                             nlayers = nlayers,\n",
    "                             dataset = dataset,\n",
    "                             #years_test = years_test,\n",
    "                             data_augmentation = data_augmentation,\n",
    "                             calibration_window = calibration_window,\n",
    "                             new_recalibration = new_recalibration,\n",
    "                             begin_test_date = begin_test_date,\n",
    "                             end_test_date = end_test_date)"
   ]
  },
  {
   "cell_type": "code",
   "execution_count": 12,
   "id": "2804c33b",
   "metadata": {
    "scrolled": true
   },
   "outputs": [
    {
     "name": "stdout",
     "output_type": "stream",
     "text": [
      "Test datasets: 2021-01-18 00:00:00 - 2021-01-24 23:00:00\n"
     ]
    },
    {
     "name": "stderr",
     "output_type": "stream",
     "text": [
      "C:\\Users\\35250\\AppData\\Roaming\\Python\\Python38\\site-packages\\tensorflow\\python\\keras\\optimizer_v2\\optimizer_v2.py:374: UserWarning: The `lr` argument is deprecated, use `learning_rate` instead.\n",
      "  warnings.warn(\n"
     ]
    },
    {
     "name": "stdout",
     "output_type": "stream",
     "text": [
      "2021-01-18 - sMAPE: 24.58%  |  MAE: 13.511\n"
     ]
    },
    {
     "name": "stderr",
     "output_type": "stream",
     "text": [
      "C:\\Users\\35250\\AppData\\Roaming\\Python\\Python38\\site-packages\\tensorflow\\python\\keras\\optimizer_v2\\optimizer_v2.py:374: UserWarning: The `lr` argument is deprecated, use `learning_rate` instead.\n",
      "  warnings.warn(\n"
     ]
    },
    {
     "name": "stdout",
     "output_type": "stream",
     "text": [
      "2021-01-19 - sMAPE: 17.67%  |  MAE: 10.737\n"
     ]
    },
    {
     "name": "stderr",
     "output_type": "stream",
     "text": [
      "C:\\Users\\35250\\AppData\\Roaming\\Python\\Python38\\site-packages\\tensorflow\\python\\keras\\optimizer_v2\\optimizer_v2.py:374: UserWarning: The `lr` argument is deprecated, use `learning_rate` instead.\n",
      "  warnings.warn(\n"
     ]
    },
    {
     "name": "stdout",
     "output_type": "stream",
     "text": [
      "2021-01-20 - sMAPE: 18.29%  |  MAE: 11.934\n"
     ]
    },
    {
     "name": "stderr",
     "output_type": "stream",
     "text": [
      "C:\\Users\\35250\\AppData\\Roaming\\Python\\Python38\\site-packages\\tensorflow\\python\\keras\\optimizer_v2\\optimizer_v2.py:374: UserWarning: The `lr` argument is deprecated, use `learning_rate` instead.\n",
      "  warnings.warn(\n"
     ]
    },
    {
     "name": "stdout",
     "output_type": "stream",
     "text": [
      "2021-01-21 - sMAPE: 17.70%  |  MAE: 11.009\n"
     ]
    },
    {
     "name": "stderr",
     "output_type": "stream",
     "text": [
      "C:\\Users\\35250\\AppData\\Roaming\\Python\\Python38\\site-packages\\tensorflow\\python\\keras\\optimizer_v2\\optimizer_v2.py:374: UserWarning: The `lr` argument is deprecated, use `learning_rate` instead.\n",
      "  warnings.warn(\n"
     ]
    },
    {
     "name": "stdout",
     "output_type": "stream",
     "text": [
      "2021-01-22 - sMAPE: 18.48%  |  MAE: 11.202\n"
     ]
    },
    {
     "name": "stderr",
     "output_type": "stream",
     "text": [
      "C:\\Users\\35250\\AppData\\Roaming\\Python\\Python38\\site-packages\\tensorflow\\python\\keras\\optimizer_v2\\optimizer_v2.py:374: UserWarning: The `lr` argument is deprecated, use `learning_rate` instead.\n",
      "  warnings.warn(\n"
     ]
    },
    {
     "name": "stdout",
     "output_type": "stream",
     "text": [
      "2021-01-23 - sMAPE: 17.02%  |  MAE: 10.264\n"
     ]
    },
    {
     "name": "stderr",
     "output_type": "stream",
     "text": [
      "C:\\Users\\35250\\AppData\\Roaming\\Python\\Python38\\site-packages\\tensorflow\\python\\keras\\optimizer_v2\\optimizer_v2.py:374: UserWarning: The `lr` argument is deprecated, use `learning_rate` instead.\n",
      "  warnings.warn(\n"
     ]
    },
    {
     "name": "stdout",
     "output_type": "stream",
     "text": [
      "2021-01-24 - sMAPE: 17.51%  |  MAE: 11.132\n"
     ]
    },
    {
     "data": {
      "text/html": [
       "<div>\n",
       "<style scoped>\n",
       "    .dataframe tbody tr th:only-of-type {\n",
       "        vertical-align: middle;\n",
       "    }\n",
       "\n",
       "    .dataframe tbody tr th {\n",
       "        vertical-align: top;\n",
       "    }\n",
       "\n",
       "    .dataframe thead th {\n",
       "        text-align: right;\n",
       "    }\n",
       "</style>\n",
       "<table border=\"1\" class=\"dataframe\">\n",
       "  <thead>\n",
       "    <tr style=\"text-align: right;\">\n",
       "      <th></th>\n",
       "      <th>h0</th>\n",
       "      <th>h1</th>\n",
       "      <th>h2</th>\n",
       "      <th>h3</th>\n",
       "      <th>h4</th>\n",
       "      <th>h5</th>\n",
       "      <th>h6</th>\n",
       "      <th>h7</th>\n",
       "      <th>h8</th>\n",
       "      <th>h9</th>\n",
       "      <th>...</th>\n",
       "      <th>h14</th>\n",
       "      <th>h15</th>\n",
       "      <th>h16</th>\n",
       "      <th>h17</th>\n",
       "      <th>h18</th>\n",
       "      <th>h19</th>\n",
       "      <th>h20</th>\n",
       "      <th>h21</th>\n",
       "      <th>h22</th>\n",
       "      <th>h23</th>\n",
       "    </tr>\n",
       "    <tr>\n",
       "      <th>datetime</th>\n",
       "      <th></th>\n",
       "      <th></th>\n",
       "      <th></th>\n",
       "      <th></th>\n",
       "      <th></th>\n",
       "      <th></th>\n",
       "      <th></th>\n",
       "      <th></th>\n",
       "      <th></th>\n",
       "      <th></th>\n",
       "      <th></th>\n",
       "      <th></th>\n",
       "      <th></th>\n",
       "      <th></th>\n",
       "      <th></th>\n",
       "      <th></th>\n",
       "      <th></th>\n",
       "      <th></th>\n",
       "      <th></th>\n",
       "      <th></th>\n",
       "      <th></th>\n",
       "    </tr>\n",
       "  </thead>\n",
       "  <tbody>\n",
       "    <tr>\n",
       "      <th>2021-01-18</th>\n",
       "      <td>44.534115</td>\n",
       "      <td>41.846375</td>\n",
       "      <td>39.90221</td>\n",
       "      <td>36.970291</td>\n",
       "      <td>34.743122</td>\n",
       "      <td>34.306366</td>\n",
       "      <td>38.51001</td>\n",
       "      <td>45.005344</td>\n",
       "      <td>46.571583</td>\n",
       "      <td>49.971878</td>\n",
       "      <td>...</td>\n",
       "      <td>47.265106</td>\n",
       "      <td>45.406967</td>\n",
       "      <td>44.672531</td>\n",
       "      <td>57.174992</td>\n",
       "      <td>73.275452</td>\n",
       "      <td>66.128334</td>\n",
       "      <td>58.068245</td>\n",
       "      <td>50.098549</td>\n",
       "      <td>47.155327</td>\n",
       "      <td>41.797729</td>\n",
       "    </tr>\n",
       "    <tr>\n",
       "      <th>2021-01-19</th>\n",
       "      <td>62.153397</td>\n",
       "      <td>60.464996</td>\n",
       "      <td>59.378887</td>\n",
       "      <td>56.293484</td>\n",
       "      <td>51.824642</td>\n",
       "      <td>50.083012</td>\n",
       "      <td>54.31781</td>\n",
       "      <td>58.207191</td>\n",
       "      <td>58.03405</td>\n",
       "      <td>63.444592</td>\n",
       "      <td>...</td>\n",
       "      <td>69.046127</td>\n",
       "      <td>67.359276</td>\n",
       "      <td>64.353424</td>\n",
       "      <td>94.99556</td>\n",
       "      <td>128.387375</td>\n",
       "      <td>98.107391</td>\n",
       "      <td>82.37085</td>\n",
       "      <td>66.807808</td>\n",
       "      <td>60.0606</td>\n",
       "      <td>55.344696</td>\n",
       "    </tr>\n",
       "    <tr>\n",
       "      <th>2021-01-20</th>\n",
       "      <td>59.758125</td>\n",
       "      <td>58.413982</td>\n",
       "      <td>56.954796</td>\n",
       "      <td>53.343964</td>\n",
       "      <td>50.058846</td>\n",
       "      <td>49.632263</td>\n",
       "      <td>53.54879</td>\n",
       "      <td>60.278358</td>\n",
       "      <td>58.732998</td>\n",
       "      <td>66.17186</td>\n",
       "      <td>...</td>\n",
       "      <td>79.919464</td>\n",
       "      <td>77.010689</td>\n",
       "      <td>73.043205</td>\n",
       "      <td>112.934692</td>\n",
       "      <td>159.78244</td>\n",
       "      <td>106.236259</td>\n",
       "      <td>81.111099</td>\n",
       "      <td>65.533745</td>\n",
       "      <td>58.825554</td>\n",
       "      <td>51.759583</td>\n",
       "    </tr>\n",
       "    <tr>\n",
       "      <th>2021-01-21</th>\n",
       "      <td>49.758453</td>\n",
       "      <td>45.847816</td>\n",
       "      <td>43.097885</td>\n",
       "      <td>38.087749</td>\n",
       "      <td>35.168526</td>\n",
       "      <td>34.781624</td>\n",
       "      <td>40.24247</td>\n",
       "      <td>47.269157</td>\n",
       "      <td>49.986786</td>\n",
       "      <td>55.468697</td>\n",
       "      <td>...</td>\n",
       "      <td>52.109695</td>\n",
       "      <td>49.952133</td>\n",
       "      <td>48.345398</td>\n",
       "      <td>63.742817</td>\n",
       "      <td>80.682686</td>\n",
       "      <td>72.140976</td>\n",
       "      <td>62.462753</td>\n",
       "      <td>53.161034</td>\n",
       "      <td>48.158432</td>\n",
       "      <td>41.133469</td>\n",
       "    </tr>\n",
       "    <tr>\n",
       "      <th>2021-01-22</th>\n",
       "      <td>44.443092</td>\n",
       "      <td>41.181442</td>\n",
       "      <td>39.222866</td>\n",
       "      <td>36.270683</td>\n",
       "      <td>33.383038</td>\n",
       "      <td>33.979034</td>\n",
       "      <td>39.742119</td>\n",
       "      <td>46.620831</td>\n",
       "      <td>48.220062</td>\n",
       "      <td>53.518692</td>\n",
       "      <td>...</td>\n",
       "      <td>57.889816</td>\n",
       "      <td>55.806355</td>\n",
       "      <td>52.725956</td>\n",
       "      <td>73.637238</td>\n",
       "      <td>96.200645</td>\n",
       "      <td>80.773651</td>\n",
       "      <td>66.653343</td>\n",
       "      <td>54.364986</td>\n",
       "      <td>50.20541</td>\n",
       "      <td>44.656265</td>\n",
       "    </tr>\n",
       "    <tr>\n",
       "      <th>2021-01-23</th>\n",
       "      <td>61.549076</td>\n",
       "      <td>56.327255</td>\n",
       "      <td>53.215958</td>\n",
       "      <td>48.016415</td>\n",
       "      <td>43.737232</td>\n",
       "      <td>42.229294</td>\n",
       "      <td>43.512436</td>\n",
       "      <td>48.3349</td>\n",
       "      <td>48.533794</td>\n",
       "      <td>55.836891</td>\n",
       "      <td>...</td>\n",
       "      <td>66.511063</td>\n",
       "      <td>61.460289</td>\n",
       "      <td>58.215919</td>\n",
       "      <td>80.186409</td>\n",
       "      <td>108.256638</td>\n",
       "      <td>89.759666</td>\n",
       "      <td>74.641342</td>\n",
       "      <td>62.359051</td>\n",
       "      <td>57.817371</td>\n",
       "      <td>52.870659</td>\n",
       "    </tr>\n",
       "    <tr>\n",
       "      <th>2021-01-24</th>\n",
       "      <td>59.363556</td>\n",
       "      <td>56.967976</td>\n",
       "      <td>54.235142</td>\n",
       "      <td>49.221725</td>\n",
       "      <td>44.963776</td>\n",
       "      <td>42.432579</td>\n",
       "      <td>44.787807</td>\n",
       "      <td>48.771</td>\n",
       "      <td>46.18856</td>\n",
       "      <td>52.395073</td>\n",
       "      <td>...</td>\n",
       "      <td>64.497482</td>\n",
       "      <td>60.685604</td>\n",
       "      <td>56.349724</td>\n",
       "      <td>76.902206</td>\n",
       "      <td>101.055557</td>\n",
       "      <td>83.35527</td>\n",
       "      <td>69.841454</td>\n",
       "      <td>58.485943</td>\n",
       "      <td>55.662064</td>\n",
       "      <td>49.621399</td>\n",
       "    </tr>\n",
       "  </tbody>\n",
       "</table>\n",
       "<p>7 rows × 24 columns</p>\n",
       "</div>"
      ],
      "text/plain": [
       "                   h0         h1         h2         h3         h4         h5  \\\n",
       "datetime                                                                       \n",
       "2021-01-18  44.534115  41.846375   39.90221  36.970291  34.743122  34.306366   \n",
       "2021-01-19  62.153397  60.464996  59.378887  56.293484  51.824642  50.083012   \n",
       "2021-01-20  59.758125  58.413982  56.954796  53.343964  50.058846  49.632263   \n",
       "2021-01-21  49.758453  45.847816  43.097885  38.087749  35.168526  34.781624   \n",
       "2021-01-22  44.443092  41.181442  39.222866  36.270683  33.383038  33.979034   \n",
       "2021-01-23  61.549076  56.327255  53.215958  48.016415  43.737232  42.229294   \n",
       "2021-01-24  59.363556  56.967976  54.235142  49.221725  44.963776  42.432579   \n",
       "\n",
       "                   h6         h7         h8         h9  ...        h14  \\\n",
       "datetime                                                ...              \n",
       "2021-01-18   38.51001  45.005344  46.571583  49.971878  ...  47.265106   \n",
       "2021-01-19   54.31781  58.207191   58.03405  63.444592  ...  69.046127   \n",
       "2021-01-20   53.54879  60.278358  58.732998   66.17186  ...  79.919464   \n",
       "2021-01-21   40.24247  47.269157  49.986786  55.468697  ...  52.109695   \n",
       "2021-01-22  39.742119  46.620831  48.220062  53.518692  ...  57.889816   \n",
       "2021-01-23  43.512436    48.3349  48.533794  55.836891  ...  66.511063   \n",
       "2021-01-24  44.787807     48.771   46.18856  52.395073  ...  64.497482   \n",
       "\n",
       "                  h15        h16         h17         h18         h19  \\\n",
       "datetime                                                               \n",
       "2021-01-18  45.406967  44.672531   57.174992   73.275452   66.128334   \n",
       "2021-01-19  67.359276  64.353424    94.99556  128.387375   98.107391   \n",
       "2021-01-20  77.010689  73.043205  112.934692   159.78244  106.236259   \n",
       "2021-01-21  49.952133  48.345398   63.742817   80.682686   72.140976   \n",
       "2021-01-22  55.806355  52.725956   73.637238   96.200645   80.773651   \n",
       "2021-01-23  61.460289  58.215919   80.186409  108.256638   89.759666   \n",
       "2021-01-24  60.685604  56.349724   76.902206  101.055557    83.35527   \n",
       "\n",
       "                  h20        h21        h22        h23  \n",
       "datetime                                                \n",
       "2021-01-18  58.068245  50.098549  47.155327  41.797729  \n",
       "2021-01-19   82.37085  66.807808    60.0606  55.344696  \n",
       "2021-01-20  81.111099  65.533745  58.825554  51.759583  \n",
       "2021-01-21  62.462753  53.161034  48.158432  41.133469  \n",
       "2021-01-22  66.653343  54.364986   50.20541  44.656265  \n",
       "2021-01-23  74.641342  62.359051  57.817371  52.870659  \n",
       "2021-01-24  69.841454  58.485943  55.662064  49.621399  \n",
       "\n",
       "[7 rows x 24 columns]"
      ]
     },
     "execution_count": 12,
     "metadata": {},
     "output_type": "execute_result"
    }
   ],
   "source": [
    "# Number of layers in DNN\n",
    "nlayers = 2\n",
    "\n",
    "# data to study\n",
    "dataset = 'auctionData_final'\n",
    "\n",
    "# 1 year is considered as 364 days (52 weeks)\n",
    "# years_test = 1\n",
    "\n",
    "# Optional parameters for selecting the test dataset\n",
    "begin_test_date = '2021-01-18'\n",
    "end_test_date = '2021-01-24'\n",
    "\n",
    "# for recalibration the validation and the training datasets are always shuffled\n",
    "shuffle_train = 1\n",
    "\n",
    "# Boolean that selects whether a data augmentation technique for DNNs is used\n",
    "data_augmentation = 0\n",
    "\n",
    "# Boolean that selects whether we start a new recalibration or we restart an existing one\n",
    "new_recalibration = 1\n",
    "\n",
    "# Number of years used in the training dataset for recalibration\n",
    "calibration_window = 1\n",
    "\n",
    "# Unique identifier to read the trials file of hyperparameter optimization\n",
    "experiment_id = 4\n",
    "\n",
    "# Set up the paths for saving data (this are the defaults for the library)\n",
    "# path_datasets_folder = os.path.join('.', 'datasets')\n",
    "# path_recalibration_folder = os.path.join('.', 'experimental_files')\n",
    "# path_hyperparameter_folder = os.path.join('.', 'experimental_files')\n",
    "\n",
    "evaluate_dnn_in_test_dataset(experiment_id,\n",
    "                             path_hyperparameter_folder = 'hyperparameter_dnn/auc_January',\n",
    "                             path_datasets_folder = 'final datasets',\n",
    "                             shuffle_train = shuffle_train,\n",
    "                             path_recalibration_folder = 'forecast results/DNN/auc_January',\n",
    "                             nlayers = nlayers,\n",
    "                             dataset = dataset,\n",
    "                             #years_test = years_test,\n",
    "                             data_augmentation = data_augmentation,\n",
    "                             calibration_window = calibration_window,\n",
    "                             new_recalibration = new_recalibration,\n",
    "                             begin_test_date = begin_test_date,\n",
    "                             end_test_date = end_test_date)"
   ]
  },
  {
   "cell_type": "code",
   "execution_count": 13,
   "id": "5f091f3e",
   "metadata": {
    "scrolled": true
   },
   "outputs": [
    {
     "name": "stdout",
     "output_type": "stream",
     "text": [
      "Test datasets: 2020-10-19 00:00:00 - 2020-10-25 23:00:00\n"
     ]
    },
    {
     "name": "stderr",
     "output_type": "stream",
     "text": [
      "C:\\Users\\35250\\AppData\\Roaming\\Python\\Python38\\site-packages\\tensorflow\\python\\keras\\optimizer_v2\\optimizer_v2.py:374: UserWarning: The `lr` argument is deprecated, use `learning_rate` instead.\n",
      "  warnings.warn(\n"
     ]
    },
    {
     "name": "stdout",
     "output_type": "stream",
     "text": [
      "2020-10-19 - sMAPE: 7.49%  |  MAE: 3.560\n"
     ]
    },
    {
     "name": "stderr",
     "output_type": "stream",
     "text": [
      "C:\\Users\\35250\\AppData\\Roaming\\Python\\Python38\\site-packages\\tensorflow\\python\\keras\\optimizer_v2\\optimizer_v2.py:374: UserWarning: The `lr` argument is deprecated, use `learning_rate` instead.\n",
      "  warnings.warn(\n"
     ]
    },
    {
     "name": "stdout",
     "output_type": "stream",
     "text": [
      "2020-10-20 - sMAPE: 8.01%  |  MAE: 3.564\n"
     ]
    },
    {
     "name": "stderr",
     "output_type": "stream",
     "text": [
      "C:\\Users\\35250\\AppData\\Roaming\\Python\\Python38\\site-packages\\tensorflow\\python\\keras\\optimizer_v2\\optimizer_v2.py:374: UserWarning: The `lr` argument is deprecated, use `learning_rate` instead.\n",
      "  warnings.warn(\n"
     ]
    },
    {
     "name": "stdout",
     "output_type": "stream",
     "text": [
      "2020-10-21 - sMAPE: 9.45%  |  MAE: 4.147\n"
     ]
    },
    {
     "name": "stderr",
     "output_type": "stream",
     "text": [
      "C:\\Users\\35250\\AppData\\Roaming\\Python\\Python38\\site-packages\\tensorflow\\python\\keras\\optimizer_v2\\optimizer_v2.py:374: UserWarning: The `lr` argument is deprecated, use `learning_rate` instead.\n",
      "  warnings.warn(\n"
     ]
    },
    {
     "name": "stdout",
     "output_type": "stream",
     "text": [
      "2020-10-22 - sMAPE: 9.02%  |  MAE: 3.950\n"
     ]
    },
    {
     "name": "stderr",
     "output_type": "stream",
     "text": [
      "C:\\Users\\35250\\AppData\\Roaming\\Python\\Python38\\site-packages\\tensorflow\\python\\keras\\optimizer_v2\\optimizer_v2.py:374: UserWarning: The `lr` argument is deprecated, use `learning_rate` instead.\n",
      "  warnings.warn(\n"
     ]
    },
    {
     "name": "stdout",
     "output_type": "stream",
     "text": [
      "2020-10-23 - sMAPE: 8.85%  |  MAE: 3.880\n"
     ]
    },
    {
     "name": "stderr",
     "output_type": "stream",
     "text": [
      "C:\\Users\\35250\\AppData\\Roaming\\Python\\Python38\\site-packages\\tensorflow\\python\\keras\\optimizer_v2\\optimizer_v2.py:374: UserWarning: The `lr` argument is deprecated, use `learning_rate` instead.\n",
      "  warnings.warn(\n"
     ]
    },
    {
     "name": "stdout",
     "output_type": "stream",
     "text": [
      "2020-10-24 - sMAPE: 9.85%  |  MAE: 4.266\n"
     ]
    },
    {
     "name": "stderr",
     "output_type": "stream",
     "text": [
      "C:\\Users\\35250\\AppData\\Roaming\\Python\\Python38\\site-packages\\tensorflow\\python\\keras\\optimizer_v2\\optimizer_v2.py:374: UserWarning: The `lr` argument is deprecated, use `learning_rate` instead.\n",
      "  warnings.warn(\n"
     ]
    },
    {
     "name": "stdout",
     "output_type": "stream",
     "text": [
      "2020-10-25 - sMAPE: 18.80%  |  MAE: 5.574\n"
     ]
    },
    {
     "data": {
      "text/html": [
       "<div>\n",
       "<style scoped>\n",
       "    .dataframe tbody tr th:only-of-type {\n",
       "        vertical-align: middle;\n",
       "    }\n",
       "\n",
       "    .dataframe tbody tr th {\n",
       "        vertical-align: top;\n",
       "    }\n",
       "\n",
       "    .dataframe thead th {\n",
       "        text-align: right;\n",
       "    }\n",
       "</style>\n",
       "<table border=\"1\" class=\"dataframe\">\n",
       "  <thead>\n",
       "    <tr style=\"text-align: right;\">\n",
       "      <th></th>\n",
       "      <th>h0</th>\n",
       "      <th>h1</th>\n",
       "      <th>h2</th>\n",
       "      <th>h3</th>\n",
       "      <th>h4</th>\n",
       "      <th>h5</th>\n",
       "      <th>h6</th>\n",
       "      <th>h7</th>\n",
       "      <th>h8</th>\n",
       "      <th>h9</th>\n",
       "      <th>...</th>\n",
       "      <th>h14</th>\n",
       "      <th>h15</th>\n",
       "      <th>h16</th>\n",
       "      <th>h17</th>\n",
       "      <th>h18</th>\n",
       "      <th>h19</th>\n",
       "      <th>h20</th>\n",
       "      <th>h21</th>\n",
       "      <th>h22</th>\n",
       "      <th>h23</th>\n",
       "    </tr>\n",
       "    <tr>\n",
       "      <th>datetime</th>\n",
       "      <th></th>\n",
       "      <th></th>\n",
       "      <th></th>\n",
       "      <th></th>\n",
       "      <th></th>\n",
       "      <th></th>\n",
       "      <th></th>\n",
       "      <th></th>\n",
       "      <th></th>\n",
       "      <th></th>\n",
       "      <th></th>\n",
       "      <th></th>\n",
       "      <th></th>\n",
       "      <th></th>\n",
       "      <th></th>\n",
       "      <th></th>\n",
       "      <th></th>\n",
       "      <th></th>\n",
       "      <th></th>\n",
       "      <th></th>\n",
       "      <th></th>\n",
       "    </tr>\n",
       "  </thead>\n",
       "  <tbody>\n",
       "    <tr>\n",
       "      <th>2020-10-19</th>\n",
       "      <td>45.382751</td>\n",
       "      <td>38.764992</td>\n",
       "      <td>37.326538</td>\n",
       "      <td>32.999031</td>\n",
       "      <td>31.126619</td>\n",
       "      <td>31.872093</td>\n",
       "      <td>40.665234</td>\n",
       "      <td>47.805012</td>\n",
       "      <td>57.392647</td>\n",
       "      <td>54.637741</td>\n",
       "      <td>...</td>\n",
       "      <td>37.710995</td>\n",
       "      <td>35.972378</td>\n",
       "      <td>36.800629</td>\n",
       "      <td>42.613697</td>\n",
       "      <td>49.76326</td>\n",
       "      <td>56.120457</td>\n",
       "      <td>52.436985</td>\n",
       "      <td>42.357723</td>\n",
       "      <td>38.291229</td>\n",
       "      <td>32.551617</td>\n",
       "    </tr>\n",
       "    <tr>\n",
       "      <th>2020-10-20</th>\n",
       "      <td>31.964785</td>\n",
       "      <td>28.424196</td>\n",
       "      <td>25.595003</td>\n",
       "      <td>22.91251</td>\n",
       "      <td>20.710915</td>\n",
       "      <td>23.708204</td>\n",
       "      <td>31.141632</td>\n",
       "      <td>41.305466</td>\n",
       "      <td>47.752522</td>\n",
       "      <td>49.601677</td>\n",
       "      <td>...</td>\n",
       "      <td>36.784554</td>\n",
       "      <td>34.555191</td>\n",
       "      <td>34.440571</td>\n",
       "      <td>39.263245</td>\n",
       "      <td>50.364319</td>\n",
       "      <td>59.527195</td>\n",
       "      <td>61.522217</td>\n",
       "      <td>47.039566</td>\n",
       "      <td>40.393246</td>\n",
       "      <td>35.27372</td>\n",
       "    </tr>\n",
       "    <tr>\n",
       "      <th>2020-10-21</th>\n",
       "      <td>37.985069</td>\n",
       "      <td>33.126568</td>\n",
       "      <td>30.978922</td>\n",
       "      <td>28.813629</td>\n",
       "      <td>27.172436</td>\n",
       "      <td>29.777721</td>\n",
       "      <td>38.487446</td>\n",
       "      <td>47.699726</td>\n",
       "      <td>49.567665</td>\n",
       "      <td>52.254402</td>\n",
       "      <td>...</td>\n",
       "      <td>43.49221</td>\n",
       "      <td>40.836395</td>\n",
       "      <td>40.778736</td>\n",
       "      <td>46.545368</td>\n",
       "      <td>53.845066</td>\n",
       "      <td>58.242081</td>\n",
       "      <td>55.960377</td>\n",
       "      <td>45.129234</td>\n",
       "      <td>40.994377</td>\n",
       "      <td>34.697605</td>\n",
       "    </tr>\n",
       "    <tr>\n",
       "      <th>2020-10-22</th>\n",
       "      <td>36.935066</td>\n",
       "      <td>31.291954</td>\n",
       "      <td>29.133883</td>\n",
       "      <td>25.83145</td>\n",
       "      <td>22.53919</td>\n",
       "      <td>25.263918</td>\n",
       "      <td>32.121914</td>\n",
       "      <td>39.701775</td>\n",
       "      <td>42.714558</td>\n",
       "      <td>48.177597</td>\n",
       "      <td>...</td>\n",
       "      <td>39.242493</td>\n",
       "      <td>38.801636</td>\n",
       "      <td>37.415897</td>\n",
       "      <td>43.448677</td>\n",
       "      <td>56.773621</td>\n",
       "      <td>74.475349</td>\n",
       "      <td>78.786438</td>\n",
       "      <td>57.664375</td>\n",
       "      <td>49.783211</td>\n",
       "      <td>43.657703</td>\n",
       "    </tr>\n",
       "    <tr>\n",
       "      <th>2020-10-23</th>\n",
       "      <td>47.129635</td>\n",
       "      <td>40.520515</td>\n",
       "      <td>39.37973</td>\n",
       "      <td>34.775078</td>\n",
       "      <td>31.667469</td>\n",
       "      <td>31.081028</td>\n",
       "      <td>38.24855</td>\n",
       "      <td>46.351677</td>\n",
       "      <td>50.684441</td>\n",
       "      <td>52.96946</td>\n",
       "      <td>...</td>\n",
       "      <td>39.387856</td>\n",
       "      <td>38.768158</td>\n",
       "      <td>37.433922</td>\n",
       "      <td>43.069229</td>\n",
       "      <td>55.284237</td>\n",
       "      <td>64.910019</td>\n",
       "      <td>61.783775</td>\n",
       "      <td>47.823353</td>\n",
       "      <td>41.976871</td>\n",
       "      <td>34.460678</td>\n",
       "    </tr>\n",
       "    <tr>\n",
       "      <th>2020-10-24</th>\n",
       "      <td>41.089989</td>\n",
       "      <td>34.937279</td>\n",
       "      <td>30.547485</td>\n",
       "      <td>26.159111</td>\n",
       "      <td>22.2985</td>\n",
       "      <td>20.602367</td>\n",
       "      <td>24.625307</td>\n",
       "      <td>29.140488</td>\n",
       "      <td>32.145058</td>\n",
       "      <td>37.611641</td>\n",
       "      <td>...</td>\n",
       "      <td>39.535347</td>\n",
       "      <td>35.955681</td>\n",
       "      <td>34.89529</td>\n",
       "      <td>41.113304</td>\n",
       "      <td>53.730179</td>\n",
       "      <td>56.537201</td>\n",
       "      <td>53.540691</td>\n",
       "      <td>44.419353</td>\n",
       "      <td>40.733818</td>\n",
       "      <td>35.893784</td>\n",
       "    </tr>\n",
       "    <tr>\n",
       "      <th>2020-10-25</th>\n",
       "      <td>31.105196</td>\n",
       "      <td>25.851437</td>\n",
       "      <td>22.650833</td>\n",
       "      <td>20.510927</td>\n",
       "      <td>16.877083</td>\n",
       "      <td>18.17189</td>\n",
       "      <td>21.95014</td>\n",
       "      <td>28.407322</td>\n",
       "      <td>29.954248</td>\n",
       "      <td>35.631065</td>\n",
       "      <td>...</td>\n",
       "      <td>37.848866</td>\n",
       "      <td>34.928745</td>\n",
       "      <td>32.301823</td>\n",
       "      <td>40.969509</td>\n",
       "      <td>52.418289</td>\n",
       "      <td>60.859768</td>\n",
       "      <td>57.26767</td>\n",
       "      <td>45.392155</td>\n",
       "      <td>41.461609</td>\n",
       "      <td>36.361919</td>\n",
       "    </tr>\n",
       "  </tbody>\n",
       "</table>\n",
       "<p>7 rows × 24 columns</p>\n",
       "</div>"
      ],
      "text/plain": [
       "                   h0         h1         h2         h3         h4         h5  \\\n",
       "datetime                                                                       \n",
       "2020-10-19  45.382751  38.764992  37.326538  32.999031  31.126619  31.872093   \n",
       "2020-10-20  31.964785  28.424196  25.595003   22.91251  20.710915  23.708204   \n",
       "2020-10-21  37.985069  33.126568  30.978922  28.813629  27.172436  29.777721   \n",
       "2020-10-22  36.935066  31.291954  29.133883   25.83145   22.53919  25.263918   \n",
       "2020-10-23  47.129635  40.520515   39.37973  34.775078  31.667469  31.081028   \n",
       "2020-10-24  41.089989  34.937279  30.547485  26.159111    22.2985  20.602367   \n",
       "2020-10-25  31.105196  25.851437  22.650833  20.510927  16.877083   18.17189   \n",
       "\n",
       "                   h6         h7         h8         h9  ...        h14  \\\n",
       "datetime                                                ...              \n",
       "2020-10-19  40.665234  47.805012  57.392647  54.637741  ...  37.710995   \n",
       "2020-10-20  31.141632  41.305466  47.752522  49.601677  ...  36.784554   \n",
       "2020-10-21  38.487446  47.699726  49.567665  52.254402  ...   43.49221   \n",
       "2020-10-22  32.121914  39.701775  42.714558  48.177597  ...  39.242493   \n",
       "2020-10-23   38.24855  46.351677  50.684441   52.96946  ...  39.387856   \n",
       "2020-10-24  24.625307  29.140488  32.145058  37.611641  ...  39.535347   \n",
       "2020-10-25   21.95014  28.407322  29.954248  35.631065  ...  37.848866   \n",
       "\n",
       "                  h15        h16        h17        h18        h19        h20  \\\n",
       "datetime                                                                       \n",
       "2020-10-19  35.972378  36.800629  42.613697   49.76326  56.120457  52.436985   \n",
       "2020-10-20  34.555191  34.440571  39.263245  50.364319  59.527195  61.522217   \n",
       "2020-10-21  40.836395  40.778736  46.545368  53.845066  58.242081  55.960377   \n",
       "2020-10-22  38.801636  37.415897  43.448677  56.773621  74.475349  78.786438   \n",
       "2020-10-23  38.768158  37.433922  43.069229  55.284237  64.910019  61.783775   \n",
       "2020-10-24  35.955681   34.89529  41.113304  53.730179  56.537201  53.540691   \n",
       "2020-10-25  34.928745  32.301823  40.969509  52.418289  60.859768   57.26767   \n",
       "\n",
       "                  h21        h22        h23  \n",
       "datetime                                     \n",
       "2020-10-19  42.357723  38.291229  32.551617  \n",
       "2020-10-20  47.039566  40.393246   35.27372  \n",
       "2020-10-21  45.129234  40.994377  34.697605  \n",
       "2020-10-22  57.664375  49.783211  43.657703  \n",
       "2020-10-23  47.823353  41.976871  34.460678  \n",
       "2020-10-24  44.419353  40.733818  35.893784  \n",
       "2020-10-25  45.392155  41.461609  36.361919  \n",
       "\n",
       "[7 rows x 24 columns]"
      ]
     },
     "execution_count": 13,
     "metadata": {},
     "output_type": "execute_result"
    }
   ],
   "source": [
    "# Number of layers in DNN\n",
    "nlayers = 2\n",
    "\n",
    "# data to study\n",
    "dataset = 'auctionData_final'\n",
    "\n",
    "# 1 year is considered as 364 days (52 weeks)\n",
    "# years_test = 1\n",
    "\n",
    "# Optional parameters for selecting the test dataset\n",
    "begin_test_date = '2020-10-19'\n",
    "end_test_date = '2020-10-25'\n",
    "\n",
    "# for recalibration the validation and the training datasets are always shuffled\n",
    "shuffle_train = 1\n",
    "\n",
    "# Boolean that selects whether a data augmentation technique for DNNs is used\n",
    "data_augmentation = 0\n",
    "\n",
    "# Boolean that selects whether we start a new recalibration or we restart an existing one\n",
    "new_recalibration = 1\n",
    "\n",
    "# Number of years used in the training dataset for recalibration\n",
    "calibration_window = 1\n",
    "\n",
    "# Unique identifier to read the trials file of hyperparameter optimization\n",
    "experiment_id = 4\n",
    "\n",
    "# Set up the paths for saving data (this are the defaults for the library)\n",
    "# path_datasets_folder = os.path.join('.', 'datasets')\n",
    "# path_recalibration_folder = os.path.join('.', 'experimental_files')\n",
    "# path_hyperparameter_folder = os.path.join('.', 'experimental_files')\n",
    "\n",
    "evaluate_dnn_in_test_dataset(experiment_id,\n",
    "                             path_hyperparameter_folder = 'hyperparameter_dnn/auc_October',\n",
    "                             path_datasets_folder = 'final datasets',\n",
    "                             shuffle_train = shuffle_train,\n",
    "                             path_recalibration_folder = 'forecast results/DNN/auc_October',\n",
    "                             nlayers = nlayers,\n",
    "                             dataset = dataset,\n",
    "                             #years_test = years_test,\n",
    "                             data_augmentation = data_augmentation,\n",
    "                             calibration_window = calibration_window,\n",
    "                             new_recalibration = new_recalibration,\n",
    "                             begin_test_date = begin_test_date,\n",
    "                             end_test_date = end_test_date)"
   ]
  },
  {
   "cell_type": "code",
   "execution_count": 14,
   "id": "2900b76a",
   "metadata": {
    "scrolled": true
   },
   "outputs": [
    {
     "name": "stdout",
     "output_type": "stream",
     "text": [
      "Test datasets: 2020-07-20 00:00:00 - 2020-07-26 23:00:00\n"
     ]
    },
    {
     "name": "stderr",
     "output_type": "stream",
     "text": [
      "C:\\Users\\35250\\AppData\\Roaming\\Python\\Python38\\site-packages\\tensorflow\\python\\keras\\optimizer_v2\\optimizer_v2.py:374: UserWarning: The `lr` argument is deprecated, use `learning_rate` instead.\n",
      "  warnings.warn(\n"
     ]
    },
    {
     "name": "stdout",
     "output_type": "stream",
     "text": [
      "2020-07-20 - sMAPE: 6.41%  |  MAE: 1.925\n"
     ]
    },
    {
     "name": "stderr",
     "output_type": "stream",
     "text": [
      "C:\\Users\\35250\\AppData\\Roaming\\Python\\Python38\\site-packages\\tensorflow\\python\\keras\\optimizer_v2\\optimizer_v2.py:374: UserWarning: The `lr` argument is deprecated, use `learning_rate` instead.\n",
      "  warnings.warn(\n"
     ]
    },
    {
     "name": "stdout",
     "output_type": "stream",
     "text": [
      "2020-07-21 - sMAPE: 6.14%  |  MAE: 1.893\n"
     ]
    },
    {
     "name": "stderr",
     "output_type": "stream",
     "text": [
      "C:\\Users\\35250\\AppData\\Roaming\\Python\\Python38\\site-packages\\tensorflow\\python\\keras\\optimizer_v2\\optimizer_v2.py:374: UserWarning: The `lr` argument is deprecated, use `learning_rate` instead.\n",
      "  warnings.warn(\n"
     ]
    },
    {
     "name": "stdout",
     "output_type": "stream",
     "text": [
      "2020-07-22 - sMAPE: 6.30%  |  MAE: 1.942\n"
     ]
    },
    {
     "name": "stderr",
     "output_type": "stream",
     "text": [
      "C:\\Users\\35250\\AppData\\Roaming\\Python\\Python38\\site-packages\\tensorflow\\python\\keras\\optimizer_v2\\optimizer_v2.py:374: UserWarning: The `lr` argument is deprecated, use `learning_rate` instead.\n",
      "  warnings.warn(\n"
     ]
    },
    {
     "name": "stdout",
     "output_type": "stream",
     "text": [
      "2020-07-23 - sMAPE: 7.55%  |  MAE: 2.340\n"
     ]
    },
    {
     "name": "stderr",
     "output_type": "stream",
     "text": [
      "C:\\Users\\35250\\AppData\\Roaming\\Python\\Python38\\site-packages\\tensorflow\\python\\keras\\optimizer_v2\\optimizer_v2.py:374: UserWarning: The `lr` argument is deprecated, use `learning_rate` instead.\n",
      "  warnings.warn(\n"
     ]
    },
    {
     "name": "stdout",
     "output_type": "stream",
     "text": [
      "2020-07-24 - sMAPE: 7.75%  |  MAE: 2.384\n"
     ]
    },
    {
     "name": "stderr",
     "output_type": "stream",
     "text": [
      "C:\\Users\\35250\\AppData\\Roaming\\Python\\Python38\\site-packages\\tensorflow\\python\\keras\\optimizer_v2\\optimizer_v2.py:374: UserWarning: The `lr` argument is deprecated, use `learning_rate` instead.\n",
      "  warnings.warn(\n"
     ]
    },
    {
     "name": "stdout",
     "output_type": "stream",
     "text": [
      "2020-07-25 - sMAPE: 10.03%  |  MAE: 2.826\n"
     ]
    },
    {
     "name": "stderr",
     "output_type": "stream",
     "text": [
      "C:\\Users\\35250\\AppData\\Roaming\\Python\\Python38\\site-packages\\tensorflow\\python\\keras\\optimizer_v2\\optimizer_v2.py:374: UserWarning: The `lr` argument is deprecated, use `learning_rate` instead.\n",
      "  warnings.warn(\n"
     ]
    },
    {
     "name": "stdout",
     "output_type": "stream",
     "text": [
      "2020-07-26 - sMAPE: 11.95%  |  MAE: 3.173\n"
     ]
    },
    {
     "data": {
      "text/html": [
       "<div>\n",
       "<style scoped>\n",
       "    .dataframe tbody tr th:only-of-type {\n",
       "        vertical-align: middle;\n",
       "    }\n",
       "\n",
       "    .dataframe tbody tr th {\n",
       "        vertical-align: top;\n",
       "    }\n",
       "\n",
       "    .dataframe thead th {\n",
       "        text-align: right;\n",
       "    }\n",
       "</style>\n",
       "<table border=\"1\" class=\"dataframe\">\n",
       "  <thead>\n",
       "    <tr style=\"text-align: right;\">\n",
       "      <th></th>\n",
       "      <th>h0</th>\n",
       "      <th>h1</th>\n",
       "      <th>h2</th>\n",
       "      <th>h3</th>\n",
       "      <th>h4</th>\n",
       "      <th>h5</th>\n",
       "      <th>h6</th>\n",
       "      <th>h7</th>\n",
       "      <th>h8</th>\n",
       "      <th>h9</th>\n",
       "      <th>...</th>\n",
       "      <th>h14</th>\n",
       "      <th>h15</th>\n",
       "      <th>h16</th>\n",
       "      <th>h17</th>\n",
       "      <th>h18</th>\n",
       "      <th>h19</th>\n",
       "      <th>h20</th>\n",
       "      <th>h21</th>\n",
       "      <th>h22</th>\n",
       "      <th>h23</th>\n",
       "    </tr>\n",
       "    <tr>\n",
       "      <th>datetime</th>\n",
       "      <th></th>\n",
       "      <th></th>\n",
       "      <th></th>\n",
       "      <th></th>\n",
       "      <th></th>\n",
       "      <th></th>\n",
       "      <th></th>\n",
       "      <th></th>\n",
       "      <th></th>\n",
       "      <th></th>\n",
       "      <th></th>\n",
       "      <th></th>\n",
       "      <th></th>\n",
       "      <th></th>\n",
       "      <th></th>\n",
       "      <th></th>\n",
       "      <th></th>\n",
       "      <th></th>\n",
       "      <th></th>\n",
       "      <th></th>\n",
       "      <th></th>\n",
       "    </tr>\n",
       "  </thead>\n",
       "  <tbody>\n",
       "    <tr>\n",
       "      <th>2020-07-20</th>\n",
       "      <td>30.926126</td>\n",
       "      <td>26.063791</td>\n",
       "      <td>25.054836</td>\n",
       "      <td>24.89164</td>\n",
       "      <td>24.407919</td>\n",
       "      <td>24.831919</td>\n",
       "      <td>28.801445</td>\n",
       "      <td>34.54882</td>\n",
       "      <td>34.520882</td>\n",
       "      <td>35.896141</td>\n",
       "      <td>...</td>\n",
       "      <td>31.100582</td>\n",
       "      <td>28.754889</td>\n",
       "      <td>29.951002</td>\n",
       "      <td>33.817722</td>\n",
       "      <td>37.24688</td>\n",
       "      <td>41.41906</td>\n",
       "      <td>40.343784</td>\n",
       "      <td>37.685406</td>\n",
       "      <td>35.289703</td>\n",
       "      <td>30.684479</td>\n",
       "    </tr>\n",
       "    <tr>\n",
       "      <th>2020-07-21</th>\n",
       "      <td>31.204704</td>\n",
       "      <td>26.782925</td>\n",
       "      <td>24.612728</td>\n",
       "      <td>24.377253</td>\n",
       "      <td>23.281422</td>\n",
       "      <td>24.404207</td>\n",
       "      <td>28.965979</td>\n",
       "      <td>33.672543</td>\n",
       "      <td>34.021103</td>\n",
       "      <td>36.433224</td>\n",
       "      <td>...</td>\n",
       "      <td>29.379196</td>\n",
       "      <td>28.061543</td>\n",
       "      <td>26.822882</td>\n",
       "      <td>31.044113</td>\n",
       "      <td>36.403633</td>\n",
       "      <td>42.096092</td>\n",
       "      <td>40.399498</td>\n",
       "      <td>35.980633</td>\n",
       "      <td>34.20863</td>\n",
       "      <td>30.19577</td>\n",
       "    </tr>\n",
       "    <tr>\n",
       "      <th>2020-07-22</th>\n",
       "      <td>32.18869</td>\n",
       "      <td>28.145369</td>\n",
       "      <td>27.127453</td>\n",
       "      <td>25.955767</td>\n",
       "      <td>25.597851</td>\n",
       "      <td>25.864456</td>\n",
       "      <td>30.035303</td>\n",
       "      <td>35.656944</td>\n",
       "      <td>35.986908</td>\n",
       "      <td>38.072208</td>\n",
       "      <td>...</td>\n",
       "      <td>30.737579</td>\n",
       "      <td>28.500135</td>\n",
       "      <td>28.992168</td>\n",
       "      <td>33.471428</td>\n",
       "      <td>37.186039</td>\n",
       "      <td>41.044682</td>\n",
       "      <td>39.201817</td>\n",
       "      <td>36.091003</td>\n",
       "      <td>33.650421</td>\n",
       "      <td>29.573467</td>\n",
       "    </tr>\n",
       "    <tr>\n",
       "      <th>2020-07-23</th>\n",
       "      <td>33.39093</td>\n",
       "      <td>28.592579</td>\n",
       "      <td>27.473339</td>\n",
       "      <td>26.298994</td>\n",
       "      <td>25.40189</td>\n",
       "      <td>25.77907</td>\n",
       "      <td>29.607384</td>\n",
       "      <td>33.700146</td>\n",
       "      <td>34.242603</td>\n",
       "      <td>37.565243</td>\n",
       "      <td>...</td>\n",
       "      <td>33.477398</td>\n",
       "      <td>31.125017</td>\n",
       "      <td>31.192595</td>\n",
       "      <td>35.136204</td>\n",
       "      <td>39.134953</td>\n",
       "      <td>42.292244</td>\n",
       "      <td>41.379734</td>\n",
       "      <td>38.608517</td>\n",
       "      <td>35.160194</td>\n",
       "      <td>30.469091</td>\n",
       "    </tr>\n",
       "    <tr>\n",
       "      <th>2020-07-24</th>\n",
       "      <td>32.923431</td>\n",
       "      <td>28.98148</td>\n",
       "      <td>27.44449</td>\n",
       "      <td>25.932264</td>\n",
       "      <td>24.044949</td>\n",
       "      <td>23.994162</td>\n",
       "      <td>26.562227</td>\n",
       "      <td>31.302893</td>\n",
       "      <td>32.539261</td>\n",
       "      <td>35.686684</td>\n",
       "      <td>...</td>\n",
       "      <td>27.938242</td>\n",
       "      <td>25.021137</td>\n",
       "      <td>26.088806</td>\n",
       "      <td>29.506811</td>\n",
       "      <td>35.634663</td>\n",
       "      <td>38.352016</td>\n",
       "      <td>36.966167</td>\n",
       "      <td>32.965969</td>\n",
       "      <td>31.317093</td>\n",
       "      <td>28.437061</td>\n",
       "    </tr>\n",
       "    <tr>\n",
       "      <th>2020-07-25</th>\n",
       "      <td>26.937565</td>\n",
       "      <td>19.122051</td>\n",
       "      <td>17.196636</td>\n",
       "      <td>15.471965</td>\n",
       "      <td>13.659214</td>\n",
       "      <td>13.705865</td>\n",
       "      <td>13.958032</td>\n",
       "      <td>18.078259</td>\n",
       "      <td>18.230036</td>\n",
       "      <td>21.794357</td>\n",
       "      <td>...</td>\n",
       "      <td>29.680708</td>\n",
       "      <td>27.178371</td>\n",
       "      <td>26.049534</td>\n",
       "      <td>34.411503</td>\n",
       "      <td>37.817982</td>\n",
       "      <td>40.944168</td>\n",
       "      <td>40.559795</td>\n",
       "      <td>39.869427</td>\n",
       "      <td>38.163334</td>\n",
       "      <td>34.359154</td>\n",
       "    </tr>\n",
       "    <tr>\n",
       "      <th>2020-07-26</th>\n",
       "      <td>36.851242</td>\n",
       "      <td>29.049253</td>\n",
       "      <td>26.484329</td>\n",
       "      <td>23.427036</td>\n",
       "      <td>22.039316</td>\n",
       "      <td>19.53355</td>\n",
       "      <td>17.901686</td>\n",
       "      <td>20.147858</td>\n",
       "      <td>19.332951</td>\n",
       "      <td>24.861132</td>\n",
       "      <td>...</td>\n",
       "      <td>28.035187</td>\n",
       "      <td>22.549055</td>\n",
       "      <td>22.093079</td>\n",
       "      <td>28.744177</td>\n",
       "      <td>33.813023</td>\n",
       "      <td>36.918381</td>\n",
       "      <td>38.157841</td>\n",
       "      <td>36.932243</td>\n",
       "      <td>35.894505</td>\n",
       "      <td>32.99094</td>\n",
       "    </tr>\n",
       "  </tbody>\n",
       "</table>\n",
       "<p>7 rows × 24 columns</p>\n",
       "</div>"
      ],
      "text/plain": [
       "                   h0         h1         h2         h3         h4         h5  \\\n",
       "datetime                                                                       \n",
       "2020-07-20  30.926126  26.063791  25.054836   24.89164  24.407919  24.831919   \n",
       "2020-07-21  31.204704  26.782925  24.612728  24.377253  23.281422  24.404207   \n",
       "2020-07-22   32.18869  28.145369  27.127453  25.955767  25.597851  25.864456   \n",
       "2020-07-23   33.39093  28.592579  27.473339  26.298994   25.40189   25.77907   \n",
       "2020-07-24  32.923431   28.98148   27.44449  25.932264  24.044949  23.994162   \n",
       "2020-07-25  26.937565  19.122051  17.196636  15.471965  13.659214  13.705865   \n",
       "2020-07-26  36.851242  29.049253  26.484329  23.427036  22.039316   19.53355   \n",
       "\n",
       "                   h6         h7         h8         h9  ...        h14  \\\n",
       "datetime                                                ...              \n",
       "2020-07-20  28.801445   34.54882  34.520882  35.896141  ...  31.100582   \n",
       "2020-07-21  28.965979  33.672543  34.021103  36.433224  ...  29.379196   \n",
       "2020-07-22  30.035303  35.656944  35.986908  38.072208  ...  30.737579   \n",
       "2020-07-23  29.607384  33.700146  34.242603  37.565243  ...  33.477398   \n",
       "2020-07-24  26.562227  31.302893  32.539261  35.686684  ...  27.938242   \n",
       "2020-07-25  13.958032  18.078259  18.230036  21.794357  ...  29.680708   \n",
       "2020-07-26  17.901686  20.147858  19.332951  24.861132  ...  28.035187   \n",
       "\n",
       "                  h15        h16        h17        h18        h19        h20  \\\n",
       "datetime                                                                       \n",
       "2020-07-20  28.754889  29.951002  33.817722   37.24688   41.41906  40.343784   \n",
       "2020-07-21  28.061543  26.822882  31.044113  36.403633  42.096092  40.399498   \n",
       "2020-07-22  28.500135  28.992168  33.471428  37.186039  41.044682  39.201817   \n",
       "2020-07-23  31.125017  31.192595  35.136204  39.134953  42.292244  41.379734   \n",
       "2020-07-24  25.021137  26.088806  29.506811  35.634663  38.352016  36.966167   \n",
       "2020-07-25  27.178371  26.049534  34.411503  37.817982  40.944168  40.559795   \n",
       "2020-07-26  22.549055  22.093079  28.744177  33.813023  36.918381  38.157841   \n",
       "\n",
       "                  h21        h22        h23  \n",
       "datetime                                     \n",
       "2020-07-20  37.685406  35.289703  30.684479  \n",
       "2020-07-21  35.980633   34.20863   30.19577  \n",
       "2020-07-22  36.091003  33.650421  29.573467  \n",
       "2020-07-23  38.608517  35.160194  30.469091  \n",
       "2020-07-24  32.965969  31.317093  28.437061  \n",
       "2020-07-25  39.869427  38.163334  34.359154  \n",
       "2020-07-26  36.932243  35.894505   32.99094  \n",
       "\n",
       "[7 rows x 24 columns]"
      ]
     },
     "execution_count": 14,
     "metadata": {},
     "output_type": "execute_result"
    }
   ],
   "source": [
    "# Number of layers in DNN\n",
    "nlayers = 2\n",
    "\n",
    "# data to study\n",
    "dataset = 'auctionData_final'\n",
    "\n",
    "# 1 year is considered as 364 days (52 weeks)\n",
    "# years_test = 1\n",
    "\n",
    "# Optional parameters for selecting the test dataset\n",
    "begin_test_date = '2020-07-20'\n",
    "end_test_date = '2020-07-26'\n",
    "\n",
    "# for recalibration the validation and the training datasets are always shuffled\n",
    "shuffle_train = 1\n",
    "\n",
    "# Boolean that selects whether a data augmentation technique for DNNs is used\n",
    "data_augmentation = 0\n",
    "\n",
    "# Boolean that selects whether we start a new recalibration or we restart an existing one\n",
    "new_recalibration = 1\n",
    "\n",
    "# Number of years used in the training dataset for recalibration\n",
    "calibration_window = 1\n",
    "\n",
    "# Unique identifier to read the trials file of hyperparameter optimization\n",
    "experiment_id = 4\n",
    "\n",
    "# Set up the paths for saving data (this are the defaults for the library)\n",
    "# path_datasets_folder = os.path.join('.', 'datasets')\n",
    "# path_recalibration_folder = os.path.join('.', 'experimental_files')\n",
    "# path_hyperparameter_folder = os.path.join('.', 'experimental_files')\n",
    "\n",
    "evaluate_dnn_in_test_dataset(experiment_id,\n",
    "                             path_hyperparameter_folder = 'hyperparameter_dnn/auc_July',\n",
    "                             path_datasets_folder = 'final datasets',\n",
    "                             shuffle_train = shuffle_train,\n",
    "                             path_recalibration_folder = 'forecast results/DNN/auc_July',\n",
    "                             nlayers = nlayers,\n",
    "                             dataset = dataset,\n",
    "                             #years_test = years_test,\n",
    "                             data_augmentation = data_augmentation,\n",
    "                             calibration_window = calibration_window,\n",
    "                             new_recalibration = new_recalibration,\n",
    "                             begin_test_date = begin_test_date,\n",
    "                             end_test_date = end_test_date)"
   ]
  },
  {
   "cell_type": "code",
   "execution_count": null,
   "id": "43defd57",
   "metadata": {},
   "outputs": [],
   "source": []
  }
 ],
 "metadata": {
  "kernelspec": {
   "display_name": "Python 3",
   "language": "python",
   "name": "python3"
  },
  "language_info": {
   "codemirror_mode": {
    "name": "ipython",
    "version": 3
   },
   "file_extension": ".py",
   "mimetype": "text/x-python",
   "name": "python",
   "nbconvert_exporter": "python",
   "pygments_lexer": "ipython3",
   "version": "3.8.8"
  }
 },
 "nbformat": 4,
 "nbformat_minor": 5
}

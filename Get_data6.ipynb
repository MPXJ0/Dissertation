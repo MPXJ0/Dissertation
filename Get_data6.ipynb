{
 "cells": [
  {
   "cell_type": "code",
   "execution_count": 1,
   "id": "08d377e0",
   "metadata": {},
   "outputs": [],
   "source": [
    "import pandas as pd\n",
    "from ElexonDataPortal import api\n",
    "client = api.Client('kk73d4dvvfdgjd5')"
   ]
  },
  {
   "cell_type": "markdown",
   "id": "ccc2081c",
   "metadata": {},
   "source": [
    "2021"
   ]
  },
  {
   "cell_type": "code",
   "execution_count": 2,
   "id": "dab576ea",
   "metadata": {},
   "outputs": [
    {
     "name": "stderr",
     "output_type": "stream",
     "text": [
      "B1630: 100%|██████████| 5758/5758 [19:26<00:00,  4.94it/s]  \n"
     ]
    }
   ],
   "source": [
    "# Actual Wind and Solar Generation of 2021\n",
    "start_date = '2021-01-01'\n",
    "end_date = '2021-05-01'\n",
    "AWS21 = client.get_B1630(start_date, end_date)"
   ]
  },
  {
   "cell_type": "code",
   "execution_count": 3,
   "id": "2a0a503a",
   "metadata": {},
   "outputs": [],
   "source": [
    "# save file\n",
    "AS21 = AWS21[AWS21['powerSystemResourceType']=='\"Solar\"'][['local_datetime','settlementPeriod','quantity']].reset_index(drop=True)\n",
    "AWO21 = AWS21[AWS21['powerSystemResourceType']=='\"Wind Offshore\"'][['local_datetime','settlementPeriod','quantity']].reset_index(drop=True)\n",
    "AWN21 = AWS21[AWS21['powerSystemResourceType']=='\"Wind Onshore\"'][['local_datetime','settlementPeriod','quantity']].reset_index(drop=True)\n",
    "\n",
    "AS21.to_csv('Actual_Solar_Generation_2021.csv',index=False)\n",
    "AWO21.to_csv('Actual_Wind_Offshore_Generation_2021.csv',index=False)\n",
    "AWN21.to_csv('Actual_Wind_Onshore_Generation_2021.csv',index=False)"
   ]
  },
  {
   "cell_type": "markdown",
   "id": "92940883",
   "metadata": {},
   "source": [
    "2020"
   ]
  },
  {
   "cell_type": "code",
   "execution_count": 2,
   "id": "2acd77cb",
   "metadata": {},
   "outputs": [
    {
     "name": "stderr",
     "output_type": "stream",
     "text": [
      "B1630:  12%|█▏        | 2102/17568 [04:09<26:20,  9.78it/s]  C:\\Users\\35250\\anaconda3\\lib\\site-packages\\ElexonDataPortal\\dev\\utils.py:29: UserWarning: Data request was succesful but no content was returned\n",
      "  warn(f'Data request was succesful but no content was returned')\n",
      "B1630: 100%|██████████| 17568/17568 [38:50<00:00,  7.54it/s]  \n"
     ]
    }
   ],
   "source": [
    "# Actual Wind and Solar Generation of 2020\n",
    "start_date = '2020-01-01'\n",
    "end_date = '2021-01-01'\n",
    "AWS20 = client.get_B1630(start_date, end_date)"
   ]
  },
  {
   "cell_type": "code",
   "execution_count": 3,
   "id": "e1e15eb3",
   "metadata": {},
   "outputs": [],
   "source": [
    "# save file\n",
    "AS20 = AWS20[AWS20['powerSystemResourceType']=='\"Solar\"'][['local_datetime','settlementPeriod','quantity']].reset_index(drop=True)\n",
    "AWO20 = AWS20[AWS20['powerSystemResourceType']=='\"Wind Offshore\"'][['local_datetime','settlementPeriod','quantity']].reset_index(drop=True)\n",
    "AWN20 = AWS20[AWS20['powerSystemResourceType']=='\"Wind Onshore\"'][['local_datetime','settlementPeriod','quantity']].reset_index(drop=True)\n",
    "\n",
    "AS20.to_csv('Actual_Solar_Generation_2020.csv',index=False)\n",
    "AWO20.to_csv('Actual_Wind_Offshore_Generation_2020.csv',index=False)\n",
    "AWN20.to_csv('Actual_Wind_Onshore_Generation_2020.csv',index=False)"
   ]
  },
  {
   "cell_type": "markdown",
   "id": "8741b895",
   "metadata": {},
   "source": [
    "2019"
   ]
  },
  {
   "cell_type": "code",
   "execution_count": 2,
   "id": "80f0cfdb",
   "metadata": {},
   "outputs": [
    {
     "name": "stderr",
     "output_type": "stream",
     "text": [
      "B1780:  95%|█████████▌| 16669/17520 [32:06<01:33,  9.10it/s]  C:\\Users\\35250\\anaconda3\\lib\\site-packages\\ElexonDataPortal\\dev\\utils.py:29: UserWarning: Data request was succesful but no content was returned\n",
      "  warn(f'Data request was succesful but no content was returned')\n",
      "B1780: 100%|██████████| 17520/17520 [33:35<00:00,  8.69it/s]\n"
     ]
    }
   ],
   "source": [
    "# Imbalance Volume of 2019\n",
    "start_date = '2019-01-01'\n",
    "end_date = '2020-01-01'\n",
    "IV19 = client.get_B1780(start_date, end_date)"
   ]
  },
  {
   "cell_type": "code",
   "execution_count": 3,
   "id": "c8500cd5",
   "metadata": {},
   "outputs": [],
   "source": [
    "# save file\n",
    "df_IV19 = IV19[['local_datetime','settlementPeriod','imbalanceQuantityMAW']]\n",
    "df_IV19.to_csv('Imbalance_Volume_2019.csv',index=False)"
   ]
  },
  {
   "cell_type": "markdown",
   "id": "f07b8355",
   "metadata": {},
   "source": [
    "2018"
   ]
  },
  {
   "cell_type": "code",
   "execution_count": 2,
   "id": "fe6ef647",
   "metadata": {},
   "outputs": [
    {
     "name": "stderr",
     "output_type": "stream",
     "text": [
      "B1780: 100%|██████████| 17520/17520 [34:56<00:00,  8.36it/s]  \n"
     ]
    }
   ],
   "source": [
    "# Imbalance Volume of 2018\n",
    "start_date = '2018-01-01'\n",
    "end_date = '2019-01-01'\n",
    "IV18 = client.get_B1780(start_date, end_date)"
   ]
  },
  {
   "cell_type": "code",
   "execution_count": 3,
   "id": "c687ae60",
   "metadata": {},
   "outputs": [],
   "source": [
    "# save file\n",
    "df_IV18 = IV18[['local_datetime','settlementPeriod','imbalanceQuantityMAW']]\n",
    "df_IV18.to_csv('Imbalance_Volume_2018.csv',index=False)"
   ]
  },
  {
   "cell_type": "markdown",
   "id": "dc2cde14",
   "metadata": {},
   "source": [
    "2017"
   ]
  },
  {
   "cell_type": "code",
   "execution_count": 2,
   "id": "b5d7201b",
   "metadata": {},
   "outputs": [
    {
     "name": "stderr",
     "output_type": "stream",
     "text": [
      "B1780: 100%|██████████| 17520/17520 [33:46<00:00,  8.64it/s] \n"
     ]
    }
   ],
   "source": [
    "# Imbalance Volume of 2017\n",
    "start_date = '2017-01-01'\n",
    "end_date = '2018-01-01'\n",
    "IV17 = client.get_B1780(start_date, end_date)"
   ]
  },
  {
   "cell_type": "code",
   "execution_count": 3,
   "id": "8dde3bf6",
   "metadata": {},
   "outputs": [],
   "source": [
    "# save file\n",
    "df_IV17 = IV17[['local_datetime','settlementPeriod','imbalanceQuantityMAW']]\n",
    "df_IV17.to_csv('Imbalance_Volume_2017.csv',index=False)"
   ]
  },
  {
   "cell_type": "markdown",
   "id": "7b7ec13f",
   "metadata": {},
   "source": [
    "2016"
   ]
  },
  {
   "cell_type": "code",
   "execution_count": 4,
   "id": "707b034e",
   "metadata": {},
   "outputs": [
    {
     "name": "stderr",
     "output_type": "stream",
     "text": [
      "B1780: 100%|██████████| 17568/17568 [33:31<00:00,  8.73it/s]  \n"
     ]
    }
   ],
   "source": [
    "# Imbalance Volume of 2016\n",
    "start_date = '2016-01-01'\n",
    "end_date = '2017-01-01'\n",
    "IV16 = client.get_B1780(start_date, end_date)"
   ]
  },
  {
   "cell_type": "code",
   "execution_count": 5,
   "id": "72b16993",
   "metadata": {},
   "outputs": [],
   "source": [
    "# save file\n",
    "df_IV16 = IV16[['local_datetime','settlementPeriod','imbalanceQuantityMAW']]\n",
    "df_IV16.to_csv('Imbalance_Volume_2016.csv',index=False)"
   ]
  }
 ],
 "metadata": {
  "kernelspec": {
   "display_name": "Python 3",
   "language": "python",
   "name": "python3"
  },
  "language_info": {
   "codemirror_mode": {
    "name": "ipython",
    "version": 3
   },
   "file_extension": ".py",
   "mimetype": "text/x-python",
   "name": "python",
   "nbconvert_exporter": "python",
   "pygments_lexer": "ipython3",
   "version": "3.8.8"
  }
 },
 "nbformat": 4,
 "nbformat_minor": 5
}

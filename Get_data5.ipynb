{
 "cells": [
  {
   "cell_type": "code",
   "execution_count": 1,
   "id": "8d7ca8ac",
   "metadata": {},
   "outputs": [],
   "source": [
    "import pandas as pd\n",
    "from ElexonDataPortal import api\n",
    "client = api.Client('kk73d4dvvfdgjd5')"
   ]
  },
  {
   "cell_type": "markdown",
   "id": "65fb73d4",
   "metadata": {},
   "source": [
    "2021"
   ]
  },
  {
   "cell_type": "code",
   "execution_count": 2,
   "id": "919c4ef1",
   "metadata": {},
   "outputs": [
    {
     "name": "stderr",
     "output_type": "stream",
     "text": [
      "B1440:  99%|█████████▉| 5712/5758 [20:36<00:14,  3.14it/s]  C:\\Users\\35250\\anaconda3\\lib\\site-packages\\ElexonDataPortal\\dev\\utils.py:29: UserWarning: Data request was succesful but no content was returned\n",
      "  warn(f'Data request was succesful but no content was returned')\n",
      "B1440: 100%|██████████| 5758/5758 [20:49<00:00,  4.61it/s]\n"
     ]
    }
   ],
   "source": [
    "# Wind and Solar Generation Forecast of 2021\n",
    "start_date = '2021-01-01'\n",
    "end_date = '2021-05-01'\n",
    "WSF21 = client.get_B1440(start_date, end_date)"
   ]
  },
  {
   "cell_type": "code",
   "execution_count": 3,
   "id": "2f642295",
   "metadata": {},
   "outputs": [],
   "source": [
    "# save file\n",
    "df1 = WSF21[WSF21['processType']=='Day Ahead']\n",
    "SF21 = df1[df1['powerSystemResourceType']=='\"Solar\"'][['local_datetime','settlementPeriod','quantity']].reset_index(drop=True)\n",
    "WOF21 = df1[df1['powerSystemResourceType']=='\"Wind Offshore\"'][['local_datetime','settlementPeriod','quantity']].reset_index(drop=True)\n",
    "WNF21 = df1[df1['powerSystemResourceType']=='\"Wind Onshore\"'][['local_datetime','settlementPeriod','quantity']].reset_index(drop=True)\n",
    "\n",
    "SF21.to_csv('DA_Solar_Generation_Forecast_2021.csv',index=False)\n",
    "WOF21.to_csv('DA_Wind_Offshore_Generation_Forecast_2021.csv',index=False)\n",
    "WNF21.to_csv('DA_Wind_Onshore_Generation_Forecast_2021.csv',index=False)"
   ]
  },
  {
   "cell_type": "markdown",
   "id": "1e90d45a",
   "metadata": {},
   "source": [
    "2020"
   ]
  },
  {
   "cell_type": "code",
   "execution_count": 2,
   "id": "813ca0cd",
   "metadata": {},
   "outputs": [
    {
     "name": "stderr",
     "output_type": "stream",
     "text": [
      "B1440: 100%|██████████| 17568/17568 [44:24<00:00,  6.59it/s]  \n"
     ]
    }
   ],
   "source": [
    "# Wind and Solar Generation Forecast of 2020\n",
    "start_date = '2020-01-01'\n",
    "end_date = '2021-01-01'\n",
    "WSF20 = client.get_B1440(start_date, end_date)"
   ]
  },
  {
   "cell_type": "code",
   "execution_count": 3,
   "id": "31350cfc",
   "metadata": {},
   "outputs": [],
   "source": [
    "# save file\n",
    "df1 = WSF20[WSF20['processType']=='Day Ahead']\n",
    "SF20 = df1[df1['powerSystemResourceType']=='\"Solar\"'][['local_datetime','settlementPeriod','quantity']].reset_index(drop=True)\n",
    "WOF20 = df1[df1['powerSystemResourceType']=='\"Wind Offshore\"'][['local_datetime','settlementPeriod','quantity']].reset_index(drop=True)\n",
    "WNF20 = df1[df1['powerSystemResourceType']=='\"Wind Onshore\"'][['local_datetime','settlementPeriod','quantity']].reset_index(drop=True)\n",
    "\n",
    "SF20.to_csv('DA_Solar_Generation_Forecast_2020.csv',index=False)\n",
    "WOF20.to_csv('DA_Wind_Offshore_Generation_Forecast_2020.csv',index=False)\n",
    "WNF20.to_csv('DA_Wind_Onshore_Generation_Forecast_2020.csv',index=False)"
   ]
  },
  {
   "cell_type": "markdown",
   "id": "d9edd773",
   "metadata": {},
   "source": [
    "2019"
   ]
  },
  {
   "cell_type": "code",
   "execution_count": 2,
   "id": "9b02e6bf",
   "metadata": {},
   "outputs": [
    {
     "name": "stderr",
     "output_type": "stream",
     "text": [
      "B1440: 100%|██████████| 17520/17520 [47:15<00:00,  6.18it/s] \n"
     ]
    }
   ],
   "source": [
    "# Wind and Solar Generation Forecast of 2019\n",
    "start_date = '2019-01-01'\n",
    "end_date = '2020-01-01'\n",
    "WSF19 = client.get_B1440(start_date, end_date)"
   ]
  },
  {
   "cell_type": "code",
   "execution_count": 3,
   "id": "249caf5f",
   "metadata": {},
   "outputs": [],
   "source": [
    "# save file\n",
    "df1 = WSF19[WSF19['processType']=='Day Ahead']\n",
    "SF19 = df1[df1['powerSystemResourceType']=='\"Solar\"'][['local_datetime','settlementPeriod','quantity']].reset_index(drop=True)\n",
    "WOF19 = df1[df1['powerSystemResourceType']=='\"Wind Offshore\"'][['local_datetime','settlementPeriod','quantity']].reset_index(drop=True)\n",
    "WNF19 = df1[df1['powerSystemResourceType']=='\"Wind Onshore\"'][['local_datetime','settlementPeriod','quantity']].reset_index(drop=True)\n",
    "\n",
    "SF19.to_csv('DA_Solar_Generation_Forecast_2019.csv',index=False)\n",
    "WOF19.to_csv('DA_Wind_Offshore_Generation_Forecast_2019.csv',index=False)\n",
    "WNF19.to_csv('DA_Wind_Onshore_Generation_Forecast_2019.csv',index=False)"
   ]
  },
  {
   "cell_type": "markdown",
   "id": "852d46f9",
   "metadata": {},
   "source": [
    "2018"
   ]
  },
  {
   "cell_type": "code",
   "execution_count": 2,
   "id": "54b62c43",
   "metadata": {},
   "outputs": [
    {
     "name": "stderr",
     "output_type": "stream",
     "text": [
      "B1440: 100%|██████████| 17520/17520 [37:47<00:00,  7.73it/s]  \n"
     ]
    }
   ],
   "source": [
    "# Wind and Solar Generation Forecast of 2018\n",
    "start_date = '2018-01-01'\n",
    "end_date = '2019-01-01'\n",
    "WSF18 = client.get_B1440(start_date, end_date)"
   ]
  },
  {
   "cell_type": "code",
   "execution_count": 3,
   "id": "55f37024",
   "metadata": {},
   "outputs": [],
   "source": [
    "# save file\n",
    "df1 = WSF18[WSF18['processType']=='Day Ahead']\n",
    "SF18 = df1[df1['powerSystemResourceType']=='\"Solar\"'][['local_datetime','settlementPeriod','quantity']].reset_index(drop=True)\n",
    "WOF18 = df1[df1['powerSystemResourceType']=='\"Wind Offshore\"'][['local_datetime','settlementPeriod','quantity']].reset_index(drop=True)\n",
    "WNF18 = df1[df1['powerSystemResourceType']=='\"Wind Onshore\"'][['local_datetime','settlementPeriod','quantity']].reset_index(drop=True)\n",
    "\n",
    "SF18.to_csv('DA_Solar_Generation_Forecast_2018.csv',index=False)\n",
    "WOF18.to_csv('DA_Wind_Offshore_Generation_Forecast_2018.csv',index=False)\n",
    "WNF18.to_csv('DA_Wind_Onshore_Generation_Forecast_2018.csv',index=False)"
   ]
  },
  {
   "cell_type": "markdown",
   "id": "c314069a",
   "metadata": {},
   "source": [
    "2019"
   ]
  },
  {
   "cell_type": "code",
   "execution_count": 2,
   "id": "656bac94",
   "metadata": {},
   "outputs": [
    {
     "name": "stderr",
     "output_type": "stream",
     "text": [
      "B1630:  44%|████▍     | 7766/17520 [15:31<39:52,  4.08it/s]  C:\\Users\\35250\\anaconda3\\lib\\site-packages\\ElexonDataPortal\\dev\\utils.py:29: UserWarning: Data request was succesful but no content was returned\n",
      "  warn(f'Data request was succesful but no content was returned')\n",
      "B1630: 100%|██████████| 17520/17520 [38:06<00:00,  7.66it/s]  \n"
     ]
    }
   ],
   "source": [
    "# Actual Wind and Solar Generation of 2019\n",
    "start_date = '2019-01-01'\n",
    "end_date = '2020-01-01'\n",
    "df = client.get_B1630(start_date, end_date)"
   ]
  },
  {
   "cell_type": "code",
   "execution_count": 3,
   "id": "7b680da5",
   "metadata": {},
   "outputs": [],
   "source": [
    "# save file\n",
    "AS19 = df[df['powerSystemResourceType']=='\"Solar\"'][['local_datetime','settlementPeriod','quantity']].reset_index(drop=True)\n",
    "AWO19 = df[df['powerSystemResourceType']=='\"Wind Offshore\"'][['local_datetime','settlementPeriod','quantity']].reset_index(drop=True)\n",
    "AWN19 = df[df['powerSystemResourceType']=='\"Wind Onshore\"'][['local_datetime','settlementPeriod','quantity']].reset_index(drop=True)\n",
    "\n",
    "AS19.to_csv('Actual_Solar_Generation_2019.csv',index=False)\n",
    "AWO19.to_csv('Actual_Wind_Offshore_Generation_2019.csv',index=False)\n",
    "AWN19.to_csv('Actual_Wind_Onshore_Generation_2019.csv',index=False)"
   ]
  },
  {
   "cell_type": "markdown",
   "id": "4ba6e95a",
   "metadata": {},
   "source": [
    "2018"
   ]
  },
  {
   "cell_type": "code",
   "execution_count": 2,
   "id": "2339f0c6",
   "metadata": {},
   "outputs": [
    {
     "name": "stderr",
     "output_type": "stream",
     "text": [
      "B1630:   1%|▏         | 256/17520 [00:30<27:21, 10.52it/s] C:\\Users\\35250\\anaconda3\\lib\\site-packages\\ElexonDataPortal\\dev\\utils.py:29: UserWarning: Data request was succesful but no content was returned\n",
      "  warn(f'Data request was succesful but no content was returned')\n",
      "B1630: 100%|██████████| 17520/17520 [36:33<00:00,  7.99it/s]  \n"
     ]
    }
   ],
   "source": [
    "# Actual Wind and Solar Generation of 2018\n",
    "start_date = '2018-01-01'\n",
    "end_date = '2019-01-01'\n",
    "df = client.get_B1630(start_date, end_date)"
   ]
  },
  {
   "cell_type": "code",
   "execution_count": 4,
   "id": "a2a492b0",
   "metadata": {},
   "outputs": [],
   "source": [
    "# save file\n",
    "AS18 = df[df['powerSystemResourceType']=='\"Solar\"'][['local_datetime','settlementPeriod','quantity']].reset_index(drop=True)\n",
    "AWO18 = df[df['powerSystemResourceType']=='\"Wind Offshore\"'][['local_datetime','settlementPeriod','quantity']].reset_index(drop=True)\n",
    "AWN18 = df[df['powerSystemResourceType']=='\"Wind Onshore\"'][['local_datetime','settlementPeriod','quantity']].reset_index(drop=True)\n",
    "\n",
    "AS18.to_csv('Actual_Solar_Generation_2018.csv',index=False)\n",
    "AWO18.to_csv('Actual_Wind_Offshore_Generation_2018.csv',index=False)\n",
    "AWN18.to_csv('Actual_Wind_Onshore_Generation_2018.csv',index=False)"
   ]
  },
  {
   "cell_type": "markdown",
   "id": "4528a13a",
   "metadata": {},
   "source": [
    "2017"
   ]
  },
  {
   "cell_type": "code",
   "execution_count": 5,
   "id": "c8f388a0",
   "metadata": {},
   "outputs": [
    {
     "name": "stderr",
     "output_type": "stream",
     "text": [
      "B1630: 100%|██████████| 17520/17520 [37:01<00:00,  7.88it/s]  \n"
     ]
    }
   ],
   "source": [
    "# Actual Wind and Solar Generation of 2017\n",
    "start_date = '2017-01-01'\n",
    "end_date = '2018-01-01'\n",
    "df = client.get_B1630(start_date, end_date)"
   ]
  },
  {
   "cell_type": "code",
   "execution_count": 6,
   "id": "f792326f",
   "metadata": {},
   "outputs": [],
   "source": [
    "# save file\n",
    "AS17 = df[df['powerSystemResourceType']=='\"Solar\"'][['local_datetime','settlementPeriod','quantity']].reset_index(drop=True)\n",
    "AWO17 = df[df['powerSystemResourceType']=='\"Wind Offshore\"'][['local_datetime','settlementPeriod','quantity']].reset_index(drop=True)\n",
    "AWN17 = df[df['powerSystemResourceType']=='\"Wind Onshore\"'][['local_datetime','settlementPeriod','quantity']].reset_index(drop=True)\n",
    "\n",
    "AS17.to_csv('Actual_Solar_Generation_2017.csv',index=False)\n",
    "AWO17.to_csv('Actual_Wind_Offshore_Generation_2017.csv',index=False)\n",
    "AWN17.to_csv('Actual_Wind_Onshore_Generation_2017.csv',index=False)"
   ]
  },
  {
   "cell_type": "markdown",
   "id": "83330dbb",
   "metadata": {},
   "source": [
    "2016"
   ]
  },
  {
   "cell_type": "code",
   "execution_count": 2,
   "id": "2e2f77ad",
   "metadata": {},
   "outputs": [
    {
     "name": "stderr",
     "output_type": "stream",
     "text": [
      "B1630:   2%|▏         | 315/17568 [00:31<24:42, 11.63it/s] C:\\Users\\35250\\anaconda3\\lib\\site-packages\\ElexonDataPortal\\dev\\utils.py:29: UserWarning: Data request was succesful but no content was returned\n",
      "  warn(f'Data request was succesful but no content was returned')\n",
      "B1630: 100%|██████████| 17568/17568 [58:29<00:00,  5.01it/s]  \n"
     ]
    }
   ],
   "source": [
    "# Actual Wind and Solar Generation of 2016\n",
    "start_date = '2016-01-01'\n",
    "end_date = '2017-01-01'\n",
    "df = client.get_B1630(start_date, end_date)"
   ]
  },
  {
   "cell_type": "code",
   "execution_count": 3,
   "id": "698432dd",
   "metadata": {},
   "outputs": [],
   "source": [
    "# save file\n",
    "AS16 = df[df['powerSystemResourceType']=='\"Solar\"'][['local_datetime','settlementPeriod','quantity']].reset_index(drop=True)\n",
    "AWO16 = df[df['powerSystemResourceType']=='\"Wind Offshore\"'][['local_datetime','settlementPeriod','quantity']].reset_index(drop=True)\n",
    "AWN16 = df[df['powerSystemResourceType']=='\"Wind Onshore\"'][['local_datetime','settlementPeriod','quantity']].reset_index(drop=True)\n",
    "\n",
    "AS16.to_csv('Actual_Solar_Generation_2016.csv',index=False)\n",
    "AWO16.to_csv('Actual_Wind_Offshore_Generation_2016.csv',index=False)\n",
    "AWN16.to_csv('Actual_Wind_Onshore_Generation_2016.csv',index=False)"
   ]
  }
 ],
 "metadata": {
  "kernelspec": {
   "display_name": "Python 3",
   "language": "python",
   "name": "python3"
  },
  "language_info": {
   "codemirror_mode": {
    "name": "ipython",
    "version": 3
   },
   "file_extension": ".py",
   "mimetype": "text/x-python",
   "name": "python",
   "nbconvert_exporter": "python",
   "pygments_lexer": "ipython3",
   "version": "3.8.8"
  }
 },
 "nbformat": 4,
 "nbformat_minor": 5
}
